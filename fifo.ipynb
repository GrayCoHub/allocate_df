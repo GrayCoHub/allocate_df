{
 "cells": [
  {
   "cell_type": "code",
   "execution_count": null,
   "id": "e5e4ee87-9334-4ea5-907b-1616100473f9",
   "metadata": {},
   "outputs": [],
   "source": []
  },
  {
   "cell_type": "code",
   "execution_count": 1,
   "id": "e558b5cf-4ec6-4d01-b5ff-8a294aafee08",
   "metadata": {},
   "outputs": [
    {
     "data": {
      "text/html": [
       "<table class=\"dataframe\">\n",
       "<caption>A data.frame: 3 × 9</caption>\n",
       "<thead>\n",
       "\t<tr><th></th><th scope=col>date</th><th scope=col>type</th><th scope=col>co</th><th scope=col>quan</th><th scope=col>pps</th><th scope=col>basis</th><th scope=col>tally_q</th><th scope=col>tally_b</th><th scope=col>Sale</th></tr>\n",
       "\t<tr><th></th><th scope=col>&lt;date&gt;</th><th scope=col>&lt;chr&gt;</th><th scope=col>&lt;chr&gt;</th><th scope=col>&lt;int&gt;</th><th scope=col>&lt;dbl&gt;</th><th scope=col>&lt;dbl&gt;</th><th scope=col>&lt;int&gt;</th><th scope=col>&lt;dbl&gt;</th><th scope=col>&lt;int&gt;</th></tr>\n",
       "</thead>\n",
       "<tbody>\n",
       "\t<tr><th scope=row>1</th><td>2022-12-31</td><td>Owned</td><td>AMC</td><td>1050</td><td>4.070</td><td>4273.5</td><td>1050</td><td>4273.5</td><td>0</td></tr>\n",
       "\t<tr><th scope=row>2</th><td>2023-01-20</td><td>Buy  </td><td>AMC</td><td>1000</td><td>5.625</td><td>5625.0</td><td>2050</td><td>5625.0</td><td>0</td></tr>\n",
       "\t<tr><th scope=row>3</th><td>2023-01-23</td><td>Buy  </td><td>AMC</td><td>1000</td><td>5.788</td><td>5788.0</td><td>3050</td><td>5788.0</td><td>0</td></tr>\n",
       "</tbody>\n",
       "</table>\n"
      ],
      "text/latex": [
       "A data.frame: 3 × 9\n",
       "\\begin{tabular}{r|lllllllll}\n",
       "  & date & type & co & quan & pps & basis & tally\\_q & tally\\_b & Sale\\\\\n",
       "  & <date> & <chr> & <chr> & <int> & <dbl> & <dbl> & <int> & <dbl> & <int>\\\\\n",
       "\\hline\n",
       "\t1 & 2022-12-31 & Owned & AMC & 1050 & 4.070 & 4273.5 & 1050 & 4273.5 & 0\\\\\n",
       "\t2 & 2023-01-20 & Buy   & AMC & 1000 & 5.625 & 5625.0 & 2050 & 5625.0 & 0\\\\\n",
       "\t3 & 2023-01-23 & Buy   & AMC & 1000 & 5.788 & 5788.0 & 3050 & 5788.0 & 0\\\\\n",
       "\\end{tabular}\n"
      ],
      "text/markdown": [
       "\n",
       "A data.frame: 3 × 9\n",
       "\n",
       "| <!--/--> | date &lt;date&gt; | type &lt;chr&gt; | co &lt;chr&gt; | quan &lt;int&gt; | pps &lt;dbl&gt; | basis &lt;dbl&gt; | tally_q &lt;int&gt; | tally_b &lt;dbl&gt; | Sale &lt;int&gt; |\n",
       "|---|---|---|---|---|---|---|---|---|---|\n",
       "| 1 | 2022-12-31 | Owned | AMC | 1050 | 4.070 | 4273.5 | 1050 | 4273.5 | 0 |\n",
       "| 2 | 2023-01-20 | Buy   | AMC | 1000 | 5.625 | 5625.0 | 2050 | 5625.0 | 0 |\n",
       "| 3 | 2023-01-23 | Buy   | AMC | 1000 | 5.788 | 5788.0 | 3050 | 5788.0 | 0 |\n",
       "\n"
      ],
      "text/plain": [
       "  date       type  co  quan pps   basis  tally_q tally_b Sale\n",
       "1 2022-12-31 Owned AMC 1050 4.070 4273.5 1050    4273.5  0   \n",
       "2 2023-01-20 Buy   AMC 1000 5.625 5625.0 2050    5625.0  0   \n",
       "3 2023-01-23 Buy   AMC 1000 5.788 5788.0 3050    5788.0  0   "
      ]
     },
     "metadata": {},
     "output_type": "display_data"
    }
   ],
   "source": [
    "df <- read.csv(\"BuySell.csv\", header = TRUE, sep = \",\")\n",
    "df$quan <- as.integer(df$quan)\n",
    "df$tally_q <- as.integer(df$tally_q)\n",
    "df$date <- as.Date(df$date, origin = \"1899-12-30\")\n",
    "\n",
    "head(df,3)\n"
   ]
  },
  {
   "cell_type": "code",
   "execution_count": 2,
   "id": "4604fe23-cbaf-4f11-bd49-ec7618c6d28d",
   "metadata": {},
   "outputs": [],
   "source": [
    "# create seperate buy / sell dfs\n",
    "\n",
    "buys <- df[df$quan > 0, ]  # Filter buys\n",
    "sells <- df[df$quan < 0, ]  # Filter sells\n",
    "df_pl <- data.frame()"
   ]
  },
  {
   "cell_type": "code",
   "execution_count": 3,
   "id": "f4e726f6-2d65-442f-8ed3-93aaa1196f50",
   "metadata": {},
   "outputs": [
    {
     "name": "stdout",
     "output_type": "stream",
     "text": [
      "sell_qty :  1000 \n",
      "buy_qty :  1050 \n",
      "buy_basis : 4273.5 \n",
      "sell_basis : 5512.4 \n"
     ]
    }
   ],
   "source": [
    "# create vars\n",
    "buy_qty <- buys[1, 'quan']\n",
    "sell_qty <- abs(sells[1, 'quan'])\n",
    "\n",
    "buy_basis <- buys[1, 'basis']\n",
    "sell_basis <- abs(sells[1, 'basis'])\n",
    "\n",
    "\n",
    "# sell_quan_remainder <- buy_qty - abs(sell_qty)\n",
    "\n",
    "cat('sell_qty : ', sell_qty, \"\\n\")\n",
    "cat('buy_qty : ', buy_qty, \"\\n\")\n",
    "cat('buy_basis :', buy_basis, \"\\n\")\n",
    "cat('sell_basis :', sell_basis, \"\\n\")\n",
    "# cat('remainder :',sell_quan_remainder , \"\\n\")\n",
    "\n",
    "# zero out vars\n",
    "sells[1, 'tally_q'] <- 0\n",
    "sells[1, 'tally_b'] <- 0\n",
    "sells[1, 'Sale'] <- 0"
   ]
  },
  {
   "cell_type": "code",
   "execution_count": 4,
   "id": "d9af40a0-8382-4f11-9719-d084695b2929",
   "metadata": {},
   "outputs": [],
   "source": [
    "#  "
   ]
  },
  {
   "cell_type": "code",
   "execution_count": 5,
   "id": "9ef0a14c-ac81-498e-a9f9-3c85fff7e32f",
   "metadata": {},
   "outputs": [
    {
     "data": {
      "text/html": [
       "23"
      ],
      "text/latex": [
       "23"
      ],
      "text/markdown": [
       "23"
      ],
      "text/plain": [
       "[1] 23"
      ]
     },
     "metadata": {},
     "output_type": "display_data"
    }
   ],
   "source": [
    "# sell_quan_remainder <- buy_qty - abs(sell_qty)\n",
    "\n",
    "nrow(buys)"
   ]
  },
  {
   "cell_type": "code",
   "execution_count": null,
   "id": "5a0db73c-c9e3-4086-97ca-f427167d144c",
   "metadata": {},
   "outputs": [],
   "source": []
  },
  {
   "cell_type": "code",
   "execution_count": 6,
   "id": "49d5f61a-7ea4-4fc5-a1bb-419ed2fef18e",
   "metadata": {},
   "outputs": [
    {
     "data": {
      "text/html": [
       "<table class=\"dataframe\">\n",
       "<caption>A data.frame: 3 × 9</caption>\n",
       "<thead>\n",
       "\t<tr><th></th><th scope=col>date</th><th scope=col>type</th><th scope=col>co</th><th scope=col>quan</th><th scope=col>pps</th><th scope=col>basis</th><th scope=col>tally_q</th><th scope=col>tally_b</th><th scope=col>Sale</th></tr>\n",
       "\t<tr><th></th><th scope=col>&lt;date&gt;</th><th scope=col>&lt;chr&gt;</th><th scope=col>&lt;chr&gt;</th><th scope=col>&lt;int&gt;</th><th scope=col>&lt;dbl&gt;</th><th scope=col>&lt;dbl&gt;</th><th scope=col>&lt;int&gt;</th><th scope=col>&lt;dbl&gt;</th><th scope=col>&lt;int&gt;</th></tr>\n",
       "</thead>\n",
       "<tbody>\n",
       "\t<tr><th scope=row>5</th><td>2023-01-27</td><td>Sell</td><td>AMC</td><td>-1000</td><td>5.5124</td><td>-5512.40</td><td>4050</td><td>-5512.40</td><td>-1000</td></tr>\n",
       "\t<tr><th scope=row>6</th><td>2023-02-03</td><td>Sell</td><td>AMC</td><td>-1000</td><td>6.6826</td><td>-6682.55</td><td>3050</td><td>-6682.55</td><td>-1000</td></tr>\n",
       "\t<tr><th scope=row>7</th><td>2023-02-03</td><td>Sell</td><td>AMC</td><td>-1000</td><td>6.2550</td><td>-6255.00</td><td>2050</td><td>-6255.00</td><td>-1000</td></tr>\n",
       "</tbody>\n",
       "</table>\n"
      ],
      "text/latex": [
       "A data.frame: 3 × 9\n",
       "\\begin{tabular}{r|lllllllll}\n",
       "  & date & type & co & quan & pps & basis & tally\\_q & tally\\_b & Sale\\\\\n",
       "  & <date> & <chr> & <chr> & <int> & <dbl> & <dbl> & <int> & <dbl> & <int>\\\\\n",
       "\\hline\n",
       "\t5 & 2023-01-27 & Sell & AMC & -1000 & 5.5124 & -5512.40 & 4050 & -5512.40 & -1000\\\\\n",
       "\t6 & 2023-02-03 & Sell & AMC & -1000 & 6.6826 & -6682.55 & 3050 & -6682.55 & -1000\\\\\n",
       "\t7 & 2023-02-03 & Sell & AMC & -1000 & 6.2550 & -6255.00 & 2050 & -6255.00 & -1000\\\\\n",
       "\\end{tabular}\n"
      ],
      "text/markdown": [
       "\n",
       "A data.frame: 3 × 9\n",
       "\n",
       "| <!--/--> | date &lt;date&gt; | type &lt;chr&gt; | co &lt;chr&gt; | quan &lt;int&gt; | pps &lt;dbl&gt; | basis &lt;dbl&gt; | tally_q &lt;int&gt; | tally_b &lt;dbl&gt; | Sale &lt;int&gt; |\n",
       "|---|---|---|---|---|---|---|---|---|---|\n",
       "| 5 | 2023-01-27 | Sell | AMC | -1000 | 5.5124 | -5512.40 | 4050 | -5512.40 | -1000 |\n",
       "| 6 | 2023-02-03 | Sell | AMC | -1000 | 6.6826 | -6682.55 | 3050 | -6682.55 | -1000 |\n",
       "| 7 | 2023-02-03 | Sell | AMC | -1000 | 6.2550 | -6255.00 | 2050 | -6255.00 | -1000 |\n",
       "\n"
      ],
      "text/plain": [
       "  date       type co  quan  pps    basis    tally_q tally_b  Sale \n",
       "5 2023-01-27 Sell AMC -1000 5.5124 -5512.40 4050    -5512.40 -1000\n",
       "6 2023-02-03 Sell AMC -1000 6.6826 -6682.55 3050    -6682.55 -1000\n",
       "7 2023-02-03 Sell AMC -1000 6.2550 -6255.00 2050    -6255.00 -1000"
      ]
     },
     "metadata": {},
     "output_type": "display_data"
    }
   ],
   "source": [
    "\n",
    "buys <<- df[df$quan > 0, ]  # Filter buys\n",
    "sells <<- df[df$quan < 0, ]  # Filter sells\n",
    "head(sells, 3)"
   ]
  },
  {
   "cell_type": "code",
   "execution_count": 7,
   "id": "a0002373-ba4a-4b00-a3c3-ba77515881c7",
   "metadata": {},
   "outputs": [],
   "source": [
    "x <- 1\n",
    "pl <- function(x) {\n",
    "    \n",
    "    sells[x, 'tally_b'] <<- buys[x, 'basis']\n",
    "    \n",
    "    sells[x, 'Sale'] <<- abs(sells[x, 'basis']) - sells[x, 'tally_b']\n",
    "    temp <- data.frame(sells[x,])\n",
    "    df_pl <<- rbind(df_pl, temp)\n",
    "    \n",
    "    }\n",
    "pl(x)"
   ]
  },
  {
   "cell_type": "code",
   "execution_count": 8,
   "id": "18e9ca18-d90c-411d-8d5c-543cd913d290",
   "metadata": {},
   "outputs": [
    {
     "data": {
      "text/html": [
       "<table class=\"dataframe\">\n",
       "<caption>A data.frame: 1 × 9</caption>\n",
       "<thead>\n",
       "\t<tr><th></th><th scope=col>date</th><th scope=col>type</th><th scope=col>co</th><th scope=col>quan</th><th scope=col>pps</th><th scope=col>basis</th><th scope=col>tally_q</th><th scope=col>tally_b</th><th scope=col>Sale</th></tr>\n",
       "\t<tr><th></th><th scope=col>&lt;date&gt;</th><th scope=col>&lt;chr&gt;</th><th scope=col>&lt;chr&gt;</th><th scope=col>&lt;int&gt;</th><th scope=col>&lt;dbl&gt;</th><th scope=col>&lt;dbl&gt;</th><th scope=col>&lt;int&gt;</th><th scope=col>&lt;dbl&gt;</th><th scope=col>&lt;dbl&gt;</th></tr>\n",
       "</thead>\n",
       "<tbody>\n",
       "\t<tr><th scope=row>5</th><td>2023-01-27</td><td>Sell</td><td>AMC</td><td>-1000</td><td>5.5124</td><td>-5512.4</td><td>4050</td><td>4273.5</td><td>1238.9</td></tr>\n",
       "</tbody>\n",
       "</table>\n"
      ],
      "text/latex": [
       "A data.frame: 1 × 9\n",
       "\\begin{tabular}{r|lllllllll}\n",
       "  & date & type & co & quan & pps & basis & tally\\_q & tally\\_b & Sale\\\\\n",
       "  & <date> & <chr> & <chr> & <int> & <dbl> & <dbl> & <int> & <dbl> & <dbl>\\\\\n",
       "\\hline\n",
       "\t5 & 2023-01-27 & Sell & AMC & -1000 & 5.5124 & -5512.4 & 4050 & 4273.5 & 1238.9\\\\\n",
       "\\end{tabular}\n"
      ],
      "text/markdown": [
       "\n",
       "A data.frame: 1 × 9\n",
       "\n",
       "| <!--/--> | date &lt;date&gt; | type &lt;chr&gt; | co &lt;chr&gt; | quan &lt;int&gt; | pps &lt;dbl&gt; | basis &lt;dbl&gt; | tally_q &lt;int&gt; | tally_b &lt;dbl&gt; | Sale &lt;dbl&gt; |\n",
       "|---|---|---|---|---|---|---|---|---|---|\n",
       "| 5 | 2023-01-27 | Sell | AMC | -1000 | 5.5124 | -5512.4 | 4050 | 4273.5 | 1238.9 |\n",
       "\n"
      ],
      "text/plain": [
       "  date       type co  quan  pps    basis   tally_q tally_b Sale  \n",
       "5 2023-01-27 Sell AMC -1000 5.5124 -5512.4 4050    4273.5  1238.9"
      ]
     },
     "metadata": {},
     "output_type": "display_data"
    },
    {
     "data": {
      "text/html": [
       "<table class=\"dataframe\">\n",
       "<caption>A data.frame: 3 × 9</caption>\n",
       "<thead>\n",
       "\t<tr><th></th><th scope=col>date</th><th scope=col>type</th><th scope=col>co</th><th scope=col>quan</th><th scope=col>pps</th><th scope=col>basis</th><th scope=col>tally_q</th><th scope=col>tally_b</th><th scope=col>Sale</th></tr>\n",
       "\t<tr><th></th><th scope=col>&lt;date&gt;</th><th scope=col>&lt;chr&gt;</th><th scope=col>&lt;chr&gt;</th><th scope=col>&lt;int&gt;</th><th scope=col>&lt;dbl&gt;</th><th scope=col>&lt;dbl&gt;</th><th scope=col>&lt;int&gt;</th><th scope=col>&lt;dbl&gt;</th><th scope=col>&lt;dbl&gt;</th></tr>\n",
       "</thead>\n",
       "<tbody>\n",
       "\t<tr><th scope=row>5</th><td>2023-01-27</td><td>Sell</td><td>AMC</td><td>-1000</td><td>5.5124</td><td>-5512.40</td><td>4050</td><td> 4273.50</td><td> 1238.9</td></tr>\n",
       "\t<tr><th scope=row>6</th><td>2023-02-03</td><td>Sell</td><td>AMC</td><td>-1000</td><td>6.6826</td><td>-6682.55</td><td>3050</td><td>-6682.55</td><td>-1000.0</td></tr>\n",
       "\t<tr><th scope=row>7</th><td>2023-02-03</td><td>Sell</td><td>AMC</td><td>-1000</td><td>6.2550</td><td>-6255.00</td><td>2050</td><td>-6255.00</td><td>-1000.0</td></tr>\n",
       "</tbody>\n",
       "</table>\n"
      ],
      "text/latex": [
       "A data.frame: 3 × 9\n",
       "\\begin{tabular}{r|lllllllll}\n",
       "  & date & type & co & quan & pps & basis & tally\\_q & tally\\_b & Sale\\\\\n",
       "  & <date> & <chr> & <chr> & <int> & <dbl> & <dbl> & <int> & <dbl> & <dbl>\\\\\n",
       "\\hline\n",
       "\t5 & 2023-01-27 & Sell & AMC & -1000 & 5.5124 & -5512.40 & 4050 &  4273.50 &  1238.9\\\\\n",
       "\t6 & 2023-02-03 & Sell & AMC & -1000 & 6.6826 & -6682.55 & 3050 & -6682.55 & -1000.0\\\\\n",
       "\t7 & 2023-02-03 & Sell & AMC & -1000 & 6.2550 & -6255.00 & 2050 & -6255.00 & -1000.0\\\\\n",
       "\\end{tabular}\n"
      ],
      "text/markdown": [
       "\n",
       "A data.frame: 3 × 9\n",
       "\n",
       "| <!--/--> | date &lt;date&gt; | type &lt;chr&gt; | co &lt;chr&gt; | quan &lt;int&gt; | pps &lt;dbl&gt; | basis &lt;dbl&gt; | tally_q &lt;int&gt; | tally_b &lt;dbl&gt; | Sale &lt;dbl&gt; |\n",
       "|---|---|---|---|---|---|---|---|---|---|\n",
       "| 5 | 2023-01-27 | Sell | AMC | -1000 | 5.5124 | -5512.40 | 4050 |  4273.50 |  1238.9 |\n",
       "| 6 | 2023-02-03 | Sell | AMC | -1000 | 6.6826 | -6682.55 | 3050 | -6682.55 | -1000.0 |\n",
       "| 7 | 2023-02-03 | Sell | AMC | -1000 | 6.2550 | -6255.00 | 2050 | -6255.00 | -1000.0 |\n",
       "\n"
      ],
      "text/plain": [
       "  date       type co  quan  pps    basis    tally_q tally_b  Sale   \n",
       "5 2023-01-27 Sell AMC -1000 5.5124 -5512.40 4050     4273.50  1238.9\n",
       "6 2023-02-03 Sell AMC -1000 6.6826 -6682.55 3050    -6682.55 -1000.0\n",
       "7 2023-02-03 Sell AMC -1000 6.2550 -6255.00 2050    -6255.00 -1000.0"
      ]
     },
     "metadata": {},
     "output_type": "display_data"
    }
   ],
   "source": [
    "df_pl\n",
    "head(sells, 3)"
   ]
  },
  {
   "cell_type": "code",
   "execution_count": 15,
   "id": "e52e83d6-c8bc-4f71-8450-45c6a179f9d9",
   "metadata": {},
   "outputs": [
    {
     "data": {
      "text/html": [
       "23"
      ],
      "text/latex": [
       "23"
      ],
      "text/markdown": [
       "23"
      ],
      "text/plain": [
       "[1] 23"
      ]
     },
     "metadata": {},
     "output_type": "display_data"
    },
    {
     "name": "stdout",
     "output_type": "stream",
     "text": [
      "inside if ...  \n",
      "buys[1, quan] is  50 \n",
      "buys[1, tally_q] is  50 \n",
      "inside for loop, i equals:  1 \n",
      "inside if / if...  \n",
      "inside if/if sell_qual_reminder value is:  -950 \n",
      "inside if/if, buy_qty and sell_qty are:  50 ,  1000 \n",
      "inside if / if / if loop. buys[i+1, 'quan'] is:  1050 \n"
     ]
    },
    {
     "data": {
      "text/html": [
       "22"
      ],
      "text/latex": [
       "22"
      ],
      "text/markdown": [
       "22"
      ],
      "text/plain": [
       "[1] 22"
      ]
     },
     "metadata": {},
     "output_type": "display_data"
    }
   ],
   "source": [
    "df <- read.csv(\"BuySell.csv\", header = TRUE, sep = \",\")\n",
    "df$quan <- as.integer(df$quan)\n",
    "df$tally_q <- as.integer(df$tally_q)\n",
    "\n",
    "\n",
    "buys <- df[df$quan > 0, ]  # Filter buys\n",
    "sells <- df[df$quan < 0, ]  # Filter sells\n",
    "nrow(buys)\n",
    "\n",
    "buy_qty <- buys[1, 'quan']\n",
    "sell_qty <- abs(sells[1, 'quan'])\n",
    "\n",
    "  \n",
    "#while (buy_qty - sell_qty > 0 && nrow(buys) > 0) {   \n",
    "#    print(\"Inside while ... \")\n",
    "    for (i in 1:nrow(sells)) { \n",
    "              \n",
    "        buy_qty <- buys[i, 'quan']\n",
    "        sell_qty <- abs(sells[i, 'quan'])\n",
    "        buy_basis <- buys[i, 'basis']\n",
    "        sell_basis <- abs(sells[i, 'basis'])\n",
    "                \n",
    "        \n",
    "        \n",
    "# -----------------------------------------------------------------------------------------\n",
    "        \n",
    "        \n",
    "        \n",
    "        if( buy_qty - abs(sell_qty) > 0 ) {   # this means the entire sell_qty gets used up \n",
    "            \n",
    "            sell_quan_remainder <- buy_qty - abs(sell_qty) \n",
    "            \n",
    "    cat(\"inside if ... \", \"\\n\")\n",
    "            # Reduce the Buy qty  values\n",
    "            buys[1, 'quan'] <- sell_quan_remainder\n",
    "            buys[1, 'tally_q'] <- buys[1, 'tally_q'] - sell_qty\n",
    "            \n",
    "            \n",
    "    cat(\"buys[1, quan] is \", buys[1, 'quan'], \"\\n\")\n",
    "    cat(\"buys[1, tally_q] is \", buys[1, 'tally_q'], \"\\n\")\n",
    "            \n",
    "         \n",
    "            # new var for updated basis\n",
    "            basis_mod <- sell_quan_remainder * buys[i, 'pps']\n",
    "  cat(\"inside for loop, i equals: \", i, \"\\n\")\n",
    "            \n",
    "            buys[i, 'basis'] <- basis_mod\n",
    "            # update buys & sells dfs\n",
    "            # buys[1, 'basis'] <- update_buys_basis\n",
    "            # buys[1, 'tally_b'] <- update_buys_basis  \n",
    "           buys[i, 'tally_b'] <- buys[i, 'quan'] * buys[i, 'pps']\n",
    "            \n",
    "           # fct call \n",
    "           pl(i)\n",
    "            \n",
    "            if(sell_quan_remainder > 0) {\n",
    "        \n",
    "                updated_sell_qty <- buys[i, 'quan']    #  50 / new sell row\n",
    "                \n",
    "cat(\"inside if / if... \", \"\\n\")\n",
    "\n",
    "                sell_qty <- abs(sells[i+1, 'quan'])\n",
    "                buy_qty <- buys[i, 'quan']  \n",
    "                # update the sells row i + 1 for this continued action\n",
    "                sell_quan_remainder <- buy_qty - abs(sell_qty)\n",
    "                sells[i+1, 'quan'] <- sell_quan_remainder\n",
    "                \n",
    "cat(\"inside if/if sell_qual_reminder value is: \", sell_quan_remainder, \"\\n\")  \n",
    "cat(\"inside if/if, buy_qty and sell_qty are: \", buy_qty, \", \", sell_qty, \"\\n\")              \n",
    "                # update buys row i and zap row when quan = o\n",
    "                if(buy_qty < sell_qty) {\n",
    "                    \n",
    "                     buys[i+1, 'quan'] <- buys[i+1, 'quan'] + buy_qty\n",
    "cat(\"inside if / if / if loop. buys[i+1, 'quan'] is: \", buys[i+1, 'quan'], \"\\n\")\n",
    "                     buys <- buys[-1, ]\n",
    "                     sell_quan_remainder <- 0\n",
    "                    } else {\n",
    "                    cat(\"Meandered into the else (sub if # 3 )\", \"\\n\")\n",
    "                }\n",
    "                return()\n",
    "            } # if\n",
    "    \n",
    "        } # if\n",
    "\n",
    "    \n",
    "}  # for\n",
    "nrow(buys)"
   ]
  },
  {
   "cell_type": "code",
   "execution_count": 14,
   "id": "ba0ae18a-be33-4f0b-a821-6fff4ae80ea5",
   "metadata": {},
   "outputs": [
    {
     "data": {
      "text/html": [
       "<table class=\"dataframe\">\n",
       "<caption>A data.frame: 3 × 9</caption>\n",
       "<thead>\n",
       "\t<tr><th></th><th scope=col>date</th><th scope=col>type</th><th scope=col>co</th><th scope=col>quan</th><th scope=col>pps</th><th scope=col>basis</th><th scope=col>tally_q</th><th scope=col>tally_b</th><th scope=col>Sale</th></tr>\n",
       "\t<tr><th></th><th scope=col>&lt;int&gt;</th><th scope=col>&lt;chr&gt;</th><th scope=col>&lt;chr&gt;</th><th scope=col>&lt;int&gt;</th><th scope=col>&lt;dbl&gt;</th><th scope=col>&lt;dbl&gt;</th><th scope=col>&lt;int&gt;</th><th scope=col>&lt;dbl&gt;</th><th scope=col>&lt;int&gt;</th></tr>\n",
       "</thead>\n",
       "<tbody>\n",
       "\t<tr><th scope=row>2</th><td>44946</td><td>Buy</td><td>AMC</td><td>1050</td><td>5.6250</td><td> 5625.0</td><td>2050</td><td> 5625.0</td><td>0</td></tr>\n",
       "\t<tr><th scope=row>3</th><td>44949</td><td>Buy</td><td>AMC</td><td>1000</td><td>5.7880</td><td> 5788.0</td><td>3050</td><td> 5788.0</td><td>0</td></tr>\n",
       "\t<tr><th scope=row>4</th><td>44953</td><td>Buy</td><td>AMC</td><td>2000</td><td>5.2394</td><td>10478.8</td><td>5050</td><td>10478.8</td><td>0</td></tr>\n",
       "</tbody>\n",
       "</table>\n"
      ],
      "text/latex": [
       "A data.frame: 3 × 9\n",
       "\\begin{tabular}{r|lllllllll}\n",
       "  & date & type & co & quan & pps & basis & tally\\_q & tally\\_b & Sale\\\\\n",
       "  & <int> & <chr> & <chr> & <int> & <dbl> & <dbl> & <int> & <dbl> & <int>\\\\\n",
       "\\hline\n",
       "\t2 & 44946 & Buy & AMC & 1050 & 5.6250 &  5625.0 & 2050 &  5625.0 & 0\\\\\n",
       "\t3 & 44949 & Buy & AMC & 1000 & 5.7880 &  5788.0 & 3050 &  5788.0 & 0\\\\\n",
       "\t4 & 44953 & Buy & AMC & 2000 & 5.2394 & 10478.8 & 5050 & 10478.8 & 0\\\\\n",
       "\\end{tabular}\n"
      ],
      "text/markdown": [
       "\n",
       "A data.frame: 3 × 9\n",
       "\n",
       "| <!--/--> | date &lt;int&gt; | type &lt;chr&gt; | co &lt;chr&gt; | quan &lt;int&gt; | pps &lt;dbl&gt; | basis &lt;dbl&gt; | tally_q &lt;int&gt; | tally_b &lt;dbl&gt; | Sale &lt;int&gt; |\n",
       "|---|---|---|---|---|---|---|---|---|---|\n",
       "| 2 | 44946 | Buy | AMC | 1050 | 5.6250 |  5625.0 | 2050 |  5625.0 | 0 |\n",
       "| 3 | 44949 | Buy | AMC | 1000 | 5.7880 |  5788.0 | 3050 |  5788.0 | 0 |\n",
       "| 4 | 44953 | Buy | AMC | 2000 | 5.2394 | 10478.8 | 5050 | 10478.8 | 0 |\n",
       "\n"
      ],
      "text/plain": [
       "  date  type co  quan pps    basis   tally_q tally_b Sale\n",
       "2 44946 Buy  AMC 1050 5.6250  5625.0 2050     5625.0 0   \n",
       "3 44949 Buy  AMC 1000 5.7880  5788.0 3050     5788.0 0   \n",
       "4 44953 Buy  AMC 2000 5.2394 10478.8 5050    10478.8 0   "
      ]
     },
     "metadata": {},
     "output_type": "display_data"
    },
    {
     "data": {
      "text/html": [
       "22"
      ],
      "text/latex": [
       "22"
      ],
      "text/markdown": [
       "22"
      ],
      "text/plain": [
       "[1] 22"
      ]
     },
     "metadata": {},
     "output_type": "display_data"
    }
   ],
   "source": [
    "head(buys, 3)\n",
    "nrow(buys)\n"
   ]
  },
  {
   "cell_type": "code",
   "execution_count": null,
   "id": "f5ea0578-3f2b-4dcf-a35b-90ee8e5f0817",
   "metadata": {},
   "outputs": [],
   "source": [
    "head(sells, 3)"
   ]
  },
  {
   "cell_type": "code",
   "execution_count": null,
   "id": "c988a1b3-3601-4b59-b6ed-ac7184f37870",
   "metadata": {},
   "outputs": [],
   "source": []
  },
  {
   "cell_type": "code",
   "execution_count": null,
   "id": "65556f26-2956-47b1-8f06-2c2a7c526006",
   "metadata": {},
   "outputs": [],
   "source": []
  },
  {
   "cell_type": "code",
   "execution_count": null,
   "id": "f6e4bbaa-8437-4742-ac5f-f4e9ff405d86",
   "metadata": {},
   "outputs": [],
   "source": []
  },
  {
   "cell_type": "code",
   "execution_count": null,
   "id": "a14c4c08-d4d9-4430-9608-e79cc76457e4",
   "metadata": {},
   "outputs": [],
   "source": [
    "nrow(buys)\n",
    "cat('sell_qty : ', sell_qty, \"\\n\")\n",
    "cat('buy_qty : ', buy_qty, \"\\n\")\n",
    "cat('buy_basis :', buy_basis, \"\\n\")\n",
    "cat('sell_basis :', sell_basis, \"\\n\")\n",
    "cat('sell_quan_remainder :',sell_quan_remainder , \"\\n\")                             "
   ]
  },
  {
   "cell_type": "code",
   "execution_count": null,
   "id": "16840795-f384-415a-b1a0-5ad2eb4ce1a8",
   "metadata": {},
   "outputs": [],
   "source": [
    "head(buys, 3)\n",
    "head(sells, 3)"
   ]
  },
  {
   "cell_type": "code",
   "execution_count": null,
   "id": "f6594adc-c132-4570-8c1e-2cb16ef66aec",
   "metadata": {},
   "outputs": [],
   "source": []
  },
  {
   "cell_type": "code",
   "execution_count": null,
   "id": "a2945912-fb8c-4f99-b5a2-385f66be92f9",
   "metadata": {},
   "outputs": [],
   "source": [
    "stopper\n"
   ]
  },
  {
   "cell_type": "code",
   "execution_count": null,
   "id": "37cda516-9ba1-4ddb-aa35-c84bcef24ccf",
   "metadata": {},
   "outputs": [],
   "source": []
  },
  {
   "cell_type": "code",
   "execution_count": null,
   "id": "3d1394b8-7c19-4bb6-b874-5eb24f2cfa7c",
   "metadata": {},
   "outputs": [],
   "source": [
    "fifo <- function(buy_qty, sell_qty, buy_basis, sell_basis) {\n",
    "    cat(buy_qty, sell_qty, buy_basis, sell_basis, \"\\n\")\n",
    "    \n",
    "    }"
   ]
  },
  {
   "cell_type": "code",
   "execution_count": null,
   "id": "a00096fa-20ab-4b42-a61a-9bc398dbdbfd",
   "metadata": {},
   "outputs": [],
   "source": []
  },
  {
   "cell_type": "code",
   "execution_count": null,
   "id": "64547245-884b-4fa8-9e56-cd011cb91431",
   "metadata": {},
   "outputs": [],
   "source": []
  },
  {
   "cell_type": "code",
   "execution_count": null,
   "id": "f73f623c-5085-41d4-a2f1-b68622b1db21",
   "metadata": {},
   "outputs": [],
   "source": []
  },
  {
   "cell_type": "code",
   "execution_count": null,
   "id": "e3aed24f-1705-418f-bed4-4dcb5cf0b4f6",
   "metadata": {},
   "outputs": [],
   "source": []
  },
  {
   "cell_type": "code",
   "execution_count": null,
   "id": "d8d16307-e533-44fa-80a2-0c197316c6dd",
   "metadata": {},
   "outputs": [],
   "source": []
  },
  {
   "cell_type": "code",
   "execution_count": null,
   "id": "71a438de-2980-4176-94e3-52d918f38d75",
   "metadata": {},
   "outputs": [],
   "source": []
  },
  {
   "cell_type": "code",
   "execution_count": null,
   "id": "7a71ab46-1ae4-4054-b57c-4888d2ba0312",
   "metadata": {},
   "outputs": [],
   "source": []
  }
 ],
 "metadata": {
  "kernelspec": {
   "display_name": "R",
   "language": "R",
   "name": "ir"
  },
  "language_info": {
   "codemirror_mode": "r",
   "file_extension": ".r",
   "mimetype": "text/x-r-source",
   "name": "R",
   "pygments_lexer": "r",
   "version": "4.3.0"
  }
 },
 "nbformat": 4,
 "nbformat_minor": 5
}
