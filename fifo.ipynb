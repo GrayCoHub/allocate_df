{
 "cells": [
  {
   "cell_type": "code",
   "execution_count": null,
   "id": "e5e4ee87-9334-4ea5-907b-1616100473f9",
   "metadata": {},
   "outputs": [],
   "source": []
  },
  {
   "cell_type": "code",
   "execution_count": 1,
   "id": "e558b5cf-4ec6-4d01-b5ff-8a294aafee08",
   "metadata": {},
   "outputs": [
    {
     "data": {
      "text/html": [
       "<table class=\"dataframe\">\n",
       "<caption>A data.frame: 3 × 16</caption>\n",
       "<thead>\n",
       "\t<tr><th></th><th scope=col>date</th><th scope=col>type</th><th scope=col>buy_ct</th><th scope=col>sell_ct</th><th scope=col>co</th><th scope=col>quan</th><th scope=col>pps</th><th scope=col>basis</th><th scope=col>tally_q</th><th scope=col>tally_b</th><th scope=col>sale</th><th scope=col>cf_q</th><th scope=col>cf_b</th><th scope=col>sell_q</th><th scope=col>sell_p</th><th scope=col>index</th></tr>\n",
       "\t<tr><th></th><th scope=col>&lt;chr&gt;</th><th scope=col>&lt;chr&gt;</th><th scope=col>&lt;int&gt;</th><th scope=col>&lt;int&gt;</th><th scope=col>&lt;chr&gt;</th><th scope=col>&lt;dbl&gt;</th><th scope=col>&lt;dbl&gt;</th><th scope=col>&lt;dbl&gt;</th><th scope=col>&lt;int&gt;</th><th scope=col>&lt;dbl&gt;</th><th scope=col>&lt;int&gt;</th><th scope=col>&lt;int&gt;</th><th scope=col>&lt;dbl&gt;</th><th scope=col>&lt;int&gt;</th><th scope=col>&lt;dbl&gt;</th><th scope=col>&lt;int&gt;</th></tr>\n",
       "</thead>\n",
       "<tbody>\n",
       "\t<tr><th scope=row>1</th><td>12/31/2022</td><td>Buy </td><td>1</td><td>0</td><td>AMC</td><td> 1050</td><td>4.07</td><td> 4273.5</td><td>1050</td><td> 4273.5</td><td>    0</td><td>0</td><td>0</td><td>0</td><td>0</td><td>1</td></tr>\n",
       "\t<tr><th scope=row>2</th><td>1/27/2023 </td><td>Sell</td><td>1</td><td>1</td><td>AMC</td><td>-1000</td><td>5.51</td><td>-5512.4</td><td>  50</td><td>-5512.4</td><td>-1000</td><td>0</td><td>0</td><td>0</td><td>0</td><td>2</td></tr>\n",
       "\t<tr><th scope=row>3</th><td>1/20/2023 </td><td>Buy </td><td>2</td><td>1</td><td>AMC</td><td> 1000</td><td>5.63</td><td> 5625.0</td><td>1050</td><td> 5625.0</td><td>    0</td><td>0</td><td>0</td><td>0</td><td>0</td><td>3</td></tr>\n",
       "</tbody>\n",
       "</table>\n"
      ],
      "text/latex": [
       "A data.frame: 3 × 16\n",
       "\\begin{tabular}{r|llllllllllllllll}\n",
       "  & date & type & buy\\_ct & sell\\_ct & co & quan & pps & basis & tally\\_q & tally\\_b & sale & cf\\_q & cf\\_b & sell\\_q & sell\\_p & index\\\\\n",
       "  & <chr> & <chr> & <int> & <int> & <chr> & <dbl> & <dbl> & <dbl> & <int> & <dbl> & <int> & <int> & <dbl> & <int> & <dbl> & <int>\\\\\n",
       "\\hline\n",
       "\t1 & 12/31/2022 & Buy  & 1 & 0 & AMC &  1050 & 4.07 &  4273.5 & 1050 &  4273.5 &     0 & 0 & 0 & 0 & 0 & 1\\\\\n",
       "\t2 & 1/27/2023  & Sell & 1 & 1 & AMC & -1000 & 5.51 & -5512.4 &   50 & -5512.4 & -1000 & 0 & 0 & 0 & 0 & 2\\\\\n",
       "\t3 & 1/20/2023  & Buy  & 2 & 1 & AMC &  1000 & 5.63 &  5625.0 & 1050 &  5625.0 &     0 & 0 & 0 & 0 & 0 & 3\\\\\n",
       "\\end{tabular}\n"
      ],
      "text/markdown": [
       "\n",
       "A data.frame: 3 × 16\n",
       "\n",
       "| <!--/--> | date &lt;chr&gt; | type &lt;chr&gt; | buy_ct &lt;int&gt; | sell_ct &lt;int&gt; | co &lt;chr&gt; | quan &lt;dbl&gt; | pps &lt;dbl&gt; | basis &lt;dbl&gt; | tally_q &lt;int&gt; | tally_b &lt;dbl&gt; | sale &lt;int&gt; | cf_q &lt;int&gt; | cf_b &lt;dbl&gt; | sell_q &lt;int&gt; | sell_p &lt;dbl&gt; | index &lt;int&gt; |\n",
       "|---|---|---|---|---|---|---|---|---|---|---|---|---|---|---|---|---|\n",
       "| 1 | 12/31/2022 | Buy  | 1 | 0 | AMC |  1050 | 4.07 |  4273.5 | 1050 |  4273.5 |     0 | 0 | 0 | 0 | 0 | 1 |\n",
       "| 2 | 1/27/2023  | Sell | 1 | 1 | AMC | -1000 | 5.51 | -5512.4 |   50 | -5512.4 | -1000 | 0 | 0 | 0 | 0 | 2 |\n",
       "| 3 | 1/20/2023  | Buy  | 2 | 1 | AMC |  1000 | 5.63 |  5625.0 | 1050 |  5625.0 |     0 | 0 | 0 | 0 | 0 | 3 |\n",
       "\n"
      ],
      "text/plain": [
       "  date       type buy_ct sell_ct co  quan  pps  basis   tally_q tally_b sale \n",
       "1 12/31/2022 Buy  1      0       AMC  1050 4.07  4273.5 1050     4273.5     0\n",
       "2 1/27/2023  Sell 1      1       AMC -1000 5.51 -5512.4   50    -5512.4 -1000\n",
       "3 1/20/2023  Buy  2      1       AMC  1000 5.63  5625.0 1050     5625.0     0\n",
       "  cf_q cf_b sell_q sell_p index\n",
       "1 0    0    0      0      1    \n",
       "2 0    0    0      0      2    \n",
       "3 0    0    0      0      3    "
      ]
     },
     "metadata": {},
     "output_type": "display_data"
    },
    {
     "data": {
      "text/html": [
       "<table class=\"dataframe\">\n",
       "<caption>A data.frame: 3 × 16</caption>\n",
       "<thead>\n",
       "\t<tr><th></th><th scope=col>date</th><th scope=col>type</th><th scope=col>buy_ct</th><th scope=col>sell_ct</th><th scope=col>co</th><th scope=col>quan</th><th scope=col>pps</th><th scope=col>basis</th><th scope=col>tally_q</th><th scope=col>tally_b</th><th scope=col>sale</th><th scope=col>cf_q</th><th scope=col>cf_b</th><th scope=col>sell_q</th><th scope=col>sell_p</th><th scope=col>index</th></tr>\n",
       "\t<tr><th></th><th scope=col>&lt;chr&gt;</th><th scope=col>&lt;chr&gt;</th><th scope=col>&lt;int&gt;</th><th scope=col>&lt;int&gt;</th><th scope=col>&lt;chr&gt;</th><th scope=col>&lt;dbl&gt;</th><th scope=col>&lt;dbl&gt;</th><th scope=col>&lt;dbl&gt;</th><th scope=col>&lt;int&gt;</th><th scope=col>&lt;dbl&gt;</th><th scope=col>&lt;int&gt;</th><th scope=col>&lt;int&gt;</th><th scope=col>&lt;dbl&gt;</th><th scope=col>&lt;int&gt;</th><th scope=col>&lt;dbl&gt;</th><th scope=col>&lt;int&gt;</th></tr>\n",
       "</thead>\n",
       "<tbody>\n",
       "\t<tr><th scope=row>39</th><td>5/17/2023</td><td>Buy </td><td>23</td><td>16</td><td>AMC</td><td> 1000</td><td>5.01</td><td> 5009.0</td><td>2100</td><td> 5009.0</td><td>    0</td><td>0</td><td>0</td><td>0</td><td>0</td><td>39</td></tr>\n",
       "\t<tr><th scope=row>40</th><td>5/30/2023</td><td>Sell</td><td>23</td><td>17</td><td>AMC</td><td>-1000</td><td>4.58</td><td>-4582.8</td><td>1100</td><td>-4582.8</td><td>-1000</td><td>0</td><td>0</td><td>0</td><td>0</td><td>40</td></tr>\n",
       "\t<tr><th scope=row>41</th><td>45079.00 </td><td>Sell</td><td>23</td><td>18</td><td>AMC</td><td>-1100</td><td>4.54</td><td>-4994.0</td><td>   0</td><td>-4994.0</td><td>-1100</td><td>0</td><td>0</td><td>0</td><td>0</td><td>41</td></tr>\n",
       "</tbody>\n",
       "</table>\n"
      ],
      "text/latex": [
       "A data.frame: 3 × 16\n",
       "\\begin{tabular}{r|llllllllllllllll}\n",
       "  & date & type & buy\\_ct & sell\\_ct & co & quan & pps & basis & tally\\_q & tally\\_b & sale & cf\\_q & cf\\_b & sell\\_q & sell\\_p & index\\\\\n",
       "  & <chr> & <chr> & <int> & <int> & <chr> & <dbl> & <dbl> & <dbl> & <int> & <dbl> & <int> & <int> & <dbl> & <int> & <dbl> & <int>\\\\\n",
       "\\hline\n",
       "\t39 & 5/17/2023 & Buy  & 23 & 16 & AMC &  1000 & 5.01 &  5009.0 & 2100 &  5009.0 &     0 & 0 & 0 & 0 & 0 & 39\\\\\n",
       "\t40 & 5/30/2023 & Sell & 23 & 17 & AMC & -1000 & 4.58 & -4582.8 & 1100 & -4582.8 & -1000 & 0 & 0 & 0 & 0 & 40\\\\\n",
       "\t41 & 45079.00  & Sell & 23 & 18 & AMC & -1100 & 4.54 & -4994.0 &    0 & -4994.0 & -1100 & 0 & 0 & 0 & 0 & 41\\\\\n",
       "\\end{tabular}\n"
      ],
      "text/markdown": [
       "\n",
       "A data.frame: 3 × 16\n",
       "\n",
       "| <!--/--> | date &lt;chr&gt; | type &lt;chr&gt; | buy_ct &lt;int&gt; | sell_ct &lt;int&gt; | co &lt;chr&gt; | quan &lt;dbl&gt; | pps &lt;dbl&gt; | basis &lt;dbl&gt; | tally_q &lt;int&gt; | tally_b &lt;dbl&gt; | sale &lt;int&gt; | cf_q &lt;int&gt; | cf_b &lt;dbl&gt; | sell_q &lt;int&gt; | sell_p &lt;dbl&gt; | index &lt;int&gt; |\n",
       "|---|---|---|---|---|---|---|---|---|---|---|---|---|---|---|---|---|\n",
       "| 39 | 5/17/2023 | Buy  | 23 | 16 | AMC |  1000 | 5.01 |  5009.0 | 2100 |  5009.0 |     0 | 0 | 0 | 0 | 0 | 39 |\n",
       "| 40 | 5/30/2023 | Sell | 23 | 17 | AMC | -1000 | 4.58 | -4582.8 | 1100 | -4582.8 | -1000 | 0 | 0 | 0 | 0 | 40 |\n",
       "| 41 | 45079.00  | Sell | 23 | 18 | AMC | -1100 | 4.54 | -4994.0 |    0 | -4994.0 | -1100 | 0 | 0 | 0 | 0 | 41 |\n",
       "\n"
      ],
      "text/plain": [
       "   date      type buy_ct sell_ct co  quan  pps  basis   tally_q tally_b sale \n",
       "39 5/17/2023 Buy  23     16      AMC  1000 5.01  5009.0 2100     5009.0     0\n",
       "40 5/30/2023 Sell 23     17      AMC -1000 4.58 -4582.8 1100    -4582.8 -1000\n",
       "41 45079.00  Sell 23     18      AMC -1100 4.54 -4994.0    0    -4994.0 -1100\n",
       "   cf_q cf_b sell_q sell_p index\n",
       "39 0    0    0      0      39   \n",
       "40 0    0    0      0      40   \n",
       "41 0    0    0      0      41   "
      ]
     },
     "metadata": {},
     "output_type": "display_data"
    }
   ],
   "source": [
    "df <- read.csv(\"fifo.csv\", header = TRUE, sep = \",\")\n",
    "#df$tally_q <- as.integer(df$tally_q)\n",
    "# df$sale <- as.integer(df$sale)\n",
    "# df$date <- as.Date(df$date, origin = \"1899-12-30\")\n",
    "\n",
    "df$cf_q <- as.integer(rep(0, nrow(df)))\n",
    "df$cf_b <- as.numeric(rep(0, nrow(df)))\n",
    "df$sell_q <- as.integer(rep(0, nrow(df)))\n",
    "df$sell_p <- as.numeric(rep(0, nrow(df)))\n",
    "df$index <- seq(1:nrow(df))\n",
    "\n",
    "\n",
    "head(df,3)\n",
    "tail(df,3)"
   ]
  },
  {
   "cell_type": "code",
   "execution_count": 2,
   "id": "4604fe23-cbaf-4f11-bd49-ec7618c6d28d",
   "metadata": {},
   "outputs": [],
   "source": [
    "# create seperate buy / sell dfs\n",
    "\n",
    "buys <- df[df$quan > 0, ]  # Filter buys\n",
    "sells <- df[df$quan < 0, ]  # Filter sells\n",
    "df_pl <- data.frame()"
   ]
  },
  {
   "cell_type": "code",
   "execution_count": 3,
   "id": "f4e726f6-2d65-442f-8ed3-93aaa1196f50",
   "metadata": {},
   "outputs": [
    {
     "name": "stdout",
     "output_type": "stream",
     "text": [
      "sell_qty :  1000 \n",
      "buy_qty :  1050 \n",
      "buy_basis : 4273.5 \n",
      "sell_basis : 5512.4 \n"
     ]
    }
   ],
   "source": [
    "# create vars\n",
    "buy_qty <- buys[1, 'quan']\n",
    "sell_qty <- abs(sells[1, 'quan'])\n",
    "\n",
    "buy_basis <- buys[1, 'basis']\n",
    "sell_basis <- abs(sells[1, 'basis'])\n",
    "\n",
    "\n",
    "# sell_quan_remainder <- buy_qty - abs(sell_qty)\n",
    "\n",
    "cat('sell_qty : ', sell_qty, \"\\n\")\n",
    "cat('buy_qty : ', buy_qty, \"\\n\")\n",
    "cat('buy_basis :', buy_basis, \"\\n\")\n",
    "cat('sell_basis :', sell_basis, \"\\n\")\n",
    "# cat('remainder :',sell_quan_remainder , \"\\n\")\n",
    "\n",
    "# zero out vars\n",
    "sells[1, 'tally_q'] <- 0\n",
    "sells[1, 'tally_b'] <- 0\n",
    "sells[1, 'Sale'] <- 0"
   ]
  },
  {
   "cell_type": "code",
   "execution_count": null,
   "id": "5a0db73c-c9e3-4086-97ca-f427167d144c",
   "metadata": {},
   "outputs": [],
   "source": []
  },
  {
   "cell_type": "code",
   "execution_count": null,
   "id": "f6e4bbaa-8437-4742-ac5f-f4e9ff405d86",
   "metadata": {},
   "outputs": [],
   "source": []
  },
  {
   "cell_type": "code",
   "execution_count": 4,
   "id": "16840795-f384-415a-b1a0-5ad2eb4ce1a8",
   "metadata": {},
   "outputs": [
    {
     "data": {
      "text/html": [
       "<table class=\"dataframe\">\n",
       "<caption>A data.frame: 3 × 16</caption>\n",
       "<thead>\n",
       "\t<tr><th></th><th scope=col>date</th><th scope=col>type</th><th scope=col>buy_ct</th><th scope=col>sell_ct</th><th scope=col>co</th><th scope=col>quan</th><th scope=col>pps</th><th scope=col>basis</th><th scope=col>tally_q</th><th scope=col>tally_b</th><th scope=col>sale</th><th scope=col>cf_q</th><th scope=col>cf_b</th><th scope=col>sell_q</th><th scope=col>sell_p</th><th scope=col>index</th></tr>\n",
       "\t<tr><th></th><th scope=col>&lt;chr&gt;</th><th scope=col>&lt;chr&gt;</th><th scope=col>&lt;int&gt;</th><th scope=col>&lt;int&gt;</th><th scope=col>&lt;chr&gt;</th><th scope=col>&lt;dbl&gt;</th><th scope=col>&lt;dbl&gt;</th><th scope=col>&lt;dbl&gt;</th><th scope=col>&lt;int&gt;</th><th scope=col>&lt;dbl&gt;</th><th scope=col>&lt;int&gt;</th><th scope=col>&lt;int&gt;</th><th scope=col>&lt;dbl&gt;</th><th scope=col>&lt;int&gt;</th><th scope=col>&lt;dbl&gt;</th><th scope=col>&lt;int&gt;</th></tr>\n",
       "</thead>\n",
       "<tbody>\n",
       "\t<tr><th scope=row>1</th><td>12/31/2022</td><td>Buy</td><td>1</td><td>0</td><td>AMC</td><td>1050</td><td>4.07</td><td>4273.5</td><td>1050</td><td>4273.5</td><td>0</td><td>0</td><td>0</td><td>0</td><td>0</td><td>1</td></tr>\n",
       "\t<tr><th scope=row>3</th><td>1/20/2023 </td><td>Buy</td><td>2</td><td>1</td><td>AMC</td><td>1000</td><td>5.63</td><td>5625.0</td><td>1050</td><td>5625.0</td><td>0</td><td>0</td><td>0</td><td>0</td><td>0</td><td>3</td></tr>\n",
       "\t<tr><th scope=row>5</th><td>1/23/2023 </td><td>Buy</td><td>3</td><td>2</td><td>AMC</td><td>1000</td><td>5.79</td><td>5788.0</td><td>1050</td><td>5788.0</td><td>0</td><td>0</td><td>0</td><td>0</td><td>0</td><td>5</td></tr>\n",
       "</tbody>\n",
       "</table>\n"
      ],
      "text/latex": [
       "A data.frame: 3 × 16\n",
       "\\begin{tabular}{r|llllllllllllllll}\n",
       "  & date & type & buy\\_ct & sell\\_ct & co & quan & pps & basis & tally\\_q & tally\\_b & sale & cf\\_q & cf\\_b & sell\\_q & sell\\_p & index\\\\\n",
       "  & <chr> & <chr> & <int> & <int> & <chr> & <dbl> & <dbl> & <dbl> & <int> & <dbl> & <int> & <int> & <dbl> & <int> & <dbl> & <int>\\\\\n",
       "\\hline\n",
       "\t1 & 12/31/2022 & Buy & 1 & 0 & AMC & 1050 & 4.07 & 4273.5 & 1050 & 4273.5 & 0 & 0 & 0 & 0 & 0 & 1\\\\\n",
       "\t3 & 1/20/2023  & Buy & 2 & 1 & AMC & 1000 & 5.63 & 5625.0 & 1050 & 5625.0 & 0 & 0 & 0 & 0 & 0 & 3\\\\\n",
       "\t5 & 1/23/2023  & Buy & 3 & 2 & AMC & 1000 & 5.79 & 5788.0 & 1050 & 5788.0 & 0 & 0 & 0 & 0 & 0 & 5\\\\\n",
       "\\end{tabular}\n"
      ],
      "text/markdown": [
       "\n",
       "A data.frame: 3 × 16\n",
       "\n",
       "| <!--/--> | date &lt;chr&gt; | type &lt;chr&gt; | buy_ct &lt;int&gt; | sell_ct &lt;int&gt; | co &lt;chr&gt; | quan &lt;dbl&gt; | pps &lt;dbl&gt; | basis &lt;dbl&gt; | tally_q &lt;int&gt; | tally_b &lt;dbl&gt; | sale &lt;int&gt; | cf_q &lt;int&gt; | cf_b &lt;dbl&gt; | sell_q &lt;int&gt; | sell_p &lt;dbl&gt; | index &lt;int&gt; |\n",
       "|---|---|---|---|---|---|---|---|---|---|---|---|---|---|---|---|---|\n",
       "| 1 | 12/31/2022 | Buy | 1 | 0 | AMC | 1050 | 4.07 | 4273.5 | 1050 | 4273.5 | 0 | 0 | 0 | 0 | 0 | 1 |\n",
       "| 3 | 1/20/2023  | Buy | 2 | 1 | AMC | 1000 | 5.63 | 5625.0 | 1050 | 5625.0 | 0 | 0 | 0 | 0 | 0 | 3 |\n",
       "| 5 | 1/23/2023  | Buy | 3 | 2 | AMC | 1000 | 5.79 | 5788.0 | 1050 | 5788.0 | 0 | 0 | 0 | 0 | 0 | 5 |\n",
       "\n"
      ],
      "text/plain": [
       "  date       type buy_ct sell_ct co  quan pps  basis  tally_q tally_b sale cf_q\n",
       "1 12/31/2022 Buy  1      0       AMC 1050 4.07 4273.5 1050    4273.5  0    0   \n",
       "3 1/20/2023  Buy  2      1       AMC 1000 5.63 5625.0 1050    5625.0  0    0   \n",
       "5 1/23/2023  Buy  3      2       AMC 1000 5.79 5788.0 1050    5788.0  0    0   \n",
       "  cf_b sell_q sell_p index\n",
       "1 0    0      0      1    \n",
       "3 0    0      0      3    \n",
       "5 0    0      0      5    "
      ]
     },
     "metadata": {},
     "output_type": "display_data"
    },
    {
     "data": {
      "text/html": [
       "<table class=\"dataframe\">\n",
       "<caption>A data.frame: 3 × 17</caption>\n",
       "<thead>\n",
       "\t<tr><th></th><th scope=col>date</th><th scope=col>type</th><th scope=col>buy_ct</th><th scope=col>sell_ct</th><th scope=col>co</th><th scope=col>quan</th><th scope=col>pps</th><th scope=col>basis</th><th scope=col>tally_q</th><th scope=col>tally_b</th><th scope=col>sale</th><th scope=col>cf_q</th><th scope=col>cf_b</th><th scope=col>sell_q</th><th scope=col>sell_p</th><th scope=col>index</th><th scope=col>Sale</th></tr>\n",
       "\t<tr><th></th><th scope=col>&lt;chr&gt;</th><th scope=col>&lt;chr&gt;</th><th scope=col>&lt;int&gt;</th><th scope=col>&lt;int&gt;</th><th scope=col>&lt;chr&gt;</th><th scope=col>&lt;dbl&gt;</th><th scope=col>&lt;dbl&gt;</th><th scope=col>&lt;dbl&gt;</th><th scope=col>&lt;dbl&gt;</th><th scope=col>&lt;dbl&gt;</th><th scope=col>&lt;int&gt;</th><th scope=col>&lt;int&gt;</th><th scope=col>&lt;dbl&gt;</th><th scope=col>&lt;int&gt;</th><th scope=col>&lt;dbl&gt;</th><th scope=col>&lt;int&gt;</th><th scope=col>&lt;dbl&gt;</th></tr>\n",
       "</thead>\n",
       "<tbody>\n",
       "\t<tr><th scope=row>2</th><td>1/27/2023</td><td>Sell</td><td>1</td><td>1</td><td>AMC</td><td>-1000</td><td>5.51</td><td>-5512.40</td><td> 0</td><td>    0.00</td><td>-1000</td><td>0</td><td>0</td><td>0</td><td>0</td><td>2</td><td> 0</td></tr>\n",
       "\t<tr><th scope=row>4</th><td>2/3/2023 </td><td>Sell</td><td>2</td><td>2</td><td>AMC</td><td>-1000</td><td>6.68</td><td>-6682.55</td><td>50</td><td>-6682.55</td><td>-1000</td><td>0</td><td>0</td><td>0</td><td>0</td><td>4</td><td>NA</td></tr>\n",
       "\t<tr><th scope=row>6</th><td>2/3/2023 </td><td>Sell</td><td>3</td><td>3</td><td>AMC</td><td>-1000</td><td>6.26</td><td>-6255.00</td><td>50</td><td>-6255.00</td><td>-1000</td><td>0</td><td>0</td><td>0</td><td>0</td><td>6</td><td>NA</td></tr>\n",
       "</tbody>\n",
       "</table>\n"
      ],
      "text/latex": [
       "A data.frame: 3 × 17\n",
       "\\begin{tabular}{r|lllllllllllllllll}\n",
       "  & date & type & buy\\_ct & sell\\_ct & co & quan & pps & basis & tally\\_q & tally\\_b & sale & cf\\_q & cf\\_b & sell\\_q & sell\\_p & index & Sale\\\\\n",
       "  & <chr> & <chr> & <int> & <int> & <chr> & <dbl> & <dbl> & <dbl> & <dbl> & <dbl> & <int> & <int> & <dbl> & <int> & <dbl> & <int> & <dbl>\\\\\n",
       "\\hline\n",
       "\t2 & 1/27/2023 & Sell & 1 & 1 & AMC & -1000 & 5.51 & -5512.40 &  0 &     0.00 & -1000 & 0 & 0 & 0 & 0 & 2 &  0\\\\\n",
       "\t4 & 2/3/2023  & Sell & 2 & 2 & AMC & -1000 & 6.68 & -6682.55 & 50 & -6682.55 & -1000 & 0 & 0 & 0 & 0 & 4 & NA\\\\\n",
       "\t6 & 2/3/2023  & Sell & 3 & 3 & AMC & -1000 & 6.26 & -6255.00 & 50 & -6255.00 & -1000 & 0 & 0 & 0 & 0 & 6 & NA\\\\\n",
       "\\end{tabular}\n"
      ],
      "text/markdown": [
       "\n",
       "A data.frame: 3 × 17\n",
       "\n",
       "| <!--/--> | date &lt;chr&gt; | type &lt;chr&gt; | buy_ct &lt;int&gt; | sell_ct &lt;int&gt; | co &lt;chr&gt; | quan &lt;dbl&gt; | pps &lt;dbl&gt; | basis &lt;dbl&gt; | tally_q &lt;dbl&gt; | tally_b &lt;dbl&gt; | sale &lt;int&gt; | cf_q &lt;int&gt; | cf_b &lt;dbl&gt; | sell_q &lt;int&gt; | sell_p &lt;dbl&gt; | index &lt;int&gt; | Sale &lt;dbl&gt; |\n",
       "|---|---|---|---|---|---|---|---|---|---|---|---|---|---|---|---|---|---|\n",
       "| 2 | 1/27/2023 | Sell | 1 | 1 | AMC | -1000 | 5.51 | -5512.40 |  0 |     0.00 | -1000 | 0 | 0 | 0 | 0 | 2 |  0 |\n",
       "| 4 | 2/3/2023  | Sell | 2 | 2 | AMC | -1000 | 6.68 | -6682.55 | 50 | -6682.55 | -1000 | 0 | 0 | 0 | 0 | 4 | NA |\n",
       "| 6 | 2/3/2023  | Sell | 3 | 3 | AMC | -1000 | 6.26 | -6255.00 | 50 | -6255.00 | -1000 | 0 | 0 | 0 | 0 | 6 | NA |\n",
       "\n"
      ],
      "text/plain": [
       "  date      type buy_ct sell_ct co  quan  pps  basis    tally_q tally_b  sale \n",
       "2 1/27/2023 Sell 1      1       AMC -1000 5.51 -5512.40  0          0.00 -1000\n",
       "4 2/3/2023  Sell 2      2       AMC -1000 6.68 -6682.55 50      -6682.55 -1000\n",
       "6 2/3/2023  Sell 3      3       AMC -1000 6.26 -6255.00 50      -6255.00 -1000\n",
       "  cf_q cf_b sell_q sell_p index Sale\n",
       "2 0    0    0      0      2      0  \n",
       "4 0    0    0      0      4     NA  \n",
       "6 0    0    0      0      6     NA  "
      ]
     },
     "metadata": {},
     "output_type": "display_data"
    }
   ],
   "source": [
    "head(buys, 3)\n",
    "head(sells, 3)"
   ]
  },
  {
   "cell_type": "markdown",
   "id": "b39dd0dc-110b-4749-bc92-932acc7101bb",
   "metadata": {},
   "source": [
    "\n",
    "## <font color = yellow> Keeper for concept above"
   ]
  },
  {
   "cell_type": "code",
   "execution_count": null,
   "id": "a2945912-fb8c-4f99-b5a2-385f66be92f9",
   "metadata": {},
   "outputs": [],
   "source": [
    "\n"
   ]
  },
  {
   "cell_type": "code",
   "execution_count": null,
   "id": "e3aed24f-1705-418f-bed4-4dcb5cf0b4f6",
   "metadata": {},
   "outputs": [],
   "source": []
  },
  {
   "cell_type": "code",
   "execution_count": null,
   "id": "71a438de-2980-4176-94e3-52d918f38d75",
   "metadata": {},
   "outputs": [],
   "source": []
  },
  {
   "cell_type": "code",
   "execution_count": 5,
   "id": "d080e30d-8a35-4409-8f0c-c0d9dd1eb2cc",
   "metadata": {},
   "outputs": [],
   "source": [
    "df_sales <- data.frame()\n",
    "\n",
    "# add index column\n",
    "\n",
    "df$index <- seq(1, nrow(df))\n",
    "\n",
    "buys <- df[df$quan > 0, ]  # Filter buys\n",
    "sells <- df[df$quan < 0, ]  "
   ]
  },
  {
   "cell_type": "markdown",
   "id": "68c1d329-3410-4049-a6c2-cf094202810a",
   "metadata": {},
   "source": [
    "### <font color= yellow> # Review for user prompt "
   ]
  },
  {
   "cell_type": "code",
   "execution_count": 6,
   "id": "7a71ab46-1ae4-4054-b57c-4888d2ba0312",
   "metadata": {},
   "outputs": [],
   "source": [
    "# input_sell <- readline(prompt=\"Enter sale quantity: \")\n",
    "# sell_quan <- as.numeric(input_sell)\n",
    "# price <- readline(prompt=\"Enter sell price: \")\n",
    "# sell_price <- as.numeric(price)\n",
    "\n",
    "# str(sell_quan)\n",
    "# str(sell_price)\n"
   ]
  },
  {
   "cell_type": "code",
   "execution_count": 7,
   "id": "b9602c76-5177-48dd-bbac-ab8a4de54c2a",
   "metadata": {},
   "outputs": [
    {
     "name": "stdout",
     "output_type": "stream",
     "text": [
      "Got a Sell! \n",
      "Row number  2  Selling  1000 quantity of shares.  \n",
      "Index number is:  2 \n"
     ]
    }
   ],
   "source": [
    "for(i in 1:4) {\n",
    "\n",
    "repeat {\n",
    "      \n",
    "        if(df[i, \"type\"] == \"Sell\"){             \n",
    "            cat(\"Got a Sell!\", \"\\n\")\n",
    "            cat(\"Row number \", i, \" Selling \", abs(df$quan[i]), \"quantity of shares. \", \"\\n\")\n",
    "            cat(\"Index number is: \", df[i, \"index\"], \"\\n\")\n",
    "            sell_quan <- df[i, 'quan']\n",
    "            sell_price <- df[i, 'pps']\n",
    "            return(sell_quan)\n",
    "        }\n",
    "        i <- i + 1\n",
    "     }\n",
    "}"
   ]
  },
  {
   "cell_type": "code",
   "execution_count": 8,
   "id": "8b168864-1d1e-4683-bff7-879484056fe0",
   "metadata": {},
   "outputs": [
    {
     "data": {
      "text/html": [
       "18"
      ],
      "text/latex": [
       "18"
      ],
      "text/markdown": [
       "18"
      ],
      "text/plain": [
       "[1] 18"
      ]
     },
     "metadata": {},
     "output_type": "display_data"
    },
    {
     "data": {
      "text/html": [
       "17"
      ],
      "text/latex": [
       "17"
      ],
      "text/markdown": [
       "17"
      ],
      "text/plain": [
       "[1] 17"
      ]
     },
     "metadata": {},
     "output_type": "display_data"
    },
    {
     "data": {
      "text/html": [
       "<table class=\"dataframe\">\n",
       "<caption>A data.frame: 3 × 16</caption>\n",
       "<thead>\n",
       "\t<tr><th></th><th scope=col>date</th><th scope=col>type</th><th scope=col>buy_ct</th><th scope=col>sell_ct</th><th scope=col>co</th><th scope=col>quan</th><th scope=col>pps</th><th scope=col>basis</th><th scope=col>tally_q</th><th scope=col>tally_b</th><th scope=col>sale</th><th scope=col>cf_q</th><th scope=col>cf_b</th><th scope=col>sell_q</th><th scope=col>sell_p</th><th scope=col>index</th></tr>\n",
       "\t<tr><th></th><th scope=col>&lt;chr&gt;</th><th scope=col>&lt;chr&gt;</th><th scope=col>&lt;int&gt;</th><th scope=col>&lt;int&gt;</th><th scope=col>&lt;chr&gt;</th><th scope=col>&lt;dbl&gt;</th><th scope=col>&lt;dbl&gt;</th><th scope=col>&lt;dbl&gt;</th><th scope=col>&lt;dbl&gt;</th><th scope=col>&lt;dbl&gt;</th><th scope=col>&lt;dbl&gt;</th><th scope=col>&lt;int&gt;</th><th scope=col>&lt;dbl&gt;</th><th scope=col>&lt;int&gt;</th><th scope=col>&lt;dbl&gt;</th><th scope=col>&lt;int&gt;</th></tr>\n",
       "</thead>\n",
       "<tbody>\n",
       "\t<tr><th scope=row>1</th><td>12/31/2022</td><td>Buy</td><td>1</td><td>0</td><td>AMC</td><td>2050</td><td>4.07</td><td>8343.5</td><td>-1000</td><td>4273.5</td><td>-5510</td><td>0</td><td>0</td><td>0</td><td>0</td><td>1</td></tr>\n",
       "\t<tr><th scope=row>3</th><td>1/20/2023 </td><td>Buy</td><td>2</td><td>1</td><td>AMC</td><td>1000</td><td>5.63</td><td>5625.0</td><td> 1050</td><td>5625.0</td><td>    0</td><td>0</td><td>0</td><td>0</td><td>0</td><td>3</td></tr>\n",
       "\t<tr><th scope=row>5</th><td>1/23/2023 </td><td>Buy</td><td>3</td><td>2</td><td>AMC</td><td>1000</td><td>5.79</td><td>5788.0</td><td> 1050</td><td>5788.0</td><td>    0</td><td>0</td><td>0</td><td>0</td><td>0</td><td>5</td></tr>\n",
       "</tbody>\n",
       "</table>\n"
      ],
      "text/latex": [
       "A data.frame: 3 × 16\n",
       "\\begin{tabular}{r|llllllllllllllll}\n",
       "  & date & type & buy\\_ct & sell\\_ct & co & quan & pps & basis & tally\\_q & tally\\_b & sale & cf\\_q & cf\\_b & sell\\_q & sell\\_p & index\\\\\n",
       "  & <chr> & <chr> & <int> & <int> & <chr> & <dbl> & <dbl> & <dbl> & <dbl> & <dbl> & <dbl> & <int> & <dbl> & <int> & <dbl> & <int>\\\\\n",
       "\\hline\n",
       "\t1 & 12/31/2022 & Buy & 1 & 0 & AMC & 2050 & 4.07 & 8343.5 & -1000 & 4273.5 & -5510 & 0 & 0 & 0 & 0 & 1\\\\\n",
       "\t3 & 1/20/2023  & Buy & 2 & 1 & AMC & 1000 & 5.63 & 5625.0 &  1050 & 5625.0 &     0 & 0 & 0 & 0 & 0 & 3\\\\\n",
       "\t5 & 1/23/2023  & Buy & 3 & 2 & AMC & 1000 & 5.79 & 5788.0 &  1050 & 5788.0 &     0 & 0 & 0 & 0 & 0 & 5\\\\\n",
       "\\end{tabular}\n"
      ],
      "text/markdown": [
       "\n",
       "A data.frame: 3 × 16\n",
       "\n",
       "| <!--/--> | date &lt;chr&gt; | type &lt;chr&gt; | buy_ct &lt;int&gt; | sell_ct &lt;int&gt; | co &lt;chr&gt; | quan &lt;dbl&gt; | pps &lt;dbl&gt; | basis &lt;dbl&gt; | tally_q &lt;dbl&gt; | tally_b &lt;dbl&gt; | sale &lt;dbl&gt; | cf_q &lt;int&gt; | cf_b &lt;dbl&gt; | sell_q &lt;int&gt; | sell_p &lt;dbl&gt; | index &lt;int&gt; |\n",
       "|---|---|---|---|---|---|---|---|---|---|---|---|---|---|---|---|---|\n",
       "| 1 | 12/31/2022 | Buy | 1 | 0 | AMC | 2050 | 4.07 | 8343.5 | -1000 | 4273.5 | -5510 | 0 | 0 | 0 | 0 | 1 |\n",
       "| 3 | 1/20/2023  | Buy | 2 | 1 | AMC | 1000 | 5.63 | 5625.0 |  1050 | 5625.0 |     0 | 0 | 0 | 0 | 0 | 3 |\n",
       "| 5 | 1/23/2023  | Buy | 3 | 2 | AMC | 1000 | 5.79 | 5788.0 |  1050 | 5788.0 |     0 | 0 | 0 | 0 | 0 | 5 |\n",
       "\n"
      ],
      "text/plain": [
       "  date       type buy_ct sell_ct co  quan pps  basis  tally_q tally_b sale \n",
       "1 12/31/2022 Buy  1      0       AMC 2050 4.07 8343.5 -1000   4273.5  -5510\n",
       "3 1/20/2023  Buy  2      1       AMC 1000 5.63 5625.0  1050   5625.0      0\n",
       "5 1/23/2023  Buy  3      2       AMC 1000 5.79 5788.0  1050   5788.0      0\n",
       "  cf_q cf_b sell_q sell_p index\n",
       "1 0    0    0      0      1    \n",
       "3 0    0    0      0      3    \n",
       "5 0    0    0      0      5    "
      ]
     },
     "metadata": {},
     "output_type": "display_data"
    },
    {
     "data": {
      "text/html": [
       "<table class=\"dataframe\">\n",
       "<caption>A data.frame: 1 × 16</caption>\n",
       "<thead>\n",
       "\t<tr><th></th><th scope=col>date</th><th scope=col>type</th><th scope=col>buy_ct</th><th scope=col>sell_ct</th><th scope=col>co</th><th scope=col>quan</th><th scope=col>pps</th><th scope=col>basis</th><th scope=col>tally_q</th><th scope=col>tally_b</th><th scope=col>sale</th><th scope=col>cf_q</th><th scope=col>cf_b</th><th scope=col>sell_q</th><th scope=col>sell_p</th><th scope=col>index</th></tr>\n",
       "\t<tr><th></th><th scope=col>&lt;chr&gt;</th><th scope=col>&lt;chr&gt;</th><th scope=col>&lt;int&gt;</th><th scope=col>&lt;int&gt;</th><th scope=col>&lt;chr&gt;</th><th scope=col>&lt;dbl&gt;</th><th scope=col>&lt;dbl&gt;</th><th scope=col>&lt;dbl&gt;</th><th scope=col>&lt;dbl&gt;</th><th scope=col>&lt;dbl&gt;</th><th scope=col>&lt;dbl&gt;</th><th scope=col>&lt;int&gt;</th><th scope=col>&lt;dbl&gt;</th><th scope=col>&lt;int&gt;</th><th scope=col>&lt;dbl&gt;</th><th scope=col>&lt;int&gt;</th></tr>\n",
       "</thead>\n",
       "<tbody>\n",
       "\t<tr><th scope=row>1</th><td>12/31/2022</td><td>Buy</td><td>1</td><td>0</td><td>AMC</td><td>2050</td><td>4.07</td><td>8343.5</td><td>-1000</td><td>4273.5</td><td>-5510</td><td>0</td><td>0</td><td>0</td><td>0</td><td>1</td></tr>\n",
       "</tbody>\n",
       "</table>\n"
      ],
      "text/latex": [
       "A data.frame: 1 × 16\n",
       "\\begin{tabular}{r|llllllllllllllll}\n",
       "  & date & type & buy\\_ct & sell\\_ct & co & quan & pps & basis & tally\\_q & tally\\_b & sale & cf\\_q & cf\\_b & sell\\_q & sell\\_p & index\\\\\n",
       "  & <chr> & <chr> & <int> & <int> & <chr> & <dbl> & <dbl> & <dbl> & <dbl> & <dbl> & <dbl> & <int> & <dbl> & <int> & <dbl> & <int>\\\\\n",
       "\\hline\n",
       "\t1 & 12/31/2022 & Buy & 1 & 0 & AMC & 2050 & 4.07 & 8343.5 & -1000 & 4273.5 & -5510 & 0 & 0 & 0 & 0 & 1\\\\\n",
       "\\end{tabular}\n"
      ],
      "text/markdown": [
       "\n",
       "A data.frame: 1 × 16\n",
       "\n",
       "| <!--/--> | date &lt;chr&gt; | type &lt;chr&gt; | buy_ct &lt;int&gt; | sell_ct &lt;int&gt; | co &lt;chr&gt; | quan &lt;dbl&gt; | pps &lt;dbl&gt; | basis &lt;dbl&gt; | tally_q &lt;dbl&gt; | tally_b &lt;dbl&gt; | sale &lt;dbl&gt; | cf_q &lt;int&gt; | cf_b &lt;dbl&gt; | sell_q &lt;int&gt; | sell_p &lt;dbl&gt; | index &lt;int&gt; |\n",
       "|---|---|---|---|---|---|---|---|---|---|---|---|---|---|---|---|---|\n",
       "| 1 | 12/31/2022 | Buy | 1 | 0 | AMC | 2050 | 4.07 | 8343.5 | -1000 | 4273.5 | -5510 | 0 | 0 | 0 | 0 | 1 |\n",
       "\n"
      ],
      "text/plain": [
       "  date       type buy_ct sell_ct co  quan pps  basis  tally_q tally_b sale \n",
       "1 12/31/2022 Buy  1      0       AMC 2050 4.07 8343.5 -1000   4273.5  -5510\n",
       "  cf_q cf_b sell_q sell_p index\n",
       "1 0    0    0      0      1    "
      ]
     },
     "metadata": {},
     "output_type": "display_data"
    }
   ],
   "source": [
    "\n",
    "\n",
    "nrow(sells)\n",
    "\n",
    "     if(buys[1, 'quan'] > sell_quan) {       \n",
    "         \n",
    "     # create New Balance\n",
    "         buys[1,'quan'] <- buys[1,'quan'] - sell_quan\n",
    "         buys[1,'basis'] <- buys[1, 'quan'] * buys[1, \"pps\"]\n",
    "         buys[1,'tally_q'] <- sell_quan\n",
    "         buys[1,'sale'] <- buys[1,'sale'] + sell_quan * sell_price\n",
    "         temp <- data.frame(buys[1, ])\n",
    "         df_sales <- rbind(df_sales, temp)\n",
    "         sells <- sells[-1, ]\n",
    "    } else if (buys[1, 'quan']  < sell_quan) {       \n",
    "         cf1 <- buys[1,'quan']\n",
    "         cf2 <- buys[1, \"basis\"]\n",
    "         buys <- buys[-1, ]\n",
    "         buys[1,'quan'] <- buys[1,'quan'] + cf1\n",
    "         buys[1,'basis'] <- buys[1, 'basis'] + cf2\n",
    "         \n",
    "         buys[1,'quan'] <- buys[1,'quan'] - sell_quan\n",
    "         buys[1,'basis'] <- buys[1, 'quan'] * buys[1, \"pps\"]\n",
    "         buys[1,'tally_q'] <- sell_quan\n",
    "         buys[1,'sale'] <- buys[1,'sale'] + sell_quan * sell_price\n",
    "         temp <- data.frame(buys[1, ])\n",
    "         df_sales <- rbind(df_sales, temp)\n",
    "         sells <- sells[-1, ]\n",
    "         }\n",
    "    \n",
    "\n",
    "\n",
    "nrow(sells)\n",
    "head(buys, 3)     \n",
    "head(df_sales)\n"
   ]
  },
  {
   "cell_type": "code",
   "execution_count": 9,
   "id": "ff6ff84c-7c71-4650-8bba-edb4a40ee89a",
   "metadata": {},
   "outputs": [
    {
     "data": {
      "text/html": [
       "<table class=\"dataframe\">\n",
       "<caption>A data.frame: 3 × 16</caption>\n",
       "<thead>\n",
       "\t<tr><th></th><th scope=col>date</th><th scope=col>type</th><th scope=col>buy_ct</th><th scope=col>sell_ct</th><th scope=col>co</th><th scope=col>quan</th><th scope=col>pps</th><th scope=col>basis</th><th scope=col>tally_q</th><th scope=col>tally_b</th><th scope=col>sale</th><th scope=col>cf_q</th><th scope=col>cf_b</th><th scope=col>sell_q</th><th scope=col>sell_p</th><th scope=col>index</th></tr>\n",
       "\t<tr><th></th><th scope=col>&lt;chr&gt;</th><th scope=col>&lt;chr&gt;</th><th scope=col>&lt;int&gt;</th><th scope=col>&lt;int&gt;</th><th scope=col>&lt;chr&gt;</th><th scope=col>&lt;dbl&gt;</th><th scope=col>&lt;dbl&gt;</th><th scope=col>&lt;dbl&gt;</th><th scope=col>&lt;int&gt;</th><th scope=col>&lt;dbl&gt;</th><th scope=col>&lt;int&gt;</th><th scope=col>&lt;int&gt;</th><th scope=col>&lt;dbl&gt;</th><th scope=col>&lt;int&gt;</th><th scope=col>&lt;dbl&gt;</th><th scope=col>&lt;int&gt;</th></tr>\n",
       "</thead>\n",
       "<tbody>\n",
       "\t<tr><th scope=row>4</th><td>2/3/2023</td><td>Sell</td><td>2</td><td>2</td><td>AMC</td><td>-1000</td><td>6.68</td><td>-6682.55</td><td>  50</td><td>-6682.55</td><td>-1000</td><td>0</td><td>0</td><td>0</td><td>0</td><td>4</td></tr>\n",
       "\t<tr><th scope=row>6</th><td>2/3/2023</td><td>Sell</td><td>3</td><td>3</td><td>AMC</td><td>-1000</td><td>6.26</td><td>-6255.00</td><td>  50</td><td>-6255.00</td><td>-1000</td><td>0</td><td>0</td><td>0</td><td>0</td><td>6</td></tr>\n",
       "\t<tr><th scope=row>8</th><td>2/3/2023</td><td>Sell</td><td>4</td><td>4</td><td>AMC</td><td>-1000</td><td>6.19</td><td>-6190.10</td><td>1050</td><td>-6190.10</td><td>-1000</td><td>0</td><td>0</td><td>0</td><td>0</td><td>8</td></tr>\n",
       "</tbody>\n",
       "</table>\n"
      ],
      "text/latex": [
       "A data.frame: 3 × 16\n",
       "\\begin{tabular}{r|llllllllllllllll}\n",
       "  & date & type & buy\\_ct & sell\\_ct & co & quan & pps & basis & tally\\_q & tally\\_b & sale & cf\\_q & cf\\_b & sell\\_q & sell\\_p & index\\\\\n",
       "  & <chr> & <chr> & <int> & <int> & <chr> & <dbl> & <dbl> & <dbl> & <int> & <dbl> & <int> & <int> & <dbl> & <int> & <dbl> & <int>\\\\\n",
       "\\hline\n",
       "\t4 & 2/3/2023 & Sell & 2 & 2 & AMC & -1000 & 6.68 & -6682.55 &   50 & -6682.55 & -1000 & 0 & 0 & 0 & 0 & 4\\\\\n",
       "\t6 & 2/3/2023 & Sell & 3 & 3 & AMC & -1000 & 6.26 & -6255.00 &   50 & -6255.00 & -1000 & 0 & 0 & 0 & 0 & 6\\\\\n",
       "\t8 & 2/3/2023 & Sell & 4 & 4 & AMC & -1000 & 6.19 & -6190.10 & 1050 & -6190.10 & -1000 & 0 & 0 & 0 & 0 & 8\\\\\n",
       "\\end{tabular}\n"
      ],
      "text/markdown": [
       "\n",
       "A data.frame: 3 × 16\n",
       "\n",
       "| <!--/--> | date &lt;chr&gt; | type &lt;chr&gt; | buy_ct &lt;int&gt; | sell_ct &lt;int&gt; | co &lt;chr&gt; | quan &lt;dbl&gt; | pps &lt;dbl&gt; | basis &lt;dbl&gt; | tally_q &lt;int&gt; | tally_b &lt;dbl&gt; | sale &lt;int&gt; | cf_q &lt;int&gt; | cf_b &lt;dbl&gt; | sell_q &lt;int&gt; | sell_p &lt;dbl&gt; | index &lt;int&gt; |\n",
       "|---|---|---|---|---|---|---|---|---|---|---|---|---|---|---|---|---|\n",
       "| 4 | 2/3/2023 | Sell | 2 | 2 | AMC | -1000 | 6.68 | -6682.55 |   50 | -6682.55 | -1000 | 0 | 0 | 0 | 0 | 4 |\n",
       "| 6 | 2/3/2023 | Sell | 3 | 3 | AMC | -1000 | 6.26 | -6255.00 |   50 | -6255.00 | -1000 | 0 | 0 | 0 | 0 | 6 |\n",
       "| 8 | 2/3/2023 | Sell | 4 | 4 | AMC | -1000 | 6.19 | -6190.10 | 1050 | -6190.10 | -1000 | 0 | 0 | 0 | 0 | 8 |\n",
       "\n"
      ],
      "text/plain": [
       "  date     type buy_ct sell_ct co  quan  pps  basis    tally_q tally_b  sale \n",
       "4 2/3/2023 Sell 2      2       AMC -1000 6.68 -6682.55   50    -6682.55 -1000\n",
       "6 2/3/2023 Sell 3      3       AMC -1000 6.26 -6255.00   50    -6255.00 -1000\n",
       "8 2/3/2023 Sell 4      4       AMC -1000 6.19 -6190.10 1050    -6190.10 -1000\n",
       "  cf_q cf_b sell_q sell_p index\n",
       "4 0    0    0      0      4    \n",
       "6 0    0    0      0      6    \n",
       "8 0    0    0      0      8    "
      ]
     },
     "metadata": {},
     "output_type": "display_data"
    }
   ],
   "source": [
    "head(sells,3)"
   ]
  },
  {
   "cell_type": "code",
   "execution_count": null,
   "id": "236373d3-367b-486d-8fda-523451abec9e",
   "metadata": {},
   "outputs": [],
   "source": []
  },
  {
   "cell_type": "code",
   "execution_count": null,
   "id": "f1373246-97c1-4bd1-8816-2498ad55b7f6",
   "metadata": {},
   "outputs": [],
   "source": []
  },
  {
   "cell_type": "code",
   "execution_count": 10,
   "id": "b0f50958-7704-4a03-a9a7-76a2b62176ef",
   "metadata": {},
   "outputs": [],
   "source": [
    "\n",
    "\n",
    "# input_sell <- readline(prompt=\"Enter sale quantity: \")\n",
    "# sell_quan <- as.numeric(input_sell)\n",
    "# price <- readline(prompt=\"Enter sell price: \")\n",
    "# sell_price <- as.numeric(price)\n",
    "\n",
    "# nrow(sells)\n",
    "\n",
    "\n",
    "\n",
    "\n",
    "#      if(buys[1, 'quan'] > sell_quan) {       \n",
    "         \n",
    "#      # create New Balance\n",
    "#          buys[1,'quan'] <- buys[1,'quan'] - sell_quan\n",
    "#          buys[1,'basis'] <- buys[1, 'quan'] * buys[1,\"pps\"]\n",
    "#          buys[1,'tally_q'] <- sell_quan\n",
    "#          buys[1,'sale'] <- buys[1,'sale'] + sell_quan * sell_price\n",
    "#          temp <- data.frame(buys[1, ])\n",
    "#          df_sales <- rbind(df_sales, temp)\n",
    "#          sells <- sells[-1, ]\n",
    "#     } else if (buys[1, 'quan']  < sell_quan) {       \n",
    "#          cf1 <- buys[1,'quan']\n",
    "#          cf2 <- buys[1,\"basis\"]\n",
    "#          buys <- buys[-1, ]\n",
    "#          buys[1,'quan'] <- buys[1,'quan'] + cf1\n",
    "#          buys[1,'basis'] <- buys[1, 'basis'] + cf2\n",
    "         \n",
    "#          buys[1,'quan'] <- buys[1,'quan'] - sell_quan\n",
    "#          buys[1,'basis'] <- buys[1, 'quan'] * buys[1,\"pps\"]\n",
    "#          buys[1,'tally_q'] <- sell_quan\n",
    "#          buys[1,'sale'] <- buys[1,'sale'] + sell_quan * sell_price\n",
    "#          temp <- data.frame(buys[1, ])\n",
    "#          df_sales <- rbind(df_sales, temp)\n",
    "#          sells <- sells[-1, ]\n",
    "#          }\n",
    "    \n",
    "    \n",
    "\n",
    "# nrow(sells)\n",
    "# head(buys, 3)     \n",
    "# head(df_sales)\n"
   ]
  },
  {
   "cell_type": "code",
   "execution_count": null,
   "id": "9341c48b-5608-4a78-98a6-a59508ac726d",
   "metadata": {},
   "outputs": [],
   "source": []
  },
  {
   "cell_type": "code",
   "execution_count": 11,
   "id": "dec37c6a-eb0b-447c-a0d3-22f25b4e4218",
   "metadata": {},
   "outputs": [],
   "source": [
    "df <- read.csv(\"fifo.csv\", header = TRUE, sep = \",\")\n",
    "df$index <- seq(1:nrow(df))\n",
    "df$cf_q <- as.integer(rep(0, nrow(df)))\n",
    "df$cf_b <- as.numeric(rep(0, nrow(df)))\n",
    "df$sell_q <- as.integer(rep(0, nrow(df)))\n",
    "df$sell_p <- as.numeric(rep(0, nrow(df)))\n",
    "df$index <- seq(1:nrow(df))\n",
    "\n",
    "\n",
    "\n",
    "\n",
    "df[1, 'type'] <- \"Buy\"\n",
    "\n",
    "df_sales <- data.frame()\n",
    "buys <- df[df$quan > 0, ]  # Filter buys\n",
    "sells <- df[df$quan < 0, ]  "
   ]
  },
  {
   "cell_type": "code",
   "execution_count": 12,
   "id": "e5af9987-fb41-4a0b-8426-45df4e0ea9d5",
   "metadata": {},
   "outputs": [
    {
     "data": {
      "text/html": [
       "<table class=\"dataframe\">\n",
       "<caption>A data.frame: 3 × 16</caption>\n",
       "<thead>\n",
       "\t<tr><th></th><th scope=col>date</th><th scope=col>type</th><th scope=col>buy_ct</th><th scope=col>sell_ct</th><th scope=col>co</th><th scope=col>quan</th><th scope=col>pps</th><th scope=col>basis</th><th scope=col>tally_q</th><th scope=col>tally_b</th><th scope=col>sale</th><th scope=col>index</th><th scope=col>cf_q</th><th scope=col>cf_b</th><th scope=col>sell_q</th><th scope=col>sell_p</th></tr>\n",
       "\t<tr><th></th><th scope=col>&lt;chr&gt;</th><th scope=col>&lt;chr&gt;</th><th scope=col>&lt;int&gt;</th><th scope=col>&lt;int&gt;</th><th scope=col>&lt;chr&gt;</th><th scope=col>&lt;dbl&gt;</th><th scope=col>&lt;dbl&gt;</th><th scope=col>&lt;dbl&gt;</th><th scope=col>&lt;int&gt;</th><th scope=col>&lt;dbl&gt;</th><th scope=col>&lt;int&gt;</th><th scope=col>&lt;int&gt;</th><th scope=col>&lt;int&gt;</th><th scope=col>&lt;dbl&gt;</th><th scope=col>&lt;int&gt;</th><th scope=col>&lt;dbl&gt;</th></tr>\n",
       "</thead>\n",
       "<tbody>\n",
       "\t<tr><th scope=row>1</th><td>12/31/2022</td><td>Buy</td><td>1</td><td>0</td><td>AMC</td><td>1050</td><td>4.07</td><td>4273.5</td><td>1050</td><td>4273.5</td><td>0</td><td>1</td><td>0</td><td>0</td><td>0</td><td>0</td></tr>\n",
       "\t<tr><th scope=row>3</th><td>1/20/2023 </td><td>Buy</td><td>2</td><td>1</td><td>AMC</td><td>1000</td><td>5.63</td><td>5625.0</td><td>1050</td><td>5625.0</td><td>0</td><td>3</td><td>0</td><td>0</td><td>0</td><td>0</td></tr>\n",
       "\t<tr><th scope=row>5</th><td>1/23/2023 </td><td>Buy</td><td>3</td><td>2</td><td>AMC</td><td>1000</td><td>5.79</td><td>5788.0</td><td>1050</td><td>5788.0</td><td>0</td><td>5</td><td>0</td><td>0</td><td>0</td><td>0</td></tr>\n",
       "</tbody>\n",
       "</table>\n"
      ],
      "text/latex": [
       "A data.frame: 3 × 16\n",
       "\\begin{tabular}{r|llllllllllllllll}\n",
       "  & date & type & buy\\_ct & sell\\_ct & co & quan & pps & basis & tally\\_q & tally\\_b & sale & index & cf\\_q & cf\\_b & sell\\_q & sell\\_p\\\\\n",
       "  & <chr> & <chr> & <int> & <int> & <chr> & <dbl> & <dbl> & <dbl> & <int> & <dbl> & <int> & <int> & <int> & <dbl> & <int> & <dbl>\\\\\n",
       "\\hline\n",
       "\t1 & 12/31/2022 & Buy & 1 & 0 & AMC & 1050 & 4.07 & 4273.5 & 1050 & 4273.5 & 0 & 1 & 0 & 0 & 0 & 0\\\\\n",
       "\t3 & 1/20/2023  & Buy & 2 & 1 & AMC & 1000 & 5.63 & 5625.0 & 1050 & 5625.0 & 0 & 3 & 0 & 0 & 0 & 0\\\\\n",
       "\t5 & 1/23/2023  & Buy & 3 & 2 & AMC & 1000 & 5.79 & 5788.0 & 1050 & 5788.0 & 0 & 5 & 0 & 0 & 0 & 0\\\\\n",
       "\\end{tabular}\n"
      ],
      "text/markdown": [
       "\n",
       "A data.frame: 3 × 16\n",
       "\n",
       "| <!--/--> | date &lt;chr&gt; | type &lt;chr&gt; | buy_ct &lt;int&gt; | sell_ct &lt;int&gt; | co &lt;chr&gt; | quan &lt;dbl&gt; | pps &lt;dbl&gt; | basis &lt;dbl&gt; | tally_q &lt;int&gt; | tally_b &lt;dbl&gt; | sale &lt;int&gt; | index &lt;int&gt; | cf_q &lt;int&gt; | cf_b &lt;dbl&gt; | sell_q &lt;int&gt; | sell_p &lt;dbl&gt; |\n",
       "|---|---|---|---|---|---|---|---|---|---|---|---|---|---|---|---|---|\n",
       "| 1 | 12/31/2022 | Buy | 1 | 0 | AMC | 1050 | 4.07 | 4273.5 | 1050 | 4273.5 | 0 | 1 | 0 | 0 | 0 | 0 |\n",
       "| 3 | 1/20/2023  | Buy | 2 | 1 | AMC | 1000 | 5.63 | 5625.0 | 1050 | 5625.0 | 0 | 3 | 0 | 0 | 0 | 0 |\n",
       "| 5 | 1/23/2023  | Buy | 3 | 2 | AMC | 1000 | 5.79 | 5788.0 | 1050 | 5788.0 | 0 | 5 | 0 | 0 | 0 | 0 |\n",
       "\n"
      ],
      "text/plain": [
       "  date       type buy_ct sell_ct co  quan pps  basis  tally_q tally_b sale\n",
       "1 12/31/2022 Buy  1      0       AMC 1050 4.07 4273.5 1050    4273.5  0   \n",
       "3 1/20/2023  Buy  2      1       AMC 1000 5.63 5625.0 1050    5625.0  0   \n",
       "5 1/23/2023  Buy  3      2       AMC 1000 5.79 5788.0 1050    5788.0  0   \n",
       "  index cf_q cf_b sell_q sell_p\n",
       "1 1     0    0    0      0     \n",
       "3 3     0    0    0      0     \n",
       "5 5     0    0    0      0     "
      ]
     },
     "metadata": {},
     "output_type": "display_data"
    },
    {
     "data": {
      "text/html": [
       "<table class=\"dataframe\">\n",
       "<caption>A data.frame: 3 × 16</caption>\n",
       "<thead>\n",
       "\t<tr><th></th><th scope=col>date</th><th scope=col>type</th><th scope=col>buy_ct</th><th scope=col>sell_ct</th><th scope=col>co</th><th scope=col>quan</th><th scope=col>pps</th><th scope=col>basis</th><th scope=col>tally_q</th><th scope=col>tally_b</th><th scope=col>sale</th><th scope=col>index</th><th scope=col>cf_q</th><th scope=col>cf_b</th><th scope=col>sell_q</th><th scope=col>sell_p</th></tr>\n",
       "\t<tr><th></th><th scope=col>&lt;chr&gt;</th><th scope=col>&lt;chr&gt;</th><th scope=col>&lt;int&gt;</th><th scope=col>&lt;int&gt;</th><th scope=col>&lt;chr&gt;</th><th scope=col>&lt;dbl&gt;</th><th scope=col>&lt;dbl&gt;</th><th scope=col>&lt;dbl&gt;</th><th scope=col>&lt;int&gt;</th><th scope=col>&lt;dbl&gt;</th><th scope=col>&lt;int&gt;</th><th scope=col>&lt;int&gt;</th><th scope=col>&lt;int&gt;</th><th scope=col>&lt;dbl&gt;</th><th scope=col>&lt;int&gt;</th><th scope=col>&lt;dbl&gt;</th></tr>\n",
       "</thead>\n",
       "<tbody>\n",
       "\t<tr><th scope=row>2</th><td>1/27/2023</td><td>Sell</td><td>1</td><td>1</td><td>AMC</td><td>-1000</td><td>5.51</td><td>-5512.40</td><td>50</td><td>-5512.40</td><td>-1000</td><td>2</td><td>0</td><td>0</td><td>0</td><td>0</td></tr>\n",
       "\t<tr><th scope=row>4</th><td>2/3/2023 </td><td>Sell</td><td>2</td><td>2</td><td>AMC</td><td>-1000</td><td>6.68</td><td>-6682.55</td><td>50</td><td>-6682.55</td><td>-1000</td><td>4</td><td>0</td><td>0</td><td>0</td><td>0</td></tr>\n",
       "\t<tr><th scope=row>6</th><td>2/3/2023 </td><td>Sell</td><td>3</td><td>3</td><td>AMC</td><td>-1000</td><td>6.26</td><td>-6255.00</td><td>50</td><td>-6255.00</td><td>-1000</td><td>6</td><td>0</td><td>0</td><td>0</td><td>0</td></tr>\n",
       "</tbody>\n",
       "</table>\n"
      ],
      "text/latex": [
       "A data.frame: 3 × 16\n",
       "\\begin{tabular}{r|llllllllllllllll}\n",
       "  & date & type & buy\\_ct & sell\\_ct & co & quan & pps & basis & tally\\_q & tally\\_b & sale & index & cf\\_q & cf\\_b & sell\\_q & sell\\_p\\\\\n",
       "  & <chr> & <chr> & <int> & <int> & <chr> & <dbl> & <dbl> & <dbl> & <int> & <dbl> & <int> & <int> & <int> & <dbl> & <int> & <dbl>\\\\\n",
       "\\hline\n",
       "\t2 & 1/27/2023 & Sell & 1 & 1 & AMC & -1000 & 5.51 & -5512.40 & 50 & -5512.40 & -1000 & 2 & 0 & 0 & 0 & 0\\\\\n",
       "\t4 & 2/3/2023  & Sell & 2 & 2 & AMC & -1000 & 6.68 & -6682.55 & 50 & -6682.55 & -1000 & 4 & 0 & 0 & 0 & 0\\\\\n",
       "\t6 & 2/3/2023  & Sell & 3 & 3 & AMC & -1000 & 6.26 & -6255.00 & 50 & -6255.00 & -1000 & 6 & 0 & 0 & 0 & 0\\\\\n",
       "\\end{tabular}\n"
      ],
      "text/markdown": [
       "\n",
       "A data.frame: 3 × 16\n",
       "\n",
       "| <!--/--> | date &lt;chr&gt; | type &lt;chr&gt; | buy_ct &lt;int&gt; | sell_ct &lt;int&gt; | co &lt;chr&gt; | quan &lt;dbl&gt; | pps &lt;dbl&gt; | basis &lt;dbl&gt; | tally_q &lt;int&gt; | tally_b &lt;dbl&gt; | sale &lt;int&gt; | index &lt;int&gt; | cf_q &lt;int&gt; | cf_b &lt;dbl&gt; | sell_q &lt;int&gt; | sell_p &lt;dbl&gt; |\n",
       "|---|---|---|---|---|---|---|---|---|---|---|---|---|---|---|---|---|\n",
       "| 2 | 1/27/2023 | Sell | 1 | 1 | AMC | -1000 | 5.51 | -5512.40 | 50 | -5512.40 | -1000 | 2 | 0 | 0 | 0 | 0 |\n",
       "| 4 | 2/3/2023  | Sell | 2 | 2 | AMC | -1000 | 6.68 | -6682.55 | 50 | -6682.55 | -1000 | 4 | 0 | 0 | 0 | 0 |\n",
       "| 6 | 2/3/2023  | Sell | 3 | 3 | AMC | -1000 | 6.26 | -6255.00 | 50 | -6255.00 | -1000 | 6 | 0 | 0 | 0 | 0 |\n",
       "\n"
      ],
      "text/plain": [
       "  date      type buy_ct sell_ct co  quan  pps  basis    tally_q tally_b  sale \n",
       "2 1/27/2023 Sell 1      1       AMC -1000 5.51 -5512.40 50      -5512.40 -1000\n",
       "4 2/3/2023  Sell 2      2       AMC -1000 6.68 -6682.55 50      -6682.55 -1000\n",
       "6 2/3/2023  Sell 3      3       AMC -1000 6.26 -6255.00 50      -6255.00 -1000\n",
       "  index cf_q cf_b sell_q sell_p\n",
       "2 2     0    0    0      0     \n",
       "4 4     0    0    0      0     \n",
       "6 6     0    0    0      0     "
      ]
     },
     "metadata": {},
     "output_type": "display_data"
    }
   ],
   "source": [
    "buy_ctr <- as.integer(1)\n",
    "head(buys,3)\n",
    "head(sells,3)"
   ]
  },
  {
   "cell_type": "markdown",
   "id": "9620c1f6-e25d-4086-8090-717660d7f238",
   "metadata": {},
   "source": [
    "### <font color = lime> Strange result"
   ]
  },
  {
   "cell_type": "code",
   "execution_count": null,
   "id": "941bc1c5-d72d-4cb0-ad6b-fe73be15a407",
   "metadata": {},
   "outputs": [],
   "source": []
  },
  {
   "cell_type": "code",
   "execution_count": 13,
   "id": "190af7ef-09ea-418c-87ff-906c52b59d41",
   "metadata": {},
   "outputs": [],
   "source": [
    "# df[1, 'type'] <- \"Buy\"\n",
    "# head(df,3)"
   ]
  },
  {
   "cell_type": "code",
   "execution_count": null,
   "id": "499dffc7-2bdc-4c39-a6af-e7eefdb4546e",
   "metadata": {},
   "outputs": [],
   "source": []
  },
  {
   "cell_type": "code",
   "execution_count": 14,
   "id": "b4870679-8521-461e-a8e6-c24d259e7091",
   "metadata": {},
   "outputs": [
    {
     "data": {
      "text/html": [
       "<table class=\"dataframe\">\n",
       "<caption>A data.frame: 1 × 16</caption>\n",
       "<thead>\n",
       "\t<tr><th></th><th scope=col>date</th><th scope=col>type</th><th scope=col>buy_ct</th><th scope=col>sell_ct</th><th scope=col>co</th><th scope=col>quan</th><th scope=col>pps</th><th scope=col>basis</th><th scope=col>tally_q</th><th scope=col>tally_b</th><th scope=col>sale</th><th scope=col>index</th><th scope=col>cf_q</th><th scope=col>cf_b</th><th scope=col>sell_q</th><th scope=col>sell_p</th></tr>\n",
       "\t<tr><th></th><th scope=col>&lt;chr&gt;</th><th scope=col>&lt;chr&gt;</th><th scope=col>&lt;int&gt;</th><th scope=col>&lt;int&gt;</th><th scope=col>&lt;chr&gt;</th><th scope=col>&lt;dbl&gt;</th><th scope=col>&lt;dbl&gt;</th><th scope=col>&lt;dbl&gt;</th><th scope=col>&lt;int&gt;</th><th scope=col>&lt;dbl&gt;</th><th scope=col>&lt;int&gt;</th><th scope=col>&lt;int&gt;</th><th scope=col>&lt;int&gt;</th><th scope=col>&lt;dbl&gt;</th><th scope=col>&lt;int&gt;</th><th scope=col>&lt;dbl&gt;</th></tr>\n",
       "</thead>\n",
       "<tbody>\n",
       "\t<tr><th scope=row>2</th><td>1/27/2023</td><td>Sell</td><td>1</td><td>1</td><td>AMC</td><td>-1000</td><td>5.51</td><td>-5512.4</td><td>50</td><td>-5512.4</td><td>-1000</td><td>2</td><td>0</td><td>0</td><td>0</td><td>0</td></tr>\n",
       "</tbody>\n",
       "</table>\n"
      ],
      "text/latex": [
       "A data.frame: 1 × 16\n",
       "\\begin{tabular}{r|llllllllllllllll}\n",
       "  & date & type & buy\\_ct & sell\\_ct & co & quan & pps & basis & tally\\_q & tally\\_b & sale & index & cf\\_q & cf\\_b & sell\\_q & sell\\_p\\\\\n",
       "  & <chr> & <chr> & <int> & <int> & <chr> & <dbl> & <dbl> & <dbl> & <int> & <dbl> & <int> & <int> & <int> & <dbl> & <int> & <dbl>\\\\\n",
       "\\hline\n",
       "\t2 & 1/27/2023 & Sell & 1 & 1 & AMC & -1000 & 5.51 & -5512.4 & 50 & -5512.4 & -1000 & 2 & 0 & 0 & 0 & 0\\\\\n",
       "\\end{tabular}\n"
      ],
      "text/markdown": [
       "\n",
       "A data.frame: 1 × 16\n",
       "\n",
       "| <!--/--> | date &lt;chr&gt; | type &lt;chr&gt; | buy_ct &lt;int&gt; | sell_ct &lt;int&gt; | co &lt;chr&gt; | quan &lt;dbl&gt; | pps &lt;dbl&gt; | basis &lt;dbl&gt; | tally_q &lt;int&gt; | tally_b &lt;dbl&gt; | sale &lt;int&gt; | index &lt;int&gt; | cf_q &lt;int&gt; | cf_b &lt;dbl&gt; | sell_q &lt;int&gt; | sell_p &lt;dbl&gt; |\n",
       "|---|---|---|---|---|---|---|---|---|---|---|---|---|---|---|---|---|\n",
       "| 2 | 1/27/2023 | Sell | 1 | 1 | AMC | -1000 | 5.51 | -5512.4 | 50 | -5512.4 | -1000 | 2 | 0 | 0 | 0 | 0 |\n",
       "\n"
      ],
      "text/plain": [
       "  date      type buy_ct sell_ct co  quan  pps  basis   tally_q tally_b sale \n",
       "2 1/27/2023 Sell 1      1       AMC -1000 5.51 -5512.4 50      -5512.4 -1000\n",
       "  index cf_q cf_b sell_q sell_p\n",
       "2 2     0    0    0      0     "
      ]
     },
     "metadata": {},
     "output_type": "display_data"
    }
   ],
   "source": [
    "df[i,]"
   ]
  },
  {
   "cell_type": "code",
   "execution_count": null,
   "id": "5a1d4dcb-dc35-48a9-b1cd-736048329ca2",
   "metadata": {},
   "outputs": [],
   "source": []
  },
  {
   "cell_type": "code",
   "execution_count": null,
   "id": "b8e04155-6006-40ed-a9b5-785f1f89ebbb",
   "metadata": {},
   "outputs": [],
   "source": []
  },
  {
   "cell_type": "code",
   "execution_count": null,
   "id": "8edf5697-bd56-42a3-b705-af9895a3221d",
   "metadata": {},
   "outputs": [],
   "source": []
  },
  {
   "cell_type": "code",
   "execution_count": null,
   "id": "df951ce3-0096-4d2b-b37a-56de50079e6d",
   "metadata": {},
   "outputs": [],
   "source": []
  },
  {
   "cell_type": "code",
   "execution_count": null,
   "id": "7daf8746-ec4b-45b0-9bd4-50f30aa0484b",
   "metadata": {},
   "outputs": [],
   "source": []
  },
  {
   "cell_type": "markdown",
   "id": "382cd870-b795-48f8-9727-68ca94b14ed8",
   "metadata": {},
   "source": [
    "## <font color = yellow> Change: don't delete rows, use the new ctr var in the df"
   ]
  },
  {
   "cell_type": "code",
   "execution_count": null,
   "id": "b1d4bcd5-09a6-4809-810f-cec29f1065ea",
   "metadata": {},
   "outputs": [],
   "source": []
  },
  {
   "cell_type": "code",
   "execution_count": 15,
   "id": "859ca5aa-7e02-44fc-9857-01fc3f28cd23",
   "metadata": {},
   "outputs": [],
   "source": [
    "# Gets sell information for conditionals \n",
    "\n",
    "get_sell <- function () {\n",
    "\n",
    "    for(i in 1:nrow(sells)) {\n",
    "    ct <- 0\n",
    "    repeat {\n",
    "      \n",
    "        if(df[i, \"type\"] == \"Sell\"){             \n",
    "            # cat(\"Got a Sell!\", \"\\n\")\n",
    "            # cat(\"Row number \", i, \" Selling \", abs(df$quan[i]), \"quantity of shares. \", \"\\n\")\n",
    "            # cat(\"Index number is: \", df[i, \"index\"], \"\\n\")\n",
    "            sell_index <<- df[i, \"index\"]\n",
    "            sell_quan <<- df[i, 'quan']\n",
    "            return()\n",
    "        }  # if\n",
    "        i <- i + 1\n",
    "     }   # repeat\n",
    "  } # for\n",
    "}  # fct\n",
    "    "
   ]
  },
  {
   "cell_type": "code",
   "execution_count": null,
   "id": "722c7bd4-a2b4-4512-b276-9a4f72cb7bfb",
   "metadata": {},
   "outputs": [],
   "source": []
  },
  {
   "cell_type": "code",
   "execution_count": 16,
   "id": "ce2116c2-62f7-4cb4-a8fe-c76ce5fc9b76",
   "metadata": {},
   "outputs": [
    {
     "name": "stdout",
     "output_type": "stream",
     "text": [
      "works with these two rows. One is:  1 , Two is:  2 \n",
      "works with these two rows. One is:  3 , Two is:  4 \n",
      "works with these two rows. One is:  5 , Two is:  6 \n",
      "works with these two rows. One is:  7 , Two is:  8 \n"
     ]
    }
   ],
   "source": [
    "\n",
    "for(i in 1:8) {\n",
    "\n",
    "if(df[i, 'type'] == \"Buy\" && df[i+1, 'type'] == \"Sell\") {     \n",
    "    cat(\"works with these two rows. One is: \" , i, \", Two is: \", i+1, \"\\n\")    \n",
    "    }\n",
    "get_sell()\n",
    "\n",
    "    if(sell_quan >= df[i, 'quan']) {\n",
    "        \n",
    "        if(sell_quan == df[i, 'quan']) {\n",
    "            \n",
    "            temp <- df[i,]\n",
    "            df_sales <- rbind(df_sales, temp)\n",
    "            sells <- sells[-i, ]\n",
    "            \n",
    "            }\n",
    "         \n",
    "        \n",
    "        }\n",
    "    \n",
    "# test quanity in each row\n",
    "    \n",
    "    \n",
    "    \n",
    "#if(sells_index - buys_index == 1 && df[i, 'quan'] > 0)\n",
    "    \n",
    " }"
   ]
  },
  {
   "cell_type": "code",
   "execution_count": 17,
   "id": "cacf7995-bdd1-40bd-bfbd-43f72695aa1d",
   "metadata": {},
   "outputs": [
    {
     "data": {
      "text/html": [
       "16"
      ],
      "text/latex": [
       "16"
      ],
      "text/markdown": [
       "16"
      ],
      "text/plain": [
       "[1] 16"
      ]
     },
     "metadata": {},
     "output_type": "display_data"
    },
    {
     "data": {
      "text/html": [
       "16"
      ],
      "text/latex": [
       "16"
      ],
      "text/markdown": [
       "16"
      ],
      "text/plain": [
       "[1] 16"
      ]
     },
     "metadata": {},
     "output_type": "display_data"
    }
   ],
   "source": [
    "length(buys)\n",
    "length(sells)"
   ]
  },
  {
   "cell_type": "code",
   "execution_count": 18,
   "id": "3bf5859d-d208-490e-ae20-09ba00db6e00",
   "metadata": {},
   "outputs": [
    {
     "data": {
      "text/plain": [
       "NULL"
      ]
     },
     "metadata": {},
     "output_type": "display_data"
    },
    {
     "name": "stdout",
     "output_type": "stream",
     "text": [
      "sell_index is:  2 \n",
      "sell_quan is:  -1000 \n",
      "top of for loop, i ia:  1 \n",
      "buys and sells indexes' are :  1  and  2 \n",
      "top of else if # 1  \n",
      "Partial sale. Has C/F from sales condition type 3  \n",
      "[1] \"--------\"\n",
      "i value is:  1 \n",
      "[1] \"--------\"\n",
      "[1] 2\n",
      "[1] \"--------\"\n"
     ]
    },
    {
     "data": {
      "text/html": [
       "<table class=\"dataframe\">\n",
       "<caption>A data.frame: 4 × 16</caption>\n",
       "<thead>\n",
       "\t<tr><th></th><th scope=col>date</th><th scope=col>type</th><th scope=col>buy_ct</th><th scope=col>sell_ct</th><th scope=col>co</th><th scope=col>quan</th><th scope=col>pps</th><th scope=col>basis</th><th scope=col>tally_q</th><th scope=col>tally_b</th><th scope=col>sale</th><th scope=col>index</th><th scope=col>cf_q</th><th scope=col>cf_b</th><th scope=col>sell_q</th><th scope=col>sell_p</th></tr>\n",
       "\t<tr><th></th><th scope=col>&lt;chr&gt;</th><th scope=col>&lt;chr&gt;</th><th scope=col>&lt;int&gt;</th><th scope=col>&lt;int&gt;</th><th scope=col>&lt;chr&gt;</th><th scope=col>&lt;dbl&gt;</th><th scope=col>&lt;dbl&gt;</th><th scope=col>&lt;dbl&gt;</th><th scope=col>&lt;int&gt;</th><th scope=col>&lt;dbl&gt;</th><th scope=col>&lt;int&gt;</th><th scope=col>&lt;int&gt;</th><th scope=col>&lt;dbl&gt;</th><th scope=col>&lt;dbl&gt;</th><th scope=col>&lt;dbl&gt;</th><th scope=col>&lt;dbl&gt;</th></tr>\n",
       "</thead>\n",
       "<tbody>\n",
       "\t<tr><th scope=row>1</th><td>12/31/2022</td><td>Sold     </td><td>1</td><td>0</td><td>AMC</td><td> 1050</td><td>4.07</td><td> 4273.50</td><td>1050</td><td> 4273.50</td><td>    0</td><td>1</td><td>50</td><td>203.5</td><td>1000</td><td>5510</td></tr>\n",
       "\t<tr><th scope=row>2</th><td>1/27/2023 </td><td>Part Sold</td><td>1</td><td>1</td><td>AMC</td><td>   50</td><td>5.51</td><td>-5512.40</td><td>  50</td><td>-5512.40</td><td>-1000</td><td>1</td><td> 0</td><td>  0.0</td><td>   0</td><td>   0</td></tr>\n",
       "\t<tr><th scope=row>3</th><td>1/20/2023 </td><td>Buy      </td><td>2</td><td>1</td><td>AMC</td><td> 1000</td><td>5.63</td><td> 5625.00</td><td>1050</td><td> 5625.00</td><td>    0</td><td>3</td><td> 0</td><td>  0.0</td><td>   0</td><td>   0</td></tr>\n",
       "\t<tr><th scope=row>4</th><td>2/3/2023  </td><td>Sell     </td><td>2</td><td>2</td><td>AMC</td><td>-1000</td><td>6.68</td><td>-6682.55</td><td>  50</td><td>-6682.55</td><td>-1000</td><td>4</td><td> 0</td><td>  0.0</td><td>   0</td><td>   0</td></tr>\n",
       "</tbody>\n",
       "</table>\n"
      ],
      "text/latex": [
       "A data.frame: 4 × 16\n",
       "\\begin{tabular}{r|llllllllllllllll}\n",
       "  & date & type & buy\\_ct & sell\\_ct & co & quan & pps & basis & tally\\_q & tally\\_b & sale & index & cf\\_q & cf\\_b & sell\\_q & sell\\_p\\\\\n",
       "  & <chr> & <chr> & <int> & <int> & <chr> & <dbl> & <dbl> & <dbl> & <int> & <dbl> & <int> & <int> & <dbl> & <dbl> & <dbl> & <dbl>\\\\\n",
       "\\hline\n",
       "\t1 & 12/31/2022 & Sold      & 1 & 0 & AMC &  1050 & 4.07 &  4273.50 & 1050 &  4273.50 &     0 & 1 & 50 & 203.5 & 1000 & 5510\\\\\n",
       "\t2 & 1/27/2023  & Part Sold & 1 & 1 & AMC &    50 & 5.51 & -5512.40 &   50 & -5512.40 & -1000 & 1 &  0 &   0.0 &    0 &    0\\\\\n",
       "\t3 & 1/20/2023  & Buy       & 2 & 1 & AMC &  1000 & 5.63 &  5625.00 & 1050 &  5625.00 &     0 & 3 &  0 &   0.0 &    0 &    0\\\\\n",
       "\t4 & 2/3/2023   & Sell      & 2 & 2 & AMC & -1000 & 6.68 & -6682.55 &   50 & -6682.55 & -1000 & 4 &  0 &   0.0 &    0 &    0\\\\\n",
       "\\end{tabular}\n"
      ],
      "text/markdown": [
       "\n",
       "A data.frame: 4 × 16\n",
       "\n",
       "| <!--/--> | date &lt;chr&gt; | type &lt;chr&gt; | buy_ct &lt;int&gt; | sell_ct &lt;int&gt; | co &lt;chr&gt; | quan &lt;dbl&gt; | pps &lt;dbl&gt; | basis &lt;dbl&gt; | tally_q &lt;int&gt; | tally_b &lt;dbl&gt; | sale &lt;int&gt; | index &lt;int&gt; | cf_q &lt;dbl&gt; | cf_b &lt;dbl&gt; | sell_q &lt;dbl&gt; | sell_p &lt;dbl&gt; |\n",
       "|---|---|---|---|---|---|---|---|---|---|---|---|---|---|---|---|---|\n",
       "| 1 | 12/31/2022 | Sold      | 1 | 0 | AMC |  1050 | 4.07 |  4273.50 | 1050 |  4273.50 |     0 | 1 | 50 | 203.5 | 1000 | 5510 |\n",
       "| 2 | 1/27/2023  | Part Sold | 1 | 1 | AMC |    50 | 5.51 | -5512.40 |   50 | -5512.40 | -1000 | 1 |  0 |   0.0 |    0 |    0 |\n",
       "| 3 | 1/20/2023  | Buy       | 2 | 1 | AMC |  1000 | 5.63 |  5625.00 | 1050 |  5625.00 |     0 | 3 |  0 |   0.0 |    0 |    0 |\n",
       "| 4 | 2/3/2023   | Sell      | 2 | 2 | AMC | -1000 | 6.68 | -6682.55 |   50 | -6682.55 | -1000 | 4 |  0 |   0.0 |    0 |    0 |\n",
       "\n"
      ],
      "text/plain": [
       "  date       type      buy_ct sell_ct co  quan  pps  basis    tally_q tally_b \n",
       "1 12/31/2022 Sold      1      0       AMC  1050 4.07  4273.50 1050     4273.50\n",
       "2 1/27/2023  Part Sold 1      1       AMC    50 5.51 -5512.40   50    -5512.40\n",
       "3 1/20/2023  Buy       2      1       AMC  1000 5.63  5625.00 1050     5625.00\n",
       "4 2/3/2023   Sell      2      2       AMC -1000 6.68 -6682.55   50    -6682.55\n",
       "  sale  index cf_q cf_b  sell_q sell_p\n",
       "1     0 1     50   203.5 1000   5510  \n",
       "2 -1000 1      0     0.0    0      0  \n",
       "3     0 3      0     0.0    0      0  \n",
       "4 -1000 4      0     0.0    0      0  "
      ]
     },
     "metadata": {},
     "output_type": "display_data"
    }
   ],
   "source": [
    "\n",
    "\n",
    "# input_sell <- readline(prompt=\"Enter sale quantity: \")\n",
    "# sell_quan <- as.numeric(input_sell)\n",
    "# price <- readline(prompt=\"Enter sell price: \")\n",
    "# sell_price <- as.numeric(price)\n",
    "\n",
    "sell_index <- as.integer()\n",
    "sell_quan <- as.integer()\n",
    "\n",
    "get_sell()\n",
    "\n",
    "cat(\"sell_index is: \", sell_index, \"\\n\")\n",
    "cat(\"sell_quan is: \", sell_quan, \"\\n\")\n",
    "\n",
    "ct <- sell_index\n",
    "\n",
    "\n",
    "for(i in 1:nrow(df)) {\n",
    "    \n",
    "    buy_index <- i\n",
    "    \n",
    "    cat(\"top of for loop, i ia: \", i, \"\\n\") \n",
    "    \n",
    "    cat(\"buys and sells indexes' are : \", buy_index, \" and \", sell_index, \"\\n\")\n",
    "\n",
    "    if(sell_index - buy_index == 1 && abs(df[i+1, 'quan']) == df[i, 'quan']) {\n",
    "       cat(\"This will be a simple wash sale with no c/f\", \"\\n\")\n",
    "       # one possibility of eliminating these rows is to zero the quans and set a flag\n",
    "        df[i, 'sell_q' ] <- sell_quan\n",
    "        df[i, 'sell_p'] <- df[i+1, 'pps'] * sell_quan\n",
    "        df[i +1, 'type'] <- \"Sold\"\n",
    "        df[i +1, 'index'] <- i\n",
    "        sell_quan <- 0\n",
    "        sell_index <- 0\n",
    "        cat(\"Clean sale. No C/F from sales condition type 1 \", \"\\n\")\n",
    "        return()       \n",
    "        \n",
    "    }\n",
    "    \n",
    "    else if(sell_index - buy_index == 1 && df[i, 'quan'] < 0) {\n",
    "        cat(\"This will be a simple wash sale with no c/f\", \"\\n\")\n",
    "        }\n",
    "         \n",
    "    else if(sell_index - buy_index ==1 && df[i, 'quan']  < df[i+1, 'quan'] ) {\n",
    "        \n",
    "        cat(\"This buy row gets entirely sold with additional sold from the next buy line(s) \", \"\\n\")\n",
    "         \n",
    "        # cat(\"top of if # 1 \", \"\\n\") \n",
    "        ct <- ct + buy_ctr   \n",
    "         \n",
    "         # one possibility of eliminating these rows is to zero the quans and set a flag\n",
    "        df[i, 'sell_q' ] <- df[i, 'quan']\n",
    "        df[i, 'sell_p'] <- df[i+1, 'pps'] * sell_quan\n",
    "        df[i +1, 'type'] <- \"Sold\"\n",
    "        df[i, 'type'] <- \"Sold\"\n",
    "        df[i +1, 'index'] <- i\n",
    "        df[i, 'index'] <- i\n",
    "        sell_quan <- 0\n",
    "        sell_index <- 0\n",
    "        cat(\"clean, no C/F from sales condition type 2 \", \"\\n\")\n",
    "        return()       \n",
    "        \n",
    "                \n",
    "    \n",
    "         \n",
    "        # when the buys row i has quanity < sell quan, need carry values forward to next row,\n",
    "         # And mo\n",
    "       } else if(sell_index - buy_index ==1 && df[i, 'quan']  > df[i+1, 'quan'] ) {\n",
    "        \n",
    "        cat(\"top of else if # 1 \", \"\\n\") \n",
    "        \n",
    "        \n",
    "        \n",
    "        # create allocation and c/f amounts\n",
    "        \n",
    "        \n",
    "        \n",
    "        df[i, 'cf_q'] <-     df[i, 'quan'] - abs(df[i+1, 'quan'])                                            \n",
    "        df[i + 1, 'quan'] <- df[i, 'quan'] - abs(df[i+1, 'quan'])  # adj sell quan after removing partial sell\n",
    "                                             \n",
    "        df[i, 'cf_b'] <-    df[i, 'cf_q']  * df[i, 'pps']        \n",
    "        df[i, 'sell_q' ] <- df[i, 'quan'] - df[i, 'cf_q']\n",
    "        \n",
    "        df[i, 'sell_p'] <- df[i+1, 'pps'] * (df[i, 'quan'] - abs(df[i+1, 'quan']) )\n",
    "        df[i , 'type'] <- \"Sold\"\n",
    "        df[i+1, 'type'] <- \"Part Sold\"\n",
    "        \n",
    "        df[i +1, 'index'] <- i\n",
    "        df[i, 'index'] <- i\n",
    "        sell_quan <- 0\n",
    "        sell_index <- 0\n",
    "        cat(\"Partial sale. Has C/F from sales condition type 3 \", \"\\n\")\n",
    "        return()       \n",
    "        \n",
    "         ct <- ct + i\n",
    "        \n",
    "         buys[i,'sale'] <- buys[i,'sale'] + sell_quan * sell_price\n",
    "         temp <- data.frame(buys[i, ])\n",
    "         df_sales <- rbind(df_sales, temp)\n",
    "         sells <- sells[-i, ]\n",
    "         }\n",
    "    \n",
    "   # print(buys[i,])\n",
    "\n",
    "    }\n",
    "    \n",
    "    \n",
    "\n",
    "\n",
    "head(df, 4)\n",
    "head(df_sales"
   ]
  },
  {
   "cell_type": "code",
   "execution_count": 19,
   "id": "46694769-196a-497e-a7ad-cd548b49543c",
   "metadata": {},
   "outputs": [
    {
     "data": {
      "text/html": [
       "41"
      ],
      "text/latex": [
       "41"
      ],
      "text/markdown": [
       "41"
      ],
      "text/plain": [
       "[1] 41"
      ]
     },
     "metadata": {},
     "output_type": "display_data"
    }
   ],
   "source": [
    "nrow(df)\n",
    "\n"
   ]
  },
  {
   "cell_type": "code",
   "execution_count": 20,
   "id": "49f4fd35-55fc-48a1-acc2-f55b28ceea8f",
   "metadata": {},
   "outputs": [
    {
     "ename": "ERROR",
     "evalue": "Error in eval(expr, envir, enclos): object 'stopper' not found\n",
     "output_type": "error",
     "traceback": [
      "Error in eval(expr, envir, enclos): object 'stopper' not found\nTraceback:\n"
     ]
    }
   ],
   "source": [
    "stopper"
   ]
  },
  {
   "cell_type": "markdown",
   "id": "493ef9fc-62ed-462b-9e5a-add291857b06",
   "metadata": {},
   "source": [
    "## <font color = yellow> Working code blocks below:\n"
   ]
  },
  {
   "cell_type": "code",
   "execution_count": null,
   "id": "8809c6ac-d6a9-4c98-b6b7-c5415c53c81a",
   "metadata": {},
   "outputs": [],
   "source": []
  },
  {
   "cell_type": "code",
   "execution_count": null,
   "id": "8b0e0bb6-5459-4256-9fc1-5a7d2de90d23",
   "metadata": {},
   "outputs": [],
   "source": [
    "for(i in 1:4) {\n",
    "    df[which(df[i, \"sell_ct\"] == i & df[i, \"type\"] == \"Sell\"), ]\n",
    "    \n",
    "    cat(\"Row number \", i, \"type is :\", df[i, \"type\"], \" The Sell qty: \", df$quan[i], \" number of shares. \", \"\\n\")\n",
    "    \n",
    "    }\n",
    "    "
   ]
  },
  {
   "cell_type": "code",
   "execution_count": null,
   "id": "acb9d057-f898-482c-9b56-5c0ba52e5dc2",
   "metadata": {},
   "outputs": [],
   "source": [
    "# df[which(df$B == value_to_find), ]\n",
    "\n",
    "# df[which(df$A == value_to_find_A & df$B == value_to_find_B), ]\n",
    "\n",
    "\n",
    "for(i in 1:4) {\n",
    "    df[which(df$sell_ct == i & df$type == \"Sell\"), ]\n",
    "    \n",
    "    if(df[i,\"type\"] == \"Sell\") {\n",
    "    cat(\"Row number \", i, \" Selling \", df$quan[i], \" number of shares. \", \"\\n\")\n",
    "    }\n",
    "}\n"
   ]
  },
  {
   "cell_type": "code",
   "execution_count": null,
   "id": "e7ce5db8-9b97-4b90-9117-29da32dd7b2f",
   "metadata": {},
   "outputs": [],
   "source": []
  },
  {
   "cell_type": "code",
   "execution_count": null,
   "id": "e3a7fd8b-ab19-467e-a4ee-ca71c8667424",
   "metadata": {},
   "outputs": [],
   "source": [
    "ct <- 0 \n",
    "\n",
    "for(i in 1:4) {\n",
    "\n",
    "    repeat {\n",
    "      \n",
    "        if(df[i, \"type\"] == \"Sell\"){             \n",
    "            cat(\"Got a Sell!\", \"\\n\")\n",
    "            cat(\"Row number \", i, \" Selling \", abs(df$quan[i]), \"quantity of shares. \", \"\\n\")\n",
    "            cat(\"Index number is: \", df[i, \"index\"], \"\\n\")\n",
    "            return()\n",
    "        }\n",
    "        i <- i + 1\n",
    "     }\n",
    "}\n",
    "\n",
    "\n",
    "  \n"
   ]
  },
  {
   "cell_type": "code",
   "execution_count": null,
   "id": "3dff784f-b3e5-421c-b039-463844f87a61",
   "metadata": {},
   "outputs": [],
   "source": []
  },
  {
   "cell_type": "code",
   "execution_count": null,
   "id": "35d3a895-4ebc-4417-acf0-fdc0a6f80732",
   "metadata": {},
   "outputs": [],
   "source": [
    "x <- 1\n",
    "df_pl <- data.frame()\n",
    "pl <- function(x) {\n",
    "    \n",
    "    sells[x, 'tally_b'] <<- buys[x, 'basis']\n",
    "    \n",
    "    sells[x, 'Sale'] <<- abs(sells[x, 'basis']) - sells[x, 'tally_b']\n",
    "    temp <- data.frame(sells[x,])\n",
    "    df_pl <<- rbind(df_pl, temp)\n",
    "    \n",
    "    }\n",
    " pl(x)\n",
    " head(df_pl, 3)\n",
    "# head(sells, 3)\n"
   ]
  },
  {
   "cell_type": "code",
   "execution_count": null,
   "id": "5aea71d3-2978-408a-8375-efa90654abd3",
   "metadata": {},
   "outputs": [],
   "source": []
  },
  {
   "cell_type": "code",
   "execution_count": null,
   "id": "1cf1aab8-d06a-49cb-a93c-28f7f3fe0192",
   "metadata": {},
   "outputs": [],
   "source": []
  },
  {
   "cell_type": "code",
   "execution_count": null,
   "id": "79e84446-07a9-41e3-b824-40aafa8e09d0",
   "metadata": {},
   "outputs": [],
   "source": []
  },
  {
   "cell_type": "code",
   "execution_count": null,
   "id": "e2a907f2-adb1-4293-a8c5-93273d127899",
   "metadata": {},
   "outputs": [],
   "source": [
    "\n"
   ]
  },
  {
   "cell_type": "code",
   "execution_count": null,
   "id": "b3b25533-a7ed-4702-a201-e25d748e569f",
   "metadata": {},
   "outputs": [],
   "source": []
  }
 ],
 "metadata": {
  "kernelspec": {
   "display_name": "R",
   "language": "R",
   "name": "ir"
  },
  "language_info": {
   "codemirror_mode": "r",
   "file_extension": ".r",
   "mimetype": "text/x-r-source",
   "name": "R",
   "pygments_lexer": "r",
   "version": "4.3.0"
  }
 },
 "nbformat": 4,
 "nbformat_minor": 5
}
