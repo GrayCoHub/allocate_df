{
 "cells": [
  {
   "cell_type": "code",
   "execution_count": null,
   "id": "e5e4ee87-9334-4ea5-907b-1616100473f9",
   "metadata": {},
   "outputs": [],
   "source": []
  },
  {
   "cell_type": "code",
   "execution_count": null,
   "id": "e558b5cf-4ec6-4d01-b5ff-8a294aafee08",
   "metadata": {},
   "outputs": [],
   "source": [
    "df <- read.csv(\"fifo.csv\", header = TRUE, sep = \",\")\n",
    "#df$tally_q <- as.integer(df$tally_q)\n",
    "# df$sale <- as.integer(df$sale)\n",
    "# df$date <- as.Date(df$date, origin = \"1899-12-30\")\n",
    "df$index <- seq(1:nrow(df))\n",
    "\n",
    "\n",
    "head(df,3)\n",
    "tail(df,3)"
   ]
  },
  {
   "cell_type": "code",
   "execution_count": null,
   "id": "4604fe23-cbaf-4f11-bd49-ec7618c6d28d",
   "metadata": {},
   "outputs": [],
   "source": [
    "# create seperate buy / sell dfs\n",
    "\n",
    "buys <- df[df$quan > 0, ]  # Filter buys\n",
    "sells <- df[df$quan < 0, ]  # Filter sells\n",
    "df_pl <- data.frame()"
   ]
  },
  {
   "cell_type": "code",
   "execution_count": null,
   "id": "f4e726f6-2d65-442f-8ed3-93aaa1196f50",
   "metadata": {},
   "outputs": [],
   "source": [
    "# create vars\n",
    "buy_qty <- buys[1, 'quan']\n",
    "sell_qty <- abs(sells[1, 'quan'])\n",
    "\n",
    "buy_basis <- buys[1, 'basis']\n",
    "sell_basis <- abs(sells[1, 'basis'])\n",
    "\n",
    "\n",
    "# sell_quan_remainder <- buy_qty - abs(sell_qty)\n",
    "\n",
    "cat('sell_qty : ', sell_qty, \"\\n\")\n",
    "cat('buy_qty : ', buy_qty, \"\\n\")\n",
    "cat('buy_basis :', buy_basis, \"\\n\")\n",
    "cat('sell_basis :', sell_basis, \"\\n\")\n",
    "# cat('remainder :',sell_quan_remainder , \"\\n\")\n",
    "\n",
    "# zero out vars\n",
    "sells[1, 'tally_q'] <- 0\n",
    "sells[1, 'tally_b'] <- 0\n",
    "sells[1, 'Sale'] <- 0"
   ]
  },
  {
   "cell_type": "code",
   "execution_count": null,
   "id": "5a0db73c-c9e3-4086-97ca-f427167d144c",
   "metadata": {},
   "outputs": [],
   "source": []
  },
  {
   "cell_type": "code",
   "execution_count": null,
   "id": "f6e4bbaa-8437-4742-ac5f-f4e9ff405d86",
   "metadata": {},
   "outputs": [],
   "source": []
  },
  {
   "cell_type": "code",
   "execution_count": null,
   "id": "16840795-f384-415a-b1a0-5ad2eb4ce1a8",
   "metadata": {},
   "outputs": [],
   "source": [
    "head(buys, 3)\n",
    "head(sells, 3)"
   ]
  },
  {
   "cell_type": "markdown",
   "id": "b39dd0dc-110b-4749-bc92-932acc7101bb",
   "metadata": {},
   "source": [
    "\n",
    "## <font color = yellow> Keeper for concept above"
   ]
  },
  {
   "cell_type": "code",
   "execution_count": null,
   "id": "a2945912-fb8c-4f99-b5a2-385f66be92f9",
   "metadata": {},
   "outputs": [],
   "source": [
    "\n"
   ]
  },
  {
   "cell_type": "code",
   "execution_count": null,
   "id": "e3aed24f-1705-418f-bed4-4dcb5cf0b4f6",
   "metadata": {},
   "outputs": [],
   "source": []
  },
  {
   "cell_type": "code",
   "execution_count": null,
   "id": "71a438de-2980-4176-94e3-52d918f38d75",
   "metadata": {},
   "outputs": [],
   "source": []
  },
  {
   "cell_type": "code",
   "execution_count": null,
   "id": "d080e30d-8a35-4409-8f0c-c0d9dd1eb2cc",
   "metadata": {},
   "outputs": [],
   "source": [
    "df_sales <- data.frame()\n",
    "\n",
    "# add index column\n",
    "\n",
    "df$index <- seq(1, nrow(df))\n",
    "\n",
    "buys <- df[df$quan > 0, ]  # Filter buys\n",
    "sells <- df[df$quan < 0, ]  "
   ]
  },
  {
   "cell_type": "markdown",
   "id": "68c1d329-3410-4049-a6c2-cf094202810a",
   "metadata": {},
   "source": [
    "### <font color= yellow> # Review for user prompt "
   ]
  },
  {
   "cell_type": "code",
   "execution_count": null,
   "id": "7a71ab46-1ae4-4054-b57c-4888d2ba0312",
   "metadata": {},
   "outputs": [],
   "source": [
    "# input_sell <- readline(prompt=\"Enter sale quantity: \")\n",
    "# sell_quan <- as.numeric(input_sell)\n",
    "# price <- readline(prompt=\"Enter sell price: \")\n",
    "# sell_price <- as.numeric(price)\n",
    "\n",
    "# str(sell_quan)\n",
    "# str(sell_price)\n"
   ]
  },
  {
   "cell_type": "code",
   "execution_count": null,
   "id": "b9602c76-5177-48dd-bbac-ab8a4de54c2a",
   "metadata": {},
   "outputs": [],
   "source": [
    "for(i in 1:4) {\n",
    "\n",
    "repeat {\n",
    "      \n",
    "        if(df[i, \"type\"] == \"Sell\"){             \n",
    "            cat(\"Got a Sell!\", \"\\n\")\n",
    "            cat(\"Row number \", i, \" Selling \", abs(df$quan[i]), \"quantity of shares. \", \"\\n\")\n",
    "            cat(\"Index number is: \", df[i, \"index\"], \"\\n\")\n",
    "            sell_quan <- df[i, 'quan']\n",
    "            sell_price <- df[i, 'pps']\n",
    "            return(sell_quan)\n",
    "        }\n",
    "        i <- i + 1\n",
    "     }\n",
    "}"
   ]
  },
  {
   "cell_type": "code",
   "execution_count": null,
   "id": "8b168864-1d1e-4683-bff7-879484056fe0",
   "metadata": {},
   "outputs": [],
   "source": [
    "\n",
    "\n",
    "nrow(sells)\n",
    "\n",
    "     if(buys[1, 'quan'] > sell_quan) {       \n",
    "         \n",
    "     # create New Balance\n",
    "         buys[1,'quan'] <- buys[1,'quan'] - sell_quan\n",
    "         buys[1,'basis'] <- buys[1, 'quan'] * buys[1, \"pps\"]\n",
    "         buys[1,'tally_q'] <- sell_quan\n",
    "         buys[1,'sale'] <- buys[1,'sale'] + sell_quan * sell_price\n",
    "         temp <- data.frame(buys[1, ])\n",
    "         df_sales <- rbind(df_sales, temp)\n",
    "         sells <- sells[-1, ]\n",
    "    } else if (buys[1, 'quan']  < sell_quan) {       \n",
    "         cf1 <- buys[1,'quan']\n",
    "         cf2 <- buys[1, \"basis\"]\n",
    "         buys <- buys[-1, ]\n",
    "         buys[1,'quan'] <- buys[1,'quan'] + cf1\n",
    "         buys[1,'basis'] <- buys[1, 'basis'] + cf2\n",
    "         \n",
    "         buys[1,'quan'] <- buys[1,'quan'] - sell_quan\n",
    "         buys[1,'basis'] <- buys[1, 'quan'] * buys[1, \"pps\"]\n",
    "         buys[1,'tally_q'] <- sell_quan\n",
    "         buys[1,'sale'] <- buys[1,'sale'] + sell_quan * sell_price\n",
    "         temp <- data.frame(buys[1, ])\n",
    "         df_sales <- rbind(df_sales, temp)\n",
    "         sells <- sells[-1, ]\n",
    "         }\n",
    "    \n",
    "\n",
    "\n",
    "nrow(sells)\n",
    "head(buys, 3)     \n",
    "head(df_sales)\n"
   ]
  },
  {
   "cell_type": "code",
   "execution_count": null,
   "id": "ff6ff84c-7c71-4650-8bba-edb4a40ee89a",
   "metadata": {},
   "outputs": [],
   "source": [
    "head(sells,3)"
   ]
  },
  {
   "cell_type": "code",
   "execution_count": null,
   "id": "236373d3-367b-486d-8fda-523451abec9e",
   "metadata": {},
   "outputs": [],
   "source": []
  },
  {
   "cell_type": "code",
   "execution_count": null,
   "id": "f1373246-97c1-4bd1-8816-2498ad55b7f6",
   "metadata": {},
   "outputs": [],
   "source": []
  },
  {
   "cell_type": "code",
   "execution_count": null,
   "id": "b0f50958-7704-4a03-a9a7-76a2b62176ef",
   "metadata": {},
   "outputs": [],
   "source": [
    "\n",
    "\n",
    "# input_sell <- readline(prompt=\"Enter sale quantity: \")\n",
    "# sell_quan <- as.numeric(input_sell)\n",
    "# price <- readline(prompt=\"Enter sell price: \")\n",
    "# sell_price <- as.numeric(price)\n",
    "\n",
    "# nrow(sells)\n",
    "\n",
    "\n",
    "\n",
    "\n",
    "#      if(buys[1, 'quan'] > sell_quan) {       \n",
    "         \n",
    "#      # create New Balance\n",
    "#          buys[1,'quan'] <- buys[1,'quan'] - sell_quan\n",
    "#          buys[1,'basis'] <- buys[1, 'quan'] * buys[1,\"pps\"]\n",
    "#          buys[1,'tally_q'] <- sell_quan\n",
    "#          buys[1,'sale'] <- buys[1,'sale'] + sell_quan * sell_price\n",
    "#          temp <- data.frame(buys[1, ])\n",
    "#          df_sales <- rbind(df_sales, temp)\n",
    "#          sells <- sells[-1, ]\n",
    "#     } else if (buys[1, 'quan']  < sell_quan) {       \n",
    "#          cf1 <- buys[1,'quan']\n",
    "#          cf2 <- buys[1,\"basis\"]\n",
    "#          buys <- buys[-1, ]\n",
    "#          buys[1,'quan'] <- buys[1,'quan'] + cf1\n",
    "#          buys[1,'basis'] <- buys[1, 'basis'] + cf2\n",
    "         \n",
    "#          buys[1,'quan'] <- buys[1,'quan'] - sell_quan\n",
    "#          buys[1,'basis'] <- buys[1, 'quan'] * buys[1,\"pps\"]\n",
    "#          buys[1,'tally_q'] <- sell_quan\n",
    "#          buys[1,'sale'] <- buys[1,'sale'] + sell_quan * sell_price\n",
    "#          temp <- data.frame(buys[1, ])\n",
    "#          df_sales <- rbind(df_sales, temp)\n",
    "#          sells <- sells[-1, ]\n",
    "#          }\n",
    "    \n",
    "    \n",
    "\n",
    "# nrow(sells)\n",
    "# head(buys, 3)     \n",
    "# head(df_sales)\n"
   ]
  },
  {
   "cell_type": "code",
   "execution_count": null,
   "id": "9341c48b-5608-4a78-98a6-a59508ac726d",
   "metadata": {},
   "outputs": [],
   "source": []
  },
  {
   "cell_type": "code",
   "execution_count": null,
   "id": "dec37c6a-eb0b-447c-a0d3-22f25b4e4218",
   "metadata": {},
   "outputs": [],
   "source": [
    "df <- read.csv(\"fifo.csv\", header = TRUE, sep = \",\")\n",
    "df$index <- seq(1:nrow(df))\n",
    "\n",
    "df_sales <- data.frame()\n",
    "buys <- df[df$quan > 0, ]  # Filter buys\n",
    "sells <- df[df$quan < 0, ]  "
   ]
  },
  {
   "cell_type": "code",
   "execution_count": null,
   "id": "e5af9987-fb41-4a0b-8426-45df4e0ea9d5",
   "metadata": {},
   "outputs": [],
   "source": [
    "buy_ctr <- as.integer(1)\n",
    "head(buys,3)\n",
    "head(sells,3)"
   ]
  },
  {
   "cell_type": "markdown",
   "id": "382cd870-b795-48f8-9727-68ca94b14ed8",
   "metadata": {},
   "source": [
    "## <font color = yellow> Change: don't delete rows, use the new ctr var in the df"
   ]
  },
  {
   "cell_type": "code",
   "execution_count": null,
   "id": "b1d4bcd5-09a6-4809-810f-cec29f1065ea",
   "metadata": {},
   "outputs": [],
   "source": []
  },
  {
   "cell_type": "code",
   "execution_count": null,
   "id": "3bf5859d-d208-490e-ae20-09ba00db6e00",
   "metadata": {},
   "outputs": [],
   "source": [
    "\n",
    "\n",
    "# input_sell <- readline(prompt=\"Enter sale quantity: \")\n",
    "# sell_quan <- as.numeric(input_sell)\n",
    "# price <- readline(prompt=\"Enter sell price: \")\n",
    "# sell_price <- as.numeric(price)\n",
    "\n",
    "\n",
    "for(i in 1:4) {\n",
    "ct <- 0   \n",
    "sell_quan <- as.integer(0)\n",
    "\n",
    "cat(\"top of for loop, i ia: \", i, \"\\n\") \n",
    "    \n",
    "   \n",
    "\n",
    "    repeat {\n",
    "      \n",
    "        if(df[i, \"type\"] == \"Sell\"){             \n",
    "            cat(\"Got a Sell!\", \"\\n\")\n",
    "            cat(\"Row number \", i, \" Selling \", abs(df$quan[i]), \"quantity of shares. \", \"\\n\")\n",
    "            cat(\"Index number is: \", df[i, \"index\"], \"\\n\")\n",
    "            sell_quan <- df[i, 'quan']\n",
    "            return(sell_quan)\n",
    "        }\n",
    "        i <- i + 1\n",
    "     }\n",
    "\n",
    "\n",
    "\n",
    "  \n",
    "    \n",
    "\n",
    "     # Here there is no carryforward and the row counter can move forward\n",
    "     # select row \n",
    "\n",
    "     if(buys[i, 'quan'] > sell_quan) {       \n",
    "         \n",
    "     cat(\"top of if # 1 \", \"\\n\") \n",
    "      ct <- ct + buy_ctr   \n",
    "         \n",
    "    # create New Balance\n",
    "         buys[i,'quan'] <- buys[i,'quan'] - sell_quan\n",
    "         buys[i,'basis'] <- buys[i, 'quan'] * buys[i, \"pps\"]\n",
    "         buys[i,'tally_q'] <- sell_quan\n",
    "         buys[i,'sale'] <- buys[i,'sale'] + sell_quan * sell_price\n",
    "         temp <- data.frame(buys[i, ])\n",
    "         df_sales <<- rbind(df_sales, temp)\n",
    "         i <<- i + 1\n",
    "         sells <- sells[-1, ]\n",
    "         # return\n",
    "         \n",
    "        # when the buys row i has quanity < sell quan, need carry values forward to next row,\n",
    "         # And mo\n",
    "       } else if (buys[i, 'quan']  < sell_quan) { \n",
    "         \n",
    "          cat(\"top of else if # 1 \", \"\\n\") \n",
    "         ct <- ct + i\n",
    "         \n",
    "         cfi <- buys[i,'quan']\n",
    "         cf2 <- buys[i, \"basis\"]\n",
    "         # delete row i\n",
    "         buys <- buys[-i, ]\n",
    "         # combine cf amounts to new row i\n",
    "         buys[i,'quan'] <- buys[i,'quan'] + cfi\n",
    "         buys[i,'basis'] <- buys[i, 'basis'] + cf2\n",
    "         # resume as if the row's quan > sell quan  ( two vars in rowi updated)\n",
    "         buys[i,'quan'] <- buys[i,'quan'] - sell_quan\n",
    "         buys[i,'basis'] <- buys[i, 'quan'] * buys[i, \"pps\"]\n",
    "         buys[i,'tally_q'] <- sell_quan\n",
    "         buys[i,'sale'] <- buys[i,'sale'] + sell_quan * sell_price\n",
    "         temp <- data.frame(buys[i, ])\n",
    "         df_sales <- rbind(df_sales, temp)\n",
    "         sells <- sells[-i, ]\n",
    "         }\n",
    "    \n",
    "    }\n",
    "    \n",
    "print(\"--------\")\n",
    "cat(\"i value is: \", i, \"\\n\")\n",
    "print(\"--------\")\n",
    "print(ct)\n",
    "print(\"--------\")\n",
    "nrow(sells)\n",
    "print(\"--------\")\n",
    "head(buys, 3)\n",
    "nrow(df_sales)\n",
    "head(df_sales)\n"
   ]
  },
  {
   "cell_type": "code",
   "execution_count": null,
   "id": "46694769-196a-497e-a7ad-cd548b49543c",
   "metadata": {},
   "outputs": [],
   "source": [
    "\n"
   ]
  },
  {
   "cell_type": "code",
   "execution_count": null,
   "id": "49f4fd35-55fc-48a1-acc2-f55b28ceea8f",
   "metadata": {},
   "outputs": [],
   "source": [
    "stopper"
   ]
  },
  {
   "cell_type": "markdown",
   "id": "493ef9fc-62ed-462b-9e5a-add291857b06",
   "metadata": {},
   "source": [
    "## <font color = yellow> Working code blocks below:\n"
   ]
  },
  {
   "cell_type": "code",
   "execution_count": null,
   "id": "8809c6ac-d6a9-4c98-b6b7-c5415c53c81a",
   "metadata": {},
   "outputs": [],
   "source": []
  },
  {
   "cell_type": "code",
   "execution_count": null,
   "id": "8b0e0bb6-5459-4256-9fc1-5a7d2de90d23",
   "metadata": {},
   "outputs": [],
   "source": [
    "for(i in 1:4) {\n",
    "    df[which(df[i, \"sell_ct\"] == i & df[i, \"type\"] == \"Sell\"), ]\n",
    "    \n",
    "    cat(\"Row number \", i, \"type is :\", df[i, \"type\"], \" The Sell qty: \", df$quan[i], \" number of shares. \", \"\\n\")\n",
    "    \n",
    "    }\n",
    "    "
   ]
  },
  {
   "cell_type": "code",
   "execution_count": null,
   "id": "acb9d057-f898-482c-9b56-5c0ba52e5dc2",
   "metadata": {},
   "outputs": [],
   "source": [
    "# df[which(df$B == value_to_find), ]\n",
    "\n",
    "# df[which(df$A == value_to_find_A & df$B == value_to_find_B), ]\n",
    "\n",
    "\n",
    "for(i in 1:4) {\n",
    "    df[which(df$sell_ct == i & df$type == \"Sell\"), ]\n",
    "    \n",
    "    if(df[i,\"type\"] == \"Sell\") {\n",
    "    cat(\"Row number \", i, \" Selling \", df$quan[i], \" number of shares. \", \"\\n\")\n",
    "    }\n",
    "}\n"
   ]
  },
  {
   "cell_type": "code",
   "execution_count": null,
   "id": "e7ce5db8-9b97-4b90-9117-29da32dd7b2f",
   "metadata": {},
   "outputs": [],
   "source": []
  },
  {
   "cell_type": "code",
   "execution_count": null,
   "id": "e3a7fd8b-ab19-467e-a4ee-ca71c8667424",
   "metadata": {},
   "outputs": [],
   "source": [
    "ct <- 0 \n",
    "\n",
    "for(i in 1:4) {\n",
    "\n",
    "    repeat {\n",
    "      \n",
    "        if(df[i, \"type\"] == \"Sell\"){             \n",
    "            cat(\"Got a Sell!\", \"\\n\")\n",
    "            cat(\"Row number \", i, \" Selling \", abs(df$quan[i]), \"quantity of shares. \", \"\\n\")\n",
    "            cat(\"Index number is: \", df[i, \"index\"], \"\\n\")\n",
    "            return()\n",
    "        }\n",
    "        i <- i + 1\n",
    "     }\n",
    "}\n",
    "\n",
    "\n",
    "  \n"
   ]
  },
  {
   "cell_type": "code",
   "execution_count": null,
   "id": "3dff784f-b3e5-421c-b039-463844f87a61",
   "metadata": {},
   "outputs": [],
   "source": []
  },
  {
   "cell_type": "code",
   "execution_count": null,
   "id": "35d3a895-4ebc-4417-acf0-fdc0a6f80732",
   "metadata": {},
   "outputs": [],
   "source": [
    "x <- 1\n",
    "df_pl <- data.frame()\n",
    "pl <- function(x) {\n",
    "    \n",
    "    sells[x, 'tally_b'] <<- buys[x, 'basis']\n",
    "    \n",
    "    sells[x, 'Sale'] <<- abs(sells[x, 'basis']) - sells[x, 'tally_b']\n",
    "    temp <- data.frame(sells[x,])\n",
    "    df_pl <<- rbind(df_pl, temp)\n",
    "    \n",
    "    }\n",
    " pl(x)\n",
    " head(df_pl, 3)\n",
    "# head(sells, 3)\n"
   ]
  },
  {
   "cell_type": "code",
   "execution_count": null,
   "id": "5aea71d3-2978-408a-8375-efa90654abd3",
   "metadata": {},
   "outputs": [],
   "source": []
  },
  {
   "cell_type": "code",
   "execution_count": null,
   "id": "1cf1aab8-d06a-49cb-a93c-28f7f3fe0192",
   "metadata": {},
   "outputs": [],
   "source": []
  },
  {
   "cell_type": "code",
   "execution_count": null,
   "id": "79e84446-07a9-41e3-b824-40aafa8e09d0",
   "metadata": {},
   "outputs": [],
   "source": []
  },
  {
   "cell_type": "code",
   "execution_count": null,
   "id": "e2a907f2-adb1-4293-a8c5-93273d127899",
   "metadata": {},
   "outputs": [],
   "source": [
    "\n"
   ]
  },
  {
   "cell_type": "code",
   "execution_count": null,
   "id": "b3b25533-a7ed-4702-a201-e25d748e569f",
   "metadata": {},
   "outputs": [],
   "source": []
  }
 ],
 "metadata": {
  "kernelspec": {
   "display_name": "R",
   "language": "R",
   "name": "ir"
  },
  "language_info": {
   "codemirror_mode": "r",
   "file_extension": ".r",
   "mimetype": "text/x-r-source",
   "name": "R",
   "pygments_lexer": "r",
   "version": "4.3.0"
  }
 },
 "nbformat": 4,
 "nbformat_minor": 5
}
