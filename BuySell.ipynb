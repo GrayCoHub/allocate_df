{
 "cells": [
  {
   "cell_type": "code",
   "execution_count": 1,
   "id": "d1248d44-c8e7-425d-8698-98f79dba1a6c",
   "metadata": {},
   "outputs": [
    {
     "name": "stderr",
     "output_type": "stream",
     "text": [
      "Warning message:\n",
      "\"package 'dplyr' was built under R version 4.3.2\"\n",
      "\n",
      "Attaching package: 'dplyr'\n",
      "\n",
      "\n",
      "The following objects are masked from 'package:stats':\n",
      "\n",
      "    filter, lag\n",
      "\n",
      "\n",
      "The following objects are masked from 'package:base':\n",
      "\n",
      "    intersect, setdiff, setequal, union\n",
      "\n",
      "\n"
     ]
    }
   ],
   "source": [
    "library(dplyr)"
   ]
  },
  {
   "cell_type": "code",
   "execution_count": 2,
   "id": "c09b4aea-38a1-44fb-815b-c83bf78f0baa",
   "metadata": {},
   "outputs": [
    {
     "data": {
      "text/html": [
       "36"
      ],
      "text/latex": [
       "36"
      ],
      "text/markdown": [
       "36"
      ],
      "text/plain": [
       "[1] 36"
      ]
     },
     "metadata": {},
     "output_type": "display_data"
    },
    {
     "data": {
      "text/html": [
       "<table class=\"dataframe\">\n",
       "<caption>A data.frame: 3 × 9</caption>\n",
       "<thead>\n",
       "\t<tr><th></th><th scope=col>date</th><th scope=col>type</th><th scope=col>co</th><th scope=col>quan</th><th scope=col>pps</th><th scope=col>basis</th><th scope=col>tallq_q</th><th scope=col>tally_b</th><th scope=col>Sale</th></tr>\n",
       "\t<tr><th></th><th scope=col>&lt;int&gt;</th><th scope=col>&lt;chr&gt;</th><th scope=col>&lt;chr&gt;</th><th scope=col>&lt;int&gt;</th><th scope=col>&lt;dbl&gt;</th><th scope=col>&lt;dbl&gt;</th><th scope=col>&lt;int&gt;</th><th scope=col>&lt;dbl&gt;</th><th scope=col>&lt;int&gt;</th></tr>\n",
       "</thead>\n",
       "<tbody>\n",
       "\t<tr><th scope=row>1</th><td>44926</td><td>Owned</td><td>AMC</td><td> 1050</td><td>4.07</td><td> 4273.5</td><td>1050</td><td> 4273.5</td><td>    0</td></tr>\n",
       "\t<tr><th scope=row>2</th><td>44953</td><td>Sell </td><td>AMC</td><td>-1000</td><td>5.51</td><td>-5512.4</td><td>  50</td><td>-5512.4</td><td>-1000</td></tr>\n",
       "\t<tr><th scope=row>3</th><td>44946</td><td>Buy  </td><td>AMC</td><td> 1000</td><td>5.63</td><td> 5625.0</td><td>1050</td><td> 5625.0</td><td>    0</td></tr>\n",
       "</tbody>\n",
       "</table>\n"
      ],
      "text/latex": [
       "A data.frame: 3 × 9\n",
       "\\begin{tabular}{r|lllllllll}\n",
       "  & date & type & co & quan & pps & basis & tallq\\_q & tally\\_b & Sale\\\\\n",
       "  & <int> & <chr> & <chr> & <int> & <dbl> & <dbl> & <int> & <dbl> & <int>\\\\\n",
       "\\hline\n",
       "\t1 & 44926 & Owned & AMC &  1050 & 4.07 &  4273.5 & 1050 &  4273.5 &     0\\\\\n",
       "\t2 & 44953 & Sell  & AMC & -1000 & 5.51 & -5512.4 &   50 & -5512.4 & -1000\\\\\n",
       "\t3 & 44946 & Buy   & AMC &  1000 & 5.63 &  5625.0 & 1050 &  5625.0 &     0\\\\\n",
       "\\end{tabular}\n"
      ],
      "text/markdown": [
       "\n",
       "A data.frame: 3 × 9\n",
       "\n",
       "| <!--/--> | date &lt;int&gt; | type &lt;chr&gt; | co &lt;chr&gt; | quan &lt;int&gt; | pps &lt;dbl&gt; | basis &lt;dbl&gt; | tallq_q &lt;int&gt; | tally_b &lt;dbl&gt; | Sale &lt;int&gt; |\n",
       "|---|---|---|---|---|---|---|---|---|---|\n",
       "| 1 | 44926 | Owned | AMC |  1050 | 4.07 |  4273.5 | 1050 |  4273.5 |     0 |\n",
       "| 2 | 44953 | Sell  | AMC | -1000 | 5.51 | -5512.4 |   50 | -5512.4 | -1000 |\n",
       "| 3 | 44946 | Buy   | AMC |  1000 | 5.63 |  5625.0 | 1050 |  5625.0 |     0 |\n",
       "\n"
      ],
      "text/plain": [
       "  date  type  co  quan  pps  basis   tallq_q tally_b Sale \n",
       "1 44926 Owned AMC  1050 4.07  4273.5 1050     4273.5     0\n",
       "2 44953 Sell  AMC -1000 5.51 -5512.4   50    -5512.4 -1000\n",
       "3 44946 Buy   AMC  1000 5.63  5625.0 1050     5625.0     0"
      ]
     },
     "metadata": {},
     "output_type": "display_data"
    }
   ],
   "source": [
    "df <- read.csv(\"BuySell.csv\", header = TRUE, sep = \",\")\n",
    "nrow(df)\n",
    "head(df,3)"
   ]
  },
  {
   "cell_type": "code",
   "execution_count": 3,
   "id": "e075f4cc-30f9-48ee-807e-6e337b8dea8a",
   "metadata": {},
   "outputs": [
    {
     "data": {
      "text/html": [
       "<table class=\"dataframe\">\n",
       "<caption>A data.frame: 3 × 9</caption>\n",
       "<thead>\n",
       "\t<tr><th></th><th scope=col>date</th><th scope=col>type</th><th scope=col>co</th><th scope=col>quan</th><th scope=col>pps</th><th scope=col>basis</th><th scope=col>tallq_q</th><th scope=col>tally_b</th><th scope=col>Sale</th></tr>\n",
       "\t<tr><th></th><th scope=col>&lt;date&gt;</th><th scope=col>&lt;chr&gt;</th><th scope=col>&lt;chr&gt;</th><th scope=col>&lt;int&gt;</th><th scope=col>&lt;dbl&gt;</th><th scope=col>&lt;dbl&gt;</th><th scope=col>&lt;int&gt;</th><th scope=col>&lt;dbl&gt;</th><th scope=col>&lt;int&gt;</th></tr>\n",
       "</thead>\n",
       "<tbody>\n",
       "\t<tr><th scope=row>1</th><td>2022-12-31</td><td>Owned</td><td>AMC</td><td> 1050</td><td>4.07</td><td> 4273.5</td><td>1050</td><td> 4273.5</td><td>    0</td></tr>\n",
       "\t<tr><th scope=row>2</th><td>2023-01-27</td><td>Sell </td><td>AMC</td><td>-1000</td><td>5.51</td><td>-5512.4</td><td>  50</td><td>-5512.4</td><td>-1000</td></tr>\n",
       "\t<tr><th scope=row>3</th><td>2023-01-20</td><td>Buy  </td><td>AMC</td><td> 1000</td><td>5.63</td><td> 5625.0</td><td>1050</td><td> 5625.0</td><td>    0</td></tr>\n",
       "</tbody>\n",
       "</table>\n"
      ],
      "text/latex": [
       "A data.frame: 3 × 9\n",
       "\\begin{tabular}{r|lllllllll}\n",
       "  & date & type & co & quan & pps & basis & tallq\\_q & tally\\_b & Sale\\\\\n",
       "  & <date> & <chr> & <chr> & <int> & <dbl> & <dbl> & <int> & <dbl> & <int>\\\\\n",
       "\\hline\n",
       "\t1 & 2022-12-31 & Owned & AMC &  1050 & 4.07 &  4273.5 & 1050 &  4273.5 &     0\\\\\n",
       "\t2 & 2023-01-27 & Sell  & AMC & -1000 & 5.51 & -5512.4 &   50 & -5512.4 & -1000\\\\\n",
       "\t3 & 2023-01-20 & Buy   & AMC &  1000 & 5.63 &  5625.0 & 1050 &  5625.0 &     0\\\\\n",
       "\\end{tabular}\n"
      ],
      "text/markdown": [
       "\n",
       "A data.frame: 3 × 9\n",
       "\n",
       "| <!--/--> | date &lt;date&gt; | type &lt;chr&gt; | co &lt;chr&gt; | quan &lt;int&gt; | pps &lt;dbl&gt; | basis &lt;dbl&gt; | tallq_q &lt;int&gt; | tally_b &lt;dbl&gt; | Sale &lt;int&gt; |\n",
       "|---|---|---|---|---|---|---|---|---|---|\n",
       "| 1 | 2022-12-31 | Owned | AMC |  1050 | 4.07 |  4273.5 | 1050 |  4273.5 |     0 |\n",
       "| 2 | 2023-01-27 | Sell  | AMC | -1000 | 5.51 | -5512.4 |   50 | -5512.4 | -1000 |\n",
       "| 3 | 2023-01-20 | Buy   | AMC |  1000 | 5.63 |  5625.0 | 1050 |  5625.0 |     0 |\n",
       "\n"
      ],
      "text/plain": [
       "  date       type  co  quan  pps  basis   tallq_q tally_b Sale \n",
       "1 2022-12-31 Owned AMC  1050 4.07  4273.5 1050     4273.5     0\n",
       "2 2023-01-27 Sell  AMC -1000 5.51 -5512.4   50    -5512.4 -1000\n",
       "3 2023-01-20 Buy   AMC  1000 5.63  5625.0 1050     5625.0     0"
      ]
     },
     "metadata": {},
     "output_type": "display_data"
    }
   ],
   "source": [
    "# Convert Excel dates when in the 1900 date format\n",
    "\n",
    "df$date <- as.Date(df$date, origin = \"1899-12-30\")\n",
    "#df$date_s <- as.Date(df$date_s, origin = \"1899-12-30\")\n",
    "head(df, 3)"
   ]
  },
  {
   "cell_type": "code",
   "execution_count": 11,
   "id": "33f3358b-ca6c-43ea-b10c-96ca5bfe3325",
   "metadata": {},
   "outputs": [],
   "source": [
    "# First allocate, then play with cost basis methods\n",
    "\n",
    "adj_tally <- function(tally, sale) {\n",
    "    # cat(\"TALLY in the remote fct\", tally, \"\\n\")\n",
    "    tally <- tally + sale\n",
    "    cat(\"ADJUSTED TALLY - reduced by sale in remote fct\", tally, \"\\n\")\n",
    "    return(tally)        \n",
    "    }"
   ]
  },
  {
   "cell_type": "markdown",
   "id": "10d3f5cc-1373-44b4-b01f-eada6b5c213d",
   "metadata": {},
   "source": [
    "## <font color = yellow> These values agree with .csv/spreadsheet\n",
    "    \n",
    "##### Getting the spreadsheet right w Buy/Sells remains the workout"
   ]
  },
  {
   "cell_type": "code",
   "execution_count": 12,
   "id": "8f2cd095-995c-4df9-97df-244913559b80",
   "metadata": {},
   "outputs": [
    {
     "name": "stdout",
     "output_type": "stream",
     "text": [
      "The df has the following nrows:  36 \n",
      " \n",
      "ADJUSTED TALLY - reduced by sale in remote fct 50 \n",
      "ADJUSTED TALLY - reduced by sale in remote fct 3050 \n",
      "ADJUSTED TALLY - reduced by sale in remote fct 2050 \n",
      "ADJUSTED TALLY - reduced by sale in remote fct 1050 \n",
      "ADJUSTED TALLY - reduced by sale in remote fct 11850 \n",
      "ADJUSTED TALLY - reduced by sale in remote fct 5850 \n",
      "ADJUSTED TALLY - reduced by sale in remote fct 0 \n",
      "ADJUSTED TALLY - reduced by sale in remote fct 3000 \n",
      "ADJUSTED TALLY - reduced by sale in remote fct 0 \n",
      "ADJUSTED TALLY - reduced by sale in remote fct 5000 \n",
      "ADJUSTED TALLY - reduced by sale in remote fct 0 \n",
      "ADJUSTED TALLY - reduced by sale in remote fct 1100 \n",
      "ADJUSTED TALLY - reduced by sale in remote fct 0 \n",
      "\n",
      "The FINAL tally is : 0 \n"
     ]
    },
    {
     "data": {
      "text/html": [
       "36"
      ],
      "text/latex": [
       "36"
      ],
      "text/markdown": [
       "36"
      ],
      "text/plain": [
       "[1] 36"
      ]
     },
     "metadata": {},
     "output_type": "display_data"
    }
   ],
   "source": [
    "# Identify the rows in the df where the sales occur\n",
    "\n",
    "# Create counter vars\n",
    "ct <- 0\n",
    "tally <- 0\n",
    "row_ct <<- 0\n",
    "cat(\"The df has the following nrows: \", nrow(df), \"\\n \\n\")\n",
    "\n",
    "# loop through the df\n",
    "for(i in 1:nrow(df))  { \n",
    "    \n",
    "     ct <- ct + 1\n",
    "    # Sum the buy values from each row\n",
    "    if(df[i, 'quan'] > 0 ) {\n",
    "        row_ct <- row_ct + 1\n",
    "        # tally the buys from each row \n",
    "        tally <- tally + df[i, 'quan']\n",
    "        #print(paste0(\"BUY \", df[i,'quan'], \" Row number is: \", row_ct, \" The Tally is: \", tally))       \n",
    "        }\n",
    "    \n",
    "        #  when a sale value is found (neg value) ....\n",
    "        if(df[i, 'quan'] < 0 )  {\n",
    "            sale <- df[i, 'quan']\n",
    "            row_ct <- row_ct + 1\n",
    "           # print(paste0(\"SELL \", df[i,'quan'], \" Row number is: \", row_ct, \" The Tally is: \", tally)) \n",
    "            tally <- adj_tally(tally, sale) \n",
    "            }\n",
    "   }\n",
    " \n",
    "# adj_basis(df, tally) \n",
    "cat(\"\\n\")\n",
    "cat(\"The FINAL tally is :\", tally, \"\\n\")\n",
    "ct\n",
    "\n",
    "#  These value agree with the spreadsheet: BuySell.csv / .xlsx"
   ]
  },
  {
   "cell_type": "code",
   "execution_count": null,
   "id": "7eefa9d0-b124-4155-9edd-46fb914aa081",
   "metadata": {},
   "outputs": [],
   "source": []
  },
  {
   "cell_type": "code",
   "execution_count": null,
   "id": "b5c186f8-5610-4ba6-ae94-de323aaf8cda",
   "metadata": {},
   "outputs": [],
   "source": []
  },
  {
   "cell_type": "code",
   "execution_count": null,
   "id": "9c47f0d1-ea48-4afe-a9e3-3d529cc9046b",
   "metadata": {},
   "outputs": [],
   "source": []
  },
  {
   "cell_type": "code",
   "execution_count": null,
   "id": "b768b462-ed68-4ab4-8380-c1129ba157c9",
   "metadata": {},
   "outputs": [],
   "source": []
  },
  {
   "cell_type": "code",
   "execution_count": null,
   "id": "572280ed-be1b-41ec-99e8-256f262ecfc8",
   "metadata": {},
   "outputs": [],
   "source": []
  }
 ],
 "metadata": {
  "kernelspec": {
   "display_name": "R",
   "language": "R",
   "name": "ir"
  },
  "language_info": {
   "codemirror_mode": "r",
   "file_extension": ".r",
   "mimetype": "text/x-r-source",
   "name": "R",
   "pygments_lexer": "r",
   "version": "4.3.0"
  }
 },
 "nbformat": 4,
 "nbformat_minor": 5
}
