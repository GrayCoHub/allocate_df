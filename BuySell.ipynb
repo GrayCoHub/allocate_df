{
 "cells": [
  {
   "cell_type": "code",
   "execution_count": 28,
   "id": "d1248d44-c8e7-425d-8698-98f79dba1a6c",
   "metadata": {},
   "outputs": [],
   "source": [
    "library(dplyr)"
   ]
  },
  {
   "cell_type": "code",
   "execution_count": 29,
   "id": "bc87b690-11e3-4fad-80b0-bea34f255393",
   "metadata": {},
   "outputs": [
    {
     "data": {
      "text/html": [
       "41"
      ],
      "text/latex": [
       "41"
      ],
      "text/markdown": [
       "41"
      ],
      "text/plain": [
       "[1] 41"
      ]
     },
     "metadata": {},
     "output_type": "display_data"
    },
    {
     "data": {
      "text/html": [
       "<table class=\"dataframe\">\n",
       "<caption>A data.frame: 3 × 9</caption>\n",
       "<thead>\n",
       "\t<tr><th></th><th scope=col>date</th><th scope=col>type</th><th scope=col>co</th><th scope=col>quan</th><th scope=col>pps</th><th scope=col>basis</th><th scope=col>tally_q</th><th scope=col>tally_b</th><th scope=col>Sale</th></tr>\n",
       "\t<tr><th></th><th scope=col>&lt;int&gt;</th><th scope=col>&lt;chr&gt;</th><th scope=col>&lt;chr&gt;</th><th scope=col>&lt;dbl&gt;</th><th scope=col>&lt;dbl&gt;</th><th scope=col>&lt;dbl&gt;</th><th scope=col>&lt;dbl&gt;</th><th scope=col>&lt;dbl&gt;</th><th scope=col>&lt;int&gt;</th></tr>\n",
       "</thead>\n",
       "<tbody>\n",
       "\t<tr><th scope=row>1</th><td>44926</td><td>Owned</td><td>AMC</td><td>1050</td><td>4.070</td><td>4273.5</td><td>1050</td><td>4273.5</td><td>0</td></tr>\n",
       "\t<tr><th scope=row>2</th><td>44946</td><td>Buy  </td><td>AMC</td><td>1000</td><td>5.625</td><td>5625.0</td><td>2050</td><td>5625.0</td><td>0</td></tr>\n",
       "\t<tr><th scope=row>3</th><td>44949</td><td>Buy  </td><td>AMC</td><td>1000</td><td>5.788</td><td>5788.0</td><td>3050</td><td>5788.0</td><td>0</td></tr>\n",
       "</tbody>\n",
       "</table>\n"
      ],
      "text/latex": [
       "A data.frame: 3 × 9\n",
       "\\begin{tabular}{r|lllllllll}\n",
       "  & date & type & co & quan & pps & basis & tally\\_q & tally\\_b & Sale\\\\\n",
       "  & <int> & <chr> & <chr> & <dbl> & <dbl> & <dbl> & <dbl> & <dbl> & <int>\\\\\n",
       "\\hline\n",
       "\t1 & 44926 & Owned & AMC & 1050 & 4.070 & 4273.5 & 1050 & 4273.5 & 0\\\\\n",
       "\t2 & 44946 & Buy   & AMC & 1000 & 5.625 & 5625.0 & 2050 & 5625.0 & 0\\\\\n",
       "\t3 & 44949 & Buy   & AMC & 1000 & 5.788 & 5788.0 & 3050 & 5788.0 & 0\\\\\n",
       "\\end{tabular}\n"
      ],
      "text/markdown": [
       "\n",
       "A data.frame: 3 × 9\n",
       "\n",
       "| <!--/--> | date &lt;int&gt; | type &lt;chr&gt; | co &lt;chr&gt; | quan &lt;dbl&gt; | pps &lt;dbl&gt; | basis &lt;dbl&gt; | tally_q &lt;dbl&gt; | tally_b &lt;dbl&gt; | Sale &lt;int&gt; |\n",
       "|---|---|---|---|---|---|---|---|---|---|\n",
       "| 1 | 44926 | Owned | AMC | 1050 | 4.070 | 4273.5 | 1050 | 4273.5 | 0 |\n",
       "| 2 | 44946 | Buy   | AMC | 1000 | 5.625 | 5625.0 | 2050 | 5625.0 | 0 |\n",
       "| 3 | 44949 | Buy   | AMC | 1000 | 5.788 | 5788.0 | 3050 | 5788.0 | 0 |\n",
       "\n"
      ],
      "text/plain": [
       "  date  type  co  quan pps   basis  tally_q tally_b Sale\n",
       "1 44926 Owned AMC 1050 4.070 4273.5 1050    4273.5  0   \n",
       "2 44946 Buy   AMC 1000 5.625 5625.0 2050    5625.0  0   \n",
       "3 44949 Buy   AMC 1000 5.788 5788.0 3050    5788.0  0   "
      ]
     },
     "metadata": {},
     "output_type": "display_data"
    },
    {
     "data": {
      "text/html": [
       "<table class=\"dataframe\">\n",
       "<caption>A data.frame: 3 × 9</caption>\n",
       "<thead>\n",
       "\t<tr><th></th><th scope=col>date</th><th scope=col>type</th><th scope=col>co</th><th scope=col>quan</th><th scope=col>pps</th><th scope=col>basis</th><th scope=col>tally_q</th><th scope=col>tally_b</th><th scope=col>Sale</th></tr>\n",
       "\t<tr><th></th><th scope=col>&lt;int&gt;</th><th scope=col>&lt;chr&gt;</th><th scope=col>&lt;chr&gt;</th><th scope=col>&lt;dbl&gt;</th><th scope=col>&lt;dbl&gt;</th><th scope=col>&lt;dbl&gt;</th><th scope=col>&lt;dbl&gt;</th><th scope=col>&lt;dbl&gt;</th><th scope=col>&lt;int&gt;</th></tr>\n",
       "</thead>\n",
       "<tbody>\n",
       "\t<tr><th scope=row>39</th><td>45063</td><td>Buy </td><td>AMC</td><td> 1000</td><td>5.01</td><td> 5009.0</td><td>2100</td><td> 5009.0</td><td>    0</td></tr>\n",
       "\t<tr><th scope=row>40</th><td>45076</td><td>Sell</td><td>AMC</td><td>-1000</td><td>4.58</td><td>-4582.8</td><td>1100</td><td>-4582.8</td><td>-1000</td></tr>\n",
       "\t<tr><th scope=row>41</th><td>45079</td><td>Sell</td><td>AMC</td><td>-1100</td><td>4.54</td><td>-4994.0</td><td>   0</td><td>-4994.0</td><td>-1100</td></tr>\n",
       "</tbody>\n",
       "</table>\n"
      ],
      "text/latex": [
       "A data.frame: 3 × 9\n",
       "\\begin{tabular}{r|lllllllll}\n",
       "  & date & type & co & quan & pps & basis & tally\\_q & tally\\_b & Sale\\\\\n",
       "  & <int> & <chr> & <chr> & <dbl> & <dbl> & <dbl> & <dbl> & <dbl> & <int>\\\\\n",
       "\\hline\n",
       "\t39 & 45063 & Buy  & AMC &  1000 & 5.01 &  5009.0 & 2100 &  5009.0 &     0\\\\\n",
       "\t40 & 45076 & Sell & AMC & -1000 & 4.58 & -4582.8 & 1100 & -4582.8 & -1000\\\\\n",
       "\t41 & 45079 & Sell & AMC & -1100 & 4.54 & -4994.0 &    0 & -4994.0 & -1100\\\\\n",
       "\\end{tabular}\n"
      ],
      "text/markdown": [
       "\n",
       "A data.frame: 3 × 9\n",
       "\n",
       "| <!--/--> | date &lt;int&gt; | type &lt;chr&gt; | co &lt;chr&gt; | quan &lt;dbl&gt; | pps &lt;dbl&gt; | basis &lt;dbl&gt; | tally_q &lt;dbl&gt; | tally_b &lt;dbl&gt; | Sale &lt;int&gt; |\n",
       "|---|---|---|---|---|---|---|---|---|---|\n",
       "| 39 | 45063 | Buy  | AMC |  1000 | 5.01 |  5009.0 | 2100 |  5009.0 |     0 |\n",
       "| 40 | 45076 | Sell | AMC | -1000 | 4.58 | -4582.8 | 1100 | -4582.8 | -1000 |\n",
       "| 41 | 45079 | Sell | AMC | -1100 | 4.54 | -4994.0 |    0 | -4994.0 | -1100 |\n",
       "\n"
      ],
      "text/plain": [
       "   date  type co  quan  pps  basis   tally_q tally_b Sale \n",
       "39 45063 Buy  AMC  1000 5.01  5009.0 2100     5009.0     0\n",
       "40 45076 Sell AMC -1000 4.58 -4582.8 1100    -4582.8 -1000\n",
       "41 45079 Sell AMC -1100 4.54 -4994.0    0    -4994.0 -1100"
      ]
     },
     "metadata": {},
     "output_type": "display_data"
    }
   ],
   "source": [
    "df <- read.csv(\"BuySell.csv\", header = TRUE, sep = \",\")\n",
    "nrow(df)\n",
    "head(df,3)\n",
    "tail(df,3)"
   ]
  },
  {
   "cell_type": "code",
   "execution_count": 30,
   "id": "b63df0a9-fde5-4943-bd2d-2ae96df9081d",
   "metadata": {},
   "outputs": [
    {
     "data": {
      "text/html": [
       "<table class=\"dataframe\">\n",
       "<caption>A data.frame: 3 × 9</caption>\n",
       "<thead>\n",
       "\t<tr><th></th><th scope=col>date</th><th scope=col>type</th><th scope=col>co</th><th scope=col>quan</th><th scope=col>pps</th><th scope=col>basis</th><th scope=col>tally_q</th><th scope=col>tally_b</th><th scope=col>Sale</th></tr>\n",
       "\t<tr><th></th><th scope=col>&lt;int&gt;</th><th scope=col>&lt;chr&gt;</th><th scope=col>&lt;chr&gt;</th><th scope=col>&lt;int&gt;</th><th scope=col>&lt;dbl&gt;</th><th scope=col>&lt;dbl&gt;</th><th scope=col>&lt;int&gt;</th><th scope=col>&lt;dbl&gt;</th><th scope=col>&lt;int&gt;</th></tr>\n",
       "</thead>\n",
       "<tbody>\n",
       "\t<tr><th scope=row>1</th><td>44926</td><td>Owned</td><td>AMC</td><td>1050</td><td>4.070</td><td>4273.5</td><td>1050</td><td>4273.5</td><td>0</td></tr>\n",
       "\t<tr><th scope=row>2</th><td>44946</td><td>Buy  </td><td>AMC</td><td>1000</td><td>5.625</td><td>5625.0</td><td>2050</td><td>5625.0</td><td>0</td></tr>\n",
       "\t<tr><th scope=row>3</th><td>44949</td><td>Buy  </td><td>AMC</td><td>1000</td><td>5.788</td><td>5788.0</td><td>3050</td><td>5788.0</td><td>0</td></tr>\n",
       "</tbody>\n",
       "</table>\n"
      ],
      "text/latex": [
       "A data.frame: 3 × 9\n",
       "\\begin{tabular}{r|lllllllll}\n",
       "  & date & type & co & quan & pps & basis & tally\\_q & tally\\_b & Sale\\\\\n",
       "  & <int> & <chr> & <chr> & <int> & <dbl> & <dbl> & <int> & <dbl> & <int>\\\\\n",
       "\\hline\n",
       "\t1 & 44926 & Owned & AMC & 1050 & 4.070 & 4273.5 & 1050 & 4273.5 & 0\\\\\n",
       "\t2 & 44946 & Buy   & AMC & 1000 & 5.625 & 5625.0 & 2050 & 5625.0 & 0\\\\\n",
       "\t3 & 44949 & Buy   & AMC & 1000 & 5.788 & 5788.0 & 3050 & 5788.0 & 0\\\\\n",
       "\\end{tabular}\n"
      ],
      "text/markdown": [
       "\n",
       "A data.frame: 3 × 9\n",
       "\n",
       "| <!--/--> | date &lt;int&gt; | type &lt;chr&gt; | co &lt;chr&gt; | quan &lt;int&gt; | pps &lt;dbl&gt; | basis &lt;dbl&gt; | tally_q &lt;int&gt; | tally_b &lt;dbl&gt; | Sale &lt;int&gt; |\n",
       "|---|---|---|---|---|---|---|---|---|---|\n",
       "| 1 | 44926 | Owned | AMC | 1050 | 4.070 | 4273.5 | 1050 | 4273.5 | 0 |\n",
       "| 2 | 44946 | Buy   | AMC | 1000 | 5.625 | 5625.0 | 2050 | 5625.0 | 0 |\n",
       "| 3 | 44949 | Buy   | AMC | 1000 | 5.788 | 5788.0 | 3050 | 5788.0 | 0 |\n",
       "\n"
      ],
      "text/plain": [
       "  date  type  co  quan pps   basis  tally_q tally_b Sale\n",
       "1 44926 Owned AMC 1050 4.070 4273.5 1050    4273.5  0   \n",
       "2 44946 Buy   AMC 1000 5.625 5625.0 2050    5625.0  0   \n",
       "3 44949 Buy   AMC 1000 5.788 5788.0 3050    5788.0  0   "
      ]
     },
     "metadata": {},
     "output_type": "display_data"
    }
   ],
   "source": [
    "df$quan <- as.integer(df$quan)\n",
    "df$tally_q <- as.integer(df$tally_q)\n",
    "\n",
    "head(df,3)"
   ]
  },
  {
   "cell_type": "code",
   "execution_count": 31,
   "id": "e075f4cc-30f9-48ee-807e-6e337b8dea8a",
   "metadata": {},
   "outputs": [],
   "source": [
    "# Convert Excel dates when in the 1900 date format\n",
    "\n",
    "# df$date <- as.Date(df$date, origin = \"1899-12-30\")\n",
    "# head(df, 3)"
   ]
  },
  {
   "cell_type": "code",
   "execution_count": 32,
   "id": "33f3358b-ca6c-43ea-b10c-96ca5bfe3325",
   "metadata": {},
   "outputs": [],
   "source": [
    "# First allocate, then play with cost basis methods\n",
    "\n",
    "adj_tally_q <- function(tally_q, quan_sold) {\n",
    "    # cat(\"tally_q in the remote fct\", tally_q, \"\\n\")\n",
    "    tally_q <- tally_q + quan_sold\n",
    "    cat(\"ADJUSTED tally_q - reduced by proceeds in remote fct\", tally_q, \"\\n\")\n",
    "    return(tally_q)        \n",
    "    }"
   ]
  },
  {
   "cell_type": "markdown",
   "id": "10d3f5cc-1373-44b4-b01f-eada6b5c213d",
   "metadata": {},
   "source": [
    "## <font color = yellow> Keeper! These values agree with .csv/spreadsheet\n",
    "    \n",
    "##### Getting the spreadsheet right w Buy/Sells remains the workout"
   ]
  },
  {
   "cell_type": "code",
   "execution_count": 33,
   "id": "8f2cd095-995c-4df9-97df-244913559b80",
   "metadata": {},
   "outputs": [],
   "source": [
    "# Function that reads BuySell.csv and will perform actions which agree with the values of (tally_q_q) on Sell dates\n",
    "\n",
    "make_buysell_csv <- function() {    \n",
    "\n",
    "    # remote fct to test passing value from fct to remote to this remote\n",
    "     adj_basis <- function(tally_q, quan_sold) {\n",
    "        print(paste0(\"In adj_basis fct. tally_q is: \", tally_q, \" Sell is: \", quan_sold))\n",
    "        n <- 2\n",
    "        tally_q <<- tally_q + n\n",
    "        return(tally_q)\n",
    "        }   \n",
    "\n",
    "    # remote fct to adjust the running stock tally_q (combine sum of Buys with the next Sell), return adjusted tally_q\n",
    "    adj_tally_q <- function(tally_q, quan_sold) {\n",
    "        cat(\"tally_q in the remote fct\", tally_q, \"proceeds is: \", quan_sold, \"\\n\")\n",
    "        tally_q <- tally_q + quan_sold\n",
    "        cat(\"ADJUSTED tally_q - reduced by proceeds in remote fct\", tally_q, \"\\n\")\n",
    "        # Fct call\n",
    "        # adjusted <- adj_basis(tally_q, proceeds)\n",
    "        # print(paste0(\"adjusted from remote fct is: \", adjusted))\n",
    "        return(tally_q)        \n",
    "        }       \n",
    "\n",
    "    # Main body     \n",
    "\n",
    "    # Create counter vars\n",
    "    ct <- 0\n",
    "    tally_q <<- 0\n",
    "    row_ct <<- 0\n",
    "    quan_sold <- 0\n",
    "    \n",
    "    cat(\"The df has the following nrows: \", nrow(df), \"\\n \\n\")\n",
    "\n",
    "    # loop through the df\n",
    "    for(i in 1:nrow(df))  { \n",
    "\n",
    "         ct <- ct + 1\n",
    "        # Sum the buy values from each row\n",
    "        if(df[i, 'quan'] > 0 ) {\n",
    "            row_ct <- row_ct + 1\n",
    "           # tally_q the buys from each row \n",
    "            tally_q <- tally_q + df[i, 'quan']\n",
    "            cat(\"BUY: Row no: \", row_ct, \"Cost is: \", df[i, \"basis\"], \", tally_q is:\", tally_q, \"\\n\")\n",
    "            \n",
    "            # cat(\"BUY \", df[i,'quan'], \" Row number is: \", row_ct, \" The tally_q is: \", tally_q, \"\\n\")\n",
    "            }\n",
    "\n",
    "            #  When a Sell occurs, Call remote fct to adjust the tally_q == tally_q_q\n",
    "            if(df[i, 'quan'] < 0 )  {\n",
    "                quan_sold <- df[i, 'quan']\n",
    "                row_ct <- row_ct + 1\n",
    "               cat(\"SELL \", df[i,'quan'], \" Row number is: \", row_ct, \" The tally_q is: \", tally_q, \" Sell Proceeds: \", df[i, 'basis'], \"\\n\" )\n",
    "               tally_q <- adj_tally_q(tally_q, quan_sold) \n",
    "                }\n",
    "       }  # end For-loop \n",
    "\n",
    "        cat(\"\\n\")\n",
    "        cat(\"The FINAL tally_q is :\", tally_q, \"\\n\")\n",
    "        ct\n",
    "} # end fct\n",
    "\n",
    "#  These value will agree with the spreadsheet: BuySell.csv / .xlsx"
   ]
  },
  {
   "cell_type": "code",
   "execution_count": 34,
   "id": "75f3b946-2189-4199-aa43-da8697a8d3a2",
   "metadata": {},
   "outputs": [
    {
     "name": "stdout",
     "output_type": "stream",
     "text": [
      "The df has the following nrows:  41 \n",
      " \n",
      "BUY: Row no:  1 Cost is:  4273.5 , tally_q is: 1050 \n",
      "BUY: Row no:  2 Cost is:  5625 , tally_q is: 2050 \n",
      "BUY: Row no:  3 Cost is:  5788 , tally_q is: 3050 \n",
      "BUY: Row no:  4 Cost is:  10478.8 , tally_q is: 5050 \n",
      "SELL  -1000  Row number is:  5  The tally_q is:  5050  Sell Proceeds:  -5512.4 \n",
      "tally_q in the remote fct 5050 proceeds is:  -1000 \n",
      "ADJUSTED tally_q - reduced by proceeds in remote fct 4050 \n",
      "SELL  -1000  Row number is:  6  The tally_q is:  4050  Sell Proceeds:  -6682.55 \n",
      "tally_q in the remote fct 4050 proceeds is:  -1000 \n",
      "ADJUSTED tally_q - reduced by proceeds in remote fct 3050 \n",
      "SELL  -1000  Row number is:  7  The tally_q is:  3050  Sell Proceeds:  -6255 \n",
      "tally_q in the remote fct 3050 proceeds is:  -1000 \n",
      "ADJUSTED tally_q - reduced by proceeds in remote fct 2050 \n",
      "SELL  -1000  Row number is:  8  The tally_q is:  2050  Sell Proceeds:  -6190.1 \n",
      "tally_q in the remote fct 2050 proceeds is:  -1000 \n",
      "ADJUSTED tally_q - reduced by proceeds in remote fct 1050 \n",
      "BUY: Row no:  9 Cost is:  9490 , tally_q is: 3050 \n",
      "BUY: Row no:  10 Cost is:  4780 , tally_q is: 4050 \n",
      "BUY: Row no:  11 Cost is:  14188.8 , tally_q is: 7050 \n",
      "BUY: Row no:  12 Cost is:  7077.45 , tally_q is: 8550 \n",
      "BUY: Row no:  13 Cost is:  1415.01 , tally_q is: 8850 \n",
      "BUY: Row no:  14 Cost is:  9420 , tally_q is: 10850 \n",
      "BUY: Row no:  15 Cost is:  19120.4 , tally_q is: 14850 \n",
      "SELL  -3000  Row number is:  16  The tally_q is:  14850  Sell Proceeds:  -17565 \n",
      "tally_q in the remote fct 14850 proceeds is:  -3000 \n",
      "ADJUSTED tally_q - reduced by proceeds in remote fct 11850 \n",
      "SELL  -6000  Row number is:  17  The tally_q is:  11850  Sell Proceeds:  -39690 \n",
      "tally_q in the remote fct 11850 proceeds is:  -6000 \n",
      "ADJUSTED tally_q - reduced by proceeds in remote fct 5850 \n",
      "SELL  -3000  Row number is:  18  The tally_q is:  5850  Sell Proceeds:  -23448 \n",
      "tally_q in the remote fct 5850 proceeds is:  -3000 \n",
      "ADJUSTED tally_q - reduced by proceeds in remote fct 2850 \n",
      "SELL  -1850  Row number is:  19  The tally_q is:  2850  Sell Proceeds:  -14032.25 \n",
      "tally_q in the remote fct 2850 proceeds is:  -1850 \n",
      "ADJUSTED tally_q - reduced by proceeds in remote fct 1000 \n",
      "SELL  -1000  Row number is:  20  The tally_q is:  1000  Sell Proceeds:  -7816 \n",
      "tally_q in the remote fct 1000 proceeds is:  -1000 \n",
      "ADJUSTED tally_q - reduced by proceeds in remote fct 0 \n",
      "BUY: Row no:  21 Cost is:  32945.5 , tally_q is: 5000 \n",
      "BUY: Row no:  22 Cost is:  6485 , tally_q is: 6000 \n",
      "SELL  -3000  Row number is:  23  The tally_q is:  6000  Sell Proceeds:  -19653.9 \n",
      "tally_q in the remote fct 6000 proceeds is:  -3000 \n",
      "ADJUSTED tally_q - reduced by proceeds in remote fct 3000 \n",
      "BUY: Row no:  24 Cost is:  17832.39 , tally_q is: 5900 \n",
      "BUY: Row no:  25 Cost is:  614.5 , tally_q is: 6000 \n",
      "SELL  -500  Row number is:  26  The tally_q is:  6000  Sell Proceeds:  -2922.5 \n",
      "tally_q in the remote fct 6000 proceeds is:  -500 \n",
      "ADJUSTED tally_q - reduced by proceeds in remote fct 5500 \n",
      "SELL  -3000  Row number is:  27  The tally_q is:  5500  Sell Proceeds:  -17835 \n",
      "tally_q in the remote fct 5500 proceeds is:  -3000 \n",
      "ADJUSTED tally_q - reduced by proceeds in remote fct 2500 \n",
      "SELL  -2000  Row number is:  28  The tally_q is:  2500  Sell Proceeds:  -11510 \n",
      "tally_q in the remote fct 2500 proceeds is:  -2000 \n",
      "ADJUSTED tally_q - reduced by proceeds in remote fct 500 \n",
      "SELL  -500  Row number is:  29  The tally_q is:  500  Sell Proceeds:  -2860 \n",
      "tally_q in the remote fct 500 proceeds is:  -500 \n",
      "ADJUSTED tally_q - reduced by proceeds in remote fct 0 \n",
      "BUY: Row no:  30 Cost is:  4295 , tally_q is: 1000 \n",
      "BUY: Row no:  31 Cost is:  8614.8 , tally_q is: 3000 \n",
      "BUY: Row no:  32 Cost is:  4290 , tally_q is: 4000 \n",
      "BUY: Row no:  33 Cost is:  4225 , tally_q is: 5000 \n",
      "BUY: Row no:  34 Cost is:  8840 , tally_q is: 7000 \n",
      "SELL  -2000  Row number is:  35  The tally_q is:  7000  Sell Proceeds:  -9830 \n",
      "tally_q in the remote fct 7000 proceeds is:  -2000 \n",
      "ADJUSTED tally_q - reduced by proceeds in remote fct 5000 \n",
      "SELL  -5000  Row number is:  36  The tally_q is:  5000  Sell Proceeds:  -24725 \n",
      "tally_q in the remote fct 5000 proceeds is:  -5000 \n",
      "ADJUSTED tally_q - reduced by proceeds in remote fct 0 \n",
      "BUY: Row no:  37 Cost is:  2004 , tally_q is: 400 \n",
      "BUY: Row no:  38 Cost is:  3811.5 , tally_q is: 1100 \n",
      "BUY: Row no:  39 Cost is:  5009 , tally_q is: 2100 \n",
      "SELL  -1000  Row number is:  40  The tally_q is:  2100  Sell Proceeds:  -4582.8 \n",
      "tally_q in the remote fct 2100 proceeds is:  -1000 \n",
      "ADJUSTED tally_q - reduced by proceeds in remote fct 1100 \n",
      "SELL  -1100  Row number is:  41  The tally_q is:  1100  Sell Proceeds:  -4994 \n",
      "tally_q in the remote fct 1100 proceeds is:  -1100 \n",
      "ADJUSTED tally_q - reduced by proceeds in remote fct 0 \n",
      "\n",
      "The FINAL tally_q is : 0 \n"
     ]
    },
    {
     "data": {
      "text/html": [
       "41"
      ],
      "text/latex": [
       "41"
      ],
      "text/markdown": [
       "41"
      ],
      "text/plain": [
       "[1] 41"
      ]
     },
     "metadata": {},
     "output_type": "display_data"
    }
   ],
   "source": [
    "make_buysell_csv()"
   ]
  },
  {
   "cell_type": "code",
   "execution_count": 35,
   "id": "c21b81ad-8587-46e0-aa69-aef06e067f1a",
   "metadata": {},
   "outputs": [],
   "source": [
    "# stopper"
   ]
  },
  {
   "cell_type": "code",
   "execution_count": 36,
   "id": "2435aa27-7970-4681-90e8-546b7b5a67d7",
   "metadata": {},
   "outputs": [],
   "source": [
    "    # remote fct to adjust the running stock tally_q (combine sum of Buys with the next Sell), return adjusted tally_q\n",
    "    adj_tally_q <- function(tally_q, quan_sold) {\n",
    "        cat(\"tally_q in the remote fct\", tally_q, \"The proceeds is: \", quan_sold, \"\\n\")\n",
    "        tally_q <- tally_q + quan_sold\n",
    "        cat(\"ADJUSTED tally_q - reduced by proceeds in remote fct\", tally_q, \"\\n\")\n",
    "       \n",
    "        return(tally_q)        \n",
    "        }       \n"
   ]
  },
  {
   "cell_type": "code",
   "execution_count": 37,
   "id": "8f7c5db2-dc72-41d6-9ffd-2300f0a2a770",
   "metadata": {},
   "outputs": [
    {
     "name": "stdout",
     "output_type": "stream",
     "text": [
      "The df has the following nrows:  41 \n",
      " \n",
      "BUY.  1050  row number is:  1  tally_q is:  1050 \n",
      "BUY.  1000  row number is:  2  tally_q is:  2050 \n",
      "BUY.  1000  row number is:  3  tally_q is:  3050 \n",
      "BUY.  2000  row number is:  4  tally_q is:  5050 \n",
      "SELL  -1000  Row number is:  6  The tally_q is:  5050  Sell quan_sold:  -5512.4 \n",
      "tally_q in the remote fct 5050 The proceeds is:  -1000 \n",
      "ADJUSTED tally_q - reduced by proceeds in remote fct 4050 \n",
      "SELL  -1000  Row number is:  7  The tally_q is:  4050  Sell quan_sold:  -6682.55 \n",
      "tally_q in the remote fct 4050 The proceeds is:  -1000 \n",
      "ADJUSTED tally_q - reduced by proceeds in remote fct 3050 \n",
      "SELL  -1000  Row number is:  8  The tally_q is:  3050  Sell quan_sold:  -6255 \n",
      "tally_q in the remote fct 3050 The proceeds is:  -1000 \n",
      "ADJUSTED tally_q - reduced by proceeds in remote fct 2050 \n",
      "SELL  -1000  Row number is:  9  The tally_q is:  2050  Sell quan_sold:  -6190.1 \n",
      "tally_q in the remote fct 2050 The proceeds is:  -1000 \n",
      "ADJUSTED tally_q - reduced by proceeds in remote fct 1050 \n",
      "BUY.  2000  row number is:  9  tally_q is:  3050 \n",
      "BUY.  1000  row number is:  10  tally_q is:  4050 \n",
      "BUY.  3000  row number is:  11  tally_q is:  7050 \n",
      "BUY.  1500  row number is:  12  tally_q is:  8550 \n",
      "BUY.  300  row number is:  13  tally_q is:  8850 \n",
      "BUY.  2000  row number is:  14  tally_q is:  10850 \n",
      "BUY.  4000  row number is:  15  tally_q is:  14850 \n",
      "SELL  -3000  Row number is:  17  The tally_q is:  14850  Sell quan_sold:  -17565 \n",
      "tally_q in the remote fct 14850 The proceeds is:  -3000 \n",
      "ADJUSTED tally_q - reduced by proceeds in remote fct 11850 \n",
      "SELL  -6000  Row number is:  18  The tally_q is:  11850  Sell quan_sold:  -39690 \n",
      "tally_q in the remote fct 11850 The proceeds is:  -6000 \n",
      "ADJUSTED tally_q - reduced by proceeds in remote fct 5850 \n",
      "SELL  -3000  Row number is:  19  The tally_q is:  5850  Sell quan_sold:  -23448 \n",
      "tally_q in the remote fct 5850 The proceeds is:  -3000 \n",
      "ADJUSTED tally_q - reduced by proceeds in remote fct 2850 \n",
      "SELL  -1850  Row number is:  20  The tally_q is:  2850  Sell quan_sold:  -14032.25 \n",
      "tally_q in the remote fct 2850 The proceeds is:  -1850 \n",
      "ADJUSTED tally_q - reduced by proceeds in remote fct 1000 \n",
      "SELL  -1000  Row number is:  21  The tally_q is:  1000  Sell quan_sold:  -7816 \n",
      "tally_q in the remote fct 1000 The proceeds is:  -1000 \n",
      "ADJUSTED tally_q - reduced by proceeds in remote fct 0 \n",
      "BUY.  5000  row number is:  21  tally_q is:  5000 \n",
      "BUY.  1000  row number is:  22  tally_q is:  6000 \n",
      "SELL  -3000  Row number is:  24  The tally_q is:  6000  Sell quan_sold:  -19653.9 \n",
      "tally_q in the remote fct 6000 The proceeds is:  -3000 \n",
      "ADJUSTED tally_q - reduced by proceeds in remote fct 3000 \n",
      "BUY.  2900  row number is:  24  tally_q is:  5900 \n",
      "BUY.  100  row number is:  25  tally_q is:  6000 \n",
      "SELL  -500  Row number is:  27  The tally_q is:  6000  Sell quan_sold:  -2922.5 \n",
      "tally_q in the remote fct 6000 The proceeds is:  -500 \n",
      "ADJUSTED tally_q - reduced by proceeds in remote fct 5500 \n",
      "SELL  -3000  Row number is:  28  The tally_q is:  5500  Sell quan_sold:  -17835 \n",
      "tally_q in the remote fct 5500 The proceeds is:  -3000 \n",
      "ADJUSTED tally_q - reduced by proceeds in remote fct 2500 \n",
      "SELL  -2000  Row number is:  29  The tally_q is:  2500  Sell quan_sold:  -11510 \n",
      "tally_q in the remote fct 2500 The proceeds is:  -2000 \n",
      "ADJUSTED tally_q - reduced by proceeds in remote fct 500 \n",
      "SELL  -500  Row number is:  30  The tally_q is:  500  Sell quan_sold:  -2860 \n",
      "tally_q in the remote fct 500 The proceeds is:  -500 \n",
      "ADJUSTED tally_q - reduced by proceeds in remote fct 0 \n",
      "BUY.  1000  row number is:  30  tally_q is:  1000 \n",
      "BUY.  2000  row number is:  31  tally_q is:  3000 \n",
      "BUY.  1000  row number is:  32  tally_q is:  4000 \n",
      "BUY.  1000  row number is:  33  tally_q is:  5000 \n",
      "BUY.  2000  row number is:  34  tally_q is:  7000 \n",
      "SELL  -2000  Row number is:  36  The tally_q is:  7000  Sell quan_sold:  -9830 \n",
      "tally_q in the remote fct 7000 The proceeds is:  -2000 \n",
      "ADJUSTED tally_q - reduced by proceeds in remote fct 5000 \n",
      "SELL  -5000  Row number is:  37  The tally_q is:  5000  Sell quan_sold:  -24725 \n",
      "tally_q in the remote fct 5000 The proceeds is:  -5000 \n",
      "ADJUSTED tally_q - reduced by proceeds in remote fct 0 \n",
      "BUY.  400  row number is:  37  tally_q is:  400 \n",
      "BUY.  700  row number is:  38  tally_q is:  1100 \n",
      "BUY.  1000  row number is:  39  tally_q is:  2100 \n",
      "SELL  -1000  Row number is:  41  The tally_q is:  2100  Sell quan_sold:  -4582.8 \n",
      "tally_q in the remote fct 2100 The proceeds is:  -1000 \n",
      "ADJUSTED tally_q - reduced by proceeds in remote fct 1100 \n",
      "SELL  -1100  Row number is:  42  The tally_q is:  1100  Sell quan_sold:  -4994 \n",
      "tally_q in the remote fct 1100 The proceeds is:  -1100 \n",
      "ADJUSTED tally_q - reduced by proceeds in remote fct 0 \n",
      "\n",
      "The FINAL tally_q is : 0 \n"
     ]
    },
    {
     "data": {
      "text/html": [
       "41"
      ],
      "text/latex": [
       "41"
      ],
      "text/markdown": [
       "41"
      ],
      "text/plain": [
       "[1] 41"
      ]
     },
     "metadata": {},
     "output_type": "display_data"
    }
   ],
   "source": [
    "# Identify the rows in the df where the proceedss occur\n",
    "\n",
    "# Create counter vars\n",
    "ct <- 0\n",
    "tally_q <- 0\n",
    "row_ct <<- 1\n",
    "cat(\"The df has the following nrows: \", nrow(df), \"\\n \\n\")\n",
    "\n",
    "# loop through the df\n",
    "for(i in 1:nrow(df))  { \n",
    "    \n",
    "     ct <- ct + 1\n",
    "    # Sum the buy values from each row\n",
    "    if(df[i, 'quan'] > 0 ) {\n",
    "        \n",
    "        # tally_q the buys from each row \n",
    "         tally_q <- tally_q + df[i, 'quan']\n",
    "        cat(\"BUY. \", df[i,'quan'], \" row number is: \", row_ct, \" tally_q is: \", tally_q, \"\\n\")\n",
    "       \n",
    "        row_ct <- row_ct + 1\n",
    "        #print(paste0(\"BUY \", df[i,'quan'], \" Row number is: \", row_ct, \" The tally_q is: \", tally_q))       \n",
    "        }\n",
    "    \n",
    "        \n",
    "        #  When a Sell occurs, Call remote fct to adjust the tally_q == tally_q_q\n",
    "        if(df[i, 'quan'] < 0 )  {\n",
    "            quan_sold <- df[i, 'quan']\n",
    "            row_ct <- row_ct + 1\n",
    "           cat(\"SELL \", df[i,'quan'], \" Row number is: \", row_ct, \" The tally_q is: \", tally_q, \" Sell quan_sold: \", df[i, 'basis'], \"\\n\" )\n",
    "           tally_q <- adj_tally_q(tally_q, quan_sold) \n",
    "            }\n",
    "   }\n",
    " \n",
    "cat(\"\\n\")\n",
    "cat(\"The FINAL tally_q is :\", tally_q, \"\\n\")  # This value s/b 0 \n",
    "ct\n",
    "\n",
    "#  These value agree with the spreadsheet (tally_q_q on SELL line) See: BuySell.csv / .xlsx\n",
    "#  These value agree with the spreadsheet: BuySell.csv / .xlsx"
   ]
  },
  {
   "cell_type": "markdown",
   "id": "da9c7e9b-30b6-4278-a9e3-eea0b4c97802",
   "metadata": {},
   "source": [
    "## <font color = yellow> Convert the entire thing into a fct"
   ]
  },
  {
   "cell_type": "code",
   "execution_count": null,
   "id": "07fd1e76-edde-4a41-8fa5-4e445b92ba24",
   "metadata": {},
   "outputs": [],
   "source": []
  },
  {
   "cell_type": "code",
   "execution_count": 38,
   "id": "9c47f0d1-ea48-4afe-a9e3-3d529cc9046b",
   "metadata": {},
   "outputs": [],
   "source": [
    " # adj_basis <- function(tally_q, proceeds) {\n",
    " #        print(paste0(\"In adj_basis fct. tally_q is: \", tally_q, \" Sell is: \", proceeds))\n",
    " #        n <- 2\n",
    " #        tally_q <<- tally_q + n\n",
    " #        return(tally_q)\n",
    " #        }"
   ]
  },
  {
   "cell_type": "code",
   "execution_count": 39,
   "id": "d0eb08ea-6f15-4cd8-bcca-7cca37e2b431",
   "metadata": {},
   "outputs": [],
   "source": [
    "# Function that reads BuySell.csv and will perform actions which agree with the values of (tally_q_q) on Sell dates\n",
    "\n",
    "make_buysell_csv <- function() {    \n",
    "\n",
    "    # remote fct to test passing value from fct to remote to this remote\n",
    "     adj_basis <- function(tally_q, quan_sold) {\n",
    "        print(paste0(\"In adj_basis fct. tally_q is: \", tally_q, \" Sell is: \", quan_sold))\n",
    "        n <- 2\n",
    "        tally_q <<- tally_q + n\n",
    "        return(tally_q)\n",
    "        }   \n",
    "\n",
    "    # remote fct to adjust the running stock tally_q (combine sum of Buys with the next Sell), return adjusted tally_q\n",
    "    adj_tally_q <- function(tally_q, quan_sold) {\n",
    "        # cat(\"tally_q in the remote fct\", tally_q, \"\\n\")\n",
    "        tally_q <- tally_q + quan_sold\n",
    "        # cat(\"ADJUSTED tally_q - reduced by proceeds in remote fct\", tally_q, \"\\n\")\n",
    "        # Fct call\n",
    "        # adjusted <- adj_basis(tally_q, proceeds)\n",
    "        # print(paste0(\"adjusted from remote fct is: \", adjusted))\n",
    "        return(tally_q)        \n",
    "        }       \n",
    "\n",
    "    # Main body     \n",
    "\n",
    "    # Create counter vars\n",
    "    ct <- 0\n",
    "    tally_q <<- 0\n",
    "    tally_sales <<- 0\n",
    "    row_ct <<- 0\n",
    "    cat(\"The df has the following nrows: \", nrow(df), \"\\n \\n\")\n",
    "\n",
    "    # loop through the df\n",
    "    for(i in 1:nrow(df))  { \n",
    "\n",
    "         ct <- ct + 1\n",
    "        # Sum the buy values from each row\n",
    "        if(df[i, 'quan'] > 0 ) {\n",
    "            row_ct <- row_ct + 1\n",
    "           # tally_q the buys from each row \n",
    "            tally_q <- tally_q + df[i, 'quan']\n",
    "            #cat(\"BUY: Row no: \", row_ct, \" Cost \", df[i, \"basis\"], \" tally_q is: \", tally_q, \"\\n\")\n",
    "            \n",
    "            # print(paste0(\"BUY \", df[i,'quan'], \" Row number is: \", row_ct, \" The tally_q is: \", tally_q))       \n",
    "            }\n",
    "\n",
    "            #  When a Sell occurs, Call remote fct to adjust the tally_q == tally_q_q\n",
    "            if(df[i, 'quan'] < 0 )  {\n",
    "                quan_sold <- df[i, 'quan']\n",
    "                row_ct <- row_ct + 1\n",
    "                tally_sales <<- df[i, 'basis'] + tally_sales\n",
    "                #cat(\"tally_sales is: \", tally_sales, \"\\n\")\n",
    "                cat(\"SELL \", df[i,'quan'], \" Row number is: \", row_ct, \" Sale quan is :\", quan_sold, \" Sell Proceeds: \", df[i, 'basis'], \"\\n\" )\n",
    "                tally_q <- adj_tally_q(tally_q, quan_sold) \n",
    "                }       \n",
    "        \n",
    "       }  # end For-loop \n",
    "\n",
    "        cat(\"\\n\")\n",
    "        cat(\"The FINAL tally_q is :\", tally_q, \"\\n\")\n",
    "        cat(\"The FINAL tally_sales is :\", tally_sales, \"\\n\")\n",
    "        ct\n",
    "} # end fct\n",
    "\n",
    "#  These value will agree with the spreadsheet: BuySell.csv / .xlsx"
   ]
  },
  {
   "cell_type": "code",
   "execution_count": 40,
   "id": "ef1872a7-0195-4561-9c1b-e8ced754d41b",
   "metadata": {},
   "outputs": [
    {
     "name": "stdout",
     "output_type": "stream",
     "text": [
      "The df has the following nrows:  41 \n",
      " \n",
      "SELL  -1000  Row number is:  5  Sale quan is : -1000  Sell Proceeds:  -5512.4 \n",
      "SELL  -1000  Row number is:  6  Sale quan is : -1000  Sell Proceeds:  -6682.55 \n",
      "SELL  -1000  Row number is:  7  Sale quan is : -1000  Sell Proceeds:  -6255 \n",
      "SELL  -1000  Row number is:  8  Sale quan is : -1000  Sell Proceeds:  -6190.1 \n",
      "SELL  -3000  Row number is:  16  Sale quan is : -3000  Sell Proceeds:  -17565 \n",
      "SELL  -6000  Row number is:  17  Sale quan is : -6000  Sell Proceeds:  -39690 \n",
      "SELL  -3000  Row number is:  18  Sale quan is : -3000  Sell Proceeds:  -23448 \n",
      "SELL  -1850  Row number is:  19  Sale quan is : -1850  Sell Proceeds:  -14032.25 \n",
      "SELL  -1000  Row number is:  20  Sale quan is : -1000  Sell Proceeds:  -7816 \n",
      "SELL  -3000  Row number is:  23  Sale quan is : -3000  Sell Proceeds:  -19653.9 \n",
      "SELL  -500  Row number is:  26  Sale quan is : -500  Sell Proceeds:  -2922.5 \n",
      "SELL  -3000  Row number is:  27  Sale quan is : -3000  Sell Proceeds:  -17835 \n",
      "SELL  -2000  Row number is:  28  Sale quan is : -2000  Sell Proceeds:  -11510 \n",
      "SELL  -500  Row number is:  29  Sale quan is : -500  Sell Proceeds:  -2860 \n",
      "SELL  -2000  Row number is:  35  Sale quan is : -2000  Sell Proceeds:  -9830 \n",
      "SELL  -5000  Row number is:  36  Sale quan is : -5000  Sell Proceeds:  -24725 \n",
      "SELL  -1000  Row number is:  40  Sale quan is : -1000  Sell Proceeds:  -4582.8 \n",
      "SELL  -1100  Row number is:  41  Sale quan is : -1100  Sell Proceeds:  -4994 \n",
      "\n",
      "The FINAL tally_q is : 0 \n",
      "The FINAL tally_sales is : -226104.5 \n"
     ]
    },
    {
     "data": {
      "text/html": [
       "41"
      ],
      "text/latex": [
       "41"
      ],
      "text/markdown": [
       "41"
      ],
      "text/plain": [
       "[1] 41"
      ]
     },
     "metadata": {},
     "output_type": "display_data"
    }
   ],
   "source": [
    "#  Call the fct\n",
    "make_buysell_csv()\n",
    "#  These value will agree with the spreadsheet: BuySell.csv / .xlsx"
   ]
  },
  {
   "cell_type": "code",
   "execution_count": 41,
   "id": "f752ee5b-5699-41d4-9c4f-efcb4e81b332",
   "metadata": {},
   "outputs": [],
   "source": [
    "# stopper"
   ]
  },
  {
   "cell_type": "markdown",
   "id": "987f5fd2-3ad8-47ee-8501-9d25ad16dfec",
   "metadata": {},
   "source": [
    "### <font color = lime> New: Adding new summing and track variables"
   ]
  },
  {
   "cell_type": "code",
   "execution_count": null,
   "id": "1573ae2c-37b8-407f-9a41-62264406b33a",
   "metadata": {},
   "outputs": [],
   "source": []
  },
  {
   "cell_type": "code",
   "execution_count": 42,
   "id": "ab73bf5d-b521-45e3-9127-665f14cdfda5",
   "metadata": {},
   "outputs": [],
   "source": [
    "# remote fct to adjust the running Buy tally_q with the next Sell quan\n",
    "#  & return adjusted tally_q\n",
    "    adj_tally_q <- function(tally_q, quan_sold) {\n",
    "        tally_q <- tally_q + quan_sold\n",
    "        cat(\"ADJUSTED tally_q - reduced by proceeds in remote fct\", tally_q, \"\\n\")\n",
    "        return(tally_q)        \n",
    "        }       "
   ]
  },
  {
   "cell_type": "code",
   "execution_count": 43,
   "id": "572280ed-be1b-41ec-99e8-256f262ecfc8",
   "metadata": {},
   "outputs": [
    {
     "name": "stdout",
     "output_type": "stream",
     "text": [
      "The df has the following nrows:  41 \n",
      " \n",
      "BUY.  1050  row number is:  1  tally_q is:  1050 \n",
      "BUY.  1000  row number is:  2  tally_q is:  2050 \n",
      "BUY.  1000  row number is:  3  tally_q is:  3050 \n",
      "BUY.  2000  row number is:  4  tally_q is:  5050 \n",
      "SELL  -1000  Row number is:  6  The tally_q is:  5050  Sell Proceeds:  -5512.4 \n",
      "ADJUSTED tally_q - reduced by proceeds in remote fct 4050 \n",
      "SELL  -1000  Row number is:  7  The tally_q is:  4050  Sell Proceeds:  -6682.55 \n",
      "ADJUSTED tally_q - reduced by proceeds in remote fct 3050 \n",
      "SELL  -1000  Row number is:  8  The tally_q is:  3050  Sell Proceeds:  -6255 \n",
      "ADJUSTED tally_q - reduced by proceeds in remote fct 2050 \n",
      "SELL  -1000  Row number is:  9  The tally_q is:  2050  Sell Proceeds:  -6190.1 \n",
      "ADJUSTED tally_q - reduced by proceeds in remote fct 1050 \n",
      "BUY.  2000  row number is:  9  tally_q is:  3050 \n",
      "BUY.  1000  row number is:  10  tally_q is:  4050 \n",
      "BUY.  3000  row number is:  11  tally_q is:  7050 \n",
      "BUY.  1500  row number is:  12  tally_q is:  8550 \n",
      "BUY.  300  row number is:  13  tally_q is:  8850 \n",
      "BUY.  2000  row number is:  14  tally_q is:  10850 \n",
      "BUY.  4000  row number is:  15  tally_q is:  14850 \n",
      "SELL  -3000  Row number is:  17  The tally_q is:  14850  Sell Proceeds:  -17565 \n",
      "ADJUSTED tally_q - reduced by proceeds in remote fct 11850 \n",
      "SELL  -6000  Row number is:  18  The tally_q is:  11850  Sell Proceeds:  -39690 \n",
      "ADJUSTED tally_q - reduced by proceeds in remote fct 5850 \n",
      "SELL  -3000  Row number is:  19  The tally_q is:  5850  Sell Proceeds:  -23448 \n",
      "ADJUSTED tally_q - reduced by proceeds in remote fct 2850 \n",
      "SELL  -1850  Row number is:  20  The tally_q is:  2850  Sell Proceeds:  -14032.25 \n",
      "ADJUSTED tally_q - reduced by proceeds in remote fct 1000 \n",
      "SELL  -1000  Row number is:  21  The tally_q is:  1000  Sell Proceeds:  -7816 \n",
      "ADJUSTED tally_q - reduced by proceeds in remote fct 0 \n",
      "BUY.  5000  row number is:  21  tally_q is:  5000 \n",
      "BUY.  1000  row number is:  22  tally_q is:  6000 \n",
      "SELL  -3000  Row number is:  24  The tally_q is:  6000  Sell Proceeds:  -19653.9 \n",
      "ADJUSTED tally_q - reduced by proceeds in remote fct 3000 \n",
      "BUY.  2900  row number is:  24  tally_q is:  5900 \n",
      "BUY.  100  row number is:  25  tally_q is:  6000 \n",
      "SELL  -500  Row number is:  27  The tally_q is:  6000  Sell Proceeds:  -2922.5 \n",
      "ADJUSTED tally_q - reduced by proceeds in remote fct 5500 \n",
      "SELL  -3000  Row number is:  28  The tally_q is:  5500  Sell Proceeds:  -17835 \n",
      "ADJUSTED tally_q - reduced by proceeds in remote fct 2500 \n",
      "SELL  -2000  Row number is:  29  The tally_q is:  2500  Sell Proceeds:  -11510 \n",
      "ADJUSTED tally_q - reduced by proceeds in remote fct 500 \n",
      "SELL  -500  Row number is:  30  The tally_q is:  500  Sell Proceeds:  -2860 \n",
      "ADJUSTED tally_q - reduced by proceeds in remote fct 0 \n",
      "BUY.  1000  row number is:  30  tally_q is:  1000 \n",
      "BUY.  2000  row number is:  31  tally_q is:  3000 \n",
      "BUY.  1000  row number is:  32  tally_q is:  4000 \n",
      "BUY.  1000  row number is:  33  tally_q is:  5000 \n",
      "BUY.  2000  row number is:  34  tally_q is:  7000 \n",
      "SELL  -2000  Row number is:  36  The tally_q is:  7000  Sell Proceeds:  -9830 \n",
      "ADJUSTED tally_q - reduced by proceeds in remote fct 5000 \n",
      "SELL  -5000  Row number is:  37  The tally_q is:  5000  Sell Proceeds:  -24725 \n",
      "ADJUSTED tally_q - reduced by proceeds in remote fct 0 \n",
      "BUY.  400  row number is:  37  tally_q is:  400 \n",
      "BUY.  700  row number is:  38  tally_q is:  1100 \n",
      "BUY.  1000  row number is:  39  tally_q is:  2100 \n",
      "SELL  -1000  Row number is:  41  The tally_q is:  2100  Sell Proceeds:  -4582.8 \n",
      "ADJUSTED tally_q - reduced by proceeds in remote fct 1100 \n",
      "SELL  -1100  Row number is:  42  The tally_q is:  1100  Sell Proceeds:  -4994 \n",
      "ADJUSTED tally_q - reduced by proceeds in remote fct 0 \n",
      "\n",
      "The FINAL tally_q is : 0 \n"
     ]
    },
    {
     "data": {
      "text/html": [
       "41"
      ],
      "text/latex": [
       "41"
      ],
      "text/markdown": [
       "41"
      ],
      "text/plain": [
       "[1] 41"
      ]
     },
     "metadata": {},
     "output_type": "display_data"
    },
    {
     "name": "stdout",
     "output_type": "stream",
     "text": [
      "\n",
      " The sum of the cost of the Buys is:  190623.6 \n",
      "\n",
      " The sum of the proceeds of the Sells is:  -226104.5 \n"
     ]
    },
    {
     "data": {
      "text/html": [
       "-35480.85"
      ],
      "text/latex": [
       "-35480.85"
      ],
      "text/markdown": [
       "-35480.85"
      ],
      "text/plain": [
       "[1] -35480.85"
      ]
     },
     "metadata": {},
     "output_type": "display_data"
    },
    {
     "name": "stdout",
     "output_type": "stream",
     "text": [
      "\n",
      " The total quantity of Buys is:  36950 \n",
      "The total quantity of Sells is:  -36950 \n"
     ]
    }
   ],
   "source": [
    "# Identify the rows in the df where the proceedss occur\n",
    "\n",
    "# Create counter vars\n",
    "ct <- 0\n",
    "tally_q <- 0\n",
    "row_ct <<- 1\n",
    "accum_buy_basis <<- 0  # sums the cost of the Buys\n",
    "accum_sell_basis <<- 0  # sums the proceeds from Sells\n",
    "accum_sell_quan <<- 0    # count the number of Sells\n",
    "accum_buy_quan <<- 0     # count the number of Buys\n",
    "\n",
    "df_sell <- data.frame() # 'date' = as.integer(0), \"quan\" = as.integer(0), \"basis\" = as.numeric(0)) # empty df\n",
    "df_buy <- data.frame() # empty df\n",
    "\n",
    "\n",
    "\n",
    "cat(\"The df has the following nrows: \", nrow(df), \"\\n \\n\")\n",
    "\n",
    "# loop through the df\n",
    "for(i in 1:nrow(df))  { \n",
    "    \n",
    "    ct <- ct + 1\n",
    "    # Loop if Buy value larger than zero\n",
    "    if(df[i, 'quan'] > 0 ) { \n",
    "        \n",
    "       # tally the Buy from each row \n",
    "       tally_q <- tally_q + df[i, 'quan']\n",
    "       cat(\"BUY. \", df[i,'quan'], \" row number is: \", row_ct, \" tally_q is: \", tally_q, \"\\n\") \n",
    "        accum_buy_basis <- accum_buy_basis + df[i, 'basis']\n",
    "        accum_buy_quan <- accum_buy_quan + df[i, 'quan']\n",
    "       row_ct <- row_ct + 1\n",
    "        df_temp_buy <- data.frame('date' = df[i, 'date'], 'quan' = df[i, 'quan'], 'basis' = df[i, 'basis'])\n",
    "        df_buy <- rbind(df_buy, df_temp_buy)\n",
    "       }\n",
    "              \n",
    "    #  If row is a Sell event, execute remote fct and reduce tally_q by Sell quan\n",
    "    if(df[i, 'quan'] < 0 )  {\n",
    "       quan_sold <- df[i, 'quan']\n",
    "       row_ct <- row_ct + 1\n",
    "       cat(\"SELL \", df[i,'quan'], \" Row number is: \", row_ct, \" The tally_q is: \", tally_q, \" Sell Proceeds: \", df[i, 'basis'], \"\\n\" )\n",
    "        accum_sell_basis <- accum_sell_basis + df[i, 'basis']\n",
    "        accum_sell_quan <- accum_sell_quan + df[i, 'quan']\n",
    "        df_temp_sell <- data.frame('date' = df[i, 'date'], 'quan' = df[i, 'quan'], 'basis' = df[i, 'basis'])\n",
    "        df_sell <- rbind(df_sell, df_temp_sell)\n",
    "                                            \n",
    "       # fct call\n",
    "       tally_q <- adj_tally_q(tally_q, quan_sold) \n",
    "       }    \n",
    "   }\n",
    " \n",
    "cat(\"\\n\")\n",
    "cat(\"The FINAL tally_q is :\", tally_q, \"\\n\")\n",
    "ct\n",
    "\n",
    "\n",
    "cat(\"\\n\", \"The sum of the cost of the Buys is: \", accum_buy_basis, \"\\n\")\n",
    "cat(\"\\n\", \"The sum of the proceeds of the Sells is: \", accum_sell_basis, \"\\n\")\n",
    "\n",
    "unadjusted_pl <- c(accum_buy_basis - abs(accum_sell_basis))\n",
    "unadjusted_pl\n",
    "cat(\"\\n\", \"The total quantity of Buys is: \", accum_buy_quan, \"\\n\")\n",
    "cat(\"The total quantity of Sells is: \", accum_sell_quan, \"\\n\")\n",
    "\n",
    "#  These value agree with the spreadsheet (tally_q_q on SELL line) See: BuySell.csv / .xlsx"
   ]
  },
  {
   "cell_type": "code",
   "execution_count": 44,
   "id": "1408d930-f955-4efd-89e6-f0c33bceebd0",
   "metadata": {},
   "outputs": [
    {
     "data": {
      "text/html": [
       "<table class=\"dataframe\">\n",
       "<caption>A data.frame: 3 × 9</caption>\n",
       "<thead>\n",
       "\t<tr><th></th><th scope=col>date</th><th scope=col>type</th><th scope=col>co</th><th scope=col>quan</th><th scope=col>pps</th><th scope=col>basis</th><th scope=col>tally_q</th><th scope=col>tally_b</th><th scope=col>Sale</th></tr>\n",
       "\t<tr><th></th><th scope=col>&lt;int&gt;</th><th scope=col>&lt;chr&gt;</th><th scope=col>&lt;chr&gt;</th><th scope=col>&lt;int&gt;</th><th scope=col>&lt;dbl&gt;</th><th scope=col>&lt;dbl&gt;</th><th scope=col>&lt;int&gt;</th><th scope=col>&lt;dbl&gt;</th><th scope=col>&lt;int&gt;</th></tr>\n",
       "</thead>\n",
       "<tbody>\n",
       "\t<tr><th scope=row>1</th><td>44926</td><td>Owned</td><td>AMC</td><td>1050</td><td>4.070</td><td>4273.5</td><td>1050</td><td>4273.5</td><td>0</td></tr>\n",
       "\t<tr><th scope=row>2</th><td>44946</td><td>Buy  </td><td>AMC</td><td>1000</td><td>5.625</td><td>5625.0</td><td>2050</td><td>5625.0</td><td>0</td></tr>\n",
       "\t<tr><th scope=row>3</th><td>44949</td><td>Buy  </td><td>AMC</td><td>1000</td><td>5.788</td><td>5788.0</td><td>3050</td><td>5788.0</td><td>0</td></tr>\n",
       "</tbody>\n",
       "</table>\n"
      ],
      "text/latex": [
       "A data.frame: 3 × 9\n",
       "\\begin{tabular}{r|lllllllll}\n",
       "  & date & type & co & quan & pps & basis & tally\\_q & tally\\_b & Sale\\\\\n",
       "  & <int> & <chr> & <chr> & <int> & <dbl> & <dbl> & <int> & <dbl> & <int>\\\\\n",
       "\\hline\n",
       "\t1 & 44926 & Owned & AMC & 1050 & 4.070 & 4273.5 & 1050 & 4273.5 & 0\\\\\n",
       "\t2 & 44946 & Buy   & AMC & 1000 & 5.625 & 5625.0 & 2050 & 5625.0 & 0\\\\\n",
       "\t3 & 44949 & Buy   & AMC & 1000 & 5.788 & 5788.0 & 3050 & 5788.0 & 0\\\\\n",
       "\\end{tabular}\n"
      ],
      "text/markdown": [
       "\n",
       "A data.frame: 3 × 9\n",
       "\n",
       "| <!--/--> | date &lt;int&gt; | type &lt;chr&gt; | co &lt;chr&gt; | quan &lt;int&gt; | pps &lt;dbl&gt; | basis &lt;dbl&gt; | tally_q &lt;int&gt; | tally_b &lt;dbl&gt; | Sale &lt;int&gt; |\n",
       "|---|---|---|---|---|---|---|---|---|---|\n",
       "| 1 | 44926 | Owned | AMC | 1050 | 4.070 | 4273.5 | 1050 | 4273.5 | 0 |\n",
       "| 2 | 44946 | Buy   | AMC | 1000 | 5.625 | 5625.0 | 2050 | 5625.0 | 0 |\n",
       "| 3 | 44949 | Buy   | AMC | 1000 | 5.788 | 5788.0 | 3050 | 5788.0 | 0 |\n",
       "\n"
      ],
      "text/plain": [
       "  date  type  co  quan pps   basis  tally_q tally_b Sale\n",
       "1 44926 Owned AMC 1050 4.070 4273.5 1050    4273.5  0   \n",
       "2 44946 Buy   AMC 1000 5.625 5625.0 2050    5625.0  0   \n",
       "3 44949 Buy   AMC 1000 5.788 5788.0 3050    5788.0  0   "
      ]
     },
     "metadata": {},
     "output_type": "display_data"
    }
   ],
   "source": [
    "head(df,3)"
   ]
  },
  {
   "cell_type": "code",
   "execution_count": 45,
   "id": "358380b6-1322-4098-9d56-1f08da11f88e",
   "metadata": {},
   "outputs": [
    {
     "data": {
      "text/html": [
       "<table class=\"dataframe\">\n",
       "<caption>A data.frame: 3 × 3</caption>\n",
       "<thead>\n",
       "\t<tr><th></th><th scope=col>date</th><th scope=col>quan</th><th scope=col>basis</th></tr>\n",
       "\t<tr><th></th><th scope=col>&lt;int&gt;</th><th scope=col>&lt;int&gt;</th><th scope=col>&lt;dbl&gt;</th></tr>\n",
       "</thead>\n",
       "<tbody>\n",
       "\t<tr><th scope=row>1</th><td>44953</td><td>-1000</td><td>-5512.40</td></tr>\n",
       "\t<tr><th scope=row>2</th><td>44960</td><td>-1000</td><td>-6682.55</td></tr>\n",
       "\t<tr><th scope=row>3</th><td>44960</td><td>-1000</td><td>-6255.00</td></tr>\n",
       "</tbody>\n",
       "</table>\n"
      ],
      "text/latex": [
       "A data.frame: 3 × 3\n",
       "\\begin{tabular}{r|lll}\n",
       "  & date & quan & basis\\\\\n",
       "  & <int> & <int> & <dbl>\\\\\n",
       "\\hline\n",
       "\t1 & 44953 & -1000 & -5512.40\\\\\n",
       "\t2 & 44960 & -1000 & -6682.55\\\\\n",
       "\t3 & 44960 & -1000 & -6255.00\\\\\n",
       "\\end{tabular}\n"
      ],
      "text/markdown": [
       "\n",
       "A data.frame: 3 × 3\n",
       "\n",
       "| <!--/--> | date &lt;int&gt; | quan &lt;int&gt; | basis &lt;dbl&gt; |\n",
       "|---|---|---|---|\n",
       "| 1 | 44953 | -1000 | -5512.40 |\n",
       "| 2 | 44960 | -1000 | -6682.55 |\n",
       "| 3 | 44960 | -1000 | -6255.00 |\n",
       "\n"
      ],
      "text/plain": [
       "  date  quan  basis   \n",
       "1 44953 -1000 -5512.40\n",
       "2 44960 -1000 -6682.55\n",
       "3 44960 -1000 -6255.00"
      ]
     },
     "metadata": {},
     "output_type": "display_data"
    },
    {
     "data": {
      "text/html": [
       "<table class=\"dataframe\">\n",
       "<caption>A data.frame: 3 × 3</caption>\n",
       "<thead>\n",
       "\t<tr><th></th><th scope=col>date</th><th scope=col>quan</th><th scope=col>basis</th></tr>\n",
       "\t<tr><th></th><th scope=col>&lt;int&gt;</th><th scope=col>&lt;int&gt;</th><th scope=col>&lt;dbl&gt;</th></tr>\n",
       "</thead>\n",
       "<tbody>\n",
       "\t<tr><th scope=row>1</th><td>44926</td><td>1050</td><td>4273.5</td></tr>\n",
       "\t<tr><th scope=row>2</th><td>44946</td><td>1000</td><td>5625.0</td></tr>\n",
       "\t<tr><th scope=row>3</th><td>44949</td><td>1000</td><td>5788.0</td></tr>\n",
       "</tbody>\n",
       "</table>\n"
      ],
      "text/latex": [
       "A data.frame: 3 × 3\n",
       "\\begin{tabular}{r|lll}\n",
       "  & date & quan & basis\\\\\n",
       "  & <int> & <int> & <dbl>\\\\\n",
       "\\hline\n",
       "\t1 & 44926 & 1050 & 4273.5\\\\\n",
       "\t2 & 44946 & 1000 & 5625.0\\\\\n",
       "\t3 & 44949 & 1000 & 5788.0\\\\\n",
       "\\end{tabular}\n"
      ],
      "text/markdown": [
       "\n",
       "A data.frame: 3 × 3\n",
       "\n",
       "| <!--/--> | date &lt;int&gt; | quan &lt;int&gt; | basis &lt;dbl&gt; |\n",
       "|---|---|---|---|\n",
       "| 1 | 44926 | 1050 | 4273.5 |\n",
       "| 2 | 44946 | 1000 | 5625.0 |\n",
       "| 3 | 44949 | 1000 | 5788.0 |\n",
       "\n"
      ],
      "text/plain": [
       "  date  quan basis \n",
       "1 44926 1050 4273.5\n",
       "2 44946 1000 5625.0\n",
       "3 44949 1000 5788.0"
      ]
     },
     "metadata": {},
     "output_type": "display_data"
    }
   ],
   "source": [
    "head(df_sell, 3)\n",
    "head(df_buy,3)"
   ]
  },
  {
   "cell_type": "code",
   "execution_count": 46,
   "id": "d0a75ffa-f3d0-4037-8282-c7335de678c4",
   "metadata": {},
   "outputs": [
    {
     "name": "stdout",
     "output_type": "stream",
     "text": [
      "\n",
      " The total quantity of Buys is:  36950 \n",
      "The total quantity of Sells is:  -36950 \n"
     ]
    },
    {
     "data": {
      "text/html": [
       "18"
      ],
      "text/latex": [
       "18"
      ],
      "text/markdown": [
       "18"
      ],
      "text/plain": [
       "[1] 18"
      ]
     },
     "metadata": {},
     "output_type": "display_data"
    },
    {
     "data": {
      "text/html": [
       "23"
      ],
      "text/latex": [
       "23"
      ],
      "text/markdown": [
       "23"
      ],
      "text/plain": [
       "[1] 23"
      ]
     },
     "metadata": {},
     "output_type": "display_data"
    }
   ],
   "source": [
    "cat(\"\\n\", \"The total quantity of Buys is: \", accum_buy_quan, \"\\n\")\n",
    "cat(\"The total quantity of Sells is: \", accum_sell_quan, \"\\n\")\n",
    "nrow(df_sell)\n",
    "nrow(df_buy)"
   ]
  },
  {
   "cell_type": "code",
   "execution_count": null,
   "id": "8a11dfc4-dfa9-455a-b021-6695f1875d8f",
   "metadata": {},
   "outputs": [],
   "source": []
  },
  {
   "cell_type": "code",
   "execution_count": 47,
   "id": "c0917a6e-769e-4334-9369-d97c5fec68e9",
   "metadata": {},
   "outputs": [
    {
     "data": {
      "text/html": [
       "190623.65"
      ],
      "text/latex": [
       "190623.65"
      ],
      "text/markdown": [
       "190623.65"
      ],
      "text/plain": [
       "[1] 190623.6"
      ]
     },
     "metadata": {},
     "output_type": "display_data"
    },
    {
     "data": {
      "text/html": [
       "-226104.5"
      ],
      "text/latex": [
       "-226104.5"
      ],
      "text/markdown": [
       "-226104.5"
      ],
      "text/plain": [
       "[1] -226104.5"
      ]
     },
     "metadata": {},
     "output_type": "display_data"
    },
    {
     "data": {
      "text/html": [
       "-35480.85"
      ],
      "text/latex": [
       "-35480.85"
      ],
      "text/markdown": [
       "-35480.85"
      ],
      "text/plain": [
       "[1] -35480.85"
      ]
     },
     "metadata": {},
     "output_type": "display_data"
    }
   ],
   "source": [
    "# s/b 190,623.65\n",
    "sum(df_buy$basis)\n",
    "\n",
    "# s/b 226,104.50\n",
    "sum(df_sell$basis)\n",
    "\n",
    "sum(df$basis)"
   ]
  },
  {
   "cell_type": "code",
   "execution_count": null,
   "id": "f5c8fa0b-e9f7-4cc7-ae69-267eca5b2287",
   "metadata": {},
   "outputs": [],
   "source": []
  },
  {
   "cell_type": "markdown",
   "id": "ff437838-06f7-4b2b-ba5a-cfef13922ff8",
   "metadata": {},
   "source": [
    "### <font color = yellow> Subset refresher"
   ]
  },
  {
   "cell_type": "code",
   "execution_count": 48,
   "id": "7a58f057-af04-468b-895a-2ee094c537f4",
   "metadata": {},
   "outputs": [
    {
     "data": {
      "text/html": [
       "<table class=\"dataframe\">\n",
       "<caption>A data.frame: 3 × 9</caption>\n",
       "<thead>\n",
       "\t<tr><th></th><th scope=col>date</th><th scope=col>type</th><th scope=col>co</th><th scope=col>quan</th><th scope=col>pps</th><th scope=col>basis</th><th scope=col>tally_q</th><th scope=col>tally_b</th><th scope=col>Sale</th></tr>\n",
       "\t<tr><th></th><th scope=col>&lt;int&gt;</th><th scope=col>&lt;chr&gt;</th><th scope=col>&lt;chr&gt;</th><th scope=col>&lt;int&gt;</th><th scope=col>&lt;dbl&gt;</th><th scope=col>&lt;dbl&gt;</th><th scope=col>&lt;int&gt;</th><th scope=col>&lt;dbl&gt;</th><th scope=col>&lt;int&gt;</th></tr>\n",
       "</thead>\n",
       "<tbody>\n",
       "\t<tr><th scope=row>5</th><td>44953</td><td>Sell</td><td>AMC</td><td>-1000</td><td>5.5124</td><td>-5512.40</td><td>4050</td><td>-5512.40</td><td>-1000</td></tr>\n",
       "\t<tr><th scope=row>6</th><td>44960</td><td>Sell</td><td>AMC</td><td>-1000</td><td>6.6826</td><td>-6682.55</td><td>3050</td><td>-6682.55</td><td>-1000</td></tr>\n",
       "\t<tr><th scope=row>7</th><td>44960</td><td>Sell</td><td>AMC</td><td>-1000</td><td>6.2550</td><td>-6255.00</td><td>2050</td><td>-6255.00</td><td>-1000</td></tr>\n",
       "</tbody>\n",
       "</table>\n"
      ],
      "text/latex": [
       "A data.frame: 3 × 9\n",
       "\\begin{tabular}{r|lllllllll}\n",
       "  & date & type & co & quan & pps & basis & tally\\_q & tally\\_b & Sale\\\\\n",
       "  & <int> & <chr> & <chr> & <int> & <dbl> & <dbl> & <int> & <dbl> & <int>\\\\\n",
       "\\hline\n",
       "\t5 & 44953 & Sell & AMC & -1000 & 5.5124 & -5512.40 & 4050 & -5512.40 & -1000\\\\\n",
       "\t6 & 44960 & Sell & AMC & -1000 & 6.6826 & -6682.55 & 3050 & -6682.55 & -1000\\\\\n",
       "\t7 & 44960 & Sell & AMC & -1000 & 6.2550 & -6255.00 & 2050 & -6255.00 & -1000\\\\\n",
       "\\end{tabular}\n"
      ],
      "text/markdown": [
       "\n",
       "A data.frame: 3 × 9\n",
       "\n",
       "| <!--/--> | date &lt;int&gt; | type &lt;chr&gt; | co &lt;chr&gt; | quan &lt;int&gt; | pps &lt;dbl&gt; | basis &lt;dbl&gt; | tally_q &lt;int&gt; | tally_b &lt;dbl&gt; | Sale &lt;int&gt; |\n",
       "|---|---|---|---|---|---|---|---|---|---|\n",
       "| 5 | 44953 | Sell | AMC | -1000 | 5.5124 | -5512.40 | 4050 | -5512.40 | -1000 |\n",
       "| 6 | 44960 | Sell | AMC | -1000 | 6.6826 | -6682.55 | 3050 | -6682.55 | -1000 |\n",
       "| 7 | 44960 | Sell | AMC | -1000 | 6.2550 | -6255.00 | 2050 | -6255.00 | -1000 |\n",
       "\n"
      ],
      "text/plain": [
       "  date  type co  quan  pps    basis    tally_q tally_b  Sale \n",
       "5 44953 Sell AMC -1000 5.5124 -5512.40 4050    -5512.40 -1000\n",
       "6 44960 Sell AMC -1000 6.6826 -6682.55 3050    -6682.55 -1000\n",
       "7 44960 Sell AMC -1000 6.2550 -6255.00 2050    -6255.00 -1000"
      ]
     },
     "metadata": {},
     "output_type": "display_data"
    },
    {
     "data": {
      "text/html": [
       "-36950"
      ],
      "text/latex": [
       "-36950"
      ],
      "text/markdown": [
       "-36950"
      ],
      "text/plain": [
       "[1] -36950"
      ]
     },
     "metadata": {},
     "output_type": "display_data"
    },
    {
     "data": {
      "text/html": [
       "-226104.5"
      ],
      "text/latex": [
       "-226104.5"
      ],
      "text/markdown": [
       "-226104.5"
      ],
      "text/plain": [
       "[1] -226104.5"
      ]
     },
     "metadata": {},
     "output_type": "display_data"
    },
    {
     "data": {
      "text/html": [
       "-36950"
      ],
      "text/latex": [
       "-36950"
      ],
      "text/markdown": [
       "-36950"
      ],
      "text/plain": [
       "[1] -36950"
      ]
     },
     "metadata": {},
     "output_type": "display_data"
    }
   ],
   "source": [
    "ds <- subset(df, type == \"Sell\")\n",
    "head(ds,3)\n",
    "\n",
    "sum(ds$quan)\n",
    "sum(ds$tally_b)\n",
    "sum(ds$Sale)"
   ]
  },
  {
   "cell_type": "markdown",
   "id": "b00c4f95-f739-4c10-91db-8ed1bef40c0e",
   "metadata": {},
   "source": [
    "### <font color = yellow>  Better than subsetting:"
   ]
  },
  {
   "cell_type": "code",
   "execution_count": 115,
   "id": "9b802af0-9651-4284-a79d-7d6b328a5552",
   "metadata": {},
   "outputs": [
    {
     "data": {
      "text/html": [
       "<table class=\"dataframe\">\n",
       "<caption>A data.frame: 3 × 9</caption>\n",
       "<thead>\n",
       "\t<tr><th></th><th scope=col>date</th><th scope=col>type</th><th scope=col>co</th><th scope=col>quan</th><th scope=col>pps</th><th scope=col>basis</th><th scope=col>tally_q</th><th scope=col>tally_b</th><th scope=col>Sale</th></tr>\n",
       "\t<tr><th></th><th scope=col>&lt;int&gt;</th><th scope=col>&lt;chr&gt;</th><th scope=col>&lt;chr&gt;</th><th scope=col>&lt;dbl&gt;</th><th scope=col>&lt;dbl&gt;</th><th scope=col>&lt;dbl&gt;</th><th scope=col>&lt;dbl&gt;</th><th scope=col>&lt;dbl&gt;</th><th scope=col>&lt;int&gt;</th></tr>\n",
       "</thead>\n",
       "<tbody>\n",
       "\t<tr><th scope=row>1</th><td>44926</td><td>Owned</td><td>AMC</td><td>1050</td><td>4.070</td><td>4273.5</td><td>1050</td><td>4273.5</td><td>0</td></tr>\n",
       "\t<tr><th scope=row>2</th><td>44946</td><td>Buy  </td><td>AMC</td><td>1000</td><td>5.625</td><td>5625.0</td><td>2050</td><td>5625.0</td><td>0</td></tr>\n",
       "\t<tr><th scope=row>3</th><td>44949</td><td>Buy  </td><td>AMC</td><td>1000</td><td>5.788</td><td>5788.0</td><td>3050</td><td>5788.0</td><td>0</td></tr>\n",
       "</tbody>\n",
       "</table>\n"
      ],
      "text/latex": [
       "A data.frame: 3 × 9\n",
       "\\begin{tabular}{r|lllllllll}\n",
       "  & date & type & co & quan & pps & basis & tally\\_q & tally\\_b & Sale\\\\\n",
       "  & <int> & <chr> & <chr> & <dbl> & <dbl> & <dbl> & <dbl> & <dbl> & <int>\\\\\n",
       "\\hline\n",
       "\t1 & 44926 & Owned & AMC & 1050 & 4.070 & 4273.5 & 1050 & 4273.5 & 0\\\\\n",
       "\t2 & 44946 & Buy   & AMC & 1000 & 5.625 & 5625.0 & 2050 & 5625.0 & 0\\\\\n",
       "\t3 & 44949 & Buy   & AMC & 1000 & 5.788 & 5788.0 & 3050 & 5788.0 & 0\\\\\n",
       "\\end{tabular}\n"
      ],
      "text/markdown": [
       "\n",
       "A data.frame: 3 × 9\n",
       "\n",
       "| <!--/--> | date &lt;int&gt; | type &lt;chr&gt; | co &lt;chr&gt; | quan &lt;dbl&gt; | pps &lt;dbl&gt; | basis &lt;dbl&gt; | tally_q &lt;dbl&gt; | tally_b &lt;dbl&gt; | Sale &lt;int&gt; |\n",
       "|---|---|---|---|---|---|---|---|---|---|\n",
       "| 1 | 44926 | Owned | AMC | 1050 | 4.070 | 4273.5 | 1050 | 4273.5 | 0 |\n",
       "| 2 | 44946 | Buy   | AMC | 1000 | 5.625 | 5625.0 | 2050 | 5625.0 | 0 |\n",
       "| 3 | 44949 | Buy   | AMC | 1000 | 5.788 | 5788.0 | 3050 | 5788.0 | 0 |\n",
       "\n"
      ],
      "text/plain": [
       "  date  type  co  quan pps   basis  tally_q tally_b Sale\n",
       "1 44926 Owned AMC 1050 4.070 4273.5 1050    4273.5  0   \n",
       "2 44946 Buy   AMC 1000 5.625 5625.0 2050    5625.0  0   \n",
       "3 44949 Buy   AMC 1000 5.788 5788.0 3050    5788.0  0   "
      ]
     },
     "metadata": {},
     "output_type": "display_data"
    }
   ],
   "source": [
    "#\n",
    "buys <- df[df$quan > 0, ]  # Filter buys\n",
    "head(buys, 3)"
   ]
  },
  {
   "cell_type": "code",
   "execution_count": null,
   "id": "1a3d5db1-740f-4538-9dde-2ffcb4a6f1a9",
   "metadata": {},
   "outputs": [],
   "source": []
  },
  {
   "cell_type": "markdown",
   "id": "3488c3f5-8448-4c1c-bc58-797840b924e4",
   "metadata": {},
   "source": [
    "## <font color = yellow> All var values match the values from spreadsheets !\n",
    "    \n",
    "##### All's good.  Move on to dates and develop a fct for an adjusted cost basis"
   ]
  },
  {
   "cell_type": "code",
   "execution_count": 49,
   "id": "3b78e5d9-a770-41b1-8a0b-d3de3981814f",
   "metadata": {},
   "outputs": [
    {
     "ename": "ERROR",
     "evalue": "Error in eval(expr, envir, enclos): object 'stopper' not found\n",
     "output_type": "error",
     "traceback": [
      "Error in eval(expr, envir, enclos): object 'stopper' not found\nTraceback:\n"
     ]
    }
   ],
   "source": [
    "stopper"
   ]
  },
  {
   "cell_type": "code",
   "execution_count": null,
   "id": "da17ab94-8f9a-419e-830d-c96ed93048e1",
   "metadata": {},
   "outputs": [],
   "source": []
  },
  {
   "cell_type": "markdown",
   "id": "e342d209-d271-4dad-b041-6cc91f7ba14c",
   "metadata": {},
   "source": [
    "## <font color = lime> Working with date values\n",
    "    \n",
    "##### Convert the df$date integer data type into a date data type "
   ]
  },
  {
   "cell_type": "code",
   "execution_count": null,
   "id": "f6d84aa2-85bd-4211-baf8-706bc090277f",
   "metadata": {},
   "outputs": [],
   "source": []
  },
  {
   "cell_type": "markdown",
   "id": "acd52e41-1b29-424b-afa4-c65088d857f9",
   "metadata": {},
   "source": [
    "##### <font color = yellow> The 1900 Date data type"
   ]
  },
  {
   "cell_type": "code",
   "execution_count": 54,
   "id": "ef7ba993-474a-4b23-9493-32c9dd99d8da",
   "metadata": {},
   "outputs": [
    {
     "data": {
      "text/html": [
       "27"
      ],
      "text/latex": [
       "27"
      ],
      "text/markdown": [
       "27"
      ],
      "text/plain": [
       "[1] 27"
      ]
     },
     "metadata": {},
     "output_type": "display_data"
    },
    {
     "name": "stdout",
     "output_type": "stream",
     "text": [
      " int [1:18] 44953 44960 44960 44960 44978 44979 44984 44984 44984 44988 ...\n",
      " int 27\n"
     ]
    }
   ],
   "source": [
    "# examine the integer data type \n",
    "n <- df_sell$date[1] - df_buy$date[1]\n",
    "n\n",
    "str(df_sell$date)\n",
    "str(n)"
   ]
  },
  {
   "cell_type": "code",
   "execution_count": 55,
   "id": "c17bcff9-8edf-47b7-8a36-f80315eece61",
   "metadata": {},
   "outputs": [
    {
     "data": {
      "text/html": [
       "<time datetime=\"2023-01-27\">2023-01-27</time>"
      ],
      "text/latex": [
       "2023-01-27"
      ],
      "text/markdown": [
       "2023-01-27"
      ],
      "text/plain": [
       "[1] \"2023-01-27\""
      ]
     },
     "metadata": {},
     "output_type": "display_data"
    },
    {
     "data": {
      "text/html": [
       "<time datetime=\"2022-12-31\">2022-12-31</time>"
      ],
      "text/latex": [
       "2022-12-31"
      ],
      "text/markdown": [
       "2022-12-31"
      ],
      "text/plain": [
       "[1] \"2022-12-31\""
      ]
     },
     "metadata": {},
     "output_type": "display_data"
    },
    {
     "data": {
      "text/plain": [
       "Time difference of 27 days"
      ]
     },
     "metadata": {},
     "output_type": "display_data"
    },
    {
     "data": {
      "text/html": [
       "FALSE"
      ],
      "text/latex": [
       "FALSE"
      ],
      "text/markdown": [
       "FALSE"
      ],
      "text/plain": [
       "[1] FALSE"
      ]
     },
     "metadata": {},
     "output_type": "display_data"
    },
    {
     "data": {
      "text/html": [
       "TRUE"
      ],
      "text/latex": [
       "TRUE"
      ],
      "text/markdown": [
       "TRUE"
      ],
      "text/plain": [
       "[1] TRUE"
      ]
     },
     "metadata": {},
     "output_type": "display_data"
    },
    {
     "name": "stdout",
     "output_type": "stream",
     "text": [
      " 'difftime' num 27\n",
      " - attr(*, \"units\")= chr \"days\"\n"
     ]
    },
    {
     "data": {
      "text/html": [
       "<dl>\n",
       "\t<dt>$class</dt>\n",
       "\t\t<dd>'difftime'</dd>\n",
       "\t<dt>$units</dt>\n",
       "\t\t<dd>'days'</dd>\n",
       "</dl>\n"
      ],
      "text/latex": [
       "\\begin{description}\n",
       "\\item[\\$class] 'difftime'\n",
       "\\item[\\$units] 'days'\n",
       "\\end{description}\n"
      ],
      "text/markdown": [
       "$class\n",
       ":   'difftime'\n",
       "$units\n",
       ":   'days'\n",
       "\n",
       "\n"
      ],
      "text/plain": [
       "$class\n",
       "[1] \"difftime\"\n",
       "\n",
       "$units\n",
       "[1] \"days\"\n"
      ]
     },
     "metadata": {},
     "output_type": "display_data"
    }
   ],
   "source": [
    "# Convert the intger data type into the 1900 date format\n",
    "x <- as.Date(df_sell$date[1], origin = \"1899-12-30\")\n",
    "y <- as.Date(df_buy$date[1], origin = \"1899-12-30\")\n",
    "\n",
    "x\n",
    "y\n",
    "z <- x - y\n",
    "z\n",
    "\n",
    "z > 31\n",
    "z < 31\n",
    "str(z)\n",
    "attributes(z)"
   ]
  },
  {
   "cell_type": "code",
   "execution_count": null,
   "id": "2818fd97-e8ce-4881-8e4f-dea2cbc9edfc",
   "metadata": {},
   "outputs": [],
   "source": []
  },
  {
   "cell_type": "markdown",
   "id": "65be1ad0-07bf-4223-bb3d-73f274cce091",
   "metadata": {},
   "source": [
    "# <font color = yellow> FIFO"
   ]
  },
  {
   "cell_type": "code",
   "execution_count": null,
   "id": "546e1330-dbd7-4825-9f8c-0ae38abc839b",
   "metadata": {},
   "outputs": [],
   "source": []
  },
  {
   "cell_type": "code",
   "execution_count": null,
   "id": "9c1ed753-9570-4c49-b9db-7f9a93e9cfc5",
   "metadata": {},
   "outputs": [],
   "source": [
    " "
   ]
  },
  {
   "cell_type": "code",
   "execution_count": 103,
   "id": "fa9eda3e-4961-47dd-9b03-cca737e15c73",
   "metadata": {
    "tags": []
   },
   "outputs": [
    {
     "name": "stdout",
     "output_type": "stream",
     "text": [
      "The df has the following nrows:  41 \n",
      " \n",
      "SELL  -1000  Row number is:  6  The tally_q is:  5050  Sell Proceeds:  -5512.4 \n",
      "The quan_sold in the remote fct is:  -1000 \n",
      "ADJUSTED tally_q - reduced by proceeds in remote fct 4050 \n",
      "[1] \"Quan Reduction Necessary\"\n",
      "SELL  -1000  Row number is:  7  The tally_q is:   Sell Proceeds:  -6682.55 \n",
      "The quan_sold in the remote fct is:  -1000 \n",
      "ADJUSTED tally_q - reduced by proceeds in remote fct  \n",
      "[1] \"Quan Reduction Necessary\"\n",
      "SELL  -1000  Row number is:  8  The tally_q is:   Sell Proceeds:  -6255 \n",
      "The quan_sold in the remote fct is:  -1000 \n",
      "ADJUSTED tally_q - reduced by proceeds in remote fct  \n",
      "[1] \"Quan Reduction Necessary\"\n",
      "SELL  -1000  Row number is:  9  The tally_q is:   Sell Proceeds:  -6190.1 \n",
      "The quan_sold in the remote fct is:  -1000 \n",
      "ADJUSTED tally_q - reduced by proceeds in remote fct  \n",
      "[1] \"Quan Reduction Necessary\"\n",
      "SELL  -3000  Row number is:  17  The tally_q is:    Sell Proceeds:  -17565 \n",
      "The quan_sold in the remote fct is:  -3000 \n",
      "ADJUSTED tally_q - reduced by proceeds in remote fct  \n",
      "[1] \"Quan Reduction Necessary\"\n",
      "SELL  -6000  Row number is:  18  The tally_q is:   Sell Proceeds:  -39690 \n",
      "The quan_sold in the remote fct is:  -6000 \n",
      "ADJUSTED tally_q - reduced by proceeds in remote fct  \n",
      "[1] \"Quan Reduction Necessary\"\n",
      "SELL  -3000  Row number is:  19  The tally_q is:   Sell Proceeds:  -23448 \n",
      "The quan_sold in the remote fct is:  -3000 \n",
      "ADJUSTED tally_q - reduced by proceeds in remote fct  \n",
      "[1] \"Quan Reduction Necessary\"\n",
      "SELL  -1850  Row number is:  20  The tally_q is:   Sell Proceeds:  -14032.25 \n",
      "The quan_sold in the remote fct is:  -1850 \n",
      "ADJUSTED tally_q - reduced by proceeds in remote fct  \n",
      "[1] \"Quan Reduction Necessary\"\n",
      "SELL  -1000  Row number is:  21  The tally_q is:   Sell Proceeds:  -7816 \n",
      "The quan_sold in the remote fct is:  -1000 \n",
      "ADJUSTED tally_q - reduced by proceeds in remote fct  \n",
      "[1] \"Quan Reduction Necessary\"\n",
      "SELL  -3000  Row number is:  24  The tally_q is:    Sell Proceeds:  -19653.9 \n",
      "The quan_sold in the remote fct is:  -3000 \n",
      "ADJUSTED tally_q - reduced by proceeds in remote fct  \n",
      "[1] \"Quan Reduction Necessary\"\n",
      "SELL  -500  Row number is:  27  The tally_q is:    Sell Proceeds:  -2922.5 \n",
      "The quan_sold in the remote fct is:  -500 \n",
      "ADJUSTED tally_q - reduced by proceeds in remote fct  \n",
      "[1] \"Quan Reduction Necessary\"\n",
      "SELL  -3000  Row number is:  28  The tally_q is:   Sell Proceeds:  -17835 \n",
      "The quan_sold in the remote fct is:  -3000 \n",
      "ADJUSTED tally_q - reduced by proceeds in remote fct  \n",
      "[1] \"Quan Reduction Necessary\"\n",
      "SELL  -2000  Row number is:  29  The tally_q is:   Sell Proceeds:  -11510 \n",
      "The quan_sold in the remote fct is:  -2000 \n",
      "ADJUSTED tally_q - reduced by proceeds in remote fct  \n",
      "[1] \"Quan Reduction Necessary\"\n",
      "SELL  -500  Row number is:  30  The tally_q is:   Sell Proceeds:  -2860 \n",
      "The quan_sold in the remote fct is:  -500 \n",
      "ADJUSTED tally_q - reduced by proceeds in remote fct  \n",
      "[1] \"Quan Reduction Necessary\"\n",
      "SELL  -2000  Row number is:  36  The tally_q is:    Sell Proceeds:  -9830 \n",
      "The quan_sold in the remote fct is:  -2000 \n",
      "ADJUSTED tally_q - reduced by proceeds in remote fct  \n",
      "[1] \"Quan Reduction Necessary\"\n",
      "SELL  -5000  Row number is:  37  The tally_q is:   Sell Proceeds:  -24725 \n",
      "The quan_sold in the remote fct is:  -5000 \n",
      "ADJUSTED tally_q - reduced by proceeds in remote fct  \n",
      "[1] \"Quan Reduction Necessary\"\n",
      "SELL  -1000  Row number is:  41  The tally_q is:    Sell Proceeds:  -4582.8 \n",
      "The quan_sold in the remote fct is:  -1000 \n",
      "ADJUSTED tally_q - reduced by proceeds in remote fct  \n",
      "[1] \"Quan Reduction Necessary\"\n",
      "SELL  -1100  Row number is:  42  The tally_q is:   Sell Proceeds:  -4994 \n",
      "The quan_sold in the remote fct is:  -1100 \n",
      "ADJUSTED tally_q - reduced by proceeds in remote fct  \n",
      "[1] \"Quan Reduction Necessary\"\n",
      "\n",
      "The FINAL tally_q is : \n"
     ]
    },
    {
     "data": {
      "text/html": [
       "41"
      ],
      "text/latex": [
       "41"
      ],
      "text/markdown": [
       "41"
      ],
      "text/plain": [
       "[1] 41"
      ]
     },
     "metadata": {},
     "output_type": "display_data"
    },
    {
     "name": "stdout",
     "output_type": "stream",
     "text": [
      "\n",
      " The sum of the cost of all Buys is:  190623.6\n",
      " The sum of the proceeds from all Sells is:  -226104.5 \n",
      "\n",
      " The unadjusted gain/<loss> from all transactions is:  -35480.85 \n"
     ]
    }
   ],
   "source": [
    "# Identify the rows in the df where the proceedss occur\n",
    "\n",
    "# Create counter vars\n",
    "ct <- 0\n",
    "tally_q <- 0\n",
    "row_ct <<- 1\n",
    "accum_buy_basis <<- 0  # sums the cost of the Buys\n",
    "accum_sell_basis <<- 0  # sums the proceeds from Sells\n",
    "accum_sell_quan <<- 0    # count the number of Sells\n",
    "accum_buy_quan <<- 0     # count the number of Buys\n",
    "\n",
    "df_sell <- data.frame() # 'date' = as.integer(0), \"quan\" = as.integer(0), \"basis\" = as.numeric(0)) # empty df\n",
    "df_buy <- data.frame() # empty df\n",
    "\n",
    "df_fifo <- df\n",
    "\n",
    "\n",
    "\n",
    "cat(\"The df has the following nrows: \", nrow(df), \"\\n \\n\")\n",
    "\n",
    "# loop through the df\n",
    "for(i in 1:nrow(df))  { \n",
    "    \n",
    "    ct <- ct + 1\n",
    "    # Loop if Buy value larger than zero\n",
    "    if(df[i, 'quan'] > 0 ) { \n",
    "        \n",
    "       # tally the Buy from each row \n",
    "       tally_q <- tally_q + df[i, 'quan']\n",
    "       # cat(\"BUY. \", df[i,'quan'], \" row number is: \", row_ct, \" tally_q is: \", tally_q, \"\\n\") \n",
    "        # Cummulate var\n",
    "        accum_buy_basis <- accum_buy_basis + df[i, 'basis']\n",
    "        # cummulate var\n",
    "        accum_buy_quan <- accum_buy_quan + df[i, 'quan']\n",
    "        # counter \n",
    "        row_ct <- row_ct + 1\n",
    "        # new temp df \n",
    "        df_temp_buy <- data.frame('date' = df[i, 'date'], 'quan' = df[i, 'quan'], 'basis' = df[i, 'basis'])\n",
    "        #  Create new row of some variables for each of the Buy rows in df\n",
    "        df_buy <- rbind(df_buy, df_temp_buy)\n",
    "       }\n",
    "              \n",
    "    #  If row is a Sell event, execute remote fct and reduce tally_q by Sell quan\n",
    "    if(df[i, 'quan'] < 0 )  {\n",
    "        # new var for the quan from sold rows\n",
    "       quan_sold <- df[i, 'quan']\n",
    "       row_ct <- row_ct + 1\n",
    "        cat(\"SELL \", df[i,'quan'], \" Row number is: \", row_ct, \" The tally_q is: \", tally_q, \" Sell Proceeds: \", df[i, 'basis'], \"\\n\" )\n",
    "        # cummulative vars\n",
    "        accum_sell_basis <- accum_sell_basis + df[i, 'basis']\n",
    "        accum_sell_quan <- accum_sell_quan + df[i, 'quan']\n",
    "        # temp df\n",
    "        df_temp_sell <- data.frame('date' = df[i, 'date'], 'quan' = df[i, 'quan'], 'basis' = df[i, 'basis'])\n",
    "        #  Create new row of some variables for each of the Sell rows in df\n",
    "        df_sell <- rbind(df_sell, df_temp_sell)\n",
    "                                            \n",
    "       # fct call when quan[i] < 0 : fnt will reduce tally of quan by the neg sale quan \n",
    "       tally_q <- adj_tally_q(tally_q, quan_sold, i) \n",
    "       }    \n",
    "   }\n",
    " \n",
    "cat(\"\\n\")\n",
    "cat(\"The FINAL tally_q is :\", tally_q, \"\\n\")\n",
    "ct\n",
    "\n",
    "\n",
    "cat(\"\\n\", \"The sum of the cost of all Buys is: \", accum_buy_basis)\n",
    "cat(\"\\n\", \"The sum of the proceeds from all Sells is: \", accum_sell_basis, \"\\n\")\n",
    "\n",
    "unadjusted_pl <- c(accum_buy_basis - abs(accum_sell_basis))\n",
    "cat(\"\\n\", \"The unadjusted gain/<loss> from all transactions is: \", unadjusted_pl, \"\\n\")\n",
    "\n",
    "# cat(\"\\n\", \"The total quantity of Buys is: \", accum_buy_quan, \"\\n\")\n",
    "# cat(\"The total quantity of Sells is: \", accum_sell_quan, \"\\n\")\n",
    "\n",
    "#  These value agree with the spreadsheet (tally_q_q on SELL line) See: BuySell.csv / .xlsx"
   ]
  },
  {
   "cell_type": "code",
   "execution_count": 102,
   "id": "b6c6f89c-cede-4420-abe1-0aec2de99ca6",
   "metadata": {},
   "outputs": [],
   "source": [
    "# remote fct called when a sale occurs. \n",
    "# fct will reduce tally of quan by the neg sale quan amount.  \n",
    "#  Then, return adjusted tally_q\n",
    "\n",
    "    adj_tally_q <- function(tally_q, quan_sold, i) {\n",
    "        tally_q <- tally_q + quan_sold\n",
    "        cat(\"The quan_sold in the remote fct is: \", quan_sold, \"\\n\")\n",
    "        cat(\"ADJUSTED tally_q - reduced by proceeds in remote fct\", tally_q, \"\\n\")\n",
    "        \n",
    "        if(df[i, 'quan'] > quan_sold) {\n",
    "            print(\"Quan Reduction Necessary\")\n",
    "            test <- df[i, 'quan'] - quan_sold\n",
    "            if(test > 0 ) {\n",
    "              df[i, 'quan'] <- test\n",
    "                }\n",
    "            \n",
    "            # Update the quantity in the current row\n",
    "            # assign new value to quan\n",
    "            \n",
    "            return()\n",
    "            }       \n",
    "       \n",
    "        return(tally_q)        \n",
    "        }  "
   ]
  },
  {
   "cell_type": "code",
   "execution_count": null,
   "id": "74558014-421d-4bd4-8e94-23223b0403fc",
   "metadata": {},
   "outputs": [],
   "source": []
  },
  {
   "cell_type": "code",
   "execution_count": null,
   "id": "ea892a99-f83e-4e85-b594-f040511c22f3",
   "metadata": {},
   "outputs": [],
   "source": []
  },
  {
   "cell_type": "code",
   "execution_count": 101,
   "id": "f796ebf7-aada-46b4-8e79-8da369e334a4",
   "metadata": {},
   "outputs": [
    {
     "data": {
      "text/html": [
       "<table class=\"dataframe\">\n",
       "<caption>A data.frame: 3 × 9</caption>\n",
       "<thead>\n",
       "\t<tr><th></th><th scope=col>date</th><th scope=col>type</th><th scope=col>co</th><th scope=col>quan</th><th scope=col>pps</th><th scope=col>basis</th><th scope=col>tally_q</th><th scope=col>tally_b</th><th scope=col>Sale</th></tr>\n",
       "\t<tr><th></th><th scope=col>&lt;int&gt;</th><th scope=col>&lt;chr&gt;</th><th scope=col>&lt;chr&gt;</th><th scope=col>&lt;int&gt;</th><th scope=col>&lt;dbl&gt;</th><th scope=col>&lt;dbl&gt;</th><th scope=col>&lt;int&gt;</th><th scope=col>&lt;dbl&gt;</th><th scope=col>&lt;int&gt;</th></tr>\n",
       "</thead>\n",
       "<tbody>\n",
       "\t<tr><th scope=row>1</th><td>44926</td><td>Owned</td><td>AMC</td><td>38000</td><td>4.070</td><td>4273.5</td><td>1050</td><td>4273.5</td><td>0</td></tr>\n",
       "\t<tr><th scope=row>2</th><td>44946</td><td>Buy  </td><td>AMC</td><td> 1000</td><td>5.625</td><td>5625.0</td><td>2050</td><td>5625.0</td><td>0</td></tr>\n",
       "\t<tr><th scope=row>3</th><td>44949</td><td>Buy  </td><td>AMC</td><td> 1000</td><td>5.788</td><td>5788.0</td><td>3050</td><td>5788.0</td><td>0</td></tr>\n",
       "</tbody>\n",
       "</table>\n"
      ],
      "text/latex": [
       "A data.frame: 3 × 9\n",
       "\\begin{tabular}{r|lllllllll}\n",
       "  & date & type & co & quan & pps & basis & tally\\_q & tally\\_b & Sale\\\\\n",
       "  & <int> & <chr> & <chr> & <int> & <dbl> & <dbl> & <int> & <dbl> & <int>\\\\\n",
       "\\hline\n",
       "\t1 & 44926 & Owned & AMC & 38000 & 4.070 & 4273.5 & 1050 & 4273.5 & 0\\\\\n",
       "\t2 & 44946 & Buy   & AMC &  1000 & 5.625 & 5625.0 & 2050 & 5625.0 & 0\\\\\n",
       "\t3 & 44949 & Buy   & AMC &  1000 & 5.788 & 5788.0 & 3050 & 5788.0 & 0\\\\\n",
       "\\end{tabular}\n"
      ],
      "text/markdown": [
       "\n",
       "A data.frame: 3 × 9\n",
       "\n",
       "| <!--/--> | date &lt;int&gt; | type &lt;chr&gt; | co &lt;chr&gt; | quan &lt;int&gt; | pps &lt;dbl&gt; | basis &lt;dbl&gt; | tally_q &lt;int&gt; | tally_b &lt;dbl&gt; | Sale &lt;int&gt; |\n",
       "|---|---|---|---|---|---|---|---|---|---|\n",
       "| 1 | 44926 | Owned | AMC | 38000 | 4.070 | 4273.5 | 1050 | 4273.5 | 0 |\n",
       "| 2 | 44946 | Buy   | AMC |  1000 | 5.625 | 5625.0 | 2050 | 5625.0 | 0 |\n",
       "| 3 | 44949 | Buy   | AMC |  1000 | 5.788 | 5788.0 | 3050 | 5788.0 | 0 |\n",
       "\n"
      ],
      "text/plain": [
       "  date  type  co  quan  pps   basis  tally_q tally_b Sale\n",
       "1 44926 Owned AMC 38000 4.070 4273.5 1050    4273.5  0   \n",
       "2 44946 Buy   AMC  1000 5.625 5625.0 2050    5625.0  0   \n",
       "3 44949 Buy   AMC  1000 5.788 5788.0 3050    5788.0  0   "
      ]
     },
     "metadata": {},
     "output_type": "display_data"
    }
   ],
   "source": [
    "head(df_fifo, 3)"
   ]
  },
  {
   "cell_type": "code",
   "execution_count": null,
   "id": "68de0108-ac3f-4bd3-9cba-f8081c435d63",
   "metadata": {},
   "outputs": [],
   "source": []
  },
  {
   "cell_type": "code",
   "execution_count": 104,
   "id": "65f70657-08e5-4174-b86d-bfd78f659fd2",
   "metadata": {},
   "outputs": [],
   "source": [
    "# processes the sales against the buys in a FIFO manner and stops if there are not enough buys to cover a sale. The result is a list containing the remaining buys and processed sells. Adjust the function as needed for your specific requirements. \n",
    "\n",
    "\n",
    "fifo_cost_basis <- function(df) {\n",
    "  df <- df[order(as.Date(df$date, origin = \"1899-12-30\")), ]  # Sort by date\n",
    "  buys <- df[df$quan > 0, ]  # Filter buys\n",
    "  sells <- df[df$quan < 0, ]  # Filter sells\n",
    "  \n",
    "# for(i in 1:nrow(df))  { \n",
    "  for (sell_row in 1:nrow(sells)) {\n",
    "    sell_qty <- abs(sells[sell_row, 'quan'])\n",
    "    while (sell_qty > 0 && nrow(buys) > 0) {\n",
    "      buy_qty <- buys[1, 'quan']\n",
    "      if (buy_qty <= sell_qty) {\n",
    "        # Entire buy quantity is sold\n",
    "          \n",
    "        sell_qty <- sell_qty - buy_qty\n",
    "        buys <- buys[-1, ]  # Remove the used buy\n",
    "      } else {\n",
    "        # Partial buy quantity is sold\n",
    "        buys[1, 'quan'] <- buy_qty - sell_qty\n",
    "        sell_qty <- 0\n",
    "      }\n",
    "    }\n",
    "    if (sell_qty > 0) {\n",
    "      stop(\"Not enough buys to cover the sells\")\n",
    "    }\n",
    "  }\n",
    "  return(list(buys = buys, sells = sells))\n",
    "}\n",
    "\n",
    "# Usage\n",
    "df <- read.csv(\"BuySell.csv\", header = TRUE, sep = \",\")\n",
    "result <- fifo_cost_basis(df)\n"
   ]
  },
  {
   "cell_type": "code",
   "execution_count": 114,
   "id": "6d35644b-3e73-4adc-830d-05e03c801ec9",
   "metadata": {},
   "outputs": [
    {
     "data": {
      "text/html": [
       "<table class=\"dataframe\">\n",
       "<caption>A data.frame: 5 × 9</caption>\n",
       "<thead>\n",
       "\t<tr><th></th><th scope=col>date</th><th scope=col>type</th><th scope=col>co</th><th scope=col>quan</th><th scope=col>pps</th><th scope=col>basis</th><th scope=col>tally_q</th><th scope=col>tally_b</th><th scope=col>Sale</th></tr>\n",
       "\t<tr><th></th><th scope=col>&lt;int&gt;</th><th scope=col>&lt;chr&gt;</th><th scope=col>&lt;chr&gt;</th><th scope=col>&lt;dbl&gt;</th><th scope=col>&lt;dbl&gt;</th><th scope=col>&lt;dbl&gt;</th><th scope=col>&lt;dbl&gt;</th><th scope=col>&lt;dbl&gt;</th><th scope=col>&lt;int&gt;</th></tr>\n",
       "</thead>\n",
       "<tbody>\n",
       "\t<tr><th scope=row>5</th><td>44953</td><td>Sell</td><td>AMC</td><td>-1000</td><td>5.5124</td><td> -5512.40</td><td> 4050</td><td> -5512.40</td><td>-1000</td></tr>\n",
       "\t<tr><th scope=row>6</th><td>44960</td><td>Sell</td><td>AMC</td><td>-1000</td><td>6.6826</td><td> -6682.55</td><td> 3050</td><td> -6682.55</td><td>-1000</td></tr>\n",
       "\t<tr><th scope=row>7</th><td>44960</td><td>Sell</td><td>AMC</td><td>-1000</td><td>6.2550</td><td> -6255.00</td><td> 2050</td><td> -6255.00</td><td>-1000</td></tr>\n",
       "\t<tr><th scope=row>8</th><td>44960</td><td>Sell</td><td>AMC</td><td>-1000</td><td>6.1901</td><td> -6190.10</td><td> 1050</td><td> -6190.10</td><td>-1000</td></tr>\n",
       "\t<tr><th scope=row>16</th><td>44978</td><td>Sell</td><td>AMC</td><td>-3000</td><td>5.8550</td><td>-17565.00</td><td>11850</td><td>-17565.00</td><td>-3000</td></tr>\n",
       "</tbody>\n",
       "</table>\n"
      ],
      "text/latex": [
       "A data.frame: 5 × 9\n",
       "\\begin{tabular}{r|lllllllll}\n",
       "  & date & type & co & quan & pps & basis & tally\\_q & tally\\_b & Sale\\\\\n",
       "  & <int> & <chr> & <chr> & <dbl> & <dbl> & <dbl> & <dbl> & <dbl> & <int>\\\\\n",
       "\\hline\n",
       "\t5 & 44953 & Sell & AMC & -1000 & 5.5124 &  -5512.40 &  4050 &  -5512.40 & -1000\\\\\n",
       "\t6 & 44960 & Sell & AMC & -1000 & 6.6826 &  -6682.55 &  3050 &  -6682.55 & -1000\\\\\n",
       "\t7 & 44960 & Sell & AMC & -1000 & 6.2550 &  -6255.00 &  2050 &  -6255.00 & -1000\\\\\n",
       "\t8 & 44960 & Sell & AMC & -1000 & 6.1901 &  -6190.10 &  1050 &  -6190.10 & -1000\\\\\n",
       "\t16 & 44978 & Sell & AMC & -3000 & 5.8550 & -17565.00 & 11850 & -17565.00 & -3000\\\\\n",
       "\\end{tabular}\n"
      ],
      "text/markdown": [
       "\n",
       "A data.frame: 5 × 9\n",
       "\n",
       "| <!--/--> | date &lt;int&gt; | type &lt;chr&gt; | co &lt;chr&gt; | quan &lt;dbl&gt; | pps &lt;dbl&gt; | basis &lt;dbl&gt; | tally_q &lt;dbl&gt; | tally_b &lt;dbl&gt; | Sale &lt;int&gt; |\n",
       "|---|---|---|---|---|---|---|---|---|---|\n",
       "| 5 | 44953 | Sell | AMC | -1000 | 5.5124 |  -5512.40 |  4050 |  -5512.40 | -1000 |\n",
       "| 6 | 44960 | Sell | AMC | -1000 | 6.6826 |  -6682.55 |  3050 |  -6682.55 | -1000 |\n",
       "| 7 | 44960 | Sell | AMC | -1000 | 6.2550 |  -6255.00 |  2050 |  -6255.00 | -1000 |\n",
       "| 8 | 44960 | Sell | AMC | -1000 | 6.1901 |  -6190.10 |  1050 |  -6190.10 | -1000 |\n",
       "| 16 | 44978 | Sell | AMC | -3000 | 5.8550 | -17565.00 | 11850 | -17565.00 | -3000 |\n",
       "\n"
      ],
      "text/plain": [
       "   date  type co  quan  pps    basis     tally_q tally_b   Sale \n",
       "5  44953 Sell AMC -1000 5.5124  -5512.40  4050    -5512.40 -1000\n",
       "6  44960 Sell AMC -1000 6.6826  -6682.55  3050    -6682.55 -1000\n",
       "7  44960 Sell AMC -1000 6.2550  -6255.00  2050    -6255.00 -1000\n",
       "8  44960 Sell AMC -1000 6.1901  -6190.10  1050    -6190.10 -1000\n",
       "16 44978 Sell AMC -3000 5.8550 -17565.00 11850   -17565.00 -3000"
      ]
     },
     "metadata": {},
     "output_type": "display_data"
    }
   ],
   "source": [
    "#str(result)\n",
    "head(result$sells,5)"
   ]
  },
  {
   "cell_type": "code",
   "execution_count": null,
   "id": "02dc2c9f-4ad1-4255-b4e3-eeb8cf5f735a",
   "metadata": {},
   "outputs": [],
   "source": []
  },
  {
   "cell_type": "code",
   "execution_count": 119,
   "id": "ce14c96a-922c-45e5-bc66-6758342aec81",
   "metadata": {},
   "outputs": [],
   "source": [
    "fifo <- function(buy_qty, sell_qty, sell_proceeds,buy_basis) {\n",
    "    cat(buy_qty, sell_qty, sell_proceeds,buy_basis, \"\\n\")\n",
    "    return()\n",
    "    }"
   ]
  },
  {
   "cell_type": "code",
   "execution_count": 120,
   "id": "e3b0c002-b66a-4e2e-9373-d20c8b27a9b4",
   "metadata": {},
   "outputs": [
    {
     "name": "stdout",
     "output_type": "stream",
     "text": [
      "50 1000 6682.55 4273.5 \n",
      "50 1000 6255 5625 \n",
      "50 1000 6190.1 5788 \n",
      "1050 3000 17565 10478.8 \n",
      "50 6000 39690 9490 \n",
      "1000 5950 39690 9490 \n",
      "3000 4950 39690 9490 \n",
      "1500 1950 39690 9490 \n",
      "300 450 39690 9490 \n",
      "1850 3000 23448 9420 \n",
      "1000 1000 7816 19120.4 \n",
      "1500 3000 17835 32945.5 \n",
      "1000 1500 17835 32945.5 \n",
      "400 500 2860 17832.39 \n",
      "100 100 2860 17832.39 \n",
      "1000 2000 9830 4295 \n",
      "1000 5000 24725 8614.8 \n",
      "1000 4000 24725 8614.8 \n",
      "1000 3000 24725 8614.8 \n",
      "2000 2000 24725 8614.8 \n",
      "400 1000 4582.8 2004 \n",
      "100 1100 4994 3811.5 \n",
      "1000 1000 4994 3811.5 \n"
     ]
    }
   ],
   "source": [
    "# processes the sales against the buys in a FIFO manner and stops if there are not enough buys to cover a sale. The result is a list containing the remaining buys and processed sells. Adjust the function as needed for your specific requirements. \n",
    "\n",
    "\n",
    "fifo_cost_basis <- function(df) {\n",
    "  df <- df[order(as.Date(df$date, origin = \"1899-12-30\")), ]  # Sort by date\n",
    "  buys <- df[df$quan > 0, ]  # Filter buys\n",
    "  sells <- df[df$quan < 0, ]  # Filter sells\n",
    "  \n",
    "# for(i in 1:nrow(df))  { \n",
    "  for (sell_row in 1:nrow(sells)) {\n",
    "    sell_qty <- abs(sells[sell_row, 'quan'])\n",
    "    buy_basis <- buys[1, 'basis']\n",
    "    sell_proceeds <- abs(sells[sell_row, 'basis'])\n",
    "    while (sell_qty > 0 && nrow(buys) > 0) {\n",
    "      buy_qty <- buys[1, 'quan']\n",
    "      if (buy_qty <= sell_qty) {\n",
    "        # Entire buy quantity is sold         \n",
    "        # fct call\n",
    "          \n",
    "          \n",
    "          fifo(buy_qty, sell_qty, sell_proceeds,buy_basis)\n",
    "          \n",
    "        sell_qty <- sell_qty - buy_qty\n",
    "        buys <- buys[-1, ]  # Remove the used buy\n",
    "      } else {\n",
    "        # Partial buy quantity is sold\n",
    "        buys[1, 'quan'] <- buy_qty - sell_qty\n",
    "        sell_qty <- 0\n",
    "      }\n",
    "    }\n",
    "    if (sell_qty > 0) {\n",
    "      stop(\"Not enough buys to cover the sells\")\n",
    "    }\n",
    "  }\n",
    "  return(list(buys = buys, sells = sells))\n",
    "}\n",
    "\n",
    "# Usage\n",
    "df <- read.csv(\"BuySell.csv\", header = TRUE, sep = \",\")\n",
    "result <- fifo_cost_basis(df)\n"
   ]
  },
  {
   "cell_type": "code",
   "execution_count": 123,
   "id": "dd3117b6-48ae-4c05-a651-751b9eb1442c",
   "metadata": {},
   "outputs": [
    {
     "data": {
      "text/html": [
       "1050"
      ],
      "text/latex": [
       "1050"
      ],
      "text/markdown": [
       "1050"
      ],
      "text/plain": [
       "[1] 1050"
      ]
     },
     "metadata": {},
     "output_type": "display_data"
    }
   ],
   "source": [
    "buys <- df[df$quan > 0, ]\n",
    "buy_qty <- buys[1, 'quan']\n",
    "buy_qty"
   ]
  }
 ],
 "metadata": {
  "kernelspec": {
   "display_name": "R",
   "language": "R",
   "name": "ir"
  },
  "language_info": {
   "codemirror_mode": "r",
   "file_extension": ".r",
   "mimetype": "text/x-r-source",
   "name": "R",
   "pygments_lexer": "r",
   "version": "4.3.0"
  }
 },
 "nbformat": 4,
 "nbformat_minor": 5
}
