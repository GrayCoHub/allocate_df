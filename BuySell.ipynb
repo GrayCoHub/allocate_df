{
 "cells": [
  {
   "cell_type": "code",
   "execution_count": null,
   "id": "d1248d44-c8e7-425d-8698-98f79dba1a6c",
   "metadata": {},
   "outputs": [],
   "source": [
    "library(dplyr)"
   ]
  },
  {
   "cell_type": "code",
   "execution_count": null,
   "id": "c09b4aea-38a1-44fb-815b-c83bf78f0baa",
   "metadata": {},
   "outputs": [],
   "source": [
    "df <- read.csv(\"BuySell.csv\", header = TRUE, sep = \",\")\n",
    "nrow(df)\n",
    "head(df,3)"
   ]
  },
  {
   "cell_type": "code",
   "execution_count": null,
   "id": "e075f4cc-30f9-48ee-807e-6e337b8dea8a",
   "metadata": {},
   "outputs": [],
   "source": [
    "# Convert Excel dates when in the 1900 date format\n",
    "\n",
    "df$date <- as.Date(df$date, origin = \"1899-12-30\")\n",
    "#df$date_s <- as.Date(df$date_s, origin = \"1899-12-30\")\n",
    "head(df, 3)"
   ]
  },
  {
   "cell_type": "code",
   "execution_count": null,
   "id": "33f3358b-ca6c-43ea-b10c-96ca5bfe3325",
   "metadata": {},
   "outputs": [],
   "source": [
    "# First allocate, then play with cost basis methods\n",
    "\n",
    "adj_tally_q <- function(tally_q, proceeds) {\n",
    "    # cat(\"tally_q in the remote fct\", tally_q, \"\\n\")\n",
    "    tally_q <- tally_q + proceeds\n",
    "    cat(\"ADJUSTED tally_q - reduced by proceeds in remote fct\", tally_q, \"\\n\")\n",
    "    return(tally_q)        \n",
    "    }"
   ]
  },
  {
   "cell_type": "markdown",
   "id": "10d3f5cc-1373-44b4-b01f-eada6b5c213d",
   "metadata": {},
   "source": [
    "## <font color = yellow> Keeper! These values agree with .csv/spreadsheet\n",
    "    \n",
    "##### Getting the spreadsheet right w Buy/Sells remains the workout"
   ]
  },
  {
   "cell_type": "code",
   "execution_count": null,
   "id": "8f2cd095-995c-4df9-97df-244913559b80",
   "metadata": {},
   "outputs": [],
   "source": [
    "# Function that reads BuySell.csv and will perform actions which agree with the values of (tally_q_q) on Sell dates\n",
    "\n",
    "make_buysell_csv <- function() {    \n",
    "\n",
    "    # remote fct to test passing value from fct to remote to this remote\n",
    "     adj_basis <- function(tally_q, proceeds) {\n",
    "        print(paste0(\"In adj_basis fct. tally_q is: \", tally_q, \" Sell is: \", proceeds))\n",
    "        n <- 2\n",
    "        tally_q <<- tally_q + n\n",
    "        return(tally_q)\n",
    "        }   \n",
    "\n",
    "    # remote fct to adjust the running stock tally_q (combine sum of Buys with the next Sell), return adjusted tally_q\n",
    "    adj_tally_q <- function(tally_q, proceeds) {\n",
    "        cat(\"tally_q in the remote fct\", tally_q, \"proceeds is: \", proceeds, \"\\n\")\n",
    "        tally_q <- tally_q + proceeds\n",
    "        cat(\"ADJUSTED tally_q - reduced by proceeds in remote fct\", tally_q, \"\\n\")\n",
    "        # Fct call\n",
    "        # adjusted <- adj_basis(tally_q, proceeds)\n",
    "        # print(paste0(\"adjusted from remote fct is: \", adjusted))\n",
    "        return(tally_q)        \n",
    "        }       \n",
    "\n",
    "    # Main body     \n",
    "\n",
    "    # Create counter vars\n",
    "    ct <- 0\n",
    "    tally_q <<- 0\n",
    "    row_ct <<- 0\n",
    "    proceeds <- 0\n",
    "    \n",
    "    cat(\"The df has the following nrows: \", nrow(df), \"\\n \\n\")\n",
    "\n",
    "    # loop through the df\n",
    "    for(i in 1:nrow(df))  { \n",
    "\n",
    "         ct <- ct + 1\n",
    "        # Sum the buy values from each row\n",
    "        if(df[i, 'quan'] > 0 ) {\n",
    "            row_ct <- row_ct + 1\n",
    "           # tally_q the buys from each row \n",
    "            tally_q <- tally_q + df[i, 'quan']\n",
    "            cat(\"BUY: Row no: \", row_ct, \"Cost is: \", df[i, \"basis\"], \", tally_q is:\", tally_q, \"\\n\")\n",
    "            \n",
    "            # cat(\"BUY \", df[i,'quan'], \" Row number is: \", row_ct, \" The tally_q is: \", tally_q, \"\\n\")\n",
    "            }\n",
    "\n",
    "            #  When a Sell occurs, Call remote fct to adjust the tally_q == tally_q_q\n",
    "            if(df[i, 'quan'] < 0 )  {\n",
    "                proceeds <- df[i, 'quan']\n",
    "                row_ct <- row_ct + 1\n",
    "               cat(\"SELL \", df[i,'quan'], \" Row number is: \", row_ct, \" The tally_q is: \", tally_q, \" Sell Proceeds: \", df[i, 'basis'], \"\\n\" )\n",
    "               tally_q <- adj_tally_q(tally_q, proceeds) \n",
    "                }\n",
    "       }  # end For-loop \n",
    "\n",
    "        cat(\"\\n\")\n",
    "        cat(\"The FINAL tally_q is :\", tally_q, \"\\n\")\n",
    "        ct\n",
    "} # end fct\n",
    "\n",
    "#  These value will agree with the spreadsheet: BuySell.csv / .xlsx"
   ]
  },
  {
   "cell_type": "code",
   "execution_count": null,
   "id": "75f3b946-2189-4199-aa43-da8697a8d3a2",
   "metadata": {},
   "outputs": [],
   "source": [
    "make_buysell_csv()"
   ]
  },
  {
   "cell_type": "code",
   "execution_count": null,
   "id": "c21b81ad-8587-46e0-aa69-aef06e067f1a",
   "metadata": {},
   "outputs": [],
   "source": [
    "# stopper"
   ]
  },
  {
   "cell_type": "code",
   "execution_count": null,
   "id": "2435aa27-7970-4681-90e8-546b7b5a67d7",
   "metadata": {},
   "outputs": [],
   "source": [
    "    # remote fct to adjust the running stock tally_q (combine sum of Buys with the next Sell), return adjusted tally_q\n",
    "    adj_tally_q <- function(tally_q, proceeds) {\n",
    "        cat(\"tally_q in the remote fct\", tally_q, \"The proceeds is: \", proceeds, \"\\n\")\n",
    "        tally_q <- tally_q + proceeds\n",
    "        cat(\"ADJUSTED tally_q - reduced by proceeds in remote fct\", tally_q, \"\\n\")\n",
    "       \n",
    "        return(tally_q)        \n",
    "        }       \n"
   ]
  },
  {
   "cell_type": "code",
   "execution_count": null,
   "id": "8f7c5db2-dc72-41d6-9ffd-2300f0a2a770",
   "metadata": {},
   "outputs": [],
   "source": [
    "# Identify the rows in the df where the proceedss occur\n",
    "\n",
    "# Create counter vars\n",
    "ct <- 0\n",
    "tally_q <- 0\n",
    "row_ct <<- 1\n",
    "cat(\"The df has the following nrows: \", nrow(df), \"\\n \\n\")\n",
    "\n",
    "# loop through the df\n",
    "for(i in 1:nrow(df))  { \n",
    "    \n",
    "     ct <- ct + 1\n",
    "    # Sum the buy values from each row\n",
    "    if(df[i, 'quan'] > 0 ) {\n",
    "        \n",
    "        # tally_q the buys from each row \n",
    "         tally_q <- tally_q + df[i, 'quan']\n",
    "        cat(\"BUY. \", df[i,'quan'], \" row number is: \", row_ct, \" tally_q is: \", tally_q, \"\\n\")\n",
    "       \n",
    "        row_ct <- row_ct + 1\n",
    "        #print(paste0(\"BUY \", df[i,'quan'], \" Row number is: \", row_ct, \" The tally_q is: \", tally_q))       \n",
    "        }\n",
    "    \n",
    "        \n",
    "        #  When a Sell occurs, Call remote fct to adjust the tally_q == tally_q_q\n",
    "        if(df[i, 'quan'] < 0 )  {\n",
    "            proceeds <- df[i, 'quan']\n",
    "            row_ct <- row_ct + 1\n",
    "           cat(\"SELL \", df[i,'quan'], \" Row number is: \", row_ct, \" The tally_q is: \", tally_q, \" Sell Proceeds: \", df[i, 'basis'], \"\\n\" )\n",
    "           tally_q <- adj_tally_q(tally_q, proceeds) \n",
    "            }\n",
    "   }\n",
    " \n",
    "cat(\"\\n\")\n",
    "cat(\"The FINAL tally_q is :\", tally_q, \"\\n\")  # This value s/b 0 \n",
    "ct\n",
    "\n",
    "#  These value agree with the spreadsheet (tally_q_q on SELL line) See: BuySell.csv / .xlsx\n",
    "#  These value agree with the spreadsheet: BuySell.csv / .xlsx"
   ]
  },
  {
   "cell_type": "markdown",
   "id": "da9c7e9b-30b6-4278-a9e3-eea0b4c97802",
   "metadata": {},
   "source": [
    "## <font color = yellow> Convert the entire thing into a fct"
   ]
  },
  {
   "cell_type": "code",
   "execution_count": null,
   "id": "07fd1e76-edde-4a41-8fa5-4e445b92ba24",
   "metadata": {},
   "outputs": [],
   "source": []
  },
  {
   "cell_type": "code",
   "execution_count": null,
   "id": "9c47f0d1-ea48-4afe-a9e3-3d529cc9046b",
   "metadata": {},
   "outputs": [],
   "source": [
    " # adj_basis <- function(tally_q, proceeds) {\n",
    " #        print(paste0(\"In adj_basis fct. tally_q is: \", tally_q, \" Sell is: \", proceeds))\n",
    " #        n <- 2\n",
    " #        tally_q <<- tally_q + n\n",
    " #        return(tally_q)\n",
    " #        }"
   ]
  },
  {
   "cell_type": "code",
   "execution_count": null,
   "id": "d0eb08ea-6f15-4cd8-bcca-7cca37e2b431",
   "metadata": {},
   "outputs": [],
   "source": [
    "# Function that reads BuySell.csv and will perform actions which agree with the values of (tally_q_q) on Sell dates\n",
    "\n",
    "make_buysell_csv <- function() {    \n",
    "\n",
    "    # remote fct to test passing value from fct to remote to this remote\n",
    "     adj_basis <- function(tally_q, proceeds) {\n",
    "        print(paste0(\"In adj_basis fct. tally_q is: \", tally_q, \" Sell is: \", proceeds))\n",
    "        n <- 2\n",
    "        tally_q <<- tally_q + n\n",
    "        return(tally_q)\n",
    "        }   \n",
    "\n",
    "    # remote fct to adjust the running stock tally_q (combine sum of Buys with the next Sell), return adjusted tally_q\n",
    "    adj_tally_q <- function(tally_q, proceeds) {\n",
    "        # cat(\"tally_q in the remote fct\", tally_q, \"\\n\")\n",
    "        tally_q <- tally_q + proceeds\n",
    "        # cat(\"ADJUSTED tally_q - reduced by proceeds in remote fct\", tally_q, \"\\n\")\n",
    "        # Fct call\n",
    "        # adjusted <- adj_basis(tally_q, proceeds)\n",
    "        # print(paste0(\"adjusted from remote fct is: \", adjusted))\n",
    "        return(tally_q)        \n",
    "        }       \n",
    "\n",
    "    # Main body     \n",
    "\n",
    "    # Create counter vars\n",
    "    ct <- 0\n",
    "    tally_q <<- 0\n",
    "    tally_sales <<- 0\n",
    "    row_ct <<- 0\n",
    "    cat(\"The df has the following nrows: \", nrow(df), \"\\n \\n\")\n",
    "\n",
    "    # loop through the df\n",
    "    for(i in 1:nrow(df))  { \n",
    "\n",
    "         ct <- ct + 1\n",
    "        # Sum the buy values from each row\n",
    "        if(df[i, 'quan'] > 0 ) {\n",
    "            row_ct <- row_ct + 1\n",
    "           # tally_q the buys from each row \n",
    "            tally_q <- tally_q + df[i, 'quan']\n",
    "            #cat(\"BUY: Row no: \", row_ct, \" Cost \", df[i, \"basis\"], \" tally_q is: \", tally_q, \"\\n\")\n",
    "            \n",
    "            # print(paste0(\"BUY \", df[i,'quan'], \" Row number is: \", row_ct, \" The tally_q is: \", tally_q))       \n",
    "            }\n",
    "\n",
    "            #  When a Sell occurs, Call remote fct to adjust the tally_q == tally_q_q\n",
    "            if(df[i, 'quan'] < 0 )  {\n",
    "                proceeds <- df[i, 'quan']\n",
    "                row_ct <- row_ct + 1\n",
    "                tally_sales <<- df[i, 'basis'] + tally_sales\n",
    "                #cat(\"tally_sales is: \", tally_sales, \"\\n\")\n",
    "                cat(\"SELL \", df[i,'quan'], \" Row number is: \", row_ct, \" Sale quan is :\", proceeds, \" Sell Proceeds: \", df[i, 'basis'], \"\\n\" )\n",
    "                tally_q <- adj_tally_q(tally_q, proceeds) \n",
    "                }       \n",
    "        \n",
    "       }  # end For-loop \n",
    "\n",
    "        cat(\"\\n\")\n",
    "        cat(\"The FINAL tally_q is :\", tally_q, \"\\n\")\n",
    "        cat(\"The FINAL tally_sales is :\", tally_sales, \"\\n\")\n",
    "        ct\n",
    "} # end fct\n",
    "\n",
    "#  These value will agree with the spreadsheet: BuySell.csv / .xlsx"
   ]
  },
  {
   "cell_type": "code",
   "execution_count": null,
   "id": "ef1872a7-0195-4561-9c1b-e8ced754d41b",
   "metadata": {},
   "outputs": [],
   "source": [
    "#  Call the fct\n",
    "make_buysell_csv()\n",
    "#  These value will agree with the spreadsheet: BuySell.csv / .xlsx"
   ]
  },
  {
   "cell_type": "code",
   "execution_count": null,
   "id": "f752ee5b-5699-41d4-9c4f-efcb4e81b332",
   "metadata": {},
   "outputs": [],
   "source": [
    "# stopper"
   ]
  },
  {
   "cell_type": "markdown",
   "id": "987f5fd2-3ad8-47ee-8501-9d25ad16dfec",
   "metadata": {},
   "source": [
    "## <font color = lime> New Addition: Add new tally_c var to track cost basis"
   ]
  },
  {
   "cell_type": "code",
   "execution_count": null,
   "id": "1573ae2c-37b8-407f-9a41-62264406b33a",
   "metadata": {},
   "outputs": [],
   "source": []
  },
  {
   "cell_type": "code",
   "execution_count": null,
   "id": "ab73bf5d-b521-45e3-9127-665f14cdfda5",
   "metadata": {},
   "outputs": [],
   "source": [
    "# remote fct to adjust the running Buy tally_q with the next Sell quan\n",
    "#  & return adjusted tally_q\n",
    "    adj_tally_q <- function(tally_q, proceeds) {\n",
    "        tally_q <- tally_q + proceeds\n",
    "        cat(\"ADJUSTED tally_q - reduced by proceeds in remote fct\", tally_q, \"\\n\")\n",
    "        return(tally_q)        \n",
    "        }       "
   ]
  },
  {
   "cell_type": "code",
   "execution_count": null,
   "id": "572280ed-be1b-41ec-99e8-256f262ecfc8",
   "metadata": {},
   "outputs": [],
   "source": [
    "# Identify the rows in the df where the proceedss occur\n",
    "\n",
    "# Create counter vars\n",
    "ct <- 0\n",
    "tally_q <- 0\n",
    "row_ct <<- 1\n",
    "accum_buy_basis <<- 0\n",
    "accum_sell_basis <<- 0\n",
    "\n",
    "\n",
    "cat(\"The df has the following nrows: \", nrow(df), \"\\n \\n\")\n",
    "\n",
    "# loop through the df\n",
    "for(i in 1:nrow(df))  { \n",
    "    \n",
    "    ct <- ct + 1\n",
    "    # Loop if Buy value larger than zero\n",
    "    if(df[i, 'quan'] > 0 ) {        \n",
    "       # tally the Buy from each row \n",
    "       tally_q <- tally_q + df[i, 'quan']\n",
    "       cat(\"BUY. \", df[i,'quan'], \" row number is: \", row_ct, \" tally_q is: \", tally_q, \"\\n\") \n",
    "        accum_buy_basis <- accum_buy_basis + df[i, 'basis']\n",
    "       row_ct <- row_ct + 1\n",
    "       }\n",
    "              \n",
    "    #  If row is a Sell event, execute remote fct and reduce tally_q by Sell quan\n",
    "    if(df[i, 'quan'] < 0 )  {\n",
    "       proceeds <- df[i, 'quan']\n",
    "       row_ct <- row_ct + 1\n",
    "       cat(\"SELL \", df[i,'quan'], \" Row number is: \", row_ct, \" The tally_q is: \", tally_q, \" Sell Proceeds: \", df[i, 'basis'], \"\\n\" )\n",
    "        accum_sell_basis <- accum_sell_basis + df[i, 'basis']\n",
    "       # fct call\n",
    "       tally_q <- adj_tally_q(tally_q, proceeds) \n",
    "       }    \n",
    "   }\n",
    " \n",
    "cat(\"\\n\")\n",
    "cat(\"The FINAL tally_q is :\", tally_q, \"\\n\")\n",
    "ct\n",
    "\n",
    "accum_buy_basis\n",
    "accum_sell_basis\n",
    "unadjusted_pl <- c(accum_buy_basis - abs(accum_sell_basis))\n",
    "unadjusted_pl\n",
    "\n",
    "\n",
    "#  These value agree with the spreadsheet (tally_q_q on SELL line) See: BuySell.csv / .xlsx"
   ]
  },
  {
   "cell_type": "code",
   "execution_count": null,
   "id": "358380b6-1322-4098-9d56-1f08da11f88e",
   "metadata": {},
   "outputs": [],
   "source": [
    "df"
   ]
  },
  {
   "cell_type": "code",
   "execution_count": null,
   "id": "d23a4d9d-0997-47e3-856b-24bd7525ce2f",
   "metadata": {},
   "outputs": [],
   "source": [
    "sum(df$basis)"
   ]
  },
  {
   "cell_type": "code",
   "execution_count": null,
   "id": "3b78e5d9-a770-41b1-8a0b-d3de3981814f",
   "metadata": {},
   "outputs": [],
   "source": []
  },
  {
   "cell_type": "code",
   "execution_count": null,
   "id": "f796ebf7-aada-46b4-8e79-8da369e334a4",
   "metadata": {},
   "outputs": [],
   "source": []
  }
 ],
 "metadata": {
  "kernelspec": {
   "display_name": "R",
   "language": "R",
   "name": "ir"
  },
  "language_info": {
   "codemirror_mode": "r",
   "file_extension": ".r",
   "mimetype": "text/x-r-source",
   "name": "R",
   "pygments_lexer": "r",
   "version": "4.3.0"
  }
 },
 "nbformat": 4,
 "nbformat_minor": 5
}
