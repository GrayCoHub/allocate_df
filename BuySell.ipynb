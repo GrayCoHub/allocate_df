{
 "cells": [
  {
   "cell_type": "code",
   "execution_count": null,
   "id": "d1248d44-c8e7-425d-8698-98f79dba1a6c",
   "metadata": {},
   "outputs": [],
   "source": [
    "library(dplyr)"
   ]
  },
  {
   "cell_type": "code",
   "execution_count": null,
   "id": "c09b4aea-38a1-44fb-815b-c83bf78f0baa",
   "metadata": {},
   "outputs": [],
   "source": [
    "df <- read.csv(\"BuySell.csv\", header = TRUE, sep = \",\")\n",
    "nrow(df)\n",
    "head(df,3)"
   ]
  },
  {
   "cell_type": "code",
   "execution_count": null,
   "id": "e075f4cc-30f9-48ee-807e-6e337b8dea8a",
   "metadata": {},
   "outputs": [],
   "source": [
    "# Convert Excel dates when in the 1900 date format\n",
    "\n",
    "df$date <- as.Date(df$date, origin = \"1899-12-30\")\n",
    "#df$date_s <- as.Date(df$date_s, origin = \"1899-12-30\")\n",
    "head(df, 3)"
   ]
  },
  {
   "cell_type": "code",
   "execution_count": null,
   "id": "33f3358b-ca6c-43ea-b10c-96ca5bfe3325",
   "metadata": {},
   "outputs": [],
   "source": [
    "# First allocate, then play with cost basis methods\n",
    "\n",
    "adj_basis <- function(tally, sale) {\n",
    "    cat(\"TALLY in the remote fct\", tally, \"\\n\")\n",
    "    tally <- tally + sale\n",
    "    cat(\"ADJUSTED TALLY in the remote fct\", tally, \"\\n\")\n",
    "    return(tally)        \n",
    "    }"
   ]
  },
  {
   "cell_type": "code",
   "execution_count": null,
   "id": "8f2cd095-995c-4df9-97df-244913559b80",
   "metadata": {},
   "outputs": [],
   "source": [
    "# Identify the rows in the df where the sales occur\n",
    "\n",
    "# Create counter vars\n",
    "ct <- 0\n",
    "tally <- 0\n",
    "row_ct <<- 0\n",
    "cat(\"The df has the following nrows: \", nrow(df), \"\\n \\n\")\n",
    "\n",
    "# loop through the df\n",
    "for(i in 1:nrow(df))  { \n",
    "    \n",
    "     ct <- ct + 1\n",
    "    # Sum the buy values from each row\n",
    "    if(df[i, 'quan'] > 0 ) {\n",
    "        row_ct <- row_ct + 1\n",
    "        # tally the buys from each row \n",
    "        tally <- tally + df[i, 'quan']\n",
    "        print(paste0(\"BUY \", df[i,'quan'], \" Row number is: \", row_ct, \" The Tally is: \", tally))       \n",
    "        }\n",
    "    \n",
    "        #  when a sale value is found (neg value) ....\n",
    "        if(df[i, 'quan'] < 0 )  {\n",
    "            sale <- df[i, 'quan']\n",
    "            row_ct <- row_ct + 1\n",
    "             print(paste0(\"SELL \", df[i,'quan'], \" Row number is: \", row_ct, \" The Tally is: \", tally)) \n",
    "             tally <- adj_basis(tally, sale) \n",
    "            }\n",
    "   }\n",
    " \n",
    "# adj_basis(df, tally) \n",
    "cat(\"\\n\")\n",
    "cat(\"The FINAL tally is :\", tally, \"\\n\")\n",
    "ct\n"
   ]
  },
  {
   "cell_type": "code",
   "execution_count": null,
   "id": "7eefa9d0-b124-4155-9edd-46fb914aa081",
   "metadata": {},
   "outputs": [],
   "source": []
  },
  {
   "cell_type": "code",
   "execution_count": null,
   "id": "b5c186f8-5610-4ba6-ae94-de323aaf8cda",
   "metadata": {},
   "outputs": [],
   "source": []
  },
  {
   "cell_type": "code",
   "execution_count": null,
   "id": "9c47f0d1-ea48-4afe-a9e3-3d529cc9046b",
   "metadata": {},
   "outputs": [],
   "source": []
  },
  {
   "cell_type": "code",
   "execution_count": null,
   "id": "b768b462-ed68-4ab4-8380-c1129ba157c9",
   "metadata": {},
   "outputs": [],
   "source": []
  },
  {
   "cell_type": "code",
   "execution_count": null,
   "id": "572280ed-be1b-41ec-99e8-256f262ecfc8",
   "metadata": {},
   "outputs": [],
   "source": []
  }
 ],
 "metadata": {
  "kernelspec": {
   "display_name": "R",
   "language": "R",
   "name": "ir"
  },
  "language_info": {
   "codemirror_mode": "r",
   "file_extension": ".r",
   "mimetype": "text/x-r-source",
   "name": "R",
   "pygments_lexer": "r",
   "version": "4.3.0"
  }
 },
 "nbformat": 4,
 "nbformat_minor": 5
}
