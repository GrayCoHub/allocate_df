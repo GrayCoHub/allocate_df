{
 "cells": [
  {
   "cell_type": "code",
   "execution_count": 1,
   "id": "e2079458-7a7a-4e66-b6c5-b19873375c98",
   "metadata": {},
   "outputs": [
    {
     "name": "stderr",
     "output_type": "stream",
     "text": [
      "Warning message:\n",
      "\"package 'dplyr' was built under R version 4.3.2\"\n",
      "\n",
      "Attaching package: 'dplyr'\n",
      "\n",
      "\n",
      "The following objects are masked from 'package:stats':\n",
      "\n",
      "    filter, lag\n",
      "\n",
      "\n",
      "The following objects are masked from 'package:base':\n",
      "\n",
      "    intersect, setdiff, setequal, union\n",
      "\n",
      "\n"
     ]
    }
   ],
   "source": [
    "library(dplyr)"
   ]
  },
  {
   "cell_type": "code",
   "execution_count": 2,
   "id": "81b20b62-e59f-4b58-9795-ce8e3984180d",
   "metadata": {},
   "outputs": [
    {
     "name": "stdout",
     "output_type": "stream",
     "text": [
      "'data.frame':\t74 obs. of  14 variables:\n",
      " $ index   : int  1 2 3 4 5 6 7 8 9 10 ...\n",
      " $ date    : chr  \"11/30/2022\" \"11/30/2022\" \"11/30/2022\" \"11/30/2022\" ...\n",
      " $ cost    : num  1827 500 653 742 365 ...\n",
      " $ quan    : int  250 100 100 100 50 150 100 50 100 850 ...\n",
      " $ tally_q : int  250 350 450 550 600 750 850 900 1000 1850 ...\n",
      " $ tally_c : num  1827 2327 2980 3722 4087 ...\n",
      " $ date_s  : chr  \"1/27/2023\" \"2/3/2023\" \"2/3/2023\" \"2/3/2023\" ...\n",
      " $ proceeds: num  1378 585 625 668 334 ...\n",
      " $ tally_q2: int  250 36700 36600 36500 36400 36350 36200 36100 36050 35950 ...\n",
      " $ tally_c2: num  1827 205348 204849 204196 203454 ...\n",
      " $ sold    : int  0 0 0 0 0 0 0 0 1000 0 ...\n",
      " $ tally_s : int  0 0 0 0 0 0 0 0 1000 0 ...\n",
      " $ remain  : int  0 0 0 0 0 0 0 0 0 0 ...\n",
      " $ X       : logi  NA NA NA NA NA NA ...\n"
     ]
    }
   ],
   "source": [
    "df <- read.csv(\"TestAllocate.csv\", header = TRUE, sep = \",\")\n",
    "str(df)"
   ]
  },
  {
   "cell_type": "code",
   "execution_count": 3,
   "id": "1ef387bf-e7f3-4d2e-be71-2e92ad213e91",
   "metadata": {},
   "outputs": [
    {
     "data": {
      "text/html": [
       "<table class=\"dataframe\">\n",
       "<caption>A data.frame: 6 × 14</caption>\n",
       "<thead>\n",
       "\t<tr><th></th><th scope=col>index</th><th scope=col>date</th><th scope=col>cost</th><th scope=col>quan</th><th scope=col>tally_q</th><th scope=col>tally_c</th><th scope=col>date_s</th><th scope=col>proceeds</th><th scope=col>tally_q2</th><th scope=col>tally_c2</th><th scope=col>sold</th><th scope=col>tally_s</th><th scope=col>remain</th><th scope=col>X</th></tr>\n",
       "\t<tr><th></th><th scope=col>&lt;int&gt;</th><th scope=col>&lt;chr&gt;</th><th scope=col>&lt;dbl&gt;</th><th scope=col>&lt;int&gt;</th><th scope=col>&lt;int&gt;</th><th scope=col>&lt;dbl&gt;</th><th scope=col>&lt;chr&gt;</th><th scope=col>&lt;dbl&gt;</th><th scope=col>&lt;int&gt;</th><th scope=col>&lt;dbl&gt;</th><th scope=col>&lt;int&gt;</th><th scope=col>&lt;int&gt;</th><th scope=col>&lt;int&gt;</th><th scope=col>&lt;lgl&gt;</th></tr>\n",
       "</thead>\n",
       "<tbody>\n",
       "\t<tr><th scope=row>1</th><td>1</td><td>11/30/2022</td><td>1827.03</td><td>250</td><td>250</td><td>1827.03</td><td>1/27/2023</td><td>1378.03</td><td>  250</td><td>  1827.03</td><td>0</td><td>0</td><td>0</td><td>NA</td></tr>\n",
       "\t<tr><th scope=row>2</th><td>2</td><td>11/30/2022</td><td> 499.59</td><td>100</td><td>350</td><td>2326.62</td><td>2/3/2023 </td><td> 585.47</td><td>36700</td><td>205348.21</td><td>0</td><td>0</td><td>0</td><td>NA</td></tr>\n",
       "\t<tr><th scope=row>3</th><td>3</td><td>11/30/2022</td><td> 652.92</td><td>100</td><td>450</td><td>2979.54</td><td>2/3/2023 </td><td> 625.47</td><td>36600</td><td>204848.62</td><td>0</td><td>0</td><td>0</td><td>NA</td></tr>\n",
       "\t<tr><th scope=row>4</th><td>4</td><td>11/30/2022</td><td> 742.10</td><td>100</td><td>550</td><td>3721.64</td><td>2/3/2023 </td><td> 667.98</td><td>36500</td><td>204195.70</td><td>0</td><td>0</td><td>0</td><td>NA</td></tr>\n",
       "\t<tr><th scope=row>5</th><td>5</td><td>11/30/2022</td><td> 365.40</td><td> 50</td><td>600</td><td>4087.04</td><td>2/3/2023 </td><td> 333.99</td><td>36400</td><td>203453.60</td><td>0</td><td>0</td><td>0</td><td>NA</td></tr>\n",
       "\t<tr><th scope=row>6</th><td>6</td><td>11/30/2022</td><td>1113.15</td><td>150</td><td>750</td><td>5200.19</td><td>2/3/2023 </td><td> 938.20</td><td>36350</td><td>203088.20</td><td>0</td><td>0</td><td>0</td><td>NA</td></tr>\n",
       "</tbody>\n",
       "</table>\n"
      ],
      "text/latex": [
       "A data.frame: 6 × 14\n",
       "\\begin{tabular}{r|llllllllllllll}\n",
       "  & index & date & cost & quan & tally\\_q & tally\\_c & date\\_s & proceeds & tally\\_q2 & tally\\_c2 & sold & tally\\_s & remain & X\\\\\n",
       "  & <int> & <chr> & <dbl> & <int> & <int> & <dbl> & <chr> & <dbl> & <int> & <dbl> & <int> & <int> & <int> & <lgl>\\\\\n",
       "\\hline\n",
       "\t1 & 1 & 11/30/2022 & 1827.03 & 250 & 250 & 1827.03 & 1/27/2023 & 1378.03 &   250 &   1827.03 & 0 & 0 & 0 & NA\\\\\n",
       "\t2 & 2 & 11/30/2022 &  499.59 & 100 & 350 & 2326.62 & 2/3/2023  &  585.47 & 36700 & 205348.21 & 0 & 0 & 0 & NA\\\\\n",
       "\t3 & 3 & 11/30/2022 &  652.92 & 100 & 450 & 2979.54 & 2/3/2023  &  625.47 & 36600 & 204848.62 & 0 & 0 & 0 & NA\\\\\n",
       "\t4 & 4 & 11/30/2022 &  742.10 & 100 & 550 & 3721.64 & 2/3/2023  &  667.98 & 36500 & 204195.70 & 0 & 0 & 0 & NA\\\\\n",
       "\t5 & 5 & 11/30/2022 &  365.40 &  50 & 600 & 4087.04 & 2/3/2023  &  333.99 & 36400 & 203453.60 & 0 & 0 & 0 & NA\\\\\n",
       "\t6 & 6 & 11/30/2022 & 1113.15 & 150 & 750 & 5200.19 & 2/3/2023  &  938.20 & 36350 & 203088.20 & 0 & 0 & 0 & NA\\\\\n",
       "\\end{tabular}\n"
      ],
      "text/markdown": [
       "\n",
       "A data.frame: 6 × 14\n",
       "\n",
       "| <!--/--> | index &lt;int&gt; | date &lt;chr&gt; | cost &lt;dbl&gt; | quan &lt;int&gt; | tally_q &lt;int&gt; | tally_c &lt;dbl&gt; | date_s &lt;chr&gt; | proceeds &lt;dbl&gt; | tally_q2 &lt;int&gt; | tally_c2 &lt;dbl&gt; | sold &lt;int&gt; | tally_s &lt;int&gt; | remain &lt;int&gt; | X &lt;lgl&gt; |\n",
       "|---|---|---|---|---|---|---|---|---|---|---|---|---|---|---|\n",
       "| 1 | 1 | 11/30/2022 | 1827.03 | 250 | 250 | 1827.03 | 1/27/2023 | 1378.03 |   250 |   1827.03 | 0 | 0 | 0 | NA |\n",
       "| 2 | 2 | 11/30/2022 |  499.59 | 100 | 350 | 2326.62 | 2/3/2023  |  585.47 | 36700 | 205348.21 | 0 | 0 | 0 | NA |\n",
       "| 3 | 3 | 11/30/2022 |  652.92 | 100 | 450 | 2979.54 | 2/3/2023  |  625.47 | 36600 | 204848.62 | 0 | 0 | 0 | NA |\n",
       "| 4 | 4 | 11/30/2022 |  742.10 | 100 | 550 | 3721.64 | 2/3/2023  |  667.98 | 36500 | 204195.70 | 0 | 0 | 0 | NA |\n",
       "| 5 | 5 | 11/30/2022 |  365.40 |  50 | 600 | 4087.04 | 2/3/2023  |  333.99 | 36400 | 203453.60 | 0 | 0 | 0 | NA |\n",
       "| 6 | 6 | 11/30/2022 | 1113.15 | 150 | 750 | 5200.19 | 2/3/2023  |  938.20 | 36350 | 203088.20 | 0 | 0 | 0 | NA |\n",
       "\n"
      ],
      "text/plain": [
       "  index date       cost    quan tally_q tally_c date_s    proceeds tally_q2\n",
       "1 1     11/30/2022 1827.03 250  250     1827.03 1/27/2023 1378.03    250   \n",
       "2 2     11/30/2022  499.59 100  350     2326.62 2/3/2023   585.47  36700   \n",
       "3 3     11/30/2022  652.92 100  450     2979.54 2/3/2023   625.47  36600   \n",
       "4 4     11/30/2022  742.10 100  550     3721.64 2/3/2023   667.98  36500   \n",
       "5 5     11/30/2022  365.40  50  600     4087.04 2/3/2023   333.99  36400   \n",
       "6 6     11/30/2022 1113.15 150  750     5200.19 2/3/2023   938.20  36350   \n",
       "  tally_c2  sold tally_s remain X \n",
       "1   1827.03 0    0       0      NA\n",
       "2 205348.21 0    0       0      NA\n",
       "3 204848.62 0    0       0      NA\n",
       "4 204195.70 0    0       0      NA\n",
       "5 203453.60 0    0       0      NA\n",
       "6 203088.20 0    0       0      NA"
      ]
     },
     "metadata": {},
     "output_type": "display_data"
    }
   ],
   "source": [
    "head(df)"
   ]
  },
  {
   "cell_type": "code",
   "execution_count": 4,
   "id": "206e5f90-3033-4c50-97ba-574e57275d1f",
   "metadata": {},
   "outputs": [],
   "source": [
    "# # Remove extraneous variables \n",
    "\n",
    "# df$X <- NULL\n",
    "# df$X.1 <- NULL\n",
    "# df$X.2 <- NULL\n",
    "# head(df, 3)"
   ]
  },
  {
   "cell_type": "markdown",
   "id": "9e570256-90e9-4fa3-9f61-649cfc0cf13c",
   "metadata": {},
   "source": [
    "### <font color = lime> Convert the df char data types to numer_remainderic"
   ]
  },
  {
   "cell_type": "code",
   "execution_count": 5,
   "id": "183b2c61-67b4-4e02-bdf5-80dfe4cadacb",
   "metadata": {},
   "outputs": [
    {
     "data": {
      "text/html": [
       "<table class=\"dataframe\">\n",
       "<caption>A data.frame: 3 × 14</caption>\n",
       "<thead>\n",
       "\t<tr><th></th><th scope=col>index</th><th scope=col>date</th><th scope=col>cost</th><th scope=col>quan</th><th scope=col>tally_q</th><th scope=col>tally_c</th><th scope=col>date_s</th><th scope=col>proceeds</th><th scope=col>tally_q2</th><th scope=col>tally_c2</th><th scope=col>sold</th><th scope=col>tally_s</th><th scope=col>remain</th><th scope=col>X</th></tr>\n",
       "\t<tr><th></th><th scope=col>&lt;int&gt;</th><th scope=col>&lt;chr&gt;</th><th scope=col>&lt;dbl&gt;</th><th scope=col>&lt;int&gt;</th><th scope=col>&lt;int&gt;</th><th scope=col>&lt;dbl&gt;</th><th scope=col>&lt;chr&gt;</th><th scope=col>&lt;dbl&gt;</th><th scope=col>&lt;int&gt;</th><th scope=col>&lt;dbl&gt;</th><th scope=col>&lt;int&gt;</th><th scope=col>&lt;int&gt;</th><th scope=col>&lt;int&gt;</th><th scope=col>&lt;lgl&gt;</th></tr>\n",
       "</thead>\n",
       "<tbody>\n",
       "\t<tr><th scope=row>1</th><td>1</td><td>11/30/2022</td><td>1827.03</td><td>250</td><td>250</td><td>1827.03</td><td>1/27/2023</td><td>1378.03</td><td>  250</td><td>  1827.03</td><td>0</td><td>0</td><td>0</td><td>NA</td></tr>\n",
       "\t<tr><th scope=row>2</th><td>2</td><td>11/30/2022</td><td> 499.59</td><td>100</td><td>350</td><td>2326.62</td><td>2/3/2023 </td><td> 585.47</td><td>36700</td><td>205348.21</td><td>0</td><td>0</td><td>0</td><td>NA</td></tr>\n",
       "\t<tr><th scope=row>3</th><td>3</td><td>11/30/2022</td><td> 652.92</td><td>100</td><td>450</td><td>2979.54</td><td>2/3/2023 </td><td> 625.47</td><td>36600</td><td>204848.62</td><td>0</td><td>0</td><td>0</td><td>NA</td></tr>\n",
       "</tbody>\n",
       "</table>\n"
      ],
      "text/latex": [
       "A data.frame: 3 × 14\n",
       "\\begin{tabular}{r|llllllllllllll}\n",
       "  & index & date & cost & quan & tally\\_q & tally\\_c & date\\_s & proceeds & tally\\_q2 & tally\\_c2 & sold & tally\\_s & remain & X\\\\\n",
       "  & <int> & <chr> & <dbl> & <int> & <int> & <dbl> & <chr> & <dbl> & <int> & <dbl> & <int> & <int> & <int> & <lgl>\\\\\n",
       "\\hline\n",
       "\t1 & 1 & 11/30/2022 & 1827.03 & 250 & 250 & 1827.03 & 1/27/2023 & 1378.03 &   250 &   1827.03 & 0 & 0 & 0 & NA\\\\\n",
       "\t2 & 2 & 11/30/2022 &  499.59 & 100 & 350 & 2326.62 & 2/3/2023  &  585.47 & 36700 & 205348.21 & 0 & 0 & 0 & NA\\\\\n",
       "\t3 & 3 & 11/30/2022 &  652.92 & 100 & 450 & 2979.54 & 2/3/2023  &  625.47 & 36600 & 204848.62 & 0 & 0 & 0 & NA\\\\\n",
       "\\end{tabular}\n"
      ],
      "text/markdown": [
       "\n",
       "A data.frame: 3 × 14\n",
       "\n",
       "| <!--/--> | index &lt;int&gt; | date &lt;chr&gt; | cost &lt;dbl&gt; | quan &lt;int&gt; | tally_q &lt;int&gt; | tally_c &lt;dbl&gt; | date_s &lt;chr&gt; | proceeds &lt;dbl&gt; | tally_q2 &lt;int&gt; | tally_c2 &lt;dbl&gt; | sold &lt;int&gt; | tally_s &lt;int&gt; | remain &lt;int&gt; | X &lt;lgl&gt; |\n",
       "|---|---|---|---|---|---|---|---|---|---|---|---|---|---|---|\n",
       "| 1 | 1 | 11/30/2022 | 1827.03 | 250 | 250 | 1827.03 | 1/27/2023 | 1378.03 |   250 |   1827.03 | 0 | 0 | 0 | NA |\n",
       "| 2 | 2 | 11/30/2022 |  499.59 | 100 | 350 | 2326.62 | 2/3/2023  |  585.47 | 36700 | 205348.21 | 0 | 0 | 0 | NA |\n",
       "| 3 | 3 | 11/30/2022 |  652.92 | 100 | 450 | 2979.54 | 2/3/2023  |  625.47 | 36600 | 204848.62 | 0 | 0 | 0 | NA |\n",
       "\n"
      ],
      "text/plain": [
       "  index date       cost    quan tally_q tally_c date_s    proceeds tally_q2\n",
       "1 1     11/30/2022 1827.03 250  250     1827.03 1/27/2023 1378.03    250   \n",
       "2 2     11/30/2022  499.59 100  350     2326.62 2/3/2023   585.47  36700   \n",
       "3 3     11/30/2022  652.92 100  450     2979.54 2/3/2023   625.47  36600   \n",
       "  tally_c2  sold tally_s remain X \n",
       "1   1827.03 0    0       0      NA\n",
       "2 205348.21 0    0       0      NA\n",
       "3 204848.62 0    0       0      NA"
      ]
     },
     "metadata": {},
     "output_type": "display_data"
    }
   ],
   "source": [
    "# Convert Excel dates when in the 1900 date format\n",
    "\n",
    "# df$date <- as.Date(df$date, origin = \"1899-12-30\")\n",
    "# df$date_s <- as.Date(df$date_s, origin = \"1899-12-30\")\n",
    "head(df, 3)"
   ]
  },
  {
   "cell_type": "code",
   "execution_count": null,
   "id": "581854b1-98f3-48e4-81a2-88442006aa93",
   "metadata": {},
   "outputs": [],
   "source": []
  },
  {
   "cell_type": "code",
   "execution_count": 6,
   "id": "1f57b5fc-63d7-480c-aa33-4aad0e8abd9d",
   "metadata": {},
   "outputs": [
    {
     "name": "stdout",
     "output_type": "stream",
     "text": [
      "[1] 250\n",
      "[1] 350\n",
      "[1] 450\n",
      "[1] 550\n",
      "[1] 600\n",
      "[1] 750\n",
      "[1] 850\n",
      "[1] 900\n",
      "[1] \"the master counter value is: 8\"\n",
      "[1] \"the incrementing index value is: 0\"\n"
     ]
    },
    {
     "data": {
      "text/html": [
       "900"
      ],
      "text/latex": [
       "900"
      ],
      "text/markdown": [
       "900"
      ],
      "text/plain": [
       "[1] 900"
      ]
     },
     "metadata": {},
     "output_type": "display_data"
    }
   ],
   "source": [
    "# create a test loop for moving through the df\n",
    "df <- read.csv(\"TestAllocate.csv\", header = TRUE, sep = \",\")\n",
    "# Define the target sum\n",
    "target_value <- 900\n",
    "master_ct <- 0\n",
    "\n",
    "# Initialize a variable to hold the increasing cumulative sum\n",
    "cumulative_sum <- 0\n",
    "\n",
    "# Initialize a variable to hold the index where target sum is achieved\n",
    "index <- 0\n",
    "\n",
    "# Iterate over the column\n",
    "  for(i in 1:nrow(df)) {\n",
    "  # counter at top of loop (will always be >= 1)\n",
    "  master_ct <- master_ct + 1\n",
    "  # creates a tally value of quan values from each row that is compared against the target value  \n",
    "  cumulative_sum <- cumulative_sum + df[i, 'quan']\n",
    "    print(cumulative_sum)\n",
    "  # If the cum_sum equals the target value, change nothing\n",
    "  if(cumulative_sum == target_value) {\n",
    "      temp <- df[i, 'tally_q']\n",
    "      df[i, 'tally_q'] <- temp\n",
    "      break\n",
    "      }\n",
    "  # if the cum_sum exceeds the target value, break and return the index (count of rows for the if )\n",
    "  else if(cumulative_sum >= target_value) {\n",
    "    # count the times when the cumulative_sum greater than target value. Can be zero.  \n",
    "    index <- i     \n",
    "    break\n",
    "  }\n",
    "}\n",
    "\n",
    "# Print the indexes\n",
    "print(paste0(\"the master counter value is: \", master_ct))\n",
    "print(paste0(\"the incrementing index value is: \", index))\n",
    "\n",
    "# print the cumulative sum at the break out from the loop\n",
    "cumulative_sum"
   ]
  },
  {
   "cell_type": "code",
   "execution_count": 7,
   "id": "9f18324d-1d7f-4f1d-a393-2e299fa6c662",
   "metadata": {},
   "outputs": [
    {
     "data": {
      "text/html": [
       "0"
      ],
      "text/latex": [
       "0"
      ],
      "text/markdown": [
       "0"
      ],
      "text/plain": [
       "[1] 0"
      ]
     },
     "metadata": {},
     "output_type": "display_data"
    }
   ],
   "source": [
    "index"
   ]
  },
  {
   "cell_type": "code",
   "execution_count": 8,
   "id": "a2f999a5-1544-4b17-ac57-0fb52686822c",
   "metadata": {
    "tags": []
   },
   "outputs": [
    {
     "data": {
      "text/html": [
       "<table class=\"dataframe\">\n",
       "<caption>A data.frame: 5 × 2</caption>\n",
       "<thead>\n",
       "\t<tr><th scope=col>Quantity</th><th scope=col>Other</th></tr>\n",
       "\t<tr><th scope=col>&lt;dbl&gt;</th><th scope=col>&lt;chr&gt;</th></tr>\n",
       "</thead>\n",
       "<tbody>\n",
       "\t<tr><td>1</td><td>a</td></tr>\n",
       "\t<tr><td>2</td><td>b</td></tr>\n",
       "\t<tr><td>3</td><td>c</td></tr>\n",
       "\t<tr><td>4</td><td>d</td></tr>\n",
       "\t<tr><td>5</td><td>e</td></tr>\n",
       "</tbody>\n",
       "</table>\n"
      ],
      "text/latex": [
       "A data.frame: 5 × 2\n",
       "\\begin{tabular}{ll}\n",
       " Quantity & Other\\\\\n",
       " <dbl> & <chr>\\\\\n",
       "\\hline\n",
       "\t 1 & a\\\\\n",
       "\t 2 & b\\\\\n",
       "\t 3 & c\\\\\n",
       "\t 4 & d\\\\\n",
       "\t 5 & e\\\\\n",
       "\\end{tabular}\n"
      ],
      "text/markdown": [
       "\n",
       "A data.frame: 5 × 2\n",
       "\n",
       "| Quantity &lt;dbl&gt; | Other &lt;chr&gt; |\n",
       "|---|---|\n",
       "| 1 | a |\n",
       "| 2 | b |\n",
       "| 3 | c |\n",
       "| 4 | d |\n",
       "| 5 | e |\n",
       "\n"
      ],
      "text/plain": [
       "  Quantity Other\n",
       "1 1        a    \n",
       "2 2        b    \n",
       "3 3        c    \n",
       "4 4        d    \n",
       "5 5        e    "
      ]
     },
     "metadata": {},
     "output_type": "display_data"
    },
    {
     "name": "stdout",
     "output_type": "stream",
     "text": [
      "  Quantity Other\n",
      "1        1     a\n",
      "2        2     b\n",
      "3        3     c\n",
      "4        0     d\n",
      "5        2     d\n",
      "6        2     d\n",
      "7        5     e\n"
     ]
    }
   ],
   "source": [
    "# Assuming 'df' is your dataframe and 'Quantity' is your column\n",
    "df <- data.frame(Quantity = c(1, 2, 3, 4, 5), Other = c('a', 'b', 'c', 'd', 'e'))\n",
    "test_values <- c(8, 6)\n",
    "df\n",
    "# Iterate over the test values\n",
    "for(test_value in test_values) {\n",
    "  # Initialize a variable to hold the cumulative sum\n",
    "  cumulative_sum <- 0\n",
    "\n",
    "  # Iterate over the rows\n",
    "  for(i in 1:nrow(df)) {\n",
    "    cumulative_sum <- cumulative_sum + df[i, 'Quantity']\n",
    "    \n",
    "    # Check if the cumulative sum exceeds the test value\n",
    "    if(cumulative_sum > test_value) {\n",
    "      # Calculate the overage and the adjusted quantity\n",
    "      overage <- cumulative_sum - test_value\n",
    "      remainder <- df[i, 'Quantity'] - overage\n",
    "      \n",
    "      # Update the quantity in the current row\n",
    "      df[i, 'Quantity'] <- remainder\n",
    "      \n",
    "      # Create a new row with the overage quantity\n",
    "      new_row <- df[i, ]\n",
    "      new_row['Quantity'] <- overage\n",
    "      \n",
    "      # Insert the new row into the dataframe immediately below the current row\n",
    "      df <- df %>% \n",
    "        add_row(.before = i+1, !!!new_row)\n",
    "      \n",
    "      # Break the loop\n",
    "      break\n",
    "    }\n",
    "  }\n",
    "}\n",
    "\n",
    "# Print the updated dataframe\n",
    "print(df)\n"
   ]
  },
  {
   "cell_type": "markdown",
   "id": "f6095738-cd26-407b-8006-5a0441571876",
   "metadata": {},
   "source": [
    "## <font color = lime> Keeper!  It works"
   ]
  },
  {
   "cell_type": "code",
   "execution_count": 9,
   "id": "d3562b24-5e47-4bff-99d2-f36a1d23ddca",
   "metadata": {
    "tags": []
   },
   "outputs": [
    {
     "name": "stdout",
     "output_type": "stream",
     "text": [
      "[1] 1\n",
      "[1] \"match amount\"\n"
     ]
    },
    {
     "data": {
      "text/html": [
       "<table class=\"dataframe\">\n",
       "<caption>A data.frame: 3 × 14</caption>\n",
       "<thead>\n",
       "\t<tr><th></th><th scope=col>index</th><th scope=col>date</th><th scope=col>cost</th><th scope=col>quan</th><th scope=col>tally_q</th><th scope=col>tally_c</th><th scope=col>date_s</th><th scope=col>proceeds</th><th scope=col>tally_q2</th><th scope=col>tally_c2</th><th scope=col>sold</th><th scope=col>tally_s</th><th scope=col>remain</th><th scope=col>X</th></tr>\n",
       "\t<tr><th></th><th scope=col>&lt;int&gt;</th><th scope=col>&lt;chr&gt;</th><th scope=col>&lt;dbl&gt;</th><th scope=col>&lt;dbl&gt;</th><th scope=col>&lt;dbl&gt;</th><th scope=col>&lt;dbl&gt;</th><th scope=col>&lt;chr&gt;</th><th scope=col>&lt;dbl&gt;</th><th scope=col>&lt;dbl&gt;</th><th scope=col>&lt;dbl&gt;</th><th scope=col>&lt;int&gt;</th><th scope=col>&lt;int&gt;</th><th scope=col>&lt;int&gt;</th><th scope=col>&lt;lgl&gt;</th></tr>\n",
       "</thead>\n",
       "<tbody>\n",
       "\t<tr><th scope=row>73</th><td>72</td><td>3/3/2023 </td><td>605.17</td><td>100</td><td>36850</td><td>206630.7</td><td>6/2/2023</td><td>453.98</td><td>200</td><td>1149.67</td><td>   0</td><td>    0</td><td> 0</td><td>NA</td></tr>\n",
       "\t<tr><th scope=row>74</th><td>73</td><td>4/27/2023</td><td>544.50</td><td>100</td><td>36950</td><td>207175.2</td><td>6/2/2023</td><td>453.98</td><td>100</td><td> 544.50</td><td>1100</td><td>36950</td><td> 0</td><td>NA</td></tr>\n",
       "\t<tr><th scope=row>75</th><td>NA</td><td>         </td><td>    NA</td><td> NA</td><td>   NA</td><td>      NA</td><td>        </td><td>    NA</td><td> NA</td><td>     NA</td><td>  NA</td><td>   NA</td><td>NA</td><td>NA</td></tr>\n",
       "</tbody>\n",
       "</table>\n"
      ],
      "text/latex": [
       "A data.frame: 3 × 14\n",
       "\\begin{tabular}{r|llllllllllllll}\n",
       "  & index & date & cost & quan & tally\\_q & tally\\_c & date\\_s & proceeds & tally\\_q2 & tally\\_c2 & sold & tally\\_s & remain & X\\\\\n",
       "  & <int> & <chr> & <dbl> & <dbl> & <dbl> & <dbl> & <chr> & <dbl> & <dbl> & <dbl> & <int> & <int> & <int> & <lgl>\\\\\n",
       "\\hline\n",
       "\t73 & 72 & 3/3/2023  & 605.17 & 100 & 36850 & 206630.7 & 6/2/2023 & 453.98 & 200 & 1149.67 &    0 &     0 &  0 & NA\\\\\n",
       "\t74 & 73 & 4/27/2023 & 544.50 & 100 & 36950 & 207175.2 & 6/2/2023 & 453.98 & 100 &  544.50 & 1100 & 36950 &  0 & NA\\\\\n",
       "\t75 & NA &           &     NA &  NA &    NA &       NA &          &     NA &  NA &      NA &   NA &    NA & NA & NA\\\\\n",
       "\\end{tabular}\n"
      ],
      "text/markdown": [
       "\n",
       "A data.frame: 3 × 14\n",
       "\n",
       "| <!--/--> | index &lt;int&gt; | date &lt;chr&gt; | cost &lt;dbl&gt; | quan &lt;dbl&gt; | tally_q &lt;dbl&gt; | tally_c &lt;dbl&gt; | date_s &lt;chr&gt; | proceeds &lt;dbl&gt; | tally_q2 &lt;dbl&gt; | tally_c2 &lt;dbl&gt; | sold &lt;int&gt; | tally_s &lt;int&gt; | remain &lt;int&gt; | X &lt;lgl&gt; |\n",
       "|---|---|---|---|---|---|---|---|---|---|---|---|---|---|---|\n",
       "| 73 | 72 | 3/3/2023  | 605.17 | 100 | 36850 | 206630.7 | 6/2/2023 | 453.98 | 200 | 1149.67 |    0 |     0 |  0 | NA |\n",
       "| 74 | 73 | 4/27/2023 | 544.50 | 100 | 36950 | 207175.2 | 6/2/2023 | 453.98 | 100 |  544.50 | 1100 | 36950 |  0 | NA |\n",
       "| 75 | NA | <!----> |     NA |  NA |    NA |       NA | <!----> |     NA |  NA |      NA |   NA |    NA | NA | NA |\n",
       "\n"
      ],
      "text/plain": [
       "   index date      cost   quan tally_q tally_c  date_s   proceeds tally_q2\n",
       "73 72    3/3/2023  605.17 100  36850   206630.7 6/2/2023 453.98   200     \n",
       "74 73    4/27/2023 544.50 100  36950   207175.2 6/2/2023 453.98   100     \n",
       "75 NA                  NA  NA     NA         NA              NA    NA     \n",
       "   tally_c2 sold tally_s remain X \n",
       "73 1149.67     0     0    0     NA\n",
       "74  544.50  1100 36950    0     NA\n",
       "75      NA    NA    NA   NA     NA"
      ]
     },
     "metadata": {},
     "output_type": "display_data"
    },
    {
     "data": {
      "text/html": [
       "<table class=\"dataframe\">\n",
       "<caption>A data.frame: 0 × 14</caption>\n",
       "<thead>\n",
       "\t<tr><th scope=col>index</th><th scope=col>date</th><th scope=col>cost</th><th scope=col>quan</th><th scope=col>tally_q</th><th scope=col>tally_c</th><th scope=col>date_s</th><th scope=col>proceeds</th><th scope=col>tally_q2</th><th scope=col>tally_c2</th><th scope=col>sold</th><th scope=col>tally_s</th><th scope=col>remain</th><th scope=col>X</th></tr>\n",
       "\t<tr><th scope=col>&lt;int&gt;</th><th scope=col>&lt;chr&gt;</th><th scope=col>&lt;dbl&gt;</th><th scope=col>&lt;dbl&gt;</th><th scope=col>&lt;dbl&gt;</th><th scope=col>&lt;dbl&gt;</th><th scope=col>&lt;chr&gt;</th><th scope=col>&lt;dbl&gt;</th><th scope=col>&lt;dbl&gt;</th><th scope=col>&lt;dbl&gt;</th><th scope=col>&lt;int&gt;</th><th scope=col>&lt;int&gt;</th><th scope=col>&lt;int&gt;</th><th scope=col>&lt;lgl&gt;</th></tr>\n",
       "</thead>\n",
       "<tbody>\n",
       "</tbody>\n",
       "</table>\n"
      ],
      "text/latex": [
       "A data.frame: 0 × 14\n",
       "\\begin{tabular}{llllllllllllll}\n",
       " index & date & cost & quan & tally\\_q & tally\\_c & date\\_s & proceeds & tally\\_q2 & tally\\_c2 & sold & tally\\_s & remain & X\\\\\n",
       " <int> & <chr> & <dbl> & <dbl> & <dbl> & <dbl> & <chr> & <dbl> & <dbl> & <dbl> & <int> & <int> & <int> & <lgl>\\\\\n",
       "\\hline\n",
       "\\end{tabular}\n"
      ],
      "text/markdown": [
       "\n",
       "A data.frame: 0 × 14\n",
       "\n",
       "| index &lt;int&gt; | date &lt;chr&gt; | cost &lt;dbl&gt; | quan &lt;dbl&gt; | tally_q &lt;dbl&gt; | tally_c &lt;dbl&gt; | date_s &lt;chr&gt; | proceeds &lt;dbl&gt; | tally_q2 &lt;dbl&gt; | tally_c2 &lt;dbl&gt; | sold &lt;int&gt; | tally_s &lt;int&gt; | remain &lt;int&gt; | X &lt;lgl&gt; |\n",
       "|---|---|---|---|---|---|---|---|---|---|---|---|---|---|\n",
       "\n"
      ],
      "text/plain": [
       "     index date cost quan tally_q tally_c date_s proceeds tally_q2 tally_c2\n",
       "     sold tally_s remain X"
      ]
     },
     "metadata": {},
     "output_type": "display_data"
    }
   ],
   "source": [
    "df <- read.csv(\"TestAllocate.csv\", header = TRUE, sep = \",\")\n",
    "# df$X <- NULL\n",
    "# df$X.1 <- NULL\n",
    "# df$X.2 <- NULL\n",
    "\n",
    "\n",
    "\n",
    "ct <<- 1\n",
    "test_value <- c(850)\n",
    "rat1 <<- 0\n",
    "\n",
    "# function to allocate values within a df\n",
    "inter <- function(df, test_value, ct) {\n",
    "     cumulative_sum <- 0\n",
    "      \n",
    "# Iterate over the rows\n",
    "  for(i in 1:nrow(df)) {\n",
    "      \n",
    "    cumulative_sum <- cumulative_sum + df[i, 'quan']\n",
    "    \n",
    "    # Check if the cumulative sum exceeds the test value\n",
    "    if(cumulative_sum == test_value) {\n",
    "        print(\"match amount\")       \n",
    "        }\n",
    "      \n",
    "    if(cumulative_sum >= test_value) {        \n",
    "           \n",
    "      # Calculate the overage and the adjusted quantity\n",
    "      overage <- cumulative_sum - test_value         # 900 - 700 = 200\n",
    "      remainder <- df[i, 'quan'] - overage   # deduct 200 from existing value \n",
    "       \n",
    "     # establish the ratio - need for row 1 and row 2   \n",
    "     denom_quan <- df[i, 'quan']    # 400    \n",
    "     numer_remainder <- remainder\n",
    "      \n",
    "      # Update the quantity in the current row\n",
    "      df[i, 'quan'] <- remainder            # assign new value to quan\n",
    "        \n",
    "      # Create a new row with the overage quantity (Do it here and not below the changes)\n",
    "      new_row <- df[i, ]\n",
    "      new_row['quan'] <- overage \n",
    "      \n",
    "    \n",
    "    # update the tally_q (first row)\n",
    "      q1 <- df[i, 'tally_q'] - remainder\n",
    "      df[i, 'tally_q'] <- q1\n",
    "        \n",
    "    \n",
    "   # first, establish a ratio to apply to variables in row 1, then allocate the variables\n",
    "       \n",
    "    # create the ratio\n",
    "    rat1 <<- numer_remainder / denom_quan\n",
    "               \n",
    "    # apply ratio to variables in row 1\n",
    "    # cost var\n",
    "    c1 <- df[i, 'cost'] * rat1\n",
    "    df[i, 'cost'] <- c1  \n",
    "    #tally_c var\n",
    "    t_c <- df[i-1,'tally_c'] + c1\n",
    "    df[i, 'tally_c'] <- t_c\n",
    "    #proceeds var\n",
    "    p1 <- df[i, 'proceeds'] * rat1\n",
    "    df[i, 'proceeds'] <- p1\n",
    "    # t_q2 var\n",
    "    t_q2 <- df[i-1, 'tally_q2'] - remainder\n",
    "    df[i, 'tally_q2'] <- t_q2\n",
    "    # t_c2 var\n",
    "    t_c2 <- df[i-1, 'tally_c2'] - c1\n",
    "    df[i, 'tally_c2'] <- t_c2\n",
    "        \n",
    "        \n",
    "    # Insert the new row into the dataframe immediately below the current row\n",
    "    df <- df %>% \n",
    "    add_row(.before = i+1, !!!new_row)\n",
    "    ct <<- i+1        \n",
    "\n",
    "#  PART 2\n",
    "        \n",
    "   # update the values in new row 2 \n",
    "        \n",
    "    # cost var\n",
    "    c2 <- df[ct, 'cost'] * rat1\n",
    "    df[ct, 'cost'] <- c2  \n",
    "    #tally_c var\n",
    "    t_c2 <- df[ct-1,'tally_c'] + c2\n",
    "    df[ct, 'tally_c'] <- t_c2\n",
    "    #proceeds var\n",
    "    p2 <- df[ct, 'proceeds'] * rat1\n",
    "    df[ct, 'proceeds'] <- p2\n",
    "      # t_q2 var\n",
    "    t_q22 <- df[ct-1, 'tally_q2'] - remainder\n",
    "    df[ct, 'tally_q2'] <- t_q22\n",
    "    # t_c2 var\n",
    "    t_c22 <- df[i-1, 'tally_c2'] - c2\n",
    "    df[i, 'tally_c2'] <- t_c22      \n",
    "\n",
    "  # Break the loop and move to the next test value\n",
    "    ct <- ct + 1\n",
    "  break\n",
    "    \n",
    "    }\n",
    "    \n",
    "  }\n",
    "     return(df)\n",
    "}\n",
    "\n",
    "\n",
    "print(ct)\n",
    "# make fct call\n",
    "newdf <- inter(df, test_value, ct) \n",
    "tail(newdf, 3)\n",
    "\n",
    "\n",
    "# Remove the unwanted row of NAs\n",
    "newdf <- newdf[complete.cases(newdf), ]  \n",
    "tail(newdf, 3)\n",
    "\n",
    "\n",
    "\n",
    "# show the returned ct value\n"
   ]
  },
  {
   "cell_type": "code",
   "execution_count": null,
   "id": "0dd91c23-c80f-4a85-8db8-aae3b8fe3c48",
   "metadata": {},
   "outputs": [],
   "source": []
  },
  {
   "cell_type": "code",
   "execution_count": 10,
   "id": "fa511f16-4f41-4aa2-84b7-37b5f36c0d16",
   "metadata": {
    "tags": []
   },
   "outputs": [
    {
     "data": {
      "text/html": [
       "22"
      ],
      "text/latex": [
       "22"
      ],
      "text/markdown": [
       "22"
      ],
      "text/plain": [
       "[1] 22"
      ]
     },
     "metadata": {},
     "output_type": "display_data"
    },
    {
     "name": "stdout",
     "output_type": "stream",
     "text": [
      "[1] \"match amount\"\n",
      "[1] \"match amount\"\n",
      "[1] \"match amount\"\n",
      "[1] \"match amount\"\n",
      "[1] \"match amount\"\n",
      "[1] \"match amount\"\n",
      "[1] \"match amount\"\n",
      "[1] \"match amount\"\n",
      "[1] \"match amount\"\n",
      "[1] \"match amount\"\n",
      "[1] \"match amount\"\n",
      "[1] \"match amount\"\n"
     ]
    },
    {
     "data": {
      "text/html": [
       "17"
      ],
      "text/latex": [
       "17"
      ],
      "text/markdown": [
       "17"
      ],
      "text/plain": [
       "[1] 17"
      ]
     },
     "metadata": {},
     "output_type": "display_data"
    },
    {
     "data": {
      "text/html": [
       "22"
      ],
      "text/latex": [
       "22"
      ],
      "text/markdown": [
       "22"
      ],
      "text/plain": [
       "[1] 22"
      ]
     },
     "metadata": {},
     "output_type": "display_data"
    },
    {
     "data": {
      "text/html": [
       "<table class=\"dataframe\">\n",
       "<caption>A data.frame: 15 × 14</caption>\n",
       "<thead>\n",
       "\t<tr><th></th><th scope=col>index</th><th scope=col>date</th><th scope=col>cost</th><th scope=col>quan</th><th scope=col>tally_q</th><th scope=col>tally_c</th><th scope=col>date_s</th><th scope=col>proceeds</th><th scope=col>tally_q2</th><th scope=col>tally_c2</th><th scope=col>sold</th><th scope=col>tally_s</th><th scope=col>remain</th><th scope=col>X</th></tr>\n",
       "\t<tr><th></th><th scope=col>&lt;int&gt;</th><th scope=col>&lt;chr&gt;</th><th scope=col>&lt;dbl&gt;</th><th scope=col>&lt;dbl&gt;</th><th scope=col>&lt;dbl&gt;</th><th scope=col>&lt;dbl&gt;</th><th scope=col>&lt;chr&gt;</th><th scope=col>&lt;dbl&gt;</th><th scope=col>&lt;dbl&gt;</th><th scope=col>&lt;dbl&gt;</th><th scope=col>&lt;int&gt;</th><th scope=col>&lt;int&gt;</th><th scope=col>&lt;int&gt;</th><th scope=col>&lt;lgl&gt;</th></tr>\n",
       "</thead>\n",
       "<tbody>\n",
       "\t<tr><th scope=row>61</th><td>60</td><td>3/3/2023 </td><td>2649.30</td><td>500</td><td>33350</td><td>188138.5</td><td>4/20/2023</td><td>2494.61</td><td>4100</td><td>21686.02</td><td>   0</td><td>    0</td><td>  0</td><td>NA</td></tr>\n",
       "\t<tr><th scope=row>62</th><td>61</td><td>3/3/2023 </td><td> 844.45</td><td>190</td><td>33540</td><td>188983.0</td><td>4/20/2023</td><td> 944.26</td><td>3600</td><td>19036.72</td><td>   0</td><td>    0</td><td>  0</td><td>NA</td></tr>\n",
       "\t<tr><th scope=row>63</th><td>62</td><td>3/3/2023 </td><td>3600.03</td><td>810</td><td>34350</td><td>192583.0</td><td>4/20/2023</td><td>4013.40</td><td>3410</td><td>18192.27</td><td>   0</td><td>    0</td><td>  0</td><td>NA</td></tr>\n",
       "\t<tr><th scope=row>64</th><td>63</td><td>3/3/2023 </td><td> 516.95</td><td>100</td><td>34450</td><td>193100.0</td><td>4/20/2023</td><td> 498.92</td><td>2600</td><td>14592.24</td><td>   0</td><td>    0</td><td>  0</td><td>NA</td></tr>\n",
       "\t<tr><th scope=row>65</th><td>64</td><td>3/3/2023 </td><td>2069.44</td><td>400</td><td>34850</td><td>195169.4</td><td>4/20/2023</td><td>1995.68</td><td>2500</td><td>14075.29</td><td>   0</td><td>    0</td><td>  0</td><td>NA</td></tr>\n",
       "\t<tr><th scope=row>66</th><td>65</td><td>3/3/2023 </td><td> 562.53</td><td>100</td><td>34950</td><td>195731.9</td><td>5/30/2023</td><td> 458.26</td><td>2100</td><td>12005.85</td><td>5000</td><td>34850</td><td>100</td><td>NA</td></tr>\n",
       "\t<tr><th scope=row>67</th><td>66</td><td>3/3/2023 </td><td> 575.44</td><td>100</td><td>35050</td><td>196307.4</td><td>5/30/2023</td><td> 458.26</td><td>2000</td><td>11443.32</td><td>   0</td><td>    0</td><td>  0</td><td>NA</td></tr>\n",
       "\t<tr><th scope=row>68</th><td>67</td><td>3/3/2023 </td><td>2251.76</td><td>400</td><td>35450</td><td>198559.1</td><td>5/30/2023</td><td>1833.05</td><td>1900</td><td>10867.88</td><td>   0</td><td>    0</td><td>  0</td><td>NA</td></tr>\n",
       "\t<tr><th scope=row>69</th><td>68</td><td>3/3/2023 </td><td>2127.75</td><td>400</td><td>35850</td><td>200686.9</td><td>5/30/2023</td><td>1833.04</td><td>1500</td><td> 8616.12</td><td>1000</td><td>35850</td><td>  0</td><td>NA</td></tr>\n",
       "\t<tr><th scope=row>70</th><td>69</td><td>3/3/2023 </td><td> 618.08</td><td>100</td><td>35950</td><td>201305.0</td><td>6/2/2023 </td><td> 453.98</td><td>1100</td><td> 6488.37</td><td>   0</td><td>    0</td><td>  0</td><td>NA</td></tr>\n",
       "\t<tr><th scope=row>71</th><td>70</td><td>3/3/2023 </td><td>2422.31</td><td>400</td><td>36350</td><td>203727.3</td><td>6/2/2023 </td><td>1815.93</td><td>1000</td><td> 5870.29</td><td>   0</td><td>    0</td><td>  0</td><td>NA</td></tr>\n",
       "\t<tr><th scope=row>72</th><td>71</td><td>3/3/2023 </td><td>2298.31</td><td>400</td><td>36750</td><td>206025.6</td><td>6/2/2023 </td><td>1815.93</td><td> 600</td><td> 3447.98</td><td>   0</td><td>    0</td><td>  0</td><td>NA</td></tr>\n",
       "\t<tr><th scope=row>73</th><td>72</td><td>3/3/2023 </td><td> 605.17</td><td>100</td><td>36850</td><td>206630.7</td><td>6/2/2023 </td><td> 453.98</td><td> 200</td><td> 1149.67</td><td>   0</td><td>    0</td><td>  0</td><td>NA</td></tr>\n",
       "\t<tr><th scope=row>74</th><td>73</td><td>4/27/2023</td><td> 544.50</td><td>100</td><td>36950</td><td>207175.2</td><td>6/2/2023 </td><td> 453.98</td><td> 100</td><td>  544.50</td><td>1100</td><td>36950</td><td>  0</td><td>NA</td></tr>\n",
       "\t<tr><th scope=row>75</th><td>NA</td><td>         </td><td>     NA</td><td> NA</td><td>   NA</td><td>      NA</td><td>         </td><td>     NA</td><td>  NA</td><td>      NA</td><td>  NA</td><td>   NA</td><td> NA</td><td>NA</td></tr>\n",
       "</tbody>\n",
       "</table>\n"
      ],
      "text/latex": [
       "A data.frame: 15 × 14\n",
       "\\begin{tabular}{r|llllllllllllll}\n",
       "  & index & date & cost & quan & tally\\_q & tally\\_c & date\\_s & proceeds & tally\\_q2 & tally\\_c2 & sold & tally\\_s & remain & X\\\\\n",
       "  & <int> & <chr> & <dbl> & <dbl> & <dbl> & <dbl> & <chr> & <dbl> & <dbl> & <dbl> & <int> & <int> & <int> & <lgl>\\\\\n",
       "\\hline\n",
       "\t61 & 60 & 3/3/2023  & 2649.30 & 500 & 33350 & 188138.5 & 4/20/2023 & 2494.61 & 4100 & 21686.02 &    0 &     0 &   0 & NA\\\\\n",
       "\t62 & 61 & 3/3/2023  &  844.45 & 190 & 33540 & 188983.0 & 4/20/2023 &  944.26 & 3600 & 19036.72 &    0 &     0 &   0 & NA\\\\\n",
       "\t63 & 62 & 3/3/2023  & 3600.03 & 810 & 34350 & 192583.0 & 4/20/2023 & 4013.40 & 3410 & 18192.27 &    0 &     0 &   0 & NA\\\\\n",
       "\t64 & 63 & 3/3/2023  &  516.95 & 100 & 34450 & 193100.0 & 4/20/2023 &  498.92 & 2600 & 14592.24 &    0 &     0 &   0 & NA\\\\\n",
       "\t65 & 64 & 3/3/2023  & 2069.44 & 400 & 34850 & 195169.4 & 4/20/2023 & 1995.68 & 2500 & 14075.29 &    0 &     0 &   0 & NA\\\\\n",
       "\t66 & 65 & 3/3/2023  &  562.53 & 100 & 34950 & 195731.9 & 5/30/2023 &  458.26 & 2100 & 12005.85 & 5000 & 34850 & 100 & NA\\\\\n",
       "\t67 & 66 & 3/3/2023  &  575.44 & 100 & 35050 & 196307.4 & 5/30/2023 &  458.26 & 2000 & 11443.32 &    0 &     0 &   0 & NA\\\\\n",
       "\t68 & 67 & 3/3/2023  & 2251.76 & 400 & 35450 & 198559.1 & 5/30/2023 & 1833.05 & 1900 & 10867.88 &    0 &     0 &   0 & NA\\\\\n",
       "\t69 & 68 & 3/3/2023  & 2127.75 & 400 & 35850 & 200686.9 & 5/30/2023 & 1833.04 & 1500 &  8616.12 & 1000 & 35850 &   0 & NA\\\\\n",
       "\t70 & 69 & 3/3/2023  &  618.08 & 100 & 35950 & 201305.0 & 6/2/2023  &  453.98 & 1100 &  6488.37 &    0 &     0 &   0 & NA\\\\\n",
       "\t71 & 70 & 3/3/2023  & 2422.31 & 400 & 36350 & 203727.3 & 6/2/2023  & 1815.93 & 1000 &  5870.29 &    0 &     0 &   0 & NA\\\\\n",
       "\t72 & 71 & 3/3/2023  & 2298.31 & 400 & 36750 & 206025.6 & 6/2/2023  & 1815.93 &  600 &  3447.98 &    0 &     0 &   0 & NA\\\\\n",
       "\t73 & 72 & 3/3/2023  &  605.17 & 100 & 36850 & 206630.7 & 6/2/2023  &  453.98 &  200 &  1149.67 &    0 &     0 &   0 & NA\\\\\n",
       "\t74 & 73 & 4/27/2023 &  544.50 & 100 & 36950 & 207175.2 & 6/2/2023  &  453.98 &  100 &   544.50 & 1100 & 36950 &   0 & NA\\\\\n",
       "\t75 & NA &           &      NA &  NA &    NA &       NA &           &      NA &   NA &       NA &   NA &    NA &  NA & NA\\\\\n",
       "\\end{tabular}\n"
      ],
      "text/markdown": [
       "\n",
       "A data.frame: 15 × 14\n",
       "\n",
       "| <!--/--> | index &lt;int&gt; | date &lt;chr&gt; | cost &lt;dbl&gt; | quan &lt;dbl&gt; | tally_q &lt;dbl&gt; | tally_c &lt;dbl&gt; | date_s &lt;chr&gt; | proceeds &lt;dbl&gt; | tally_q2 &lt;dbl&gt; | tally_c2 &lt;dbl&gt; | sold &lt;int&gt; | tally_s &lt;int&gt; | remain &lt;int&gt; | X &lt;lgl&gt; |\n",
       "|---|---|---|---|---|---|---|---|---|---|---|---|---|---|---|\n",
       "| 61 | 60 | 3/3/2023  | 2649.30 | 500 | 33350 | 188138.5 | 4/20/2023 | 2494.61 | 4100 | 21686.02 |    0 |     0 |   0 | NA |\n",
       "| 62 | 61 | 3/3/2023  |  844.45 | 190 | 33540 | 188983.0 | 4/20/2023 |  944.26 | 3600 | 19036.72 |    0 |     0 |   0 | NA |\n",
       "| 63 | 62 | 3/3/2023  | 3600.03 | 810 | 34350 | 192583.0 | 4/20/2023 | 4013.40 | 3410 | 18192.27 |    0 |     0 |   0 | NA |\n",
       "| 64 | 63 | 3/3/2023  |  516.95 | 100 | 34450 | 193100.0 | 4/20/2023 |  498.92 | 2600 | 14592.24 |    0 |     0 |   0 | NA |\n",
       "| 65 | 64 | 3/3/2023  | 2069.44 | 400 | 34850 | 195169.4 | 4/20/2023 | 1995.68 | 2500 | 14075.29 |    0 |     0 |   0 | NA |\n",
       "| 66 | 65 | 3/3/2023  |  562.53 | 100 | 34950 | 195731.9 | 5/30/2023 |  458.26 | 2100 | 12005.85 | 5000 | 34850 | 100 | NA |\n",
       "| 67 | 66 | 3/3/2023  |  575.44 | 100 | 35050 | 196307.4 | 5/30/2023 |  458.26 | 2000 | 11443.32 |    0 |     0 |   0 | NA |\n",
       "| 68 | 67 | 3/3/2023  | 2251.76 | 400 | 35450 | 198559.1 | 5/30/2023 | 1833.05 | 1900 | 10867.88 |    0 |     0 |   0 | NA |\n",
       "| 69 | 68 | 3/3/2023  | 2127.75 | 400 | 35850 | 200686.9 | 5/30/2023 | 1833.04 | 1500 |  8616.12 | 1000 | 35850 |   0 | NA |\n",
       "| 70 | 69 | 3/3/2023  |  618.08 | 100 | 35950 | 201305.0 | 6/2/2023  |  453.98 | 1100 |  6488.37 |    0 |     0 |   0 | NA |\n",
       "| 71 | 70 | 3/3/2023  | 2422.31 | 400 | 36350 | 203727.3 | 6/2/2023  | 1815.93 | 1000 |  5870.29 |    0 |     0 |   0 | NA |\n",
       "| 72 | 71 | 3/3/2023  | 2298.31 | 400 | 36750 | 206025.6 | 6/2/2023  | 1815.93 |  600 |  3447.98 |    0 |     0 |   0 | NA |\n",
       "| 73 | 72 | 3/3/2023  |  605.17 | 100 | 36850 | 206630.7 | 6/2/2023  |  453.98 |  200 |  1149.67 |    0 |     0 |   0 | NA |\n",
       "| 74 | 73 | 4/27/2023 |  544.50 | 100 | 36950 | 207175.2 | 6/2/2023  |  453.98 |  100 |   544.50 | 1100 | 36950 |   0 | NA |\n",
       "| 75 | NA | <!----> |      NA |  NA |    NA |       NA | <!----> |      NA |   NA |       NA |   NA |    NA |  NA | NA |\n",
       "\n"
      ],
      "text/plain": [
       "   index date      cost    quan tally_q tally_c  date_s    proceeds tally_q2\n",
       "61 60    3/3/2023  2649.30 500  33350   188138.5 4/20/2023 2494.61  4100    \n",
       "62 61    3/3/2023   844.45 190  33540   188983.0 4/20/2023  944.26  3600    \n",
       "63 62    3/3/2023  3600.03 810  34350   192583.0 4/20/2023 4013.40  3410    \n",
       "64 63    3/3/2023   516.95 100  34450   193100.0 4/20/2023  498.92  2600    \n",
       "65 64    3/3/2023  2069.44 400  34850   195169.4 4/20/2023 1995.68  2500    \n",
       "66 65    3/3/2023   562.53 100  34950   195731.9 5/30/2023  458.26  2100    \n",
       "67 66    3/3/2023   575.44 100  35050   196307.4 5/30/2023  458.26  2000    \n",
       "68 67    3/3/2023  2251.76 400  35450   198559.1 5/30/2023 1833.05  1900    \n",
       "69 68    3/3/2023  2127.75 400  35850   200686.9 5/30/2023 1833.04  1500    \n",
       "70 69    3/3/2023   618.08 100  35950   201305.0 6/2/2023   453.98  1100    \n",
       "71 70    3/3/2023  2422.31 400  36350   203727.3 6/2/2023  1815.93  1000    \n",
       "72 71    3/3/2023  2298.31 400  36750   206025.6 6/2/2023  1815.93   600    \n",
       "73 72    3/3/2023   605.17 100  36850   206630.7 6/2/2023   453.98   200    \n",
       "74 73    4/27/2023  544.50 100  36950   207175.2 6/2/2023   453.98   100    \n",
       "75 NA                   NA  NA     NA         NA                NA    NA    \n",
       "   tally_c2 sold tally_s remain X \n",
       "61 21686.02    0     0     0    NA\n",
       "62 19036.72    0     0     0    NA\n",
       "63 18192.27    0     0     0    NA\n",
       "64 14592.24    0     0     0    NA\n",
       "65 14075.29    0     0     0    NA\n",
       "66 12005.85 5000 34850   100    NA\n",
       "67 11443.32    0     0     0    NA\n",
       "68 10867.88    0     0     0    NA\n",
       "69  8616.12 1000 35850     0    NA\n",
       "70  6488.37    0     0     0    NA\n",
       "71  5870.29    0     0     0    NA\n",
       "72  3447.98    0     0     0    NA\n",
       "73  1149.67    0     0     0    NA\n",
       "74   544.50 1100 36950     0    NA\n",
       "75       NA   NA    NA    NA    NA"
      ]
     },
     "metadata": {},
     "output_type": "display_data"
    }
   ],
   "source": [
    "df <- read.csv(\"TestAllocate.csv\", header = TRUE, sep = \",\")\n",
    "ct <<- 1\n",
    "ct2 <<- 2\n",
    "\n",
    "sales <- c(1000,1000,1000,100,900,3000,6000,1000,1850,3000,3000,\n",
    "           500,2000,3000,500,2000,810,1000,190,3000,1000,1100)\n",
    "length(sales)\n",
    "\n",
    "for(i in 1:length(sales)-1) {\n",
    "    mod_df <- inter(df, sales[ct], ct)\n",
    "    # okay ... prints 22 times the length of sales \n",
    "    \n",
    "    #print(mod_df)\n",
    "    ct <<- ct + 1\n",
    "    # dont need the following code\n",
    "    # df <- df[complete.cases(df), ]\n",
    "    # ct <- ct + 1\n",
    "    \n",
    "    ct2 <- i + 1\n",
    "    }    \n",
    "ct\n",
    "ct2\n",
    "tail(mod_df,15)"
   ]
  },
  {
   "cell_type": "code",
   "execution_count": null,
   "id": "bd31bd4c-a159-4bbc-b874-6384bfc4c6b5",
   "metadata": {},
   "outputs": [],
   "source": []
  },
  {
   "cell_type": "code",
   "execution_count": 11,
   "id": "def8201b-3bcc-45a4-b5f1-2c5c73b52612",
   "metadata": {},
   "outputs": [
    {
     "data": {
      "text/html": [
       "36950"
      ],
      "text/latex": [
       "36950"
      ],
      "text/markdown": [
       "36950"
      ],
      "text/plain": [
       "[1] 36950"
      ]
     },
     "metadata": {},
     "output_type": "display_data"
    }
   ],
   "source": [
    "\n",
    "sales <- c(1000,1000,1000,100,900,3000,6000,1000,1850,3000,\n",
    "           3000,500,2000,3000,500,2000,810,1000,190,3000,1000,1100)\n",
    "\n",
    "ct <- 0\n",
    "\n",
    "for(i in 1:length(sales)) {\n",
    "    #tally sales\n",
    "    ct <<- ct + sales[i]\n",
    "    }    \n",
    "ct\n",
    "\n"
   ]
  },
  {
   "cell_type": "code",
   "execution_count": null,
   "id": "4c810b0a-0213-4baa-9815-ec70f1687b16",
   "metadata": {},
   "outputs": [],
   "source": []
  },
  {
   "cell_type": "code",
   "execution_count": 12,
   "id": "2e313289-f461-49a5-9f31-69b213313b91",
   "metadata": {},
   "outputs": [
    {
     "data": {
      "text/html": [
       "22"
      ],
      "text/latex": [
       "22"
      ],
      "text/markdown": [
       "22"
      ],
      "text/plain": [
       "[1] 22"
      ]
     },
     "metadata": {},
     "output_type": "display_data"
    },
    {
     "name": "stdout",
     "output_type": "stream",
     "text": [
      " num [1:22] 1000 1000 1000 100 900 3000 6000 1000 1850 3000 ...\n"
     ]
    },
    {
     "data": {
      "text/html": [
       "36950"
      ],
      "text/latex": [
       "36950"
      ],
      "text/markdown": [
       "36950"
      ],
      "text/plain": [
       "[1] 36950"
      ]
     },
     "metadata": {},
     "output_type": "display_data"
    }
   ],
   "source": [
    "# This demonstrates preventing the loop exceeding the index that creates errors\n",
    "\n",
    "df <- read.csv(\"TestAllocate.csv\", header = TRUE, sep = \",\")\n",
    "\n",
    "ct <- 0\n",
    "\n",
    "sales <- c(1000,1000,1000,100,900,3000,6000,1000,1850,\n",
    "           3000,3000,500,2000,3000,500,2000,810,1000,190,3000,1000,1100)\n",
    "\n",
    "length(sales)\n",
    "str(sales)\n",
    "\n",
    "start_row <- 1\n",
    "\n",
    "for(i in start_row:nrow(df)) {\n",
    "        \n",
    "    if(df[i, 'quan'] <= sales[i])  {\n",
    "        temp <- df[i, 'quan'] \n",
    "        df[i,'quan'] <- temp\n",
    "        ct <<- ct + sales[i]\n",
    "       # print(paste0(\"ct is \", ct))\n",
    "    } else {\n",
    "        ct <<- ct + sales[i]\n",
    "        # print(paste0(\"ct is \", ct))\n",
    "        }\n",
    "    \n",
    "    # To prevent going past index by 1 \n",
    "    start_row <- start_row + 1\n",
    "    if(start_row > length(sales) ) {\n",
    "        break\n",
    "    }\n",
    " }\n",
    " \n",
    "#tally of ct\n",
    "ct"
   ]
  },
  {
   "cell_type": "code",
   "execution_count": 13,
   "id": "24698746-04e2-413f-8903-f4472661b1a2",
   "metadata": {},
   "outputs": [
    {
     "data": {
      "text/html": [
       "22"
      ],
      "text/latex": [
       "22"
      ],
      "text/markdown": [
       "22"
      ],
      "text/plain": [
       "[1] 22"
      ]
     },
     "metadata": {},
     "output_type": "display_data"
    },
    {
     "name": "stdout",
     "output_type": "stream",
     "text": [
      "[1] \"value of temp is 250\"\n",
      "[1] 1000\n",
      "[1] \"count is: 1\"\n",
      "[1] \"value of temp is 100\"\n",
      "[1] 1000\n",
      "[1] \"count is: 2\"\n",
      "[1] \"value of temp is 100\"\n",
      "[1] 1000\n",
      "[1] \"count is: 3\"\n",
      "[1] \"value of temp is 100\"\n",
      "[1] 100\n",
      "[1] \"count is: 4\"\n",
      "[1] \"value of temp is 50\"\n",
      "[1] 900\n",
      "[1] \"count is: 5\"\n",
      "[1] \"value of temp is 150\"\n",
      "[1] 3000\n",
      "[1] \"count is: 6\"\n",
      "[1] \"value of temp is 100\"\n",
      "[1] 6000\n",
      "[1] \"count is: 7\"\n",
      "[1] \"value of temp is 50\"\n",
      "[1] 1000\n",
      "[1] \"count is: 8\"\n",
      "[1] \"value of temp is 100\"\n",
      "[1] 1850\n",
      "[1] \"count is: 9\"\n",
      "[1] \"value of temp is 850\"\n",
      "[1] 3000\n",
      "[1] \"count is: 10\"\n",
      "[1] \"value of temp is 50\"\n",
      "[1] 3000\n",
      "[1] \"count is: 11\"\n",
      "[1] \"value of temp is 50\"\n",
      "[1] 500\n",
      "[1] \"count is: 12\"\n",
      "[1] \"value of temp is 50\"\n",
      "[1] 2000\n",
      "[1] \"count is: 13\"\n",
      "[1] \"value of temp is 500\"\n",
      "[1] 3000\n",
      "[1] \"count is: 14\"\n",
      "[1] \"The tally is :14\"\n"
     ]
    },
    {
     "data": {
      "text/html": [
       "14"
      ],
      "text/latex": [
       "14"
      ],
      "text/markdown": [
       "14"
      ],
      "text/plain": [
       "[1] 14"
      ]
     },
     "metadata": {},
     "output_type": "display_data"
    },
    {
     "data": {
      "text/html": [
       "<table class=\"dataframe\">\n",
       "<caption>A data.frame: 3 × 14</caption>\n",
       "<thead>\n",
       "\t<tr><th></th><th scope=col>index</th><th scope=col>date</th><th scope=col>cost</th><th scope=col>quan</th><th scope=col>tally_q</th><th scope=col>tally_c</th><th scope=col>date_s</th><th scope=col>proceeds</th><th scope=col>tally_q2</th><th scope=col>tally_c2</th><th scope=col>sold</th><th scope=col>tally_s</th><th scope=col>remain</th><th scope=col>X</th></tr>\n",
       "\t<tr><th></th><th scope=col>&lt;int&gt;</th><th scope=col>&lt;chr&gt;</th><th scope=col>&lt;dbl&gt;</th><th scope=col>&lt;dbl&gt;</th><th scope=col>&lt;int&gt;</th><th scope=col>&lt;dbl&gt;</th><th scope=col>&lt;chr&gt;</th><th scope=col>&lt;dbl&gt;</th><th scope=col>&lt;int&gt;</th><th scope=col>&lt;dbl&gt;</th><th scope=col>&lt;int&gt;</th><th scope=col>&lt;int&gt;</th><th scope=col>&lt;int&gt;</th><th scope=col>&lt;lgl&gt;</th></tr>\n",
       "</thead>\n",
       "<tbody>\n",
       "\t<tr><th scope=row>1</th><td>1</td><td>11/30/2022</td><td>1827.03</td><td>260</td><td>250</td><td>1827.03</td><td>1/27/2023</td><td>1378.03</td><td>  250</td><td>  1827.03</td><td>0</td><td>0</td><td>0</td><td>NA</td></tr>\n",
       "\t<tr><th scope=row>2</th><td>2</td><td>11/30/2022</td><td> 499.59</td><td>110</td><td>350</td><td>2326.62</td><td>2/3/2023 </td><td> 585.47</td><td>36700</td><td>205348.21</td><td>0</td><td>0</td><td>0</td><td>NA</td></tr>\n",
       "\t<tr><th scope=row>3</th><td>3</td><td>11/30/2022</td><td> 652.92</td><td>110</td><td>450</td><td>2979.54</td><td>2/3/2023 </td><td> 625.47</td><td>36600</td><td>204848.62</td><td>0</td><td>0</td><td>0</td><td>NA</td></tr>\n",
       "</tbody>\n",
       "</table>\n"
      ],
      "text/latex": [
       "A data.frame: 3 × 14\n",
       "\\begin{tabular}{r|llllllllllllll}\n",
       "  & index & date & cost & quan & tally\\_q & tally\\_c & date\\_s & proceeds & tally\\_q2 & tally\\_c2 & sold & tally\\_s & remain & X\\\\\n",
       "  & <int> & <chr> & <dbl> & <dbl> & <int> & <dbl> & <chr> & <dbl> & <int> & <dbl> & <int> & <int> & <int> & <lgl>\\\\\n",
       "\\hline\n",
       "\t1 & 1 & 11/30/2022 & 1827.03 & 260 & 250 & 1827.03 & 1/27/2023 & 1378.03 &   250 &   1827.03 & 0 & 0 & 0 & NA\\\\\n",
       "\t2 & 2 & 11/30/2022 &  499.59 & 110 & 350 & 2326.62 & 2/3/2023  &  585.47 & 36700 & 205348.21 & 0 & 0 & 0 & NA\\\\\n",
       "\t3 & 3 & 11/30/2022 &  652.92 & 110 & 450 & 2979.54 & 2/3/2023  &  625.47 & 36600 & 204848.62 & 0 & 0 & 0 & NA\\\\\n",
       "\\end{tabular}\n"
      ],
      "text/markdown": [
       "\n",
       "A data.frame: 3 × 14\n",
       "\n",
       "| <!--/--> | index &lt;int&gt; | date &lt;chr&gt; | cost &lt;dbl&gt; | quan &lt;dbl&gt; | tally_q &lt;int&gt; | tally_c &lt;dbl&gt; | date_s &lt;chr&gt; | proceeds &lt;dbl&gt; | tally_q2 &lt;int&gt; | tally_c2 &lt;dbl&gt; | sold &lt;int&gt; | tally_s &lt;int&gt; | remain &lt;int&gt; | X &lt;lgl&gt; |\n",
       "|---|---|---|---|---|---|---|---|---|---|---|---|---|---|---|\n",
       "| 1 | 1 | 11/30/2022 | 1827.03 | 260 | 250 | 1827.03 | 1/27/2023 | 1378.03 |   250 |   1827.03 | 0 | 0 | 0 | NA |\n",
       "| 2 | 2 | 11/30/2022 |  499.59 | 110 | 350 | 2326.62 | 2/3/2023  |  585.47 | 36700 | 205348.21 | 0 | 0 | 0 | NA |\n",
       "| 3 | 3 | 11/30/2022 |  652.92 | 110 | 450 | 2979.54 | 2/3/2023  |  625.47 | 36600 | 204848.62 | 0 | 0 | 0 | NA |\n",
       "\n"
      ],
      "text/plain": [
       "  index date       cost    quan tally_q tally_c date_s    proceeds tally_q2\n",
       "1 1     11/30/2022 1827.03 260  250     1827.03 1/27/2023 1378.03    250   \n",
       "2 2     11/30/2022  499.59 110  350     2326.62 2/3/2023   585.47  36700   \n",
       "3 3     11/30/2022  652.92 110  450     2979.54 2/3/2023   625.47  36600   \n",
       "  tally_c2  sold tally_s remain X \n",
       "1   1827.03 0    0       0      NA\n",
       "2 205348.21 0    0       0      NA\n",
       "3 204848.62 0    0       0      NA"
      ]
     },
     "metadata": {},
     "output_type": "display_data"
    }
   ],
   "source": [
    "# demonstrates looping 10 times\n",
    "\n",
    "sales <- c(1000,1000,1000,100,900,3000,6000,1000,1850,3000,3000,\n",
    "           500,2000,3000,500,2000,810,1000,190,3000,1000,1100)\n",
    "\n",
    "ct <- 0\n",
    "\n",
    "length(sales)\n",
    "# str(sales)\n",
    "tally <- 0\n",
    "start_row <- 1\n",
    "\n",
    "for(i in 1:length(df))  { \n",
    "    \n",
    "    tally <- tally + 1 \n",
    "    \n",
    "    # demonstrate rplacing values in the df$quan for each item in sales vector\n",
    "    temp <- df[i, 'quan'] \n",
    "    # demonstrates the changes to quan\n",
    "    print(paste0(\"value of temp is \", temp))\n",
    "    # demonstrates looping through the sales vector\n",
    "    print(sales[i])\n",
    "    \n",
    "#   if(cumulative_sum >= test_value) {         \n",
    "    if(temp <= sales[i])  {\n",
    "        # add 10 to each existing quan value\n",
    "        df[i,'quan'] <- temp + 10\n",
    "        ct <<- ct + 1\n",
    "    } \n",
    "    else {\n",
    "      ct <<- ct + 1\n",
    "        }\n",
    "    start_row <- start_row + 1\n",
    "    print(paste0(\"count is: \", ct))\n",
    "}\n",
    " \n",
    "print(paste0(\"The tally is :\", tally))\n",
    "ct\n",
    "head(df,3)"
   ]
  },
  {
   "cell_type": "code",
   "execution_count": null,
   "id": "5e3a0f9b-efd1-4c27-b2e8-2303687708ee",
   "metadata": {},
   "outputs": [],
   "source": []
  },
  {
   "cell_type": "code",
   "execution_count": 14,
   "id": "8c50a684-f37b-4d6a-9067-804031e37591",
   "metadata": {},
   "outputs": [
    {
     "name": "stdout",
     "output_type": "stream",
     "text": [
      "[1] 250\n",
      "[1] 1\n",
      "[1] 100\n",
      "[1] 2\n",
      "[1] 100\n",
      "[1] 3\n",
      "[1] 100\n",
      "[1] 4\n",
      "[1] 50\n",
      "[1] 5\n",
      "[1] 150\n",
      "[1] 6\n",
      "[1] 100\n",
      "[1] 7\n",
      "[1] 50\n",
      "[1] 8\n",
      "[1] 100\n",
      "[1] 9\n",
      "[1] 850\n",
      "[1] 10\n",
      "[1] 50\n",
      "[1] 11\n",
      "[1] 50\n",
      "[1] 12\n",
      "[1] 50\n",
      "[1] 13\n",
      "[1] 500\n",
      "[1] 14\n",
      "[1] 500\n",
      "[1] 15\n",
      "[1] 500\n",
      "[1] 16\n",
      "[1] 500\n",
      "[1] 17\n",
      "[1] 500\n",
      "[1] 18\n",
      "[1] 50\n",
      "[1] 19\n",
      "[1] 200\n",
      "[1] 20\n",
      "[1] 50\n",
      "[1] 21\n",
      "[1] 50\n",
      "[1] 22\n"
     ]
    },
    {
     "data": {
      "text/html": [
       "22"
      ],
      "text/latex": [
       "22"
      ],
      "text/markdown": [
       "22"
      ],
      "text/plain": [
       "[1] 22"
      ]
     },
     "metadata": {},
     "output_type": "display_data"
    },
    {
     "data": {
      "text/html": [
       "74"
      ],
      "text/latex": [
       "74"
      ],
      "text/markdown": [
       "74"
      ],
      "text/plain": [
       "[1] 74"
      ]
     },
     "metadata": {},
     "output_type": "display_data"
    },
    {
     "data": {
      "text/html": [
       "<table class=\"dataframe\">\n",
       "<caption>A data.frame: 4 × 14</caption>\n",
       "<thead>\n",
       "\t<tr><th></th><th scope=col>index</th><th scope=col>date</th><th scope=col>cost</th><th scope=col>quan</th><th scope=col>tally_q</th><th scope=col>tally_c</th><th scope=col>date_s</th><th scope=col>proceeds</th><th scope=col>tally_q2</th><th scope=col>tally_c2</th><th scope=col>sold</th><th scope=col>tally_s</th><th scope=col>remain</th><th scope=col>X</th></tr>\n",
       "\t<tr><th></th><th scope=col>&lt;int&gt;</th><th scope=col>&lt;chr&gt;</th><th scope=col>&lt;dbl&gt;</th><th scope=col>&lt;int&gt;</th><th scope=col>&lt;int&gt;</th><th scope=col>&lt;dbl&gt;</th><th scope=col>&lt;chr&gt;</th><th scope=col>&lt;dbl&gt;</th><th scope=col>&lt;int&gt;</th><th scope=col>&lt;dbl&gt;</th><th scope=col>&lt;int&gt;</th><th scope=col>&lt;int&gt;</th><th scope=col>&lt;int&gt;</th><th scope=col>&lt;lgl&gt;</th></tr>\n",
       "</thead>\n",
       "<tbody>\n",
       "\t<tr><th scope=row>1</th><td>1</td><td>11/30/2022</td><td>1827.03</td><td>250</td><td>250</td><td>1827.03</td><td>1/27/2023</td><td>1378.03</td><td>  250</td><td>  1827.03</td><td>0</td><td>0</td><td>0</td><td>NA</td></tr>\n",
       "\t<tr><th scope=row>2</th><td>2</td><td>11/30/2022</td><td> 499.59</td><td>100</td><td>350</td><td>2326.62</td><td>2/3/2023 </td><td> 585.47</td><td>36700</td><td>205348.21</td><td>0</td><td>0</td><td>0</td><td>NA</td></tr>\n",
       "\t<tr><th scope=row>3</th><td>3</td><td>11/30/2022</td><td> 652.92</td><td>100</td><td>450</td><td>2979.54</td><td>2/3/2023 </td><td> 625.47</td><td>36600</td><td>204848.62</td><td>0</td><td>0</td><td>0</td><td>NA</td></tr>\n",
       "\t<tr><th scope=row>4</th><td>4</td><td>11/30/2022</td><td> 742.10</td><td>100</td><td>550</td><td>3721.64</td><td>2/3/2023 </td><td> 667.98</td><td>36500</td><td>204195.70</td><td>0</td><td>0</td><td>0</td><td>NA</td></tr>\n",
       "</tbody>\n",
       "</table>\n"
      ],
      "text/latex": [
       "A data.frame: 4 × 14\n",
       "\\begin{tabular}{r|llllllllllllll}\n",
       "  & index & date & cost & quan & tally\\_q & tally\\_c & date\\_s & proceeds & tally\\_q2 & tally\\_c2 & sold & tally\\_s & remain & X\\\\\n",
       "  & <int> & <chr> & <dbl> & <int> & <int> & <dbl> & <chr> & <dbl> & <int> & <dbl> & <int> & <int> & <int> & <lgl>\\\\\n",
       "\\hline\n",
       "\t1 & 1 & 11/30/2022 & 1827.03 & 250 & 250 & 1827.03 & 1/27/2023 & 1378.03 &   250 &   1827.03 & 0 & 0 & 0 & NA\\\\\n",
       "\t2 & 2 & 11/30/2022 &  499.59 & 100 & 350 & 2326.62 & 2/3/2023  &  585.47 & 36700 & 205348.21 & 0 & 0 & 0 & NA\\\\\n",
       "\t3 & 3 & 11/30/2022 &  652.92 & 100 & 450 & 2979.54 & 2/3/2023  &  625.47 & 36600 & 204848.62 & 0 & 0 & 0 & NA\\\\\n",
       "\t4 & 4 & 11/30/2022 &  742.10 & 100 & 550 & 3721.64 & 2/3/2023  &  667.98 & 36500 & 204195.70 & 0 & 0 & 0 & NA\\\\\n",
       "\\end{tabular}\n"
      ],
      "text/markdown": [
       "\n",
       "A data.frame: 4 × 14\n",
       "\n",
       "| <!--/--> | index &lt;int&gt; | date &lt;chr&gt; | cost &lt;dbl&gt; | quan &lt;int&gt; | tally_q &lt;int&gt; | tally_c &lt;dbl&gt; | date_s &lt;chr&gt; | proceeds &lt;dbl&gt; | tally_q2 &lt;int&gt; | tally_c2 &lt;dbl&gt; | sold &lt;int&gt; | tally_s &lt;int&gt; | remain &lt;int&gt; | X &lt;lgl&gt; |\n",
       "|---|---|---|---|---|---|---|---|---|---|---|---|---|---|---|\n",
       "| 1 | 1 | 11/30/2022 | 1827.03 | 250 | 250 | 1827.03 | 1/27/2023 | 1378.03 |   250 |   1827.03 | 0 | 0 | 0 | NA |\n",
       "| 2 | 2 | 11/30/2022 |  499.59 | 100 | 350 | 2326.62 | 2/3/2023  |  585.47 | 36700 | 205348.21 | 0 | 0 | 0 | NA |\n",
       "| 3 | 3 | 11/30/2022 |  652.92 | 100 | 450 | 2979.54 | 2/3/2023  |  625.47 | 36600 | 204848.62 | 0 | 0 | 0 | NA |\n",
       "| 4 | 4 | 11/30/2022 |  742.10 | 100 | 550 | 3721.64 | 2/3/2023  |  667.98 | 36500 | 204195.70 | 0 | 0 | 0 | NA |\n",
       "\n"
      ],
      "text/plain": [
       "  index date       cost    quan tally_q tally_c date_s    proceeds tally_q2\n",
       "1 1     11/30/2022 1827.03 250  250     1827.03 1/27/2023 1378.03    250   \n",
       "2 2     11/30/2022  499.59 100  350     2326.62 2/3/2023   585.47  36700   \n",
       "3 3     11/30/2022  652.92 100  450     2979.54 2/3/2023   625.47  36600   \n",
       "4 4     11/30/2022  742.10 100  550     3721.64 2/3/2023   667.98  36500   \n",
       "  tally_c2  sold tally_s remain X \n",
       "1   1827.03 0    0       0      NA\n",
       "2 205348.21 0    0       0      NA\n",
       "3 204848.62 0    0       0      NA\n",
       "4 204195.70 0    0       0      NA"
      ]
     },
     "metadata": {},
     "output_type": "display_data"
    }
   ],
   "source": [
    "# No errors, but nothing happened to the df\n",
    "\n",
    "df <- read.csv(\"TestAllocate.csv\", header = TRUE, sep = \",\")\n",
    "\n",
    "cumulative_sum <- 0\n",
    "ct <<- 0\n",
    "start_row <- 1\n",
    "\n",
    "#Iterate over the sales values\n",
    "for(value in sales) {\n",
    "    ct <<- ct + 1\n",
    "    # Iterate over the rows\n",
    "    for(i in start_row:nrow(df)) {\n",
    "        cumulative_sum <- 0\n",
    "        cumulative_sum <- cumulative_sum + df[ct, 'quan']\n",
    "        print(cumulative_sum)\n",
    "        \n",
    "        # check if the cumulative sum equals the test value in sales[i], if so, do nada\n",
    "        if(cumulative_sum <= sales[i]) {\n",
    "            temp <- df[i, 'quan']\n",
    "            df[i, 'quan'] <- temp \n",
    "            start_row <- i + 1\n",
    "            print(ct)\n",
    "            break\n",
    "        }\n",
    "        # Check if the cumulative sum exceeds the test value\n",
    "         if(cumulative_sum >= sales[i]) {        \n",
    "    \n",
    "            # Calculate the overage and the adjusted quantity\n",
    "            overage <- cumulative_sum - test_value         # 900 - 700 = 200\n",
    "            remainder <- df[i, 'quan'] - overage   # deduct 200 from existing value \n",
    "\n",
    "            # establish the ratio - need for row 1 and row 2   \n",
    "            denom_quan <- df[i, 'quan']    # 400    \n",
    "            numer_remainder <- remainder\n",
    "\n",
    "            # Update the quantity in the current row\n",
    "            df[i, 'quan'] <- remainder            # assign new value to quan\n",
    "\n",
    "            # Create a new row with the overage quantity (Do it here and not below the changes)\n",
    "            new_row <- df[i, ]\n",
    "            new_row['quan'] <- overage  \n",
    "\n",
    "            start_row <- i + 1\n",
    "            break\n",
    "        }\n",
    "      }\n",
    "    }\n",
    "ct\n",
    "nrow(df)\n",
    "head(df,4)"
   ]
  },
  {
   "cell_type": "code",
   "execution_count": null,
   "id": "15b01323-0c37-41e0-89e0-99b50734a5c4",
   "metadata": {},
   "outputs": [],
   "source": []
  },
  {
   "cell_type": "code",
   "execution_count": 16,
   "id": "eae9071f-c657-40f5-9a7e-df24cba447d9",
   "metadata": {},
   "outputs": [
    {
     "name": "stdout",
     "output_type": "stream",
     "text": [
      "[1] \"Match found for 1000 at row 45\"\n",
      "[1] \"Match found for 1000 at row 47\"\n",
      "[1] \"Match found for 1000 at row 54\"\n",
      "[1] \"Match found for 100 at row 63\"\n"
     ]
    },
    {
     "ename": "ERROR",
     "evalue": "Error in if (df[i, \"quan\"] == value) {: missing value where TRUE/FALSE needed\n",
     "output_type": "error",
     "traceback": [
      "Error in if (df[i, \"quan\"] == value) {: missing value where TRUE/FALSE needed\nTraceback:\n"
     ]
    }
   ],
   "source": [
    "# Assuming 'vec' is your vector and 'df' is your dataframe\n",
    "vec <- sales\n",
    "start_row <- 1\n",
    "for(value in vec) {\n",
    "  for(i in start_row:nrow(df)) {\n",
    "    if(df[i, 'quan'] == value) {  # Replace 'var' with your actual column name\n",
    "      # Execute your code here\n",
    "      print(paste(\"Match found for\", value, \"at row\", i))\n",
    "      start_row <- i + 1\n",
    "      break\n",
    "    }\n",
    "  }\n",
    "}\n"
   ]
  },
  {
   "cell_type": "code",
   "execution_count": null,
   "id": "82419676-d13b-44f6-bf51-01abfdc4fbd2",
   "metadata": {},
   "outputs": [],
   "source": []
  },
  {
   "cell_type": "code",
   "execution_count": null,
   "id": "513a1030-6817-4480-bfe6-cf6b8bfe829f",
   "metadata": {},
   "outputs": [],
   "source": [
    "stopper\n"
   ]
  },
  {
   "cell_type": "markdown",
   "id": "3589a5b1-95a8-4d5d-9695-ab16fea262c8",
   "metadata": {},
   "source": []
  },
  {
   "cell_type": "markdown",
   "id": "6e8c1387-138b-4c0c-ad9d-b4f32ff96103",
   "metadata": {},
   "source": [
    "## <font color = lime> Keeper Below: Part 2\n",
    "    \n",
    "<div style=\"margin-left:40px;\">\n",
    "Allocate the other data in the matched row\n",
    "</div> \n"
   ]
  },
  {
   "cell_type": "code",
   "execution_count": null,
   "id": "682d44de-a852-44b9-9724-ce9019537aaf",
   "metadata": {},
   "outputs": [],
   "source": []
  },
  {
   "cell_type": "code",
   "execution_count": 17,
   "id": "828cbd30-5186-4927-8685-06377127b035",
   "metadata": {},
   "outputs": [
    {
     "data": {
      "text/html": [
       "8"
      ],
      "text/latex": [
       "8"
      ],
      "text/markdown": [
       "8"
      ],
      "text/plain": [
       "[1] 8"
      ]
     },
     "metadata": {},
     "output_type": "display_data"
    },
    {
     "data": {
      "text/html": [
       "1"
      ],
      "text/latex": [
       "1"
      ],
      "text/markdown": [
       "1"
      ],
      "text/plain": [
       "[1] 1"
      ]
     },
     "metadata": {},
     "output_type": "display_data"
    },
    {
     "data": {
      "text/html": [
       "<table class=\"dataframe\">\n",
       "<caption>A data.frame: 10 × 14</caption>\n",
       "<thead>\n",
       "\t<tr><th></th><th scope=col>index</th><th scope=col>date</th><th scope=col>cost</th><th scope=col>quan</th><th scope=col>tally_q</th><th scope=col>tally_c</th><th scope=col>date_s</th><th scope=col>proceeds</th><th scope=col>tally_q2</th><th scope=col>tally_c2</th><th scope=col>sold</th><th scope=col>tally_s</th><th scope=col>remain</th><th scope=col>X</th></tr>\n",
       "\t<tr><th></th><th scope=col>&lt;int&gt;</th><th scope=col>&lt;chr&gt;</th><th scope=col>&lt;dbl&gt;</th><th scope=col>&lt;dbl&gt;</th><th scope=col>&lt;dbl&gt;</th><th scope=col>&lt;dbl&gt;</th><th scope=col>&lt;chr&gt;</th><th scope=col>&lt;dbl&gt;</th><th scope=col>&lt;dbl&gt;</th><th scope=col>&lt;dbl&gt;</th><th scope=col>&lt;int&gt;</th><th scope=col>&lt;int&gt;</th><th scope=col>&lt;int&gt;</th><th scope=col>&lt;lgl&gt;</th></tr>\n",
       "</thead>\n",
       "<tbody>\n",
       "\t<tr><th scope=row>1</th><td>1</td><td>11/30/2022</td><td>1827.03</td><td>250</td><td> 250</td><td>1827.03</td><td>1/27/2023</td><td>1378.03</td><td>  250</td><td>  1827.03</td><td>   0</td><td>   0</td><td>0</td><td>NA</td></tr>\n",
       "\t<tr><th scope=row>2</th><td>2</td><td>11/30/2022</td><td> 499.59</td><td>100</td><td> 350</td><td>2326.62</td><td>2/3/2023 </td><td> 585.47</td><td>36700</td><td>205348.21</td><td>   0</td><td>   0</td><td>0</td><td>NA</td></tr>\n",
       "\t<tr><th scope=row>3</th><td>3</td><td>11/30/2022</td><td> 652.92</td><td>100</td><td> 450</td><td>2979.54</td><td>2/3/2023 </td><td> 625.47</td><td>36600</td><td>204848.62</td><td>   0</td><td>   0</td><td>0</td><td>NA</td></tr>\n",
       "\t<tr><th scope=row>4</th><td>4</td><td>11/30/2022</td><td> 742.10</td><td>100</td><td> 550</td><td>3721.64</td><td>2/3/2023 </td><td> 667.98</td><td>36500</td><td>204195.70</td><td>   0</td><td>   0</td><td>0</td><td>NA</td></tr>\n",
       "\t<tr><th scope=row>5</th><td>5</td><td>11/30/2022</td><td> 365.40</td><td> 50</td><td> 600</td><td>4087.04</td><td>2/3/2023 </td><td> 333.99</td><td>36400</td><td>203453.60</td><td>   0</td><td>   0</td><td>0</td><td>NA</td></tr>\n",
       "\t<tr><th scope=row>6</th><td>6</td><td>11/30/2022</td><td>1113.15</td><td>150</td><td> 750</td><td>5200.19</td><td>2/3/2023 </td><td> 938.20</td><td>36350</td><td>203088.20</td><td>   0</td><td>   0</td><td>0</td><td>NA</td></tr>\n",
       "\t<tr><th scope=row>7</th><td>7</td><td>11/30/2022</td><td> 640.57</td><td>100</td><td> 750</td><td>5840.76</td><td>2/3/2023 </td><td> 618.98</td><td>36250</td><td>202447.63</td><td>   0</td><td>   0</td><td>0</td><td>NA</td></tr>\n",
       "\t<tr><th scope=row>8</th><td>7</td><td>11/30/2022</td><td> 640.57</td><td>  0</td><td> 850</td><td>6481.33</td><td>2/3/2023 </td><td> 618.98</td><td>36150</td><td>201975.05</td><td>   0</td><td>   0</td><td>0</td><td>NA</td></tr>\n",
       "\t<tr><th scope=row>9</th><td>8</td><td>11/30/2022</td><td> 320.81</td><td> 50</td><td> 900</td><td>6161.57</td><td>2/3/2023 </td><td> 309.49</td><td>36100</td><td>201334.48</td><td>   0</td><td>   0</td><td>0</td><td>NA</td></tr>\n",
       "\t<tr><th scope=row>10</th><td>9</td><td>11/30/2022</td><td> 551.39</td><td>100</td><td>1000</td><td>6712.96</td><td>2/3/2023 </td><td> 618.98</td><td>36050</td><td>201013.67</td><td>1000</td><td>1000</td><td>0</td><td>NA</td></tr>\n",
       "</tbody>\n",
       "</table>\n"
      ],
      "text/latex": [
       "A data.frame: 10 × 14\n",
       "\\begin{tabular}{r|llllllllllllll}\n",
       "  & index & date & cost & quan & tally\\_q & tally\\_c & date\\_s & proceeds & tally\\_q2 & tally\\_c2 & sold & tally\\_s & remain & X\\\\\n",
       "  & <int> & <chr> & <dbl> & <dbl> & <dbl> & <dbl> & <chr> & <dbl> & <dbl> & <dbl> & <int> & <int> & <int> & <lgl>\\\\\n",
       "\\hline\n",
       "\t1 & 1 & 11/30/2022 & 1827.03 & 250 &  250 & 1827.03 & 1/27/2023 & 1378.03 &   250 &   1827.03 &    0 &    0 & 0 & NA\\\\\n",
       "\t2 & 2 & 11/30/2022 &  499.59 & 100 &  350 & 2326.62 & 2/3/2023  &  585.47 & 36700 & 205348.21 &    0 &    0 & 0 & NA\\\\\n",
       "\t3 & 3 & 11/30/2022 &  652.92 & 100 &  450 & 2979.54 & 2/3/2023  &  625.47 & 36600 & 204848.62 &    0 &    0 & 0 & NA\\\\\n",
       "\t4 & 4 & 11/30/2022 &  742.10 & 100 &  550 & 3721.64 & 2/3/2023  &  667.98 & 36500 & 204195.70 &    0 &    0 & 0 & NA\\\\\n",
       "\t5 & 5 & 11/30/2022 &  365.40 &  50 &  600 & 4087.04 & 2/3/2023  &  333.99 & 36400 & 203453.60 &    0 &    0 & 0 & NA\\\\\n",
       "\t6 & 6 & 11/30/2022 & 1113.15 & 150 &  750 & 5200.19 & 2/3/2023  &  938.20 & 36350 & 203088.20 &    0 &    0 & 0 & NA\\\\\n",
       "\t7 & 7 & 11/30/2022 &  640.57 & 100 &  750 & 5840.76 & 2/3/2023  &  618.98 & 36250 & 202447.63 &    0 &    0 & 0 & NA\\\\\n",
       "\t8 & 7 & 11/30/2022 &  640.57 &   0 &  850 & 6481.33 & 2/3/2023  &  618.98 & 36150 & 201975.05 &    0 &    0 & 0 & NA\\\\\n",
       "\t9 & 8 & 11/30/2022 &  320.81 &  50 &  900 & 6161.57 & 2/3/2023  &  309.49 & 36100 & 201334.48 &    0 &    0 & 0 & NA\\\\\n",
       "\t10 & 9 & 11/30/2022 &  551.39 & 100 & 1000 & 6712.96 & 2/3/2023  &  618.98 & 36050 & 201013.67 & 1000 & 1000 & 0 & NA\\\\\n",
       "\\end{tabular}\n"
      ],
      "text/markdown": [
       "\n",
       "A data.frame: 10 × 14\n",
       "\n",
       "| <!--/--> | index &lt;int&gt; | date &lt;chr&gt; | cost &lt;dbl&gt; | quan &lt;dbl&gt; | tally_q &lt;dbl&gt; | tally_c &lt;dbl&gt; | date_s &lt;chr&gt; | proceeds &lt;dbl&gt; | tally_q2 &lt;dbl&gt; | tally_c2 &lt;dbl&gt; | sold &lt;int&gt; | tally_s &lt;int&gt; | remain &lt;int&gt; | X &lt;lgl&gt; |\n",
       "|---|---|---|---|---|---|---|---|---|---|---|---|---|---|---|\n",
       "| 1 | 1 | 11/30/2022 | 1827.03 | 250 |  250 | 1827.03 | 1/27/2023 | 1378.03 |   250 |   1827.03 |    0 |    0 | 0 | NA |\n",
       "| 2 | 2 | 11/30/2022 |  499.59 | 100 |  350 | 2326.62 | 2/3/2023  |  585.47 | 36700 | 205348.21 |    0 |    0 | 0 | NA |\n",
       "| 3 | 3 | 11/30/2022 |  652.92 | 100 |  450 | 2979.54 | 2/3/2023  |  625.47 | 36600 | 204848.62 |    0 |    0 | 0 | NA |\n",
       "| 4 | 4 | 11/30/2022 |  742.10 | 100 |  550 | 3721.64 | 2/3/2023  |  667.98 | 36500 | 204195.70 |    0 |    0 | 0 | NA |\n",
       "| 5 | 5 | 11/30/2022 |  365.40 |  50 |  600 | 4087.04 | 2/3/2023  |  333.99 | 36400 | 203453.60 |    0 |    0 | 0 | NA |\n",
       "| 6 | 6 | 11/30/2022 | 1113.15 | 150 |  750 | 5200.19 | 2/3/2023  |  938.20 | 36350 | 203088.20 |    0 |    0 | 0 | NA |\n",
       "| 7 | 7 | 11/30/2022 |  640.57 | 100 |  750 | 5840.76 | 2/3/2023  |  618.98 | 36250 | 202447.63 |    0 |    0 | 0 | NA |\n",
       "| 8 | 7 | 11/30/2022 |  640.57 |   0 |  850 | 6481.33 | 2/3/2023  |  618.98 | 36150 | 201975.05 |    0 |    0 | 0 | NA |\n",
       "| 9 | 8 | 11/30/2022 |  320.81 |  50 |  900 | 6161.57 | 2/3/2023  |  309.49 | 36100 | 201334.48 |    0 |    0 | 0 | NA |\n",
       "| 10 | 9 | 11/30/2022 |  551.39 | 100 | 1000 | 6712.96 | 2/3/2023  |  618.98 | 36050 | 201013.67 | 1000 | 1000 | 0 | NA |\n",
       "\n"
      ],
      "text/plain": [
       "   index date       cost    quan tally_q tally_c date_s    proceeds tally_q2\n",
       "1  1     11/30/2022 1827.03 250   250    1827.03 1/27/2023 1378.03    250   \n",
       "2  2     11/30/2022  499.59 100   350    2326.62 2/3/2023   585.47  36700   \n",
       "3  3     11/30/2022  652.92 100   450    2979.54 2/3/2023   625.47  36600   \n",
       "4  4     11/30/2022  742.10 100   550    3721.64 2/3/2023   667.98  36500   \n",
       "5  5     11/30/2022  365.40  50   600    4087.04 2/3/2023   333.99  36400   \n",
       "6  6     11/30/2022 1113.15 150   750    5200.19 2/3/2023   938.20  36350   \n",
       "7  7     11/30/2022  640.57 100   750    5840.76 2/3/2023   618.98  36250   \n",
       "8  7     11/30/2022  640.57   0   850    6481.33 2/3/2023   618.98  36150   \n",
       "9  8     11/30/2022  320.81  50   900    6161.57 2/3/2023   309.49  36100   \n",
       "10 9     11/30/2022  551.39 100  1000    6712.96 2/3/2023   618.98  36050   \n",
       "   tally_c2  sold tally_s remain X \n",
       "1    1827.03    0    0    0      NA\n",
       "2  205348.21    0    0    0      NA\n",
       "3  204848.62    0    0    0      NA\n",
       "4  204195.70    0    0    0      NA\n",
       "5  203453.60    0    0    0      NA\n",
       "6  203088.20    0    0    0      NA\n",
       "7  202447.63    0    0    0      NA\n",
       "8  201975.05    0    0    0      NA\n",
       "9  201334.48    0    0    0      NA\n",
       "10 201013.67 1000 1000    0      NA"
      ]
     },
     "metadata": {},
     "output_type": "display_data"
    }
   ],
   "source": [
    "# The function allocated the quan in the row of the match with test_value  = 850\n",
    "# Rows 3 and 4 modified / added new row for the allocation of quan \n",
    "\n",
    "\n",
    "df <- read.csv(\"TestAllocate.csv\", header = TRUE, sep = \",\")\n",
    "\n",
    "ct <<- 0\n",
    "test_value <- c(850)\n",
    "rat1 <<- 0\n",
    "\n",
    "# function to allocate values within a df\n",
    "inter <- function(df, test_value, ct) {\n",
    "     cumulative_sum <- 0\n",
    "      \n",
    "# Iterate over the rows\n",
    "  for(i in 1:nrow(df)) {\n",
    "      \n",
    "    cumulative_sum <- cumulative_sum + df[i, 'quan']\n",
    "    \n",
    "    # Check if the cumulative sum exceeds the test value\n",
    "    \n",
    "      \n",
    "    if(cumulative_sum >= test_value) {\n",
    "        \n",
    "      # Calculate the overage and the adjusted quantity\n",
    "      overage <- cumulative_sum - test_value         # 900 - 700 = 200\n",
    "      remainder <- df[i, 'quan'] - overage   # deduct 200 from existing value \n",
    "       \n",
    "     # establish the ratio - need for row 1 and row 2   \n",
    "     denom_quan <- df[i, 'quan']    # 400    \n",
    "     numer_remainder <- remainder\n",
    "      \n",
    "      # Update the quantity in the current row\n",
    "      df[i, 'quan'] <- remainder            # assign new value to quan\n",
    "        \n",
    "      # Create a new row with the overage quantity (Do it here and not below the changes)\n",
    "      new_row <- df[i, ]\n",
    "      new_row['quan'] <- overage \n",
    "      \n",
    "    \n",
    "    # update the tally_q (first row)\n",
    "      q1 <- df[i, 'tally_q'] - remainder\n",
    "      df[i, 'tally_q'] <- q1\n",
    "        \n",
    "    \n",
    "   # first, establish a ratio to apply to variables in row 1, then allocate the variables\n",
    "       \n",
    "    # create the ratio\n",
    "    rat1 <<- numer_remainder / denom_quan\n",
    "               \n",
    "    # apply ratio to variables in row 1\n",
    "    # cost var\n",
    "    c1 <- df[i, 'cost'] * rat1\n",
    "    df[i, 'cost'] <- c1  \n",
    "    #tally_c var\n",
    "    t_c <- df[i-1,'tally_c'] + c1\n",
    "    df[i, 'tally_c'] <- t_c\n",
    "    #proceeds var\n",
    "    p1 <- df[i, 'proceeds'] * rat1\n",
    "    df[i, 'proceeds'] <- p1\n",
    "    # t_q2 var\n",
    "    t_q2 <- df[i-1, 'tally_q2'] - remainder\n",
    "    df[i, 'tally_q2'] <- t_q2\n",
    "    # t_c2 var\n",
    "    t_c2 <- df[i-1, 'tally_c2'] - c1\n",
    "    df[i, 'tally_c2'] <- t_c2\n",
    "        \n",
    "        \n",
    "    # Insert the new row into the dataframe immediately below the current row\n",
    "    df <- df %>% \n",
    "    add_row(.before = i+1, !!!new_row)\n",
    "    ct <<- i+1        \n",
    "\n",
    "#  PART 2\n",
    "        \n",
    "   # update the values in new row 2 \n",
    "        \n",
    "    # cost var\n",
    "    c2 <- df[ct, 'cost'] * rat1\n",
    "    df[ct, 'cost'] <- c2  \n",
    "    #tally_c var\n",
    "    t_c2 <- df[ct-1,'tally_c'] + c2\n",
    "    df[ct, 'tally_c'] <- t_c2\n",
    "    #proceeds var\n",
    "    p2 <- df[ct, 'proceeds'] * rat1\n",
    "    df[ct, 'proceeds'] <- p2\n",
    "      # t_q2 var\n",
    "    t_q22 <- df[ct-1, 'tally_q2'] - remainder\n",
    "    df[ct, 'tally_q2'] <- t_q22\n",
    "    # t_c2 var\n",
    "    t_c22 <- df[i-1, 'tally_c2'] - c2\n",
    "    df[i, 'tally_c2'] <- t_c22      \n",
    "\n",
    "  # Break the loop and move to the next test value\n",
    "  break\n",
    "    \n",
    "    }\n",
    "    \n",
    "  }\n",
    "     return(df)\n",
    "}\n",
    "\n",
    "# make fct call\n",
    "\n",
    "mod_df <- inter(df, test_value, ct)\n",
    "\n",
    "# show the returned ct and ratio values\n",
    "ct\n",
    "rat1\n",
    "\n",
    "head(mod_df,10)\n",
    "\n"
   ]
  },
  {
   "cell_type": "code",
   "execution_count": null,
   "id": "3f4a0460-2f57-43cf-b039-5ea2a0e9d4aa",
   "metadata": {},
   "outputs": [],
   "source": []
  },
  {
   "cell_type": "markdown",
   "id": "83da2cc7-c97c-4918-bd1e-ca9c32fceb57",
   "metadata": {},
   "source": [
    "## <font color = lime> The Keeper! This works great! Not actual sales values\n",
    "    "
   ]
  },
  {
   "cell_type": "code",
   "execution_count": 18,
   "id": "848e921a-68d4-41bc-bc5c-75bade3225c3",
   "metadata": {},
   "outputs": [],
   "source": [
    "# Moving towards.  Creates a new df from the below the match / new rows \n",
    "#  and eliminates some rows to run the process again\n",
    "\n",
    "\n",
    "df <- read.csv(\"TestAllocate.csv\", header = TRUE, sep = \",\")\n",
    "df1 <- data.frame()\n",
    "\n",
    "ct <<- 0\n",
    "test_value <- c(850)\n",
    "rat1 <<- 0\n",
    "\n",
    "# function to allocate values within a df\n",
    "inter <- function(df, test_value, ct) {\n",
    "     cumulative_sum <- 0\n",
    "      \n",
    "# Iterate over the rows\n",
    "  for(i in 1:nrow(df)) {  \n",
    "      \n",
    "    cumulative_sum <- cumulative_sum + df[i, 'quan']\n",
    "    \n",
    "    # Check if the cumulative sum exceeds the test value\n",
    "    \n",
    "      \n",
    "    if(cumulative_sum >= test_value) {\n",
    "        \n",
    "      # Calculate the overage and the adjusted quantity\n",
    "      overage <- cumulative_sum - test_value         # 900 - 700 = 200\n",
    "      remainder <- df[i, 'quan'] - overage   # deduct 200 from existing value \n",
    "       \n",
    "     # establish the ratio - need for row 1 and row 2   \n",
    "     denom_quan <- df[i, 'quan']    # 400    \n",
    "     numer_remainder <- remainder\n",
    "      \n",
    "      # Update the quantity in the current row\n",
    "      df[i, 'quan'] <- remainder            # assign new value to quan\n",
    "        \n",
    "      # Create a new row with the overage quantity (Do it here and not below the changes)\n",
    "      new_row <- df[i, ]\n",
    "      new_row['quan'] <- overage \n",
    "      \n",
    "    \n",
    "    # update the tally_q (first row)\n",
    "      q1 <- df[i, 'tally_q'] - remainder\n",
    "      df[i, 'tally_q'] <- q1\n",
    "        \n",
    "    \n",
    "   # first, establish a ratio to apply to variables in row 1, then allocate the variables\n",
    "       \n",
    "    # create the ratio\n",
    "    rat1 <<- numer_remainder / denom_quan\n",
    "               \n",
    "    # apply ratio to variables in row 1\n",
    "    # cost var\n",
    "    c1 <- df[i, 'cost'] * rat1\n",
    "    df[i, 'cost'] <- c1  \n",
    "    #tally_c var\n",
    "    t_c <- df[i-1,'tally_c'] + c1\n",
    "    df[i, 'tally_c'] <- t_c\n",
    "    #proceeds var\n",
    "    p1 <- df[i, 'proceeds'] * rat1\n",
    "    df[i, 'proceeds'] <- p1\n",
    "    # t_q2 var\n",
    "    t_q2 <- df[i-1, 'tally_q2'] - remainder\n",
    "    df[i, 'tally_q2'] <- t_q2\n",
    "    # t_c2 var\n",
    "    t_c2 <- df[i-1, 'tally_c2'] - c1\n",
    "    df[i, 'tally_c2'] <- t_c2\n",
    "        \n",
    "        \n",
    "    # Insert the new row into the dataframe immediately below the current row\n",
    "    df <- df %>% \n",
    "    add_row(.before = i+1, !!!new_row)\n",
    "    ct <<- i+1  \n",
    "    # Insert the new row into df1\n",
    "    df1 <<- df %>% \n",
    "    add_row(.before = i+1, !!!new_row)\n",
    "\n",
    "#  PART 2\n",
    "        \n",
    "   # update the values in new row 2 \n",
    "        \n",
    "    # cost var\n",
    "    c2 <- df[ct, 'cost'] * rat1\n",
    "    df[ct, 'cost'] <- c2  \n",
    "    #tally_c var\n",
    "#   t_c2 <- df[ct-1,'tally_c'] + c2\n",
    "    # Correction? \n",
    "    t_c2 <- df[ct,'tally_c'] + c2\n",
    "    df[ct, 'tally_c'] <- t_c2\n",
    "    #proceeds var\n",
    "    p2 <- df[ct, 'proceeds'] * rat1\n",
    "    df[ct, 'proceeds'] <- p2\n",
    "      # t_q2 var\n",
    "#t_q22 <- df[ct-1, 'tally_q2'] - remainder    \n",
    "    # Correction ??\n",
    "    t_q22 <- df[ct, 'tally_q2'] - remainder\n",
    "    df[ct, 'tally_q2'] <- t_q22\n",
    "    # t_c2 var\n",
    "#    t_c22 <- df[i-1, 'tally_c2'] - c2\n",
    "    # Correction ???\n",
    "    t_c22 <- df[i, 'tally_c2'] - c2\n",
    "    df[i, 'tally_c2'] <- t_c22 \n",
    "      \n",
    "     # build df1\n",
    "     df1 <<- rbind(df1, df[i,])\n",
    "\n",
    "  # Break the loop and move to the next test value\n",
    "  break\n",
    "    \n",
    "    }\n",
    "    \n",
    "  }\n",
    "     return(df)\n",
    "}"
   ]
  },
  {
   "cell_type": "code",
   "execution_count": 26,
   "id": "0f35ac11-cc9e-437f-9a37-e00b62dbbf10",
   "metadata": {},
   "outputs": [
    {
     "data": {
      "text/html": [
       "<table class=\"dataframe\">\n",
       "<caption>A data.frame: 6 × 14</caption>\n",
       "<thead>\n",
       "\t<tr><th></th><th scope=col>index</th><th scope=col>date</th><th scope=col>cost</th><th scope=col>quan</th><th scope=col>tally_q</th><th scope=col>tally_c</th><th scope=col>date_s</th><th scope=col>proceeds</th><th scope=col>tally_q2</th><th scope=col>tally_c2</th><th scope=col>sold</th><th scope=col>tally_s</th><th scope=col>remain</th><th scope=col>X</th></tr>\n",
       "\t<tr><th></th><th scope=col>&lt;int&gt;</th><th scope=col>&lt;chr&gt;</th><th scope=col>&lt;dbl&gt;</th><th scope=col>&lt;int&gt;</th><th scope=col>&lt;int&gt;</th><th scope=col>&lt;dbl&gt;</th><th scope=col>&lt;chr&gt;</th><th scope=col>&lt;dbl&gt;</th><th scope=col>&lt;int&gt;</th><th scope=col>&lt;dbl&gt;</th><th scope=col>&lt;int&gt;</th><th scope=col>&lt;int&gt;</th><th scope=col>&lt;int&gt;</th><th scope=col>&lt;lgl&gt;</th></tr>\n",
       "</thead>\n",
       "<tbody>\n",
       "\t<tr><th scope=row>68</th><td>68</td><td>3/3/2023 </td><td>2127.75</td><td>400</td><td>35850</td><td>200686.9</td><td>5/30/2023</td><td>1833.04</td><td>1500</td><td>8616.12</td><td>1000</td><td>35850</td><td>0</td><td>NA</td></tr>\n",
       "\t<tr><th scope=row>69</th><td>69</td><td>3/3/2023 </td><td> 618.08</td><td>100</td><td>35950</td><td>201305.0</td><td>6/2/2023 </td><td> 453.98</td><td>1100</td><td>6488.37</td><td>   0</td><td>    0</td><td>0</td><td>NA</td></tr>\n",
       "\t<tr><th scope=row>70</th><td>70</td><td>3/3/2023 </td><td>2422.31</td><td>400</td><td>36350</td><td>203727.3</td><td>6/2/2023 </td><td>1815.93</td><td>1000</td><td>5870.29</td><td>   0</td><td>    0</td><td>0</td><td>NA</td></tr>\n",
       "\t<tr><th scope=row>71</th><td>71</td><td>3/3/2023 </td><td>2298.31</td><td>400</td><td>36750</td><td>206025.6</td><td>6/2/2023 </td><td>1815.93</td><td> 600</td><td>3447.98</td><td>   0</td><td>    0</td><td>0</td><td>NA</td></tr>\n",
       "\t<tr><th scope=row>72</th><td>72</td><td>3/3/2023 </td><td> 605.17</td><td>100</td><td>36850</td><td>206630.7</td><td>6/2/2023 </td><td> 453.98</td><td> 200</td><td>1149.67</td><td>   0</td><td>    0</td><td>0</td><td>NA</td></tr>\n",
       "\t<tr><th scope=row>73</th><td>73</td><td>4/27/2023</td><td> 544.50</td><td>100</td><td>36950</td><td>207175.2</td><td>6/2/2023 </td><td> 453.98</td><td> 100</td><td> 544.50</td><td>1100</td><td>36950</td><td>0</td><td>NA</td></tr>\n",
       "</tbody>\n",
       "</table>\n"
      ],
      "text/latex": [
       "A data.frame: 6 × 14\n",
       "\\begin{tabular}{r|llllllllllllll}\n",
       "  & index & date & cost & quan & tally\\_q & tally\\_c & date\\_s & proceeds & tally\\_q2 & tally\\_c2 & sold & tally\\_s & remain & X\\\\\n",
       "  & <int> & <chr> & <dbl> & <int> & <int> & <dbl> & <chr> & <dbl> & <int> & <dbl> & <int> & <int> & <int> & <lgl>\\\\\n",
       "\\hline\n",
       "\t68 & 68 & 3/3/2023  & 2127.75 & 400 & 35850 & 200686.9 & 5/30/2023 & 1833.04 & 1500 & 8616.12 & 1000 & 35850 & 0 & NA\\\\\n",
       "\t69 & 69 & 3/3/2023  &  618.08 & 100 & 35950 & 201305.0 & 6/2/2023  &  453.98 & 1100 & 6488.37 &    0 &     0 & 0 & NA\\\\\n",
       "\t70 & 70 & 3/3/2023  & 2422.31 & 400 & 36350 & 203727.3 & 6/2/2023  & 1815.93 & 1000 & 5870.29 &    0 &     0 & 0 & NA\\\\\n",
       "\t71 & 71 & 3/3/2023  & 2298.31 & 400 & 36750 & 206025.6 & 6/2/2023  & 1815.93 &  600 & 3447.98 &    0 &     0 & 0 & NA\\\\\n",
       "\t72 & 72 & 3/3/2023  &  605.17 & 100 & 36850 & 206630.7 & 6/2/2023  &  453.98 &  200 & 1149.67 &    0 &     0 & 0 & NA\\\\\n",
       "\t73 & 73 & 4/27/2023 &  544.50 & 100 & 36950 & 207175.2 & 6/2/2023  &  453.98 &  100 &  544.50 & 1100 & 36950 & 0 & NA\\\\\n",
       "\\end{tabular}\n"
      ],
      "text/markdown": [
       "\n",
       "A data.frame: 6 × 14\n",
       "\n",
       "| <!--/--> | index &lt;int&gt; | date &lt;chr&gt; | cost &lt;dbl&gt; | quan &lt;int&gt; | tally_q &lt;int&gt; | tally_c &lt;dbl&gt; | date_s &lt;chr&gt; | proceeds &lt;dbl&gt; | tally_q2 &lt;int&gt; | tally_c2 &lt;dbl&gt; | sold &lt;int&gt; | tally_s &lt;int&gt; | remain &lt;int&gt; | X &lt;lgl&gt; |\n",
       "|---|---|---|---|---|---|---|---|---|---|---|---|---|---|---|\n",
       "| 68 | 68 | 3/3/2023  | 2127.75 | 400 | 35850 | 200686.9 | 5/30/2023 | 1833.04 | 1500 | 8616.12 | 1000 | 35850 | 0 | NA |\n",
       "| 69 | 69 | 3/3/2023  |  618.08 | 100 | 35950 | 201305.0 | 6/2/2023  |  453.98 | 1100 | 6488.37 |    0 |     0 | 0 | NA |\n",
       "| 70 | 70 | 3/3/2023  | 2422.31 | 400 | 36350 | 203727.3 | 6/2/2023  | 1815.93 | 1000 | 5870.29 |    0 |     0 | 0 | NA |\n",
       "| 71 | 71 | 3/3/2023  | 2298.31 | 400 | 36750 | 206025.6 | 6/2/2023  | 1815.93 |  600 | 3447.98 |    0 |     0 | 0 | NA |\n",
       "| 72 | 72 | 3/3/2023  |  605.17 | 100 | 36850 | 206630.7 | 6/2/2023  |  453.98 |  200 | 1149.67 |    0 |     0 | 0 | NA |\n",
       "| 73 | 73 | 4/27/2023 |  544.50 | 100 | 36950 | 207175.2 | 6/2/2023  |  453.98 |  100 |  544.50 | 1100 | 36950 | 0 | NA |\n",
       "\n"
      ],
      "text/plain": [
       "   index date      cost    quan tally_q tally_c  date_s    proceeds tally_q2\n",
       "68 68    3/3/2023  2127.75 400  35850   200686.9 5/30/2023 1833.04  1500    \n",
       "69 69    3/3/2023   618.08 100  35950   201305.0 6/2/2023   453.98  1100    \n",
       "70 70    3/3/2023  2422.31 400  36350   203727.3 6/2/2023  1815.93  1000    \n",
       "71 71    3/3/2023  2298.31 400  36750   206025.6 6/2/2023  1815.93   600    \n",
       "72 72    3/3/2023   605.17 100  36850   206630.7 6/2/2023   453.98   200    \n",
       "73 73    4/27/2023  544.50 100  36950   207175.2 6/2/2023   453.98   100    \n",
       "   tally_c2 sold tally_s remain X \n",
       "68 8616.12  1000 35850   0      NA\n",
       "69 6488.37     0     0   0      NA\n",
       "70 5870.29     0     0   0      NA\n",
       "71 3447.98     0     0   0      NA\n",
       "72 1149.67     0     0   0      NA\n",
       "73  544.50  1100 36950   0      NA"
      ]
     },
     "metadata": {},
     "output_type": "display_data"
    }
   ],
   "source": [
    "#  Do NOT want a new row with NAs\n",
    "tail(df)"
   ]
  },
  {
   "cell_type": "code",
   "execution_count": 24,
   "id": "c81de656-51dc-4f73-b5ba-d669336c3a1b",
   "metadata": {},
   "outputs": [
    {
     "data": {
      "text/html": [
       "74"
      ],
      "text/latex": [
       "74"
      ],
      "text/markdown": [
       "74"
      ],
      "text/plain": [
       "[1] 74"
      ]
     },
     "metadata": {},
     "output_type": "display_data"
    },
    {
     "data": {
      "text/html": [
       "73"
      ],
      "text/latex": [
       "73"
      ],
      "text/markdown": [
       "73"
      ],
      "text/plain": [
       "[1] 73"
      ]
     },
     "metadata": {},
     "output_type": "display_data"
    },
    {
     "ename": "ERROR",
     "evalue": "Error in tain(df, 3): could not find function \"tain\"\n",
     "output_type": "error",
     "traceback": [
      "Error in tain(df, 3): could not find function \"tain\"\nTraceback:\n"
     ]
    }
   ],
   "source": [
    "nrow(df)\n",
    "df <- df[1:nrow(df)-1,]\n",
    "nrow(df)\n",
    "tail(df,3)"
   ]
  },
  {
   "cell_type": "code",
   "execution_count": null,
   "id": "c7c7daec-ecc6-40de-b6b0-4918222b1d11",
   "metadata": {},
   "outputs": [],
   "source": []
  },
  {
   "cell_type": "code",
   "execution_count": 19,
   "id": "f3542816-8860-4c59-9037-9b6eb9871723",
   "metadata": {},
   "outputs": [
    {
     "ename": "ERROR",
     "evalue": "Error in eval(expr, envir, enclos): object 'stopper' not found\n",
     "output_type": "error",
     "traceback": [
      "Error in eval(expr, envir, enclos): object 'stopper' not found\nTraceback:\n"
     ]
    }
   ],
   "source": [
    "stopper\n"
   ]
  },
  {
   "cell_type": "markdown",
   "id": "24503f91-02ee-4463-b5c7-50234cd8643f",
   "metadata": {},
   "source": [
    "## <font color = lime> Real Test - Real Sales Values"
   ]
  },
  {
   "cell_type": "markdown",
   "id": "6016eb4c-50e5-4dac-84e2-06e0fa1dd725",
   "metadata": {},
   "source": [
    "### <font color = lime> Clean Function\n"
   ]
  },
  {
   "cell_type": "code",
   "execution_count": 421,
   "id": "cebfd3a0-a2df-4f55-b1b1-a5aaca2cabe4",
   "metadata": {},
   "outputs": [],
   "source": [
    "# clean df\n",
    "df <- read.csv(\"TestAllocate.csv\", header = TRUE, sep = \",\")\n",
    "# clean sales vector\n",
    "sales <- c(1000,3000,3000,6000,5850,3000,6000,2000,5000,1000,1100)"
   ]
  },
  {
   "cell_type": "code",
   "execution_count": 422,
   "id": "2994cb1a-5538-4f8b-b5ac-ae5cadf3086e",
   "metadata": {},
   "outputs": [
    {
     "data": {
      "text/html": [
       "11"
      ],
      "text/latex": [
       "11"
      ],
      "text/markdown": [
       "11"
      ],
      "text/plain": [
       "[1] 11"
      ]
     },
     "metadata": {},
     "output_type": "display_data"
    },
    {
     "data": {
      "text/html": [
       "36950"
      ],
      "text/latex": [
       "36950"
      ],
      "text/markdown": [
       "36950"
      ],
      "text/plain": [
       "[1] 36950"
      ]
     },
     "metadata": {},
     "output_type": "display_data"
    },
    {
     "data": {
      "text/html": [
       "73"
      ],
      "text/latex": [
       "73"
      ],
      "text/markdown": [
       "73"
      ],
      "text/plain": [
       "[1] 73"
      ]
     },
     "metadata": {},
     "output_type": "display_data"
    },
    {
     "data": {
      "text/html": [
       "<table class=\"dataframe\">\n",
       "<caption>A data.frame: 3 × 13</caption>\n",
       "<thead>\n",
       "\t<tr><th></th><th scope=col>index</th><th scope=col>date</th><th scope=col>cost</th><th scope=col>quan</th><th scope=col>tally_q</th><th scope=col>tally_c</th><th scope=col>date_s</th><th scope=col>proceeds</th><th scope=col>tally_q2</th><th scope=col>tally_c2</th><th scope=col>sold</th><th scope=col>tally_s</th><th scope=col>X</th></tr>\n",
       "\t<tr><th></th><th scope=col>&lt;int&gt;</th><th scope=col>&lt;chr&gt;</th><th scope=col>&lt;dbl&gt;</th><th scope=col>&lt;int&gt;</th><th scope=col>&lt;int&gt;</th><th scope=col>&lt;dbl&gt;</th><th scope=col>&lt;chr&gt;</th><th scope=col>&lt;dbl&gt;</th><th scope=col>&lt;int&gt;</th><th scope=col>&lt;dbl&gt;</th><th scope=col>&lt;int&gt;</th><th scope=col>&lt;int&gt;</th><th scope=col>&lt;lgl&gt;</th></tr>\n",
       "</thead>\n",
       "<tbody>\n",
       "\t<tr><th scope=row>71</th><td>71</td><td>3/3/2023 </td><td>2298.31</td><td>400</td><td>36750</td><td>206025.6</td><td>6/2/2023</td><td>1815.93</td><td>600</td><td>3447.98</td><td>0</td><td>    0</td><td>NA</td></tr>\n",
       "\t<tr><th scope=row>72</th><td>72</td><td>3/3/2023 </td><td> 605.17</td><td>100</td><td>36850</td><td>206630.7</td><td>6/2/2023</td><td> 453.98</td><td>200</td><td>1149.67</td><td>0</td><td>    0</td><td>NA</td></tr>\n",
       "\t<tr><th scope=row>73</th><td>73</td><td>4/27/2023</td><td> 544.50</td><td>100</td><td>36950</td><td>207175.2</td><td>6/2/2023</td><td> 453.98</td><td>100</td><td> 544.50</td><td>0</td><td>36950</td><td>NA</td></tr>\n",
       "</tbody>\n",
       "</table>\n"
      ],
      "text/latex": [
       "A data.frame: 3 × 13\n",
       "\\begin{tabular}{r|lllllllllllll}\n",
       "  & index & date & cost & quan & tally\\_q & tally\\_c & date\\_s & proceeds & tally\\_q2 & tally\\_c2 & sold & tally\\_s & X\\\\\n",
       "  & <int> & <chr> & <dbl> & <int> & <int> & <dbl> & <chr> & <dbl> & <int> & <dbl> & <int> & <int> & <lgl>\\\\\n",
       "\\hline\n",
       "\t71 & 71 & 3/3/2023  & 2298.31 & 400 & 36750 & 206025.6 & 6/2/2023 & 1815.93 & 600 & 3447.98 & 0 &     0 & NA\\\\\n",
       "\t72 & 72 & 3/3/2023  &  605.17 & 100 & 36850 & 206630.7 & 6/2/2023 &  453.98 & 200 & 1149.67 & 0 &     0 & NA\\\\\n",
       "\t73 & 73 & 4/27/2023 &  544.50 & 100 & 36950 & 207175.2 & 6/2/2023 &  453.98 & 100 &  544.50 & 0 & 36950 & NA\\\\\n",
       "\\end{tabular}\n"
      ],
      "text/markdown": [
       "\n",
       "A data.frame: 3 × 13\n",
       "\n",
       "| <!--/--> | index &lt;int&gt; | date &lt;chr&gt; | cost &lt;dbl&gt; | quan &lt;int&gt; | tally_q &lt;int&gt; | tally_c &lt;dbl&gt; | date_s &lt;chr&gt; | proceeds &lt;dbl&gt; | tally_q2 &lt;int&gt; | tally_c2 &lt;dbl&gt; | sold &lt;int&gt; | tally_s &lt;int&gt; | X &lt;lgl&gt; |\n",
       "|---|---|---|---|---|---|---|---|---|---|---|---|---|---|\n",
       "| 71 | 71 | 3/3/2023  | 2298.31 | 400 | 36750 | 206025.6 | 6/2/2023 | 1815.93 | 600 | 3447.98 | 0 |     0 | NA |\n",
       "| 72 | 72 | 3/3/2023  |  605.17 | 100 | 36850 | 206630.7 | 6/2/2023 |  453.98 | 200 | 1149.67 | 0 |     0 | NA |\n",
       "| 73 | 73 | 4/27/2023 |  544.50 | 100 | 36950 | 207175.2 | 6/2/2023 |  453.98 | 100 |  544.50 | 0 | 36950 | NA |\n",
       "\n"
      ],
      "text/plain": [
       "   index date      cost    quan tally_q tally_c  date_s   proceeds tally_q2\n",
       "71 71    3/3/2023  2298.31 400  36750   206025.6 6/2/2023 1815.93  600     \n",
       "72 72    3/3/2023   605.17 100  36850   206630.7 6/2/2023  453.98  200     \n",
       "73 73    4/27/2023  544.50 100  36950   207175.2 6/2/2023  453.98  100     \n",
       "   tally_c2 sold tally_s X \n",
       "71 3447.98  0        0   NA\n",
       "72 1149.67  0        0   NA\n",
       "73  544.50  0    36950   NA"
      ]
     },
     "metadata": {},
     "output_type": "display_data"
    }
   ],
   "source": [
    "length(sales)\n",
    "sum(sales)\n",
    "nrow(df)\n",
    "tail(df,3)"
   ]
  },
  {
   "cell_type": "code",
   "execution_count": null,
   "id": "6ae8e374-808c-410a-b01d-584958a94c2b",
   "metadata": {},
   "outputs": [],
   "source": [
    "\n"
   ]
  },
  {
   "cell_type": "code",
   "execution_count": 423,
   "id": "53718190-db43-4183-b765-ef3012676447",
   "metadata": {},
   "outputs": [],
   "source": [
    "# Remove extraneous row\n",
    "\n",
    "# nrow(df)\n",
    "# df <- df[1:nrow(df)-1,]\n",
    "# nrow(df)\n",
    "# tail(df,3)"
   ]
  },
  {
   "cell_type": "code",
   "execution_count": 424,
   "id": "17ff6f86-9d74-4275-9888-aa88c04bb00a",
   "metadata": {},
   "outputs": [
    {
     "data": {
      "text/html": [
       "1000"
      ],
      "text/latex": [
       "1000"
      ],
      "text/markdown": [
       "1000"
      ],
      "text/plain": [
       "[1] 1000"
      ]
     },
     "metadata": {},
     "output_type": "display_data"
    }
   ],
   "source": [
    "sales[1]"
   ]
  },
  {
   "cell_type": "code",
   "execution_count": 425,
   "id": "f2aaf8c2-4159-42e5-9d3a-d434ddd0e25b",
   "metadata": {},
   "outputs": [],
   "source": [
    "# S/B a clean funtion (Won't execute w/out fct call)\n",
    "\n",
    "\n",
    "# function to allocate values within a df\n",
    "inter <- function(df, test_value, ct) {\n",
    "     cumulative_sum <- 0\n",
    "      \n",
    "# Iterate over the rows\n",
    "  for(i in 1:nrow(df)) {\n",
    "      \n",
    "      \n",
    "      counter <<- counter + 1     \n",
    "    \n",
    "   \n",
    "        \n",
    "    # assign quan value to cum_sum \n",
    "    cumulative_sum <- cumulative_sum + df[i, 'quan']\n",
    "      \n",
    "     \n",
    "    # Check if the cumulative sum exceeds the test value\n",
    "    \n",
    "    # when the sum of quan values exceeds the amount fof the sales value  \n",
    "    if(cumulative_sum >= test_value) {   \n",
    "    \n",
    "     df[i, \"sold\"] <- 2500\n",
    "        \n",
    "      # Calculate the overage and the adjusted quantity\n",
    "      overage <- cumulative_sum - test_value         # 3000 - 190 = 2810\n",
    "      # deduct the overage from the current quan value  # 190 - 2810   \n",
    "      remainder <- df[i, 'quan'] - overage   \n",
    "       \n",
    "     # establish the ratio - needed to allocate values for row 1 and the new row 2   \n",
    "      numer_remainder <- remainder  # 300\n",
    "      denom_quan <- df[i, 'quan']      # 400  \n",
    "     # create the ratio for row1\n",
    "      rat1 <<- numer_remainder / denom_quan\n",
    "      \n",
    "      # Update the quan value in the row1\n",
    "      df[i, 'quan'] <- remainder           \n",
    "        \n",
    "      # Create new row, row2, with the overage value \n",
    "      new_row <- df[i, ]\n",
    "      new_row['quan'] <- overage       \n",
    "    \n",
    "    # update the tally_q (row1)\n",
    "      q1 <- df[i, 'tally_q'] - remainder\n",
    "      df[i, 'tally_q'] <- q1\n",
    "        \n",
    "        \n",
    "        \n",
    "    # Insert the new row into the dataframe immediately below the current row\n",
    "    # df <- df %>% \n",
    "    # add_row(.before = i+1, !!!new_row)\n",
    "    # ct <<- i+1  \n",
    "    # # Insert the new row into df1\n",
    "    # df1 <<- df %>% \n",
    "    # add_row(.before = i+1, !!!new_row)   \n",
    "        \n",
    "        \n",
    "        \n",
    "    \n",
    "   #  Apply the ratio, rat1, to allocate the variables on row 1\n",
    "    # cost var\n",
    "    c1 <- df[i, 'cost'] * rat1\n",
    "    df[i, 'cost'] <- c1  \n",
    "    #tally_c var\n",
    "    t_c <- df[i,'tally_c'] + c1\n",
    "    df[i, 'tally_c'] <- t_c\n",
    "    #proceeds var\n",
    "    p1 <- df[i, 'proceeds'] * rat1\n",
    "    df[i, 'proceeds'] <- p1\n",
    "    # t_q2 var\n",
    "    t_q2 <- df[i, 'tally_q2'] - remainder\n",
    "    df[i, 'tally_q2'] <- t_q2\n",
    "    # t_c2 var\n",
    "    t_c2 <- df[i, 'tally_c2'] - c1\n",
    "    df[i, 'tally_c2'] <- t_c2\n",
    "        \n",
    "\n",
    "    # Insert the new row into the dataframe immediately below the current row\n",
    "    df <- df %>% \n",
    "    add_row(.before = i+1, !!!new_row)\n",
    "    ct <<- i+1  \n",
    "    # Insert the new row into df1\n",
    "    df1 <<- df %>% \n",
    "    add_row(.before = i+1, !!!new_row)\n",
    "\n",
    "#  PART 2\n",
    "        \n",
    "   # update the values in new row 2 \n",
    "        \n",
    "    # cost var\n",
    "    c2 <- df[ct, 'cost'] * rat1\n",
    "    df[ct, 'cost'] <- c2  \n",
    "    #tally_c var\n",
    "    t_c2 <- df[ct-1,'tally_c'] + c2\n",
    "    df[ct, 'tally_c'] <- t_c2\n",
    "    #proceeds var\n",
    "    p2 <- df[ct, 'proceeds'] * rat1\n",
    "    df[ct, 'proceeds'] <- p2\n",
    "      # t_q2 var\n",
    "    t_q22 <- df[ct-1, 'tally_q2'] - remainder\n",
    "    df[ct, 'tally_q2'] <- t_q22\n",
    "    # t_c2 var\n",
    "    t_c22 <- df[i-1, 'tally_c2'] - c2\n",
    "    df[i, 'tally_c2'] <- t_c22 \n",
    "      \n",
    "     # build df1\n",
    "     df1 <<- rbind(df1, df[i,])\n",
    "\n",
    "  # Break the loop and move to the next test value\n",
    "  break\n",
    "    \n",
    "    }\n",
    "    \n",
    "  }\n",
    "     return(df)\n",
    "}\n",
    "# No fct call above here"
   ]
  },
  {
   "cell_type": "code",
   "execution_count": null,
   "id": "eb27c46b-0bce-40d0-82b1-42aabfef0e01",
   "metadata": {},
   "outputs": [],
   "source": [
    "\n"
   ]
  },
  {
   "cell_type": "code",
   "execution_count": 427,
   "id": "9928d4a0-1de4-4f0c-a5c5-32bdb6270f20",
   "metadata": {},
   "outputs": [
    {
     "data": {
      "text/html": [
       "1000"
      ],
      "text/latex": [
       "1000"
      ],
      "text/markdown": [
       "1000"
      ],
      "text/plain": [
       "[1] 1000"
      ]
     },
     "metadata": {},
     "output_type": "display_data"
    }
   ],
   "source": [
    "# First value from sales passed to fct \n",
    "test_value <- sales[1]\n",
    "test_value"
   ]
  },
  {
   "cell_type": "code",
   "execution_count": 428,
   "id": "26a8d707-ae98-47cc-bbe4-39f4afe21e49",
   "metadata": {},
   "outputs": [],
   "source": [
    "# df <- read.csv(\"TestAllocate.csv\", header = TRUE, sep = \",\")"
   ]
  },
  {
   "cell_type": "code",
   "execution_count": 429,
   "id": "3940886d-e9b8-4841-8122-9cb8640d59a2",
   "metadata": {},
   "outputs": [
    {
     "data": {
      "text/html": [
       "74"
      ],
      "text/latex": [
       "74"
      ],
      "text/markdown": [
       "74"
      ],
      "text/plain": [
       "[1] 74"
      ]
     },
     "metadata": {},
     "output_type": "display_data"
    },
    {
     "name": "stdout",
     "output_type": "stream",
     "text": [
      "[1] \"-----------------------------------------\"\n",
      "[1] \"The returned ct is: 10\"\n",
      "[1] \"The returned rat1 is: 1\"\n",
      "[1] \"-----------------------------------------\"\n"
     ]
    },
    {
     "data": {
      "text/html": [
       "<table class=\"dataframe\">\n",
       "<caption>A data.frame: 12 × 13</caption>\n",
       "<thead>\n",
       "\t<tr><th></th><th scope=col>index</th><th scope=col>date</th><th scope=col>cost</th><th scope=col>quan</th><th scope=col>tally_q</th><th scope=col>tally_c</th><th scope=col>date_s</th><th scope=col>proceeds</th><th scope=col>tally_q2</th><th scope=col>tally_c2</th><th scope=col>sold</th><th scope=col>tally_s</th><th scope=col>X</th></tr>\n",
       "\t<tr><th></th><th scope=col>&lt;int&gt;</th><th scope=col>&lt;chr&gt;</th><th scope=col>&lt;dbl&gt;</th><th scope=col>&lt;dbl&gt;</th><th scope=col>&lt;dbl&gt;</th><th scope=col>&lt;dbl&gt;</th><th scope=col>&lt;chr&gt;</th><th scope=col>&lt;dbl&gt;</th><th scope=col>&lt;dbl&gt;</th><th scope=col>&lt;dbl&gt;</th><th scope=col>&lt;dbl&gt;</th><th scope=col>&lt;int&gt;</th><th scope=col>&lt;lgl&gt;</th></tr>\n",
       "</thead>\n",
       "<tbody>\n",
       "\t<tr><th scope=row>1</th><td> 1</td><td>11/30/2022</td><td>1827.03</td><td>250</td><td> 250</td><td> 1827.03</td><td>1/27/2023</td><td>1378.03</td><td>  250</td><td>  1827.03</td><td>   0</td><td>   0</td><td>NA</td></tr>\n",
       "\t<tr><th scope=row>2</th><td> 2</td><td>11/30/2022</td><td> 499.59</td><td>100</td><td> 350</td><td> 2326.62</td><td>2/3/2023 </td><td> 585.47</td><td>36700</td><td>205348.21</td><td>   0</td><td>   0</td><td>NA</td></tr>\n",
       "\t<tr><th scope=row>3</th><td> 3</td><td>11/30/2022</td><td> 652.92</td><td>100</td><td> 450</td><td> 2979.54</td><td>2/3/2023 </td><td> 625.47</td><td>36600</td><td>204848.62</td><td>   0</td><td>   0</td><td>NA</td></tr>\n",
       "\t<tr><th scope=row>4</th><td> 4</td><td>11/30/2022</td><td> 742.10</td><td>100</td><td> 550</td><td> 3721.64</td><td>2/3/2023 </td><td> 667.98</td><td>36500</td><td>204195.70</td><td>   0</td><td>   0</td><td>NA</td></tr>\n",
       "\t<tr><th scope=row>5</th><td> 5</td><td>11/30/2022</td><td> 365.40</td><td> 50</td><td> 600</td><td> 4087.04</td><td>2/3/2023 </td><td> 333.99</td><td>36400</td><td>203453.60</td><td>   0</td><td>   0</td><td>NA</td></tr>\n",
       "\t<tr><th scope=row>6</th><td> 6</td><td>11/30/2022</td><td>1113.15</td><td>150</td><td> 750</td><td> 5200.19</td><td>2/3/2023 </td><td> 938.20</td><td>36350</td><td>203088.20</td><td>   0</td><td>   0</td><td>NA</td></tr>\n",
       "\t<tr><th scope=row>7</th><td> 7</td><td>11/30/2022</td><td> 640.57</td><td>100</td><td> 850</td><td> 5840.76</td><td>2/3/2023 </td><td> 618.98</td><td>36200</td><td>201975.05</td><td>   0</td><td>   0</td><td>NA</td></tr>\n",
       "\t<tr><th scope=row>8</th><td> 8</td><td>11/30/2022</td><td> 320.81</td><td> 50</td><td> 900</td><td> 6161.57</td><td>2/3/2023 </td><td> 309.49</td><td>36100</td><td>201334.48</td><td>   0</td><td>   0</td><td>NA</td></tr>\n",
       "\t<tr><th scope=row>9</th><td> 9</td><td>11/30/2022</td><td> 551.39</td><td>100</td><td> 900</td><td> 7264.35</td><td>2/3/2023 </td><td> 618.98</td><td>35950</td><td>200783.09</td><td>2500</td><td>1000</td><td>NA</td></tr>\n",
       "\t<tr><th scope=row>10</th><td> 9</td><td>11/30/2022</td><td> 551.39</td><td>  0</td><td>1000</td><td> 7815.74</td><td>2/3/2023 </td><td> 618.98</td><td>35850</td><td>201013.67</td><td>2500</td><td>1000</td><td>NA</td></tr>\n",
       "\t<tr><th scope=row>11</th><td>10</td><td>1/27/2023 </td><td>4453.49</td><td>850</td><td>1850</td><td>11166.45</td><td>2/21/2023</td><td>4976.50</td><td>35950</td><td>200462.28</td><td>   0</td><td>   0</td><td>NA</td></tr>\n",
       "\t<tr><th scope=row>12</th><td>11</td><td>11/30/2022</td><td> 264.80</td><td> 50</td><td>1900</td><td>11431.25</td><td>2/21/2023</td><td> 330.74</td><td>35100</td><td>196008.79</td><td>   0</td><td>   0</td><td>NA</td></tr>\n",
       "</tbody>\n",
       "</table>\n"
      ],
      "text/latex": [
       "A data.frame: 12 × 13\n",
       "\\begin{tabular}{r|lllllllllllll}\n",
       "  & index & date & cost & quan & tally\\_q & tally\\_c & date\\_s & proceeds & tally\\_q2 & tally\\_c2 & sold & tally\\_s & X\\\\\n",
       "  & <int> & <chr> & <dbl> & <dbl> & <dbl> & <dbl> & <chr> & <dbl> & <dbl> & <dbl> & <dbl> & <int> & <lgl>\\\\\n",
       "\\hline\n",
       "\t1 &  1 & 11/30/2022 & 1827.03 & 250 &  250 &  1827.03 & 1/27/2023 & 1378.03 &   250 &   1827.03 &    0 &    0 & NA\\\\\n",
       "\t2 &  2 & 11/30/2022 &  499.59 & 100 &  350 &  2326.62 & 2/3/2023  &  585.47 & 36700 & 205348.21 &    0 &    0 & NA\\\\\n",
       "\t3 &  3 & 11/30/2022 &  652.92 & 100 &  450 &  2979.54 & 2/3/2023  &  625.47 & 36600 & 204848.62 &    0 &    0 & NA\\\\\n",
       "\t4 &  4 & 11/30/2022 &  742.10 & 100 &  550 &  3721.64 & 2/3/2023  &  667.98 & 36500 & 204195.70 &    0 &    0 & NA\\\\\n",
       "\t5 &  5 & 11/30/2022 &  365.40 &  50 &  600 &  4087.04 & 2/3/2023  &  333.99 & 36400 & 203453.60 &    0 &    0 & NA\\\\\n",
       "\t6 &  6 & 11/30/2022 & 1113.15 & 150 &  750 &  5200.19 & 2/3/2023  &  938.20 & 36350 & 203088.20 &    0 &    0 & NA\\\\\n",
       "\t7 &  7 & 11/30/2022 &  640.57 & 100 &  850 &  5840.76 & 2/3/2023  &  618.98 & 36200 & 201975.05 &    0 &    0 & NA\\\\\n",
       "\t8 &  8 & 11/30/2022 &  320.81 &  50 &  900 &  6161.57 & 2/3/2023  &  309.49 & 36100 & 201334.48 &    0 &    0 & NA\\\\\n",
       "\t9 &  9 & 11/30/2022 &  551.39 & 100 &  900 &  7264.35 & 2/3/2023  &  618.98 & 35950 & 200783.09 & 2500 & 1000 & NA\\\\\n",
       "\t10 &  9 & 11/30/2022 &  551.39 &   0 & 1000 &  7815.74 & 2/3/2023  &  618.98 & 35850 & 201013.67 & 2500 & 1000 & NA\\\\\n",
       "\t11 & 10 & 1/27/2023  & 4453.49 & 850 & 1850 & 11166.45 & 2/21/2023 & 4976.50 & 35950 & 200462.28 &    0 &    0 & NA\\\\\n",
       "\t12 & 11 & 11/30/2022 &  264.80 &  50 & 1900 & 11431.25 & 2/21/2023 &  330.74 & 35100 & 196008.79 &    0 &    0 & NA\\\\\n",
       "\\end{tabular}\n"
      ],
      "text/markdown": [
       "\n",
       "A data.frame: 12 × 13\n",
       "\n",
       "| <!--/--> | index &lt;int&gt; | date &lt;chr&gt; | cost &lt;dbl&gt; | quan &lt;dbl&gt; | tally_q &lt;dbl&gt; | tally_c &lt;dbl&gt; | date_s &lt;chr&gt; | proceeds &lt;dbl&gt; | tally_q2 &lt;dbl&gt; | tally_c2 &lt;dbl&gt; | sold &lt;dbl&gt; | tally_s &lt;int&gt; | X &lt;lgl&gt; |\n",
       "|---|---|---|---|---|---|---|---|---|---|---|---|---|---|\n",
       "| 1 |  1 | 11/30/2022 | 1827.03 | 250 |  250 |  1827.03 | 1/27/2023 | 1378.03 |   250 |   1827.03 |    0 |    0 | NA |\n",
       "| 2 |  2 | 11/30/2022 |  499.59 | 100 |  350 |  2326.62 | 2/3/2023  |  585.47 | 36700 | 205348.21 |    0 |    0 | NA |\n",
       "| 3 |  3 | 11/30/2022 |  652.92 | 100 |  450 |  2979.54 | 2/3/2023  |  625.47 | 36600 | 204848.62 |    0 |    0 | NA |\n",
       "| 4 |  4 | 11/30/2022 |  742.10 | 100 |  550 |  3721.64 | 2/3/2023  |  667.98 | 36500 | 204195.70 |    0 |    0 | NA |\n",
       "| 5 |  5 | 11/30/2022 |  365.40 |  50 |  600 |  4087.04 | 2/3/2023  |  333.99 | 36400 | 203453.60 |    0 |    0 | NA |\n",
       "| 6 |  6 | 11/30/2022 | 1113.15 | 150 |  750 |  5200.19 | 2/3/2023  |  938.20 | 36350 | 203088.20 |    0 |    0 | NA |\n",
       "| 7 |  7 | 11/30/2022 |  640.57 | 100 |  850 |  5840.76 | 2/3/2023  |  618.98 | 36200 | 201975.05 |    0 |    0 | NA |\n",
       "| 8 |  8 | 11/30/2022 |  320.81 |  50 |  900 |  6161.57 | 2/3/2023  |  309.49 | 36100 | 201334.48 |    0 |    0 | NA |\n",
       "| 9 |  9 | 11/30/2022 |  551.39 | 100 |  900 |  7264.35 | 2/3/2023  |  618.98 | 35950 | 200783.09 | 2500 | 1000 | NA |\n",
       "| 10 |  9 | 11/30/2022 |  551.39 |   0 | 1000 |  7815.74 | 2/3/2023  |  618.98 | 35850 | 201013.67 | 2500 | 1000 | NA |\n",
       "| 11 | 10 | 1/27/2023  | 4453.49 | 850 | 1850 | 11166.45 | 2/21/2023 | 4976.50 | 35950 | 200462.28 |    0 |    0 | NA |\n",
       "| 12 | 11 | 11/30/2022 |  264.80 |  50 | 1900 | 11431.25 | 2/21/2023 |  330.74 | 35100 | 196008.79 |    0 |    0 | NA |\n",
       "\n"
      ],
      "text/plain": [
       "   index date       cost    quan tally_q tally_c  date_s    proceeds tally_q2\n",
       "1   1    11/30/2022 1827.03 250   250     1827.03 1/27/2023 1378.03    250   \n",
       "2   2    11/30/2022  499.59 100   350     2326.62 2/3/2023   585.47  36700   \n",
       "3   3    11/30/2022  652.92 100   450     2979.54 2/3/2023   625.47  36600   \n",
       "4   4    11/30/2022  742.10 100   550     3721.64 2/3/2023   667.98  36500   \n",
       "5   5    11/30/2022  365.40  50   600     4087.04 2/3/2023   333.99  36400   \n",
       "6   6    11/30/2022 1113.15 150   750     5200.19 2/3/2023   938.20  36350   \n",
       "7   7    11/30/2022  640.57 100   850     5840.76 2/3/2023   618.98  36200   \n",
       "8   8    11/30/2022  320.81  50   900     6161.57 2/3/2023   309.49  36100   \n",
       "9   9    11/30/2022  551.39 100   900     7264.35 2/3/2023   618.98  35950   \n",
       "10  9    11/30/2022  551.39   0  1000     7815.74 2/3/2023   618.98  35850   \n",
       "11 10    1/27/2023  4453.49 850  1850    11166.45 2/21/2023 4976.50  35950   \n",
       "12 11    11/30/2022  264.80  50  1900    11431.25 2/21/2023  330.74  35100   \n",
       "   tally_c2  sold tally_s X \n",
       "1    1827.03    0    0    NA\n",
       "2  205348.21    0    0    NA\n",
       "3  204848.62    0    0    NA\n",
       "4  204195.70    0    0    NA\n",
       "5  203453.60    0    0    NA\n",
       "6  203088.20    0    0    NA\n",
       "7  201975.05    0    0    NA\n",
       "8  201334.48    0    0    NA\n",
       "9  200783.09 2500 1000    NA\n",
       "10 201013.67 2500 1000    NA\n",
       "11 200462.28    0    0    NA\n",
       "12 196008.79    0    0    NA"
      ]
     },
     "metadata": {},
     "output_type": "display_data"
    },
    {
     "data": {
      "text/html": [
       "74"
      ],
      "text/latex": [
       "74"
      ],
      "text/markdown": [
       "74"
      ],
      "text/plain": [
       "[1] 74"
      ]
     },
     "metadata": {},
     "output_type": "display_data"
    },
    {
     "name": "stdout",
     "output_type": "stream",
     "text": [
      "[1] \"-----------------------------------------\"\n",
      "   index       date    cost quan tally_q tally_c    date_s proceeds tally_q2\n",
      "1      1 11/30/2022 1827.03  250     250 1827.03 1/27/2023  1378.03      250\n",
      "2      2 11/30/2022  499.59  100     350 2326.62  2/3/2023   585.47    36700\n",
      "3      3 11/30/2022  652.92  100     450 2979.54  2/3/2023   625.47    36600\n",
      "4      4 11/30/2022  742.10  100     550 3721.64  2/3/2023   667.98    36500\n",
      "5      5 11/30/2022  365.40   50     600 4087.04  2/3/2023   333.99    36400\n",
      "6      6 11/30/2022 1113.15  150     750 5200.19  2/3/2023   938.20    36350\n",
      "7      7 11/30/2022  640.57  100     850 5840.76  2/3/2023   618.98    36200\n",
      "8      8 11/30/2022  320.81   50     900 6161.57  2/3/2023   309.49    36100\n",
      "9      9 11/30/2022  551.39  100     900 7264.35  2/3/2023   618.98    35950\n",
      "10     9 11/30/2022  551.39    0    1000 6712.96  2/3/2023   618.98    36050\n",
      "    tally_c2 sold tally_s  X\n",
      "1    1827.03    0       0 NA\n",
      "2  205348.21    0       0 NA\n",
      "3  204848.62    0       0 NA\n",
      "4  204195.70    0       0 NA\n",
      "5  203453.60    0       0 NA\n",
      "6  203088.20    0       0 NA\n",
      "7  201975.05    0       0 NA\n",
      "8  201334.48    0       0 NA\n",
      "9  200462.28 2500    1000 NA\n",
      "10 201013.67 2500    1000 NA\n"
     ]
    },
    {
     "data": {
      "text/html": [
       "10"
      ],
      "text/latex": [
       "10"
      ],
      "text/markdown": [
       "10"
      ],
      "text/plain": [
       "[1] 10"
      ]
     },
     "metadata": {},
     "output_type": "display_data"
    },
    {
     "name": "stdout",
     "output_type": "stream",
     "text": [
      "[1] \"-----------------------------------------\"\n"
     ]
    },
    {
     "data": {
      "text/html": [
       "<table class=\"dataframe\">\n",
       "<caption>A data.frame: 6 × 13</caption>\n",
       "<thead>\n",
       "\t<tr><th></th><th scope=col>index</th><th scope=col>date</th><th scope=col>cost</th><th scope=col>quan</th><th scope=col>tally_q</th><th scope=col>tally_c</th><th scope=col>date_s</th><th scope=col>proceeds</th><th scope=col>tally_q2</th><th scope=col>tally_c2</th><th scope=col>sold</th><th scope=col>tally_s</th><th scope=col>X</th></tr>\n",
       "\t<tr><th></th><th scope=col>&lt;int&gt;</th><th scope=col>&lt;chr&gt;</th><th scope=col>&lt;dbl&gt;</th><th scope=col>&lt;int&gt;</th><th scope=col>&lt;int&gt;</th><th scope=col>&lt;dbl&gt;</th><th scope=col>&lt;chr&gt;</th><th scope=col>&lt;dbl&gt;</th><th scope=col>&lt;int&gt;</th><th scope=col>&lt;dbl&gt;</th><th scope=col>&lt;int&gt;</th><th scope=col>&lt;int&gt;</th><th scope=col>&lt;lgl&gt;</th></tr>\n",
       "</thead>\n",
       "<tbody>\n",
       "\t<tr><th scope=row>68</th><td>68</td><td>3/3/2023 </td><td>2127.75</td><td>400</td><td>35850</td><td>200686.9</td><td>5/30/2023</td><td>1833.04</td><td>1500</td><td>8616.12</td><td>0</td><td>35850</td><td>NA</td></tr>\n",
       "\t<tr><th scope=row>69</th><td>69</td><td>3/3/2023 </td><td> 618.08</td><td>100</td><td>35950</td><td>201305.0</td><td>6/2/2023 </td><td> 453.98</td><td>1100</td><td>6488.37</td><td>0</td><td>    0</td><td>NA</td></tr>\n",
       "\t<tr><th scope=row>70</th><td>70</td><td>3/3/2023 </td><td>2422.31</td><td>400</td><td>36350</td><td>203727.3</td><td>6/2/2023 </td><td>1815.93</td><td>1000</td><td>5870.29</td><td>0</td><td>    0</td><td>NA</td></tr>\n",
       "\t<tr><th scope=row>71</th><td>71</td><td>3/3/2023 </td><td>2298.31</td><td>400</td><td>36750</td><td>206025.6</td><td>6/2/2023 </td><td>1815.93</td><td> 600</td><td>3447.98</td><td>0</td><td>    0</td><td>NA</td></tr>\n",
       "\t<tr><th scope=row>72</th><td>72</td><td>3/3/2023 </td><td> 605.17</td><td>100</td><td>36850</td><td>206630.7</td><td>6/2/2023 </td><td> 453.98</td><td> 200</td><td>1149.67</td><td>0</td><td>    0</td><td>NA</td></tr>\n",
       "\t<tr><th scope=row>73</th><td>73</td><td>4/27/2023</td><td> 544.50</td><td>100</td><td>36950</td><td>207175.2</td><td>6/2/2023 </td><td> 453.98</td><td> 100</td><td> 544.50</td><td>0</td><td>36950</td><td>NA</td></tr>\n",
       "</tbody>\n",
       "</table>\n"
      ],
      "text/latex": [
       "A data.frame: 6 × 13\n",
       "\\begin{tabular}{r|lllllllllllll}\n",
       "  & index & date & cost & quan & tally\\_q & tally\\_c & date\\_s & proceeds & tally\\_q2 & tally\\_c2 & sold & tally\\_s & X\\\\\n",
       "  & <int> & <chr> & <dbl> & <int> & <int> & <dbl> & <chr> & <dbl> & <int> & <dbl> & <int> & <int> & <lgl>\\\\\n",
       "\\hline\n",
       "\t68 & 68 & 3/3/2023  & 2127.75 & 400 & 35850 & 200686.9 & 5/30/2023 & 1833.04 & 1500 & 8616.12 & 0 & 35850 & NA\\\\\n",
       "\t69 & 69 & 3/3/2023  &  618.08 & 100 & 35950 & 201305.0 & 6/2/2023  &  453.98 & 1100 & 6488.37 & 0 &     0 & NA\\\\\n",
       "\t70 & 70 & 3/3/2023  & 2422.31 & 400 & 36350 & 203727.3 & 6/2/2023  & 1815.93 & 1000 & 5870.29 & 0 &     0 & NA\\\\\n",
       "\t71 & 71 & 3/3/2023  & 2298.31 & 400 & 36750 & 206025.6 & 6/2/2023  & 1815.93 &  600 & 3447.98 & 0 &     0 & NA\\\\\n",
       "\t72 & 72 & 3/3/2023  &  605.17 & 100 & 36850 & 206630.7 & 6/2/2023  &  453.98 &  200 & 1149.67 & 0 &     0 & NA\\\\\n",
       "\t73 & 73 & 4/27/2023 &  544.50 & 100 & 36950 & 207175.2 & 6/2/2023  &  453.98 &  100 &  544.50 & 0 & 36950 & NA\\\\\n",
       "\\end{tabular}\n"
      ],
      "text/markdown": [
       "\n",
       "A data.frame: 6 × 13\n",
       "\n",
       "| <!--/--> | index &lt;int&gt; | date &lt;chr&gt; | cost &lt;dbl&gt; | quan &lt;int&gt; | tally_q &lt;int&gt; | tally_c &lt;dbl&gt; | date_s &lt;chr&gt; | proceeds &lt;dbl&gt; | tally_q2 &lt;int&gt; | tally_c2 &lt;dbl&gt; | sold &lt;int&gt; | tally_s &lt;int&gt; | X &lt;lgl&gt; |\n",
       "|---|---|---|---|---|---|---|---|---|---|---|---|---|---|\n",
       "| 68 | 68 | 3/3/2023  | 2127.75 | 400 | 35850 | 200686.9 | 5/30/2023 | 1833.04 | 1500 | 8616.12 | 0 | 35850 | NA |\n",
       "| 69 | 69 | 3/3/2023  |  618.08 | 100 | 35950 | 201305.0 | 6/2/2023  |  453.98 | 1100 | 6488.37 | 0 |     0 | NA |\n",
       "| 70 | 70 | 3/3/2023  | 2422.31 | 400 | 36350 | 203727.3 | 6/2/2023  | 1815.93 | 1000 | 5870.29 | 0 |     0 | NA |\n",
       "| 71 | 71 | 3/3/2023  | 2298.31 | 400 | 36750 | 206025.6 | 6/2/2023  | 1815.93 |  600 | 3447.98 | 0 |     0 | NA |\n",
       "| 72 | 72 | 3/3/2023  |  605.17 | 100 | 36850 | 206630.7 | 6/2/2023  |  453.98 |  200 | 1149.67 | 0 |     0 | NA |\n",
       "| 73 | 73 | 4/27/2023 |  544.50 | 100 | 36950 | 207175.2 | 6/2/2023  |  453.98 |  100 |  544.50 | 0 | 36950 | NA |\n",
       "\n"
      ],
      "text/plain": [
       "   index date      cost    quan tally_q tally_c  date_s    proceeds tally_q2\n",
       "68 68    3/3/2023  2127.75 400  35850   200686.9 5/30/2023 1833.04  1500    \n",
       "69 69    3/3/2023   618.08 100  35950   201305.0 6/2/2023   453.98  1100    \n",
       "70 70    3/3/2023  2422.31 400  36350   203727.3 6/2/2023  1815.93  1000    \n",
       "71 71    3/3/2023  2298.31 400  36750   206025.6 6/2/2023  1815.93   600    \n",
       "72 72    3/3/2023   605.17 100  36850   206630.7 6/2/2023   453.98   200    \n",
       "73 73    4/27/2023  544.50 100  36950   207175.2 6/2/2023   453.98   100    \n",
       "   tally_c2 sold tally_s X \n",
       "68 8616.12  0    35850   NA\n",
       "69 6488.37  0        0   NA\n",
       "70 5870.29  0        0   NA\n",
       "71 3447.98  0        0   NA\n",
       "72 1149.67  0        0   NA\n",
       "73  544.50  0    36950   NA"
      ]
     },
     "metadata": {},
     "output_type": "display_data"
    },
    {
     "data": {
      "text/html": [
       "64"
      ],
      "text/latex": [
       "64"
      ],
      "text/markdown": [
       "64"
      ],
      "text/plain": [
       "[1] 64"
      ]
     },
     "metadata": {},
     "output_type": "display_data"
    },
    {
     "data": {
      "text/html": [
       "11"
      ],
      "text/latex": [
       "11"
      ],
      "text/markdown": [
       "11"
      ],
      "text/plain": [
       "[1] 11"
      ]
     },
     "metadata": {},
     "output_type": "display_data"
    }
   ],
   "source": [
    "# make fct call 1  (sales 1000)\n",
    "\n",
    "\n",
    "ct <<- 0\n",
    "rat1 <<- 0\n",
    "\n",
    "counter <<- 0\n",
    "\n",
    "# fct call\n",
    "mod_df <<- inter(df, test_value, ct)\n",
    "nrow(mod_df)\n",
    "\n",
    "print(\"-----------------------------------------\")\n",
    "\n",
    "# show the returned ct value\n",
    "print(paste0(\"The returned ct is: \", ct ))\n",
    "print(paste0(\"The returned rat1 is: \", rat1))\n",
    "\n",
    "print(\"-----------------------------------------\")\n",
    "\n",
    "# create portions of the df\n",
    "df1a <- df1[1:ct, ]\n",
    "df <- df[ct:nrow(df), ]\n",
    "\n",
    "\n",
    "# print the modified df, and portions of the df\n",
    "head(mod_df,12)\n",
    "nrow(mod_df)\n",
    "print(\"-----------------------------------------\")\n",
    "print(df1a)  # This is good.\n",
    "nrow(df1a)\n",
    "print(\"-----------------------------------------\")\n",
    "tail(df)  # this is good\n",
    "nrow(df)\n",
    "length(sales) # sale[] = 22 == 1000"
   ]
  },
  {
   "cell_type": "code",
   "execution_count": 430,
   "id": "01dfa5e8-6097-4cd0-a31b-4177a9a3857a",
   "metadata": {},
   "outputs": [
    {
     "data": {
      "text/html": [
       "9"
      ],
      "text/latex": [
       "9"
      ],
      "text/markdown": [
       "9"
      ],
      "text/plain": [
       "[1] 9"
      ]
     },
     "metadata": {},
     "output_type": "display_data"
    }
   ],
   "source": [
    "counter"
   ]
  },
  {
   "cell_type": "code",
   "execution_count": 431,
   "id": "2ba5b8e5-5166-49ad-8de3-497181e83335",
   "metadata": {},
   "outputs": [
    {
     "data": {
      "text/html": [
       "5000"
      ],
      "text/latex": [
       "5000"
      ],
      "text/markdown": [
       "5000"
      ],
      "text/plain": [
       "[1] 5000"
      ]
     },
     "metadata": {},
     "output_type": "display_data"
    }
   ],
   "source": [
    "cumSales"
   ]
  },
  {
   "cell_type": "code",
   "execution_count": 432,
   "id": "7c825516-5a8d-486f-b899-212b4fe2a19d",
   "metadata": {},
   "outputs": [
    {
     "data": {
      "text/html": [
       "<table class=\"dataframe\">\n",
       "<caption>A data.frame: 64 × 13</caption>\n",
       "<thead>\n",
       "\t<tr><th></th><th scope=col>index</th><th scope=col>date</th><th scope=col>cost</th><th scope=col>quan</th><th scope=col>tally_q</th><th scope=col>tally_c</th><th scope=col>date_s</th><th scope=col>proceeds</th><th scope=col>tally_q2</th><th scope=col>tally_c2</th><th scope=col>sold</th><th scope=col>tally_s</th><th scope=col>X</th></tr>\n",
       "\t<tr><th></th><th scope=col>&lt;int&gt;</th><th scope=col>&lt;chr&gt;</th><th scope=col>&lt;dbl&gt;</th><th scope=col>&lt;int&gt;</th><th scope=col>&lt;int&gt;</th><th scope=col>&lt;dbl&gt;</th><th scope=col>&lt;chr&gt;</th><th scope=col>&lt;dbl&gt;</th><th scope=col>&lt;int&gt;</th><th scope=col>&lt;dbl&gt;</th><th scope=col>&lt;int&gt;</th><th scope=col>&lt;int&gt;</th><th scope=col>&lt;lgl&gt;</th></tr>\n",
       "</thead>\n",
       "<tbody>\n",
       "\t<tr><th scope=row>10</th><td>10</td><td>1/27/2023 </td><td>4453.49</td><td> 850</td><td>1850</td><td>11166.45</td><td>2/21/2023</td><td> 4976.50</td><td>35950</td><td>200462.3</td><td>0</td><td>   0</td><td>NA</td></tr>\n",
       "\t<tr><th scope=row>11</th><td>11</td><td>11/30/2022</td><td> 264.80</td><td>  50</td><td>1900</td><td>11431.25</td><td>2/21/2023</td><td>  330.74</td><td>35100</td><td>196008.8</td><td>0</td><td>   0</td><td>NA</td></tr>\n",
       "\t<tr><th scope=row>12</th><td>12</td><td>11/30/2022</td><td> 273.29</td><td>  50</td><td>1950</td><td>11704.54</td><td>2/21/2023</td><td>  292.74</td><td>35050</td><td>195744.0</td><td>0</td><td>   0</td><td>NA</td></tr>\n",
       "\t<tr><th scope=row>13</th><td>13</td><td>11/30/2022</td><td> 320.29</td><td>  50</td><td>2000</td><td>12024.83</td><td>2/21/2023</td><td>  292.74</td><td>35000</td><td>195470.7</td><td>0</td><td>   0</td><td>NA</td></tr>\n",
       "\t<tr><th scope=row>14</th><td>14</td><td>11/15/2022</td><td>4068.90</td><td> 500</td><td>2500</td><td>16093.73</td><td>1/27/2023</td><td> 2756.06</td><td>34950</td><td>195150.4</td><td>0</td><td>   0</td><td>NA</td></tr>\n",
       "\t<tr><th scope=row>15</th><td>15</td><td>11/15/2022</td><td>3171.79</td><td> 500</td><td>3000</td><td>19265.52</td><td>2/3/2023 </td><td> 3094.90</td><td>34450</td><td>191081.5</td><td>0</td><td>   0</td><td>NA</td></tr>\n",
       "\t<tr><th scope=row>16</th><td>16</td><td>11/15/2022</td><td>3679.44</td><td> 500</td><td>3500</td><td>22944.96</td><td>2/3/2023 </td><td> 3127.35</td><td>33950</td><td>187909.7</td><td>0</td><td>   0</td><td>NA</td></tr>\n",
       "\t<tr><th scope=row>17</th><td>17</td><td>11/15/2022</td><td>4125.34</td><td> 500</td><td>4000</td><td>27070.30</td><td>2/3/2023 </td><td> 3339.90</td><td>33450</td><td>184230.3</td><td>0</td><td>4000</td><td>NA</td></tr>\n",
       "\t<tr><th scope=row>18</th><td>18</td><td>11/15/2022</td><td>2466.89</td><td> 500</td><td>4500</td><td>29537.19</td><td>2/21/2023</td><td> 2927.36</td><td>32950</td><td>180104.9</td><td>0</td><td>   0</td><td>NA</td></tr>\n",
       "\t<tr><th scope=row>19</th><td>19</td><td>9/15/2022 </td><td> 503.42</td><td>  50</td><td>4550</td><td>30040.61</td><td>1/27/2023</td><td>  275.61</td><td>32450</td><td>177638.0</td><td>0</td><td>   0</td><td>NA</td></tr>\n",
       "\t<tr><th scope=row>20</th><td>20</td><td>9/15/2022 </td><td>1989.98</td><td> 200</td><td>4750</td><td>32030.59</td><td>1/27/2023</td><td> 1102.42</td><td>32400</td><td>177134.6</td><td>0</td><td>   0</td><td>NA</td></tr>\n",
       "\t<tr><th scope=row>21</th><td>21</td><td>9/15/2022 </td><td> 464.47</td><td>  50</td><td>4800</td><td>32495.06</td><td>2/3/2023 </td><td>  312.74</td><td>32200</td><td>175144.6</td><td>0</td><td>   0</td><td>NA</td></tr>\n",
       "\t<tr><th scope=row>22</th><td>22</td><td>9/15/2022 </td><td> 509.06</td><td>  50</td><td>4850</td><td>33004.12</td><td>2/3/2023 </td><td>  333.99</td><td>32150</td><td>174680.2</td><td>0</td><td>   0</td><td>NA</td></tr>\n",
       "\t<tr><th scope=row>23</th><td>23</td><td>9/15/2022 </td><td> 917.10</td><td> 100</td><td>4950</td><td>33921.22</td><td>2/3/2023 </td><td>  668.47</td><td>32100</td><td>174171.1</td><td>0</td><td>   0</td><td>NA</td></tr>\n",
       "\t<tr><th scope=row>24</th><td>24</td><td>9/15/2022 </td><td> 725.90</td><td> 100</td><td>5050</td><td>34647.12</td><td>2/3/2023 </td><td>  618.98</td><td>32000</td><td>173254.0</td><td>0</td><td>   0</td><td>NA</td></tr>\n",
       "\t<tr><th scope=row>25</th><td>25</td><td>9/15/2022 </td><td> 772.57</td><td> 100</td><td>5150</td><td>35419.69</td><td>2/3/2023 </td><td>  625.47</td><td>31900</td><td>172528.1</td><td>0</td><td>   0</td><td>NA</td></tr>\n",
       "\t<tr><th scope=row>26</th><td>26</td><td>9/15/2022 </td><td> 917.10</td><td> 100</td><td>5250</td><td>36336.79</td><td>2/3/2023 </td><td>  625.47</td><td>31800</td><td>171755.5</td><td>0</td><td>   0</td><td>NA</td></tr>\n",
       "\t<tr><th scope=row>27</th><td>27</td><td>9/15/2022 </td><td>2012.56</td><td> 200</td><td>5450</td><td>38349.35</td><td>2/3/2023 </td><td> 1335.96</td><td>31700</td><td>170838.5</td><td>0</td><td>   0</td><td>NA</td></tr>\n",
       "\t<tr><th scope=row>28</th><td>28</td><td>9/15/2022 </td><td> 815.57</td><td> 100</td><td>5550</td><td>39164.92</td><td>2/3/2023 </td><td>  618.98</td><td>31500</td><td>168825.9</td><td>0</td><td>   0</td><td>NA</td></tr>\n",
       "\t<tr><th scope=row>29</th><td>29</td><td>9/15/2022 </td><td> 413.70</td><td>  50</td><td>5600</td><td>39578.62</td><td>2/3/2023 </td><td>  309.49</td><td>31400</td><td>168010.3</td><td>0</td><td>   0</td><td>NA</td></tr>\n",
       "\t<tr><th scope=row>30</th><td>30</td><td>9/15/2022 </td><td> 674.59</td><td> 100</td><td>5700</td><td>40253.21</td><td>2/21/2023</td><td>  585.47</td><td>31350</td><td>167596.6</td><td>0</td><td>   0</td><td>NA</td></tr>\n",
       "\t<tr><th scope=row>31</th><td>31</td><td>9/15/2022 </td><td> 630.86</td><td> 100</td><td>5800</td><td>40884.07</td><td>2/21/2023</td><td>  585.47</td><td>31250</td><td>166922.0</td><td>0</td><td>   0</td><td>NA</td></tr>\n",
       "\t<tr><th scope=row>32</th><td>32</td><td>9/15/2022 </td><td> 343.21</td><td>  50</td><td>5850</td><td>41227.28</td><td>2/21/2023</td><td>  292.74</td><td>31150</td><td>166291.2</td><td>0</td><td>   0</td><td>NA</td></tr>\n",
       "\t<tr><th scope=row>33</th><td>33</td><td>9/15/2022 </td><td> 287.72</td><td>  50</td><td>5900</td><td>41515.00</td><td>2/22/2023</td><td>  330.74</td><td>31100</td><td>165948.0</td><td>0</td><td>   0</td><td>NA</td></tr>\n",
       "\t<tr><th scope=row>34</th><td>34</td><td>9/15/2022 </td><td> 563.62</td><td> 100</td><td>6000</td><td>42078.62</td><td>2/22/2023</td><td>  661.47</td><td>31050</td><td>165660.2</td><td>0</td><td>   0</td><td>NA</td></tr>\n",
       "\t<tr><th scope=row>35</th><td>35</td><td>9/15/2022 </td><td> 519.89</td><td> 100</td><td>6100</td><td>42598.51</td><td>2/22/2023</td><td>  661.47</td><td>30950</td><td>165096.6</td><td>0</td><td>   0</td><td>NA</td></tr>\n",
       "\t<tr><th scope=row>36</th><td>36</td><td>2/10/2023 </td><td>3558.75</td><td> 750</td><td>6850</td><td>46157.26</td><td>2/22/2023</td><td> 4961.02</td><td>30850</td><td>164576.7</td><td>0</td><td>   0</td><td>NA</td></tr>\n",
       "\t<tr><th scope=row>37</th><td>37</td><td>2/10/2023 </td><td>1195.00</td><td> 250</td><td>7100</td><td>47352.26</td><td>2/21/2023</td><td> 1463.68</td><td>30100</td><td>161018.0</td><td>0</td><td>7000</td><td>NA</td></tr>\n",
       "\t<tr><th scope=row>38</th><td>38</td><td>2/10/2023 </td><td>4507.75</td><td> 950</td><td>8050</td><td>51860.01</td><td>2/21/2023</td><td> 5561.98</td><td>29850</td><td>159823.0</td><td>0</td><td>   0</td><td>NA</td></tr>\n",
       "\t<tr><th scope=row>39</th><td>39</td><td>2/13/2023 </td><td>7077.45</td><td>1500</td><td>9550</td><td>58937.46</td><td>2/27/2023</td><td>10110.89</td><td>28900</td><td>155315.2</td><td>0</td><td>   0</td><td>NA</td></tr>\n",
       "\t<tr><th scope=row>⋮</th><td>⋮</td><td>⋮</td><td>⋮</td><td>⋮</td><td>⋮</td><td>⋮</td><td>⋮</td><td>⋮</td><td>⋮</td><td>⋮</td><td>⋮</td><td>⋮</td><td>⋮</td></tr>\n",
       "\t<tr><th scope=row>44</th><td>44</td><td>2/15/2023</td><td> 8843.18</td><td>1850</td><td>16700</td><td> 92804.45</td><td>2/27/2023</td><td>14031.86</td><td>22100</td><td>123213.97</td><td>0</td><td>    0</td><td>NA</td></tr>\n",
       "\t<tr><th scope=row>45</th><td>45</td><td>2/15/2023</td><td> 4780.10</td><td>1000</td><td>17700</td><td> 97584.55</td><td>2/27/2023</td><td> 7815.78</td><td>20250</td><td>114370.79</td><td>0</td><td>    0</td><td>NA</td></tr>\n",
       "\t<tr><th scope=row>46</th><td>46</td><td>2/15/2023</td><td> 5497.12</td><td>1150</td><td>18850</td><td>103081.67</td><td>2/27/2023</td><td> 7751.69</td><td>19250</td><td>109590.69</td><td>0</td><td>18850</td><td>NA</td></tr>\n",
       "\t<tr><th scope=row>47</th><td>47</td><td>3/3/2023 </td><td> 6485.00</td><td>1000</td><td>19850</td><td>109566.67</td><td>3/3/2023 </td><td> 6551.10</td><td>18100</td><td>104093.57</td><td>0</td><td>    0</td><td>NA</td></tr>\n",
       "\t<tr><th scope=row>48</th><td>48</td><td>3/3/2023 </td><td>13178.20</td><td>2000</td><td>21850</td><td>122744.87</td><td>3/3/2023 </td><td>13102.20</td><td>17100</td><td> 97608.57</td><td>0</td><td>21850</td><td>NA</td></tr>\n",
       "\t<tr><th scope=row>49</th><td>49</td><td>3/3/2023 </td><td> 3396.70</td><td> 500</td><td>22350</td><td>126141.57</td><td>3/8/2023 </td><td> 2859.90</td><td>15100</td><td> 84430.37</td><td>0</td><td>    0</td><td>NA</td></tr>\n",
       "\t<tr><th scope=row>50</th><td>50</td><td>3/3/2023 </td><td>19767.30</td><td>3000</td><td>25350</td><td>145908.87</td><td>3/8/2023 </td><td>17834.41</td><td>14600</td><td> 81033.67</td><td>0</td><td>    0</td><td>NA</td></tr>\n",
       "\t<tr><th scope=row>51</th><td>51</td><td>3/3/2023 </td><td> 2717.36</td><td> 400</td><td>25750</td><td>148626.23</td><td>3/8/2023 </td><td> 2337.92</td><td>11600</td><td> 61266.37</td><td>0</td><td>    0</td><td>NA</td></tr>\n",
       "\t<tr><th scope=row>52</th><td>52</td><td>3/3/2023 </td><td>  678.93</td><td> 100</td><td>25850</td><td>149305.16</td><td>3/8/2023 </td><td>  584.48</td><td>11200</td><td> 58549.01</td><td>0</td><td>    0</td><td>NA</td></tr>\n",
       "\t<tr><th scope=row>53</th><td>53</td><td>3/3/2023 </td><td>12374.20</td><td>2000</td><td>27850</td><td>161679.36</td><td>3/8/2023 </td><td>11509.61</td><td>11100</td><td> 57870.08</td><td>0</td><td>27850</td><td>NA</td></tr>\n",
       "\t<tr><th scope=row>54</th><td>54</td><td>3/3/2023 </td><td> 4939.30</td><td>1000</td><td>28850</td><td>166618.66</td><td>4/6/2023 </td><td> 4914.82</td><td> 9100</td><td> 45495.88</td><td>0</td><td>    0</td><td>NA</td></tr>\n",
       "\t<tr><th scope=row>55</th><td>55</td><td>3/3/2023 </td><td>  846.81</td><td> 190</td><td>29040</td><td>167465.47</td><td>4/20/2023</td><td>  941.41</td><td> 8100</td><td> 40556.58</td><td>0</td><td>    0</td><td>NA</td></tr>\n",
       "\t<tr><th scope=row>56</th><td>56</td><td>3/3/2023 </td><td> 4951.69</td><td>1000</td><td>30040</td><td>172417.16</td><td>4/20/2023</td><td> 4914.81</td><td> 7910</td><td> 39709.77</td><td>0</td><td>29850</td><td>NA</td></tr>\n",
       "\t<tr><th scope=row>57</th><td>57</td><td>3/3/2023 </td><td> 3610.07</td><td> 810</td><td>30850</td><td>176027.23</td><td>4/20/2023</td><td> 4005.29</td><td> 6910</td><td> 34758.08</td><td>0</td><td>    0</td><td>NA</td></tr>\n",
       "\t<tr><th scope=row>58</th><td>58</td><td>3/3/2023 </td><td> 4739.70</td><td>1000</td><td>31850</td><td>180766.93</td><td>4/20/2023</td><td> 4989.21</td><td> 6100</td><td> 31148.01</td><td>0</td><td>    0</td><td>NA</td></tr>\n",
       "\t<tr><th scope=row>59</th><td>59</td><td>3/3/2023 </td><td> 4722.29</td><td>1000</td><td>32850</td><td>185489.22</td><td>4/20/2023</td><td> 4989.22</td><td> 5100</td><td> 26408.31</td><td>0</td><td>    0</td><td>NA</td></tr>\n",
       "\t<tr><th scope=row>60</th><td>60</td><td>3/3/2023 </td><td> 2649.30</td><td> 500</td><td>33350</td><td>188138.52</td><td>4/20/2023</td><td> 2494.61</td><td> 4100</td><td> 21686.02</td><td>0</td><td>    0</td><td>NA</td></tr>\n",
       "\t<tr><th scope=row>61</th><td>61</td><td>3/3/2023 </td><td>  844.45</td><td> 190</td><td>33540</td><td>188982.97</td><td>4/20/2023</td><td>  944.26</td><td> 3600</td><td> 19036.72</td><td>0</td><td>    0</td><td>NA</td></tr>\n",
       "\t<tr><th scope=row>62</th><td>62</td><td>3/3/2023 </td><td> 3600.03</td><td> 810</td><td>34350</td><td>192583.00</td><td>4/20/2023</td><td> 4013.40</td><td> 3410</td><td> 18192.27</td><td>0</td><td>    0</td><td>NA</td></tr>\n",
       "\t<tr><th scope=row>63</th><td>63</td><td>3/3/2023 </td><td>  516.95</td><td> 100</td><td>34450</td><td>193099.95</td><td>4/20/2023</td><td>  498.92</td><td> 2600</td><td> 14592.24</td><td>0</td><td>    0</td><td>NA</td></tr>\n",
       "\t<tr><th scope=row>64</th><td>64</td><td>3/3/2023 </td><td> 2069.44</td><td> 400</td><td>34850</td><td>195169.39</td><td>4/20/2023</td><td> 1995.68</td><td> 2500</td><td> 14075.29</td><td>0</td><td>    0</td><td>NA</td></tr>\n",
       "\t<tr><th scope=row>65</th><td>65</td><td>3/3/2023 </td><td>  562.53</td><td> 100</td><td>34950</td><td>195731.92</td><td>5/30/2023</td><td>  458.26</td><td> 2100</td><td> 12005.85</td><td>0</td><td>34850</td><td>NA</td></tr>\n",
       "\t<tr><th scope=row>66</th><td>66</td><td>3/3/2023 </td><td>  575.44</td><td> 100</td><td>35050</td><td>196307.36</td><td>5/30/2023</td><td>  458.26</td><td> 2000</td><td> 11443.32</td><td>0</td><td>    0</td><td>NA</td></tr>\n",
       "\t<tr><th scope=row>67</th><td>67</td><td>3/3/2023 </td><td> 2251.76</td><td> 400</td><td>35450</td><td>198559.12</td><td>5/30/2023</td><td> 1833.05</td><td> 1900</td><td> 10867.88</td><td>0</td><td>    0</td><td>NA</td></tr>\n",
       "\t<tr><th scope=row>68</th><td>68</td><td>3/3/2023 </td><td> 2127.75</td><td> 400</td><td>35850</td><td>200686.87</td><td>5/30/2023</td><td> 1833.04</td><td> 1500</td><td>  8616.12</td><td>0</td><td>35850</td><td>NA</td></tr>\n",
       "\t<tr><th scope=row>69</th><td>69</td><td>3/3/2023 </td><td>  618.08</td><td> 100</td><td>35950</td><td>201304.95</td><td>6/2/2023 </td><td>  453.98</td><td> 1100</td><td>  6488.37</td><td>0</td><td>    0</td><td>NA</td></tr>\n",
       "\t<tr><th scope=row>70</th><td>70</td><td>3/3/2023 </td><td> 2422.31</td><td> 400</td><td>36350</td><td>203727.26</td><td>6/2/2023 </td><td> 1815.93</td><td> 1000</td><td>  5870.29</td><td>0</td><td>    0</td><td>NA</td></tr>\n",
       "\t<tr><th scope=row>71</th><td>71</td><td>3/3/2023 </td><td> 2298.31</td><td> 400</td><td>36750</td><td>206025.57</td><td>6/2/2023 </td><td> 1815.93</td><td>  600</td><td>  3447.98</td><td>0</td><td>    0</td><td>NA</td></tr>\n",
       "\t<tr><th scope=row>72</th><td>72</td><td>3/3/2023 </td><td>  605.17</td><td> 100</td><td>36850</td><td>206630.74</td><td>6/2/2023 </td><td>  453.98</td><td>  200</td><td>  1149.67</td><td>0</td><td>    0</td><td>NA</td></tr>\n",
       "\t<tr><th scope=row>73</th><td>73</td><td>4/27/2023</td><td>  544.50</td><td> 100</td><td>36950</td><td>207175.24</td><td>6/2/2023 </td><td>  453.98</td><td>  100</td><td>   544.50</td><td>0</td><td>36950</td><td>NA</td></tr>\n",
       "</tbody>\n",
       "</table>\n"
      ],
      "text/latex": [
       "A data.frame: 64 × 13\n",
       "\\begin{tabular}{r|lllllllllllll}\n",
       "  & index & date & cost & quan & tally\\_q & tally\\_c & date\\_s & proceeds & tally\\_q2 & tally\\_c2 & sold & tally\\_s & X\\\\\n",
       "  & <int> & <chr> & <dbl> & <int> & <int> & <dbl> & <chr> & <dbl> & <int> & <dbl> & <int> & <int> & <lgl>\\\\\n",
       "\\hline\n",
       "\t10 & 10 & 1/27/2023  & 4453.49 &  850 & 1850 & 11166.45 & 2/21/2023 &  4976.50 & 35950 & 200462.3 & 0 &    0 & NA\\\\\n",
       "\t11 & 11 & 11/30/2022 &  264.80 &   50 & 1900 & 11431.25 & 2/21/2023 &   330.74 & 35100 & 196008.8 & 0 &    0 & NA\\\\\n",
       "\t12 & 12 & 11/30/2022 &  273.29 &   50 & 1950 & 11704.54 & 2/21/2023 &   292.74 & 35050 & 195744.0 & 0 &    0 & NA\\\\\n",
       "\t13 & 13 & 11/30/2022 &  320.29 &   50 & 2000 & 12024.83 & 2/21/2023 &   292.74 & 35000 & 195470.7 & 0 &    0 & NA\\\\\n",
       "\t14 & 14 & 11/15/2022 & 4068.90 &  500 & 2500 & 16093.73 & 1/27/2023 &  2756.06 & 34950 & 195150.4 & 0 &    0 & NA\\\\\n",
       "\t15 & 15 & 11/15/2022 & 3171.79 &  500 & 3000 & 19265.52 & 2/3/2023  &  3094.90 & 34450 & 191081.5 & 0 &    0 & NA\\\\\n",
       "\t16 & 16 & 11/15/2022 & 3679.44 &  500 & 3500 & 22944.96 & 2/3/2023  &  3127.35 & 33950 & 187909.7 & 0 &    0 & NA\\\\\n",
       "\t17 & 17 & 11/15/2022 & 4125.34 &  500 & 4000 & 27070.30 & 2/3/2023  &  3339.90 & 33450 & 184230.3 & 0 & 4000 & NA\\\\\n",
       "\t18 & 18 & 11/15/2022 & 2466.89 &  500 & 4500 & 29537.19 & 2/21/2023 &  2927.36 & 32950 & 180104.9 & 0 &    0 & NA\\\\\n",
       "\t19 & 19 & 9/15/2022  &  503.42 &   50 & 4550 & 30040.61 & 1/27/2023 &   275.61 & 32450 & 177638.0 & 0 &    0 & NA\\\\\n",
       "\t20 & 20 & 9/15/2022  & 1989.98 &  200 & 4750 & 32030.59 & 1/27/2023 &  1102.42 & 32400 & 177134.6 & 0 &    0 & NA\\\\\n",
       "\t21 & 21 & 9/15/2022  &  464.47 &   50 & 4800 & 32495.06 & 2/3/2023  &   312.74 & 32200 & 175144.6 & 0 &    0 & NA\\\\\n",
       "\t22 & 22 & 9/15/2022  &  509.06 &   50 & 4850 & 33004.12 & 2/3/2023  &   333.99 & 32150 & 174680.2 & 0 &    0 & NA\\\\\n",
       "\t23 & 23 & 9/15/2022  &  917.10 &  100 & 4950 & 33921.22 & 2/3/2023  &   668.47 & 32100 & 174171.1 & 0 &    0 & NA\\\\\n",
       "\t24 & 24 & 9/15/2022  &  725.90 &  100 & 5050 & 34647.12 & 2/3/2023  &   618.98 & 32000 & 173254.0 & 0 &    0 & NA\\\\\n",
       "\t25 & 25 & 9/15/2022  &  772.57 &  100 & 5150 & 35419.69 & 2/3/2023  &   625.47 & 31900 & 172528.1 & 0 &    0 & NA\\\\\n",
       "\t26 & 26 & 9/15/2022  &  917.10 &  100 & 5250 & 36336.79 & 2/3/2023  &   625.47 & 31800 & 171755.5 & 0 &    0 & NA\\\\\n",
       "\t27 & 27 & 9/15/2022  & 2012.56 &  200 & 5450 & 38349.35 & 2/3/2023  &  1335.96 & 31700 & 170838.5 & 0 &    0 & NA\\\\\n",
       "\t28 & 28 & 9/15/2022  &  815.57 &  100 & 5550 & 39164.92 & 2/3/2023  &   618.98 & 31500 & 168825.9 & 0 &    0 & NA\\\\\n",
       "\t29 & 29 & 9/15/2022  &  413.70 &   50 & 5600 & 39578.62 & 2/3/2023  &   309.49 & 31400 & 168010.3 & 0 &    0 & NA\\\\\n",
       "\t30 & 30 & 9/15/2022  &  674.59 &  100 & 5700 & 40253.21 & 2/21/2023 &   585.47 & 31350 & 167596.6 & 0 &    0 & NA\\\\\n",
       "\t31 & 31 & 9/15/2022  &  630.86 &  100 & 5800 & 40884.07 & 2/21/2023 &   585.47 & 31250 & 166922.0 & 0 &    0 & NA\\\\\n",
       "\t32 & 32 & 9/15/2022  &  343.21 &   50 & 5850 & 41227.28 & 2/21/2023 &   292.74 & 31150 & 166291.2 & 0 &    0 & NA\\\\\n",
       "\t33 & 33 & 9/15/2022  &  287.72 &   50 & 5900 & 41515.00 & 2/22/2023 &   330.74 & 31100 & 165948.0 & 0 &    0 & NA\\\\\n",
       "\t34 & 34 & 9/15/2022  &  563.62 &  100 & 6000 & 42078.62 & 2/22/2023 &   661.47 & 31050 & 165660.2 & 0 &    0 & NA\\\\\n",
       "\t35 & 35 & 9/15/2022  &  519.89 &  100 & 6100 & 42598.51 & 2/22/2023 &   661.47 & 30950 & 165096.6 & 0 &    0 & NA\\\\\n",
       "\t36 & 36 & 2/10/2023  & 3558.75 &  750 & 6850 & 46157.26 & 2/22/2023 &  4961.02 & 30850 & 164576.7 & 0 &    0 & NA\\\\\n",
       "\t37 & 37 & 2/10/2023  & 1195.00 &  250 & 7100 & 47352.26 & 2/21/2023 &  1463.68 & 30100 & 161018.0 & 0 & 7000 & NA\\\\\n",
       "\t38 & 38 & 2/10/2023  & 4507.75 &  950 & 8050 & 51860.01 & 2/21/2023 &  5561.98 & 29850 & 159823.0 & 0 &    0 & NA\\\\\n",
       "\t39 & 39 & 2/13/2023  & 7077.45 & 1500 & 9550 & 58937.46 & 2/27/2023 & 10110.89 & 28900 & 155315.2 & 0 &    0 & NA\\\\\n",
       "\t⋮ & ⋮ & ⋮ & ⋮ & ⋮ & ⋮ & ⋮ & ⋮ & ⋮ & ⋮ & ⋮ & ⋮ & ⋮ & ⋮\\\\\n",
       "\t44 & 44 & 2/15/2023 &  8843.18 & 1850 & 16700 &  92804.45 & 2/27/2023 & 14031.86 & 22100 & 123213.97 & 0 &     0 & NA\\\\\n",
       "\t45 & 45 & 2/15/2023 &  4780.10 & 1000 & 17700 &  97584.55 & 2/27/2023 &  7815.78 & 20250 & 114370.79 & 0 &     0 & NA\\\\\n",
       "\t46 & 46 & 2/15/2023 &  5497.12 & 1150 & 18850 & 103081.67 & 2/27/2023 &  7751.69 & 19250 & 109590.69 & 0 & 18850 & NA\\\\\n",
       "\t47 & 47 & 3/3/2023  &  6485.00 & 1000 & 19850 & 109566.67 & 3/3/2023  &  6551.10 & 18100 & 104093.57 & 0 &     0 & NA\\\\\n",
       "\t48 & 48 & 3/3/2023  & 13178.20 & 2000 & 21850 & 122744.87 & 3/3/2023  & 13102.20 & 17100 &  97608.57 & 0 & 21850 & NA\\\\\n",
       "\t49 & 49 & 3/3/2023  &  3396.70 &  500 & 22350 & 126141.57 & 3/8/2023  &  2859.90 & 15100 &  84430.37 & 0 &     0 & NA\\\\\n",
       "\t50 & 50 & 3/3/2023  & 19767.30 & 3000 & 25350 & 145908.87 & 3/8/2023  & 17834.41 & 14600 &  81033.67 & 0 &     0 & NA\\\\\n",
       "\t51 & 51 & 3/3/2023  &  2717.36 &  400 & 25750 & 148626.23 & 3/8/2023  &  2337.92 & 11600 &  61266.37 & 0 &     0 & NA\\\\\n",
       "\t52 & 52 & 3/3/2023  &   678.93 &  100 & 25850 & 149305.16 & 3/8/2023  &   584.48 & 11200 &  58549.01 & 0 &     0 & NA\\\\\n",
       "\t53 & 53 & 3/3/2023  & 12374.20 & 2000 & 27850 & 161679.36 & 3/8/2023  & 11509.61 & 11100 &  57870.08 & 0 & 27850 & NA\\\\\n",
       "\t54 & 54 & 3/3/2023  &  4939.30 & 1000 & 28850 & 166618.66 & 4/6/2023  &  4914.82 &  9100 &  45495.88 & 0 &     0 & NA\\\\\n",
       "\t55 & 55 & 3/3/2023  &   846.81 &  190 & 29040 & 167465.47 & 4/20/2023 &   941.41 &  8100 &  40556.58 & 0 &     0 & NA\\\\\n",
       "\t56 & 56 & 3/3/2023  &  4951.69 & 1000 & 30040 & 172417.16 & 4/20/2023 &  4914.81 &  7910 &  39709.77 & 0 & 29850 & NA\\\\\n",
       "\t57 & 57 & 3/3/2023  &  3610.07 &  810 & 30850 & 176027.23 & 4/20/2023 &  4005.29 &  6910 &  34758.08 & 0 &     0 & NA\\\\\n",
       "\t58 & 58 & 3/3/2023  &  4739.70 & 1000 & 31850 & 180766.93 & 4/20/2023 &  4989.21 &  6100 &  31148.01 & 0 &     0 & NA\\\\\n",
       "\t59 & 59 & 3/3/2023  &  4722.29 & 1000 & 32850 & 185489.22 & 4/20/2023 &  4989.22 &  5100 &  26408.31 & 0 &     0 & NA\\\\\n",
       "\t60 & 60 & 3/3/2023  &  2649.30 &  500 & 33350 & 188138.52 & 4/20/2023 &  2494.61 &  4100 &  21686.02 & 0 &     0 & NA\\\\\n",
       "\t61 & 61 & 3/3/2023  &   844.45 &  190 & 33540 & 188982.97 & 4/20/2023 &   944.26 &  3600 &  19036.72 & 0 &     0 & NA\\\\\n",
       "\t62 & 62 & 3/3/2023  &  3600.03 &  810 & 34350 & 192583.00 & 4/20/2023 &  4013.40 &  3410 &  18192.27 & 0 &     0 & NA\\\\\n",
       "\t63 & 63 & 3/3/2023  &   516.95 &  100 & 34450 & 193099.95 & 4/20/2023 &   498.92 &  2600 &  14592.24 & 0 &     0 & NA\\\\\n",
       "\t64 & 64 & 3/3/2023  &  2069.44 &  400 & 34850 & 195169.39 & 4/20/2023 &  1995.68 &  2500 &  14075.29 & 0 &     0 & NA\\\\\n",
       "\t65 & 65 & 3/3/2023  &   562.53 &  100 & 34950 & 195731.92 & 5/30/2023 &   458.26 &  2100 &  12005.85 & 0 & 34850 & NA\\\\\n",
       "\t66 & 66 & 3/3/2023  &   575.44 &  100 & 35050 & 196307.36 & 5/30/2023 &   458.26 &  2000 &  11443.32 & 0 &     0 & NA\\\\\n",
       "\t67 & 67 & 3/3/2023  &  2251.76 &  400 & 35450 & 198559.12 & 5/30/2023 &  1833.05 &  1900 &  10867.88 & 0 &     0 & NA\\\\\n",
       "\t68 & 68 & 3/3/2023  &  2127.75 &  400 & 35850 & 200686.87 & 5/30/2023 &  1833.04 &  1500 &   8616.12 & 0 & 35850 & NA\\\\\n",
       "\t69 & 69 & 3/3/2023  &   618.08 &  100 & 35950 & 201304.95 & 6/2/2023  &   453.98 &  1100 &   6488.37 & 0 &     0 & NA\\\\\n",
       "\t70 & 70 & 3/3/2023  &  2422.31 &  400 & 36350 & 203727.26 & 6/2/2023  &  1815.93 &  1000 &   5870.29 & 0 &     0 & NA\\\\\n",
       "\t71 & 71 & 3/3/2023  &  2298.31 &  400 & 36750 & 206025.57 & 6/2/2023  &  1815.93 &   600 &   3447.98 & 0 &     0 & NA\\\\\n",
       "\t72 & 72 & 3/3/2023  &   605.17 &  100 & 36850 & 206630.74 & 6/2/2023  &   453.98 &   200 &   1149.67 & 0 &     0 & NA\\\\\n",
       "\t73 & 73 & 4/27/2023 &   544.50 &  100 & 36950 & 207175.24 & 6/2/2023  &   453.98 &   100 &    544.50 & 0 & 36950 & NA\\\\\n",
       "\\end{tabular}\n"
      ],
      "text/markdown": [
       "\n",
       "A data.frame: 64 × 13\n",
       "\n",
       "| <!--/--> | index &lt;int&gt; | date &lt;chr&gt; | cost &lt;dbl&gt; | quan &lt;int&gt; | tally_q &lt;int&gt; | tally_c &lt;dbl&gt; | date_s &lt;chr&gt; | proceeds &lt;dbl&gt; | tally_q2 &lt;int&gt; | tally_c2 &lt;dbl&gt; | sold &lt;int&gt; | tally_s &lt;int&gt; | X &lt;lgl&gt; |\n",
       "|---|---|---|---|---|---|---|---|---|---|---|---|---|---|\n",
       "| 10 | 10 | 1/27/2023  | 4453.49 |  850 | 1850 | 11166.45 | 2/21/2023 |  4976.50 | 35950 | 200462.3 | 0 |    0 | NA |\n",
       "| 11 | 11 | 11/30/2022 |  264.80 |   50 | 1900 | 11431.25 | 2/21/2023 |   330.74 | 35100 | 196008.8 | 0 |    0 | NA |\n",
       "| 12 | 12 | 11/30/2022 |  273.29 |   50 | 1950 | 11704.54 | 2/21/2023 |   292.74 | 35050 | 195744.0 | 0 |    0 | NA |\n",
       "| 13 | 13 | 11/30/2022 |  320.29 |   50 | 2000 | 12024.83 | 2/21/2023 |   292.74 | 35000 | 195470.7 | 0 |    0 | NA |\n",
       "| 14 | 14 | 11/15/2022 | 4068.90 |  500 | 2500 | 16093.73 | 1/27/2023 |  2756.06 | 34950 | 195150.4 | 0 |    0 | NA |\n",
       "| 15 | 15 | 11/15/2022 | 3171.79 |  500 | 3000 | 19265.52 | 2/3/2023  |  3094.90 | 34450 | 191081.5 | 0 |    0 | NA |\n",
       "| 16 | 16 | 11/15/2022 | 3679.44 |  500 | 3500 | 22944.96 | 2/3/2023  |  3127.35 | 33950 | 187909.7 | 0 |    0 | NA |\n",
       "| 17 | 17 | 11/15/2022 | 4125.34 |  500 | 4000 | 27070.30 | 2/3/2023  |  3339.90 | 33450 | 184230.3 | 0 | 4000 | NA |\n",
       "| 18 | 18 | 11/15/2022 | 2466.89 |  500 | 4500 | 29537.19 | 2/21/2023 |  2927.36 | 32950 | 180104.9 | 0 |    0 | NA |\n",
       "| 19 | 19 | 9/15/2022  |  503.42 |   50 | 4550 | 30040.61 | 1/27/2023 |   275.61 | 32450 | 177638.0 | 0 |    0 | NA |\n",
       "| 20 | 20 | 9/15/2022  | 1989.98 |  200 | 4750 | 32030.59 | 1/27/2023 |  1102.42 | 32400 | 177134.6 | 0 |    0 | NA |\n",
       "| 21 | 21 | 9/15/2022  |  464.47 |   50 | 4800 | 32495.06 | 2/3/2023  |   312.74 | 32200 | 175144.6 | 0 |    0 | NA |\n",
       "| 22 | 22 | 9/15/2022  |  509.06 |   50 | 4850 | 33004.12 | 2/3/2023  |   333.99 | 32150 | 174680.2 | 0 |    0 | NA |\n",
       "| 23 | 23 | 9/15/2022  |  917.10 |  100 | 4950 | 33921.22 | 2/3/2023  |   668.47 | 32100 | 174171.1 | 0 |    0 | NA |\n",
       "| 24 | 24 | 9/15/2022  |  725.90 |  100 | 5050 | 34647.12 | 2/3/2023  |   618.98 | 32000 | 173254.0 | 0 |    0 | NA |\n",
       "| 25 | 25 | 9/15/2022  |  772.57 |  100 | 5150 | 35419.69 | 2/3/2023  |   625.47 | 31900 | 172528.1 | 0 |    0 | NA |\n",
       "| 26 | 26 | 9/15/2022  |  917.10 |  100 | 5250 | 36336.79 | 2/3/2023  |   625.47 | 31800 | 171755.5 | 0 |    0 | NA |\n",
       "| 27 | 27 | 9/15/2022  | 2012.56 |  200 | 5450 | 38349.35 | 2/3/2023  |  1335.96 | 31700 | 170838.5 | 0 |    0 | NA |\n",
       "| 28 | 28 | 9/15/2022  |  815.57 |  100 | 5550 | 39164.92 | 2/3/2023  |   618.98 | 31500 | 168825.9 | 0 |    0 | NA |\n",
       "| 29 | 29 | 9/15/2022  |  413.70 |   50 | 5600 | 39578.62 | 2/3/2023  |   309.49 | 31400 | 168010.3 | 0 |    0 | NA |\n",
       "| 30 | 30 | 9/15/2022  |  674.59 |  100 | 5700 | 40253.21 | 2/21/2023 |   585.47 | 31350 | 167596.6 | 0 |    0 | NA |\n",
       "| 31 | 31 | 9/15/2022  |  630.86 |  100 | 5800 | 40884.07 | 2/21/2023 |   585.47 | 31250 | 166922.0 | 0 |    0 | NA |\n",
       "| 32 | 32 | 9/15/2022  |  343.21 |   50 | 5850 | 41227.28 | 2/21/2023 |   292.74 | 31150 | 166291.2 | 0 |    0 | NA |\n",
       "| 33 | 33 | 9/15/2022  |  287.72 |   50 | 5900 | 41515.00 | 2/22/2023 |   330.74 | 31100 | 165948.0 | 0 |    0 | NA |\n",
       "| 34 | 34 | 9/15/2022  |  563.62 |  100 | 6000 | 42078.62 | 2/22/2023 |   661.47 | 31050 | 165660.2 | 0 |    0 | NA |\n",
       "| 35 | 35 | 9/15/2022  |  519.89 |  100 | 6100 | 42598.51 | 2/22/2023 |   661.47 | 30950 | 165096.6 | 0 |    0 | NA |\n",
       "| 36 | 36 | 2/10/2023  | 3558.75 |  750 | 6850 | 46157.26 | 2/22/2023 |  4961.02 | 30850 | 164576.7 | 0 |    0 | NA |\n",
       "| 37 | 37 | 2/10/2023  | 1195.00 |  250 | 7100 | 47352.26 | 2/21/2023 |  1463.68 | 30100 | 161018.0 | 0 | 7000 | NA |\n",
       "| 38 | 38 | 2/10/2023  | 4507.75 |  950 | 8050 | 51860.01 | 2/21/2023 |  5561.98 | 29850 | 159823.0 | 0 |    0 | NA |\n",
       "| 39 | 39 | 2/13/2023  | 7077.45 | 1500 | 9550 | 58937.46 | 2/27/2023 | 10110.89 | 28900 | 155315.2 | 0 |    0 | NA |\n",
       "| ⋮ | ⋮ | ⋮ | ⋮ | ⋮ | ⋮ | ⋮ | ⋮ | ⋮ | ⋮ | ⋮ | ⋮ | ⋮ | ⋮ |\n",
       "| 44 | 44 | 2/15/2023 |  8843.18 | 1850 | 16700 |  92804.45 | 2/27/2023 | 14031.86 | 22100 | 123213.97 | 0 |     0 | NA |\n",
       "| 45 | 45 | 2/15/2023 |  4780.10 | 1000 | 17700 |  97584.55 | 2/27/2023 |  7815.78 | 20250 | 114370.79 | 0 |     0 | NA |\n",
       "| 46 | 46 | 2/15/2023 |  5497.12 | 1150 | 18850 | 103081.67 | 2/27/2023 |  7751.69 | 19250 | 109590.69 | 0 | 18850 | NA |\n",
       "| 47 | 47 | 3/3/2023  |  6485.00 | 1000 | 19850 | 109566.67 | 3/3/2023  |  6551.10 | 18100 | 104093.57 | 0 |     0 | NA |\n",
       "| 48 | 48 | 3/3/2023  | 13178.20 | 2000 | 21850 | 122744.87 | 3/3/2023  | 13102.20 | 17100 |  97608.57 | 0 | 21850 | NA |\n",
       "| 49 | 49 | 3/3/2023  |  3396.70 |  500 | 22350 | 126141.57 | 3/8/2023  |  2859.90 | 15100 |  84430.37 | 0 |     0 | NA |\n",
       "| 50 | 50 | 3/3/2023  | 19767.30 | 3000 | 25350 | 145908.87 | 3/8/2023  | 17834.41 | 14600 |  81033.67 | 0 |     0 | NA |\n",
       "| 51 | 51 | 3/3/2023  |  2717.36 |  400 | 25750 | 148626.23 | 3/8/2023  |  2337.92 | 11600 |  61266.37 | 0 |     0 | NA |\n",
       "| 52 | 52 | 3/3/2023  |   678.93 |  100 | 25850 | 149305.16 | 3/8/2023  |   584.48 | 11200 |  58549.01 | 0 |     0 | NA |\n",
       "| 53 | 53 | 3/3/2023  | 12374.20 | 2000 | 27850 | 161679.36 | 3/8/2023  | 11509.61 | 11100 |  57870.08 | 0 | 27850 | NA |\n",
       "| 54 | 54 | 3/3/2023  |  4939.30 | 1000 | 28850 | 166618.66 | 4/6/2023  |  4914.82 |  9100 |  45495.88 | 0 |     0 | NA |\n",
       "| 55 | 55 | 3/3/2023  |   846.81 |  190 | 29040 | 167465.47 | 4/20/2023 |   941.41 |  8100 |  40556.58 | 0 |     0 | NA |\n",
       "| 56 | 56 | 3/3/2023  |  4951.69 | 1000 | 30040 | 172417.16 | 4/20/2023 |  4914.81 |  7910 |  39709.77 | 0 | 29850 | NA |\n",
       "| 57 | 57 | 3/3/2023  |  3610.07 |  810 | 30850 | 176027.23 | 4/20/2023 |  4005.29 |  6910 |  34758.08 | 0 |     0 | NA |\n",
       "| 58 | 58 | 3/3/2023  |  4739.70 | 1000 | 31850 | 180766.93 | 4/20/2023 |  4989.21 |  6100 |  31148.01 | 0 |     0 | NA |\n",
       "| 59 | 59 | 3/3/2023  |  4722.29 | 1000 | 32850 | 185489.22 | 4/20/2023 |  4989.22 |  5100 |  26408.31 | 0 |     0 | NA |\n",
       "| 60 | 60 | 3/3/2023  |  2649.30 |  500 | 33350 | 188138.52 | 4/20/2023 |  2494.61 |  4100 |  21686.02 | 0 |     0 | NA |\n",
       "| 61 | 61 | 3/3/2023  |   844.45 |  190 | 33540 | 188982.97 | 4/20/2023 |   944.26 |  3600 |  19036.72 | 0 |     0 | NA |\n",
       "| 62 | 62 | 3/3/2023  |  3600.03 |  810 | 34350 | 192583.00 | 4/20/2023 |  4013.40 |  3410 |  18192.27 | 0 |     0 | NA |\n",
       "| 63 | 63 | 3/3/2023  |   516.95 |  100 | 34450 | 193099.95 | 4/20/2023 |   498.92 |  2600 |  14592.24 | 0 |     0 | NA |\n",
       "| 64 | 64 | 3/3/2023  |  2069.44 |  400 | 34850 | 195169.39 | 4/20/2023 |  1995.68 |  2500 |  14075.29 | 0 |     0 | NA |\n",
       "| 65 | 65 | 3/3/2023  |   562.53 |  100 | 34950 | 195731.92 | 5/30/2023 |   458.26 |  2100 |  12005.85 | 0 | 34850 | NA |\n",
       "| 66 | 66 | 3/3/2023  |   575.44 |  100 | 35050 | 196307.36 | 5/30/2023 |   458.26 |  2000 |  11443.32 | 0 |     0 | NA |\n",
       "| 67 | 67 | 3/3/2023  |  2251.76 |  400 | 35450 | 198559.12 | 5/30/2023 |  1833.05 |  1900 |  10867.88 | 0 |     0 | NA |\n",
       "| 68 | 68 | 3/3/2023  |  2127.75 |  400 | 35850 | 200686.87 | 5/30/2023 |  1833.04 |  1500 |   8616.12 | 0 | 35850 | NA |\n",
       "| 69 | 69 | 3/3/2023  |   618.08 |  100 | 35950 | 201304.95 | 6/2/2023  |   453.98 |  1100 |   6488.37 | 0 |     0 | NA |\n",
       "| 70 | 70 | 3/3/2023  |  2422.31 |  400 | 36350 | 203727.26 | 6/2/2023  |  1815.93 |  1000 |   5870.29 | 0 |     0 | NA |\n",
       "| 71 | 71 | 3/3/2023  |  2298.31 |  400 | 36750 | 206025.57 | 6/2/2023  |  1815.93 |   600 |   3447.98 | 0 |     0 | NA |\n",
       "| 72 | 72 | 3/3/2023  |   605.17 |  100 | 36850 | 206630.74 | 6/2/2023  |   453.98 |   200 |   1149.67 | 0 |     0 | NA |\n",
       "| 73 | 73 | 4/27/2023 |   544.50 |  100 | 36950 | 207175.24 | 6/2/2023  |   453.98 |   100 |    544.50 | 0 | 36950 | NA |\n",
       "\n"
      ],
      "text/plain": [
       "   index date       cost     quan tally_q tally_c   date_s    proceeds tally_q2\n",
       "10 10    1/27/2023  4453.49   850 1850    11166.45  2/21/2023  4976.50 35950   \n",
       "11 11    11/30/2022  264.80    50 1900    11431.25  2/21/2023   330.74 35100   \n",
       "12 12    11/30/2022  273.29    50 1950    11704.54  2/21/2023   292.74 35050   \n",
       "13 13    11/30/2022  320.29    50 2000    12024.83  2/21/2023   292.74 35000   \n",
       "14 14    11/15/2022 4068.90   500 2500    16093.73  1/27/2023  2756.06 34950   \n",
       "15 15    11/15/2022 3171.79   500 3000    19265.52  2/3/2023   3094.90 34450   \n",
       "16 16    11/15/2022 3679.44   500 3500    22944.96  2/3/2023   3127.35 33950   \n",
       "17 17    11/15/2022 4125.34   500 4000    27070.30  2/3/2023   3339.90 33450   \n",
       "18 18    11/15/2022 2466.89   500 4500    29537.19  2/21/2023  2927.36 32950   \n",
       "19 19    9/15/2022   503.42    50 4550    30040.61  1/27/2023   275.61 32450   \n",
       "20 20    9/15/2022  1989.98   200 4750    32030.59  1/27/2023  1102.42 32400   \n",
       "21 21    9/15/2022   464.47    50 4800    32495.06  2/3/2023    312.74 32200   \n",
       "22 22    9/15/2022   509.06    50 4850    33004.12  2/3/2023    333.99 32150   \n",
       "23 23    9/15/2022   917.10   100 4950    33921.22  2/3/2023    668.47 32100   \n",
       "24 24    9/15/2022   725.90   100 5050    34647.12  2/3/2023    618.98 32000   \n",
       "25 25    9/15/2022   772.57   100 5150    35419.69  2/3/2023    625.47 31900   \n",
       "26 26    9/15/2022   917.10   100 5250    36336.79  2/3/2023    625.47 31800   \n",
       "27 27    9/15/2022  2012.56   200 5450    38349.35  2/3/2023   1335.96 31700   \n",
       "28 28    9/15/2022   815.57   100 5550    39164.92  2/3/2023    618.98 31500   \n",
       "29 29    9/15/2022   413.70    50 5600    39578.62  2/3/2023    309.49 31400   \n",
       "30 30    9/15/2022   674.59   100 5700    40253.21  2/21/2023   585.47 31350   \n",
       "31 31    9/15/2022   630.86   100 5800    40884.07  2/21/2023   585.47 31250   \n",
       "32 32    9/15/2022   343.21    50 5850    41227.28  2/21/2023   292.74 31150   \n",
       "33 33    9/15/2022   287.72    50 5900    41515.00  2/22/2023   330.74 31100   \n",
       "34 34    9/15/2022   563.62   100 6000    42078.62  2/22/2023   661.47 31050   \n",
       "35 35    9/15/2022   519.89   100 6100    42598.51  2/22/2023   661.47 30950   \n",
       "36 36    2/10/2023  3558.75   750 6850    46157.26  2/22/2023  4961.02 30850   \n",
       "37 37    2/10/2023  1195.00   250 7100    47352.26  2/21/2023  1463.68 30100   \n",
       "38 38    2/10/2023  4507.75   950 8050    51860.01  2/21/2023  5561.98 29850   \n",
       "39 39    2/13/2023  7077.45  1500 9550    58937.46  2/27/2023 10110.89 28900   \n",
       "⋮  ⋮     ⋮          ⋮        ⋮    ⋮       ⋮         ⋮         ⋮        ⋮       \n",
       "44 44    2/15/2023   8843.18 1850 16700    92804.45 2/27/2023 14031.86 22100   \n",
       "45 45    2/15/2023   4780.10 1000 17700    97584.55 2/27/2023  7815.78 20250   \n",
       "46 46    2/15/2023   5497.12 1150 18850   103081.67 2/27/2023  7751.69 19250   \n",
       "47 47    3/3/2023    6485.00 1000 19850   109566.67 3/3/2023   6551.10 18100   \n",
       "48 48    3/3/2023   13178.20 2000 21850   122744.87 3/3/2023  13102.20 17100   \n",
       "49 49    3/3/2023    3396.70  500 22350   126141.57 3/8/2023   2859.90 15100   \n",
       "50 50    3/3/2023   19767.30 3000 25350   145908.87 3/8/2023  17834.41 14600   \n",
       "51 51    3/3/2023    2717.36  400 25750   148626.23 3/8/2023   2337.92 11600   \n",
       "52 52    3/3/2023     678.93  100 25850   149305.16 3/8/2023    584.48 11200   \n",
       "53 53    3/3/2023   12374.20 2000 27850   161679.36 3/8/2023  11509.61 11100   \n",
       "54 54    3/3/2023    4939.30 1000 28850   166618.66 4/6/2023   4914.82  9100   \n",
       "55 55    3/3/2023     846.81  190 29040   167465.47 4/20/2023   941.41  8100   \n",
       "56 56    3/3/2023    4951.69 1000 30040   172417.16 4/20/2023  4914.81  7910   \n",
       "57 57    3/3/2023    3610.07  810 30850   176027.23 4/20/2023  4005.29  6910   \n",
       "58 58    3/3/2023    4739.70 1000 31850   180766.93 4/20/2023  4989.21  6100   \n",
       "59 59    3/3/2023    4722.29 1000 32850   185489.22 4/20/2023  4989.22  5100   \n",
       "60 60    3/3/2023    2649.30  500 33350   188138.52 4/20/2023  2494.61  4100   \n",
       "61 61    3/3/2023     844.45  190 33540   188982.97 4/20/2023   944.26  3600   \n",
       "62 62    3/3/2023    3600.03  810 34350   192583.00 4/20/2023  4013.40  3410   \n",
       "63 63    3/3/2023     516.95  100 34450   193099.95 4/20/2023   498.92  2600   \n",
       "64 64    3/3/2023    2069.44  400 34850   195169.39 4/20/2023  1995.68  2500   \n",
       "65 65    3/3/2023     562.53  100 34950   195731.92 5/30/2023   458.26  2100   \n",
       "66 66    3/3/2023     575.44  100 35050   196307.36 5/30/2023   458.26  2000   \n",
       "67 67    3/3/2023    2251.76  400 35450   198559.12 5/30/2023  1833.05  1900   \n",
       "68 68    3/3/2023    2127.75  400 35850   200686.87 5/30/2023  1833.04  1500   \n",
       "69 69    3/3/2023     618.08  100 35950   201304.95 6/2/2023    453.98  1100   \n",
       "70 70    3/3/2023    2422.31  400 36350   203727.26 6/2/2023   1815.93  1000   \n",
       "71 71    3/3/2023    2298.31  400 36750   206025.57 6/2/2023   1815.93   600   \n",
       "72 72    3/3/2023     605.17  100 36850   206630.74 6/2/2023    453.98   200   \n",
       "73 73    4/27/2023    544.50  100 36950   207175.24 6/2/2023    453.98   100   \n",
       "   tally_c2  sold tally_s X \n",
       "10 200462.3  0       0    NA\n",
       "11 196008.8  0       0    NA\n",
       "12 195744.0  0       0    NA\n",
       "13 195470.7  0       0    NA\n",
       "14 195150.4  0       0    NA\n",
       "15 191081.5  0       0    NA\n",
       "16 187909.7  0       0    NA\n",
       "17 184230.3  0    4000    NA\n",
       "18 180104.9  0       0    NA\n",
       "19 177638.0  0       0    NA\n",
       "20 177134.6  0       0    NA\n",
       "21 175144.6  0       0    NA\n",
       "22 174680.2  0       0    NA\n",
       "23 174171.1  0       0    NA\n",
       "24 173254.0  0       0    NA\n",
       "25 172528.1  0       0    NA\n",
       "26 171755.5  0       0    NA\n",
       "27 170838.5  0       0    NA\n",
       "28 168825.9  0       0    NA\n",
       "29 168010.3  0       0    NA\n",
       "30 167596.6  0       0    NA\n",
       "31 166922.0  0       0    NA\n",
       "32 166291.2  0       0    NA\n",
       "33 165948.0  0       0    NA\n",
       "34 165660.2  0       0    NA\n",
       "35 165096.6  0       0    NA\n",
       "36 164576.7  0       0    NA\n",
       "37 161018.0  0    7000    NA\n",
       "38 159823.0  0       0    NA\n",
       "39 155315.2  0       0    NA\n",
       "⋮  ⋮         ⋮    ⋮       ⋮ \n",
       "44 123213.97 0        0   NA\n",
       "45 114370.79 0        0   NA\n",
       "46 109590.69 0    18850   NA\n",
       "47 104093.57 0        0   NA\n",
       "48  97608.57 0    21850   NA\n",
       "49  84430.37 0        0   NA\n",
       "50  81033.67 0        0   NA\n",
       "51  61266.37 0        0   NA\n",
       "52  58549.01 0        0   NA\n",
       "53  57870.08 0    27850   NA\n",
       "54  45495.88 0        0   NA\n",
       "55  40556.58 0        0   NA\n",
       "56  39709.77 0    29850   NA\n",
       "57  34758.08 0        0   NA\n",
       "58  31148.01 0        0   NA\n",
       "59  26408.31 0        0   NA\n",
       "60  21686.02 0        0   NA\n",
       "61  19036.72 0        0   NA\n",
       "62  18192.27 0        0   NA\n",
       "63  14592.24 0        0   NA\n",
       "64  14075.29 0        0   NA\n",
       "65  12005.85 0    34850   NA\n",
       "66  11443.32 0        0   NA\n",
       "67  10867.88 0        0   NA\n",
       "68   8616.12 0    35850   NA\n",
       "69   6488.37 0        0   NA\n",
       "70   5870.29 0        0   NA\n",
       "71   3447.98 0        0   NA\n",
       "72   1149.67 0        0   NA\n",
       "73    544.50 0    36950   NA"
      ]
     },
     "metadata": {},
     "output_type": "display_data"
    }
   ],
   "source": [
    "df"
   ]
  },
  {
   "cell_type": "code",
   "execution_count": 433,
   "id": "a17b72e0-be79-4815-b02f-dc38497b8a79",
   "metadata": {},
   "outputs": [
    {
     "ename": "ERROR",
     "evalue": "Error in eval(expr, envir, enclos): object 'stopper' not found\n",
     "output_type": "error",
     "traceback": [
      "Error in eval(expr, envir, enclos): object 'stopper' not found\nTraceback:\n"
     ]
    }
   ],
   "source": [
    "stopper\n"
   ]
  },
  {
   "cell_type": "code",
   "execution_count": null,
   "id": "4975afb2-3efd-4b60-a037-6c92a9905a49",
   "metadata": {},
   "outputs": [],
   "source": []
  },
  {
   "cell_type": "code",
   "execution_count": null,
   "id": "b1699a2d-220b-4682-a8fe-debd11c14c83",
   "metadata": {},
   "outputs": [],
   "source": [
    "# tail(df,3)\n",
    "# nrow(df)\n",
    "# df <- df[1:nrow(df)-1,]\n",
    "# nrow(df)\n",
    "# tail(df,3)"
   ]
  },
  {
   "cell_type": "code",
   "execution_count": null,
   "id": "9e94b41f-0eb5-490d-9019-114064b9f419",
   "metadata": {},
   "outputs": [],
   "source": [
    "ct"
   ]
  },
  {
   "cell_type": "code",
   "execution_count": null,
   "id": "abaa2c3a-20e5-492a-a59c-23330c642ab6",
   "metadata": {},
   "outputs": [],
   "source": [
    "# make fct call 2  (sales 1000)\n",
    "\n",
    "# remove previous sale value from vector\n",
    "sales <- sales[2:length(sales)]\n",
    "# assign new sale value to test_value\n",
    "test_value <- sales[1]\n",
    "# zero ct\n",
    "ct <<- 0\n",
    "\n",
    "mod_df <<- inter(df, test_value, ct)\n",
    "nrow(mod_df)\n",
    "\n",
    "# show the returned ct value\n",
    "ct\n",
    "rownum <- ct\n",
    "rat1\n",
    "\n",
    "# create portions of the df\n",
    "df1a <- df1[1:ct, ]\n",
    "df <- df[ct:nrow(df), ]\n",
    "#sales <- sales[2:length(sales)]\n",
    "\n",
    "# print the modified df, and portions of the df\n",
    "head(mod_df)\n",
    "nrow(mod_df)\n",
    "\n",
    "print(df1a)\n",
    "nrow(df1a)\n",
    "\n",
    "head(df)\n",
    "nrow(df)\n",
    "length(sales)   # sale[] = 21"
   ]
  },
  {
   "cell_type": "code",
   "execution_count": null,
   "id": "0e2d2b10-052e-4db0-84ce-1a511c8c3a42",
   "metadata": {},
   "outputs": [],
   "source": [
    "head(df,3)\n",
    "tail(df,3)\n",
    "\n"
   ]
  },
  {
   "cell_type": "code",
   "execution_count": null,
   "id": "87f83f08-c13e-46cb-89bb-1f3278d1d75a",
   "metadata": {},
   "outputs": [],
   "source": [
    "length(sales)"
   ]
  },
  {
   "cell_type": "code",
   "execution_count": null,
   "id": "6fc45e44-c33c-42aa-8651-ba5953e1284b",
   "metadata": {},
   "outputs": [],
   "source": [
    "# make fct call 3 (sales 1000)\n",
    "\n",
    "# remove previous sale value from vector\n",
    "sales <- sales[2:length(sales)]\n",
    "# assign new sale value to test_value\n",
    "test_value <- sales[1]\n",
    "# zero ct\n",
    "ct <<- 0\n",
    "\n",
    "mod_df <<- inter(df, test_value, ct)\n",
    "nrow(mod_df)\n",
    "\n",
    "# show the returned ct value\n",
    "ct\n",
    "rownum <- ct\n",
    "rat1\n",
    "\n",
    "# create portions of the df\n",
    "df1a <- df1[1:ct, ]\n",
    "df <- df[ct:nrow(df), ]\n",
    "#sales <- sales[2:length(sales)]\n",
    "\n",
    "# print the modified df, and portions of the df\n",
    "head(mod_df)\n",
    "nrow(mod_df)\n",
    "\n",
    "print(df1a)\n",
    "nrow(df1a)\n",
    "\n",
    "head(df)\n",
    "nrow(df)\n",
    "length(sales)  #  sale[] = 20"
   ]
  },
  {
   "cell_type": "code",
   "execution_count": null,
   "id": "96f5e1b8-dddd-4293-a4b5-7e6f545d8c2e",
   "metadata": {},
   "outputs": [],
   "source": [
    "cumulative_sum\n",
    "test_value\n",
    "cumVal"
   ]
  },
  {
   "cell_type": "code",
   "execution_count": null,
   "id": "934dbe96-701e-4118-92b9-f2ee00918449",
   "metadata": {},
   "outputs": [],
   "source": [
    "nrow(df)\n",
    "head(df,3)\n",
    "tail(df,3)\n",
    "\n",
    "# stopper"
   ]
  },
  {
   "cell_type": "code",
   "execution_count": null,
   "id": "9e550f24-c834-4060-b257-f2b132e8a893",
   "metadata": {},
   "outputs": [],
   "source": [
    "# make fct call 4 (sales 100)\n",
    "\n",
    "# remove previous sale value from vector\n",
    "sales <- sales[2:length(sales)]\n",
    "# assign new sale value to test_value\n",
    "test_value <- sales[1]\n",
    "# zero ct\n",
    "ct <<- 0\n",
    "\n",
    "mod_df <<- inter(df, test_value, ct)\n",
    "nrow(mod_df)\n",
    "\n",
    "# show the returned ct value\n",
    "ct\n",
    "rownum <- ct\n",
    "rat1\n",
    "\n",
    "# create portions of the df\n",
    "df1a <- df1[1:ct, ]\n",
    "df <- df[ct:nrow(df), ]\n",
    "#sales <- sales[2:length(sales)]\n",
    "\n",
    "# print the modified df, and portions of the df\n",
    "head(mod_df)\n",
    "nrow(mod_df)\n",
    "\n",
    "print(df1a)\n",
    "nrow(df1a)\n",
    "\n",
    "head(df)\n",
    "nrow(df)\n",
    "length(sales)  # sale[] = 19"
   ]
  },
  {
   "cell_type": "code",
   "execution_count": null,
   "id": "98bbfc54-698e-415a-bf41-d20ced0bb36c",
   "metadata": {},
   "outputs": [],
   "source": []
  },
  {
   "cell_type": "code",
   "execution_count": null,
   "id": "206afc56-634a-4fe8-83cb-06d74d2181d5",
   "metadata": {},
   "outputs": [],
   "source": [
    "nrow(df)\n",
    "head(df,3)\n",
    "tail(df,3)\n",
    "\n",
    "# stopper"
   ]
  },
  {
   "cell_type": "code",
   "execution_count": null,
   "id": "86c32194-b505-42c8-9a8f-db79c6c6eddf",
   "metadata": {},
   "outputs": [],
   "source": []
  },
  {
   "cell_type": "code",
   "execution_count": null,
   "id": "4fc4cc50-e34f-43b9-a5c6-37ef576ebd8b",
   "metadata": {},
   "outputs": [],
   "source": [
    "# make fct call 5 \n",
    "\n",
    "# remove previous sale value from vector\n",
    "sales <- sales[2:length(sales)]\n",
    "# assign new sale value to test_value\n",
    "test_value <- sales[1]\n",
    "# zero ct\n",
    "ct <<- 0\n",
    "\n",
    "mod_df <<- inter(df, test_value, ct)\n",
    "nrow(mod_df)\n",
    "\n",
    "# show the returned ct value\n",
    "ct\n",
    "rownum <- ct\n",
    "rat1\n",
    "\n",
    "# create portions of the df\n",
    "df1a <- df1[1:ct, ]\n",
    "df <- df[ct:nrow(df), ]\n",
    "#sales <- sales[2:length(sales)]\n",
    "\n",
    "# print the modified df, and portions of the df\n",
    "head(mod_df)\n",
    "nrow(mod_df)\n",
    "\n",
    "print(df1a)\n",
    "nrow(df1a)\n",
    "\n",
    "head(df)\n",
    "nrow(df)\n",
    "length(sales)  # sale[] = 19"
   ]
  },
  {
   "cell_type": "code",
   "execution_count": null,
   "id": "ee9123de-b35f-4321-9901-46c120dc1767",
   "metadata": {},
   "outputs": [],
   "source": []
  },
  {
   "cell_type": "code",
   "execution_count": null,
   "id": "6120987c-bafe-45f1-b260-22f9b33ea60e",
   "metadata": {},
   "outputs": [],
   "source": [
    "# make fct call 6 \n",
    "\n",
    "# remove previous sale value from vector\n",
    "sales <- sales[2:length(sales)]\n",
    "# assign new sale value to test_value\n",
    "test_value <- sales[1]\n",
    "# zero ct\n",
    "ct <<- 0\n",
    "\n",
    "mod_df <<- inter(df, test_value, ct)\n",
    "nrow(mod_df)\n",
    "\n",
    "# show the returned ct value\n",
    "ct\n",
    "rownum <- ct\n",
    "rat1\n",
    "\n",
    "# create portions of the df\n",
    "df1a <- df1[1:ct, ]\n",
    "df <- df[ct:nrow(df), ]\n",
    "#sales <- sales[2:length(sales)]\n",
    "\n",
    "# print the modified df, and portions of the df\n",
    "head(mod_df)\n",
    "nrow(mod_df)\n",
    "\n",
    "print(df1a)\n",
    "nrow(df1a)\n",
    "\n",
    "head(df)\n",
    "nrow(df)\n",
    "length(sales)  # sale[] = 19"
   ]
  },
  {
   "cell_type": "code",
   "execution_count": null,
   "id": "68b386f4-9451-4073-b840-be1952d7f72c",
   "metadata": {},
   "outputs": [],
   "source": []
  },
  {
   "cell_type": "code",
   "execution_count": null,
   "id": "fcb481e7-1b27-425b-802a-02d029c61c62",
   "metadata": {},
   "outputs": [],
   "source": [
    "# make fct call 7\n",
    "\n",
    "# remove previous sale value from vector\n",
    "sales <- sales[2:length(sales)]\n",
    "# assign new sale value to test_value\n",
    "test_value <- sales[1]\n",
    "# zero ct\n",
    "ct <<- 0\n",
    "\n",
    "mod_df <<- inter(df, test_value, ct)\n",
    "nrow(mod_df)\n",
    "\n",
    "# show the returned ct value\n",
    "ct\n",
    "rownum <- ct\n",
    "rat1\n",
    "\n",
    "# create portions of the df\n",
    "df1a <- df1[1:ct, ]\n",
    "df <- df[ct:nrow(df), ]\n",
    "#sales <- sales[2:length(sales)]\n",
    "\n",
    "# print the modified df, and portions of the df\n",
    "head(mod_df)\n",
    "nrow(mod_df)\n",
    "\n",
    "print(df1a)\n",
    "nrow(df1a)\n",
    "\n",
    "head(df)\n",
    "nrow(df)\n",
    "length(sales)  # sale[] = 19"
   ]
  },
  {
   "cell_type": "code",
   "execution_count": null,
   "id": "43781602-e3ba-491e-bccd-c6ac4581c5dd",
   "metadata": {},
   "outputs": [],
   "source": []
  },
  {
   "cell_type": "code",
   "execution_count": null,
   "id": "8ecde021-86c4-4999-9431-927b67f5ae69",
   "metadata": {},
   "outputs": [],
   "source": [
    "# make fct call 8\n",
    "\n",
    "# remove previous sale value from vector\n",
    "sales <- sales[2:length(sales)]\n",
    "# assign new sale value to test_value\n",
    "test_value <- sales[1]\n",
    "# zero ct\n",
    "ct <<- 0\n",
    "\n",
    "mod_df <<- inter(df, test_value, ct)\n",
    "nrow(mod_df)\n",
    "\n",
    "# show the returned ct value\n",
    "ct\n",
    "rownum <- ct\n",
    "rat1\n",
    "\n",
    "# create portions of the df\n",
    "df1a <- df1[1:ct, ]\n",
    "df <- df[ct:nrow(df), ]\n",
    "#sales <- sales[2:length(sales)]\n",
    "\n",
    "# print the modified df, and portions of the df\n",
    "head(mod_df)\n",
    "nrow(mod_df)\n",
    "\n",
    "print(df1a)\n",
    "nrow(df1a)\n",
    "\n",
    "head(df)\n",
    "nrow(df)\n",
    "length(sales)  # sale[] = 19"
   ]
  },
  {
   "cell_type": "code",
   "execution_count": null,
   "id": "a54f79ed-3e6f-4bf3-9cb3-93f2773c74b1",
   "metadata": {},
   "outputs": [],
   "source": []
  },
  {
   "cell_type": "code",
   "execution_count": null,
   "id": "28734cea-d209-4f76-a708-7cad74dc3216",
   "metadata": {},
   "outputs": [],
   "source": [
    "# make fct call 9 \n",
    "\n",
    "# remove previous sale value from vector\n",
    "sales <- sales[2:length(sales)]\n",
    "# assign new sale value to test_value\n",
    "test_value <- sales[1]\n",
    "# zero ct\n",
    "ct <<- 0\n",
    "\n",
    "mod_df <<- inter(df, test_value, ct)\n",
    "nrow(mod_df)\n",
    "\n",
    "# show the returned ct value\n",
    "ct\n",
    "rownum <- ct\n",
    "rat1\n",
    "\n",
    "# create portions of the df\n",
    "df1a <- df1[1:ct, ]\n",
    "df <- df[ct:nrow(df), ]\n",
    "#sales <- sales[2:length(sales)]\n",
    "\n",
    "# print the modified df, and portions of the df\n",
    "head(mod_df)\n",
    "nrow(mod_df)\n",
    "\n",
    "print(df1a)\n",
    "nrow(df1a)\n",
    "\n",
    "head(df)\n",
    "nrow(df)\n",
    "length(sales)  # sale[] = 19"
   ]
  },
  {
   "cell_type": "code",
   "execution_count": null,
   "id": "5f51b66f-167f-4004-ade9-d94fca41f447",
   "metadata": {},
   "outputs": [],
   "source": []
  },
  {
   "cell_type": "code",
   "execution_count": null,
   "id": "74879fb4-e504-4958-aae8-41ab7ba1b177",
   "metadata": {},
   "outputs": [],
   "source": [
    "# make fct call 10\n",
    "\n",
    "# remove previous sale value from vector\n",
    "sales <- sales[2:length(sales)]\n",
    "# assign new sale value to test_value\n",
    "test_value <- sales[1]\n",
    "# zero ct\n",
    "ct <<- 0\n",
    "\n",
    "mod_df <<- inter(df, test_value, ct)\n",
    "nrow(mod_df)\n",
    "\n",
    "# show the returned ct value\n",
    "ct\n",
    "rownum <- ct\n",
    "rat1\n",
    "\n",
    "# create portions of the df\n",
    "df1a <- df1[1:ct, ]\n",
    "df <- df[ct:nrow(df), ]\n",
    "#sales <- sales[2:length(sales)]\n",
    "\n",
    "# print the modified df, and portions of the df\n",
    "head(mod_df)\n",
    "nrow(mod_df)\n",
    "\n",
    "print(df1a)\n",
    "nrow(df1a)\n",
    "\n",
    "head(df)\n",
    "nrow(df)\n",
    "length(sales)  # sale[] = 19"
   ]
  },
  {
   "cell_type": "code",
   "execution_count": null,
   "id": "d432678a-ff1b-4906-aefd-d6a1961dabb5",
   "metadata": {},
   "outputs": [],
   "source": [
    "# make fct call 11 (s/b last)\n",
    "\n",
    "# remove previous sale value from vector\n",
    "sales <- sales[2:length(sales)]\n",
    "# assign new sale value to test_value\n",
    "test_value <- sales[1]\n",
    "# zero ct\n",
    "ct <<- 0\n",
    "\n",
    "mod_df <<- inter(df, test_value, ct)\n",
    "nrow(mod_df)\n",
    "\n",
    "# show the returned ct value\n",
    "ct\n",
    "rownum <- ct\n",
    "rat1\n",
    "\n",
    "# create portions of the df\n",
    "df1a <- df1[1:ct, ]\n",
    "df <- df[ct:nrow(df), ]\n",
    "#sales <- sales[2:length(sales)]\n",
    "\n",
    "# print the modified df, and portions of the df\n",
    "head(mod_df)\n",
    "nrow(mod_df)\n",
    "\n",
    "print(df1a)\n",
    "nrow(df1a)\n",
    "\n",
    "head(df)\n",
    "nrow(df)\n",
    "length(sales)  # sale[] = 19"
   ]
  },
  {
   "cell_type": "code",
   "execution_count": null,
   "id": "c231ac45-3e06-476d-8ce7-635413d60b38",
   "metadata": {},
   "outputs": [],
   "source": []
  },
  {
   "cell_type": "code",
   "execution_count": null,
   "id": "405ff8bf-3625-4cb7-9549-e562d4011cf8",
   "metadata": {},
   "outputs": [],
   "source": []
  },
  {
   "cell_type": "code",
   "execution_count": null,
   "id": "d31cb96a-0e31-4063-8db5-2c96753516a1",
   "metadata": {},
   "outputs": [],
   "source": [
    "nrow(df)\n",
    "cumSales"
   ]
  },
  {
   "cell_type": "code",
   "execution_count": null,
   "id": "1b9b2dd8-6683-492b-aef3-9505134833cf",
   "metadata": {},
   "outputs": [],
   "source": []
  },
  {
   "cell_type": "code",
   "execution_count": null,
   "id": "cf3479be-e158-4b32-8679-b50c3da165dd",
   "metadata": {},
   "outputs": [],
   "source": [
    "stopper"
   ]
  },
  {
   "cell_type": "code",
   "execution_count": null,
   "id": "48cc25b2-257d-47cc-a765-3549fcdeaba4",
   "metadata": {},
   "outputs": [],
   "source": []
  },
  {
   "cell_type": "code",
   "execution_count": null,
   "id": "788960ab-8916-4966-b3d8-e023b8872d4b",
   "metadata": {},
   "outputs": [],
   "source": []
  },
  {
   "cell_type": "code",
   "execution_count": null,
   "id": "50b2166e-2129-49e9-8cbf-e7ac6fc69caf",
   "metadata": {},
   "outputs": [],
   "source": []
  },
  {
   "cell_type": "code",
   "execution_count": null,
   "id": "78a61164-e01c-4a64-ae6b-4d58d67cde88",
   "metadata": {},
   "outputs": [],
   "source": []
  },
  {
   "cell_type": "code",
   "execution_count": null,
   "id": "e329f3ae-784c-41c3-ba81-c7b7db08eec9",
   "metadata": {},
   "outputs": [],
   "source": []
  },
  {
   "cell_type": "code",
   "execution_count": null,
   "id": "96580b2f-e5c1-4fe7-9e58-44d4d2661b9d",
   "metadata": {},
   "outputs": [],
   "source": []
  },
  {
   "cell_type": "code",
   "execution_count": null,
   "id": "4099539e-9bdc-487a-a662-c5b7c04080d0",
   "metadata": {},
   "outputs": [],
   "source": [
    "stopper"
   ]
  },
  {
   "cell_type": "markdown",
   "id": "9e79be06-b571-439a-bb91-9a57110059ac",
   "metadata": {},
   "source": [
    "### <font color = yellow> Early practive below"
   ]
  },
  {
   "cell_type": "code",
   "execution_count": null,
   "id": "fa3ea8cb-25d2-46cd-bc9a-6ab9f16b4c79",
   "metadata": {},
   "outputs": [],
   "source": [
    "# Another issue with exceeding the index\n",
    "\n",
    "df <- data.frame(quan = c(1,2,3,4,5,6,7,8,9,10))\n",
    "vec <- c(6, 15, 28)\n",
    "\n",
    "# Initialize variables\n",
    "start_index <- 1\n",
    "vec_index <- 1\n",
    "\n",
    "# Loop over the vector values\n",
    "for (target in vec) {\n",
    "  # Initialize sum\n",
    "  sum_quan <- 0\n",
    "  \n",
    "  # Loop over the dataframe rows\n",
    "  for (i in start_index:nrow(df)) {\n",
    "    # Add the current 'quan' value to the sum\n",
    "    sum_quan <- sum_quan + df$quan[i]\n",
    "    \n",
    "    # Check if the sum exceeds the current target value\n",
    "    if (sum_quan > target) {\n",
    "      # Calculate the overage value\n",
    "      overage <- sum_quan - target\n",
    "      \n",
    "      # Adjust the 'quan' value in the current row\n",
    "      df$quan[i] <- df$quan[i] - overage\n",
    "      \n",
    "      # Create a new row with the overage value\n",
    "      new_row <- df[i, ]\n",
    "      new_row$quan <- overage\n",
    "      df <- rbind(df[1:i, ], new_row, df[(i+1):nrow(df), ])\n",
    "      \n",
    "      # Do some code here\n",
    "      print(paste(\"Match found for target\", target, \"at row\", i))\n",
    "      \n",
    "      # Update the start index for the next loop\n",
    "      start_index <- i + 1\n",
    "      \n",
    "      # Break the loop as the target is reached\n",
    "      break\n",
    "        \n",
    "    } else if (sum_quan == target) {\n",
    "      # Do some code here\n",
    "      print(paste(\"Match found for target\", target, \"at row\", i))\n",
    "      \n",
    "      # Update the start index for the next loop\n",
    "      start_index <- i + 1\n",
    "      \n",
    "      # Break the loop as the target is reached\n",
    "      break\n",
    "    }\n",
    "  }\n",
    "}\n",
    "\n",
    "df"
   ]
  },
  {
   "cell_type": "code",
   "execution_count": null,
   "id": "d17f5f20-4136-49d9-9089-f735fded5b2a",
   "metadata": {},
   "outputs": [],
   "source": []
  },
  {
   "cell_type": "code",
   "execution_count": null,
   "id": "aa52c474-6290-4068-bbdc-8bcf7083328e",
   "metadata": {},
   "outputs": [],
   "source": [
    "# Assuming df is your dataframe and vec is your vector\n",
    "df <- data.frame(quan = c(1,2,3,4,5,6,7,8,9,10), col2 = letters[1:10], col3 = LETTERS[1:10])\n",
    "vec <- c(6, 15, 28)\n",
    "\n",
    "# Initialize variables\n",
    "start_index <- 1\n",
    "vec_index <- 1\n",
    "\n",
    "# Loop over the vector values\n",
    "for (target in vec) {\n",
    "  # Initialize sum\n",
    "  sum_quan <- 0\n",
    "  \n",
    "  # Loop over the dataframe rows\n",
    "  for (i in start_index:nrow(df)) {\n",
    "    # Add the current 'quan' value to the sum\n",
    "    sum_quan <- sum_quan + df$quan[i]\n",
    "    \n",
    "    # Check if the sum exceeds the current target value\n",
    "    if (sum_quan > target) {\n",
    "      # Calculate the overage value\n",
    "      overage <- sum_quan - target\n",
    "      \n",
    "      # Adjust the 'quan' value in the current row\n",
    "      df$quan[i] <- df$quan[i] - overage\n",
    "      \n",
    "      # Create a new row with the overage value\n",
    "      new_row <- df[i, ]\n",
    "      new_row$quan <- overage\n",
    "      df <- rbind(df[1:i, ], new_row, df[(i+1):nrow(df), ])\n",
    "      \n",
    "      # Do some code here\n",
    "      print(paste(\"Match found for target\", target, \"at row\", i))\n",
    "      \n",
    "      # Update the start index for the next loop\n",
    "      start_index <- i + 2\n",
    "      \n",
    "      # Break the loop as the target is reached\n",
    "      break\n",
    "    } else if (sum_quan == target) {\n",
    "      # Do some code here\n",
    "      print(paste(\"Match found for target\", target, \"at row\", i))\n",
    "      \n",
    "      # Update the start index for the next loop\n",
    "      start_index <- i + 1\n",
    "      \n",
    "      # Break the loop as the target is reached\n",
    "      break\n",
    "    }\n",
    "  }\n",
    "}"
   ]
  },
  {
   "cell_type": "code",
   "execution_count": null,
   "id": "e3c75a77-f4a9-4b23-a9af-6e12da7c043d",
   "metadata": {},
   "outputs": [],
   "source": []
  },
  {
   "cell_type": "code",
   "execution_count": null,
   "id": "d3c7023a-ba2e-49d1-995f-7ae64eb7fe71",
   "metadata": {},
   "outputs": [],
   "source": []
  },
  {
   "cell_type": "code",
   "execution_count": null,
   "id": "15690165-b8b7-4814-9abe-598cfc845a52",
   "metadata": {},
   "outputs": [],
   "source": []
  },
  {
   "cell_type": "code",
   "execution_count": null,
   "id": "7e80d3d4-80e6-4e4d-9fdd-c3aaa50c5ef8",
   "metadata": {},
   "outputs": [],
   "source": [
    "# Demonstrates targeting ... but exceeding the index value again\n",
    "\n",
    "vec <- c(1000,1000,1000,100,900,3000,6000,1000,1850,3000,3000,500,\n",
    "           2000,3000,500,2000,810,1000,190,3000,1000,1100)\n",
    "\n",
    "df <- read.csv(\"TestAllocate.csv\", header = TRUE, sep = \",\")\n",
    "\n",
    "\n",
    "# Initialize variables\n",
    "start_index <- 1\n",
    "vec_index <- 1\n",
    "\n",
    "# Create an empty dataframe to store the matches\n",
    "matches <- data.frame()\n",
    "\n",
    "# Loop over the vector values\n",
    "for (target in vec) {\n",
    "  # Initialize sum\n",
    "  sum_quan <- 0\n",
    "  \n",
    "  # Loop over the dataframe rows\n",
    "  for (i in start_index:nrow(df)) {\n",
    "    # Add the current 'quan' value to the sum\n",
    "    sum_quan <- sum_quan + df$quan[i]\n",
    "    \n",
    "    # Check if the sum exceeds the current target value\n",
    "    if (sum_quan > target) {\n",
    "      # Calculate the overage value\n",
    "      overage <- sum_quan - target\n",
    "      \n",
    "      # Adjust the 'quan' value in the current row\n",
    "      df$quan[i] <- df$quan[i] - overage\n",
    "      \n",
    "      # Add the current row to the matches dataframe\n",
    "      matches <- rbind(matches, df[i, ])\n",
    "      \n",
    "      # Add a new row with the overage value to the matches dataframe\n",
    "      matches <- rbind(matches, c(overage, df$col2[i], df$col3[i]))\n",
    "      \n",
    "      # Do some code here\n",
    "      print(paste(\"Match found for target\", target, \"at row\", i))\n",
    "      \n",
    "      # Update the start index for the next loop\n",
    "      start_index <- i + 1\n",
    "      \n",
    "      # Break the loop as the target is reached\n",
    "      break\n",
    "        \n",
    "    } else if (sum_quan == target) {\n",
    "      # Add the current row to the matches dataframe\n",
    "      matches <- rbind(matches, df[i, ])\n",
    "      \n",
    "      # Do some code here\n",
    "      print(paste(\"Match found for target\", target, \"at row\", i))\n",
    "      \n",
    "      # Update the start index for the next loop\n",
    "      start_index <- i + 1\n",
    "      \n",
    "      # Break the loop as the target is reached\n",
    "      break\n",
    "    }\n",
    "  }\n",
    "}\n",
    "matches"
   ]
  },
  {
   "cell_type": "code",
   "execution_count": null,
   "id": "cb16ca06-ba0a-4622-bdcd-281d6ec2d6f1",
   "metadata": {},
   "outputs": [],
   "source": []
  },
  {
   "cell_type": "code",
   "execution_count": null,
   "id": "2840a52a-5450-4c07-bbdf-1632a87e3561",
   "metadata": {},
   "outputs": [],
   "source": [
    "# Assuming df is your dataframe and vec is your vector\n",
    "df <- data.frame(quan = c(1,2,3,4,5,6,7,8,9,10), col2 = letters[1:10], col3 = LETTERS[1:10])\n",
    "vec <- c(6, 14, 28)\n",
    "\n",
    "# Initialize variables\n",
    "start_index <- 1\n",
    "vec_index <- 1\n",
    "\n",
    "# Create an empty dataframe to store the matches\n",
    "matches <- data.frame()\n",
    "\n",
    "# Loop over the vector values\n",
    "for (target in vec) {\n",
    "  # Initialize sum\n",
    "  sum_quan <- 0\n",
    "  \n",
    "  # Loop over the dataframe rows\n",
    "  for (i in start_index:nrow(df)) {\n",
    "    # Add the current 'quan' value to the sum\n",
    "    sum_quan <- sum_quan + df$quan[i]\n",
    "    \n",
    "    # Check if the sum exceeds the current target value\n",
    "    if (sum_quan > target) {\n",
    "      # Calculate the overage value\n",
    "      overage <- sum_quan - target\n",
    "      \n",
    "      # Adjust the 'quan' value in the current row\n",
    "      df$quan[i] <- df$quan[i] - overage\n",
    "      \n",
    "      # Add the current row to the matches dataframe\n",
    "      matches <- rbind(matches, df[i, ])\n",
    "      \n",
    "      # Add a new row with the overage value to the matches dataframe\n",
    "      matches <- rbind(matches, c(overage, df$col2[i], df$col3[i]))\n",
    "      \n",
    "      # Do some code here\n",
    "      print(paste(\"Match found for target\", target, \"at row\", i))\n",
    "      \n",
    "      # Update the start index for the next loop\n",
    "      start_index <- i + 1\n",
    "      \n",
    "      # Break the loop as the target is reached\n",
    "      break\n",
    "    } else if (sum_quan == target) {\n",
    "      # Add the current row to the matches dataframe\n",
    "      matches <- rbind(matches, df[i, ])\n",
    "      \n",
    "      # Do some code here\n",
    "      print(paste(\"Match found for target\", target, \"at row\", i))\n",
    "      \n",
    "      # Update the start index for the next loop\n",
    "      start_index <- i + 1\n",
    "      \n",
    "      # Break the loop as the target is reached\n",
    "      break\n",
    "    }\n",
    "  }\n",
    "}\n",
    "matches"
   ]
  },
  {
   "cell_type": "code",
   "execution_count": null,
   "id": "7cfec26d-06e0-453d-9fc0-abc87db659b4",
   "metadata": {},
   "outputs": [],
   "source": []
  },
  {
   "cell_type": "code",
   "execution_count": null,
   "id": "42d5dee6-4ec3-4715-ac07-02405dd14a20",
   "metadata": {},
   "outputs": [],
   "source": []
  },
  {
   "cell_type": "code",
   "execution_count": null,
   "id": "e65afd21-d230-4d90-98ed-102a33f2a1dc",
   "metadata": {},
   "outputs": [],
   "source": []
  },
  {
   "cell_type": "code",
   "execution_count": null,
   "id": "a6646649-29d9-4c32-b363-53fea991357b",
   "metadata": {},
   "outputs": [],
   "source": [
    "f <- function(x) x + 1\n",
    "str(f)\n",
    "('--------------------------------------------')\n",
    "result <- f(60)                                   # Current age\n",
    "result\n",
    "('--------------------------------------------')\n",
    "str(result)\n",
    "\n",
    "print(f)"
   ]
  },
  {
   "cell_type": "code",
   "execution_count": null,
   "id": "a9e507ab-7ed7-408c-bab9-ce089562f9dc",
   "metadata": {},
   "outputs": [],
   "source": []
  }
 ],
 "metadata": {
  "kernelspec": {
   "display_name": "R",
   "language": "R",
   "name": "ir"
  },
  "language_info": {
   "codemirror_mode": "r",
   "file_extension": ".r",
   "mimetype": "text/x-r-source",
   "name": "R",
   "pygments_lexer": "r",
   "version": "4.3.0"
  }
 },
 "nbformat": 4,
 "nbformat_minor": 5
}
