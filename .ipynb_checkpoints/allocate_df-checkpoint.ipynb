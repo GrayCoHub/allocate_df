{
 "cells": [
  {
   "cell_type": "code",
   "execution_count": 74,
   "id": "e2079458-7a7a-4e66-b6c5-b19873375c98",
   "metadata": {},
   "outputs": [],
   "source": [
    "library(dplyr)"
   ]
  },
  {
   "cell_type": "code",
   "execution_count": 117,
   "id": "81b20b62-e59f-4b58-9795-ce8e3984180d",
   "metadata": {},
   "outputs": [
    {
     "name": "stdout",
     "output_type": "stream",
     "text": [
      "'data.frame':\t73 obs. of  9 variables:\n",
      " $ buy_date : chr  \"3/3/2023\" \"3/3/2023\" \"3/3/2023\" \"3/3/2023\" ...\n",
      " $ cost     : chr  \"618.08\" \"2,422.31\" \"2,298.31\" \"605.17\" ...\n",
      " $ quan     : int  100 400 400 100 100 100 100 400 400 190 ...\n",
      " $ tally_q  : int  100 500 900 1000 1100 1200 1300 1700 2100 4200 ...\n",
      " $ tally_c  : chr  \"618.08\" \"3,040.39\" \"5,338.70\" \"5,943.87\" ...\n",
      " $ sell_date: chr  \"6/2/2023\" \"6/2/2023\" \"6/2/2023\" \"6/2/2023\" ...\n",
      " $ Proceeds : chr  \"453.98\" \"1815.93\" \"1815.93\" \"453.98\" ...\n",
      " $ tally_q2 : int  36850 36450 36050 35950 35850 35750 35650 35250 34850 34660 ...\n",
      " $ tally_c2 : chr  \"206,557.16\" \"204,134.85\" \"201,836.54\" \"201,231.37\" ...\n"
     ]
    }
   ],
   "source": [
    "df <- read.csv(\"TestAllocate.csv\", header = TRUE, sep = \",\")\n",
    "str(df)"
   ]
  },
  {
   "cell_type": "code",
   "execution_count": 75,
   "id": "1ef387bf-e7f3-4d2e-be71-2e92ad213e91",
   "metadata": {},
   "outputs": [
    {
     "data": {
      "text/html": [
       "<table class=\"dataframe\">\n",
       "<caption>A data.frame: 6 × 9</caption>\n",
       "<thead>\n",
       "\t<tr><th></th><th scope=col>buy_date</th><th scope=col>cost</th><th scope=col>quan</th><th scope=col>tally_q</th><th scope=col>tally_c</th><th scope=col>sell_date</th><th scope=col>Proceeds</th><th scope=col>tally_q2</th><th scope=col>tally_c2</th></tr>\n",
       "\t<tr><th></th><th scope=col>&lt;chr&gt;</th><th scope=col>&lt;chr&gt;</th><th scope=col>&lt;int&gt;</th><th scope=col>&lt;int&gt;</th><th scope=col>&lt;chr&gt;</th><th scope=col>&lt;chr&gt;</th><th scope=col>&lt;chr&gt;</th><th scope=col>&lt;int&gt;</th><th scope=col>&lt;chr&gt;</th></tr>\n",
       "</thead>\n",
       "<tbody>\n",
       "\t<tr><th scope=row>1</th><td>3/3/2023 </td><td>618.08  </td><td>100</td><td> 100</td><td>618.08  </td><td>6/2/2023 </td><td>453.98 </td><td>36850</td><td>206,557.16</td></tr>\n",
       "\t<tr><th scope=row>2</th><td>3/3/2023 </td><td>2,422.31</td><td>400</td><td> 500</td><td>3,040.39</td><td>6/2/2023 </td><td>1815.93</td><td>36450</td><td>204,134.85</td></tr>\n",
       "\t<tr><th scope=row>3</th><td>3/3/2023 </td><td>2,298.31</td><td>400</td><td> 900</td><td>5,338.70</td><td>6/2/2023 </td><td>1815.93</td><td>36050</td><td>201,836.54</td></tr>\n",
       "\t<tr><th scope=row>4</th><td>3/3/2023 </td><td>605.17  </td><td>100</td><td>1000</td><td>5,943.87</td><td>6/2/2023 </td><td>453.98 </td><td>35950</td><td>201,231.37</td></tr>\n",
       "\t<tr><th scope=row>5</th><td>4/27/2023</td><td>544.50  </td><td>100</td><td>1100</td><td>6,488.37</td><td>6/2/2023 </td><td>453.98 </td><td>35850</td><td>200,686.87</td></tr>\n",
       "\t<tr><th scope=row>6</th><td>3/3/2023 </td><td>562.53  </td><td>100</td><td>1200</td><td>7,050.90</td><td>5/30/2023</td><td>458.26 </td><td>35750</td><td>200,124.34</td></tr>\n",
       "</tbody>\n",
       "</table>\n"
      ],
      "text/latex": [
       "A data.frame: 6 × 9\n",
       "\\begin{tabular}{r|lllllllll}\n",
       "  & buy\\_date & cost & quan & tally\\_q & tally\\_c & sell\\_date & Proceeds & tally\\_q2 & tally\\_c2\\\\\n",
       "  & <chr> & <chr> & <int> & <int> & <chr> & <chr> & <chr> & <int> & <chr>\\\\\n",
       "\\hline\n",
       "\t1 & 3/3/2023  & 618.08   & 100 &  100 & 618.08   & 6/2/2023  & 453.98  & 36850 & 206,557.16\\\\\n",
       "\t2 & 3/3/2023  & 2,422.31 & 400 &  500 & 3,040.39 & 6/2/2023  & 1815.93 & 36450 & 204,134.85\\\\\n",
       "\t3 & 3/3/2023  & 2,298.31 & 400 &  900 & 5,338.70 & 6/2/2023  & 1815.93 & 36050 & 201,836.54\\\\\n",
       "\t4 & 3/3/2023  & 605.17   & 100 & 1000 & 5,943.87 & 6/2/2023  & 453.98  & 35950 & 201,231.37\\\\\n",
       "\t5 & 4/27/2023 & 544.50   & 100 & 1100 & 6,488.37 & 6/2/2023  & 453.98  & 35850 & 200,686.87\\\\\n",
       "\t6 & 3/3/2023  & 562.53   & 100 & 1200 & 7,050.90 & 5/30/2023 & 458.26  & 35750 & 200,124.34\\\\\n",
       "\\end{tabular}\n"
      ],
      "text/markdown": [
       "\n",
       "A data.frame: 6 × 9\n",
       "\n",
       "| <!--/--> | buy_date &lt;chr&gt; | cost &lt;chr&gt; | quan &lt;int&gt; | tally_q &lt;int&gt; | tally_c &lt;chr&gt; | sell_date &lt;chr&gt; | Proceeds &lt;chr&gt; | tally_q2 &lt;int&gt; | tally_c2 &lt;chr&gt; |\n",
       "|---|---|---|---|---|---|---|---|---|---|\n",
       "| 1 | 3/3/2023  | 618.08   | 100 |  100 | 618.08   | 6/2/2023  | 453.98  | 36850 | 206,557.16 |\n",
       "| 2 | 3/3/2023  | 2,422.31 | 400 |  500 | 3,040.39 | 6/2/2023  | 1815.93 | 36450 | 204,134.85 |\n",
       "| 3 | 3/3/2023  | 2,298.31 | 400 |  900 | 5,338.70 | 6/2/2023  | 1815.93 | 36050 | 201,836.54 |\n",
       "| 4 | 3/3/2023  | 605.17   | 100 | 1000 | 5,943.87 | 6/2/2023  | 453.98  | 35950 | 201,231.37 |\n",
       "| 5 | 4/27/2023 | 544.50   | 100 | 1100 | 6,488.37 | 6/2/2023  | 453.98  | 35850 | 200,686.87 |\n",
       "| 6 | 3/3/2023  | 562.53   | 100 | 1200 | 7,050.90 | 5/30/2023 | 458.26  | 35750 | 200,124.34 |\n",
       "\n"
      ],
      "text/plain": [
       "  buy_date  cost     quan tally_q tally_c  sell_date Proceeds tally_q2\n",
       "1 3/3/2023  618.08   100   100    618.08   6/2/2023  453.98   36850   \n",
       "2 3/3/2023  2,422.31 400   500    3,040.39 6/2/2023  1815.93  36450   \n",
       "3 3/3/2023  2,298.31 400   900    5,338.70 6/2/2023  1815.93  36050   \n",
       "4 3/3/2023  605.17   100  1000    5,943.87 6/2/2023  453.98   35950   \n",
       "5 4/27/2023 544.50   100  1100    6,488.37 6/2/2023  453.98   35850   \n",
       "6 3/3/2023  562.53   100  1200    7,050.90 5/30/2023 458.26   35750   \n",
       "  tally_c2  \n",
       "1 206,557.16\n",
       "2 204,134.85\n",
       "3 201,836.54\n",
       "4 201,231.37\n",
       "5 200,686.87\n",
       "6 200,124.34"
      ]
     },
     "metadata": {},
     "output_type": "display_data"
    }
   ],
   "source": [
    "head(df)"
   ]
  },
  {
   "cell_type": "code",
   "execution_count": null,
   "id": "f13edcb4-8ea2-487d-941e-2f4548df5f40",
   "metadata": {},
   "outputs": [],
   "source": []
  },
  {
   "cell_type": "code",
   "execution_count": null,
   "id": "183b2c61-67b4-4e02-bdf5-80dfe4cadacb",
   "metadata": {},
   "outputs": [],
   "source": []
  },
  {
   "cell_type": "code",
   "execution_count": 98,
   "id": "1f57b5fc-63d7-480c-aa33-4aad0e8abd9d",
   "metadata": {},
   "outputs": [
    {
     "name": "stdout",
     "output_type": "stream",
     "text": [
      "[1] 100\n",
      "[1] 600\n",
      "[1] 1500\n",
      "[1] 3\n"
     ]
    },
    {
     "data": {
      "text/html": [
       "1500"
      ],
      "text/latex": [
       "1500"
      ],
      "text/markdown": [
       "1500"
      ],
      "text/plain": [
       "[1] 1500"
      ]
     },
     "metadata": {},
     "output_type": "display_data"
    }
   ],
   "source": [
    "# Define the target sum\n",
    "target_sum <- 800\n",
    "\n",
    "\n",
    "# Initialize a variable to hold the cumulative sum\n",
    "cumulative_sum <- 0\n",
    "\n",
    "# Initialize a variable to hold the index where target sum is achieved\n",
    "index <- 0\n",
    "\n",
    "# Iterate over the column\n",
    "for(i in 1:nrow(df)) {\n",
    "  cumulative_sum <- cumulative_sum + df[i, 'tally_q']\n",
    "    print(cumulative_sum)\n",
    "  if(cumulative_sum >= target_sum) {\n",
    "    index <- i\n",
    "    break\n",
    "  }\n",
    "}\n",
    "\n",
    "# Print the index\n",
    "print(index)\n",
    "cumulative_sum"
   ]
  },
  {
   "cell_type": "code",
   "execution_count": null,
   "id": "9f18324d-1d7f-4f1d-a393-2e299fa6c662",
   "metadata": {},
   "outputs": [],
   "source": []
  },
  {
   "cell_type": "code",
   "execution_count": 91,
   "id": "a2f999a5-1544-4b17-ac57-0fb52686822c",
   "metadata": {},
   "outputs": [
    {
     "data": {
      "text/html": [
       "<table class=\"dataframe\">\n",
       "<caption>A data.frame: 5 × 2</caption>\n",
       "<thead>\n",
       "\t<tr><th scope=col>Quantity</th><th scope=col>Other</th></tr>\n",
       "\t<tr><th scope=col>&lt;dbl&gt;</th><th scope=col>&lt;chr&gt;</th></tr>\n",
       "</thead>\n",
       "<tbody>\n",
       "\t<tr><td>1</td><td>a</td></tr>\n",
       "\t<tr><td>2</td><td>b</td></tr>\n",
       "\t<tr><td>3</td><td>c</td></tr>\n",
       "\t<tr><td>4</td><td>d</td></tr>\n",
       "\t<tr><td>5</td><td>e</td></tr>\n",
       "</tbody>\n",
       "</table>\n"
      ],
      "text/latex": [
       "A data.frame: 5 × 2\n",
       "\\begin{tabular}{ll}\n",
       " Quantity & Other\\\\\n",
       " <dbl> & <chr>\\\\\n",
       "\\hline\n",
       "\t 1 & a\\\\\n",
       "\t 2 & b\\\\\n",
       "\t 3 & c\\\\\n",
       "\t 4 & d\\\\\n",
       "\t 5 & e\\\\\n",
       "\\end{tabular}\n"
      ],
      "text/markdown": [
       "\n",
       "A data.frame: 5 × 2\n",
       "\n",
       "| Quantity &lt;dbl&gt; | Other &lt;chr&gt; |\n",
       "|---|---|\n",
       "| 1 | a |\n",
       "| 2 | b |\n",
       "| 3 | c |\n",
       "| 4 | d |\n",
       "| 5 | e |\n",
       "\n"
      ],
      "text/plain": [
       "  Quantity Other\n",
       "1 1        a    \n",
       "2 2        b    \n",
       "3 3        c    \n",
       "4 4        d    \n",
       "5 5        e    "
      ]
     },
     "metadata": {},
     "output_type": "display_data"
    },
    {
     "name": "stdout",
     "output_type": "stream",
     "text": [
      "  Quantity Other\n",
      "1        1     a\n",
      "2        2     b\n",
      "3        3     c\n",
      "4        0     d\n",
      "5        2     d\n",
      "6        2     d\n",
      "7        5     e\n"
     ]
    }
   ],
   "source": [
    "# Assuming 'df' is your dataframe and 'Quantity' is your column\n",
    "df <- data.frame(Quantity = c(1, 2, 3, 4, 5), Other = c('a', 'b', 'c', 'd', 'e'))\n",
    "test_values <- c(8, 6)\n",
    "df\n",
    "# Iterate over the test values\n",
    "for(test_value in test_values) {\n",
    "  # Initialize a variable to hold the cumulative sum\n",
    "  cumulative_sum <- 0\n",
    "\n",
    "  # Iterate over the rows\n",
    "  for(i in 1:nrow(df)) {\n",
    "    cumulative_sum <- cumulative_sum + df[i, 'Quantity']\n",
    "    \n",
    "    # Check if the cumulative sum exceeds the test value\n",
    "    if(cumulative_sum > test_value) {\n",
    "      # Calculate the excess and the adjusted quantity\n",
    "      excess <- cumulative_sum - test_value\n",
    "      adjusted_quantity <- df[i, 'Quantity'] - excess\n",
    "      \n",
    "      # Update the quantity in the current row\n",
    "      df[i, 'Quantity'] <- adjusted_quantity\n",
    "      \n",
    "      # Create a new row with the excess quantity\n",
    "      new_row <- df[i, ]\n",
    "      new_row['Quantity'] <- excess\n",
    "      \n",
    "      # Insert the new row into the dataframe immediately below the current row\n",
    "      df <- df %>% \n",
    "        add_row(.before = i+1, !!!new_row)\n",
    "      \n",
    "      # Break the loop\n",
    "      break\n",
    "    }\n",
    "  }\n",
    "}\n",
    "\n",
    "# Print the updated dataframe\n",
    "print(df)\n"
   ]
  },
  {
   "cell_type": "code",
   "execution_count": null,
   "id": "a105c541-4cc8-4b36-a1d0-a23f19de78b2",
   "metadata": {},
   "outputs": [],
   "source": []
  },
  {
   "cell_type": "code",
   "execution_count": 186,
   "id": "03a67a20-fca9-4dd9-979e-d218ac8b9e08",
   "metadata": {},
   "outputs": [
    {
     "data": {
      "text/html": [
       "4"
      ],
      "text/latex": [
       "4"
      ],
      "text/markdown": [
       "4"
      ],
      "text/plain": [
       "[1] 4"
      ]
     },
     "metadata": {},
     "output_type": "display_data"
    },
    {
     "data": {
      "text/html": [
       "<table class=\"dataframe\">\n",
       "<caption>A data.frame: 6 × 9</caption>\n",
       "<thead>\n",
       "\t<tr><th></th><th scope=col>buy_date</th><th scope=col>cost</th><th scope=col>quan</th><th scope=col>tally_q</th><th scope=col>tally_c</th><th scope=col>sell_date</th><th scope=col>Proceeds</th><th scope=col>tally_q2</th><th scope=col>tally_c2</th></tr>\n",
       "\t<tr><th></th><th scope=col>&lt;chr&gt;</th><th scope=col>&lt;chr&gt;</th><th scope=col>&lt;dbl&gt;</th><th scope=col>&lt;dbl&gt;</th><th scope=col>&lt;chr&gt;</th><th scope=col>&lt;chr&gt;</th><th scope=col>&lt;chr&gt;</th><th scope=col>&lt;int&gt;</th><th scope=col>&lt;chr&gt;</th></tr>\n",
       "</thead>\n",
       "<tbody>\n",
       "\t<tr><th scope=row>1</th><td>3/3/2023 </td><td>618.08  </td><td>100</td><td> 100</td><td>618.08  </td><td>6/2/2023</td><td>453.98 </td><td>36850</td><td>206,557.16</td></tr>\n",
       "\t<tr><th scope=row>2</th><td>3/3/2023 </td><td>2,422.31</td><td>400</td><td> 500</td><td>3,040.39</td><td>6/2/2023</td><td>1815.93</td><td>36450</td><td>204,134.85</td></tr>\n",
       "\t<tr><th scope=row>3</th><td>3/3/2023 </td><td>2,298.31</td><td>200</td><td> 700</td><td>5,338.70</td><td>6/2/2023</td><td>1815.93</td><td>36050</td><td>201,836.54</td></tr>\n",
       "\t<tr><th scope=row>4</th><td>3/3/2023 </td><td>2,298.31</td><td>200</td><td> 900</td><td>5,338.70</td><td>6/2/2023</td><td>1815.93</td><td>36050</td><td>201,836.54</td></tr>\n",
       "\t<tr><th scope=row>5</th><td>3/3/2023 </td><td>605.17  </td><td>100</td><td>1000</td><td>5,943.87</td><td>6/2/2023</td><td>453.98 </td><td>35950</td><td>201,231.37</td></tr>\n",
       "\t<tr><th scope=row>6</th><td>4/27/2023</td><td>544.50  </td><td>100</td><td>1100</td><td>6,488.37</td><td>6/2/2023</td><td>453.98 </td><td>35850</td><td>200,686.87</td></tr>\n",
       "</tbody>\n",
       "</table>\n"
      ],
      "text/latex": [
       "A data.frame: 6 × 9\n",
       "\\begin{tabular}{r|lllllllll}\n",
       "  & buy\\_date & cost & quan & tally\\_q & tally\\_c & sell\\_date & Proceeds & tally\\_q2 & tally\\_c2\\\\\n",
       "  & <chr> & <chr> & <dbl> & <dbl> & <chr> & <chr> & <chr> & <int> & <chr>\\\\\n",
       "\\hline\n",
       "\t1 & 3/3/2023  & 618.08   & 100 &  100 & 618.08   & 6/2/2023 & 453.98  & 36850 & 206,557.16\\\\\n",
       "\t2 & 3/3/2023  & 2,422.31 & 400 &  500 & 3,040.39 & 6/2/2023 & 1815.93 & 36450 & 204,134.85\\\\\n",
       "\t3 & 3/3/2023  & 2,298.31 & 200 &  700 & 5,338.70 & 6/2/2023 & 1815.93 & 36050 & 201,836.54\\\\\n",
       "\t4 & 3/3/2023  & 2,298.31 & 200 &  900 & 5,338.70 & 6/2/2023 & 1815.93 & 36050 & 201,836.54\\\\\n",
       "\t5 & 3/3/2023  & 605.17   & 100 & 1000 & 5,943.87 & 6/2/2023 & 453.98  & 35950 & 201,231.37\\\\\n",
       "\t6 & 4/27/2023 & 544.50   & 100 & 1100 & 6,488.37 & 6/2/2023 & 453.98  & 35850 & 200,686.87\\\\\n",
       "\\end{tabular}\n"
      ],
      "text/markdown": [
       "\n",
       "A data.frame: 6 × 9\n",
       "\n",
       "| <!--/--> | buy_date &lt;chr&gt; | cost &lt;chr&gt; | quan &lt;dbl&gt; | tally_q &lt;dbl&gt; | tally_c &lt;chr&gt; | sell_date &lt;chr&gt; | Proceeds &lt;chr&gt; | tally_q2 &lt;int&gt; | tally_c2 &lt;chr&gt; |\n",
       "|---|---|---|---|---|---|---|---|---|---|\n",
       "| 1 | 3/3/2023  | 618.08   | 100 |  100 | 618.08   | 6/2/2023 | 453.98  | 36850 | 206,557.16 |\n",
       "| 2 | 3/3/2023  | 2,422.31 | 400 |  500 | 3,040.39 | 6/2/2023 | 1815.93 | 36450 | 204,134.85 |\n",
       "| 3 | 3/3/2023  | 2,298.31 | 200 |  700 | 5,338.70 | 6/2/2023 | 1815.93 | 36050 | 201,836.54 |\n",
       "| 4 | 3/3/2023  | 2,298.31 | 200 |  900 | 5,338.70 | 6/2/2023 | 1815.93 | 36050 | 201,836.54 |\n",
       "| 5 | 3/3/2023  | 605.17   | 100 | 1000 | 5,943.87 | 6/2/2023 | 453.98  | 35950 | 201,231.37 |\n",
       "| 6 | 4/27/2023 | 544.50   | 100 | 1100 | 6,488.37 | 6/2/2023 | 453.98  | 35850 | 200,686.87 |\n",
       "\n"
      ],
      "text/plain": [
       "  buy_date  cost     quan tally_q tally_c  sell_date Proceeds tally_q2\n",
       "1 3/3/2023  618.08   100   100    618.08   6/2/2023  453.98   36850   \n",
       "2 3/3/2023  2,422.31 400   500    3,040.39 6/2/2023  1815.93  36450   \n",
       "3 3/3/2023  2,298.31 200   700    5,338.70 6/2/2023  1815.93  36050   \n",
       "4 3/3/2023  2,298.31 200   900    5,338.70 6/2/2023  1815.93  36050   \n",
       "5 3/3/2023  605.17   100  1000    5,943.87 6/2/2023  453.98   35950   \n",
       "6 4/27/2023 544.50   100  1100    6,488.37 6/2/2023  453.98   35850   \n",
       "  tally_c2  \n",
       "1 206,557.16\n",
       "2 204,134.85\n",
       "3 201,836.54\n",
       "4 201,836.54\n",
       "5 201,231.37\n",
       "6 200,686.87"
      ]
     },
     "metadata": {},
     "output_type": "display_data"
    }
   ],
   "source": [
    "df <- read.csv(\"TestAllocate.csv\", header = TRUE, sep = \",\")\n",
    "\n",
    "ct <<- 0\n",
    "test_value <- c(700)\n",
    "\n",
    "\n",
    "# function to allocate values within a df\n",
    "inter <- function(df, test_value, ct) {\n",
    "     cumulative_sum <- 0\n",
    "      \n",
    "# Iterate over the rows\n",
    "  for(i in 1:nrow(df)) {\n",
    "      \n",
    "    cumulative_sum <- cumulative_sum + df[i, 'quan']\n",
    "    \n",
    "    # Check if the cumulative sum exceeds the test value\n",
    "    if(cumulative_sum >= test_value) {\n",
    "        # ct <<- ct + 1\n",
    "     \n",
    "      # Calculate the excess and the adjusted quantity\n",
    "      excess <- cumulative_sum - test_value\n",
    "      adjusted_quantity <- df[i, 'quan'] - excess\n",
    "      \n",
    "      # Update the quantity in the current row\n",
    "      df[i, 'quan'] <- adjusted_quantity      \n",
    "        \n",
    "      # Create a new row with the excess quantity\n",
    "      new_row <- df[i, ]\n",
    "      new_row['quan'] <- excess \n",
    "        \n",
    "     # update the tally_q - first row  \n",
    "      q1 <- df[i, 'tally_q'] - adjusted_quantity\n",
    "      df[i, 'tally_q'] <- q1\n",
    "        \n",
    "      # Insert the new row into the dataframe immediately below the current row\n",
    "      df <- df %>% \n",
    "        add_row(.before = i+1, !!!new_row)\n",
    "        ct <<- i+1        \n",
    "    \n",
    "      # Break the loop and move to the next test value\n",
    "      break\n",
    "    \n",
    "    }\n",
    "    \n",
    "  }\n",
    "     return(df)\n",
    "}\n",
    "\n",
    "# make fct call\n",
    "mod_df <- inter(df, test_value, ct)\n",
    "\n",
    "# show the returned ct value\n",
    "ct\n",
    "\n",
    "head(mod_df)\n",
    "\n"
   ]
  },
  {
   "cell_type": "code",
   "execution_count": null,
   "id": "f7f2e6eb-09ad-4fea-a717-d3542dd98a90",
   "metadata": {},
   "outputs": [],
   "source": []
  },
  {
   "cell_type": "code",
   "execution_count": null,
   "id": "88c14f02-14db-4a23-9bc2-c61926ef9145",
   "metadata": {},
   "outputs": [],
   "source": []
  },
  {
   "cell_type": "code",
   "execution_count": null,
   "id": "a6646649-29d9-4c32-b363-53fea991357b",
   "metadata": {},
   "outputs": [],
   "source": []
  },
  {
   "cell_type": "code",
   "execution_count": null,
   "id": "ccd76dec-bcb2-4289-ba11-d5f8e9b72d30",
   "metadata": {},
   "outputs": [],
   "source": []
  },
  {
   "cell_type": "code",
   "execution_count": null,
   "id": "fed25de6-024b-4e3d-91b1-6a9290bef7cf",
   "metadata": {},
   "outputs": [],
   "source": []
  },
  {
   "cell_type": "code",
   "execution_count": null,
   "id": "692695d4-927a-4668-888c-ba5444bfc632",
   "metadata": {},
   "outputs": [],
   "source": []
  },
  {
   "cell_type": "code",
   "execution_count": null,
   "id": "fa3ea8cb-25d2-46cd-bc9a-6ab9f16b4c79",
   "metadata": {},
   "outputs": [],
   "source": []
  },
  {
   "cell_type": "code",
   "execution_count": null,
   "id": "aa52c474-6290-4068-bbdc-8bcf7083328e",
   "metadata": {},
   "outputs": [],
   "source": []
  },
  {
   "cell_type": "code",
   "execution_count": null,
   "id": "15690165-b8b7-4814-9abe-598cfc845a52",
   "metadata": {},
   "outputs": [],
   "source": []
  }
 ],
 "metadata": {
  "kernelspec": {
   "display_name": "R",
   "language": "R",
   "name": "ir"
  },
  "language_info": {
   "codemirror_mode": "r",
   "file_extension": ".r",
   "mimetype": "text/x-r-source",
   "name": "R",
   "pygments_lexer": "r",
   "version": "4.3.0"
  }
 },
 "nbformat": 4,
 "nbformat_minor": 5
}
