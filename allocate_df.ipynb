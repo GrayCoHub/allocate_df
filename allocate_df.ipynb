{
 "cells": [
  {
   "cell_type": "code",
   "execution_count": 10,
   "id": "e2079458-7a7a-4e66-b6c5-b19873375c98",
   "metadata": {},
   "outputs": [],
   "source": [
    "library(dplyr)"
   ]
  },
  {
   "cell_type": "code",
   "execution_count": 11,
   "id": "81b20b62-e59f-4b58-9795-ce8e3984180d",
   "metadata": {},
   "outputs": [
    {
     "name": "stdout",
     "output_type": "stream",
     "text": [
      "'data.frame':\t74 obs. of  12 variables:\n",
      " $ date    : chr  \"9/15/2022\" \"9/15/2022\" \"9/15/2022\" \"9/15/2022\" ...\n",
      " $ cost    : num  1990 503 414 816 2013 ...\n",
      " $ quan    : int  200 50 50 100 200 100 100 100 100 50 ...\n",
      " $ tally_q : int  200 250 300 400 600 700 800 900 1000 1050 ...\n",
      " $ tally_c : num  1990 503 414 816 2013 ...\n",
      " $ date_s  : chr  \"1/27/2023\" \"1/27/2023\" \"2/3/2023\" \"2/3/2023\" ...\n",
      " $ proceeds: num  1102 276 309 619 1336 ...\n",
      " $ tally_q2: int  36750 36700 36650 36550 36350 36250 36150 36050 35950 35900 ...\n",
      " $ tally_c2: num  205185 204682 204268 203453 201440 ...\n",
      " $ X       : logi  NA NA NA NA NA NA ...\n",
      " $ X.1     : logi  NA NA NA NA NA NA ...\n",
      " $ X.2     : logi  NA NA NA NA NA NA ...\n"
     ]
    }
   ],
   "source": [
    "df <- read.csv(\"TestAllocate.csv\", header = TRUE, sep = \",\")\n",
    "str(df)"
   ]
  },
  {
   "cell_type": "code",
   "execution_count": 12,
   "id": "1ef387bf-e7f3-4d2e-be71-2e92ad213e91",
   "metadata": {},
   "outputs": [
    {
     "data": {
      "text/html": [
       "<table class=\"dataframe\">\n",
       "<caption>A data.frame: 6 × 12</caption>\n",
       "<thead>\n",
       "\t<tr><th></th><th scope=col>date</th><th scope=col>cost</th><th scope=col>quan</th><th scope=col>tally_q</th><th scope=col>tally_c</th><th scope=col>date_s</th><th scope=col>proceeds</th><th scope=col>tally_q2</th><th scope=col>tally_c2</th><th scope=col>X</th><th scope=col>X.1</th><th scope=col>X.2</th></tr>\n",
       "\t<tr><th></th><th scope=col>&lt;chr&gt;</th><th scope=col>&lt;dbl&gt;</th><th scope=col>&lt;int&gt;</th><th scope=col>&lt;int&gt;</th><th scope=col>&lt;dbl&gt;</th><th scope=col>&lt;chr&gt;</th><th scope=col>&lt;dbl&gt;</th><th scope=col>&lt;int&gt;</th><th scope=col>&lt;dbl&gt;</th><th scope=col>&lt;lgl&gt;</th><th scope=col>&lt;lgl&gt;</th><th scope=col>&lt;lgl&gt;</th></tr>\n",
       "</thead>\n",
       "<tbody>\n",
       "\t<tr><th scope=row>1</th><td>9/15/2022</td><td>1989.98</td><td>200</td><td>200</td><td>1989.98</td><td>1/27/2023</td><td>1102.42</td><td>36750</td><td>205185.3</td><td>NA</td><td>NA</td><td>NA</td></tr>\n",
       "\t<tr><th scope=row>2</th><td>9/15/2022</td><td> 503.42</td><td> 50</td><td>250</td><td> 503.42</td><td>1/27/2023</td><td> 275.61</td><td>36700</td><td>204681.8</td><td>NA</td><td>NA</td><td>NA</td></tr>\n",
       "\t<tr><th scope=row>3</th><td>9/15/2022</td><td> 413.70</td><td> 50</td><td>300</td><td> 413.70</td><td>2/3/2023 </td><td> 309.49</td><td>36650</td><td>204268.1</td><td>NA</td><td>NA</td><td>NA</td></tr>\n",
       "\t<tr><th scope=row>4</th><td>9/15/2022</td><td> 815.57</td><td>100</td><td>400</td><td> 815.57</td><td>2/3/2023 </td><td> 618.98</td><td>36550</td><td>203452.6</td><td>NA</td><td>NA</td><td>NA</td></tr>\n",
       "\t<tr><th scope=row>5</th><td>9/15/2022</td><td>2012.56</td><td>200</td><td>600</td><td>2012.56</td><td>2/3/2023 </td><td>1335.96</td><td>36350</td><td>201440.0</td><td>NA</td><td>NA</td><td>NA</td></tr>\n",
       "\t<tr><th scope=row>6</th><td>9/15/2022</td><td> 917.10</td><td>100</td><td>700</td><td> 917.10</td><td>2/3/2023 </td><td> 625.47</td><td>36250</td><td>200522.9</td><td>NA</td><td>NA</td><td>NA</td></tr>\n",
       "</tbody>\n",
       "</table>\n"
      ],
      "text/latex": [
       "A data.frame: 6 × 12\n",
       "\\begin{tabular}{r|llllllllllll}\n",
       "  & date & cost & quan & tally\\_q & tally\\_c & date\\_s & proceeds & tally\\_q2 & tally\\_c2 & X & X.1 & X.2\\\\\n",
       "  & <chr> & <dbl> & <int> & <int> & <dbl> & <chr> & <dbl> & <int> & <dbl> & <lgl> & <lgl> & <lgl>\\\\\n",
       "\\hline\n",
       "\t1 & 9/15/2022 & 1989.98 & 200 & 200 & 1989.98 & 1/27/2023 & 1102.42 & 36750 & 205185.3 & NA & NA & NA\\\\\n",
       "\t2 & 9/15/2022 &  503.42 &  50 & 250 &  503.42 & 1/27/2023 &  275.61 & 36700 & 204681.8 & NA & NA & NA\\\\\n",
       "\t3 & 9/15/2022 &  413.70 &  50 & 300 &  413.70 & 2/3/2023  &  309.49 & 36650 & 204268.1 & NA & NA & NA\\\\\n",
       "\t4 & 9/15/2022 &  815.57 & 100 & 400 &  815.57 & 2/3/2023  &  618.98 & 36550 & 203452.6 & NA & NA & NA\\\\\n",
       "\t5 & 9/15/2022 & 2012.56 & 200 & 600 & 2012.56 & 2/3/2023  & 1335.96 & 36350 & 201440.0 & NA & NA & NA\\\\\n",
       "\t6 & 9/15/2022 &  917.10 & 100 & 700 &  917.10 & 2/3/2023  &  625.47 & 36250 & 200522.9 & NA & NA & NA\\\\\n",
       "\\end{tabular}\n"
      ],
      "text/markdown": [
       "\n",
       "A data.frame: 6 × 12\n",
       "\n",
       "| <!--/--> | date &lt;chr&gt; | cost &lt;dbl&gt; | quan &lt;int&gt; | tally_q &lt;int&gt; | tally_c &lt;dbl&gt; | date_s &lt;chr&gt; | proceeds &lt;dbl&gt; | tally_q2 &lt;int&gt; | tally_c2 &lt;dbl&gt; | X &lt;lgl&gt; | X.1 &lt;lgl&gt; | X.2 &lt;lgl&gt; |\n",
       "|---|---|---|---|---|---|---|---|---|---|---|---|---|\n",
       "| 1 | 9/15/2022 | 1989.98 | 200 | 200 | 1989.98 | 1/27/2023 | 1102.42 | 36750 | 205185.3 | NA | NA | NA |\n",
       "| 2 | 9/15/2022 |  503.42 |  50 | 250 |  503.42 | 1/27/2023 |  275.61 | 36700 | 204681.8 | NA | NA | NA |\n",
       "| 3 | 9/15/2022 |  413.70 |  50 | 300 |  413.70 | 2/3/2023  |  309.49 | 36650 | 204268.1 | NA | NA | NA |\n",
       "| 4 | 9/15/2022 |  815.57 | 100 | 400 |  815.57 | 2/3/2023  |  618.98 | 36550 | 203452.6 | NA | NA | NA |\n",
       "| 5 | 9/15/2022 | 2012.56 | 200 | 600 | 2012.56 | 2/3/2023  | 1335.96 | 36350 | 201440.0 | NA | NA | NA |\n",
       "| 6 | 9/15/2022 |  917.10 | 100 | 700 |  917.10 | 2/3/2023  |  625.47 | 36250 | 200522.9 | NA | NA | NA |\n",
       "\n"
      ],
      "text/plain": [
       "  date      cost    quan tally_q tally_c date_s    proceeds tally_q2 tally_c2\n",
       "1 9/15/2022 1989.98 200  200     1989.98 1/27/2023 1102.42  36750    205185.3\n",
       "2 9/15/2022  503.42  50  250      503.42 1/27/2023  275.61  36700    204681.8\n",
       "3 9/15/2022  413.70  50  300      413.70 2/3/2023   309.49  36650    204268.1\n",
       "4 9/15/2022  815.57 100  400      815.57 2/3/2023   618.98  36550    203452.6\n",
       "5 9/15/2022 2012.56 200  600     2012.56 2/3/2023  1335.96  36350    201440.0\n",
       "6 9/15/2022  917.10 100  700      917.10 2/3/2023   625.47  36250    200522.9\n",
       "  X  X.1 X.2\n",
       "1 NA NA  NA \n",
       "2 NA NA  NA \n",
       "3 NA NA  NA \n",
       "4 NA NA  NA \n",
       "5 NA NA  NA \n",
       "6 NA NA  NA "
      ]
     },
     "metadata": {},
     "output_type": "display_data"
    }
   ],
   "source": [
    "head(df)"
   ]
  },
  {
   "cell_type": "markdown",
   "id": "9e570256-90e9-4fa3-9f61-649cfc0cf13c",
   "metadata": {},
   "source": [
    "### <font color = lime> Convert the df char data types to numeric"
   ]
  },
  {
   "cell_type": "code",
   "execution_count": 13,
   "id": "183b2c61-67b4-4e02-bdf5-80dfe4cadacb",
   "metadata": {},
   "outputs": [
    {
     "ename": "ERROR",
     "evalue": "Error in charToDate(x): character string is not in a standard unambiguous format\n",
     "output_type": "error",
     "traceback": [
      "Error in charToDate(x): character string is not in a standard unambiguous format\nTraceback:\n",
      "1. as.Date(df$date, origin = \"1899-12-30\")",
      "2. as.Date.character(df$date, origin = \"1899-12-30\")",
      "3. charToDate(x)",
      "4. stop(\"character string is not in a standard unambiguous format\")"
     ]
    }
   ],
   "source": [
    "\n",
    "df$date <- as.Date(df$date, origin = \"1899-12-30\")\n",
    "df$date_s <- as.Date(df$date_s, origin = \"1899-12-30\")\n",
    "# TestAllocate1.csv <- as.Date(df$date_s, origin = \"1899-12-30\")"
   ]
  },
  {
   "cell_type": "code",
   "execution_count": null,
   "id": "581854b1-98f3-48e4-81a2-88442006aa93",
   "metadata": {},
   "outputs": [],
   "source": [
    "head(df)"
   ]
  },
  {
   "cell_type": "code",
   "execution_count": 14,
   "id": "1f57b5fc-63d7-480c-aa33-4aad0e8abd9d",
   "metadata": {},
   "outputs": [
    {
     "name": "stdout",
     "output_type": "stream",
     "text": [
      "[1] 200\n",
      "[1] 450\n",
      "[1] 750\n",
      "[1] 1150\n",
      "[1] 4\n"
     ]
    },
    {
     "data": {
      "text/html": [
       "1150"
      ],
      "text/latex": [
       "1150"
      ],
      "text/markdown": [
       "1150"
      ],
      "text/plain": [
       "[1] 1150"
      ]
     },
     "metadata": {},
     "output_type": "display_data"
    }
   ],
   "source": [
    "# Define the target sum\n",
    "target_sum <- 1000\n",
    "\n",
    "\n",
    "# Initialize a variable to hold the cumulative sum\n",
    "cumulative_sum <- 0\n",
    "\n",
    "# Initialize a variable to hold the index where target sum is achieved\n",
    "index <- 0\n",
    "\n",
    "# Iterate over the column\n",
    "for(i in 1:nrow(df)) {\n",
    "  cumulative_sum <- cumulative_sum + df[i, 'tally_q']\n",
    "    print(cumulative_sum)\n",
    "  if(cumulative_sum >= target_sum) {\n",
    "    index <- i\n",
    "    break\n",
    "  }\n",
    "}\n",
    "\n",
    "# Print the index\n",
    "print(index)\n",
    "cumulative_sum"
   ]
  },
  {
   "cell_type": "code",
   "execution_count": null,
   "id": "9f18324d-1d7f-4f1d-a393-2e299fa6c662",
   "metadata": {},
   "outputs": [],
   "source": []
  },
  {
   "cell_type": "code",
   "execution_count": 15,
   "id": "a2f999a5-1544-4b17-ac57-0fb52686822c",
   "metadata": {},
   "outputs": [
    {
     "data": {
      "text/html": [
       "<table class=\"dataframe\">\n",
       "<caption>A data.frame: 5 × 2</caption>\n",
       "<thead>\n",
       "\t<tr><th scope=col>Quantity</th><th scope=col>Other</th></tr>\n",
       "\t<tr><th scope=col>&lt;dbl&gt;</th><th scope=col>&lt;chr&gt;</th></tr>\n",
       "</thead>\n",
       "<tbody>\n",
       "\t<tr><td>1</td><td>a</td></tr>\n",
       "\t<tr><td>2</td><td>b</td></tr>\n",
       "\t<tr><td>3</td><td>c</td></tr>\n",
       "\t<tr><td>4</td><td>d</td></tr>\n",
       "\t<tr><td>5</td><td>e</td></tr>\n",
       "</tbody>\n",
       "</table>\n"
      ],
      "text/latex": [
       "A data.frame: 5 × 2\n",
       "\\begin{tabular}{ll}\n",
       " Quantity & Other\\\\\n",
       " <dbl> & <chr>\\\\\n",
       "\\hline\n",
       "\t 1 & a\\\\\n",
       "\t 2 & b\\\\\n",
       "\t 3 & c\\\\\n",
       "\t 4 & d\\\\\n",
       "\t 5 & e\\\\\n",
       "\\end{tabular}\n"
      ],
      "text/markdown": [
       "\n",
       "A data.frame: 5 × 2\n",
       "\n",
       "| Quantity &lt;dbl&gt; | Other &lt;chr&gt; |\n",
       "|---|---|\n",
       "| 1 | a |\n",
       "| 2 | b |\n",
       "| 3 | c |\n",
       "| 4 | d |\n",
       "| 5 | e |\n",
       "\n"
      ],
      "text/plain": [
       "  Quantity Other\n",
       "1 1        a    \n",
       "2 2        b    \n",
       "3 3        c    \n",
       "4 4        d    \n",
       "5 5        e    "
      ]
     },
     "metadata": {},
     "output_type": "display_data"
    },
    {
     "name": "stdout",
     "output_type": "stream",
     "text": [
      "  Quantity Other\n",
      "1        1     a\n",
      "2        2     b\n",
      "3        3     c\n",
      "4        0     d\n",
      "5        2     d\n",
      "6        2     d\n",
      "7        5     e\n"
     ]
    }
   ],
   "source": [
    "# Assuming 'df' is your dataframe and 'Quantity' is your column\n",
    "df <- data.frame(Quantity = c(1, 2, 3, 4, 5), Other = c('a', 'b', 'c', 'd', 'e'))\n",
    "test_values <- c(8, 6)\n",
    "df\n",
    "# Iterate over the test values\n",
    "for(test_value in test_values) {\n",
    "  # Initialize a variable to hold the cumulative sum\n",
    "  cumulative_sum <- 0\n",
    "\n",
    "  # Iterate over the rows\n",
    "  for(i in 1:nrow(df)) {\n",
    "    cumulative_sum <- cumulative_sum + df[i, 'Quantity']\n",
    "    \n",
    "    # Check if the cumulative sum exceeds the test value\n",
    "    if(cumulative_sum > test_value) {\n",
    "      # Calculate the excess and the adjusted quantity\n",
    "      excess <- cumulative_sum - test_value\n",
    "      adjusted_quantity <- df[i, 'Quantity'] - excess\n",
    "      \n",
    "      # Update the quantity in the current row\n",
    "      df[i, 'Quantity'] <- adjusted_quantity\n",
    "      \n",
    "      # Create a new row with the excess quantity\n",
    "      new_row <- df[i, ]\n",
    "      new_row['Quantity'] <- excess\n",
    "      \n",
    "      # Insert the new row into the dataframe immediately below the current row\n",
    "      df <- df %>% \n",
    "        add_row(.before = i+1, !!!new_row)\n",
    "      \n",
    "      # Break the loop\n",
    "      break\n",
    "    }\n",
    "  }\n",
    "}\n",
    "\n",
    "# Print the updated dataframe\n",
    "print(df)\n"
   ]
  },
  {
   "cell_type": "markdown",
   "id": "f6095738-cd26-407b-8006-5a0441571876",
   "metadata": {},
   "source": [
    "## <font color = lime> Keeper!  It works"
   ]
  },
  {
   "cell_type": "code",
   "execution_count": 34,
   "id": "03a67a20-fca9-4dd9-979e-d218ac8b9e08",
   "metadata": {},
   "outputs": [
    {
     "name": "stdout",
     "output_type": "stream",
     "text": [
      "[1] \"match amount\"\n",
      "[1] \"match amount\"\n",
      "[1] \"match amount\"\n"
     ]
    },
    {
     "ename": "ERROR",
     "evalue": "Error in x[[jj]][iseq] <- vjj: replacement has length zero\n",
     "output_type": "error",
     "traceback": [
      "Error in x[[jj]][iseq] <- vjj: replacement has length zero\nTraceback:\n",
      "1. inter(df, sales[i], ct)",
      "2. `[<-`(`*tmp*`, i, \"tally_c\", value = numeric(0))   # at line 57 of file <text>",
      "3. `[<-.data.frame`(`*tmp*`, i, \"tally_c\", value = numeric(0))   # at line 57 of file <text>"
     ]
    }
   ],
   "source": [
    "df <- read.csv(\"TestAllocate.csv\", header = TRUE, sep = \",\")\n",
    "\n",
    "ct <<- 1\n",
    "test_value <- c(850)\n",
    "rat1 <<- 0\n",
    "\n",
    "# function to allocate values within a df\n",
    "inter <- function(df, test_value, ct) {\n",
    "     cumulative_sum <- 0\n",
    "      \n",
    "# Iterate over the rows\n",
    "  for(i in 1:nrow(df)) {\n",
    "      \n",
    "    cumulative_sum <- cumulative_sum + df[i, 'quan']\n",
    "    \n",
    "    # Check if the cumulative sum exceeds the test value\n",
    "    if(cumulative_sum == test_value) {\n",
    "        print(\"match amount\")\n",
    "                \n",
    "        \n",
    "        }\n",
    "      \n",
    "    if(cumulative_sum >= test_value) {        \n",
    "           \n",
    "      # Calculate the excess and the adjusted quantity\n",
    "      excess <- cumulative_sum - test_value         # 900 - 700 = 200\n",
    "      adjusted_quantity <- df[i, 'quan'] - excess   # deduct 200 from existing value \n",
    "       \n",
    "     # establish the ratio - need for row 1 and row 2   \n",
    "     denom <- df[i, 'quan']    # 400    \n",
    "     numer <- adjusted_quantity\n",
    "      \n",
    "      # Update the quantity in the current row\n",
    "      df[i, 'quan'] <- adjusted_quantity            # assign new value to quan\n",
    "        \n",
    "      # Create a new row with the excess quantity (Do it here and not below the changes)\n",
    "      new_row <- df[i, ]\n",
    "      new_row['quan'] <- excess \n",
    "      \n",
    "    \n",
    "    # update the tally_q (first row)\n",
    "      q1 <- df[i, 'tally_q'] - adjusted_quantity\n",
    "      df[i, 'tally_q'] <- q1\n",
    "        \n",
    "    \n",
    "   # first, establish a ratio to apply to variables in row 1, then allocate the variables\n",
    "       \n",
    "    # create the ratio\n",
    "    rat1 <<- numer / denom\n",
    "               \n",
    "    # apply ratio to variables in row 1\n",
    "    # cost var\n",
    "    c1 <- df[i, 'cost'] * rat1\n",
    "    df[i, 'cost'] <- c1  \n",
    "    #tally_c var\n",
    "    t_c <- df[i-1,'tally_c'] + c1\n",
    "    df[i, 'tally_c'] <- t_c\n",
    "    #proceeds var\n",
    "    p1 <- df[i, 'proceeds'] * rat1\n",
    "    df[i, 'proceeds'] <- p1\n",
    "    # t_q2 var\n",
    "    t_q2 <- df[i-1, 'tally_q2'] - adjusted_quantity\n",
    "    df[i, 'tally_q2'] <- t_q2\n",
    "    # t_c2 var\n",
    "    t_c2 <- df[i-1, 'tally_c2'] - c1\n",
    "    df[i, 'tally_c2'] <- t_c2\n",
    "        \n",
    "        \n",
    "    # Insert the new row into the dataframe immediately below the current row\n",
    "    df <- df %>% \n",
    "    add_row(.before = i+1, !!!new_row)\n",
    "    ct <<- i+1        \n",
    "\n",
    "#  PART 2\n",
    "        \n",
    "   # update the values in new row 2 \n",
    "        \n",
    "    # cost var\n",
    "    c2 <- df[ct, 'cost'] * rat1\n",
    "    df[ct, 'cost'] <- c2  \n",
    "    #tally_c var\n",
    "    t_c2 <- df[ct-1,'tally_c'] + c2\n",
    "    df[ct, 'tally_c'] <- t_c2\n",
    "    #proceeds var\n",
    "    p2 <- df[ct, 'proceeds'] * rat1\n",
    "    df[ct, 'proceeds'] <- p2\n",
    "      # t_q2 var\n",
    "    t_q22 <- df[ct-1, 'tally_q2'] - adjusted_quantity\n",
    "    df[ct, 'tally_q2'] <- t_q22\n",
    "    # t_c2 var\n",
    "    t_c22 <- df[i-1, 'tally_c2'] - c2\n",
    "    df[i, 'tally_c2'] <- t_c22      \n",
    "\n",
    "  # Break the loop and move to the next test value\n",
    "  break\n",
    "    \n",
    "    }\n",
    "    \n",
    "  }\n",
    "     return(df)\n",
    "}\n",
    "\n",
    "\n",
    "\n",
    "# make fct call\n",
    "\n",
    "\n",
    "# show the returned ct value\n",
    "\n",
    "\n",
    "\n",
    "sales <- c(1000,1000,1000,100,900,3000,6000,1000,1850,3000,3000,500,2000,3000,500,2000,810,1000,190,3000,1000,1100)\n",
    "\n",
    "\n",
    "\n",
    "for(i in 1:length(sales)) {\n",
    "    mod_df <- inter(df, sales[i], ct)\n",
    "    }    \n",
    "ct\n",
    "\n",
    "\n",
    "\n",
    "head(mod_df,15)\n",
    "\n"
   ]
  },
  {
   "cell_type": "code",
   "execution_count": null,
   "id": "bd31bd4c-a159-4bbc-b874-6384bfc4c6b5",
   "metadata": {},
   "outputs": [],
   "source": []
  },
  {
   "cell_type": "code",
   "execution_count": 41,
   "id": "def8201b-3bcc-45a4-b5f1-2c5c73b52612",
   "metadata": {},
   "outputs": [
    {
     "data": {
      "text/html": [
       "36950"
      ],
      "text/latex": [
       "36950"
      ],
      "text/markdown": [
       "36950"
      ],
      "text/plain": [
       "[1] 36950"
      ]
     },
     "metadata": {},
     "output_type": "display_data"
    }
   ],
   "source": [
    "sales <- c(1000,1000,1000,100,900,3000,6000,1000,1850,3000,3000,500,2000,3000,500,2000,810,1000,190,3000,1000,1100)\n",
    "\n",
    "\n",
    "\n",
    "for(i in 1:length(sales)) {\n",
    "    #tally\n",
    "    ct <<- ct + sales[i]\n",
    "    }    \n",
    "ct\n",
    "\n"
   ]
  },
  {
   "cell_type": "code",
   "execution_count": null,
   "id": "2e313289-f461-49a5-9f31-69b213313b91",
   "metadata": {},
   "outputs": [],
   "source": [
    "sales <- c(1000,1000,1000,100,900,3000,6000,1000,1850,3000,3000,500,2000,3000,500,2000,810,1000,190,3000,1000,1100)\n",
    "\n",
    "start_row <- 1\n",
    "for(i in 1:length(sales)) {\n",
    "    for(i in start_row:nrow(df)) {\n",
    "        if(df[i, \n",
    "    mod_df <- inter(df, sales[i], ct)\n",
    "    \n",
    "    }\n",
    "    #tally"
   ]
  },
  {
   "cell_type": "code",
   "execution_count": 49,
   "id": "f78b5867-80f0-4b35-bb7a-f0e4d814aea9",
   "metadata": {},
   "outputs": [],
   "source": [
    "df$X <- NULL\n",
    "df$X.1 <- NULL\n",
    "df$X.2 <- NULL"
   ]
  },
  {
   "cell_type": "code",
   "execution_count": 54,
   "id": "84312abd-2e0d-4609-a909-d9a07ae981d1",
   "metadata": {},
   "outputs": [],
   "source": [
    "df$quan <- as.integer(df$quan)"
   ]
  },
  {
   "cell_type": "code",
   "execution_count": 55,
   "id": "b0a6dce6-484c-4b98-8493-5ce6eff8f8f9",
   "metadata": {},
   "outputs": [
    {
     "data": {
      "text/html": [
       "<table class=\"dataframe\">\n",
       "<caption>A data.frame: 6 × 9</caption>\n",
       "<thead>\n",
       "\t<tr><th></th><th scope=col>date</th><th scope=col>cost</th><th scope=col>quan</th><th scope=col>tally_q</th><th scope=col>tally_c</th><th scope=col>date_s</th><th scope=col>proceeds</th><th scope=col>tally_q2</th><th scope=col>tally_c2</th></tr>\n",
       "\t<tr><th></th><th scope=col>&lt;chr&gt;</th><th scope=col>&lt;dbl&gt;</th><th scope=col>&lt;int&gt;</th><th scope=col>&lt;int&gt;</th><th scope=col>&lt;dbl&gt;</th><th scope=col>&lt;chr&gt;</th><th scope=col>&lt;dbl&gt;</th><th scope=col>&lt;int&gt;</th><th scope=col>&lt;dbl&gt;</th></tr>\n",
       "</thead>\n",
       "<tbody>\n",
       "\t<tr><th scope=row>1</th><td>9/15/2022</td><td>1989.98</td><td>200</td><td>200</td><td>1989.98</td><td>1/27/2023</td><td>1102.42</td><td>36750</td><td>205185.3</td></tr>\n",
       "\t<tr><th scope=row>2</th><td>9/15/2022</td><td> 503.42</td><td> 50</td><td>250</td><td> 503.42</td><td>1/27/2023</td><td> 275.61</td><td>36700</td><td>204681.8</td></tr>\n",
       "\t<tr><th scope=row>3</th><td>9/15/2022</td><td> 413.70</td><td> 50</td><td>300</td><td> 413.70</td><td>2/3/2023 </td><td> 309.49</td><td>36650</td><td>204268.1</td></tr>\n",
       "\t<tr><th scope=row>4</th><td>9/15/2022</td><td> 815.57</td><td>550</td><td>400</td><td> 815.57</td><td>2/3/2023 </td><td> 618.98</td><td>36550</td><td>203452.6</td></tr>\n",
       "\t<tr><th scope=row>5</th><td>9/15/2022</td><td>2012.56</td><td>200</td><td>600</td><td>2012.56</td><td>2/3/2023 </td><td>1335.96</td><td>36350</td><td>201440.0</td></tr>\n",
       "\t<tr><th scope=row>6</th><td>9/15/2022</td><td> 917.10</td><td>100</td><td>700</td><td> 917.10</td><td>2/3/2023 </td><td> 625.47</td><td>36250</td><td>200522.9</td></tr>\n",
       "</tbody>\n",
       "</table>\n"
      ],
      "text/latex": [
       "A data.frame: 6 × 9\n",
       "\\begin{tabular}{r|lllllllll}\n",
       "  & date & cost & quan & tally\\_q & tally\\_c & date\\_s & proceeds & tally\\_q2 & tally\\_c2\\\\\n",
       "  & <chr> & <dbl> & <int> & <int> & <dbl> & <chr> & <dbl> & <int> & <dbl>\\\\\n",
       "\\hline\n",
       "\t1 & 9/15/2022 & 1989.98 & 200 & 200 & 1989.98 & 1/27/2023 & 1102.42 & 36750 & 205185.3\\\\\n",
       "\t2 & 9/15/2022 &  503.42 &  50 & 250 &  503.42 & 1/27/2023 &  275.61 & 36700 & 204681.8\\\\\n",
       "\t3 & 9/15/2022 &  413.70 &  50 & 300 &  413.70 & 2/3/2023  &  309.49 & 36650 & 204268.1\\\\\n",
       "\t4 & 9/15/2022 &  815.57 & 550 & 400 &  815.57 & 2/3/2023  &  618.98 & 36550 & 203452.6\\\\\n",
       "\t5 & 9/15/2022 & 2012.56 & 200 & 600 & 2012.56 & 2/3/2023  & 1335.96 & 36350 & 201440.0\\\\\n",
       "\t6 & 9/15/2022 &  917.10 & 100 & 700 &  917.10 & 2/3/2023  &  625.47 & 36250 & 200522.9\\\\\n",
       "\\end{tabular}\n"
      ],
      "text/markdown": [
       "\n",
       "A data.frame: 6 × 9\n",
       "\n",
       "| <!--/--> | date &lt;chr&gt; | cost &lt;dbl&gt; | quan &lt;int&gt; | tally_q &lt;int&gt; | tally_c &lt;dbl&gt; | date_s &lt;chr&gt; | proceeds &lt;dbl&gt; | tally_q2 &lt;int&gt; | tally_c2 &lt;dbl&gt; |\n",
       "|---|---|---|---|---|---|---|---|---|---|\n",
       "| 1 | 9/15/2022 | 1989.98 | 200 | 200 | 1989.98 | 1/27/2023 | 1102.42 | 36750 | 205185.3 |\n",
       "| 2 | 9/15/2022 |  503.42 |  50 | 250 |  503.42 | 1/27/2023 |  275.61 | 36700 | 204681.8 |\n",
       "| 3 | 9/15/2022 |  413.70 |  50 | 300 |  413.70 | 2/3/2023  |  309.49 | 36650 | 204268.1 |\n",
       "| 4 | 9/15/2022 |  815.57 | 550 | 400 |  815.57 | 2/3/2023  |  618.98 | 36550 | 203452.6 |\n",
       "| 5 | 9/15/2022 | 2012.56 | 200 | 600 | 2012.56 | 2/3/2023  | 1335.96 | 36350 | 201440.0 |\n",
       "| 6 | 9/15/2022 |  917.10 | 100 | 700 |  917.10 | 2/3/2023  |  625.47 | 36250 | 200522.9 |\n",
       "\n"
      ],
      "text/plain": [
       "  date      cost    quan tally_q tally_c date_s    proceeds tally_q2 tally_c2\n",
       "1 9/15/2022 1989.98 200  200     1989.98 1/27/2023 1102.42  36750    205185.3\n",
       "2 9/15/2022  503.42  50  250      503.42 1/27/2023  275.61  36700    204681.8\n",
       "3 9/15/2022  413.70  50  300      413.70 2/3/2023   309.49  36650    204268.1\n",
       "4 9/15/2022  815.57 550  400      815.57 2/3/2023   618.98  36550    203452.6\n",
       "5 9/15/2022 2012.56 200  600     2012.56 2/3/2023  1335.96  36350    201440.0\n",
       "6 9/15/2022  917.10 100  700      917.10 2/3/2023   625.47  36250    200522.9"
      ]
     },
     "metadata": {},
     "output_type": "display_data"
    }
   ],
   "source": [
    "head(df)"
   ]
  },
  {
   "cell_type": "code",
   "execution_count": 57,
   "id": "8c50a684-f37b-4d6a-9067-804031e37591",
   "metadata": {},
   "outputs": [
    {
     "ename": "ERROR",
     "evalue": "Error in if (cumulative_sum == sales[i]) {: missing value where TRUE/FALSE needed\n",
     "output_type": "error",
     "traceback": [
      "Error in if (cumulative_sum == sales[i]) {: missing value where TRUE/FALSE needed\nTraceback:\n"
     ]
    }
   ],
   "source": [
    "df <- read.csv(\"TestAllocate.csv\", header = TRUE, sep = \",\")\n",
    "\n",
    "cumulative_sum <- 0\n",
    "\n",
    "start_row <- 1\n",
    "\n",
    "for(value in sales) {\n",
    "# Iterate over the rows\n",
    "    for(i in start_row:nrow(df)) {\n",
    "        cumulative_sum <- 0\n",
    "        cumulative_sum <- cumulative_sum + df[i, 'quan']\n",
    "        # check if the cumulative sum equals the test value in sales[i], if so, do nada\n",
    "        if(cumulative_sum == sales[i]) {\n",
    "            temp <- df[i, 'quan']\n",
    "            df[i, 'quan'] <- temp                 \n",
    "        }\n",
    "        # Check if the cumulative sum exceeds the test value\n",
    "        else if(cumulative_sum >= sales[i]) {        \n",
    "    \n",
    "        # Calculate the excess and the adjusted quantity\n",
    "        excess <- cumulative_sum - test_value         # 900 - 700 = 200\n",
    "        adjusted_quantity <- df[i, 'quan'] - excess   # deduct 200 from existing value \n",
    "        \n",
    "        # establish the ratio - need for row 1 and row 2   \n",
    "        denom <- df[i, 'quan']    # 400    \n",
    "        numer <- adjusted_quantity\n",
    "      \n",
    "        # Update the quantity in the current row\n",
    "        df[i, 'quan'] <- adjusted_quantity            # assign new value to quan\n",
    "        \n",
    "        # Create a new row with the excess quantity (Do it here and not below the changes)\n",
    "        new_row <- df[i, ]\n",
    "        new_row['quan'] <- excess  \n",
    "        \n",
    "        start_row <- i + 1\n",
    "        break\n",
    "        }\n",
    "      }\n",
    "    }\n",
    "df"
   ]
  },
  {
   "cell_type": "code",
   "execution_count": null,
   "id": "15b01323-0c37-41e0-89e0-99b50734a5c4",
   "metadata": {},
   "outputs": [],
   "source": []
  },
  {
   "cell_type": "code",
   "execution_count": null,
   "id": "eae9071f-c657-40f5-9a7e-df24cba447d9",
   "metadata": {},
   "outputs": [],
   "source": [
    "# Assuming 'vec' is your vector and 'df' is your dataframe\n",
    "start_row <- 1\n",
    "for(value in vec) {\n",
    "  for(i in start_row:nrow(df)) {\n",
    "    if(df[i, 'var'] == value) {  # Replace 'var' with your actual column name\n",
    "      # Execute your code here\n",
    "      print(paste(\"Match found for\", value, \"at row\", i))\n",
    "      start_row <- i + 1\n",
    "      break\n",
    "    }\n",
    "  }\n",
    "}\n"
   ]
  },
  {
   "cell_type": "code",
   "execution_count": null,
   "id": "82419676-d13b-44f6-bf51-01abfdc4fbd2",
   "metadata": {},
   "outputs": [],
   "source": []
  },
  {
   "cell_type": "code",
   "execution_count": 40,
   "id": "315e9227-1187-4b96-832a-9aaac76fb0b4",
   "metadata": {},
   "outputs": [
    {
     "data": {
      "text/html": [
       "12"
      ],
      "text/latex": [
       "12"
      ],
      "text/markdown": [
       "12"
      ],
      "text/plain": [
       "[1] 12"
      ]
     },
     "metadata": {},
     "output_type": "display_data"
    }
   ],
   "source": [
    "length(df)"
   ]
  },
  {
   "cell_type": "code",
   "execution_count": null,
   "id": "ddb44a1f-90b5-4bb2-9646-74eca79bac3f",
   "metadata": {},
   "outputs": [],
   "source": []
  },
  {
   "cell_type": "code",
   "execution_count": 17,
   "id": "513a1030-6817-4480-bfe6-cf6b8bfe829f",
   "metadata": {},
   "outputs": [
    {
     "ename": "ERROR",
     "evalue": "Error in eval(expr, envir, enclos): object 'stopper' not found\n",
     "output_type": "error",
     "traceback": [
      "Error in eval(expr, envir, enclos): object 'stopper' not found\nTraceback:\n"
     ]
    }
   ],
   "source": [
    "stopper\n"
   ]
  },
  {
   "cell_type": "markdown",
   "id": "3589a5b1-95a8-4d5d-9695-ab16fea262c8",
   "metadata": {},
   "source": []
  },
  {
   "cell_type": "markdown",
   "id": "6e8c1387-138b-4c0c-ad9d-b4f32ff96103",
   "metadata": {},
   "source": [
    "## <font color = lime> Part 2\n",
    "    \n",
    "<div style=\"margin-left:40px;\">\n",
    "Allocate the other data in the matched row\n",
    "</div> \n"
   ]
  },
  {
   "cell_type": "code",
   "execution_count": null,
   "id": "682d44de-a852-44b9-9724-ce9019537aaf",
   "metadata": {},
   "outputs": [],
   "source": []
  },
  {
   "cell_type": "code",
   "execution_count": null,
   "id": "828cbd30-5186-4927-8685-06377127b035",
   "metadata": {},
   "outputs": [],
   "source": [
    "df <- read.csv(\"locate.csv\", header = TRUE, sep = \",\")\n",
    "\n",
    "ct <<- 0\n",
    "test_value <- c(1000)\n",
    "rat1 <<- 0\n",
    "\n",
    "# function to allocate values within a df\n",
    "inter <- function(df, test_value, ct) {\n",
    "     cumulative_sum <- 0\n",
    "      \n",
    "# Iterate over the rows\n",
    "  for(i in 1:nrow(df)) {\n",
    "      \n",
    "    cumulative_sum <- cumulative_sum + df[i, 'quan']\n",
    "    \n",
    "    # Check if the cumulative sum exceeds the test value\n",
    "    if(cumulative_sum >= test_value) {\n",
    "        \n",
    "     \n",
    "           \n",
    "      # Calculate the excess and the adjusted quantity\n",
    "      excess <- cumulative_sum - test_value         # 900 - 700 = 200\n",
    "      adjusted_quantity <- df[i, 'quan'] - excess   # deduct 200 from existing value \n",
    "       \n",
    "     # establish the ratio - need for row 1 and row 2   \n",
    "     denom <- df[i, 'quan']    # 400    \n",
    "     numer <- adjusted_quantity\n",
    "      \n",
    "      # Update the quantity in the current row\n",
    "      df[i, 'quan'] <- adjusted_quantity            # assign new value to quan\n",
    "        \n",
    "      # Create a new row with the excess quantity (Do it here and not below the changes)\n",
    "      new_row <- df[i, ]\n",
    "      new_row['quan'] <- excess \n",
    "      \n",
    "    \n",
    "    # update the tally_q (first row)\n",
    "      q1 <- df[i, 'tally_q'] - adjusted_quantity\n",
    "      df[i, 'tally_q'] <- q1\n",
    "        \n",
    "    \n",
    "   # first, establish a ratio to apply to variables in row 1, then allocate the variables\n",
    "       \n",
    "    # create the ratio\n",
    "    rat1 <<- numer / denom\n",
    "               \n",
    "    # apply ratio to variables in row 1\n",
    "    # cost var\n",
    "    c1 <- df[i, 'cost'] * rat1\n",
    "    df[i, 'cost'] <- c1  \n",
    "    #tally_c var\n",
    "    t_c <- df[i-1,'tally_c'] + c1\n",
    "    df[i, 'tally_c'] <- t_c\n",
    "    #proceeds var\n",
    "    p1 <- df[i, 'proceeds'] * rat1\n",
    "    df[i, 'proceeds'] <- p1\n",
    "    # t_q2 var\n",
    "    t_q2 <- df[i-1, 'tally_q2'] - adjusted_quantity\n",
    "    df[i, 'tally_q2'] <- t_q2\n",
    "    # t_c2 var\n",
    "    t_c2 <- df[i-1, 'tally_c2'] - c1\n",
    "    df[i, 'tally_c2'] <- t_c2\n",
    "        \n",
    "        \n",
    "    # Insert the new row into the dataframe immediately below the current row\n",
    "    df <- df %>% \n",
    "    add_row(.before = i+1, !!!new_row)\n",
    "    ct <<- i+1        \n",
    "\n",
    "#  PART 2\n",
    "        \n",
    "   # update the values in new row 2 \n",
    "        \n",
    "    # cost var\n",
    "    c2 <- df[ct, 'cost'] * rat1\n",
    "    df[ct, 'cost'] <- c2  \n",
    "    #tally_c var\n",
    "    t_c2 <- df[ct-1,'tally_c'] + c2\n",
    "    df[ct, 'tally_c'] <- t_c2\n",
    "    #proceeds var\n",
    "    p2 <- df[ct, 'proceeds'] * rat1\n",
    "    df[ct, 'proceeds'] <- p2\n",
    "      # t_q2 var\n",
    "    t_q22 <- df[ct-1, 'tally_q2'] - adjusted_quantity\n",
    "    df[ct, 'tally_q2'] <- t_q22\n",
    "    # t_c2 var\n",
    "    t_c22 <- df[i-1, 'tally_c2'] - c2\n",
    "    df[i, 'tally_c2'] <- t_c22      \n",
    "\n",
    "  # Break the loop and move to the next test value\n",
    "  break\n",
    "    \n",
    "    }\n",
    "    \n",
    "  }\n",
    "     return(df)\n",
    "}\n",
    "\n",
    "# make fct call\n",
    "\n",
    "mod_df <- inter(df, test_value, ct)\n",
    "\n",
    "# show the returned ct value\n",
    "ct\n",
    "rat1\n",
    "\n",
    "head(mod_df,10)\n",
    "\n"
   ]
  },
  {
   "cell_type": "code",
   "execution_count": null,
   "id": "3f4a0460-2f57-43cf-b039-5ea2a0e9d4aa",
   "metadata": {},
   "outputs": [],
   "source": []
  },
  {
   "cell_type": "code",
   "execution_count": null,
   "id": "c55a925f-6a2b-4ba6-a550-7f1ccf9ccc3d",
   "metadata": {},
   "outputs": [],
   "source": []
  },
  {
   "cell_type": "code",
   "execution_count": null,
   "id": "5f105fc1-1053-450e-b731-d6daaa78df9e",
   "metadata": {},
   "outputs": [],
   "source": []
  },
  {
   "cell_type": "code",
   "execution_count": null,
   "id": "ab5222c1-15b5-473e-8199-230805c1d911",
   "metadata": {},
   "outputs": [],
   "source": []
  },
  {
   "cell_type": "code",
   "execution_count": null,
   "id": "b52545a7-eaa7-4984-8d36-c24e92c5cfef",
   "metadata": {},
   "outputs": [],
   "source": []
  },
  {
   "cell_type": "code",
   "execution_count": null,
   "id": "2bcae627-651a-4222-a541-dd1aafb70b5a",
   "metadata": {},
   "outputs": [],
   "source": []
  },
  {
   "cell_type": "code",
   "execution_count": null,
   "id": "a6646649-29d9-4c32-b363-53fea991357b",
   "metadata": {},
   "outputs": [],
   "source": [
    "f <- function(x) x + 1\n",
    "str(f)\n",
    "('--------------------------------------------')\n",
    "result <- f(60)                                   # Current age\n",
    "result\n",
    "('--------------------------------------------')\n",
    "str(result)\n",
    "\n",
    "print(f)"
   ]
  },
  {
   "cell_type": "code",
   "execution_count": null,
   "id": "ccd76dec-bcb2-4289-ba11-d5f8e9b72d30",
   "metadata": {},
   "outputs": [],
   "source": []
  },
  {
   "cell_type": "code",
   "execution_count": null,
   "id": "fed25de6-024b-4e3d-91b1-6a9290bef7cf",
   "metadata": {},
   "outputs": [],
   "source": []
  },
  {
   "cell_type": "code",
   "execution_count": null,
   "id": "692695d4-927a-4668-888c-ba5444bfc632",
   "metadata": {},
   "outputs": [],
   "source": []
  },
  {
   "cell_type": "code",
   "execution_count": null,
   "id": "fa3ea8cb-25d2-46cd-bc9a-6ab9f16b4c79",
   "metadata": {},
   "outputs": [],
   "source": []
  },
  {
   "cell_type": "code",
   "execution_count": null,
   "id": "aa52c474-6290-4068-bbdc-8bcf7083328e",
   "metadata": {},
   "outputs": [],
   "source": []
  },
  {
   "cell_type": "code",
   "execution_count": null,
   "id": "15690165-b8b7-4814-9abe-598cfc845a52",
   "metadata": {},
   "outputs": [],
   "source": []
  }
 ],
 "metadata": {
  "kernelspec": {
   "display_name": "R",
   "language": "R",
   "name": "ir"
  },
  "language_info": {
   "codemirror_mode": "r",
   "file_extension": ".r",
   "mimetype": "text/x-r-source",
   "name": "R",
   "pygments_lexer": "r",
   "version": "4.3.0"
  }
 },
 "nbformat": 4,
 "nbformat_minor": 5
}
