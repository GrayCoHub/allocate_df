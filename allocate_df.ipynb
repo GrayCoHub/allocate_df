{
 "cells": [
  {
   "cell_type": "code",
   "execution_count": 1,
   "id": "e2079458-7a7a-4e66-b6c5-b19873375c98",
   "metadata": {},
   "outputs": [
    {
     "name": "stderr",
     "output_type": "stream",
     "text": [
      "Warning message:\n",
      "\"package 'dplyr' was built under R version 4.3.2\"\n",
      "\n",
      "Attaching package: 'dplyr'\n",
      "\n",
      "\n",
      "The following objects are masked from 'package:stats':\n",
      "\n",
      "    filter, lag\n",
      "\n",
      "\n",
      "The following objects are masked from 'package:base':\n",
      "\n",
      "    intersect, setdiff, setequal, union\n",
      "\n",
      "\n"
     ]
    }
   ],
   "source": [
    "library(dplyr)"
   ]
  },
  {
   "cell_type": "code",
   "execution_count": 2,
   "id": "81b20b62-e59f-4b58-9795-ce8e3984180d",
   "metadata": {},
   "outputs": [
    {
     "name": "stdout",
     "output_type": "stream",
     "text": [
      "'data.frame':\t73 obs. of  10 variables:\n",
      " $ index   : int  1 2 3 4 5 6 7 8 9 10 ...\n",
      " $ date    : int  44988 44988 44988 44988 45043 44988 44988 44988 44988 44988 ...\n",
      " $ cost    : num  618 2422 2298 605 544 ...\n",
      " $ quan    : int  100 400 400 100 100 100 100 400 400 190 ...\n",
      " $ tally_q : int  100 500 900 1000 1100 1200 1300 1700 2100 4200 ...\n",
      " $ tally_c : num  618 3040 5339 5944 6488 ...\n",
      " $ date_s  : int  45079 45079 45079 45079 45079 45076 45076 45076 45076 45036 ...\n",
      " $ proceeds: num  454 1816 1816 454 454 ...\n",
      " $ tally_q2: int  36850 36450 36050 35950 35850 35750 35650 35250 34850 34660 ...\n",
      " $ tally_c2: num  206557 204135 201837 201231 200687 ...\n"
     ]
    }
   ],
   "source": [
    "df <- read.csv(\"TestAllocate.csv\", header = TRUE, sep = \",\")\n",
    "str(df)"
   ]
  },
  {
   "cell_type": "code",
   "execution_count": 3,
   "id": "1ef387bf-e7f3-4d2e-be71-2e92ad213e91",
   "metadata": {},
   "outputs": [
    {
     "data": {
      "text/html": [
       "<table class=\"dataframe\">\n",
       "<caption>A data.frame: 6 × 10</caption>\n",
       "<thead>\n",
       "\t<tr><th></th><th scope=col>index</th><th scope=col>date</th><th scope=col>cost</th><th scope=col>quan</th><th scope=col>tally_q</th><th scope=col>tally_c</th><th scope=col>date_s</th><th scope=col>proceeds</th><th scope=col>tally_q2</th><th scope=col>tally_c2</th></tr>\n",
       "\t<tr><th></th><th scope=col>&lt;int&gt;</th><th scope=col>&lt;int&gt;</th><th scope=col>&lt;dbl&gt;</th><th scope=col>&lt;int&gt;</th><th scope=col>&lt;int&gt;</th><th scope=col>&lt;dbl&gt;</th><th scope=col>&lt;int&gt;</th><th scope=col>&lt;dbl&gt;</th><th scope=col>&lt;int&gt;</th><th scope=col>&lt;dbl&gt;</th></tr>\n",
       "</thead>\n",
       "<tbody>\n",
       "\t<tr><th scope=row>1</th><td>1</td><td>44988</td><td> 618.08</td><td>100</td><td> 100</td><td> 618.08</td><td>45079</td><td> 453.98</td><td>36850</td><td>206557.2</td></tr>\n",
       "\t<tr><th scope=row>2</th><td>2</td><td>44988</td><td>2422.31</td><td>400</td><td> 500</td><td>3040.39</td><td>45079</td><td>1815.93</td><td>36450</td><td>204134.9</td></tr>\n",
       "\t<tr><th scope=row>3</th><td>3</td><td>44988</td><td>2298.31</td><td>400</td><td> 900</td><td>5338.70</td><td>45079</td><td>1815.93</td><td>36050</td><td>201836.5</td></tr>\n",
       "\t<tr><th scope=row>4</th><td>4</td><td>44988</td><td> 605.17</td><td>100</td><td>1000</td><td>5943.87</td><td>45079</td><td> 453.98</td><td>35950</td><td>201231.4</td></tr>\n",
       "\t<tr><th scope=row>5</th><td>5</td><td>45043</td><td> 544.50</td><td>100</td><td>1100</td><td>6488.37</td><td>45079</td><td> 453.98</td><td>35850</td><td>200686.9</td></tr>\n",
       "\t<tr><th scope=row>6</th><td>6</td><td>44988</td><td> 562.53</td><td>100</td><td>1200</td><td>7050.90</td><td>45076</td><td> 458.26</td><td>35750</td><td>200124.3</td></tr>\n",
       "</tbody>\n",
       "</table>\n"
      ],
      "text/latex": [
       "A data.frame: 6 × 10\n",
       "\\begin{tabular}{r|llllllllll}\n",
       "  & index & date & cost & quan & tally\\_q & tally\\_c & date\\_s & proceeds & tally\\_q2 & tally\\_c2\\\\\n",
       "  & <int> & <int> & <dbl> & <int> & <int> & <dbl> & <int> & <dbl> & <int> & <dbl>\\\\\n",
       "\\hline\n",
       "\t1 & 1 & 44988 &  618.08 & 100 &  100 &  618.08 & 45079 &  453.98 & 36850 & 206557.2\\\\\n",
       "\t2 & 2 & 44988 & 2422.31 & 400 &  500 & 3040.39 & 45079 & 1815.93 & 36450 & 204134.9\\\\\n",
       "\t3 & 3 & 44988 & 2298.31 & 400 &  900 & 5338.70 & 45079 & 1815.93 & 36050 & 201836.5\\\\\n",
       "\t4 & 4 & 44988 &  605.17 & 100 & 1000 & 5943.87 & 45079 &  453.98 & 35950 & 201231.4\\\\\n",
       "\t5 & 5 & 45043 &  544.50 & 100 & 1100 & 6488.37 & 45079 &  453.98 & 35850 & 200686.9\\\\\n",
       "\t6 & 6 & 44988 &  562.53 & 100 & 1200 & 7050.90 & 45076 &  458.26 & 35750 & 200124.3\\\\\n",
       "\\end{tabular}\n"
      ],
      "text/markdown": [
       "\n",
       "A data.frame: 6 × 10\n",
       "\n",
       "| <!--/--> | index &lt;int&gt; | date &lt;int&gt; | cost &lt;dbl&gt; | quan &lt;int&gt; | tally_q &lt;int&gt; | tally_c &lt;dbl&gt; | date_s &lt;int&gt; | proceeds &lt;dbl&gt; | tally_q2 &lt;int&gt; | tally_c2 &lt;dbl&gt; |\n",
       "|---|---|---|---|---|---|---|---|---|---|---|\n",
       "| 1 | 1 | 44988 |  618.08 | 100 |  100 |  618.08 | 45079 |  453.98 | 36850 | 206557.2 |\n",
       "| 2 | 2 | 44988 | 2422.31 | 400 |  500 | 3040.39 | 45079 | 1815.93 | 36450 | 204134.9 |\n",
       "| 3 | 3 | 44988 | 2298.31 | 400 |  900 | 5338.70 | 45079 | 1815.93 | 36050 | 201836.5 |\n",
       "| 4 | 4 | 44988 |  605.17 | 100 | 1000 | 5943.87 | 45079 |  453.98 | 35950 | 201231.4 |\n",
       "| 5 | 5 | 45043 |  544.50 | 100 | 1100 | 6488.37 | 45079 |  453.98 | 35850 | 200686.9 |\n",
       "| 6 | 6 | 44988 |  562.53 | 100 | 1200 | 7050.90 | 45076 |  458.26 | 35750 | 200124.3 |\n",
       "\n"
      ],
      "text/plain": [
       "  index date  cost    quan tally_q tally_c date_s proceeds tally_q2 tally_c2\n",
       "1 1     44988  618.08 100   100     618.08 45079   453.98  36850    206557.2\n",
       "2 2     44988 2422.31 400   500    3040.39 45079  1815.93  36450    204134.9\n",
       "3 3     44988 2298.31 400   900    5338.70 45079  1815.93  36050    201836.5\n",
       "4 4     44988  605.17 100  1000    5943.87 45079   453.98  35950    201231.4\n",
       "5 5     45043  544.50 100  1100    6488.37 45079   453.98  35850    200686.9\n",
       "6 6     44988  562.53 100  1200    7050.90 45076   458.26  35750    200124.3"
      ]
     },
     "metadata": {},
     "output_type": "display_data"
    }
   ],
   "source": [
    "head(df)"
   ]
  },
  {
   "cell_type": "code",
   "execution_count": 4,
   "id": "206e5f90-3033-4c50-97ba-574e57275d1f",
   "metadata": {},
   "outputs": [],
   "source": [
    "# # Remove extraneous variables \n",
    "\n",
    "# df$X <- NULL\n",
    "# df$X.1 <- NULL\n",
    "# df$X.2 <- NULL\n",
    "# head(df, 3)"
   ]
  },
  {
   "cell_type": "markdown",
   "id": "9e570256-90e9-4fa3-9f61-649cfc0cf13c",
   "metadata": {},
   "source": [
    "### <font color = lime> Convert the df char data types to numeric"
   ]
  },
  {
   "cell_type": "code",
   "execution_count": 5,
   "id": "183b2c61-67b4-4e02-bdf5-80dfe4cadacb",
   "metadata": {},
   "outputs": [
    {
     "data": {
      "text/html": [
       "<table class=\"dataframe\">\n",
       "<caption>A data.frame: 3 × 10</caption>\n",
       "<thead>\n",
       "\t<tr><th></th><th scope=col>index</th><th scope=col>date</th><th scope=col>cost</th><th scope=col>quan</th><th scope=col>tally_q</th><th scope=col>tally_c</th><th scope=col>date_s</th><th scope=col>proceeds</th><th scope=col>tally_q2</th><th scope=col>tally_c2</th></tr>\n",
       "\t<tr><th></th><th scope=col>&lt;int&gt;</th><th scope=col>&lt;date&gt;</th><th scope=col>&lt;dbl&gt;</th><th scope=col>&lt;int&gt;</th><th scope=col>&lt;int&gt;</th><th scope=col>&lt;dbl&gt;</th><th scope=col>&lt;date&gt;</th><th scope=col>&lt;dbl&gt;</th><th scope=col>&lt;int&gt;</th><th scope=col>&lt;dbl&gt;</th></tr>\n",
       "</thead>\n",
       "<tbody>\n",
       "\t<tr><th scope=row>1</th><td>1</td><td>2023-03-03</td><td> 618.08</td><td>100</td><td>100</td><td> 618.08</td><td>2023-06-02</td><td> 453.98</td><td>36850</td><td>206557.2</td></tr>\n",
       "\t<tr><th scope=row>2</th><td>2</td><td>2023-03-03</td><td>2422.31</td><td>400</td><td>500</td><td>3040.39</td><td>2023-06-02</td><td>1815.93</td><td>36450</td><td>204134.9</td></tr>\n",
       "\t<tr><th scope=row>3</th><td>3</td><td>2023-03-03</td><td>2298.31</td><td>400</td><td>900</td><td>5338.70</td><td>2023-06-02</td><td>1815.93</td><td>36050</td><td>201836.5</td></tr>\n",
       "</tbody>\n",
       "</table>\n"
      ],
      "text/latex": [
       "A data.frame: 3 × 10\n",
       "\\begin{tabular}{r|llllllllll}\n",
       "  & index & date & cost & quan & tally\\_q & tally\\_c & date\\_s & proceeds & tally\\_q2 & tally\\_c2\\\\\n",
       "  & <int> & <date> & <dbl> & <int> & <int> & <dbl> & <date> & <dbl> & <int> & <dbl>\\\\\n",
       "\\hline\n",
       "\t1 & 1 & 2023-03-03 &  618.08 & 100 & 100 &  618.08 & 2023-06-02 &  453.98 & 36850 & 206557.2\\\\\n",
       "\t2 & 2 & 2023-03-03 & 2422.31 & 400 & 500 & 3040.39 & 2023-06-02 & 1815.93 & 36450 & 204134.9\\\\\n",
       "\t3 & 3 & 2023-03-03 & 2298.31 & 400 & 900 & 5338.70 & 2023-06-02 & 1815.93 & 36050 & 201836.5\\\\\n",
       "\\end{tabular}\n"
      ],
      "text/markdown": [
       "\n",
       "A data.frame: 3 × 10\n",
       "\n",
       "| <!--/--> | index &lt;int&gt; | date &lt;date&gt; | cost &lt;dbl&gt; | quan &lt;int&gt; | tally_q &lt;int&gt; | tally_c &lt;dbl&gt; | date_s &lt;date&gt; | proceeds &lt;dbl&gt; | tally_q2 &lt;int&gt; | tally_c2 &lt;dbl&gt; |\n",
       "|---|---|---|---|---|---|---|---|---|---|---|\n",
       "| 1 | 1 | 2023-03-03 |  618.08 | 100 | 100 |  618.08 | 2023-06-02 |  453.98 | 36850 | 206557.2 |\n",
       "| 2 | 2 | 2023-03-03 | 2422.31 | 400 | 500 | 3040.39 | 2023-06-02 | 1815.93 | 36450 | 204134.9 |\n",
       "| 3 | 3 | 2023-03-03 | 2298.31 | 400 | 900 | 5338.70 | 2023-06-02 | 1815.93 | 36050 | 201836.5 |\n",
       "\n"
      ],
      "text/plain": [
       "  index date       cost    quan tally_q tally_c date_s     proceeds tally_q2\n",
       "1 1     2023-03-03  618.08 100  100      618.08 2023-06-02  453.98  36850   \n",
       "2 2     2023-03-03 2422.31 400  500     3040.39 2023-06-02 1815.93  36450   \n",
       "3 3     2023-03-03 2298.31 400  900     5338.70 2023-06-02 1815.93  36050   \n",
       "  tally_c2\n",
       "1 206557.2\n",
       "2 204134.9\n",
       "3 201836.5"
      ]
     },
     "metadata": {},
     "output_type": "display_data"
    }
   ],
   "source": [
    "# Convert Excel dates when in the 1900 date format\n",
    "df$date <- as.Date(df$date, origin = \"1899-12-30\")\n",
    "df$date_s <- as.Date(df$date_s, origin = \"1899-12-30\")\n",
    "head(df, 3)"
   ]
  },
  {
   "cell_type": "code",
   "execution_count": null,
   "id": "581854b1-98f3-48e4-81a2-88442006aa93",
   "metadata": {},
   "outputs": [],
   "source": []
  },
  {
   "cell_type": "code",
   "execution_count": 6,
   "id": "1f57b5fc-63d7-480c-aa33-4aad0e8abd9d",
   "metadata": {},
   "outputs": [
    {
     "name": "stdout",
     "output_type": "stream",
     "text": [
      "[1] 100\n",
      "[1] 500\n",
      "[1] 900\n",
      "[1] \"the master counter value is: 3\"\n",
      "[1] \"the incrementing index value is: 0\"\n"
     ]
    },
    {
     "data": {
      "text/html": [
       "900"
      ],
      "text/latex": [
       "900"
      ],
      "text/markdown": [
       "900"
      ],
      "text/plain": [
       "[1] 900"
      ]
     },
     "metadata": {},
     "output_type": "display_data"
    }
   ],
   "source": [
    "# create a test loop for moving through the df\n",
    "df <- read.csv(\"TestAllocate.csv\", header = TRUE, sep = \",\")\n",
    "# Define the target sum\n",
    "target_value <- 900\n",
    "master_ct <- 0\n",
    "\n",
    "# Initialize a variable to hold the increasing cumulative sum\n",
    "cumulative_sum <- 0\n",
    "\n",
    "# Initialize a variable to hold the index where target sum is achieved\n",
    "index <- 0\n",
    "\n",
    "# Iterate over the column\n",
    "  for(i in 1:nrow(df)) {\n",
    "  # counter at top of loop (will always be >= 1)\n",
    "  master_ct <- master_ct + 1\n",
    "  # creates a tally value of quan values from each row that is compared against the target value  \n",
    "  cumulative_sum <- cumulative_sum + df[i, 'quan']\n",
    "    print(cumulative_sum)\n",
    "  # If the cum_sum equals the target value, change nothing\n",
    "  if(cumulative_sum == target_value) {\n",
    "      temp <- df[i, 'tally_q']\n",
    "      df[i, 'tally_q'] <- temp\n",
    "      break\n",
    "      }\n",
    "  # if the cum_sum exceeds the target value, break and return the index (count of rows for the if )\n",
    "  else if(cumulative_sum >= target_value) {\n",
    "    # count the times when the cumulative_sum greater than target value. Can be zero.  \n",
    "    index <- i     \n",
    "    break\n",
    "  }\n",
    "}\n",
    "\n",
    "# Print the indexes\n",
    "print(paste0(\"the master counter value is: \", master_ct))\n",
    "print(paste0(\"the incrementing index value is: \", index))\n",
    "\n",
    "# print the cumulative sum at the break out from the loop\n",
    "cumulative_sum"
   ]
  },
  {
   "cell_type": "code",
   "execution_count": 7,
   "id": "9f18324d-1d7f-4f1d-a393-2e299fa6c662",
   "metadata": {},
   "outputs": [
    {
     "data": {
      "text/html": [
       "0"
      ],
      "text/latex": [
       "0"
      ],
      "text/markdown": [
       "0"
      ],
      "text/plain": [
       "[1] 0"
      ]
     },
     "metadata": {},
     "output_type": "display_data"
    }
   ],
   "source": [
    "index"
   ]
  },
  {
   "cell_type": "code",
   "execution_count": 8,
   "id": "a2f999a5-1544-4b17-ac57-0fb52686822c",
   "metadata": {
    "tags": []
   },
   "outputs": [
    {
     "data": {
      "text/html": [
       "<table class=\"dataframe\">\n",
       "<caption>A data.frame: 5 × 2</caption>\n",
       "<thead>\n",
       "\t<tr><th scope=col>Quantity</th><th scope=col>Other</th></tr>\n",
       "\t<tr><th scope=col>&lt;dbl&gt;</th><th scope=col>&lt;chr&gt;</th></tr>\n",
       "</thead>\n",
       "<tbody>\n",
       "\t<tr><td>1</td><td>a</td></tr>\n",
       "\t<tr><td>2</td><td>b</td></tr>\n",
       "\t<tr><td>3</td><td>c</td></tr>\n",
       "\t<tr><td>4</td><td>d</td></tr>\n",
       "\t<tr><td>5</td><td>e</td></tr>\n",
       "</tbody>\n",
       "</table>\n"
      ],
      "text/latex": [
       "A data.frame: 5 × 2\n",
       "\\begin{tabular}{ll}\n",
       " Quantity & Other\\\\\n",
       " <dbl> & <chr>\\\\\n",
       "\\hline\n",
       "\t 1 & a\\\\\n",
       "\t 2 & b\\\\\n",
       "\t 3 & c\\\\\n",
       "\t 4 & d\\\\\n",
       "\t 5 & e\\\\\n",
       "\\end{tabular}\n"
      ],
      "text/markdown": [
       "\n",
       "A data.frame: 5 × 2\n",
       "\n",
       "| Quantity &lt;dbl&gt; | Other &lt;chr&gt; |\n",
       "|---|---|\n",
       "| 1 | a |\n",
       "| 2 | b |\n",
       "| 3 | c |\n",
       "| 4 | d |\n",
       "| 5 | e |\n",
       "\n"
      ],
      "text/plain": [
       "  Quantity Other\n",
       "1 1        a    \n",
       "2 2        b    \n",
       "3 3        c    \n",
       "4 4        d    \n",
       "5 5        e    "
      ]
     },
     "metadata": {},
     "output_type": "display_data"
    },
    {
     "name": "stdout",
     "output_type": "stream",
     "text": [
      "  Quantity Other\n",
      "1        1     a\n",
      "2        2     b\n",
      "3        3     c\n",
      "4        0     d\n",
      "5        2     d\n",
      "6        2     d\n",
      "7        5     e\n"
     ]
    }
   ],
   "source": [
    "# Assuming 'df' is your dataframe and 'Quantity' is your column\n",
    "df <- data.frame(Quantity = c(1, 2, 3, 4, 5), Other = c('a', 'b', 'c', 'd', 'e'))\n",
    "test_values <- c(8, 6)\n",
    "df\n",
    "# Iterate over the test values\n",
    "for(test_value in test_values) {\n",
    "  # Initialize a variable to hold the cumulative sum\n",
    "  cumulative_sum <- 0\n",
    "\n",
    "  # Iterate over the rows\n",
    "  for(i in 1:nrow(df)) {\n",
    "    cumulative_sum <- cumulative_sum + df[i, 'Quantity']\n",
    "    \n",
    "    # Check if the cumulative sum exceeds the test value\n",
    "    if(cumulative_sum > test_value) {\n",
    "      # Calculate the excess and the adjusted quantity\n",
    "      excess <- cumulative_sum - test_value\n",
    "      adjusted_quantity <- df[i, 'Quantity'] - excess\n",
    "      \n",
    "      # Update the quantity in the current row\n",
    "      df[i, 'Quantity'] <- adjusted_quantity\n",
    "      \n",
    "      # Create a new row with the excess quantity\n",
    "      new_row <- df[i, ]\n",
    "      new_row['Quantity'] <- excess\n",
    "      \n",
    "      # Insert the new row into the dataframe immediately below the current row\n",
    "      df <- df %>% \n",
    "        add_row(.before = i+1, !!!new_row)\n",
    "      \n",
    "      # Break the loop\n",
    "      break\n",
    "    }\n",
    "  }\n",
    "}\n",
    "\n",
    "# Print the updated dataframe\n",
    "print(df)\n"
   ]
  },
  {
   "cell_type": "markdown",
   "id": "f6095738-cd26-407b-8006-5a0441571876",
   "metadata": {},
   "source": [
    "## <font color = lime> Keeper!  It works"
   ]
  },
  {
   "cell_type": "code",
   "execution_count": 9,
   "id": "d3562b24-5e47-4bff-99d2-f36a1d23ddca",
   "metadata": {
    "tags": []
   },
   "outputs": [
    {
     "name": "stdout",
     "output_type": "stream",
     "text": [
      "[1] 1\n"
     ]
    },
    {
     "data": {
      "text/html": [
       "<table class=\"dataframe\">\n",
       "<caption>A data.frame: 3 × 10</caption>\n",
       "<thead>\n",
       "\t<tr><th></th><th scope=col>index</th><th scope=col>date</th><th scope=col>cost</th><th scope=col>quan</th><th scope=col>tally_q</th><th scope=col>tally_c</th><th scope=col>date_s</th><th scope=col>proceeds</th><th scope=col>tally_q2</th><th scope=col>tally_c2</th></tr>\n",
       "\t<tr><th></th><th scope=col>&lt;int&gt;</th><th scope=col>&lt;int&gt;</th><th scope=col>&lt;dbl&gt;</th><th scope=col>&lt;dbl&gt;</th><th scope=col>&lt;dbl&gt;</th><th scope=col>&lt;dbl&gt;</th><th scope=col>&lt;int&gt;</th><th scope=col>&lt;dbl&gt;</th><th scope=col>&lt;dbl&gt;</th><th scope=col>&lt;dbl&gt;</th></tr>\n",
       "</thead>\n",
       "<tbody>\n",
       "\t<tr><th scope=row>72</th><td>71</td><td>44819</td><td> 503.42</td><td> 50</td><td> 250</td><td>201279.3</td><td>44953</td><td> 275.61</td><td>750</td><td>5.89593e+03</td></tr>\n",
       "\t<tr><th scope=row>73</th><td>72</td><td>44880</td><td>4068.90</td><td>500</td><td> 750</td><td>205348.2</td><td>44953</td><td>2756.06</td><td>250</td><td>1.82703e+03</td></tr>\n",
       "\t<tr><th scope=row>74</th><td>73</td><td>44895</td><td>1827.03</td><td>250</td><td>1000</td><td>207175.2</td><td>44953</td><td>1378.03</td><td>  0</td><td>3.86535e-12</td></tr>\n",
       "</tbody>\n",
       "</table>\n"
      ],
      "text/latex": [
       "A data.frame: 3 × 10\n",
       "\\begin{tabular}{r|llllllllll}\n",
       "  & index & date & cost & quan & tally\\_q & tally\\_c & date\\_s & proceeds & tally\\_q2 & tally\\_c2\\\\\n",
       "  & <int> & <int> & <dbl> & <dbl> & <dbl> & <dbl> & <int> & <dbl> & <dbl> & <dbl>\\\\\n",
       "\\hline\n",
       "\t72 & 71 & 44819 &  503.42 &  50 &  250 & 201279.3 & 44953 &  275.61 & 750 & 5.89593e+03\\\\\n",
       "\t73 & 72 & 44880 & 4068.90 & 500 &  750 & 205348.2 & 44953 & 2756.06 & 250 & 1.82703e+03\\\\\n",
       "\t74 & 73 & 44895 & 1827.03 & 250 & 1000 & 207175.2 & 44953 & 1378.03 &   0 & 3.86535e-12\\\\\n",
       "\\end{tabular}\n"
      ],
      "text/markdown": [
       "\n",
       "A data.frame: 3 × 10\n",
       "\n",
       "| <!--/--> | index &lt;int&gt; | date &lt;int&gt; | cost &lt;dbl&gt; | quan &lt;dbl&gt; | tally_q &lt;dbl&gt; | tally_c &lt;dbl&gt; | date_s &lt;int&gt; | proceeds &lt;dbl&gt; | tally_q2 &lt;dbl&gt; | tally_c2 &lt;dbl&gt; |\n",
       "|---|---|---|---|---|---|---|---|---|---|---|\n",
       "| 72 | 71 | 44819 |  503.42 |  50 |  250 | 201279.3 | 44953 |  275.61 | 750 | 5.89593e+03 |\n",
       "| 73 | 72 | 44880 | 4068.90 | 500 |  750 | 205348.2 | 44953 | 2756.06 | 250 | 1.82703e+03 |\n",
       "| 74 | 73 | 44895 | 1827.03 | 250 | 1000 | 207175.2 | 44953 | 1378.03 |   0 | 3.86535e-12 |\n",
       "\n"
      ],
      "text/plain": [
       "   index date  cost    quan tally_q tally_c  date_s proceeds tally_q2\n",
       "72 71    44819  503.42  50   250    201279.3 44953   275.61  750     \n",
       "73 72    44880 4068.90 500   750    205348.2 44953  2756.06  250     \n",
       "74 73    44895 1827.03 250  1000    207175.2 44953  1378.03    0     \n",
       "   tally_c2   \n",
       "72 5.89593e+03\n",
       "73 1.82703e+03\n",
       "74 3.86535e-12"
      ]
     },
     "metadata": {},
     "output_type": "display_data"
    },
    {
     "data": {
      "text/html": [
       "<table class=\"dataframe\">\n",
       "<caption>A data.frame: 3 × 10</caption>\n",
       "<thead>\n",
       "\t<tr><th></th><th scope=col>index</th><th scope=col>date</th><th scope=col>cost</th><th scope=col>quan</th><th scope=col>tally_q</th><th scope=col>tally_c</th><th scope=col>date_s</th><th scope=col>proceeds</th><th scope=col>tally_q2</th><th scope=col>tally_c2</th></tr>\n",
       "\t<tr><th></th><th scope=col>&lt;int&gt;</th><th scope=col>&lt;int&gt;</th><th scope=col>&lt;dbl&gt;</th><th scope=col>&lt;dbl&gt;</th><th scope=col>&lt;dbl&gt;</th><th scope=col>&lt;dbl&gt;</th><th scope=col>&lt;int&gt;</th><th scope=col>&lt;dbl&gt;</th><th scope=col>&lt;dbl&gt;</th><th scope=col>&lt;dbl&gt;</th></tr>\n",
       "</thead>\n",
       "<tbody>\n",
       "\t<tr><th scope=row>72</th><td>71</td><td>44819</td><td> 503.42</td><td> 50</td><td> 250</td><td>201279.3</td><td>44953</td><td> 275.61</td><td>750</td><td>5.89593e+03</td></tr>\n",
       "\t<tr><th scope=row>73</th><td>72</td><td>44880</td><td>4068.90</td><td>500</td><td> 750</td><td>205348.2</td><td>44953</td><td>2756.06</td><td>250</td><td>1.82703e+03</td></tr>\n",
       "\t<tr><th scope=row>74</th><td>73</td><td>44895</td><td>1827.03</td><td>250</td><td>1000</td><td>207175.2</td><td>44953</td><td>1378.03</td><td>  0</td><td>3.86535e-12</td></tr>\n",
       "</tbody>\n",
       "</table>\n"
      ],
      "text/latex": [
       "A data.frame: 3 × 10\n",
       "\\begin{tabular}{r|llllllllll}\n",
       "  & index & date & cost & quan & tally\\_q & tally\\_c & date\\_s & proceeds & tally\\_q2 & tally\\_c2\\\\\n",
       "  & <int> & <int> & <dbl> & <dbl> & <dbl> & <dbl> & <int> & <dbl> & <dbl> & <dbl>\\\\\n",
       "\\hline\n",
       "\t72 & 71 & 44819 &  503.42 &  50 &  250 & 201279.3 & 44953 &  275.61 & 750 & 5.89593e+03\\\\\n",
       "\t73 & 72 & 44880 & 4068.90 & 500 &  750 & 205348.2 & 44953 & 2756.06 & 250 & 1.82703e+03\\\\\n",
       "\t74 & 73 & 44895 & 1827.03 & 250 & 1000 & 207175.2 & 44953 & 1378.03 &   0 & 3.86535e-12\\\\\n",
       "\\end{tabular}\n"
      ],
      "text/markdown": [
       "\n",
       "A data.frame: 3 × 10\n",
       "\n",
       "| <!--/--> | index &lt;int&gt; | date &lt;int&gt; | cost &lt;dbl&gt; | quan &lt;dbl&gt; | tally_q &lt;dbl&gt; | tally_c &lt;dbl&gt; | date_s &lt;int&gt; | proceeds &lt;dbl&gt; | tally_q2 &lt;dbl&gt; | tally_c2 &lt;dbl&gt; |\n",
       "|---|---|---|---|---|---|---|---|---|---|---|\n",
       "| 72 | 71 | 44819 |  503.42 |  50 |  250 | 201279.3 | 44953 |  275.61 | 750 | 5.89593e+03 |\n",
       "| 73 | 72 | 44880 | 4068.90 | 500 |  750 | 205348.2 | 44953 | 2756.06 | 250 | 1.82703e+03 |\n",
       "| 74 | 73 | 44895 | 1827.03 | 250 | 1000 | 207175.2 | 44953 | 1378.03 |   0 | 3.86535e-12 |\n",
       "\n"
      ],
      "text/plain": [
       "   index date  cost    quan tally_q tally_c  date_s proceeds tally_q2\n",
       "72 71    44819  503.42  50   250    201279.3 44953   275.61  750     \n",
       "73 72    44880 4068.90 500   750    205348.2 44953  2756.06  250     \n",
       "74 73    44895 1827.03 250  1000    207175.2 44953  1378.03    0     \n",
       "   tally_c2   \n",
       "72 5.89593e+03\n",
       "73 1.82703e+03\n",
       "74 3.86535e-12"
      ]
     },
     "metadata": {},
     "output_type": "display_data"
    }
   ],
   "source": [
    "df <- read.csv(\"TestAllocate.csv\", header = TRUE, sep = \",\")\n",
    "# df$X <- NULL\n",
    "# df$X.1 <- NULL\n",
    "# df$X.2 <- NULL\n",
    "\n",
    "\n",
    "\n",
    "ct <<- 1\n",
    "test_value <- c(850)\n",
    "rat1 <<- 0\n",
    "\n",
    "# function to allocate values within a df\n",
    "inter <- function(df, test_value, ct) {\n",
    "     cumulative_sum <- 0\n",
    "      \n",
    "# Iterate over the rows\n",
    "  for(i in 1:nrow(df)) {\n",
    "      \n",
    "    cumulative_sum <- cumulative_sum + df[i, 'quan']\n",
    "    \n",
    "    # Check if the cumulative sum exceeds the test value\n",
    "    if(cumulative_sum == test_value) {\n",
    "        print(\"match amount\")       \n",
    "        }\n",
    "      \n",
    "    if(cumulative_sum >= test_value) {        \n",
    "           \n",
    "      # Calculate the excess and the adjusted quantity\n",
    "      excess <- cumulative_sum - test_value         # 900 - 700 = 200\n",
    "      adjusted_quantity <- df[i, 'quan'] - excess   # deduct 200 from existing value \n",
    "       \n",
    "     # establish the ratio - need for row 1 and row 2   \n",
    "     denom <- df[i, 'quan']    # 400    \n",
    "     numer <- adjusted_quantity\n",
    "      \n",
    "      # Update the quantity in the current row\n",
    "      df[i, 'quan'] <- adjusted_quantity            # assign new value to quan\n",
    "        \n",
    "      # Create a new row with the excess quantity (Do it here and not below the changes)\n",
    "      new_row <- df[i, ]\n",
    "      new_row['quan'] <- excess \n",
    "      \n",
    "    \n",
    "    # update the tally_q (first row)\n",
    "      q1 <- df[i, 'tally_q'] - adjusted_quantity\n",
    "      df[i, 'tally_q'] <- q1\n",
    "        \n",
    "    \n",
    "   # first, establish a ratio to apply to variables in row 1, then allocate the variables\n",
    "       \n",
    "    # create the ratio\n",
    "    rat1 <<- numer / denom\n",
    "               \n",
    "    # apply ratio to variables in row 1\n",
    "    # cost var\n",
    "    c1 <- df[i, 'cost'] * rat1\n",
    "    df[i, 'cost'] <- c1  \n",
    "    #tally_c var\n",
    "    t_c <- df[i-1,'tally_c'] + c1\n",
    "    df[i, 'tally_c'] <- t_c\n",
    "    #proceeds var\n",
    "    p1 <- df[i, 'proceeds'] * rat1\n",
    "    df[i, 'proceeds'] <- p1\n",
    "    # t_q2 var\n",
    "    t_q2 <- df[i-1, 'tally_q2'] - adjusted_quantity\n",
    "    df[i, 'tally_q2'] <- t_q2\n",
    "    # t_c2 var\n",
    "    t_c2 <- df[i-1, 'tally_c2'] - c1\n",
    "    df[i, 'tally_c2'] <- t_c2\n",
    "        \n",
    "        \n",
    "    # Insert the new row into the dataframe immediately below the current row\n",
    "    df <- df %>% \n",
    "    add_row(.before = i+1, !!!new_row)\n",
    "    ct <<- i+1        \n",
    "\n",
    "#  PART 2\n",
    "        \n",
    "   # update the values in new row 2 \n",
    "        \n",
    "    # cost var\n",
    "    c2 <- df[ct, 'cost'] * rat1\n",
    "    df[ct, 'cost'] <- c2  \n",
    "    #tally_c var\n",
    "    t_c2 <- df[ct-1,'tally_c'] + c2\n",
    "    df[ct, 'tally_c'] <- t_c2\n",
    "    #proceeds var\n",
    "    p2 <- df[ct, 'proceeds'] * rat1\n",
    "    df[ct, 'proceeds'] <- p2\n",
    "      # t_q2 var\n",
    "    t_q22 <- df[ct-1, 'tally_q2'] - adjusted_quantity\n",
    "    df[ct, 'tally_q2'] <- t_q22\n",
    "    # t_c2 var\n",
    "    t_c22 <- df[i-1, 'tally_c2'] - c2\n",
    "    df[i, 'tally_c2'] <- t_c22      \n",
    "\n",
    "  # Break the loop and move to the next test value\n",
    "    ct <- ct + 1\n",
    "  break\n",
    "    \n",
    "    }\n",
    "    \n",
    "  }\n",
    "     return(df)\n",
    "}\n",
    "\n",
    "\n",
    "print(ct)\n",
    "# make fct call\n",
    "newdf <- inter(df, test_value, ct) \n",
    "tail(newdf, 3)\n",
    "\n",
    "\n",
    "# Remove the unwanted row of NAs\n",
    "newdf <- newdf[complete.cases(newdf), ]  \n",
    "tail(newdf, 3)\n",
    "\n",
    "\n",
    "\n",
    "# show the returned ct value\n"
   ]
  },
  {
   "cell_type": "code",
   "execution_count": null,
   "id": "0dd91c23-c80f-4a85-8db8-aae3b8fe3c48",
   "metadata": {},
   "outputs": [],
   "source": []
  },
  {
   "cell_type": "code",
   "execution_count": 10,
   "id": "fa511f16-4f41-4aa2-84b7-37b5f36c0d16",
   "metadata": {
    "tags": []
   },
   "outputs": [
    {
     "data": {
      "text/html": [
       "22"
      ],
      "text/latex": [
       "22"
      ],
      "text/markdown": [
       "22"
      ],
      "text/plain": [
       "[1] 22"
      ]
     },
     "metadata": {},
     "output_type": "display_data"
    },
    {
     "name": "stdout",
     "output_type": "stream",
     "text": [
      "[1] \"match amount\"\n"
     ]
    },
    {
     "data": {
      "text/html": [
       "13"
      ],
      "text/latex": [
       "13"
      ],
      "text/markdown": [
       "13"
      ],
      "text/plain": [
       "[1] 13"
      ]
     },
     "metadata": {},
     "output_type": "display_data"
    },
    {
     "data": {
      "text/html": [
       "22"
      ],
      "text/latex": [
       "22"
      ],
      "text/markdown": [
       "22"
      ],
      "text/plain": [
       "[1] 22"
      ]
     },
     "metadata": {},
     "output_type": "display_data"
    },
    {
     "data": {
      "text/html": [
       "<table class=\"dataframe\">\n",
       "<caption>A data.frame: 15 × 10</caption>\n",
       "<thead>\n",
       "\t<tr><th></th><th scope=col>index</th><th scope=col>date</th><th scope=col>cost</th><th scope=col>quan</th><th scope=col>tally_q</th><th scope=col>tally_c</th><th scope=col>date_s</th><th scope=col>proceeds</th><th scope=col>tally_q2</th><th scope=col>tally_c2</th></tr>\n",
       "\t<tr><th></th><th scope=col>&lt;int&gt;</th><th scope=col>&lt;int&gt;</th><th scope=col>&lt;dbl&gt;</th><th scope=col>&lt;dbl&gt;</th><th scope=col>&lt;dbl&gt;</th><th scope=col>&lt;dbl&gt;</th><th scope=col>&lt;int&gt;</th><th scope=col>&lt;dbl&gt;</th><th scope=col>&lt;dbl&gt;</th><th scope=col>&lt;dbl&gt;</th></tr>\n",
       "</thead>\n",
       "<tbody>\n",
       "\t<tr><th scope=row>60</th><td>59</td><td>44880</td><td>4125.34</td><td>500</td><td> 950</td><td>187048.8</td><td>44960</td><td>3339.90</td><td>2750</td><td>2.012649e+04</td></tr>\n",
       "\t<tr><th scope=row>61</th><td>60</td><td>44880</td><td>3679.44</td><td>500</td><td>1450</td><td>190728.2</td><td>44960</td><td>3127.35</td><td>2250</td><td>1.644705e+04</td></tr>\n",
       "\t<tr><th scope=row>62</th><td>61</td><td>44880</td><td>3171.79</td><td>500</td><td>1950</td><td>193900.0</td><td>44960</td><td>3094.90</td><td>1750</td><td>1.327526e+04</td></tr>\n",
       "\t<tr><th scope=row>63</th><td>62</td><td>44895</td><td> 551.39</td><td>100</td><td>2050</td><td>194451.4</td><td>44960</td><td> 618.98</td><td>1650</td><td>1.272387e+04</td></tr>\n",
       "\t<tr><th scope=row>64</th><td>63</td><td>44895</td><td> 320.81</td><td> 50</td><td>2100</td><td>194772.2</td><td>44960</td><td> 309.49</td><td>1600</td><td>1.240306e+04</td></tr>\n",
       "\t<tr><th scope=row>65</th><td>64</td><td>44895</td><td> 640.57</td><td>100</td><td>2200</td><td>195412.8</td><td>44960</td><td> 618.98</td><td>1500</td><td>1.176249e+04</td></tr>\n",
       "\t<tr><th scope=row>66</th><td>65</td><td>44895</td><td>1113.15</td><td>150</td><td>2350</td><td>196525.9</td><td>44960</td><td> 938.20</td><td>1350</td><td>1.064934e+04</td></tr>\n",
       "\t<tr><th scope=row>67</th><td>66</td><td>44895</td><td> 365.40</td><td> 50</td><td>2400</td><td>196891.3</td><td>44960</td><td> 333.99</td><td>1300</td><td>1.028394e+04</td></tr>\n",
       "\t<tr><th scope=row>68</th><td>67</td><td>44895</td><td> 742.10</td><td>100</td><td>2500</td><td>197633.4</td><td>44960</td><td> 667.98</td><td>1200</td><td>9.541840e+03</td></tr>\n",
       "\t<tr><th scope=row>69</th><td>68</td><td>44895</td><td> 652.92</td><td>100</td><td>2600</td><td>198286.3</td><td>44960</td><td> 625.47</td><td>1100</td><td>8.888920e+03</td></tr>\n",
       "\t<tr><th scope=row>70</th><td>69</td><td>44895</td><td> 499.59</td><td>100</td><td>2700</td><td>198785.9</td><td>44960</td><td> 585.47</td><td>1000</td><td>8.389330e+03</td></tr>\n",
       "\t<tr><th scope=row>71</th><td>70</td><td>44819</td><td>1989.98</td><td>200</td><td> 200</td><td>200775.9</td><td>44953</td><td>1102.42</td><td> 800</td><td>6.399350e+03</td></tr>\n",
       "\t<tr><th scope=row>72</th><td>71</td><td>44819</td><td> 503.42</td><td> 50</td><td> 250</td><td>201279.3</td><td>44953</td><td> 275.61</td><td> 750</td><td>5.895930e+03</td></tr>\n",
       "\t<tr><th scope=row>73</th><td>72</td><td>44880</td><td>4068.90</td><td>500</td><td> 750</td><td>205348.2</td><td>44953</td><td>2756.06</td><td> 250</td><td>1.827030e+03</td></tr>\n",
       "\t<tr><th scope=row>74</th><td>73</td><td>44895</td><td>1827.03</td><td>250</td><td>1000</td><td>207175.2</td><td>44953</td><td>1378.03</td><td>   0</td><td>3.865350e-12</td></tr>\n",
       "</tbody>\n",
       "</table>\n"
      ],
      "text/latex": [
       "A data.frame: 15 × 10\n",
       "\\begin{tabular}{r|llllllllll}\n",
       "  & index & date & cost & quan & tally\\_q & tally\\_c & date\\_s & proceeds & tally\\_q2 & tally\\_c2\\\\\n",
       "  & <int> & <int> & <dbl> & <dbl> & <dbl> & <dbl> & <int> & <dbl> & <dbl> & <dbl>\\\\\n",
       "\\hline\n",
       "\t60 & 59 & 44880 & 4125.34 & 500 &  950 & 187048.8 & 44960 & 3339.90 & 2750 & 2.012649e+04\\\\\n",
       "\t61 & 60 & 44880 & 3679.44 & 500 & 1450 & 190728.2 & 44960 & 3127.35 & 2250 & 1.644705e+04\\\\\n",
       "\t62 & 61 & 44880 & 3171.79 & 500 & 1950 & 193900.0 & 44960 & 3094.90 & 1750 & 1.327526e+04\\\\\n",
       "\t63 & 62 & 44895 &  551.39 & 100 & 2050 & 194451.4 & 44960 &  618.98 & 1650 & 1.272387e+04\\\\\n",
       "\t64 & 63 & 44895 &  320.81 &  50 & 2100 & 194772.2 & 44960 &  309.49 & 1600 & 1.240306e+04\\\\\n",
       "\t65 & 64 & 44895 &  640.57 & 100 & 2200 & 195412.8 & 44960 &  618.98 & 1500 & 1.176249e+04\\\\\n",
       "\t66 & 65 & 44895 & 1113.15 & 150 & 2350 & 196525.9 & 44960 &  938.20 & 1350 & 1.064934e+04\\\\\n",
       "\t67 & 66 & 44895 &  365.40 &  50 & 2400 & 196891.3 & 44960 &  333.99 & 1300 & 1.028394e+04\\\\\n",
       "\t68 & 67 & 44895 &  742.10 & 100 & 2500 & 197633.4 & 44960 &  667.98 & 1200 & 9.541840e+03\\\\\n",
       "\t69 & 68 & 44895 &  652.92 & 100 & 2600 & 198286.3 & 44960 &  625.47 & 1100 & 8.888920e+03\\\\\n",
       "\t70 & 69 & 44895 &  499.59 & 100 & 2700 & 198785.9 & 44960 &  585.47 & 1000 & 8.389330e+03\\\\\n",
       "\t71 & 70 & 44819 & 1989.98 & 200 &  200 & 200775.9 & 44953 & 1102.42 &  800 & 6.399350e+03\\\\\n",
       "\t72 & 71 & 44819 &  503.42 &  50 &  250 & 201279.3 & 44953 &  275.61 &  750 & 5.895930e+03\\\\\n",
       "\t73 & 72 & 44880 & 4068.90 & 500 &  750 & 205348.2 & 44953 & 2756.06 &  250 & 1.827030e+03\\\\\n",
       "\t74 & 73 & 44895 & 1827.03 & 250 & 1000 & 207175.2 & 44953 & 1378.03 &    0 & 3.865350e-12\\\\\n",
       "\\end{tabular}\n"
      ],
      "text/markdown": [
       "\n",
       "A data.frame: 15 × 10\n",
       "\n",
       "| <!--/--> | index &lt;int&gt; | date &lt;int&gt; | cost &lt;dbl&gt; | quan &lt;dbl&gt; | tally_q &lt;dbl&gt; | tally_c &lt;dbl&gt; | date_s &lt;int&gt; | proceeds &lt;dbl&gt; | tally_q2 &lt;dbl&gt; | tally_c2 &lt;dbl&gt; |\n",
       "|---|---|---|---|---|---|---|---|---|---|---|\n",
       "| 60 | 59 | 44880 | 4125.34 | 500 |  950 | 187048.8 | 44960 | 3339.90 | 2750 | 2.012649e+04 |\n",
       "| 61 | 60 | 44880 | 3679.44 | 500 | 1450 | 190728.2 | 44960 | 3127.35 | 2250 | 1.644705e+04 |\n",
       "| 62 | 61 | 44880 | 3171.79 | 500 | 1950 | 193900.0 | 44960 | 3094.90 | 1750 | 1.327526e+04 |\n",
       "| 63 | 62 | 44895 |  551.39 | 100 | 2050 | 194451.4 | 44960 |  618.98 | 1650 | 1.272387e+04 |\n",
       "| 64 | 63 | 44895 |  320.81 |  50 | 2100 | 194772.2 | 44960 |  309.49 | 1600 | 1.240306e+04 |\n",
       "| 65 | 64 | 44895 |  640.57 | 100 | 2200 | 195412.8 | 44960 |  618.98 | 1500 | 1.176249e+04 |\n",
       "| 66 | 65 | 44895 | 1113.15 | 150 | 2350 | 196525.9 | 44960 |  938.20 | 1350 | 1.064934e+04 |\n",
       "| 67 | 66 | 44895 |  365.40 |  50 | 2400 | 196891.3 | 44960 |  333.99 | 1300 | 1.028394e+04 |\n",
       "| 68 | 67 | 44895 |  742.10 | 100 | 2500 | 197633.4 | 44960 |  667.98 | 1200 | 9.541840e+03 |\n",
       "| 69 | 68 | 44895 |  652.92 | 100 | 2600 | 198286.3 | 44960 |  625.47 | 1100 | 8.888920e+03 |\n",
       "| 70 | 69 | 44895 |  499.59 | 100 | 2700 | 198785.9 | 44960 |  585.47 | 1000 | 8.389330e+03 |\n",
       "| 71 | 70 | 44819 | 1989.98 | 200 |  200 | 200775.9 | 44953 | 1102.42 |  800 | 6.399350e+03 |\n",
       "| 72 | 71 | 44819 |  503.42 |  50 |  250 | 201279.3 | 44953 |  275.61 |  750 | 5.895930e+03 |\n",
       "| 73 | 72 | 44880 | 4068.90 | 500 |  750 | 205348.2 | 44953 | 2756.06 |  250 | 1.827030e+03 |\n",
       "| 74 | 73 | 44895 | 1827.03 | 250 | 1000 | 207175.2 | 44953 | 1378.03 |    0 | 3.865350e-12 |\n",
       "\n"
      ],
      "text/plain": [
       "   index date  cost    quan tally_q tally_c  date_s proceeds tally_q2\n",
       "60 59    44880 4125.34 500   950    187048.8 44960  3339.90  2750    \n",
       "61 60    44880 3679.44 500  1450    190728.2 44960  3127.35  2250    \n",
       "62 61    44880 3171.79 500  1950    193900.0 44960  3094.90  1750    \n",
       "63 62    44895  551.39 100  2050    194451.4 44960   618.98  1650    \n",
       "64 63    44895  320.81  50  2100    194772.2 44960   309.49  1600    \n",
       "65 64    44895  640.57 100  2200    195412.8 44960   618.98  1500    \n",
       "66 65    44895 1113.15 150  2350    196525.9 44960   938.20  1350    \n",
       "67 66    44895  365.40  50  2400    196891.3 44960   333.99  1300    \n",
       "68 67    44895  742.10 100  2500    197633.4 44960   667.98  1200    \n",
       "69 68    44895  652.92 100  2600    198286.3 44960   625.47  1100    \n",
       "70 69    44895  499.59 100  2700    198785.9 44960   585.47  1000    \n",
       "71 70    44819 1989.98 200   200    200775.9 44953  1102.42   800    \n",
       "72 71    44819  503.42  50   250    201279.3 44953   275.61   750    \n",
       "73 72    44880 4068.90 500   750    205348.2 44953  2756.06   250    \n",
       "74 73    44895 1827.03 250  1000    207175.2 44953  1378.03     0    \n",
       "   tally_c2    \n",
       "60 2.012649e+04\n",
       "61 1.644705e+04\n",
       "62 1.327526e+04\n",
       "63 1.272387e+04\n",
       "64 1.240306e+04\n",
       "65 1.176249e+04\n",
       "66 1.064934e+04\n",
       "67 1.028394e+04\n",
       "68 9.541840e+03\n",
       "69 8.888920e+03\n",
       "70 8.389330e+03\n",
       "71 6.399350e+03\n",
       "72 5.895930e+03\n",
       "73 1.827030e+03\n",
       "74 3.865350e-12"
      ]
     },
     "metadata": {},
     "output_type": "display_data"
    }
   ],
   "source": [
    "df <- read.csv(\"TestAllocate.csv\", header = TRUE, sep = \",\")\n",
    "ct <<- 1\n",
    "ct2 <<- 2\n",
    "\n",
    "sales <- c(1000,1000,1000,100,900,3000,6000,1000,1850,3000,3000,\n",
    "           500,2000,3000,500,2000,810,1000,190,3000,1000,1100)\n",
    "length(sales)\n",
    "\n",
    "for(i in 1:length(sales)-1) {\n",
    "    mod_df <- inter(df, sales[ct], ct)\n",
    "    # okay ... prints 22 times the length of sales \n",
    "    \n",
    "    #print(mod_df)\n",
    "    ct <<- ct + 1\n",
    "    # dont need the following code\n",
    "    # df <- df[complete.cases(df), ]\n",
    "    # ct <- ct + 1\n",
    "    \n",
    "    ct2 <- i + 1\n",
    "    }    \n",
    "ct\n",
    "ct2\n",
    "tail(mod_df,15)"
   ]
  },
  {
   "cell_type": "code",
   "execution_count": null,
   "id": "bd31bd4c-a159-4bbc-b874-6384bfc4c6b5",
   "metadata": {},
   "outputs": [],
   "source": []
  },
  {
   "cell_type": "code",
   "execution_count": 11,
   "id": "def8201b-3bcc-45a4-b5f1-2c5c73b52612",
   "metadata": {},
   "outputs": [
    {
     "data": {
      "text/html": [
       "36950"
      ],
      "text/latex": [
       "36950"
      ],
      "text/markdown": [
       "36950"
      ],
      "text/plain": [
       "[1] 36950"
      ]
     },
     "metadata": {},
     "output_type": "display_data"
    }
   ],
   "source": [
    "\n",
    "sales <- c(1000,1000,1000,100,900,3000,6000,1000,1850,3000,\n",
    "           3000,500,2000,3000,500,2000,810,1000,190,3000,1000,1100)\n",
    "\n",
    "ct <- 0\n",
    "\n",
    "for(i in 1:length(sales)) {\n",
    "    #tally sales\n",
    "    ct <<- ct + sales[i]\n",
    "    }    \n",
    "ct\n",
    "\n"
   ]
  },
  {
   "cell_type": "code",
   "execution_count": null,
   "id": "4c810b0a-0213-4baa-9815-ec70f1687b16",
   "metadata": {},
   "outputs": [],
   "source": []
  },
  {
   "cell_type": "code",
   "execution_count": 12,
   "id": "2e313289-f461-49a5-9f31-69b213313b91",
   "metadata": {},
   "outputs": [
    {
     "data": {
      "text/html": [
       "22"
      ],
      "text/latex": [
       "22"
      ],
      "text/markdown": [
       "22"
      ],
      "text/plain": [
       "[1] 22"
      ]
     },
     "metadata": {},
     "output_type": "display_data"
    },
    {
     "name": "stdout",
     "output_type": "stream",
     "text": [
      " num [1:22] 1000 1000 1000 100 900 3000 6000 1000 1850 3000 ...\n"
     ]
    },
    {
     "data": {
      "text/html": [
       "36950"
      ],
      "text/latex": [
       "36950"
      ],
      "text/markdown": [
       "36950"
      ],
      "text/plain": [
       "[1] 36950"
      ]
     },
     "metadata": {},
     "output_type": "display_data"
    }
   ],
   "source": [
    "# This demonstrates preventing the loop exceeding the index that creates errors\n",
    "\n",
    "df <- read.csv(\"TestAllocate.csv\", header = TRUE, sep = \",\")\n",
    "\n",
    "ct <- 0\n",
    "\n",
    "sales <- c(1000,1000,1000,100,900,3000,6000,1000,1850,\n",
    "           3000,3000,500,2000,3000,500,2000,810,1000,190,3000,1000,1100)\n",
    "\n",
    "length(sales)\n",
    "str(sales)\n",
    "\n",
    "start_row <- 1\n",
    "\n",
    "for(i in start_row:nrow(df)) {\n",
    "        \n",
    "    if(df[i, 'quan'] <= sales[i])  {\n",
    "        temp <- df[i, 'quan'] \n",
    "        df[i,'quan'] <- temp\n",
    "        ct <<- ct + sales[i]\n",
    "       # print(paste0(\"ct is \", ct))\n",
    "    } else {\n",
    "        ct <<- ct + sales[i]\n",
    "        # print(paste0(\"ct is \", ct))\n",
    "        }\n",
    "    \n",
    "    # To prevent going past index by 1 \n",
    "    start_row <- start_row + 1\n",
    "    if(start_row > length(sales) ) {\n",
    "        break\n",
    "    }\n",
    " }\n",
    " \n",
    "#tally of ct\n",
    "ct"
   ]
  },
  {
   "cell_type": "code",
   "execution_count": 13,
   "id": "24698746-04e2-413f-8903-f4472661b1a2",
   "metadata": {},
   "outputs": [
    {
     "data": {
      "text/html": [
       "22"
      ],
      "text/latex": [
       "22"
      ],
      "text/markdown": [
       "22"
      ],
      "text/plain": [
       "[1] 22"
      ]
     },
     "metadata": {},
     "output_type": "display_data"
    },
    {
     "name": "stdout",
     "output_type": "stream",
     "text": [
      "[1] \"value of temp is 100\"\n",
      "[1] 1000\n",
      "[1] \"count is: 1\"\n",
      "[1] \"value of temp is 400\"\n",
      "[1] 1000\n",
      "[1] \"count is: 2\"\n",
      "[1] \"value of temp is 400\"\n",
      "[1] 1000\n",
      "[1] \"count is: 3\"\n",
      "[1] \"value of temp is 100\"\n",
      "[1] 100\n",
      "[1] \"count is: 4\"\n",
      "[1] \"value of temp is 100\"\n",
      "[1] 900\n",
      "[1] \"count is: 5\"\n",
      "[1] \"value of temp is 100\"\n",
      "[1] 3000\n",
      "[1] \"count is: 6\"\n",
      "[1] \"value of temp is 100\"\n",
      "[1] 6000\n",
      "[1] \"count is: 7\"\n",
      "[1] \"value of temp is 400\"\n",
      "[1] 1000\n",
      "[1] \"count is: 8\"\n",
      "[1] \"value of temp is 400\"\n",
      "[1] 1850\n",
      "[1] \"count is: 9\"\n",
      "[1] \"value of temp is 190\"\n",
      "[1] 3000\n",
      "[1] \"count is: 10\"\n",
      "[1] \"The tally is :10\"\n"
     ]
    },
    {
     "data": {
      "text/html": [
       "10"
      ],
      "text/latex": [
       "10"
      ],
      "text/markdown": [
       "10"
      ],
      "text/plain": [
       "[1] 10"
      ]
     },
     "metadata": {},
     "output_type": "display_data"
    },
    {
     "data": {
      "text/html": [
       "<table class=\"dataframe\">\n",
       "<caption>A data.frame: 3 × 10</caption>\n",
       "<thead>\n",
       "\t<tr><th></th><th scope=col>index</th><th scope=col>date</th><th scope=col>cost</th><th scope=col>quan</th><th scope=col>tally_q</th><th scope=col>tally_c</th><th scope=col>date_s</th><th scope=col>proceeds</th><th scope=col>tally_q2</th><th scope=col>tally_c2</th></tr>\n",
       "\t<tr><th></th><th scope=col>&lt;int&gt;</th><th scope=col>&lt;int&gt;</th><th scope=col>&lt;dbl&gt;</th><th scope=col>&lt;dbl&gt;</th><th scope=col>&lt;int&gt;</th><th scope=col>&lt;dbl&gt;</th><th scope=col>&lt;int&gt;</th><th scope=col>&lt;dbl&gt;</th><th scope=col>&lt;int&gt;</th><th scope=col>&lt;dbl&gt;</th></tr>\n",
       "</thead>\n",
       "<tbody>\n",
       "\t<tr><th scope=row>1</th><td>1</td><td>44988</td><td> 618.08</td><td>110</td><td>100</td><td> 618.08</td><td>45079</td><td> 453.98</td><td>36850</td><td>206557.2</td></tr>\n",
       "\t<tr><th scope=row>2</th><td>2</td><td>44988</td><td>2422.31</td><td>410</td><td>500</td><td>3040.39</td><td>45079</td><td>1815.93</td><td>36450</td><td>204134.9</td></tr>\n",
       "\t<tr><th scope=row>3</th><td>3</td><td>44988</td><td>2298.31</td><td>410</td><td>900</td><td>5338.70</td><td>45079</td><td>1815.93</td><td>36050</td><td>201836.5</td></tr>\n",
       "</tbody>\n",
       "</table>\n"
      ],
      "text/latex": [
       "A data.frame: 3 × 10\n",
       "\\begin{tabular}{r|llllllllll}\n",
       "  & index & date & cost & quan & tally\\_q & tally\\_c & date\\_s & proceeds & tally\\_q2 & tally\\_c2\\\\\n",
       "  & <int> & <int> & <dbl> & <dbl> & <int> & <dbl> & <int> & <dbl> & <int> & <dbl>\\\\\n",
       "\\hline\n",
       "\t1 & 1 & 44988 &  618.08 & 110 & 100 &  618.08 & 45079 &  453.98 & 36850 & 206557.2\\\\\n",
       "\t2 & 2 & 44988 & 2422.31 & 410 & 500 & 3040.39 & 45079 & 1815.93 & 36450 & 204134.9\\\\\n",
       "\t3 & 3 & 44988 & 2298.31 & 410 & 900 & 5338.70 & 45079 & 1815.93 & 36050 & 201836.5\\\\\n",
       "\\end{tabular}\n"
      ],
      "text/markdown": [
       "\n",
       "A data.frame: 3 × 10\n",
       "\n",
       "| <!--/--> | index &lt;int&gt; | date &lt;int&gt; | cost &lt;dbl&gt; | quan &lt;dbl&gt; | tally_q &lt;int&gt; | tally_c &lt;dbl&gt; | date_s &lt;int&gt; | proceeds &lt;dbl&gt; | tally_q2 &lt;int&gt; | tally_c2 &lt;dbl&gt; |\n",
       "|---|---|---|---|---|---|---|---|---|---|---|\n",
       "| 1 | 1 | 44988 |  618.08 | 110 | 100 |  618.08 | 45079 |  453.98 | 36850 | 206557.2 |\n",
       "| 2 | 2 | 44988 | 2422.31 | 410 | 500 | 3040.39 | 45079 | 1815.93 | 36450 | 204134.9 |\n",
       "| 3 | 3 | 44988 | 2298.31 | 410 | 900 | 5338.70 | 45079 | 1815.93 | 36050 | 201836.5 |\n",
       "\n"
      ],
      "text/plain": [
       "  index date  cost    quan tally_q tally_c date_s proceeds tally_q2 tally_c2\n",
       "1 1     44988  618.08 110  100      618.08 45079   453.98  36850    206557.2\n",
       "2 2     44988 2422.31 410  500     3040.39 45079  1815.93  36450    204134.9\n",
       "3 3     44988 2298.31 410  900     5338.70 45079  1815.93  36050    201836.5"
      ]
     },
     "metadata": {},
     "output_type": "display_data"
    }
   ],
   "source": [
    "# demonstrates looping 10 times\n",
    "\n",
    "sales <- c(1000,1000,1000,100,900,3000,6000,1000,1850,3000,3000,\n",
    "           500,2000,3000,500,2000,810,1000,190,3000,1000,1100)\n",
    "\n",
    "ct <- 0\n",
    "\n",
    "length(sales)\n",
    "# str(sales)\n",
    "tally <- 0\n",
    "start_row <- 1\n",
    "\n",
    "for(i in 1:length(df))  { \n",
    "    \n",
    "    tally <- tally + 1 \n",
    "    \n",
    "    # demonstrate rplacing values in the df$quan for each item in sales vector\n",
    "    temp <- df[i, 'quan'] \n",
    "    # demonstrates the changes to quan\n",
    "    print(paste0(\"value of temp is \", temp))\n",
    "    # demonstrates looping through the sales vector\n",
    "    print(sales[i])\n",
    "    \n",
    "#   if(cumulative_sum >= test_value) {         \n",
    "    if(temp <= sales[i])  {\n",
    "        # add 10 to each existing quan value\n",
    "        df[i,'quan'] <- temp + 10\n",
    "        ct <<- ct + 1\n",
    "    } \n",
    "    else {\n",
    "      ct <<- ct + 1\n",
    "        }\n",
    "    start_row <- start_row + 1\n",
    "    print(paste0(\"count is: \", ct))\n",
    "}\n",
    " \n",
    "print(paste0(\"The tally is :\", tally))\n",
    "ct\n",
    "head(df,3)"
   ]
  },
  {
   "cell_type": "code",
   "execution_count": null,
   "id": "5e3a0f9b-efd1-4c27-b2e8-2303687708ee",
   "metadata": {},
   "outputs": [],
   "source": []
  },
  {
   "cell_type": "code",
   "execution_count": 14,
   "id": "8c50a684-f37b-4d6a-9067-804031e37591",
   "metadata": {},
   "outputs": [
    {
     "name": "stdout",
     "output_type": "stream",
     "text": [
      "[1] 100\n",
      "[1] 1\n",
      "[1] 400\n",
      "[1] 2\n",
      "[1] 400\n",
      "[1] 3\n",
      "[1] 100\n",
      "[1] 4\n",
      "[1] 100\n",
      "[1] 5\n",
      "[1] 100\n",
      "[1] 6\n",
      "[1] 100\n",
      "[1] 7\n",
      "[1] 400\n",
      "[1] 8\n",
      "[1] 400\n",
      "[1] 9\n",
      "[1] 190\n",
      "[1] 10\n",
      "[1] 1000\n",
      "[1] 11\n",
      "[1] 810\n",
      "[1] 1000\n",
      "[1] 13\n",
      "[1] 1000\n",
      "[1] 14\n",
      "[1] 500\n",
      "[1] 15\n",
      "[1] 190\n",
      "[1] 16\n",
      "[1] 810\n",
      "[1] 17\n",
      "[1] 100\n",
      "[1] 18\n",
      "[1] 400\n",
      "[1] 1000\n",
      "[1] 20\n",
      "[1] 500\n",
      "[1] 21\n",
      "[1] 3000\n"
     ]
    },
    {
     "data": {
      "text/html": [
       "22"
      ],
      "text/latex": [
       "22"
      ],
      "text/markdown": [
       "22"
      ],
      "text/plain": [
       "[1] 22"
      ]
     },
     "metadata": {},
     "output_type": "display_data"
    },
    {
     "data": {
      "text/html": [
       "73"
      ],
      "text/latex": [
       "73"
      ],
      "text/markdown": [
       "73"
      ],
      "text/plain": [
       "[1] 73"
      ]
     },
     "metadata": {},
     "output_type": "display_data"
    },
    {
     "data": {
      "text/html": [
       "<table class=\"dataframe\">\n",
       "<caption>A data.frame: 4 × 10</caption>\n",
       "<thead>\n",
       "\t<tr><th></th><th scope=col>index</th><th scope=col>date</th><th scope=col>cost</th><th scope=col>quan</th><th scope=col>tally_q</th><th scope=col>tally_c</th><th scope=col>date_s</th><th scope=col>proceeds</th><th scope=col>tally_q2</th><th scope=col>tally_c2</th></tr>\n",
       "\t<tr><th></th><th scope=col>&lt;int&gt;</th><th scope=col>&lt;int&gt;</th><th scope=col>&lt;dbl&gt;</th><th scope=col>&lt;dbl&gt;</th><th scope=col>&lt;int&gt;</th><th scope=col>&lt;dbl&gt;</th><th scope=col>&lt;int&gt;</th><th scope=col>&lt;dbl&gt;</th><th scope=col>&lt;int&gt;</th><th scope=col>&lt;dbl&gt;</th></tr>\n",
       "</thead>\n",
       "<tbody>\n",
       "\t<tr><th scope=row>1</th><td>1</td><td>44988</td><td> 618.08</td><td>100</td><td> 100</td><td> 618.08</td><td>45079</td><td> 453.98</td><td>36850</td><td>206557.2</td></tr>\n",
       "\t<tr><th scope=row>2</th><td>2</td><td>44988</td><td>2422.31</td><td>400</td><td> 500</td><td>3040.39</td><td>45079</td><td>1815.93</td><td>36450</td><td>204134.9</td></tr>\n",
       "\t<tr><th scope=row>3</th><td>3</td><td>44988</td><td>2298.31</td><td>400</td><td> 900</td><td>5338.70</td><td>45079</td><td>1815.93</td><td>36050</td><td>201836.5</td></tr>\n",
       "\t<tr><th scope=row>4</th><td>4</td><td>44988</td><td> 605.17</td><td>100</td><td>1000</td><td>5943.87</td><td>45079</td><td> 453.98</td><td>35950</td><td>201231.4</td></tr>\n",
       "</tbody>\n",
       "</table>\n"
      ],
      "text/latex": [
       "A data.frame: 4 × 10\n",
       "\\begin{tabular}{r|llllllllll}\n",
       "  & index & date & cost & quan & tally\\_q & tally\\_c & date\\_s & proceeds & tally\\_q2 & tally\\_c2\\\\\n",
       "  & <int> & <int> & <dbl> & <dbl> & <int> & <dbl> & <int> & <dbl> & <int> & <dbl>\\\\\n",
       "\\hline\n",
       "\t1 & 1 & 44988 &  618.08 & 100 &  100 &  618.08 & 45079 &  453.98 & 36850 & 206557.2\\\\\n",
       "\t2 & 2 & 44988 & 2422.31 & 400 &  500 & 3040.39 & 45079 & 1815.93 & 36450 & 204134.9\\\\\n",
       "\t3 & 3 & 44988 & 2298.31 & 400 &  900 & 5338.70 & 45079 & 1815.93 & 36050 & 201836.5\\\\\n",
       "\t4 & 4 & 44988 &  605.17 & 100 & 1000 & 5943.87 & 45079 &  453.98 & 35950 & 201231.4\\\\\n",
       "\\end{tabular}\n"
      ],
      "text/markdown": [
       "\n",
       "A data.frame: 4 × 10\n",
       "\n",
       "| <!--/--> | index &lt;int&gt; | date &lt;int&gt; | cost &lt;dbl&gt; | quan &lt;dbl&gt; | tally_q &lt;int&gt; | tally_c &lt;dbl&gt; | date_s &lt;int&gt; | proceeds &lt;dbl&gt; | tally_q2 &lt;int&gt; | tally_c2 &lt;dbl&gt; |\n",
       "|---|---|---|---|---|---|---|---|---|---|---|\n",
       "| 1 | 1 | 44988 |  618.08 | 100 |  100 |  618.08 | 45079 |  453.98 | 36850 | 206557.2 |\n",
       "| 2 | 2 | 44988 | 2422.31 | 400 |  500 | 3040.39 | 45079 | 1815.93 | 36450 | 204134.9 |\n",
       "| 3 | 3 | 44988 | 2298.31 | 400 |  900 | 5338.70 | 45079 | 1815.93 | 36050 | 201836.5 |\n",
       "| 4 | 4 | 44988 |  605.17 | 100 | 1000 | 5943.87 | 45079 |  453.98 | 35950 | 201231.4 |\n",
       "\n"
      ],
      "text/plain": [
       "  index date  cost    quan tally_q tally_c date_s proceeds tally_q2 tally_c2\n",
       "1 1     44988  618.08 100   100     618.08 45079   453.98  36850    206557.2\n",
       "2 2     44988 2422.31 400   500    3040.39 45079  1815.93  36450    204134.9\n",
       "3 3     44988 2298.31 400   900    5338.70 45079  1815.93  36050    201836.5\n",
       "4 4     44988  605.17 100  1000    5943.87 45079   453.98  35950    201231.4"
      ]
     },
     "metadata": {},
     "output_type": "display_data"
    }
   ],
   "source": [
    "# No errors, but nothing happened to the df\n",
    "\n",
    "df <- read.csv(\"TestAllocate.csv\", header = TRUE, sep = \",\")\n",
    "\n",
    "cumulative_sum <- 0\n",
    "ct <<- 0\n",
    "start_row <- 1\n",
    "\n",
    "#Iterate over the sales values\n",
    "for(value in sales) {\n",
    "    ct <<- ct + 1\n",
    "    # Iterate over the rows\n",
    "    for(i in start_row:nrow(df)) {\n",
    "        cumulative_sum <- 0\n",
    "        cumulative_sum <- cumulative_sum + df[ct, 'quan']\n",
    "        print(cumulative_sum)\n",
    "        \n",
    "        # check if the cumulative sum equals the test value in sales[i], if so, do nada\n",
    "        if(cumulative_sum <= sales[i]) {\n",
    "            temp <- df[i, 'quan']\n",
    "            df[i, 'quan'] <- temp \n",
    "            start_row <- i + 1\n",
    "            print(ct)\n",
    "            break\n",
    "        }\n",
    "        # Check if the cumulative sum exceeds the test value\n",
    "         if(cumulative_sum >= sales[i]) {        \n",
    "    \n",
    "            # Calculate the excess and the adjusted quantity\n",
    "            excess <- cumulative_sum - test_value         # 900 - 700 = 200\n",
    "            adjusted_quantity <- df[i, 'quan'] - excess   # deduct 200 from existing value \n",
    "\n",
    "            # establish the ratio - need for row 1 and row 2   \n",
    "            denom <- df[i, 'quan']    # 400    \n",
    "            numer <- adjusted_quantity\n",
    "\n",
    "            # Update the quantity in the current row\n",
    "            df[i, 'quan'] <- adjusted_quantity            # assign new value to quan\n",
    "\n",
    "            # Create a new row with the excess quantity (Do it here and not below the changes)\n",
    "            new_row <- df[i, ]\n",
    "            new_row['quan'] <- excess  \n",
    "\n",
    "            start_row <- i + 1\n",
    "            break\n",
    "        }\n",
    "      }\n",
    "    }\n",
    "ct\n",
    "nrow(df)\n",
    "head(df,4)"
   ]
  },
  {
   "cell_type": "code",
   "execution_count": null,
   "id": "15b01323-0c37-41e0-89e0-99b50734a5c4",
   "metadata": {},
   "outputs": [],
   "source": []
  },
  {
   "cell_type": "code",
   "execution_count": 15,
   "id": "eae9071f-c657-40f5-9a7e-df24cba447d9",
   "metadata": {},
   "outputs": [
    {
     "ename": "ERROR",
     "evalue": "Error in if (df[i, \"var\"] == value) {: argument is of length zero\n",
     "output_type": "error",
     "traceback": [
      "Error in if (df[i, \"var\"] == value) {: argument is of length zero\nTraceback:\n"
     ]
    }
   ],
   "source": [
    "# Assuming 'vec' is your vector and 'df' is your dataframe\n",
    "vec <- sales\n",
    "start_row <- 1\n",
    "for(value in vec) {\n",
    "  for(i in start_row:nrow(df)) {\n",
    "    if(df[i, 'var'] == value) {  # Replace 'var' with your actual column name\n",
    "      # Execute your code here\n",
    "      print(paste(\"Match found for\", value, \"at row\", i))\n",
    "      start_row <- i + 1\n",
    "      break\n",
    "    }\n",
    "  }\n",
    "}\n"
   ]
  },
  {
   "cell_type": "code",
   "execution_count": null,
   "id": "82419676-d13b-44f6-bf51-01abfdc4fbd2",
   "metadata": {},
   "outputs": [],
   "source": []
  },
  {
   "cell_type": "code",
   "execution_count": null,
   "id": "513a1030-6817-4480-bfe6-cf6b8bfe829f",
   "metadata": {},
   "outputs": [],
   "source": [
    "stopper\n"
   ]
  },
  {
   "cell_type": "markdown",
   "id": "3589a5b1-95a8-4d5d-9695-ab16fea262c8",
   "metadata": {},
   "source": []
  },
  {
   "cell_type": "markdown",
   "id": "6e8c1387-138b-4c0c-ad9d-b4f32ff96103",
   "metadata": {},
   "source": [
    "## <font color = lime> Keeper Below: Part 2\n",
    "    \n",
    "<div style=\"margin-left:40px;\">\n",
    "Allocate the other data in the matched row\n",
    "</div> \n"
   ]
  },
  {
   "cell_type": "code",
   "execution_count": null,
   "id": "682d44de-a852-44b9-9724-ce9019537aaf",
   "metadata": {},
   "outputs": [],
   "source": []
  },
  {
   "cell_type": "code",
   "execution_count": 16,
   "id": "828cbd30-5186-4927-8685-06377127b035",
   "metadata": {},
   "outputs": [
    {
     "data": {
      "text/html": [
       "4"
      ],
      "text/latex": [
       "4"
      ],
      "text/markdown": [
       "4"
      ],
      "text/plain": [
       "[1] 4"
      ]
     },
     "metadata": {},
     "output_type": "display_data"
    },
    {
     "data": {
      "text/html": [
       "0.875"
      ],
      "text/latex": [
       "0.875"
      ],
      "text/markdown": [
       "0.875"
      ],
      "text/plain": [
       "[1] 0.875"
      ]
     },
     "metadata": {},
     "output_type": "display_data"
    },
    {
     "data": {
      "text/html": [
       "<table class=\"dataframe\">\n",
       "<caption>A data.frame: 10 × 10</caption>\n",
       "<thead>\n",
       "\t<tr><th></th><th scope=col>index</th><th scope=col>date</th><th scope=col>cost</th><th scope=col>quan</th><th scope=col>tally_q</th><th scope=col>tally_c</th><th scope=col>date_s</th><th scope=col>proceeds</th><th scope=col>tally_q2</th><th scope=col>tally_c2</th></tr>\n",
       "\t<tr><th></th><th scope=col>&lt;int&gt;</th><th scope=col>&lt;int&gt;</th><th scope=col>&lt;dbl&gt;</th><th scope=col>&lt;dbl&gt;</th><th scope=col>&lt;dbl&gt;</th><th scope=col>&lt;dbl&gt;</th><th scope=col>&lt;int&gt;</th><th scope=col>&lt;dbl&gt;</th><th scope=col>&lt;dbl&gt;</th><th scope=col>&lt;dbl&gt;</th></tr>\n",
       "</thead>\n",
       "<tbody>\n",
       "\t<tr><th scope=row>1</th><td>1</td><td>44988</td><td> 618.080</td><td>100</td><td> 100</td><td>  618.080</td><td>45079</td><td> 453.980</td><td>36850</td><td>206557.2</td></tr>\n",
       "\t<tr><th scope=row>2</th><td>2</td><td>44988</td><td>2422.310</td><td>400</td><td> 500</td><td> 3040.390</td><td>45079</td><td>1815.930</td><td>36450</td><td>204134.9</td></tr>\n",
       "\t<tr><th scope=row>3</th><td>3</td><td>44988</td><td>2011.021</td><td>350</td><td> 550</td><td> 5051.411</td><td>45079</td><td>1588.939</td><td>36100</td><td>202123.8</td></tr>\n",
       "\t<tr><th scope=row>4</th><td>3</td><td>44988</td><td>2011.021</td><td> 50</td><td> 900</td><td> 7062.432</td><td>45079</td><td>1588.939</td><td>35750</td><td>201836.5</td></tr>\n",
       "\t<tr><th scope=row>5</th><td>4</td><td>44988</td><td> 605.170</td><td>100</td><td>1000</td><td> 5943.870</td><td>45079</td><td> 453.980</td><td>35950</td><td>201231.4</td></tr>\n",
       "\t<tr><th scope=row>6</th><td>5</td><td>45043</td><td> 544.500</td><td>100</td><td>1100</td><td> 6488.370</td><td>45079</td><td> 453.980</td><td>35850</td><td>200686.9</td></tr>\n",
       "\t<tr><th scope=row>7</th><td>6</td><td>44988</td><td> 562.530</td><td>100</td><td>1200</td><td> 7050.900</td><td>45076</td><td> 458.260</td><td>35750</td><td>200124.3</td></tr>\n",
       "\t<tr><th scope=row>8</th><td>7</td><td>44988</td><td> 575.440</td><td>100</td><td>1300</td><td> 7626.340</td><td>45076</td><td> 458.260</td><td>35650</td><td>199548.9</td></tr>\n",
       "\t<tr><th scope=row>9</th><td>8</td><td>44988</td><td>2251.760</td><td>400</td><td>1700</td><td> 9878.100</td><td>45076</td><td>1833.050</td><td>35250</td><td>197297.1</td></tr>\n",
       "\t<tr><th scope=row>10</th><td>9</td><td>44988</td><td>2127.750</td><td>400</td><td>2100</td><td>12005.850</td><td>45076</td><td>1833.040</td><td>34850</td><td>195169.4</td></tr>\n",
       "</tbody>\n",
       "</table>\n"
      ],
      "text/latex": [
       "A data.frame: 10 × 10\n",
       "\\begin{tabular}{r|llllllllll}\n",
       "  & index & date & cost & quan & tally\\_q & tally\\_c & date\\_s & proceeds & tally\\_q2 & tally\\_c2\\\\\n",
       "  & <int> & <int> & <dbl> & <dbl> & <dbl> & <dbl> & <int> & <dbl> & <dbl> & <dbl>\\\\\n",
       "\\hline\n",
       "\t1 & 1 & 44988 &  618.080 & 100 &  100 &   618.080 & 45079 &  453.980 & 36850 & 206557.2\\\\\n",
       "\t2 & 2 & 44988 & 2422.310 & 400 &  500 &  3040.390 & 45079 & 1815.930 & 36450 & 204134.9\\\\\n",
       "\t3 & 3 & 44988 & 2011.021 & 350 &  550 &  5051.411 & 45079 & 1588.939 & 36100 & 202123.8\\\\\n",
       "\t4 & 3 & 44988 & 2011.021 &  50 &  900 &  7062.432 & 45079 & 1588.939 & 35750 & 201836.5\\\\\n",
       "\t5 & 4 & 44988 &  605.170 & 100 & 1000 &  5943.870 & 45079 &  453.980 & 35950 & 201231.4\\\\\n",
       "\t6 & 5 & 45043 &  544.500 & 100 & 1100 &  6488.370 & 45079 &  453.980 & 35850 & 200686.9\\\\\n",
       "\t7 & 6 & 44988 &  562.530 & 100 & 1200 &  7050.900 & 45076 &  458.260 & 35750 & 200124.3\\\\\n",
       "\t8 & 7 & 44988 &  575.440 & 100 & 1300 &  7626.340 & 45076 &  458.260 & 35650 & 199548.9\\\\\n",
       "\t9 & 8 & 44988 & 2251.760 & 400 & 1700 &  9878.100 & 45076 & 1833.050 & 35250 & 197297.1\\\\\n",
       "\t10 & 9 & 44988 & 2127.750 & 400 & 2100 & 12005.850 & 45076 & 1833.040 & 34850 & 195169.4\\\\\n",
       "\\end{tabular}\n"
      ],
      "text/markdown": [
       "\n",
       "A data.frame: 10 × 10\n",
       "\n",
       "| <!--/--> | index &lt;int&gt; | date &lt;int&gt; | cost &lt;dbl&gt; | quan &lt;dbl&gt; | tally_q &lt;dbl&gt; | tally_c &lt;dbl&gt; | date_s &lt;int&gt; | proceeds &lt;dbl&gt; | tally_q2 &lt;dbl&gt; | tally_c2 &lt;dbl&gt; |\n",
       "|---|---|---|---|---|---|---|---|---|---|---|\n",
       "| 1 | 1 | 44988 |  618.080 | 100 |  100 |   618.080 | 45079 |  453.980 | 36850 | 206557.2 |\n",
       "| 2 | 2 | 44988 | 2422.310 | 400 |  500 |  3040.390 | 45079 | 1815.930 | 36450 | 204134.9 |\n",
       "| 3 | 3 | 44988 | 2011.021 | 350 |  550 |  5051.411 | 45079 | 1588.939 | 36100 | 202123.8 |\n",
       "| 4 | 3 | 44988 | 2011.021 |  50 |  900 |  7062.432 | 45079 | 1588.939 | 35750 | 201836.5 |\n",
       "| 5 | 4 | 44988 |  605.170 | 100 | 1000 |  5943.870 | 45079 |  453.980 | 35950 | 201231.4 |\n",
       "| 6 | 5 | 45043 |  544.500 | 100 | 1100 |  6488.370 | 45079 |  453.980 | 35850 | 200686.9 |\n",
       "| 7 | 6 | 44988 |  562.530 | 100 | 1200 |  7050.900 | 45076 |  458.260 | 35750 | 200124.3 |\n",
       "| 8 | 7 | 44988 |  575.440 | 100 | 1300 |  7626.340 | 45076 |  458.260 | 35650 | 199548.9 |\n",
       "| 9 | 8 | 44988 | 2251.760 | 400 | 1700 |  9878.100 | 45076 | 1833.050 | 35250 | 197297.1 |\n",
       "| 10 | 9 | 44988 | 2127.750 | 400 | 2100 | 12005.850 | 45076 | 1833.040 | 34850 | 195169.4 |\n",
       "\n"
      ],
      "text/plain": [
       "   index date  cost     quan tally_q tally_c   date_s proceeds tally_q2\n",
       "1  1     44988  618.080 100   100      618.080 45079   453.980 36850   \n",
       "2  2     44988 2422.310 400   500     3040.390 45079  1815.930 36450   \n",
       "3  3     44988 2011.021 350   550     5051.411 45079  1588.939 36100   \n",
       "4  3     44988 2011.021  50   900     7062.432 45079  1588.939 35750   \n",
       "5  4     44988  605.170 100  1000     5943.870 45079   453.980 35950   \n",
       "6  5     45043  544.500 100  1100     6488.370 45079   453.980 35850   \n",
       "7  6     44988  562.530 100  1200     7050.900 45076   458.260 35750   \n",
       "8  7     44988  575.440 100  1300     7626.340 45076   458.260 35650   \n",
       "9  8     44988 2251.760 400  1700     9878.100 45076  1833.050 35250   \n",
       "10 9     44988 2127.750 400  2100    12005.850 45076  1833.040 34850   \n",
       "   tally_c2\n",
       "1  206557.2\n",
       "2  204134.9\n",
       "3  202123.8\n",
       "4  201836.5\n",
       "5  201231.4\n",
       "6  200686.9\n",
       "7  200124.3\n",
       "8  199548.9\n",
       "9  197297.1\n",
       "10 195169.4"
      ]
     },
     "metadata": {},
     "output_type": "display_data"
    }
   ],
   "source": [
    "# The function allocated the quan in the row of the match with test_value  = 850\n",
    "# Rows 3 and 4 modified / added new row for the allocation of quan \n",
    "\n",
    "\n",
    "df <- read.csv(\"TestAllocate.csv\", header = TRUE, sep = \",\")\n",
    "\n",
    "ct <<- 0\n",
    "test_value <- c(850)\n",
    "rat1 <<- 0\n",
    "\n",
    "# function to allocate values within a df\n",
    "inter <- function(df, test_value, ct) {\n",
    "     cumulative_sum <- 0\n",
    "      \n",
    "# Iterate over the rows\n",
    "  for(i in 1:nrow(df)) {\n",
    "      \n",
    "    cumulative_sum <- cumulative_sum + df[i, 'quan']\n",
    "    \n",
    "    # Check if the cumulative sum exceeds the test value\n",
    "    \n",
    "      \n",
    "    if(cumulative_sum >= test_value) {\n",
    "        \n",
    "      # Calculate the excess and the adjusted quantity\n",
    "      excess <- cumulative_sum - test_value         # 900 - 700 = 200\n",
    "      adjusted_quantity <- df[i, 'quan'] - excess   # deduct 200 from existing value \n",
    "       \n",
    "     # establish the ratio - need for row 1 and row 2   \n",
    "     denom <- df[i, 'quan']    # 400    \n",
    "     numer <- adjusted_quantity\n",
    "      \n",
    "      # Update the quantity in the current row\n",
    "      df[i, 'quan'] <- adjusted_quantity            # assign new value to quan\n",
    "        \n",
    "      # Create a new row with the excess quantity (Do it here and not below the changes)\n",
    "      new_row <- df[i, ]\n",
    "      new_row['quan'] <- excess \n",
    "      \n",
    "    \n",
    "    # update the tally_q (first row)\n",
    "      q1 <- df[i, 'tally_q'] - adjusted_quantity\n",
    "      df[i, 'tally_q'] <- q1\n",
    "        \n",
    "    \n",
    "   # first, establish a ratio to apply to variables in row 1, then allocate the variables\n",
    "       \n",
    "    # create the ratio\n",
    "    rat1 <<- numer / denom\n",
    "               \n",
    "    # apply ratio to variables in row 1\n",
    "    # cost var\n",
    "    c1 <- df[i, 'cost'] * rat1\n",
    "    df[i, 'cost'] <- c1  \n",
    "    #tally_c var\n",
    "    t_c <- df[i-1,'tally_c'] + c1\n",
    "    df[i, 'tally_c'] <- t_c\n",
    "    #proceeds var\n",
    "    p1 <- df[i, 'proceeds'] * rat1\n",
    "    df[i, 'proceeds'] <- p1\n",
    "    # t_q2 var\n",
    "    t_q2 <- df[i-1, 'tally_q2'] - adjusted_quantity\n",
    "    df[i, 'tally_q2'] <- t_q2\n",
    "    # t_c2 var\n",
    "    t_c2 <- df[i-1, 'tally_c2'] - c1\n",
    "    df[i, 'tally_c2'] <- t_c2\n",
    "        \n",
    "        \n",
    "    # Insert the new row into the dataframe immediately below the current row\n",
    "    df <- df %>% \n",
    "    add_row(.before = i+1, !!!new_row)\n",
    "    ct <<- i+1        \n",
    "\n",
    "#  PART 2\n",
    "        \n",
    "   # update the values in new row 2 \n",
    "        \n",
    "    # cost var\n",
    "    c2 <- df[ct, 'cost'] * rat1\n",
    "    df[ct, 'cost'] <- c2  \n",
    "    #tally_c var\n",
    "    t_c2 <- df[ct-1,'tally_c'] + c2\n",
    "    df[ct, 'tally_c'] <- t_c2\n",
    "    #proceeds var\n",
    "    p2 <- df[ct, 'proceeds'] * rat1\n",
    "    df[ct, 'proceeds'] <- p2\n",
    "      # t_q2 var\n",
    "    t_q22 <- df[ct-1, 'tally_q2'] - adjusted_quantity\n",
    "    df[ct, 'tally_q2'] <- t_q22\n",
    "    # t_c2 var\n",
    "    t_c22 <- df[i-1, 'tally_c2'] - c2\n",
    "    df[i, 'tally_c2'] <- t_c22      \n",
    "\n",
    "  # Break the loop and move to the next test value\n",
    "  break\n",
    "    \n",
    "    }\n",
    "    \n",
    "  }\n",
    "     return(df)\n",
    "}\n",
    "\n",
    "# make fct call\n",
    "\n",
    "mod_df <- inter(df, test_value, ct)\n",
    "\n",
    "# show the returned ct and ratio values\n",
    "ct\n",
    "rat1\n",
    "\n",
    "head(mod_df,10)\n",
    "\n"
   ]
  },
  {
   "cell_type": "code",
   "execution_count": null,
   "id": "3f4a0460-2f57-43cf-b039-5ea2a0e9d4aa",
   "metadata": {},
   "outputs": [],
   "source": []
  },
  {
   "cell_type": "markdown",
   "id": "83da2cc7-c97c-4918-bd1e-ca9c32fceb57",
   "metadata": {},
   "source": [
    "## <font color = lime> The Keeper! This works great! Not actual sales values\n",
    "    "
   ]
  },
  {
   "cell_type": "code",
   "execution_count": 32,
   "id": "848e921a-68d4-41bc-bc5c-75bade3225c3",
   "metadata": {},
   "outputs": [],
   "source": [
    "# Moving towards.  Creates a new df from the below the match / new rows \n",
    "#  and eliminates some rows to run the process again\n",
    "\n",
    "\n",
    "df <- read.csv(\"TestAllocate.csv\", header = TRUE, sep = \",\")\n",
    "df1 <- data.frame()\n",
    "\n",
    "ct <<- 0\n",
    "test_value <- c(850)\n",
    "rat1 <<- 0\n",
    "\n",
    "# function to allocate values within a df\n",
    "inter <- function(df, test_value, ct) {\n",
    "     cumulative_sum <- 0\n",
    "      \n",
    "# Iterate over the rows\n",
    "  for(i in 1:nrow(df)) {  \n",
    "      \n",
    "    cumulative_sum <- cumulative_sum + df[i, 'quan']\n",
    "    \n",
    "    # Check if the cumulative sum exceeds the test value\n",
    "    \n",
    "      \n",
    "    if(cumulative_sum >= test_value) {\n",
    "        \n",
    "      # Calculate the excess and the adjusted quantity\n",
    "      excess <- cumulative_sum - test_value         # 900 - 700 = 200\n",
    "      adjusted_quantity <- df[i, 'quan'] - excess   # deduct 200 from existing value \n",
    "       \n",
    "     # establish the ratio - need for row 1 and row 2   \n",
    "     denom <- df[i, 'quan']    # 400    \n",
    "     numer <- adjusted_quantity\n",
    "      \n",
    "      # Update the quantity in the current row\n",
    "      df[i, 'quan'] <- adjusted_quantity            # assign new value to quan\n",
    "        \n",
    "      # Create a new row with the excess quantity (Do it here and not below the changes)\n",
    "      new_row <- df[i, ]\n",
    "      new_row['quan'] <- excess \n",
    "      \n",
    "    \n",
    "    # update the tally_q (first row)\n",
    "      q1 <- df[i, 'tally_q'] - adjusted_quantity\n",
    "      df[i, 'tally_q'] <- q1\n",
    "        \n",
    "    \n",
    "   # first, establish a ratio to apply to variables in row 1, then allocate the variables\n",
    "       \n",
    "    # create the ratio\n",
    "    rat1 <<- numer / denom\n",
    "               \n",
    "    # apply ratio to variables in row 1\n",
    "    # cost var\n",
    "    c1 <- df[i, 'cost'] * rat1\n",
    "    df[i, 'cost'] <- c1  \n",
    "    #tally_c var\n",
    "    t_c <- df[i-1,'tally_c'] + c1\n",
    "    df[i, 'tally_c'] <- t_c\n",
    "    #proceeds var\n",
    "    p1 <- df[i, 'proceeds'] * rat1\n",
    "    df[i, 'proceeds'] <- p1\n",
    "    # t_q2 var\n",
    "    t_q2 <- df[i-1, 'tally_q2'] - adjusted_quantity\n",
    "    df[i, 'tally_q2'] <- t_q2\n",
    "    # t_c2 var\n",
    "    t_c2 <- df[i-1, 'tally_c2'] - c1\n",
    "    df[i, 'tally_c2'] <- t_c2\n",
    "        \n",
    "        \n",
    "    # Insert the new row into the dataframe immediately below the current row\n",
    "    df <- df %>% \n",
    "    add_row(.before = i+1, !!!new_row)\n",
    "    ct <<- i+1  \n",
    "    # Insert the new row into df1\n",
    "    df1 <<- df %>% \n",
    "    add_row(.before = i+1, !!!new_row)\n",
    "\n",
    "#  PART 2\n",
    "        \n",
    "   # update the values in new row 2 \n",
    "        \n",
    "    # cost var\n",
    "    c2 <- df[ct, 'cost'] * rat1\n",
    "    df[ct, 'cost'] <- c2  \n",
    "    #tally_c var\n",
    "#   t_c2 <- df[ct-1,'tally_c'] + c2\n",
    "    # Correction? \n",
    "    t_c2 <- df[ct,'tally_c'] + c2\n",
    "    df[ct, 'tally_c'] <- t_c2\n",
    "    #proceeds var\n",
    "    p2 <- df[ct, 'proceeds'] * rat1\n",
    "    df[ct, 'proceeds'] <- p2\n",
    "      # t_q2 var\n",
    "#t_q22 <- df[ct-1, 'tally_q2'] - adjusted_quantity    \n",
    "    # Correction ??\n",
    "    t_q22 <- df[ct, 'tally_q2'] - adjusted_quantity\n",
    "    df[ct, 'tally_q2'] <- t_q22\n",
    "    # t_c2 var\n",
    "#    t_c22 <- df[i-1, 'tally_c2'] - c2\n",
    "    # Correction ???\n",
    "    t_c22 <- df[i, 'tally_c2'] - c2\n",
    "    df[i, 'tally_c2'] <- t_c22 \n",
    "      \n",
    "     # build df1\n",
    "     df1 <<- rbind(df1, df[i,])\n",
    "\n",
    "  # Break the loop and move to the next test value\n",
    "  break\n",
    "    \n",
    "    }\n",
    "    \n",
    "  }\n",
    "     return(df)\n",
    "}"
   ]
  },
  {
   "cell_type": "code",
   "execution_count": 18,
   "id": "f3542816-8860-4c59-9037-9b6eb9871723",
   "metadata": {},
   "outputs": [
    {
     "ename": "ERROR",
     "evalue": "Error in eval(expr, envir, enclos): object 'stopper' not found\n",
     "output_type": "error",
     "traceback": [
      "Error in eval(expr, envir, enclos): object 'stopper' not found\nTraceback:\n"
     ]
    }
   ],
   "source": [
    "stopper\n"
   ]
  },
  {
   "cell_type": "markdown",
   "id": "24503f91-02ee-4463-b5c7-50234cd8643f",
   "metadata": {},
   "source": [
    "## <font color = lime> Real Test - Real Sales Values"
   ]
  },
  {
   "cell_type": "markdown",
   "id": "6016eb4c-50e5-4dac-84e2-06e0fa1dd725",
   "metadata": {},
   "source": [
    "### <font color = lime> Clean Function\n"
   ]
  },
  {
   "cell_type": "code",
   "execution_count": 54,
   "id": "cebfd3a0-a2df-4f55-b1b1-a5aaca2cabe4",
   "metadata": {},
   "outputs": [],
   "source": [
    "# clean df\n",
    "df <- read.csv(\"TestAllocate.csv\", header = TRUE, sep = \",\")\n",
    "# clean sales vector\n",
    "sales <- c(1000,1000,1000,100,900,3000,6000,1000,1850,3000,3000,\n",
    "           500,2000,3000,500,2000,810,1000,190,3000,1000,1100)"
   ]
  },
  {
   "cell_type": "code",
   "execution_count": 55,
   "id": "f2aaf8c2-4159-42e5-9d3a-d434ddd0e25b",
   "metadata": {},
   "outputs": [],
   "source": [
    "# S/B a clean funtion\n",
    "\n",
    "ct <<- 0\n",
    "rat1 <<- 0\n",
    "\n",
    "# function to allocate values within a df\n",
    "inter <- function(df, test_value, ct) {\n",
    "     cumulative_sum <- 0\n",
    "      \n",
    "# Iterate over the rows\n",
    "  for(i in 1:nrow(df)) {\n",
    "    \n",
    "   \n",
    "      \n",
    "    cumulative_sum <- cumulative_sum + df[i, 'quan']\n",
    "    \n",
    "    # Check if the cumulative sum exceeds the test value\n",
    "    \n",
    "      \n",
    "    if(cumulative_sum >= test_value) {\n",
    "        \n",
    "      # Calculate the excess and the adjusted quantity\n",
    "      excess <- cumulative_sum - test_value         # 900 - 700 = 200\n",
    "      adjusted_quantity <- df[i, 'quan'] - excess   # deduct 200 from existing value \n",
    "       \n",
    "     # establish the ratio - need for row 1 and row 2   \n",
    "     denom <- df[i, 'quan']    # 400    \n",
    "     numer <- adjusted_quantity\n",
    "      \n",
    "      # Update the quantity in the current row\n",
    "      df[i, 'quan'] <- adjusted_quantity            # assign new value to quan\n",
    "        \n",
    "      # Create a new row with the excess quantity (Do it here and not below the changes)\n",
    "      new_row <- df[i, ]\n",
    "      new_row['quan'] <- excess \n",
    "      \n",
    "    \n",
    "    # update the tally_q (first row)\n",
    "      q1 <- df[i, 'tally_q'] - adjusted_quantity\n",
    "      df[i, 'tally_q'] <- q1\n",
    "        \n",
    "        \n",
    "        \n",
    "    # Insert the new row into the dataframe immediately below the current row\n",
    "    # df <- df %>% \n",
    "    # add_row(.before = i+1, !!!new_row)\n",
    "    # ct <<- i+1  \n",
    "    # # Insert the new row into df1\n",
    "    # df1 <<- df %>% \n",
    "    # add_row(.before = i+1, !!!new_row)   \n",
    "        \n",
    "        \n",
    "        \n",
    "    \n",
    "   # first, establish a ratio to apply to variables in row 1, then allocate the variables\n",
    "       \n",
    "    # create the ratio\n",
    "    rat1 <<- numer / denom\n",
    "               \n",
    "    # apply ratio to variables in row 1\n",
    "    # cost var\n",
    "    c1 <- df[i, 'cost'] * rat1\n",
    "    df[i, 'cost'] <- c1  \n",
    "    #tally_c var\n",
    "    t_c <- df[i,'tally_c'] + c1\n",
    "    df[i, 'tally_c'] <- t_c\n",
    "    #proceeds var\n",
    "    p1 <- df[i, 'proceeds'] * rat1\n",
    "    df[i, 'proceeds'] <- p1\n",
    "    # t_q2 var\n",
    "    t_q2 <- df[i, 'tally_q2'] - adjusted_quantity\n",
    "    df[i, 'tally_q2'] <- t_q2\n",
    "    # t_c2 var\n",
    "    t_c2 <- df[i, 'tally_c2'] - c1\n",
    "    df[i, 'tally_c2'] <- t_c2\n",
    "        \n",
    "\n",
    "    # Insert the new row into the dataframe immediately below the current row\n",
    "    df <- df %>% \n",
    "    add_row(.before = i+1, !!!new_row)\n",
    "    ct <<- i+1  \n",
    "    # Insert the new row into df1\n",
    "    df1 <<- df %>% \n",
    "    add_row(.before = i+1, !!!new_row)\n",
    "\n",
    "#  PART 2\n",
    "        \n",
    "   # update the values in new row 2 \n",
    "        \n",
    "    # cost var\n",
    "    c2 <- df[ct, 'cost'] * rat1\n",
    "    df[ct, 'cost'] <- c2  \n",
    "    #tally_c var\n",
    "    t_c2 <- df[ct-1,'tally_c'] + c2\n",
    "    df[ct, 'tally_c'] <- t_c2\n",
    "    #proceeds var\n",
    "    p2 <- df[ct, 'proceeds'] * rat1\n",
    "    df[ct, 'proceeds'] <- p2\n",
    "      # t_q2 var\n",
    "    t_q22 <- df[ct-1, 'tally_q2'] - adjusted_quantity\n",
    "    df[ct, 'tally_q2'] <- t_q22\n",
    "    # t_c2 var\n",
    "    t_c22 <- df[i-1, 'tally_c2'] - c2\n",
    "    df[i, 'tally_c2'] <- t_c22 \n",
    "      \n",
    "     # build df1\n",
    "     df1 <<- rbind(df1, df[i,])\n",
    "\n",
    "  # Break the loop and move to the next test value\n",
    "  break\n",
    "    \n",
    "    }\n",
    "    \n",
    "  }\n",
    "     return(df)\n",
    "}\n"
   ]
  },
  {
   "cell_type": "code",
   "execution_count": null,
   "id": "52e9befd-a1f9-459d-a0d3-e4c35a4c2013",
   "metadata": {},
   "outputs": [],
   "source": []
  },
  {
   "cell_type": "code",
   "execution_count": null,
   "id": "eb27c46b-0bce-40d0-82b1-42aabfef0e01",
   "metadata": {},
   "outputs": [],
   "source": []
  },
  {
   "cell_type": "code",
   "execution_count": 56,
   "id": "9928d4a0-1de4-4f0c-a5c5-32bdb6270f20",
   "metadata": {},
   "outputs": [],
   "source": [
    "# First value from sales passed to fct \n",
    "test_value <- sales[1]"
   ]
  },
  {
   "cell_type": "code",
   "execution_count": 57,
   "id": "26a8d707-ae98-47cc-bbe4-39f4afe21e49",
   "metadata": {},
   "outputs": [],
   "source": [
    "df <- read.csv(\"TestAllocate.csv\", header = TRUE, sep = \",\")"
   ]
  },
  {
   "cell_type": "code",
   "execution_count": 58,
   "id": "3940886d-e9b8-4841-8122-9cb8640d59a2",
   "metadata": {},
   "outputs": [
    {
     "data": {
      "text/html": [
       "74"
      ],
      "text/latex": [
       "74"
      ],
      "text/markdown": [
       "74"
      ],
      "text/plain": [
       "[1] 74"
      ]
     },
     "metadata": {},
     "output_type": "display_data"
    },
    {
     "data": {
      "text/html": [
       "5"
      ],
      "text/latex": [
       "5"
      ],
      "text/markdown": [
       "5"
      ],
      "text/plain": [
       "[1] 5"
      ]
     },
     "metadata": {},
     "output_type": "display_data"
    },
    {
     "data": {
      "text/html": [
       "1"
      ],
      "text/latex": [
       "1"
      ],
      "text/markdown": [
       "1"
      ],
      "text/plain": [
       "[1] 1"
      ]
     },
     "metadata": {},
     "output_type": "display_data"
    },
    {
     "data": {
      "text/html": [
       "<table class=\"dataframe\">\n",
       "<caption>A data.frame: 6 × 10</caption>\n",
       "<thead>\n",
       "\t<tr><th></th><th scope=col>index</th><th scope=col>date</th><th scope=col>cost</th><th scope=col>quan</th><th scope=col>tally_q</th><th scope=col>tally_c</th><th scope=col>date_s</th><th scope=col>proceeds</th><th scope=col>tally_q2</th><th scope=col>tally_c2</th></tr>\n",
       "\t<tr><th></th><th scope=col>&lt;int&gt;</th><th scope=col>&lt;int&gt;</th><th scope=col>&lt;dbl&gt;</th><th scope=col>&lt;dbl&gt;</th><th scope=col>&lt;dbl&gt;</th><th scope=col>&lt;dbl&gt;</th><th scope=col>&lt;int&gt;</th><th scope=col>&lt;dbl&gt;</th><th scope=col>&lt;dbl&gt;</th><th scope=col>&lt;dbl&gt;</th></tr>\n",
       "</thead>\n",
       "<tbody>\n",
       "\t<tr><th scope=row>1</th><td>1</td><td>44988</td><td> 618.08</td><td>100</td><td> 100</td><td> 618.08</td><td>45079</td><td> 453.98</td><td>36850</td><td>206557.2</td></tr>\n",
       "\t<tr><th scope=row>2</th><td>2</td><td>44988</td><td>2422.31</td><td>400</td><td> 500</td><td>3040.39</td><td>45079</td><td>1815.93</td><td>36450</td><td>204134.9</td></tr>\n",
       "\t<tr><th scope=row>3</th><td>3</td><td>44988</td><td>2298.31</td><td>400</td><td> 900</td><td>5338.70</td><td>45079</td><td>1815.93</td><td>36050</td><td>201836.5</td></tr>\n",
       "\t<tr><th scope=row>4</th><td>4</td><td>44988</td><td> 605.17</td><td>100</td><td> 900</td><td>6549.04</td><td>45079</td><td> 453.98</td><td>35850</td><td>201231.4</td></tr>\n",
       "\t<tr><th scope=row>5</th><td>4</td><td>44988</td><td> 605.17</td><td>  0</td><td>1000</td><td>7154.21</td><td>45079</td><td> 453.98</td><td>35750</td><td>201231.4</td></tr>\n",
       "\t<tr><th scope=row>6</th><td>5</td><td>45043</td><td> 544.50</td><td>100</td><td>1100</td><td>6488.37</td><td>45079</td><td> 453.98</td><td>35850</td><td>200686.9</td></tr>\n",
       "</tbody>\n",
       "</table>\n"
      ],
      "text/latex": [
       "A data.frame: 6 × 10\n",
       "\\begin{tabular}{r|llllllllll}\n",
       "  & index & date & cost & quan & tally\\_q & tally\\_c & date\\_s & proceeds & tally\\_q2 & tally\\_c2\\\\\n",
       "  & <int> & <int> & <dbl> & <dbl> & <dbl> & <dbl> & <int> & <dbl> & <dbl> & <dbl>\\\\\n",
       "\\hline\n",
       "\t1 & 1 & 44988 &  618.08 & 100 &  100 &  618.08 & 45079 &  453.98 & 36850 & 206557.2\\\\\n",
       "\t2 & 2 & 44988 & 2422.31 & 400 &  500 & 3040.39 & 45079 & 1815.93 & 36450 & 204134.9\\\\\n",
       "\t3 & 3 & 44988 & 2298.31 & 400 &  900 & 5338.70 & 45079 & 1815.93 & 36050 & 201836.5\\\\\n",
       "\t4 & 4 & 44988 &  605.17 & 100 &  900 & 6549.04 & 45079 &  453.98 & 35850 & 201231.4\\\\\n",
       "\t5 & 4 & 44988 &  605.17 &   0 & 1000 & 7154.21 & 45079 &  453.98 & 35750 & 201231.4\\\\\n",
       "\t6 & 5 & 45043 &  544.50 & 100 & 1100 & 6488.37 & 45079 &  453.98 & 35850 & 200686.9\\\\\n",
       "\\end{tabular}\n"
      ],
      "text/markdown": [
       "\n",
       "A data.frame: 6 × 10\n",
       "\n",
       "| <!--/--> | index &lt;int&gt; | date &lt;int&gt; | cost &lt;dbl&gt; | quan &lt;dbl&gt; | tally_q &lt;dbl&gt; | tally_c &lt;dbl&gt; | date_s &lt;int&gt; | proceeds &lt;dbl&gt; | tally_q2 &lt;dbl&gt; | tally_c2 &lt;dbl&gt; |\n",
       "|---|---|---|---|---|---|---|---|---|---|---|\n",
       "| 1 | 1 | 44988 |  618.08 | 100 |  100 |  618.08 | 45079 |  453.98 | 36850 | 206557.2 |\n",
       "| 2 | 2 | 44988 | 2422.31 | 400 |  500 | 3040.39 | 45079 | 1815.93 | 36450 | 204134.9 |\n",
       "| 3 | 3 | 44988 | 2298.31 | 400 |  900 | 5338.70 | 45079 | 1815.93 | 36050 | 201836.5 |\n",
       "| 4 | 4 | 44988 |  605.17 | 100 |  900 | 6549.04 | 45079 |  453.98 | 35850 | 201231.4 |\n",
       "| 5 | 4 | 44988 |  605.17 |   0 | 1000 | 7154.21 | 45079 |  453.98 | 35750 | 201231.4 |\n",
       "| 6 | 5 | 45043 |  544.50 | 100 | 1100 | 6488.37 | 45079 |  453.98 | 35850 | 200686.9 |\n",
       "\n"
      ],
      "text/plain": [
       "  index date  cost    quan tally_q tally_c date_s proceeds tally_q2 tally_c2\n",
       "1 1     44988  618.08 100   100     618.08 45079   453.98  36850    206557.2\n",
       "2 2     44988 2422.31 400   500    3040.39 45079  1815.93  36450    204134.9\n",
       "3 3     44988 2298.31 400   900    5338.70 45079  1815.93  36050    201836.5\n",
       "4 4     44988  605.17 100   900    6549.04 45079   453.98  35850    201231.4\n",
       "5 4     44988  605.17   0  1000    7154.21 45079   453.98  35750    201231.4\n",
       "6 5     45043  544.50 100  1100    6488.37 45079   453.98  35850    200686.9"
      ]
     },
     "metadata": {},
     "output_type": "display_data"
    },
    {
     "data": {
      "text/html": [
       "74"
      ],
      "text/latex": [
       "74"
      ],
      "text/markdown": [
       "74"
      ],
      "text/plain": [
       "[1] 74"
      ]
     },
     "metadata": {},
     "output_type": "display_data"
    },
    {
     "name": "stdout",
     "output_type": "stream",
     "text": [
      "  index  date    cost quan tally_q tally_c date_s proceeds tally_q2 tally_c2\n",
      "1     1 44988  618.08  100     100  618.08  45079   453.98    36850 206557.2\n",
      "2     2 44988 2422.31  400     500 3040.39  45079  1815.93    36450 204134.9\n",
      "3     3 44988 2298.31  400     900 5338.70  45079  1815.93    36050 201836.5\n",
      "4     4 44988  605.17  100     900 5943.87  45079   453.98    35950 201231.4\n",
      "5     4 44988  605.17    0    1000 5943.87  45079   453.98    35950 201231.4\n"
     ]
    },
    {
     "data": {
      "text/html": [
       "5"
      ],
      "text/latex": [
       "5"
      ],
      "text/markdown": [
       "5"
      ],
      "text/plain": [
       "[1] 5"
      ]
     },
     "metadata": {},
     "output_type": "display_data"
    },
    {
     "data": {
      "text/html": [
       "<table class=\"dataframe\">\n",
       "<caption>A data.frame: 6 × 10</caption>\n",
       "<thead>\n",
       "\t<tr><th></th><th scope=col>index</th><th scope=col>date</th><th scope=col>cost</th><th scope=col>quan</th><th scope=col>tally_q</th><th scope=col>tally_c</th><th scope=col>date_s</th><th scope=col>proceeds</th><th scope=col>tally_q2</th><th scope=col>tally_c2</th></tr>\n",
       "\t<tr><th></th><th scope=col>&lt;int&gt;</th><th scope=col>&lt;int&gt;</th><th scope=col>&lt;dbl&gt;</th><th scope=col>&lt;int&gt;</th><th scope=col>&lt;int&gt;</th><th scope=col>&lt;dbl&gt;</th><th scope=col>&lt;int&gt;</th><th scope=col>&lt;dbl&gt;</th><th scope=col>&lt;int&gt;</th><th scope=col>&lt;dbl&gt;</th></tr>\n",
       "</thead>\n",
       "<tbody>\n",
       "\t<tr><th scope=row>5</th><td> 5</td><td>45043</td><td> 544.50</td><td>100</td><td>1100</td><td> 6488.37</td><td>45079</td><td> 453.98</td><td>35850</td><td>200686.9</td></tr>\n",
       "\t<tr><th scope=row>6</th><td> 6</td><td>44988</td><td> 562.53</td><td>100</td><td>1200</td><td> 7050.90</td><td>45076</td><td> 458.26</td><td>35750</td><td>200124.3</td></tr>\n",
       "\t<tr><th scope=row>7</th><td> 7</td><td>44988</td><td> 575.44</td><td>100</td><td>1300</td><td> 7626.34</td><td>45076</td><td> 458.26</td><td>35650</td><td>199548.9</td></tr>\n",
       "\t<tr><th scope=row>8</th><td> 8</td><td>44988</td><td>2251.76</td><td>400</td><td>1700</td><td> 9878.10</td><td>45076</td><td>1833.05</td><td>35250</td><td>197297.1</td></tr>\n",
       "\t<tr><th scope=row>9</th><td> 9</td><td>44988</td><td>2127.75</td><td>400</td><td>2100</td><td>12005.85</td><td>45076</td><td>1833.04</td><td>34850</td><td>195169.4</td></tr>\n",
       "\t<tr><th scope=row>10</th><td>10</td><td>44988</td><td> 846.81</td><td>190</td><td>4200</td><td>12852.66</td><td>45036</td><td> 941.41</td><td>34660</td><td>194322.6</td></tr>\n",
       "</tbody>\n",
       "</table>\n"
      ],
      "text/latex": [
       "A data.frame: 6 × 10\n",
       "\\begin{tabular}{r|llllllllll}\n",
       "  & index & date & cost & quan & tally\\_q & tally\\_c & date\\_s & proceeds & tally\\_q2 & tally\\_c2\\\\\n",
       "  & <int> & <int> & <dbl> & <int> & <int> & <dbl> & <int> & <dbl> & <int> & <dbl>\\\\\n",
       "\\hline\n",
       "\t5 &  5 & 45043 &  544.50 & 100 & 1100 &  6488.37 & 45079 &  453.98 & 35850 & 200686.9\\\\\n",
       "\t6 &  6 & 44988 &  562.53 & 100 & 1200 &  7050.90 & 45076 &  458.26 & 35750 & 200124.3\\\\\n",
       "\t7 &  7 & 44988 &  575.44 & 100 & 1300 &  7626.34 & 45076 &  458.26 & 35650 & 199548.9\\\\\n",
       "\t8 &  8 & 44988 & 2251.76 & 400 & 1700 &  9878.10 & 45076 & 1833.05 & 35250 & 197297.1\\\\\n",
       "\t9 &  9 & 44988 & 2127.75 & 400 & 2100 & 12005.85 & 45076 & 1833.04 & 34850 & 195169.4\\\\\n",
       "\t10 & 10 & 44988 &  846.81 & 190 & 4200 & 12852.66 & 45036 &  941.41 & 34660 & 194322.6\\\\\n",
       "\\end{tabular}\n"
      ],
      "text/markdown": [
       "\n",
       "A data.frame: 6 × 10\n",
       "\n",
       "| <!--/--> | index &lt;int&gt; | date &lt;int&gt; | cost &lt;dbl&gt; | quan &lt;int&gt; | tally_q &lt;int&gt; | tally_c &lt;dbl&gt; | date_s &lt;int&gt; | proceeds &lt;dbl&gt; | tally_q2 &lt;int&gt; | tally_c2 &lt;dbl&gt; |\n",
       "|---|---|---|---|---|---|---|---|---|---|---|\n",
       "| 5 |  5 | 45043 |  544.50 | 100 | 1100 |  6488.37 | 45079 |  453.98 | 35850 | 200686.9 |\n",
       "| 6 |  6 | 44988 |  562.53 | 100 | 1200 |  7050.90 | 45076 |  458.26 | 35750 | 200124.3 |\n",
       "| 7 |  7 | 44988 |  575.44 | 100 | 1300 |  7626.34 | 45076 |  458.26 | 35650 | 199548.9 |\n",
       "| 8 |  8 | 44988 | 2251.76 | 400 | 1700 |  9878.10 | 45076 | 1833.05 | 35250 | 197297.1 |\n",
       "| 9 |  9 | 44988 | 2127.75 | 400 | 2100 | 12005.85 | 45076 | 1833.04 | 34850 | 195169.4 |\n",
       "| 10 | 10 | 44988 |  846.81 | 190 | 4200 | 12852.66 | 45036 |  941.41 | 34660 | 194322.6 |\n",
       "\n"
      ],
      "text/plain": [
       "   index date  cost    quan tally_q tally_c  date_s proceeds tally_q2 tally_c2\n",
       "5   5    45043  544.50 100  1100     6488.37 45079   453.98  35850    200686.9\n",
       "6   6    44988  562.53 100  1200     7050.90 45076   458.26  35750    200124.3\n",
       "7   7    44988  575.44 100  1300     7626.34 45076   458.26  35650    199548.9\n",
       "8   8    44988 2251.76 400  1700     9878.10 45076  1833.05  35250    197297.1\n",
       "9   9    44988 2127.75 400  2100    12005.85 45076  1833.04  34850    195169.4\n",
       "10 10    44988  846.81 190  4200    12852.66 45036   941.41  34660    194322.6"
      ]
     },
     "metadata": {},
     "output_type": "display_data"
    },
    {
     "data": {
      "text/html": [
       "69"
      ],
      "text/latex": [
       "69"
      ],
      "text/markdown": [
       "69"
      ],
      "text/plain": [
       "[1] 69"
      ]
     },
     "metadata": {},
     "output_type": "display_data"
    },
    {
     "data": {
      "text/html": [
       "22"
      ],
      "text/latex": [
       "22"
      ],
      "text/markdown": [
       "22"
      ],
      "text/plain": [
       "[1] 22"
      ]
     },
     "metadata": {},
     "output_type": "display_data"
    }
   ],
   "source": [
    "# make fct call 1  (sales 1000)\n",
    "\n",
    "mod_df <<- inter(df, test_value, ct)\n",
    "nrow(mod_df)\n",
    "\n",
    "# show the returned ct value\n",
    "ct\n",
    "rownum <- ct\n",
    "rat1\n",
    "\n",
    "# create portions of the df\n",
    "df1a <- df1[1:ct, ]\n",
    "df <- df[ct:nrow(df), ]\n",
    "\n",
    "\n",
    "# print the modified df, and portions of the df\n",
    "head(mod_df)\n",
    "nrow(mod_df)\n",
    "\n",
    "print(df1a)  # This is good.\n",
    "nrow(df1a)\n",
    "\n",
    "head(df)  # this is good\n",
    "nrow(df)\n",
    "length(sales) # sale[] = 22 == 1000"
   ]
  },
  {
   "cell_type": "code",
   "execution_count": 59,
   "id": "9e94b41f-0eb5-490d-9019-114064b9f419",
   "metadata": {},
   "outputs": [
    {
     "data": {
      "text/html": [
       "5"
      ],
      "text/latex": [
       "5"
      ],
      "text/markdown": [
       "5"
      ],
      "text/plain": [
       "[1] 5"
      ]
     },
     "metadata": {},
     "output_type": "display_data"
    }
   ],
   "source": [
    "ct"
   ]
  },
  {
   "cell_type": "code",
   "execution_count": 60,
   "id": "abaa2c3a-20e5-492a-a59c-23330c642ab6",
   "metadata": {},
   "outputs": [
    {
     "data": {
      "text/html": [
       "70"
      ],
      "text/latex": [
       "70"
      ],
      "text/markdown": [
       "70"
      ],
      "text/plain": [
       "[1] 70"
      ]
     },
     "metadata": {},
     "output_type": "display_data"
    },
    {
     "data": {
      "text/html": [
       "6"
      ],
      "text/latex": [
       "6"
      ],
      "text/markdown": [
       "6"
      ],
      "text/plain": [
       "[1] 6"
      ]
     },
     "metadata": {},
     "output_type": "display_data"
    },
    {
     "data": {
      "text/html": [
       "0.75"
      ],
      "text/latex": [
       "0.75"
      ],
      "text/markdown": [
       "0.75"
      ],
      "text/plain": [
       "[1] 0.75"
      ]
     },
     "metadata": {},
     "output_type": "display_data"
    },
    {
     "data": {
      "text/html": [
       "<table class=\"dataframe\">\n",
       "<caption>A data.frame: 6 × 10</caption>\n",
       "<thead>\n",
       "\t<tr><th></th><th scope=col>index</th><th scope=col>date</th><th scope=col>cost</th><th scope=col>quan</th><th scope=col>tally_q</th><th scope=col>tally_c</th><th scope=col>date_s</th><th scope=col>proceeds</th><th scope=col>tally_q2</th><th scope=col>tally_c2</th></tr>\n",
       "\t<tr><th></th><th scope=col>&lt;int&gt;</th><th scope=col>&lt;int&gt;</th><th scope=col>&lt;dbl&gt;</th><th scope=col>&lt;dbl&gt;</th><th scope=col>&lt;dbl&gt;</th><th scope=col>&lt;dbl&gt;</th><th scope=col>&lt;int&gt;</th><th scope=col>&lt;dbl&gt;</th><th scope=col>&lt;dbl&gt;</th><th scope=col>&lt;dbl&gt;</th></tr>\n",
       "</thead>\n",
       "<tbody>\n",
       "\t<tr><th scope=row>1</th><td>5</td><td>45043</td><td> 544.500</td><td>100</td><td>1100</td><td> 6488.37</td><td>45079</td><td> 453.98</td><td>35850</td><td>200686.9</td></tr>\n",
       "\t<tr><th scope=row>2</th><td>6</td><td>44988</td><td> 562.530</td><td>100</td><td>1200</td><td> 7050.90</td><td>45076</td><td> 458.26</td><td>35750</td><td>200124.3</td></tr>\n",
       "\t<tr><th scope=row>3</th><td>7</td><td>44988</td><td> 575.440</td><td>100</td><td>1300</td><td> 7626.34</td><td>45076</td><td> 458.26</td><td>35650</td><td>199548.9</td></tr>\n",
       "\t<tr><th scope=row>4</th><td>8</td><td>44988</td><td>2251.760</td><td>400</td><td>1700</td><td> 9878.10</td><td>45076</td><td>1833.05</td><td>35250</td><td>197297.1</td></tr>\n",
       "\t<tr><th scope=row>5</th><td>9</td><td>44988</td><td>1595.812</td><td>300</td><td>1800</td><td>13601.66</td><td>45076</td><td>1374.78</td><td>34550</td><td>195701.3</td></tr>\n",
       "\t<tr><th scope=row>6</th><td>9</td><td>44988</td><td>1595.812</td><td>100</td><td>2100</td><td>15197.48</td><td>45076</td><td>1374.78</td><td>34250</td><td>195169.4</td></tr>\n",
       "</tbody>\n",
       "</table>\n"
      ],
      "text/latex": [
       "A data.frame: 6 × 10\n",
       "\\begin{tabular}{r|llllllllll}\n",
       "  & index & date & cost & quan & tally\\_q & tally\\_c & date\\_s & proceeds & tally\\_q2 & tally\\_c2\\\\\n",
       "  & <int> & <int> & <dbl> & <dbl> & <dbl> & <dbl> & <int> & <dbl> & <dbl> & <dbl>\\\\\n",
       "\\hline\n",
       "\t1 & 5 & 45043 &  544.500 & 100 & 1100 &  6488.37 & 45079 &  453.98 & 35850 & 200686.9\\\\\n",
       "\t2 & 6 & 44988 &  562.530 & 100 & 1200 &  7050.90 & 45076 &  458.26 & 35750 & 200124.3\\\\\n",
       "\t3 & 7 & 44988 &  575.440 & 100 & 1300 &  7626.34 & 45076 &  458.26 & 35650 & 199548.9\\\\\n",
       "\t4 & 8 & 44988 & 2251.760 & 400 & 1700 &  9878.10 & 45076 & 1833.05 & 35250 & 197297.1\\\\\n",
       "\t5 & 9 & 44988 & 1595.812 & 300 & 1800 & 13601.66 & 45076 & 1374.78 & 34550 & 195701.3\\\\\n",
       "\t6 & 9 & 44988 & 1595.812 & 100 & 2100 & 15197.48 & 45076 & 1374.78 & 34250 & 195169.4\\\\\n",
       "\\end{tabular}\n"
      ],
      "text/markdown": [
       "\n",
       "A data.frame: 6 × 10\n",
       "\n",
       "| <!--/--> | index &lt;int&gt; | date &lt;int&gt; | cost &lt;dbl&gt; | quan &lt;dbl&gt; | tally_q &lt;dbl&gt; | tally_c &lt;dbl&gt; | date_s &lt;int&gt; | proceeds &lt;dbl&gt; | tally_q2 &lt;dbl&gt; | tally_c2 &lt;dbl&gt; |\n",
       "|---|---|---|---|---|---|---|---|---|---|---|\n",
       "| 1 | 5 | 45043 |  544.500 | 100 | 1100 |  6488.37 | 45079 |  453.98 | 35850 | 200686.9 |\n",
       "| 2 | 6 | 44988 |  562.530 | 100 | 1200 |  7050.90 | 45076 |  458.26 | 35750 | 200124.3 |\n",
       "| 3 | 7 | 44988 |  575.440 | 100 | 1300 |  7626.34 | 45076 |  458.26 | 35650 | 199548.9 |\n",
       "| 4 | 8 | 44988 | 2251.760 | 400 | 1700 |  9878.10 | 45076 | 1833.05 | 35250 | 197297.1 |\n",
       "| 5 | 9 | 44988 | 1595.812 | 300 | 1800 | 13601.66 | 45076 | 1374.78 | 34550 | 195701.3 |\n",
       "| 6 | 9 | 44988 | 1595.812 | 100 | 2100 | 15197.48 | 45076 | 1374.78 | 34250 | 195169.4 |\n",
       "\n"
      ],
      "text/plain": [
       "  index date  cost     quan tally_q tally_c  date_s proceeds tally_q2 tally_c2\n",
       "1 5     45043  544.500 100  1100     6488.37 45079   453.98  35850    200686.9\n",
       "2 6     44988  562.530 100  1200     7050.90 45076   458.26  35750    200124.3\n",
       "3 7     44988  575.440 100  1300     7626.34 45076   458.26  35650    199548.9\n",
       "4 8     44988 2251.760 400  1700     9878.10 45076  1833.05  35250    197297.1\n",
       "5 9     44988 1595.812 300  1800    13601.66 45076  1374.78  34550    195701.3\n",
       "6 9     44988 1595.812 100  2100    15197.48 45076  1374.78  34250    195169.4"
      ]
     },
     "metadata": {},
     "output_type": "display_data"
    },
    {
     "data": {
      "text/html": [
       "70"
      ],
      "text/latex": [
       "70"
      ],
      "text/markdown": [
       "70"
      ],
      "text/plain": [
       "[1] 70"
      ]
     },
     "metadata": {},
     "output_type": "display_data"
    },
    {
     "name": "stdout",
     "output_type": "stream",
     "text": [
      "  index  date    cost quan tally_q  tally_c date_s proceeds tally_q2 tally_c2\n",
      "1     5 45043  544.50  100    1100  6488.37  45079   453.98    35850 200686.9\n",
      "2     6 44988  562.53  100    1200  7050.90  45076   458.26    35750 200124.3\n",
      "3     7 44988  575.44  100    1300  7626.34  45076   458.26    35650 199548.9\n",
      "4     8 44988 2251.76  400    1700  9878.10  45076  1833.05    35250 197297.1\n",
      "5     9 44988 2127.75  300    1800 12005.85  45076  1833.04    34850 195169.4\n",
      "6     9 44988 2127.75  100    2100 12005.85  45076  1833.04    34850 195169.4\n"
     ]
    },
    {
     "data": {
      "text/html": [
       "6"
      ],
      "text/latex": [
       "6"
      ],
      "text/markdown": [
       "6"
      ],
      "text/plain": [
       "[1] 6"
      ]
     },
     "metadata": {},
     "output_type": "display_data"
    },
    {
     "data": {
      "text/html": [
       "<table class=\"dataframe\">\n",
       "<caption>A data.frame: 6 × 10</caption>\n",
       "<thead>\n",
       "\t<tr><th></th><th scope=col>index</th><th scope=col>date</th><th scope=col>cost</th><th scope=col>quan</th><th scope=col>tally_q</th><th scope=col>tally_c</th><th scope=col>date_s</th><th scope=col>proceeds</th><th scope=col>tally_q2</th><th scope=col>tally_c2</th></tr>\n",
       "\t<tr><th></th><th scope=col>&lt;int&gt;</th><th scope=col>&lt;int&gt;</th><th scope=col>&lt;dbl&gt;</th><th scope=col>&lt;int&gt;</th><th scope=col>&lt;int&gt;</th><th scope=col>&lt;dbl&gt;</th><th scope=col>&lt;int&gt;</th><th scope=col>&lt;dbl&gt;</th><th scope=col>&lt;int&gt;</th><th scope=col>&lt;dbl&gt;</th></tr>\n",
       "</thead>\n",
       "<tbody>\n",
       "\t<tr><th scope=row>10</th><td>10</td><td>44988</td><td> 846.81</td><td> 190</td><td>4200</td><td>12852.66</td><td>45036</td><td> 941.41</td><td>34660</td><td>194322.6</td></tr>\n",
       "\t<tr><th scope=row>11</th><td>11</td><td>44988</td><td>4951.69</td><td>1000</td><td>3100</td><td>17804.35</td><td>45036</td><td>4914.81</td><td>33660</td><td>189370.9</td></tr>\n",
       "\t<tr><th scope=row>12</th><td>12</td><td>44988</td><td>3610.07</td><td> 810</td><td>3910</td><td>21414.42</td><td>45036</td><td>4005.29</td><td>32850</td><td>185760.8</td></tr>\n",
       "\t<tr><th scope=row>13</th><td>13</td><td>44988</td><td>4739.70</td><td>1000</td><td>5200</td><td>26154.12</td><td>45036</td><td>4989.21</td><td>31850</td><td>181021.1</td></tr>\n",
       "\t<tr><th scope=row>14</th><td>14</td><td>44988</td><td>4722.29</td><td>1000</td><td>6200</td><td>30876.41</td><td>45036</td><td>4989.22</td><td>30850</td><td>176298.8</td></tr>\n",
       "\t<tr><th scope=row>15</th><td>15</td><td>44988</td><td>2649.30</td><td> 500</td><td>8100</td><td>33525.71</td><td>45036</td><td>2494.61</td><td>30350</td><td>173649.5</td></tr>\n",
       "</tbody>\n",
       "</table>\n"
      ],
      "text/latex": [
       "A data.frame: 6 × 10\n",
       "\\begin{tabular}{r|llllllllll}\n",
       "  & index & date & cost & quan & tally\\_q & tally\\_c & date\\_s & proceeds & tally\\_q2 & tally\\_c2\\\\\n",
       "  & <int> & <int> & <dbl> & <int> & <int> & <dbl> & <int> & <dbl> & <int> & <dbl>\\\\\n",
       "\\hline\n",
       "\t10 & 10 & 44988 &  846.81 &  190 & 4200 & 12852.66 & 45036 &  941.41 & 34660 & 194322.6\\\\\n",
       "\t11 & 11 & 44988 & 4951.69 & 1000 & 3100 & 17804.35 & 45036 & 4914.81 & 33660 & 189370.9\\\\\n",
       "\t12 & 12 & 44988 & 3610.07 &  810 & 3910 & 21414.42 & 45036 & 4005.29 & 32850 & 185760.8\\\\\n",
       "\t13 & 13 & 44988 & 4739.70 & 1000 & 5200 & 26154.12 & 45036 & 4989.21 & 31850 & 181021.1\\\\\n",
       "\t14 & 14 & 44988 & 4722.29 & 1000 & 6200 & 30876.41 & 45036 & 4989.22 & 30850 & 176298.8\\\\\n",
       "\t15 & 15 & 44988 & 2649.30 &  500 & 8100 & 33525.71 & 45036 & 2494.61 & 30350 & 173649.5\\\\\n",
       "\\end{tabular}\n"
      ],
      "text/markdown": [
       "\n",
       "A data.frame: 6 × 10\n",
       "\n",
       "| <!--/--> | index &lt;int&gt; | date &lt;int&gt; | cost &lt;dbl&gt; | quan &lt;int&gt; | tally_q &lt;int&gt; | tally_c &lt;dbl&gt; | date_s &lt;int&gt; | proceeds &lt;dbl&gt; | tally_q2 &lt;int&gt; | tally_c2 &lt;dbl&gt; |\n",
       "|---|---|---|---|---|---|---|---|---|---|---|\n",
       "| 10 | 10 | 44988 |  846.81 |  190 | 4200 | 12852.66 | 45036 |  941.41 | 34660 | 194322.6 |\n",
       "| 11 | 11 | 44988 | 4951.69 | 1000 | 3100 | 17804.35 | 45036 | 4914.81 | 33660 | 189370.9 |\n",
       "| 12 | 12 | 44988 | 3610.07 |  810 | 3910 | 21414.42 | 45036 | 4005.29 | 32850 | 185760.8 |\n",
       "| 13 | 13 | 44988 | 4739.70 | 1000 | 5200 | 26154.12 | 45036 | 4989.21 | 31850 | 181021.1 |\n",
       "| 14 | 14 | 44988 | 4722.29 | 1000 | 6200 | 30876.41 | 45036 | 4989.22 | 30850 | 176298.8 |\n",
       "| 15 | 15 | 44988 | 2649.30 |  500 | 8100 | 33525.71 | 45036 | 2494.61 | 30350 | 173649.5 |\n",
       "\n"
      ],
      "text/plain": [
       "   index date  cost    quan tally_q tally_c  date_s proceeds tally_q2 tally_c2\n",
       "10 10    44988  846.81  190 4200    12852.66 45036   941.41  34660    194322.6\n",
       "11 11    44988 4951.69 1000 3100    17804.35 45036  4914.81  33660    189370.9\n",
       "12 12    44988 3610.07  810 3910    21414.42 45036  4005.29  32850    185760.8\n",
       "13 13    44988 4739.70 1000 5200    26154.12 45036  4989.21  31850    181021.1\n",
       "14 14    44988 4722.29 1000 6200    30876.41 45036  4989.22  30850    176298.8\n",
       "15 15    44988 2649.30  500 8100    33525.71 45036  2494.61  30350    173649.5"
      ]
     },
     "metadata": {},
     "output_type": "display_data"
    },
    {
     "data": {
      "text/html": [
       "64"
      ],
      "text/latex": [
       "64"
      ],
      "text/markdown": [
       "64"
      ],
      "text/plain": [
       "[1] 64"
      ]
     },
     "metadata": {},
     "output_type": "display_data"
    },
    {
     "data": {
      "text/html": [
       "21"
      ],
      "text/latex": [
       "21"
      ],
      "text/markdown": [
       "21"
      ],
      "text/plain": [
       "[1] 21"
      ]
     },
     "metadata": {},
     "output_type": "display_data"
    }
   ],
   "source": [
    "# make fct call 2  (sales 1000)\n",
    "\n",
    "# remove previous sale value from vector\n",
    "sales <- sales[2:length(sales)]\n",
    "# assign new sale value to test_value\n",
    "test_value <- sales[1]\n",
    "# zero ct\n",
    "ct <<- 0\n",
    "\n",
    "mod_df <<- inter(df, test_value, ct)\n",
    "nrow(mod_df)\n",
    "\n",
    "# show the returned ct value\n",
    "ct\n",
    "rownum <- ct\n",
    "rat1\n",
    "\n",
    "# create portions of the df\n",
    "df1a <- df1[1:ct, ]\n",
    "df <- df[ct:nrow(df), ]\n",
    "#sales <- sales[2:length(sales)]\n",
    "\n",
    "# print the modified df, and portions of the df\n",
    "head(mod_df)\n",
    "nrow(mod_df)\n",
    "\n",
    "print(df1a)\n",
    "nrow(df1a)\n",
    "\n",
    "head(df)\n",
    "nrow(df)\n",
    "length(sales)   # sale[] = 21"
   ]
  },
  {
   "cell_type": "code",
   "execution_count": 61,
   "id": "87f83f08-c13e-46cb-89bb-1f3278d1d75a",
   "metadata": {},
   "outputs": [
    {
     "data": {
      "text/html": [
       "21"
      ],
      "text/latex": [
       "21"
      ],
      "text/markdown": [
       "21"
      ],
      "text/plain": [
       "[1] 21"
      ]
     },
     "metadata": {},
     "output_type": "display_data"
    }
   ],
   "source": [
    "length(sales)"
   ]
  },
  {
   "cell_type": "code",
   "execution_count": 62,
   "id": "6fc45e44-c33c-42aa-8651-ba5953e1284b",
   "metadata": {},
   "outputs": [
    {
     "data": {
      "text/html": [
       "65"
      ],
      "text/latex": [
       "65"
      ],
      "text/markdown": [
       "65"
      ],
      "text/plain": [
       "[1] 65"
      ]
     },
     "metadata": {},
     "output_type": "display_data"
    },
    {
     "data": {
      "text/html": [
       "3"
      ],
      "text/latex": [
       "3"
      ],
      "text/markdown": [
       "3"
      ],
      "text/plain": [
       "[1] 3"
      ]
     },
     "metadata": {},
     "output_type": "display_data"
    },
    {
     "data": {
      "text/html": [
       "0.81"
      ],
      "text/latex": [
       "0.81"
      ],
      "text/markdown": [
       "0.81"
      ],
      "text/plain": [
       "[1] 0.81"
      ]
     },
     "metadata": {},
     "output_type": "display_data"
    },
    {
     "data": {
      "text/html": [
       "<table class=\"dataframe\">\n",
       "<caption>A data.frame: 6 × 10</caption>\n",
       "<thead>\n",
       "\t<tr><th></th><th scope=col>index</th><th scope=col>date</th><th scope=col>cost</th><th scope=col>quan</th><th scope=col>tally_q</th><th scope=col>tally_c</th><th scope=col>date_s</th><th scope=col>proceeds</th><th scope=col>tally_q2</th><th scope=col>tally_c2</th></tr>\n",
       "\t<tr><th></th><th scope=col>&lt;int&gt;</th><th scope=col>&lt;int&gt;</th><th scope=col>&lt;dbl&gt;</th><th scope=col>&lt;dbl&gt;</th><th scope=col>&lt;dbl&gt;</th><th scope=col>&lt;dbl&gt;</th><th scope=col>&lt;int&gt;</th><th scope=col>&lt;dbl&gt;</th><th scope=col>&lt;dbl&gt;</th><th scope=col>&lt;dbl&gt;</th></tr>\n",
       "</thead>\n",
       "<tbody>\n",
       "\t<tr><th scope=row>1</th><td>10</td><td>44988</td><td> 846.810</td><td> 190</td><td>4200</td><td>12852.66</td><td>45036</td><td> 941.410</td><td>34660</td><td>194322.6</td></tr>\n",
       "\t<tr><th scope=row>2</th><td>11</td><td>44988</td><td>4010.869</td><td> 810</td><td>2290</td><td>21815.22</td><td>45036</td><td>3980.996</td><td>32850</td><td>190311.7</td></tr>\n",
       "\t<tr><th scope=row>3</th><td>11</td><td>44988</td><td>4010.869</td><td> 190</td><td>3100</td><td>25826.09</td><td>45036</td><td>3980.996</td><td>32040</td><td>189370.9</td></tr>\n",
       "\t<tr><th scope=row>4</th><td>12</td><td>44988</td><td>3610.070</td><td> 810</td><td>3910</td><td>21414.42</td><td>45036</td><td>4005.290</td><td>32850</td><td>185760.8</td></tr>\n",
       "\t<tr><th scope=row>5</th><td>13</td><td>44988</td><td>4739.700</td><td>1000</td><td>5200</td><td>26154.12</td><td>45036</td><td>4989.210</td><td>31850</td><td>181021.1</td></tr>\n",
       "\t<tr><th scope=row>6</th><td>14</td><td>44988</td><td>4722.290</td><td>1000</td><td>6200</td><td>30876.41</td><td>45036</td><td>4989.220</td><td>30850</td><td>176298.8</td></tr>\n",
       "</tbody>\n",
       "</table>\n"
      ],
      "text/latex": [
       "A data.frame: 6 × 10\n",
       "\\begin{tabular}{r|llllllllll}\n",
       "  & index & date & cost & quan & tally\\_q & tally\\_c & date\\_s & proceeds & tally\\_q2 & tally\\_c2\\\\\n",
       "  & <int> & <int> & <dbl> & <dbl> & <dbl> & <dbl> & <int> & <dbl> & <dbl> & <dbl>\\\\\n",
       "\\hline\n",
       "\t1 & 10 & 44988 &  846.810 &  190 & 4200 & 12852.66 & 45036 &  941.410 & 34660 & 194322.6\\\\\n",
       "\t2 & 11 & 44988 & 4010.869 &  810 & 2290 & 21815.22 & 45036 & 3980.996 & 32850 & 190311.7\\\\\n",
       "\t3 & 11 & 44988 & 4010.869 &  190 & 3100 & 25826.09 & 45036 & 3980.996 & 32040 & 189370.9\\\\\n",
       "\t4 & 12 & 44988 & 3610.070 &  810 & 3910 & 21414.42 & 45036 & 4005.290 & 32850 & 185760.8\\\\\n",
       "\t5 & 13 & 44988 & 4739.700 & 1000 & 5200 & 26154.12 & 45036 & 4989.210 & 31850 & 181021.1\\\\\n",
       "\t6 & 14 & 44988 & 4722.290 & 1000 & 6200 & 30876.41 & 45036 & 4989.220 & 30850 & 176298.8\\\\\n",
       "\\end{tabular}\n"
      ],
      "text/markdown": [
       "\n",
       "A data.frame: 6 × 10\n",
       "\n",
       "| <!--/--> | index &lt;int&gt; | date &lt;int&gt; | cost &lt;dbl&gt; | quan &lt;dbl&gt; | tally_q &lt;dbl&gt; | tally_c &lt;dbl&gt; | date_s &lt;int&gt; | proceeds &lt;dbl&gt; | tally_q2 &lt;dbl&gt; | tally_c2 &lt;dbl&gt; |\n",
       "|---|---|---|---|---|---|---|---|---|---|---|\n",
       "| 1 | 10 | 44988 |  846.810 |  190 | 4200 | 12852.66 | 45036 |  941.410 | 34660 | 194322.6 |\n",
       "| 2 | 11 | 44988 | 4010.869 |  810 | 2290 | 21815.22 | 45036 | 3980.996 | 32850 | 190311.7 |\n",
       "| 3 | 11 | 44988 | 4010.869 |  190 | 3100 | 25826.09 | 45036 | 3980.996 | 32040 | 189370.9 |\n",
       "| 4 | 12 | 44988 | 3610.070 |  810 | 3910 | 21414.42 | 45036 | 4005.290 | 32850 | 185760.8 |\n",
       "| 5 | 13 | 44988 | 4739.700 | 1000 | 5200 | 26154.12 | 45036 | 4989.210 | 31850 | 181021.1 |\n",
       "| 6 | 14 | 44988 | 4722.290 | 1000 | 6200 | 30876.41 | 45036 | 4989.220 | 30850 | 176298.8 |\n",
       "\n"
      ],
      "text/plain": [
       "  index date  cost     quan tally_q tally_c  date_s proceeds tally_q2 tally_c2\n",
       "1 10    44988  846.810  190 4200    12852.66 45036   941.410 34660    194322.6\n",
       "2 11    44988 4010.869  810 2290    21815.22 45036  3980.996 32850    190311.7\n",
       "3 11    44988 4010.869  190 3100    25826.09 45036  3980.996 32040    189370.9\n",
       "4 12    44988 3610.070  810 3910    21414.42 45036  4005.290 32850    185760.8\n",
       "5 13    44988 4739.700 1000 5200    26154.12 45036  4989.210 31850    181021.1\n",
       "6 14    44988 4722.290 1000 6200    30876.41 45036  4989.220 30850    176298.8"
      ]
     },
     "metadata": {},
     "output_type": "display_data"
    },
    {
     "data": {
      "text/html": [
       "65"
      ],
      "text/latex": [
       "65"
      ],
      "text/markdown": [
       "65"
      ],
      "text/plain": [
       "[1] 65"
      ]
     },
     "metadata": {},
     "output_type": "display_data"
    },
    {
     "name": "stdout",
     "output_type": "stream",
     "text": [
      "  index  date    cost quan tally_q  tally_c date_s proceeds tally_q2 tally_c2\n",
      "1    10 44988  846.81  190    4200 12852.66  45036   941.41    34660 194322.6\n",
      "2    11 44988 4951.69  810    2290 17804.35  45036  4914.81    33660 189370.9\n",
      "3    11 44988 4951.69  190    3100 17804.35  45036  4914.81    33660 189370.9\n"
     ]
    },
    {
     "data": {
      "text/html": [
       "3"
      ],
      "text/latex": [
       "3"
      ],
      "text/markdown": [
       "3"
      ],
      "text/plain": [
       "[1] 3"
      ]
     },
     "metadata": {},
     "output_type": "display_data"
    },
    {
     "data": {
      "text/html": [
       "<table class=\"dataframe\">\n",
       "<caption>A data.frame: 6 × 10</caption>\n",
       "<thead>\n",
       "\t<tr><th></th><th scope=col>index</th><th scope=col>date</th><th scope=col>cost</th><th scope=col>quan</th><th scope=col>tally_q</th><th scope=col>tally_c</th><th scope=col>date_s</th><th scope=col>proceeds</th><th scope=col>tally_q2</th><th scope=col>tally_c2</th></tr>\n",
       "\t<tr><th></th><th scope=col>&lt;int&gt;</th><th scope=col>&lt;int&gt;</th><th scope=col>&lt;dbl&gt;</th><th scope=col>&lt;int&gt;</th><th scope=col>&lt;int&gt;</th><th scope=col>&lt;dbl&gt;</th><th scope=col>&lt;int&gt;</th><th scope=col>&lt;dbl&gt;</th><th scope=col>&lt;int&gt;</th><th scope=col>&lt;dbl&gt;</th></tr>\n",
       "</thead>\n",
       "<tbody>\n",
       "\t<tr><th scope=row>12</th><td>12</td><td>44988</td><td>3610.07</td><td> 810</td><td>3910</td><td>21414.42</td><td>45036</td><td>4005.29</td><td>32850</td><td>185760.8</td></tr>\n",
       "\t<tr><th scope=row>13</th><td>13</td><td>44988</td><td>4739.70</td><td>1000</td><td>5200</td><td>26154.12</td><td>45036</td><td>4989.21</td><td>31850</td><td>181021.1</td></tr>\n",
       "\t<tr><th scope=row>14</th><td>14</td><td>44988</td><td>4722.29</td><td>1000</td><td>6200</td><td>30876.41</td><td>45036</td><td>4989.22</td><td>30850</td><td>176298.8</td></tr>\n",
       "\t<tr><th scope=row>15</th><td>15</td><td>44988</td><td>2649.30</td><td> 500</td><td>8100</td><td>33525.71</td><td>45036</td><td>2494.61</td><td>30350</td><td>173649.5</td></tr>\n",
       "\t<tr><th scope=row>16</th><td>16</td><td>44988</td><td> 844.45</td><td> 190</td><td>6390</td><td>34370.16</td><td>45036</td><td> 944.26</td><td>30160</td><td>172805.1</td></tr>\n",
       "\t<tr><th scope=row>17</th><td>17</td><td>44988</td><td>3600.03</td><td> 810</td><td>7200</td><td>37970.19</td><td>45036</td><td>4013.40</td><td>29350</td><td>169205.0</td></tr>\n",
       "</tbody>\n",
       "</table>\n"
      ],
      "text/latex": [
       "A data.frame: 6 × 10\n",
       "\\begin{tabular}{r|llllllllll}\n",
       "  & index & date & cost & quan & tally\\_q & tally\\_c & date\\_s & proceeds & tally\\_q2 & tally\\_c2\\\\\n",
       "  & <int> & <int> & <dbl> & <int> & <int> & <dbl> & <int> & <dbl> & <int> & <dbl>\\\\\n",
       "\\hline\n",
       "\t12 & 12 & 44988 & 3610.07 &  810 & 3910 & 21414.42 & 45036 & 4005.29 & 32850 & 185760.8\\\\\n",
       "\t13 & 13 & 44988 & 4739.70 & 1000 & 5200 & 26154.12 & 45036 & 4989.21 & 31850 & 181021.1\\\\\n",
       "\t14 & 14 & 44988 & 4722.29 & 1000 & 6200 & 30876.41 & 45036 & 4989.22 & 30850 & 176298.8\\\\\n",
       "\t15 & 15 & 44988 & 2649.30 &  500 & 8100 & 33525.71 & 45036 & 2494.61 & 30350 & 173649.5\\\\\n",
       "\t16 & 16 & 44988 &  844.45 &  190 & 6390 & 34370.16 & 45036 &  944.26 & 30160 & 172805.1\\\\\n",
       "\t17 & 17 & 44988 & 3600.03 &  810 & 7200 & 37970.19 & 45036 & 4013.40 & 29350 & 169205.0\\\\\n",
       "\\end{tabular}\n"
      ],
      "text/markdown": [
       "\n",
       "A data.frame: 6 × 10\n",
       "\n",
       "| <!--/--> | index &lt;int&gt; | date &lt;int&gt; | cost &lt;dbl&gt; | quan &lt;int&gt; | tally_q &lt;int&gt; | tally_c &lt;dbl&gt; | date_s &lt;int&gt; | proceeds &lt;dbl&gt; | tally_q2 &lt;int&gt; | tally_c2 &lt;dbl&gt; |\n",
       "|---|---|---|---|---|---|---|---|---|---|---|\n",
       "| 12 | 12 | 44988 | 3610.07 |  810 | 3910 | 21414.42 | 45036 | 4005.29 | 32850 | 185760.8 |\n",
       "| 13 | 13 | 44988 | 4739.70 | 1000 | 5200 | 26154.12 | 45036 | 4989.21 | 31850 | 181021.1 |\n",
       "| 14 | 14 | 44988 | 4722.29 | 1000 | 6200 | 30876.41 | 45036 | 4989.22 | 30850 | 176298.8 |\n",
       "| 15 | 15 | 44988 | 2649.30 |  500 | 8100 | 33525.71 | 45036 | 2494.61 | 30350 | 173649.5 |\n",
       "| 16 | 16 | 44988 |  844.45 |  190 | 6390 | 34370.16 | 45036 |  944.26 | 30160 | 172805.1 |\n",
       "| 17 | 17 | 44988 | 3600.03 |  810 | 7200 | 37970.19 | 45036 | 4013.40 | 29350 | 169205.0 |\n",
       "\n"
      ],
      "text/plain": [
       "   index date  cost    quan tally_q tally_c  date_s proceeds tally_q2 tally_c2\n",
       "12 12    44988 3610.07  810 3910    21414.42 45036  4005.29  32850    185760.8\n",
       "13 13    44988 4739.70 1000 5200    26154.12 45036  4989.21  31850    181021.1\n",
       "14 14    44988 4722.29 1000 6200    30876.41 45036  4989.22  30850    176298.8\n",
       "15 15    44988 2649.30  500 8100    33525.71 45036  2494.61  30350    173649.5\n",
       "16 16    44988  844.45  190 6390    34370.16 45036   944.26  30160    172805.1\n",
       "17 17    44988 3600.03  810 7200    37970.19 45036  4013.40  29350    169205.0"
      ]
     },
     "metadata": {},
     "output_type": "display_data"
    },
    {
     "data": {
      "text/html": [
       "62"
      ],
      "text/latex": [
       "62"
      ],
      "text/markdown": [
       "62"
      ],
      "text/plain": [
       "[1] 62"
      ]
     },
     "metadata": {},
     "output_type": "display_data"
    },
    {
     "data": {
      "text/html": [
       "20"
      ],
      "text/latex": [
       "20"
      ],
      "text/markdown": [
       "20"
      ],
      "text/plain": [
       "[1] 20"
      ]
     },
     "metadata": {},
     "output_type": "display_data"
    }
   ],
   "source": [
    "# make fct call 3 (sales 1000)\n",
    "\n",
    "# remove previous sale value from vector\n",
    "sales <- sales[2:length(sales)]\n",
    "# assign new sale value to test_value\n",
    "test_value <- sales[1]\n",
    "# zero ct\n",
    "ct <<- 0\n",
    "\n",
    "mod_df <<- inter(df, test_value, ct)\n",
    "nrow(mod_df)\n",
    "\n",
    "# show the returned ct value\n",
    "ct\n",
    "rownum <- ct\n",
    "rat1\n",
    "\n",
    "# create portions of the df\n",
    "df1a <- df1[1:ct, ]\n",
    "df <- df[ct:nrow(df), ]\n",
    "#sales <- sales[2:length(sales)]\n",
    "\n",
    "# print the modified df, and portions of the df\n",
    "head(mod_df)\n",
    "nrow(mod_df)\n",
    "\n",
    "print(df1a)\n",
    "nrow(df1a)\n",
    "\n",
    "head(df)\n",
    "nrow(df)\n",
    "length(sales)  #  sale[] = 20"
   ]
  },
  {
   "cell_type": "code",
   "execution_count": null,
   "id": "96f5e1b8-dddd-4293-a4b5-7e6f545d8c2e",
   "metadata": {},
   "outputs": [],
   "source": []
  },
  {
   "cell_type": "code",
   "execution_count": 63,
   "id": "9e550f24-c834-4060-b257-f2b132e8a893",
   "metadata": {},
   "outputs": [
    {
     "ename": "ERROR",
     "evalue": "Error in x[[jj]][iseq] <- vjj: replacement has length zero\n",
     "output_type": "error",
     "traceback": [
      "Error in x[[jj]][iseq] <- vjj: replacement has length zero\nTraceback:\n",
      "1. inter(df, test_value, ct)",
      "2. `[<-`(`*tmp*`, i, \"tally_c2\", value = numeric(0))   # at line 104 of file <text>",
      "3. `[<-.data.frame`(`*tmp*`, i, \"tally_c2\", value = numeric(0))   # at line 104 of file <text>"
     ]
    }
   ],
   "source": [
    "# make fct call 4 (sales 100)\n",
    "\n",
    "# remove previous sale value from vector\n",
    "sales <- sales[2:length(sales)]\n",
    "# assign new sale value to test_value\n",
    "test_value <- sales[1]\n",
    "# zero ct\n",
    "ct <<- 0\n",
    "\n",
    "mod_df <<- inter(df, test_value, ct)\n",
    "nrow(mod_df)\n",
    "\n",
    "# show the returned ct value\n",
    "ct\n",
    "rownum <- ct\n",
    "rat1\n",
    "\n",
    "# create portions of the df\n",
    "df1a <- df1[1:ct, ]\n",
    "df <- df[ct:nrow(df), ]\n",
    "#sales <- sales[2:length(sales)]\n",
    "\n",
    "# print the modified df, and portions of the df\n",
    "head(mod_df)\n",
    "nrow(mod_df)\n",
    "\n",
    "print(df1a)\n",
    "nrow(df1a)\n",
    "\n",
    "head(df)\n",
    "nrow(df)\n",
    "length(sales)  # sale[] = 19"
   ]
  },
  {
   "cell_type": "code",
   "execution_count": null,
   "id": "206afc56-634a-4fe8-83cb-06d74d2181d5",
   "metadata": {},
   "outputs": [],
   "source": []
  },
  {
   "cell_type": "code",
   "execution_count": null,
   "id": "86c32194-b505-42c8-9a8f-db79c6c6eddf",
   "metadata": {},
   "outputs": [],
   "source": []
  },
  {
   "cell_type": "code",
   "execution_count": null,
   "id": "4099539e-9bdc-487a-a662-c5b7c04080d0",
   "metadata": {},
   "outputs": [],
   "source": [
    "stopper"
   ]
  },
  {
   "cell_type": "markdown",
   "id": "9e79be06-b571-439a-bb91-9a57110059ac",
   "metadata": {},
   "source": [
    "### <font color = yellow> Early practive below"
   ]
  },
  {
   "cell_type": "code",
   "execution_count": null,
   "id": "fa3ea8cb-25d2-46cd-bc9a-6ab9f16b4c79",
   "metadata": {},
   "outputs": [],
   "source": [
    "# Another issue with exceeding the index\n",
    "\n",
    "df <- data.frame(quan = c(1,2,3,4,5,6,7,8,9,10))\n",
    "vec <- c(6, 15, 28)\n",
    "\n",
    "# Initialize variables\n",
    "start_index <- 1\n",
    "vec_index <- 1\n",
    "\n",
    "# Loop over the vector values\n",
    "for (target in vec) {\n",
    "  # Initialize sum\n",
    "  sum_quan <- 0\n",
    "  \n",
    "  # Loop over the dataframe rows\n",
    "  for (i in start_index:nrow(df)) {\n",
    "    # Add the current 'quan' value to the sum\n",
    "    sum_quan <- sum_quan + df$quan[i]\n",
    "    \n",
    "    # Check if the sum exceeds the current target value\n",
    "    if (sum_quan > target) {\n",
    "      # Calculate the excess value\n",
    "      excess <- sum_quan - target\n",
    "      \n",
    "      # Adjust the 'quan' value in the current row\n",
    "      df$quan[i] <- df$quan[i] - excess\n",
    "      \n",
    "      # Create a new row with the excess value\n",
    "      new_row <- df[i, ]\n",
    "      new_row$quan <- excess\n",
    "      df <- rbind(df[1:i, ], new_row, df[(i+1):nrow(df), ])\n",
    "      \n",
    "      # Do some code here\n",
    "      print(paste(\"Match found for target\", target, \"at row\", i))\n",
    "      \n",
    "      # Update the start index for the next loop\n",
    "      start_index <- i + 1\n",
    "      \n",
    "      # Break the loop as the target is reached\n",
    "      break\n",
    "        \n",
    "    } else if (sum_quan == target) {\n",
    "      # Do some code here\n",
    "      print(paste(\"Match found for target\", target, \"at row\", i))\n",
    "      \n",
    "      # Update the start index for the next loop\n",
    "      start_index <- i + 1\n",
    "      \n",
    "      # Break the loop as the target is reached\n",
    "      break\n",
    "    }\n",
    "  }\n",
    "}\n",
    "\n",
    "df"
   ]
  },
  {
   "cell_type": "code",
   "execution_count": null,
   "id": "d17f5f20-4136-49d9-9089-f735fded5b2a",
   "metadata": {},
   "outputs": [],
   "source": []
  },
  {
   "cell_type": "code",
   "execution_count": null,
   "id": "aa52c474-6290-4068-bbdc-8bcf7083328e",
   "metadata": {},
   "outputs": [],
   "source": [
    "# Assuming df is your dataframe and vec is your vector\n",
    "df <- data.frame(quan = c(1,2,3,4,5,6,7,8,9,10), col2 = letters[1:10], col3 = LETTERS[1:10])\n",
    "vec <- c(6, 15, 28)\n",
    "\n",
    "# Initialize variables\n",
    "start_index <- 1\n",
    "vec_index <- 1\n",
    "\n",
    "# Loop over the vector values\n",
    "for (target in vec) {\n",
    "  # Initialize sum\n",
    "  sum_quan <- 0\n",
    "  \n",
    "  # Loop over the dataframe rows\n",
    "  for (i in start_index:nrow(df)) {\n",
    "    # Add the current 'quan' value to the sum\n",
    "    sum_quan <- sum_quan + df$quan[i]\n",
    "    \n",
    "    # Check if the sum exceeds the current target value\n",
    "    if (sum_quan > target) {\n",
    "      # Calculate the excess value\n",
    "      excess <- sum_quan - target\n",
    "      \n",
    "      # Adjust the 'quan' value in the current row\n",
    "      df$quan[i] <- df$quan[i] - excess\n",
    "      \n",
    "      # Create a new row with the excess value\n",
    "      new_row <- df[i, ]\n",
    "      new_row$quan <- excess\n",
    "      df <- rbind(df[1:i, ], new_row, df[(i+1):nrow(df), ])\n",
    "      \n",
    "      # Do some code here\n",
    "      print(paste(\"Match found for target\", target, \"at row\", i))\n",
    "      \n",
    "      # Update the start index for the next loop\n",
    "      start_index <- i + 2\n",
    "      \n",
    "      # Break the loop as the target is reached\n",
    "      break\n",
    "    } else if (sum_quan == target) {\n",
    "      # Do some code here\n",
    "      print(paste(\"Match found for target\", target, \"at row\", i))\n",
    "      \n",
    "      # Update the start index for the next loop\n",
    "      start_index <- i + 1\n",
    "      \n",
    "      # Break the loop as the target is reached\n",
    "      break\n",
    "    }\n",
    "  }\n",
    "}"
   ]
  },
  {
   "cell_type": "code",
   "execution_count": null,
   "id": "e3c75a77-f4a9-4b23-a9af-6e12da7c043d",
   "metadata": {},
   "outputs": [],
   "source": []
  },
  {
   "cell_type": "code",
   "execution_count": null,
   "id": "d3c7023a-ba2e-49d1-995f-7ae64eb7fe71",
   "metadata": {},
   "outputs": [],
   "source": []
  },
  {
   "cell_type": "code",
   "execution_count": null,
   "id": "15690165-b8b7-4814-9abe-598cfc845a52",
   "metadata": {},
   "outputs": [],
   "source": []
  },
  {
   "cell_type": "code",
   "execution_count": null,
   "id": "7e80d3d4-80e6-4e4d-9fdd-c3aaa50c5ef8",
   "metadata": {},
   "outputs": [],
   "source": [
    "# Demonstrates targeting ... but exceeding the index value again\n",
    "\n",
    "vec <- c(1000,1000,1000,100,900,3000,6000,1000,1850,3000,3000,500,\n",
    "           2000,3000,500,2000,810,1000,190,3000,1000,1100)\n",
    "\n",
    "df <- read.csv(\"TestAllocate.csv\", header = TRUE, sep = \",\")\n",
    "\n",
    "\n",
    "# Initialize variables\n",
    "start_index <- 1\n",
    "vec_index <- 1\n",
    "\n",
    "# Create an empty dataframe to store the matches\n",
    "matches <- data.frame()\n",
    "\n",
    "# Loop over the vector values\n",
    "for (target in vec) {\n",
    "  # Initialize sum\n",
    "  sum_quan <- 0\n",
    "  \n",
    "  # Loop over the dataframe rows\n",
    "  for (i in start_index:nrow(df)) {\n",
    "    # Add the current 'quan' value to the sum\n",
    "    sum_quan <- sum_quan + df$quan[i]\n",
    "    \n",
    "    # Check if the sum exceeds the current target value\n",
    "    if (sum_quan > target) {\n",
    "      # Calculate the excess value\n",
    "      excess <- sum_quan - target\n",
    "      \n",
    "      # Adjust the 'quan' value in the current row\n",
    "      df$quan[i] <- df$quan[i] - excess\n",
    "      \n",
    "      # Add the current row to the matches dataframe\n",
    "      matches <- rbind(matches, df[i, ])\n",
    "      \n",
    "      # Add a new row with the excess value to the matches dataframe\n",
    "      matches <- rbind(matches, c(excess, df$col2[i], df$col3[i]))\n",
    "      \n",
    "      # Do some code here\n",
    "      print(paste(\"Match found for target\", target, \"at row\", i))\n",
    "      \n",
    "      # Update the start index for the next loop\n",
    "      start_index <- i + 1\n",
    "      \n",
    "      # Break the loop as the target is reached\n",
    "      break\n",
    "        \n",
    "    } else if (sum_quan == target) {\n",
    "      # Add the current row to the matches dataframe\n",
    "      matches <- rbind(matches, df[i, ])\n",
    "      \n",
    "      # Do some code here\n",
    "      print(paste(\"Match found for target\", target, \"at row\", i))\n",
    "      \n",
    "      # Update the start index for the next loop\n",
    "      start_index <- i + 1\n",
    "      \n",
    "      # Break the loop as the target is reached\n",
    "      break\n",
    "    }\n",
    "  }\n",
    "}\n",
    "matches"
   ]
  },
  {
   "cell_type": "code",
   "execution_count": null,
   "id": "cb16ca06-ba0a-4622-bdcd-281d6ec2d6f1",
   "metadata": {},
   "outputs": [],
   "source": []
  },
  {
   "cell_type": "code",
   "execution_count": null,
   "id": "2840a52a-5450-4c07-bbdf-1632a87e3561",
   "metadata": {},
   "outputs": [],
   "source": [
    "# Assuming df is your dataframe and vec is your vector\n",
    "df <- data.frame(quan = c(1,2,3,4,5,6,7,8,9,10), col2 = letters[1:10], col3 = LETTERS[1:10])\n",
    "vec <- c(6, 14, 28)\n",
    "\n",
    "# Initialize variables\n",
    "start_index <- 1\n",
    "vec_index <- 1\n",
    "\n",
    "# Create an empty dataframe to store the matches\n",
    "matches <- data.frame()\n",
    "\n",
    "# Loop over the vector values\n",
    "for (target in vec) {\n",
    "  # Initialize sum\n",
    "  sum_quan <- 0\n",
    "  \n",
    "  # Loop over the dataframe rows\n",
    "  for (i in start_index:nrow(df)) {\n",
    "    # Add the current 'quan' value to the sum\n",
    "    sum_quan <- sum_quan + df$quan[i]\n",
    "    \n",
    "    # Check if the sum exceeds the current target value\n",
    "    if (sum_quan > target) {\n",
    "      # Calculate the excess value\n",
    "      excess <- sum_quan - target\n",
    "      \n",
    "      # Adjust the 'quan' value in the current row\n",
    "      df$quan[i] <- df$quan[i] - excess\n",
    "      \n",
    "      # Add the current row to the matches dataframe\n",
    "      matches <- rbind(matches, df[i, ])\n",
    "      \n",
    "      # Add a new row with the excess value to the matches dataframe\n",
    "      matches <- rbind(matches, c(excess, df$col2[i], df$col3[i]))\n",
    "      \n",
    "      # Do some code here\n",
    "      print(paste(\"Match found for target\", target, \"at row\", i))\n",
    "      \n",
    "      # Update the start index for the next loop\n",
    "      start_index <- i + 1\n",
    "      \n",
    "      # Break the loop as the target is reached\n",
    "      break\n",
    "    } else if (sum_quan == target) {\n",
    "      # Add the current row to the matches dataframe\n",
    "      matches <- rbind(matches, df[i, ])\n",
    "      \n",
    "      # Do some code here\n",
    "      print(paste(\"Match found for target\", target, \"at row\", i))\n",
    "      \n",
    "      # Update the start index for the next loop\n",
    "      start_index <- i + 1\n",
    "      \n",
    "      # Break the loop as the target is reached\n",
    "      break\n",
    "    }\n",
    "  }\n",
    "}\n",
    "matches"
   ]
  },
  {
   "cell_type": "code",
   "execution_count": null,
   "id": "7cfec26d-06e0-453d-9fc0-abc87db659b4",
   "metadata": {},
   "outputs": [],
   "source": []
  },
  {
   "cell_type": "code",
   "execution_count": null,
   "id": "42d5dee6-4ec3-4715-ac07-02405dd14a20",
   "metadata": {},
   "outputs": [],
   "source": []
  },
  {
   "cell_type": "code",
   "execution_count": null,
   "id": "e65afd21-d230-4d90-98ed-102a33f2a1dc",
   "metadata": {},
   "outputs": [],
   "source": []
  },
  {
   "cell_type": "code",
   "execution_count": null,
   "id": "a6646649-29d9-4c32-b363-53fea991357b",
   "metadata": {},
   "outputs": [],
   "source": [
    "f <- function(x) x + 1\n",
    "str(f)\n",
    "('--------------------------------------------')\n",
    "result <- f(60)                                   # Current age\n",
    "result\n",
    "('--------------------------------------------')\n",
    "str(result)\n",
    "\n",
    "print(f)"
   ]
  },
  {
   "cell_type": "code",
   "execution_count": null,
   "id": "a9e507ab-7ed7-408c-bab9-ce089562f9dc",
   "metadata": {},
   "outputs": [],
   "source": []
  }
 ],
 "metadata": {
  "kernelspec": {
   "display_name": "R",
   "language": "R",
   "name": "ir"
  },
  "language_info": {
   "codemirror_mode": "r",
   "file_extension": ".r",
   "mimetype": "text/x-r-source",
   "name": "R",
   "pygments_lexer": "r",
   "version": "4.3.0"
  }
 },
 "nbformat": 4,
 "nbformat_minor": 5
}
