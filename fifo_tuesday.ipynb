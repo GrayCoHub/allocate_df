{
 "cells": [
  {
   "cell_type": "code",
   "execution_count": 1,
   "id": "7eae93d3-a034-4e3c-8c55-f97b76fe6f28",
   "metadata": {},
   "outputs": [],
   "source": [
    "library(tibble)"
   ]
  },
  {
   "cell_type": "code",
   "execution_count": null,
   "id": "58b24a42-a610-4736-9e5c-bfa532a21b33",
   "metadata": {},
   "outputs": [],
   "source": []
  },
  {
   "cell_type": "code",
   "execution_count": 2,
   "id": "4c22875b-f0e0-4818-900c-36a8597a5b8c",
   "metadata": {},
   "outputs": [],
   "source": [
    "create_df <- function() {\n",
    "    df <- read.csv(\"fifo_new.csv\", header = TRUE, sep = \",\")\n",
    "    df$sale <- as.integer(df$sale)\n",
    "    df$date <- as.Date(df$date, origin = \"1899-12-30\")\n",
    "    df$true_false <- FALSE\n",
    "  \n",
    "    return(df)   # needed to return all the changes made to df\n",
    "    }\n",
    "# df <- create_df()  # fct call"
   ]
  },
  {
   "cell_type": "code",
   "execution_count": 3,
   "id": "8f16195c-5547-411d-8a58-d811797872dc",
   "metadata": {},
   "outputs": [],
   "source": [
    "# to be called when needing to review the current value of variables assigned main when: ( for loop = i )\n",
    "\n",
    "check_var_values <- function() {\n",
    "    \n",
    "     cat(\"\\n\", \"Welcome to the check_var_values function(), these values change in main by for-loop(i)  \", \"\\n\")\n",
    "     \n",
    "    # Check the values of the primary variables defined and being passed from main\n",
    "       \n",
    "     df <- df\n",
    "    \n",
    "    cat(\"\\n\", \"Value of i is: \",  i,\"\\n\\n\") \n",
    "    cat(\"Value of index_row (i) is: \",  index_row,\"\\n\") \n",
    "    cat(\"check_var_value fct.  Checking exising values: buy_quan, sell_quan : \",buy_quan , \"\\t\", sell_quan, \"\\n\")    \n",
    "    cat(\"check_var_value fct.  Checking exising values: buy_index, sell_index : \", buy_index, \"\\t\", sell_index, \"\\n\")   \n",
    "    cat(\"check_var_value fct.  Checking exising values: buy_pps, sell_pps: \", buy_pps, \"\\t\", sell_pps, \"\\n\")    \n",
    "    cat(\"check_var_value fct.  Checking exising values: cost_basis, sell_proceeds: \", cost_basis, \"\\t\", sell_proceeds, \"\\n\") \n",
    "    cat(\"check_var_value fct.  Checking exising values: profit / loss : \", profit_loss,\"\\n\\n\") \n",
    "    # cat(\"\\n\\t\", \"In the flip fct.  Checking exising values:             : \",     , \"\\t\",         , \"\\n\") \n",
    "  \n",
    "    cat( \"std assignment block \", \n",
    "            \"\n",
    "            df[i, 'type'] <- \n",
    "            df[i, 'co'] <- \n",
    "            df[i, 'quan'] <- \n",
    "            df[i, 'pps'] <-\n",
    "            df[i, 'basis'] <- \n",
    "            df[i, 'sale_quan'] <- \n",
    "            df[i, 'tally'] <- \n",
    "            df[i, 'cf_quan'] <- \n",
    "            df[i, 'cf_pps'] <-  \n",
    "            df[i, 'sell_quan'] <-  \n",
    "            df[i, 'sell_pps'] <- \n",
    "            df[i, 'profit_loss'] <- \n",
    "            df[i, 'sale'] <- \n",
    "            df[i, 'true_false'] <-  \",\n",
    "        \"\\n\")\n",
    "        \n",
    " \n",
    "    }"
   ]
  },
  {
   "cell_type": "code",
   "execution_count": 4,
   "id": "14133ffe-5983-435e-b8f3-e848e8aba82f",
   "metadata": {},
   "outputs": [],
   "source": [
    "# The fct will find the next Buy row from the current loop i value\n",
    "\n",
    "\n",
    "find_next_buysell <- function(find_row) {\n",
    "\n",
    "    next_buy_row <- find_row + 1     # add 1 to test the next row \n",
    "    \n",
    "# find the next Buy row.  \n",
    "    cat(\"Cat: find_next_buysell fct ().  The value passed into this fct, find_now, is: \", next_buy_row, \"\\n\",\n",
    "        \"    which is i + 1. While the main loop number i remains: \", i, \"\\n\")\n",
    "    \n",
    "   \n",
    "    for (j in next_buy_row:nrow(df)) {\n",
    "        next_buy_row <- j\n",
    "        \n",
    "        cat(\"\\t\\t\", \"This row following i, is: \", j, \"\\n\")\n",
    "        if (df[j, \"type\"] == \"Buy\") {\n",
    "           # cat(\"The next Buy row is: \", j, \"\\n\")\n",
    "            break\n",
    "           # next_buy_row <- j\n",
    "           }          \n",
    "        }\n",
    "         #cat(\"The next row following current row, \", i, \", which is a Buy row is: \", next_buy_row, \"\\n\")\n",
    "        return(next_buy_row) \n",
    "\n",
    "    }  # fct\n",
    "\n",
    "\n",
    "# next_buy_row <- find_next_buysell(i)\n",
    "# cat(\"\\n\", \"The value returned from the next_buy_row function() is: \", next_buy_row, \"\\n\")\n"
   ]
  },
  {
   "cell_type": "code",
   "execution_count": 5,
   "id": "b435f563-19bd-4643-906c-301f312c79ba",
   "metadata": {},
   "outputs": [],
   "source": [
    "# This fct called from the main\n",
    "# When the next two rows in df are: Sell / Buy, this fct flip those rows to Buy / Sell\n",
    "# then sends the modified df back to buy_sell_steer.\n",
    "\n",
    "\n",
    "flip <- function(df) {\n",
    "    \n",
    "    df <- df \n",
    "    switch <- 1\n",
    "    \n",
    "    cat(\"\\n\", \"Msg 1 from flip function().  Initial order of (i and i +1). \", i, \"\\t\", i+1, \"\\n\")\n",
    "    \n",
    "  \n",
    "    # temp_row_sell <- df[i, ]\n",
    "    temp_row_buy <- df[i+1, ]\n",
    "    \n",
    "    df <- add_row(df, temp_row_buy, .before = i)  # paste buy before sell\n",
    "    df <- df[-(i+2), ]     # remove the origial buy \n",
    "    \n",
    "    if(switch > 0) {\n",
    "        df$true_false[i] <- TRUE\n",
    "        }\n",
    "    \n",
    "    cat(\"Msg 2 from flip function().  Changed order of (i and i +1). \", i, \"\\t\", i+1, \"\\n\")\n",
    "    cat(\"Msg 3 from flip function().  The T/F was changed in this fct. \", \"\\n\") \n",
    "        \n",
    "    if(df[i, 'true_false']) {\n",
    "        cat(\"This msg A. Only prints when this row's switching var is true \", \"\\n\")\n",
    "        } else  {\n",
    "        cat(\"This msg B. Only prints when this row's swithing var is false \", \"\\n\")\n",
    "        }\n",
    "            \n",
    "   \n",
    "     \n",
    "   # Return the modified df to the main \n",
    "                 \n",
    "    return(df)\n",
    "    }\n",
    "        "
   ]
  },
  {
   "cell_type": "code",
   "execution_count": null,
   "id": "7a93581e-d742-4495-a1ce-9d7937eb4741",
   "metadata": {},
   "outputs": [],
   "source": []
  },
  {
   "cell_type": "code",
   "execution_count": 6,
   "id": "0a547459-1058-4079-bee9-51ee85a4efce",
   "metadata": {},
   "outputs": [],
   "source": [
    "# call from buy-sell-steer, t/f the rows s/b in buy/sell/buy arangement\n",
    "\n",
    "buy_sell_advanced <- function(df) { \n",
    "    \n",
    "\n",
    "    cat(\"\\n\\t\\t\", \"Cat msg 1 from buy_sell_advanced function (). \", \"\\n\")\n",
    "    \n",
    "    cat(\"\\t\\t\", \"Cat msg 2 from the buy_sell_advanced function(). This fct is for c/f events. The i value is: \", i , \"\\n\")\n",
    "    \n",
    "    cat(\"\\t\\t\", \"Cat msg 3 from buy_sell_advanced (). Check for Buy/Sell/Buy.  \", df[i, 'type'], \"\\t\", df[i+1, 'type'], \"\\t\", df[i+2, 'type'], \"\\n\")\n",
    "    \n",
    "    return(df)\n",
    "    \n",
    "    \n",
    "    \n",
    "    \n",
    "    }"
   ]
  },
  {
   "cell_type": "code",
   "execution_count": 7,
   "id": "73b8478f-7f63-446e-97ef-aa0e7e5f31e4",
   "metadata": {},
   "outputs": [],
   "source": [
    "# check_var_values ()"
   ]
  },
  {
   "cell_type": "code",
   "execution_count": 8,
   "id": "32db48c1-1674-4174-8a42-e935ccd39c19",
   "metadata": {},
   "outputs": [],
   "source": [
    "# When Buy row is <= Sell row (may c/f of sell )\n",
    "\n",
    "buy_sell_easy1 <- function(df) {\n",
    "    \n",
    "    df <- df\n",
    "\n",
    "    cat(\"\\n\", \"Welcome to the buy_sell_easy1 function().  Will tranact when Buy <= Sell \", \"\\n\")\n",
    "\n",
    "   \n",
    "    # test for type of sale tranaction\n",
    "        if (abs(sell_quan) == buy_quan) {\n",
    "            cat(\"This will be a simple wash sale with no c/f\", \"\\n\")\n",
    "            \n",
    "            # std block\n",
    "            \n",
    "            df[i, 'type'] <- 'BUY'\n",
    "            df[i, 'co'] <-  'Sold'\n",
    "        #   df[i, 'quan'] <- \n",
    "        #   df[i, 'pps'] <-\n",
    "        #   df[i, 'basis'] <- \n",
    "            df[i, 'sale_quan'] <- sell_quan\n",
    "        #   df[i, 'tally'] <- \n",
    "        #   df[i, 'cf_quan'] <- \n",
    "        #   df[i, 'cf_pps'] <-  \n",
    "            df[i, 'sell_quan'] <- sell_quan  \n",
    "            df[i, 'sell_pps'] <- sell_pps\n",
    "            df[i, 'profit_loss'] <- profit_loss\n",
    "        #   df[i, 'sale'] <- \n",
    "            df[i, 'true_false'] <-  \"TRUE\"            \n",
    "            return (df)\n",
    "        } else if (buy_quan < sell_quan ) {\n",
    "            cat(\"This is almost a simple wash sale.  All this Buy is gone, and a portion \n",
    "                of the next Buy gets used ... if there is a next Buy. \", \"\\n\")\n",
    "         # top half (below) will remove the buy quan   \n",
    "            \n",
    "            df[i, 'type'] <- 'BUY'\n",
    "            df[i, 'co'] <-  'Sold'\n",
    "        #   df[i, 'quan'] <- \n",
    "        #   df[i, 'pps'] <-\n",
    "        #   df[i, 'basis'] <- \n",
    "            df[i, 'sale_quan'] <- sell_quan\n",
    "        #   df[i, 'tally'] <- \n",
    "           df[i, 'cf_quan'] <-   buy_quan - sell_quan\n",
    "           df[i, 'cf_pps'] <-  buy_pps\n",
    "           df[i, 'sell_quan'] <- sell_quan  \n",
    "           df[i, 'sell_pps'] <- sell_pps\n",
    "           df[i, 'profit_loss'] <- profit_loss\n",
    "        #   df[i, 'sale'] <- \n",
    "            df[i, 'true_false'] <-  \"TRUE\"\n",
    "        }\n",
    "    \n",
    "     #  The bottom half (below) will remove the extra Sell quan from the next Buy row\n",
    "     #  When possible, deduct the remaining sale quan from the i+1 Buy row and be done\n",
    "     #  When the i+1 row is a Buy,  Just allocate.   \n",
    "        if(df[i+1, 'type'] == \"Buy\") {\n",
    "                # do the allocation work here\n",
    "            return(df)   # done deal\n",
    "            \n",
    "     # But if the next row (i+1) is NOT a Buy row, then find the Buy row\n",
    "     # Use the find_next_buy function () to locate the next Buy row\n",
    "     # Then ..... for tommorrow\n",
    "            \n",
    "        } else if (df[i+1, 'type'] != \"Buy\") {\n",
    "          find_next_buysell(i)       #  # fct call and deal with it \n",
    "        return(df)\n",
    "        }\n",
    "               #    return (df)\n",
    "   } # end fct\n"
   ]
  },
  {
   "cell_type": "code",
   "execution_count": 9,
   "id": "0f350044-5cbe-434f-8292-339602de413b",
   "metadata": {},
   "outputs": [],
   "source": [
    "# buy_sell_easy1(df)"
   ]
  },
  {
   "cell_type": "code",
   "execution_count": 10,
   "id": "6099155e-0d56-411e-baeb-55c36423edc2",
   "metadata": {},
   "outputs": [],
   "source": [
    "# This fct functions as primary ATC when the next 2 rows ( i and i + 1 ) are Buy / Sell\n",
    "#  Uses if conditional to determine whether the transaction will be easy or advanced\n",
    "\n",
    "buy_sell_steer <- function(df) {\n",
    "\n",
    "     if( df[i, 'quan'] <= df[i+1, 'quan'] ) {\n",
    "        cat(\"\\n\", \"In buy_sell_steer.  This is an easy sale.  Will fct call the buy_sell_easy1 function() \", \"\\n\") \n",
    "        df <- buy_sell_easy1(df)\n",
    "        return(df)\n",
    "         \n",
    "        } else if(df[i, 'quan'] > df[i+1, 'quan']) {\n",
    "             cat(\"\\n\", \"In buy_sell_steer.  This is an advanced sale - HAS C/F. Will fct call the buy_sell_advanced function () \", \"\\n\") \n",
    "             df <- buy_sell_advanced(df)\n",
    "             return(df)\n",
    "         }\n",
    "         \n",
    "}\n",
    "\n",
    "    \n"
   ]
  },
  {
   "cell_type": "markdown",
   "id": "252fad64-7bad-4b15-aebe-2ac3ce8a2722",
   "metadata": {},
   "source": [
    "## <font color = yellow> Main\n",
    "    "
   ]
  },
  {
   "cell_type": "code",
   "execution_count": 11,
   "id": "5a6b3ee3-713e-43fc-a96a-769b4fdb39bc",
   "metadata": {},
   "outputs": [
    {
     "name": "stdout",
     "output_type": "stream",
     "text": [
      "\n",
      " Loop row number is:  1 \n",
      "\n",
      " In buy_sell_steer.  This is an advanced sale - HAS C/F. Will fct call the buy_sell_advanced function ()  \n",
      "\n",
      "\t\t Cat msg 1 from buy_sell_advanced function ().  \n",
      "\t\t Cat msg 2 from the buy_sell_advanced function(). This fct is for c/f events. The i value is:  1 \n",
      "\t\t Cat msg 3 from buy_sell_advanced (). Check for Buy/Sell/Buy.   Buy \t Sell \t Buy \n",
      "\n",
      " Loop row number is:  2 \n",
      "\n",
      " Msg 1 from flip function().  Initial order of (i and i +1).  2 \t 3 \n",
      "Msg 2 from flip function().  Changed order of (i and i +1).  2 \t 3 \n",
      "Msg 3 from flip function().  The T/F was changed in this fct.  \n",
      "This msg A. Only prints when this row's switching var is true  \n"
     ]
    }
   ],
   "source": [
    "#  Move down the df from row to row \n",
    "\n",
    "df_test<- data.frame()\n",
    "df_sales <- data.frame()\n",
    "\n",
    "df <- create_df()\n",
    "\n",
    "\n",
    "\n",
    "for(i in 1:nrow(df[1:2,])) {   # hold to 6 itertions\n",
    " \n",
    "     cat(\"\\n\", \"Loop row number is: \", i, \"\\n\")\n",
    "    \n",
    "    # define variables / common use names\n",
    "    index_row <- i\n",
    "    buy_quan <- df[i, 'quan']\n",
    "    sell_quan <- df[i+1, 'quan']           \n",
    "    buy_index <- df[i, 'index']\n",
    "    sell_index <- df[i+1, 'index']\n",
    "    buy_pps <- df[i, 'pps']\n",
    "    sell_pps <- df[i +1, 'pps']        \n",
    "    cost_basis <- buy_pps * sell_quan\n",
    "    sell_proceeds <- sell_pps * sell_quan        \n",
    "    profit_loss <- sell_proceeds - cost_basis\n",
    "\n",
    "    \n",
    "    # normal structure for processing - including the carryforward\n",
    "    if(df[i, 'type'] == \"Buy\" && df[i+1, 'type'] == \"Sell\" && df[i+2, 'type'] == \"Buy\") {\n",
    "        \n",
    "        df <- buy_sell_steer(df)\n",
    "        \n",
    "        \n",
    "   }else if(df[i, 'type'] == \"Sell\" && df[i+1, 'type'] == \"Buy\") {\n",
    "        # fct call \n",
    "        df <- flip(df)\n",
    "        \n",
    "        if(df[i, 'type'] == \"Buy\" && df[i+1, 'type'] == \"Sell\" && df[i+2, 'type'] == \"Buy\") {\n",
    "            #This type of Buy/Sell/Buy works after the flip\n",
    "            # fct call \n",
    "            df <- buy_sell_steer(df)\n",
    "            }\n",
    "    } else if (df[i, 'type'] == \"Buy\" && df[i+1, 'type'] != \"Sell\") {\n",
    "            # Special cases and the end of the rows in df\n",
    "            # fct call\n",
    "    } else if(df[i, 'type'] == \"Buy\" && df[i+1, 'type'] == \"buy\" && df[i+2, 'type' == \"Buy\"]) {\n",
    "       \n",
    "    find_row <- 0\n",
    "     \n",
    "    # fct call\n",
    "    found_row <- find_next_buysell(find_row)\n",
    "        \n",
    "    # Next, determine whoat to do with the found_row number \n",
    "    \n",
    "    \n",
    "    } # for\n",
    "       \n",
    " }  # fct      \n",
    "        \n",
    "    "
   ]
  },
  {
   "cell_type": "code",
   "execution_count": null,
   "id": "e4ae48e1-d0a1-4d07-b056-6ee4c030ebb4",
   "metadata": {},
   "outputs": [],
   "source": []
  },
  {
   "cell_type": "code",
   "execution_count": null,
   "id": "347a421b-d78f-4cdc-b053-09ba46794173",
   "metadata": {},
   "outputs": [],
   "source": []
  },
  {
   "cell_type": "code",
   "execution_count": 12,
   "id": "8c52e820-39aa-4c6a-9114-f9d7cbc25b5b",
   "metadata": {},
   "outputs": [
    {
     "data": {
      "text/html": [
       "0"
      ],
      "text/latex": [
       "0"
      ],
      "text/markdown": [
       "0"
      ],
      "text/plain": [
       "[1] 0"
      ]
     },
     "metadata": {},
     "output_type": "display_data"
    },
    {
     "data": {
      "text/html": [
       "1000"
      ],
      "text/latex": [
       "1000"
      ],
      "text/markdown": [
       "1000"
      ],
      "text/plain": [
       "[1] 1000"
      ]
     },
     "metadata": {},
     "output_type": "display_data"
    },
    {
     "data": {
      "text/html": [
       "1000"
      ],
      "text/latex": [
       "1000"
      ],
      "text/markdown": [
       "1000"
      ],
      "text/plain": [
       "[1] 1000"
      ]
     },
     "metadata": {},
     "output_type": "display_data"
    }
   ],
   "source": [
    "  carryforward_quan <- buy_quan - sell_quan\n",
    "carryforward_quan\n",
    "buy_quan\n",
    "sell_quan\n"
   ]
  },
  {
   "cell_type": "code",
   "execution_count": 13,
   "id": "fbbb62dd-ea07-4506-926e-095248d8d3d9",
   "metadata": {},
   "outputs": [
    {
     "data": {
      "text/html": [
       "FALSE"
      ],
      "text/latex": [
       "FALSE"
      ],
      "text/markdown": [
       "FALSE"
      ],
      "text/plain": [
       "[1] FALSE"
      ]
     },
     "metadata": {},
     "output_type": "display_data"
    },
    {
     "data": {
      "text/html": [
       "<table class=\"dataframe\">\n",
       "<caption>A data.frame: 10 × 16</caption>\n",
       "<thead>\n",
       "\t<tr><th></th><th scope=col>index</th><th scope=col>date</th><th scope=col>type</th><th scope=col>co</th><th scope=col>quan</th><th scope=col>pps</th><th scope=col>basis</th><th scope=col>sale_quan</th><th scope=col>tally</th><th scope=col>cf_quan</th><th scope=col>cf_pps</th><th scope=col>sell_quan</th><th scope=col>sell_pps</th><th scope=col>profit_loss</th><th scope=col>sale</th><th scope=col>true_false</th></tr>\n",
       "\t<tr><th></th><th scope=col>&lt;int&gt;</th><th scope=col>&lt;date&gt;</th><th scope=col>&lt;chr&gt;</th><th scope=col>&lt;chr&gt;</th><th scope=col>&lt;int&gt;</th><th scope=col>&lt;dbl&gt;</th><th scope=col>&lt;dbl&gt;</th><th scope=col>&lt;int&gt;</th><th scope=col>&lt;dbl&gt;</th><th scope=col>&lt;int&gt;</th><th scope=col>&lt;dbl&gt;</th><th scope=col>&lt;int&gt;</th><th scope=col>&lt;dbl&gt;</th><th scope=col>&lt;int&gt;</th><th scope=col>&lt;int&gt;</th><th scope=col>&lt;lgl&gt;</th></tr>\n",
       "</thead>\n",
       "<tbody>\n",
       "\t<tr><th scope=row>1</th><td> 1</td><td>2022-12-31</td><td>Buy </td><td>AMC</td><td>1050</td><td>4.07000</td><td> 4273.50</td><td>0</td><td>0</td><td>0</td><td>0</td><td>0</td><td>0</td><td>0</td><td>0</td><td>FALSE</td></tr>\n",
       "\t<tr><th scope=row>2</th><td> 3</td><td>2023-01-20</td><td>Buy </td><td>AMC</td><td>1000</td><td>5.62500</td><td> 5625.00</td><td>0</td><td>0</td><td>0</td><td>0</td><td>0</td><td>0</td><td>0</td><td>0</td><td> TRUE</td></tr>\n",
       "\t<tr><th scope=row>3</th><td> 2</td><td>2023-01-27</td><td>Sell</td><td>AMC</td><td>1000</td><td>5.51240</td><td> 5512.40</td><td>0</td><td>0</td><td>0</td><td>0</td><td>0</td><td>0</td><td>0</td><td>0</td><td>FALSE</td></tr>\n",
       "\t<tr><th scope=row>5</th><td> 4</td><td>2023-02-03</td><td>Sell</td><td>AMC</td><td>1000</td><td>6.68255</td><td> 6682.55</td><td>0</td><td>0</td><td>0</td><td>0</td><td>0</td><td>0</td><td>0</td><td>0</td><td>FALSE</td></tr>\n",
       "\t<tr><th scope=row>6</th><td> 5</td><td>2023-01-23</td><td>Buy </td><td>AMC</td><td>1000</td><td>5.78800</td><td> 5788.00</td><td>0</td><td>0</td><td>0</td><td>0</td><td>0</td><td>0</td><td>0</td><td>0</td><td>FALSE</td></tr>\n",
       "\t<tr><th scope=row>7</th><td> 6</td><td>2023-02-03</td><td>Sell</td><td>AMC</td><td>1000</td><td>6.25500</td><td> 6255.00</td><td>0</td><td>0</td><td>0</td><td>0</td><td>0</td><td>0</td><td>0</td><td>0</td><td>FALSE</td></tr>\n",
       "\t<tr><th scope=row>8</th><td> 7</td><td>2023-01-27</td><td>Buy </td><td>AMC</td><td>2000</td><td>5.23940</td><td>10478.80</td><td>0</td><td>0</td><td>0</td><td>0</td><td>0</td><td>0</td><td>0</td><td>0</td><td>FALSE</td></tr>\n",
       "\t<tr><th scope=row>9</th><td> 8</td><td>2023-02-03</td><td>Sell</td><td>AMC</td><td>1000</td><td>6.19010</td><td> 6190.10</td><td>0</td><td>0</td><td>0</td><td>0</td><td>0</td><td>0</td><td>0</td><td>0</td><td>FALSE</td></tr>\n",
       "\t<tr><th scope=row>10</th><td> 9</td><td>2023-02-10</td><td>Buy </td><td>AMC</td><td>2000</td><td>4.74500</td><td> 9490.00</td><td>0</td><td>0</td><td>0</td><td>0</td><td>0</td><td>0</td><td>0</td><td>0</td><td>FALSE</td></tr>\n",
       "\t<tr><th scope=row>11</th><td>10</td><td>2023-02-21</td><td>Sell</td><td>AMC</td><td>3000</td><td>5.85500</td><td>17565.00</td><td>0</td><td>0</td><td>0</td><td>0</td><td>0</td><td>0</td><td>0</td><td>0</td><td>FALSE</td></tr>\n",
       "</tbody>\n",
       "</table>\n"
      ],
      "text/latex": [
       "A data.frame: 10 × 16\n",
       "\\begin{tabular}{r|llllllllllllllll}\n",
       "  & index & date & type & co & quan & pps & basis & sale\\_quan & tally & cf\\_quan & cf\\_pps & sell\\_quan & sell\\_pps & profit\\_loss & sale & true\\_false\\\\\n",
       "  & <int> & <date> & <chr> & <chr> & <int> & <dbl> & <dbl> & <int> & <dbl> & <int> & <dbl> & <int> & <dbl> & <int> & <int> & <lgl>\\\\\n",
       "\\hline\n",
       "\t1 &  1 & 2022-12-31 & Buy  & AMC & 1050 & 4.07000 &  4273.50 & 0 & 0 & 0 & 0 & 0 & 0 & 0 & 0 & FALSE\\\\\n",
       "\t2 &  3 & 2023-01-20 & Buy  & AMC & 1000 & 5.62500 &  5625.00 & 0 & 0 & 0 & 0 & 0 & 0 & 0 & 0 &  TRUE\\\\\n",
       "\t3 &  2 & 2023-01-27 & Sell & AMC & 1000 & 5.51240 &  5512.40 & 0 & 0 & 0 & 0 & 0 & 0 & 0 & 0 & FALSE\\\\\n",
       "\t5 &  4 & 2023-02-03 & Sell & AMC & 1000 & 6.68255 &  6682.55 & 0 & 0 & 0 & 0 & 0 & 0 & 0 & 0 & FALSE\\\\\n",
       "\t6 &  5 & 2023-01-23 & Buy  & AMC & 1000 & 5.78800 &  5788.00 & 0 & 0 & 0 & 0 & 0 & 0 & 0 & 0 & FALSE\\\\\n",
       "\t7 &  6 & 2023-02-03 & Sell & AMC & 1000 & 6.25500 &  6255.00 & 0 & 0 & 0 & 0 & 0 & 0 & 0 & 0 & FALSE\\\\\n",
       "\t8 &  7 & 2023-01-27 & Buy  & AMC & 2000 & 5.23940 & 10478.80 & 0 & 0 & 0 & 0 & 0 & 0 & 0 & 0 & FALSE\\\\\n",
       "\t9 &  8 & 2023-02-03 & Sell & AMC & 1000 & 6.19010 &  6190.10 & 0 & 0 & 0 & 0 & 0 & 0 & 0 & 0 & FALSE\\\\\n",
       "\t10 &  9 & 2023-02-10 & Buy  & AMC & 2000 & 4.74500 &  9490.00 & 0 & 0 & 0 & 0 & 0 & 0 & 0 & 0 & FALSE\\\\\n",
       "\t11 & 10 & 2023-02-21 & Sell & AMC & 3000 & 5.85500 & 17565.00 & 0 & 0 & 0 & 0 & 0 & 0 & 0 & 0 & FALSE\\\\\n",
       "\\end{tabular}\n"
      ],
      "text/markdown": [
       "\n",
       "A data.frame: 10 × 16\n",
       "\n",
       "| <!--/--> | index &lt;int&gt; | date &lt;date&gt; | type &lt;chr&gt; | co &lt;chr&gt; | quan &lt;int&gt; | pps &lt;dbl&gt; | basis &lt;dbl&gt; | sale_quan &lt;int&gt; | tally &lt;dbl&gt; | cf_quan &lt;int&gt; | cf_pps &lt;dbl&gt; | sell_quan &lt;int&gt; | sell_pps &lt;dbl&gt; | profit_loss &lt;int&gt; | sale &lt;int&gt; | true_false &lt;lgl&gt; |\n",
       "|---|---|---|---|---|---|---|---|---|---|---|---|---|---|---|---|---|\n",
       "| 1 |  1 | 2022-12-31 | Buy  | AMC | 1050 | 4.07000 |  4273.50 | 0 | 0 | 0 | 0 | 0 | 0 | 0 | 0 | FALSE |\n",
       "| 2 |  3 | 2023-01-20 | Buy  | AMC | 1000 | 5.62500 |  5625.00 | 0 | 0 | 0 | 0 | 0 | 0 | 0 | 0 |  TRUE |\n",
       "| 3 |  2 | 2023-01-27 | Sell | AMC | 1000 | 5.51240 |  5512.40 | 0 | 0 | 0 | 0 | 0 | 0 | 0 | 0 | FALSE |\n",
       "| 5 |  4 | 2023-02-03 | Sell | AMC | 1000 | 6.68255 |  6682.55 | 0 | 0 | 0 | 0 | 0 | 0 | 0 | 0 | FALSE |\n",
       "| 6 |  5 | 2023-01-23 | Buy  | AMC | 1000 | 5.78800 |  5788.00 | 0 | 0 | 0 | 0 | 0 | 0 | 0 | 0 | FALSE |\n",
       "| 7 |  6 | 2023-02-03 | Sell | AMC | 1000 | 6.25500 |  6255.00 | 0 | 0 | 0 | 0 | 0 | 0 | 0 | 0 | FALSE |\n",
       "| 8 |  7 | 2023-01-27 | Buy  | AMC | 2000 | 5.23940 | 10478.80 | 0 | 0 | 0 | 0 | 0 | 0 | 0 | 0 | FALSE |\n",
       "| 9 |  8 | 2023-02-03 | Sell | AMC | 1000 | 6.19010 |  6190.10 | 0 | 0 | 0 | 0 | 0 | 0 | 0 | 0 | FALSE |\n",
       "| 10 |  9 | 2023-02-10 | Buy  | AMC | 2000 | 4.74500 |  9490.00 | 0 | 0 | 0 | 0 | 0 | 0 | 0 | 0 | FALSE |\n",
       "| 11 | 10 | 2023-02-21 | Sell | AMC | 3000 | 5.85500 | 17565.00 | 0 | 0 | 0 | 0 | 0 | 0 | 0 | 0 | FALSE |\n",
       "\n"
      ],
      "text/plain": [
       "   index date       type co  quan pps     basis    sale_quan tally cf_quan\n",
       "1   1    2022-12-31 Buy  AMC 1050 4.07000  4273.50 0         0     0      \n",
       "2   3    2023-01-20 Buy  AMC 1000 5.62500  5625.00 0         0     0      \n",
       "3   2    2023-01-27 Sell AMC 1000 5.51240  5512.40 0         0     0      \n",
       "5   4    2023-02-03 Sell AMC 1000 6.68255  6682.55 0         0     0      \n",
       "6   5    2023-01-23 Buy  AMC 1000 5.78800  5788.00 0         0     0      \n",
       "7   6    2023-02-03 Sell AMC 1000 6.25500  6255.00 0         0     0      \n",
       "8   7    2023-01-27 Buy  AMC 2000 5.23940 10478.80 0         0     0      \n",
       "9   8    2023-02-03 Sell AMC 1000 6.19010  6190.10 0         0     0      \n",
       "10  9    2023-02-10 Buy  AMC 2000 4.74500  9490.00 0         0     0      \n",
       "11 10    2023-02-21 Sell AMC 3000 5.85500 17565.00 0         0     0      \n",
       "   cf_pps sell_quan sell_pps profit_loss sale true_false\n",
       "1  0      0         0        0           0    FALSE     \n",
       "2  0      0         0        0           0     TRUE     \n",
       "3  0      0         0        0           0    FALSE     \n",
       "5  0      0         0        0           0    FALSE     \n",
       "6  0      0         0        0           0    FALSE     \n",
       "7  0      0         0        0           0    FALSE     \n",
       "8  0      0         0        0           0    FALSE     \n",
       "9  0      0         0        0           0    FALSE     \n",
       "10 0      0         0        0           0    FALSE     \n",
       "11 0      0         0        0           0    FALSE     "
      ]
     },
     "metadata": {},
     "output_type": "display_data"
    }
   ],
   "source": [
    "\n",
    "df$true_false[2] != TRUE\n",
    "head(df, 10)"
   ]
  }
 ],
 "metadata": {
  "kernelspec": {
   "display_name": "R",
   "language": "R",
   "name": "ir"
  },
  "language_info": {
   "codemirror_mode": "r",
   "file_extension": ".r",
   "mimetype": "text/x-r-source",
   "name": "R",
   "pygments_lexer": "r",
   "version": "4.3.0"
  }
 },
 "nbformat": 4,
 "nbformat_minor": 5
}
